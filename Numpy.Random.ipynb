{
 "cells": [
  {
   "cell_type": "markdown",
   "metadata": {},
   "source": [
    "# David Markham\n",
    "# An Investigation into the Numpy.Random Package.\n",
    "![title](NumpyImage.jpg) Source(APMonitor.com)"
   ]
  },
  {
   "cell_type": "markdown",
   "metadata": {},
   "source": [
    "## Numpy.Random package.\n",
    "#### Below we will discover how to use the Numpy.Random package, broken into four different topics:\n",
    "\n",
    "1.Explain the overall purpose of the package\n",
    "\n",
    "2.Explain the use of the “Simple random data” and “Permutations” functions\n",
    "\n",
    "3.Explain the use and purpose of at least five “Distributions” functions.\n",
    "\n",
    "4.Explain the use of seeds in generating pseudorandom numbers.\n",
    "\n",
    "## 1. Explain the overall purpose of the package\n",
    "Creates random numbers and arrays. Whenever you want to generate an array of random numbers you need to use numpy.random, which has multiple functions. These functions generate the random n-dimensional array/arrays for various distributions, size, mean, width, colour on histograms and plots, etc, which we will be discussing later below.\n",
    "\n",
    "The use of randomness is an important part of the configuration and evaluation of machine learning algorithms.\n",
    "\n",
    "From the random initialization of weights in an artificial neural network, to the splitting of data into random train and test sets, to the random shuffling of a training dataset in stochastic gradient descent, generating random numbers and harnessing randomness is a required skill. (Machinemastery, 2019)\n",
    "\n",
    "Below we will discover how to generate and work with random numbers in Python.\n",
    "\n",
    "**Pseudorandom Number Generators**\n",
    "\n",
    "\n",
    "The source of randomness that we inject into our programs and algorithms is a mathematical trick called a pseudorandom number generator.\n",
    "\n",
    "A random number generator is a system that generates random numbers from a true source of randomness. Often something physical, such as a Geiger counter, where the results are turned into random numbers. We do not need true randomness in machine learning. Instead we can use pseudorandomness. Pseudorandomness is a sample of numbers that look close to random, but were generated using a deterministic process.\n",
    "\n",
    "Shuffling data and initializing coefficients with random values use pseudorandom number generators. These little programs are often a function, which you can call that will return a random number. Called again, they will return a new random number. Wrapper functions are often also available and allow you to get your randomness as an integer, floating point, within a specific distribution, within a specific range, and so on.\n",
    "\n",
    "The numbers are generated in a sequence. The sequence is deterministic and is seeded with an initial number. If you do not explicitly seed the pseudorandom number generator, then it may use the current system time in seconds or milliseconds as the seed.\n",
    "\n",
    "The value of the seed does not matter. Choose anything you wish. What does matter is that the same seeding of the process will result in the same sequence of random numbers. (Machinemastery, 2019)\n",
    "\n",
    "\n",
    "\n"
   ]
  },
  {
   "cell_type": "markdown",
   "metadata": {},
   "source": [
    "## 2. Explain the use of the “Simple random data” and “Permutations” functions\n",
    "## 2.1 Simple Random Data.\n",
    "### How to use the Numpy Ramdom module. \n",
    "- The random package has many functions to help generate numberous different types of numbers. We will see below how to use these functions. \n",
    "- You will need to import the numpy package below. (import numpy as np)"
   ]
  },
  {
   "cell_type": "markdown",
   "metadata": {},
   "source": [
    "There are many ways to generate random numbers. Numpy.random creates random values in a given shape, returns a sample/samples, from the standard normal distribution. It returns random integers from low to high. Below, we can look at some.\n",
    "\n",
    "#### Code below, adapted from SciPy.org, Stackoverflow and Py.Native."
   ]
  },
  {
   "cell_type": "code",
   "execution_count": 1,
   "metadata": {},
   "outputs": [],
   "source": [
    "# Import Numpy Package\n",
    "import numpy as np"
   ]
  },
  {
   "cell_type": "markdown",
   "metadata": {},
   "source": [
    "#### np.random.normal"
   ]
  },
  {
   "cell_type": "code",
   "execution_count": 2,
   "metadata": {},
   "outputs": [
    {
     "name": "stdout",
     "output_type": "stream",
     "text": [
      "Generating random number using random.normal()\n"
     ]
    },
    {
     "data": {
      "text/plain": [
       "-1.3160146376925703"
      ]
     },
     "execution_count": 2,
     "metadata": {},
     "output_type": "execute_result"
    }
   ],
   "source": [
    "# Generates a random number from the normal distribution.\n",
    "print(\"Generating random number using random.normal()\")\n",
    "np.random.normal()"
   ]
  },
  {
   "cell_type": "code",
   "execution_count": 3,
   "metadata": {},
   "outputs": [
    {
     "data": {
      "text/plain": [
       "array([ 1.50116736, -0.01517823,  0.84554585,  1.10873353])"
      ]
     },
     "execution_count": 3,
     "metadata": {},
     "output_type": "execute_result"
    }
   ],
   "source": [
    "# Generates 4 random numbers from the normal distribution.\n",
    "np.random.normal(size=4)"
   ]
  },
  {
   "cell_type": "markdown",
   "metadata": {},
   "source": [
    "#### np.random.rand\n",
    "- Numpy creates arrays. Random numbers in this case between 0 and 1.\n",
    "- Contains arrays, floating numbers."
   ]
  },
  {
   "cell_type": "code",
   "execution_count": 4,
   "metadata": {},
   "outputs": [
    {
     "data": {
      "text/plain": [
       "array([[0.49702871, 0.85304381],\n",
       "       [0.75416573, 0.82664439],\n",
       "       [0.23170213, 0.56620331],\n",
       "       [0.17008629, 0.95455743]])"
      ]
     },
     "execution_count": 4,
     "metadata": {},
     "output_type": "execute_result"
    }
   ],
   "source": [
    "# Contains arrays, floating numbers.\n",
    "np.random.rand(4,2)"
   ]
  },
  {
   "cell_type": "markdown",
   "metadata": {},
   "source": [
    "- Get an array with 9 elements in it."
   ]
  },
  {
   "cell_type": "code",
   "execution_count": 5,
   "metadata": {},
   "outputs": [
    {
     "data": {
      "text/plain": [
       "array([0.9428358 , 0.03356353, 0.82131796, 0.82108256, 0.45623146,\n",
       "       0.23353283, 0.56028495, 0.45873472, 0.04655256])"
      ]
     },
     "execution_count": 5,
     "metadata": {},
     "output_type": "execute_result"
    }
   ],
   "source": [
    "# Displays 9 elements.\n",
    "np.random.rand(9)"
   ]
  },
  {
   "cell_type": "markdown",
   "metadata": {},
   "source": [
    "- Displays two arrays, four rows and thee columns."
   ]
  },
  {
   "cell_type": "code",
   "execution_count": 6,
   "metadata": {},
   "outputs": [
    {
     "data": {
      "text/plain": [
       "array([[[0.26570191, 0.01611609, 0.78715532],\n",
       "        [0.92507613, 0.58205544, 0.91829472],\n",
       "        [0.85083165, 0.69427603, 0.357554  ],\n",
       "        [0.80977044, 0.8838562 , 0.05037348]],\n",
       "\n",
       "       [[0.56411257, 0.79482055, 0.88624937],\n",
       "        [0.24552325, 0.71886884, 0.04173631],\n",
       "        [0.79774603, 0.35526821, 0.41441599],\n",
       "        [0.21957958, 0.80405193, 0.60091569]]])"
      ]
     },
     "execution_count": 6,
     "metadata": {},
     "output_type": "execute_result"
    }
   ],
   "source": [
    "# Generates random data, and ouputs in arrays, rows and columns.\n",
    "np.random.rand(2,4,3)"
   ]
  },
  {
   "cell_type": "code",
   "execution_count": 7,
   "metadata": {
    "scrolled": true
   },
   "outputs": [
    {
     "name": "stdout",
     "output_type": "stream",
     "text": [
      "1D random values array : \n",
      " [0.18050935 0.09928669 0.56456574 0.03109433 0.76804037 0.9384856\n",
      " 0.91517849 0.81893876 0.44335768 0.88681133 0.01566086 0.21242449\n",
      " 0.05344024 0.58668216 0.21829636]\n"
     ]
    }
   ],
   "source": [
    "array = np.random.rand(15) # Prints an array with 15 random values from 0 to 1.\n",
    "print(\"1D random values array : \\n\", array);"
   ]
  },
  {
   "cell_type": "markdown",
   "metadata": {},
   "source": [
    "To display the numbers on a histogram."
   ]
  },
  {
   "cell_type": "code",
   "execution_count": 38,
   "metadata": {},
   "outputs": [
    {
     "data": {
      "text/plain": [
       "<function matplotlib.pyplot.show(*args, **kw)>"
      ]
     },
     "execution_count": 38,
     "metadata": {},
     "output_type": "execute_result"
    },
    {
     "data": {
      "image/png": "[encoded data removed]",
      "text/plain": [
       "<Figure size 432x288 with 1 Axes>"
      ]
     },
     "metadata": {
      "needs_background": "light"
     },
     "output_type": "display_data"
    }
   ],
   "source": [
    "x = np.random.rand(1000)\n",
    "# Histogram shows the most typical values out of 1000 and displays in a bar chart.\n",
    "%matplotlib inline\n",
    "import matplotlib.pyplot as plt\n",
    "plt.hist(x)\n",
    "plt.show # this will display if the above command does not display. \n",
    "# If the above is not displaying type in %matplotlib inline"
   ]
  },
  {
   "cell_type": "markdown",
   "metadata": {},
   "source": [
    "#### Np.random.randint\n",
    "- Random integer values can be generated with the randint() function. \n",
    "- Takes in two arguments, the start and the end of the range."
   ]
  },
  {
   "cell_type": "code",
   "execution_count": 10,
   "metadata": {},
   "outputs": [
    {
     "data": {
      "text/plain": [
       "array([0, 1, 0, 1, 0, 0, 1, 1, 1, 1])"
      ]
     },
     "execution_count": 10,
     "metadata": {},
     "output_type": "execute_result"
    }
   ],
   "source": [
    "np.random.randint(2, size=10) # Function calls numbers bewteen 1 and 2, and size is 10."
   ]
  },
  {
   "cell_type": "code",
   "execution_count": 11,
   "metadata": {},
   "outputs": [
    {
     "data": {
      "text/plain": [
       "array([65, 42, 27, 66])"
      ]
     },
     "execution_count": 11,
     "metadata": {},
     "output_type": "execute_result"
    }
   ],
   "source": [
    "# Generates four random integers.\n",
    "np.random.randint(low=1, high=100, size=4) # Function calls random int from 1 to 100, returns four values."
   ]
  },
  {
   "cell_type": "code",
   "execution_count": 12,
   "metadata": {},
   "outputs": [
    {
     "data": {
      "text/plain": [
       "array([[0, 2, 4, 1],\n",
       "       [4, 3, 1, 3]])"
      ]
     },
     "execution_count": 12,
     "metadata": {},
     "output_type": "execute_result"
    }
   ],
   "source": [
    "# Returns, two arrays, with four integers, numbers bewteen 0 and 5.\n",
    "np.random.randint(5, size=(2, 4))"
   ]
  },
  {
   "cell_type": "markdown",
   "metadata": {},
   "source": [
    "Random values are drawn from a <a href=\"https://docs.scipy.org/doc/numpy-1.15.0/reference/generated/numpy.random.uniform.html#numpy.random.uniform\" target=\"_blank\">uniform distribution.</a>\n",
    "\n",
    "- Samples are uniformly distributed over the half-open interval [low, high) (includes low, but excludes high). In other words, any value within the given interval is equally likely to be drawn by uniform. (Machinemastery, 2019)\n",
    "\n",
    "The example below generates 10 random integer values between 0 and 10."
   ]
  },
  {
   "cell_type": "code",
   "execution_count": 13,
   "metadata": {},
   "outputs": [
    {
     "name": "stdout",
     "output_type": "stream",
     "text": [
      "1D Array:\n",
      " [7 3 5 5 5 5 6] \n",
      "\n",
      "2D Array:\n",
      " [[6 4 3 5]\n",
      " [4 3 6 3]\n",
      " [3 4 7 6]\n",
      " [5 4 3 3]\n",
      " [4 4 4 4]\n",
      " [4 3 7 7]] \n",
      "\n"
     ]
    }
   ],
   "source": [
    "# Returned arrays will output random integers, from low to high, and size.\n",
    "# 1D Array, lowest number will be 3 , highest number up to but not including 8,\n",
    "# 7 values will be displayed in the array\n",
    "randint_array1D = np.random.randint(low = 3, high = 8, size = 7) \n",
    "print (\"1D Array:\\n\",randint_array1D, \"\\n\")  \n",
    "\n",
    "# 2D Array, outputs an array that has an array within it. \n",
    "randint_array2D = np.random.randint(low = 3, high = 8, size = (6, 4)) # 6 rows, with 4 values in each.\n",
    "print (\"2D Array:\\n\",randint_array2D, \"\\n\") "
   ]
  },
  {
   "cell_type": "markdown",
   "metadata": {},
   "source": [
    "#### Numpy.random.choice\n",
    "-  Generates a random sample from a given 1-D array\n"
   ]
  },
  {
   "cell_type": "code",
   "execution_count": 14,
   "metadata": {},
   "outputs": [
    {
     "data": {
      "text/plain": [
       "array([2, 1, 4])"
      ]
     },
     "execution_count": 14,
     "metadata": {},
     "output_type": "execute_result"
    }
   ],
   "source": [
    "# Generate a uniform random sample from np.arange(5) of size 3:\n",
    "np.random.choice(5, 3)"
   ]
  },
  {
   "cell_type": "markdown",
   "metadata": {},
   "source": [
    "#### Numpy.random.ranf\n",
    "-Return random floats in the half-open interval [0.0, 1.0)."
   ]
  },
  {
   "cell_type": "code",
   "execution_count": 15,
   "metadata": {
    "scrolled": true
   },
   "outputs": [
    {
     "data": {
      "text/plain": [
       "0.369317007948069"
      ]
     },
     "execution_count": 15,
     "metadata": {},
     "output_type": "execute_result"
    }
   ],
   "source": [
    "# numpy.random.ranf\n",
    "np.random.random_sample()"
   ]
  },
  {
   "cell_type": "markdown",
   "metadata": {},
   "source": [
    "- Displays what type of an integer it is."
   ]
  },
  {
   "cell_type": "code",
   "execution_count": 16,
   "metadata": {},
   "outputs": [
    {
     "data": {
      "text/plain": [
       "float"
      ]
     },
     "execution_count": 16,
     "metadata": {},
     "output_type": "execute_result"
    }
   ],
   "source": [
    "# Type of number\n",
    "type(np.random.random_sample())"
   ]
  },
  {
   "cell_type": "markdown",
   "metadata": {},
   "source": [
    "- Displays five random numbers."
   ]
  },
  {
   "cell_type": "code",
   "execution_count": 17,
   "metadata": {},
   "outputs": [
    {
     "data": {
      "text/plain": [
       "array([0.60668143, 0.03261278, 0.42533895, 0.77160656, 0.54399833])"
      ]
     },
     "execution_count": 17,
     "metadata": {},
     "output_type": "execute_result"
    }
   ],
   "source": [
    "# Number of random numbers.\n",
    "np.random.random_sample((5,))"
   ]
  },
  {
   "cell_type": "markdown",
   "metadata": {},
   "source": [
    "- Three-by-two array of random numbers from [-5, 0)"
   ]
  },
  {
   "cell_type": "code",
   "execution_count": 18,
   "metadata": {
    "scrolled": true
   },
   "outputs": [
    {
     "data": {
      "text/plain": [
       "array([[-4.42124533, -1.67348811],\n",
       "       [-4.14940953, -2.20443068],\n",
       "       [-1.79540082, -0.98769887]])"
      ]
     },
     "execution_count": 18,
     "metadata": {},
     "output_type": "execute_result"
    }
   ],
   "source": [
    "# Three rows, two columns, numbers between -5 and 0.\n",
    "5 * np.random.random_sample((3, 2)) - 5"
   ]
  },
  {
   "cell_type": "markdown",
   "metadata": {},
   "source": [
    "#### Numpy.random.bytes"
   ]
  },
  {
   "cell_type": "code",
   "execution_count": 39,
   "metadata": {},
   "outputs": [
    {
     "name": "stdout",
     "output_type": "stream",
     "text": [
      "3D random values array : \n",
      " [[[0.91807948 0.04413701 0.84395057]\n",
      "  [0.79085772 0.2937909  0.808505  ]\n",
      "  [0.4101292  0.48557153 0.8191947 ]]\n",
      "\n",
      " [[0.24832612 0.40098357 0.94350778]\n",
      "  [0.59532711 0.33228261 0.93640421]\n",
      "  [0.1802268  0.92742253 0.10940333]]\n",
      "\n",
      " [[0.51728482 0.87496735 0.88932872]\n",
      "  [0.96517435 0.79408041 0.79248719]\n",
      "  [0.92196363 0.01761129 0.5352633 ]]]\n"
     ]
    }
   ],
   "source": [
    "# Generating 3 dimentional array. \n",
    "array = np.random.rand(3,3,3) # Function for three arrays.\n",
    "print(\"3D random values array : \\n\", array);"
   ]
  },
  {
   "cell_type": "code",
   "execution_count": 40,
   "metadata": {},
   "outputs": [
    {
     "data": {
      "text/plain": [
       "b'\\xc5a\\xc7\\xcf\\x02,\\xe8=%\\x87\\xc5\\xa3\\xbc\\xf4\\xba\\xda3['"
      ]
     },
     "execution_count": 40,
     "metadata": {},
     "output_type": "execute_result"
    }
   ],
   "source": [
    "# Returns a number of random bytes.\n",
    "np.random.bytes(18)"
   ]
  },
  {
   "cell_type": "markdown",
   "metadata": {},
   "source": [
    "## 2.2 Permutations \n",
    "- Next we will look at permutations shuffle and permutation , which is randomly permute a sequence, or return a permuted range.\n",
    "\n",
    "- Generally Numpy random.shuffle and random.permutation both shuffle elements in an array.\n",
    "\n"
   ]
  },
  {
   "cell_type": "markdown",
   "metadata": {},
   "source": [
    "#### Numpy.random.shuffle(x)\n",
    "- Random.shuffle function used to shuffle the sequence in place, it changes the position of items in a list.\n",
    "- Modify a sequence in-place by shuffling its contents."
   ]
  },
  {
   "cell_type": "code",
   "execution_count": 21,
   "metadata": {},
   "outputs": [
    {
     "data": {
      "text/plain": [
       "array([6, 5, 2, 0, 9, 8, 3, 7, 4, 1])"
      ]
     },
     "execution_count": 21,
     "metadata": {},
     "output_type": "execute_result"
    }
   ],
   "source": [
    "# Randomly shuffles the list.\n",
    "arr = np.arange(10)\n",
    "np.random.shuffle(arr)\n",
    "arr"
   ]
  },
  {
   "cell_type": "markdown",
   "metadata": {},
   "source": [
    "- If you want to shuffle as per your need, then you can pass your custom random function in the place of random argument, which will dictate shuffle function, and how it randomizes the items of a list. (Py.Native, 2019)\n",
    "- Can do the same with strings.\n"
   ]
  },
  {
   "cell_type": "code",
   "execution_count": 22,
   "metadata": {
    "scrolled": true
   },
   "outputs": [
    {
     "name": "stdout",
     "output_type": "stream",
     "text": [
      "List :  [5, 32, 21, 22, 56, 36, 34, 56, 6, 23]\n",
      "After first shuffle  :  [56, 22, 21, 23, 56, 5, 36, 32, 34, 6]\n",
      "After second shuffle :  [6, 5, 23, 56, 36, 21, 22, 32, 56, 34]\n"
     ]
    }
   ],
   "source": [
    "number_list = [5, 32, 21, 22, 56, 36, 34, 56, 6, 23]\n",
    "print (\"List : \",  number_list)\n",
    "\n",
    "np.random.shuffle(number_list)\n",
    "print (\"After first shuffle  : \",  number_list)\n",
    "\n",
    "np.random.shuffle(number_list)\n",
    "print (\"After second shuffle : \",  number_list)"
   ]
  },
  {
   "cell_type": "markdown",
   "metadata": {},
   "source": [
    "- Shuffle a list of strings."
   ]
  },
  {
   "cell_type": "code",
   "execution_count": 23,
   "metadata": {},
   "outputs": [
    {
     "name": "stdout",
     "output_type": "stream",
     "text": [
      "Original String list:  ['Let it rain', 'Chelsea Football Club', 'John is there', \"Don't do it\", 'He left to go shopping', 'The bus stop', 'Leave the ball']\n",
      "String List after the first shuffle:  ['The bus stop', 'John is there', 'Chelsea Football Club', 'Let it rain', \"Don't do it\", 'Leave the ball', 'He left to go shopping']\n",
      "String List after the second shuffle:  ['He left to go shopping', 'John is there', 'Chelsea Football Club', 'The bus stop', 'Let it rain', 'Leave the ball', \"Don't do it\"]\n"
     ]
    }
   ],
   "source": [
    "string_list = [\"Let it rain\", \"Chelsea Football Club\", \"John is there\", \"Don't do it\", \"He left to go shopping\", \"The bus stop\", \"Leave the ball\"]\n",
    "print (\"Original String list: \",  string_list) # Create a list which we will use a function to shuffle below.\n",
    "\n",
    "\n",
    "np.random.shuffle(string_list) # Random function shuflles list, generates list in different order to original.\n",
    "print (\"String List after the first shuffle: \",  string_list)\n",
    "\n",
    "\n",
    "\n",
    "np.random.shuffle(string_list) # Same as above, random shuffles again, using the same function as above.\n",
    "print (\"String List after the second shuffle: \",  string_list)\n"
   ]
  },
  {
   "cell_type": "markdown",
   "metadata": {},
   "source": [
    "- Below we can shuffle just a string."
   ]
  },
  {
   "cell_type": "code",
   "execution_count": 24,
   "metadata": {},
   "outputs": [
    {
     "name": "stdout",
     "output_type": "stream",
     "text": [
      "Original String:  chocolate\n",
      "shuffled String is:  ochaoelct\n"
     ]
    }
   ],
   "source": [
    "# Randomly shuffles a string\n",
    "string_one = \"chocolate\" # Setting variable \n",
    "print (\"Original String: \", string_one)# Prints output of original string.\n",
    "\n",
    "char_list = list(string_one) # Function for string we want to shuffle.\n",
    "\n",
    "\n",
    "np.random.shuffle(char_list) # Function for shuffling the string.\n",
    "\n",
    "string_one = ''.join(char_list)\n",
    "print (\"shuffled String is: \", string_one) # Prints shuffled string from original string."
   ]
  },
  {
   "cell_type": "markdown",
   "metadata": {},
   "source": [
    "#### Numpy.random.permutation(x) \n",
    "\n",
    "\n",
    "Randomly permute a sequence, or return a permuted range. If x is a multi-dimensional array, it is only shuffled along its first index. (Sci.py.org)\n",
    "\n",
    "- Generally, in Numpy, both random.permutation and random.shuffle randomly shuffle elements in an array. But there are differences:\n",
    "\n",
    "- If you want to generate random permutations of x, then what is the difference between shuffle(x) and permutation(x)?\n",
    "- np.random.permutation has two differences from np.random.shuffle:\n",
    "\n",
    "   - If passed an array, it will return a shuffled copy of the array; np.random.shuffle shuffles the array in place.\n",
    "   - If passed an integer, it will return a shuffled range i.e. np.random.shuffle(np.arange(n))\n",
    "- If x is an integer, randomly permute np.arange(x). If x is an array, make a copy and shuffle the elements randomly.\n",
    "- np.random.permutation is useful when you need to shuffle ordered pairs, especially for classification:\n",
    "\n",
    "(https://stackoverflow.com/questions/15474159/shuffle-vs-permute-numpy)"
   ]
  },
  {
   "cell_type": "code",
   "execution_count": 25,
   "metadata": {},
   "outputs": [
    {
     "data": {
      "text/plain": [
       "array([7, 0, 5, 3, 9, 8, 4, 6, 1, 2])"
      ]
     },
     "execution_count": 25,
     "metadata": {},
     "output_type": "execute_result"
    }
   ],
   "source": [
    "# Displays all the numbers from 0 to the number you enter.\n",
    "np.random.permutation(10)# Function which randomly returns a permuted range of numbers between 0 and 10."
   ]
  },
  {
   "cell_type": "code",
   "execution_count": 26,
   "metadata": {
    "scrolled": true
   },
   "outputs": [
    {
     "data": {
      "text/plain": [
       "array([15,  9, 12,  1,  4])"
      ]
     },
     "execution_count": 26,
     "metadata": {},
     "output_type": "execute_result"
    }
   ],
   "source": [
    "# Outputs the numbers you entered, randomly.\n",
    "np.random.permutation([1, 4, 9, 12, 15]) # Random permutation function, for returning numbers you enetered in any order."
   ]
  },
  {
   "cell_type": "code",
   "execution_count": 27,
   "metadata": {
    "scrolled": true
   },
   "outputs": [
    {
     "data": {
      "text/plain": [
       "array([[3, 4, 5],\n",
       "       [6, 7, 8],\n",
       "       [0, 1, 2]])"
      ]
     },
     "execution_count": 27,
     "metadata": {},
     "output_type": "execute_result"
    }
   ],
   "source": [
    "# Displays nums between 0 and 9 in three rows.\n",
    "arr = np.arange(9).reshape((3, 3))\n",
    "np.random.permutation(arr)"
   ]
  },
  {
   "cell_type": "markdown",
   "metadata": {},
   "source": [
    "## 3. Explain the use and purpose of some of the “Distributions” functions.\n",
    "### Distribution Functions"
   ]
  },
  {
   "cell_type": "markdown",
   "metadata": {},
   "source": [
    "#### 1. The Poisson Distribution\n",
    "\n",
    "The <a href=\"https://www.statisticshowto.datasciencecentral.com/poisson-distribution/\" target=\"_blank\">Poisson</a> distribution function is a statistical distribution that shows how many times an event is likely to occur within a specified period of time.\n",
    "\n",
    "The French mathematician Siméon-Denis Poisson developed his function in 1830 to describe many models, for example, the number of times a gambler would win a rarely won game of chance in a large number of tries. (Britannica, 2019.)\n",
    "\n",
    "![title](PoissonImage.jpg) Source(Britannica)\n",
    "\n",
    "Helps us to predict the probability of certain events from happening when you know how often the event has occurred. It gives us the probability of a given number of events happening in a fixed interval of time. (Statistics How To, 2013)\n",
    "\n",
    "For example, the number of football fans in a certain day of the weekend. If the average number of fans for three days is 35,500, you can predict the probability of a certain day having more fans attend. You can see why businesses would use this distribution to try and predict/forecast over an x amount of time, to help with demand etc.\n",
    "\n",
    "We can see here that the formula is, and how it is <a href=\"https://www.youtube.com/watch?v=Fk02TW6reiA\" target=\"_blank\">calculated.</a>\n",
    "\n",
    "\n",
    "\n",
    "\n",
    "\n",
    "![title](Poissonformula.png)\n",
    "\n",
    "\n",
    "![title](PoissonDisFormula.png)\n",
    "Source (Towards Data Science, 2018)\n",
    "\n",
    "\n",
    "\n",
    "\n",
    "The Poisson parameter Lambda (λ) is the total number of events (k) divided by the number of units (n) in the data (λ = k/n). The unit forms the basis or denominator for calculation of the average, and need not be individual cases or research subjects. For example, the number of asthma attacks may be based on the number of child months, or the number of pregnancies based on the number of women years in using a particular contraceptive.\n",
    "\n",
    "This is different to the Binomial parameter of proportion or risk where proportion is the number of individuals classified as positive (p) divided by the total number of individuals in the data (r = p/n). Proportion or risk must always be a number between 0 and 1, while λ may be any positive number.\n",
    "\n",
    "For examples, if we have 100 people, and only 90 of them go shopping in a week then the binomial risk of shopping is 90/100 = 0.9. However, some of the people will go shopping more than once in the week, and the total number of shopping trips between the 100 people may be 160, and the Poisson Lambda is 160/100 = 1.6 per 100 person week\n",
    "\n",
    "Large Lambda (λ=k/n), say over 200, assumes an approximately normal or geometric distribution, and the count (or sqrt(count)) can be used as a Parametric measurement. If the events occur very few times per individual, so that individuals can be classified as positive or negative cases, then the Binomial distribution (we will discuss below), can be assumed, and statistics related to proportions used. In between, or when events are infrequent, the Poisson distribution is used. (Stats To Do, 2014)"
   ]
  },
  {
   "cell_type": "code",
   "execution_count": 28,
   "metadata": {},
   "outputs": [
    {
     "data": {
      "image/png": "[encoded data removed]",
      "text/plain": [
       "<Figure size 432x288 with 1 Axes>"
      ]
     },
     "metadata": {
      "needs_background": "light"
     },
     "output_type": "display_data"
    }
   ],
   "source": [
    "# Poisson fuction is give sample.\n",
    "s = np.random.poisson(4, 10000)\n",
    "# Displays histogram of the samples we gave the poisson distribution above.\n",
    "count, bins, ignored = plt.hist(s, 14, density=True) # Plots Histogram.\n",
    "plt.show()"
   ]
  },
  {
   "cell_type": "markdown",
   "metadata": {},
   "source": [
    "We can take another example below to demonstrate poisson probability further. "
   ]
  },
  {
   "cell_type": "markdown",
   "metadata": {},
   "source": [
    "#### 2.The Uniform Distribution\n",
    "<a href=\"https://docs.scipy.org/doc/numpy-1.15.0/reference/generated/numpy.random.uniform.html#numpy.random.uniform\" target=\"_blank\">Uniform distribution</a> in statistics, a type of probability distribution in which all outcomes are equally likely; each variable has the same probability that it will be the outcome. A deck of cards has within it uniform distributions because the likelihood of drawing a heart, a club, a diamond or a spade is equally likely. A coin also has a uniform distribution because the probability of getting either heads or tails in a coin toss is the same.\n",
    "\n",
    "![title](UniformDisFormula.png)\n",
    "\n",
    "The uniform distribution can be visualized as a straight horizontal line, so for a coin flip returning a head or tail, both have a probability p = 0.50 and would be depicted by a line from the y-axis at 0.50."
   ]
  },
  {
   "cell_type": "code",
   "execution_count": 29,
   "metadata": {
    "scrolled": true
   },
   "outputs": [
    {
     "data": {
      "text/plain": [
       "array([3.1945532 , 4.92242864, 3.98446929, 3.8136548 , 4.59560652,\n",
       "       3.90438518, 4.98027427, 4.19972993, 3.16984874, 2.88362519])"
      ]
     },
     "execution_count": 29,
     "metadata": {},
     "output_type": "execute_result"
    }
   ],
   "source": [
    "# Get a 1000 numbers back.\n",
    "# Random,rand will only give you numbers between 0 and 1.\n",
    "# Random uniform will give you any numbers.\n",
    "np.random.uniform(2,5,10)"
   ]
  },
  {
   "cell_type": "code",
   "execution_count": 30,
   "metadata": {},
   "outputs": [
    {
     "data": {
      "text/plain": [
       "(array([1037., 1010.,  962., 1029., 1022.,  984., 1008.,  955., 1015.,\n",
       "         978.]),\n",
       " array([2.41728460e-02, 1.00021591e+02, 2.00019010e+02, 3.00016428e+02,\n",
       "        4.00013846e+02, 5.00011264e+02, 6.00008683e+02, 7.00006101e+02,\n",
       "        8.00003519e+02, 9.00000938e+02, 9.99998356e+02]),\n",
       " <a list of 10 Patch objects>)"
      ]
     },
     "execution_count": 30,
     "metadata": {},
     "output_type": "execute_result"
    },
    {
     "data": {
      "image/png": "[encoded data removed]",
      "text/plain": [
       "<Figure size 432x288 with 1 Axes>"
      ]
     },
     "metadata": {
      "needs_background": "light"
     },
     "output_type": "display_data"
    }
   ],
   "source": [
    "# Pretty much does the same thing as the rand function which we looked at above.\n",
    "x = np.random.uniform(0,1000,10000)\n",
    "# Shows the numbers on a bar chart.\n",
    "plt.hist(x)"
   ]
  },
  {
   "cell_type": "markdown",
   "metadata": {},
   "source": [
    "#### 3. Numpy.Random.Normal.¶\n",
    "\n",
    "Normal distribution, also known as the Gaussian distribution, is a probability distribution that is symmetric about the mean, showing that data near the mean are more frequent in occurrence than data far from the mean.\n",
    "\n",
    "Draw random samples from a normal (Gaussian) distribution.\n",
    "\n",
    "\n",
    "The probability density function of the normal distribution, first derived by De Moivre and 200 years later by both Gaus.\n",
    "\n",
    "\n",
    "The normal distributions occurs often in nature. For example, it describes the commonly occurring distribution of samples influenced by a large number of tiny, random disturbances, each with its own unique distribution\n",
    "\n",
    "\n",
    "Below the numbers with e-01 at the end of it, means multipy whatever came before the e by 10 to the minus 1 or divide by 10, e-02 means divide by 100 and so on.\n",
    "\n",
    "\n",
    "Can take more functions and see how they work if you like. (Sci.Py.org, 2019)"
   ]
  },
  {
   "cell_type": "code",
   "execution_count": 31,
   "metadata": {},
   "outputs": [
    {
     "data": {
      "text/plain": [
       "array([ 2.50176708e-02,  2.47414434e-01, -1.09361655e-01,  1.60916230e-01,\n",
       "       -5.56414488e-02, -8.20685874e-02,  8.98361418e-02, -1.77828865e-01,\n",
       "        6.38717980e-03, -7.48752717e-02,  7.70292747e-02,  6.49088895e-02,\n",
       "        9.74000367e-02, -1.55345770e-01, -1.66356554e-02,  1.04550596e-01,\n",
       "       -7.12743129e-02,  8.14440072e-02,  1.09654364e-01, -1.01833152e-01,\n",
       "       -1.03243845e-01, -2.71788510e-02,  9.66484853e-03, -1.71594180e-01,\n",
       "        2.38162980e-01,  5.95232916e-02, -1.14709061e-01, -5.99889083e-02,\n",
       "        1.30006781e-01,  2.13496080e-01,  1.28069150e-01,  1.40669928e-01,\n",
       "       -7.87112017e-02, -9.70628167e-03, -7.85943204e-02,  4.42447290e-02,\n",
       "        6.03114357e-02,  2.16328393e-02, -4.30159500e-02,  1.15554519e-01,\n",
       "        1.20576102e-01, -1.00250752e-01,  9.77126529e-02,  1.10207874e-01,\n",
       "       -1.08246241e-03, -1.95894924e-01, -6.46340363e-02,  1.52211261e-01,\n",
       "       -5.23876652e-02, -1.22314467e-01,  2.03692556e-01, -1.84734591e-01,\n",
       "        1.39274303e-02,  1.50358871e-03, -6.64862167e-02, -6.79652231e-02,\n",
       "       -8.61710449e-02,  4.73611696e-02, -6.01881129e-02, -3.77827062e-02,\n",
       "        3.85792831e-02, -7.29019178e-02, -1.31470442e-01,  6.85954856e-02,\n",
       "        4.64792107e-02,  1.27643796e-01, -1.30236131e-01, -1.58126988e-01,\n",
       "       -6.42156647e-02,  1.16994250e-01, -9.92589117e-02,  1.41527504e-01,\n",
       "        1.72013182e-01,  3.60864843e-02,  9.68923375e-02,  4.13123628e-02,\n",
       "       -9.08979623e-02,  7.62896432e-03,  1.52342180e-01, -4.97352918e-02,\n",
       "        2.05122995e-01, -1.29370182e-01, -1.23639354e-02, -2.81361385e-02,\n",
       "       -4.46564628e-02, -1.19931609e-01, -1.64256794e-03,  1.60036043e-01,\n",
       "        1.30947479e-02, -4.40693347e-02,  2.59299378e-02, -5.88247837e-02,\n",
       "       -1.34792520e-02,  1.05901235e-01,  1.30625771e-02,  1.70859592e-02,\n",
       "        1.06284705e-01,  1.11980808e-01, -1.80119771e-02,  1.15608907e-01,\n",
       "       -1.56260955e-01,  7.70345885e-02,  2.41923885e-03, -5.16621748e-02,\n",
       "       -6.89806985e-02, -1.09342815e-01, -2.19562786e-01, -3.13699016e-02,\n",
       "       -1.76018254e-02,  1.07993030e-01, -1.57107035e-01,  1.08255344e-02,\n",
       "        1.11897536e-01, -5.29314389e-02,  1.06149295e-01,  2.14522241e-01,\n",
       "       -1.72197493e-01, -3.24688311e-01, -2.40872690e-02, -2.21327810e-01,\n",
       "        6.25089324e-02, -4.48046874e-02, -7.22221007e-02, -7.31308200e-02,\n",
       "        2.02986832e-02,  2.13507061e-01,  8.33974448e-02,  1.17985307e-01,\n",
       "       -4.44034510e-02,  6.92976499e-02, -2.62608177e-01,  1.60768015e-02,\n",
       "        9.85503583e-02, -8.42425978e-03,  5.20022661e-02,  1.48340313e-01,\n",
       "        9.77921371e-03,  2.86743794e-02,  7.03109111e-02, -8.51436937e-02,\n",
       "        4.04714391e-02,  1.82999399e-01,  7.03495775e-02,  2.38507189e-02,\n",
       "        2.73017035e-02,  4.31483079e-02,  4.87566589e-02, -1.86160867e-01,\n",
       "        1.95054240e-02,  4.16296190e-02, -1.64735893e-01, -5.08610403e-02,\n",
       "        2.09498147e-01,  2.02194037e-02, -1.28775359e-02, -2.90187666e-02,\n",
       "        4.98682890e-02,  7.16281713e-03, -2.60335706e-02,  1.36749051e-01,\n",
       "       -1.25685006e-01, -4.48746980e-02,  7.46903322e-02, -1.48309030e-01,\n",
       "        9.49109509e-02,  1.71843909e-01, -3.02906624e-02, -1.01160379e-01,\n",
       "       -1.19055573e-01,  1.44990912e-01,  4.19120186e-02,  1.26942035e-01,\n",
       "        5.29973438e-02, -5.86015954e-02, -1.22134012e-01, -5.68034631e-02,\n",
       "        1.05772613e-01, -1.46868293e-01,  1.66434522e-01, -5.29143609e-02,\n",
       "       -1.40456250e-01, -1.93633227e-02,  1.04026047e-01, -2.90843707e-02,\n",
       "        8.89110646e-02,  1.39459851e-01, -1.91340231e-01,  2.27393822e-01,\n",
       "        9.40338646e-02, -5.58173006e-02, -1.11018831e-01,  3.04424470e-03,\n",
       "        8.81710888e-02, -2.17927182e-02, -6.19730641e-02,  1.28711053e-01,\n",
       "       -1.62379124e-01, -7.70116582e-02,  1.67604652e-01,  2.65077036e-01,\n",
       "       -1.63854854e-01, -4.10465797e-02, -1.03920036e-01, -6.22169348e-02,\n",
       "        2.02472460e-01, -5.30520235e-02, -1.60814704e-01,  5.71367063e-02,\n",
       "       -1.06760174e-01,  3.11257862e-02,  3.33777430e-02, -1.09378606e-01,\n",
       "       -5.96911537e-02, -1.29534918e-01,  1.76847456e-01, -8.69674924e-02,\n",
       "        1.87777101e-01,  9.32717394e-02, -1.62640492e-01,  9.09367065e-02,\n",
       "        9.48628493e-02, -3.21518792e-02,  7.78769996e-02,  2.16678003e-01,\n",
       "       -2.27574486e-02, -1.43221426e-02, -4.94725974e-03,  4.04648480e-02,\n",
       "        1.39055131e-01, -9.94353504e-02,  7.58244208e-02,  4.45430532e-02,\n",
       "       -3.75548624e-03,  2.79207461e-02, -1.18946887e-01,  1.36556599e-01,\n",
       "        2.10155973e-01, -1.58374710e-01, -6.74273597e-02,  1.69258329e-01,\n",
       "        1.35291879e-02, -8.88146525e-02,  2.10628786e-01, -2.83902519e-02,\n",
       "       -3.39507147e-02, -8.91429944e-02,  6.27137113e-02,  1.21945055e-01,\n",
       "        1.64219126e-02, -5.24801727e-02,  2.55219524e-02, -7.38425010e-02,\n",
       "       -1.07132177e-01,  1.11756689e-01, -1.51259339e-01, -6.11940750e-02,\n",
       "        1.06006678e-01,  7.94049143e-02,  4.15488023e-02, -6.17499499e-02,\n",
       "        9.35789748e-02,  1.09165993e-01,  3.85747785e-02, -9.68900142e-02,\n",
       "       -2.54937131e-01, -1.32290147e-01, -2.72072178e-02,  1.46919046e-01,\n",
       "       -1.77075717e-02, -4.46518901e-02,  2.71134526e-02, -2.07745190e-02,\n",
       "       -6.78680790e-02, -1.06724582e-02,  3.78379628e-02,  3.47482646e-03,\n",
       "       -9.92802217e-02,  1.67529228e-02,  2.75690723e-02,  1.26987133e-02,\n",
       "       -7.91297803e-02, -3.46188157e-02, -7.68190882e-02,  6.63928870e-02,\n",
       "       -1.10702790e-01, -2.44896989e-02, -9.79372752e-02,  6.26501449e-02,\n",
       "        3.74716061e-02,  7.70069723e-03,  3.15515344e-01, -3.68327314e-02,\n",
       "        6.67633922e-02, -1.45764984e-01,  1.20781474e-01,  3.81694567e-02,\n",
       "        2.51498029e-01, -2.46954340e-02, -3.15817854e-02,  4.18188930e-02,\n",
       "       -6.05925264e-02,  1.01717051e-01,  2.04169460e-01, -9.32473420e-02,\n",
       "        1.50861073e-01, -5.70627170e-02,  2.19866167e-01,  8.35934509e-02,\n",
       "       -1.36210571e-01, -5.64225276e-02,  1.61652211e-01,  2.16882964e-02,\n",
       "        2.51220690e-01,  2.07053269e-01,  1.14224528e-02, -8.98560325e-02,\n",
       "        1.73204401e-01,  1.38682304e-02, -6.60264139e-02, -6.72704878e-02,\n",
       "       -6.95658929e-02, -6.24074435e-02,  3.71394187e-02, -1.17740303e-01,\n",
       "       -3.33800859e-03, -1.94520486e-01,  5.47978585e-02,  2.10752813e-02,\n",
       "        1.01583778e-01,  6.99930405e-03,  1.20660110e-01,  7.52595079e-02,\n",
       "       -1.12606061e-01,  1.32522252e-01,  2.22958416e-02,  1.83767373e-03,\n",
       "        1.12631965e-01, -1.21578317e-01,  5.49774057e-02, -6.09576718e-02,\n",
       "        8.58897247e-02, -9.74813646e-02,  7.43441044e-03,  1.13050658e-01,\n",
       "        4.95413606e-02,  1.64717571e-01, -8.18468654e-02,  8.34636211e-02,\n",
       "       -7.90583110e-02,  5.09574853e-02,  5.73679658e-02,  2.83393332e-01,\n",
       "        3.21400569e-02,  7.05409916e-02, -6.36255118e-02, -3.34540453e-02,\n",
       "       -1.23054788e-01, -4.73575154e-02,  1.28848487e-01, -1.31653737e-02,\n",
       "       -1.05806001e-02, -1.29010907e-02, -1.09758107e-02, -1.34230195e-01,\n",
       "        7.72482199e-02, -1.73641510e-02, -2.46488598e-01, -3.45422182e-02,\n",
       "       -2.32607129e-01,  1.52028302e-01,  6.51843199e-02,  1.70276191e-01,\n",
       "       -8.88036280e-02,  1.28502217e-02,  1.00850206e-02,  1.10537949e-01,\n",
       "        6.13317695e-05,  1.51825647e-01,  6.45293515e-02,  1.36582427e-02,\n",
       "        7.69053655e-02, -1.42494280e-01,  1.85246459e-02, -8.28998520e-02,\n",
       "        2.91052136e-02, -4.47936465e-02,  2.71737607e-02,  6.45859541e-02,\n",
       "       -1.41238733e-01,  1.17242992e-01,  6.74125107e-02, -8.84020754e-02,\n",
       "        4.69383425e-02,  5.26034917e-02, -6.77215126e-03,  1.05935924e-01,\n",
       "        5.76694196e-02, -1.11304103e-02, -1.22723099e-01,  1.90107932e-02,\n",
       "        1.01643578e-01, -4.57951950e-02, -8.59740148e-02, -7.97029705e-02,\n",
       "        2.27561969e-01, -2.27524296e-01, -1.31900928e-01, -1.10820106e-01,\n",
       "       -1.72090453e-01, -2.55452532e-02,  6.38337465e-02, -1.43369733e-02,\n",
       "        3.33079025e-02,  6.17196714e-02, -8.37452935e-02, -3.69752884e-03,\n",
       "       -1.76257412e-02, -1.38509794e-02,  6.19753520e-02, -7.53502992e-02,\n",
       "        4.84300725e-02, -9.37335015e-02,  2.00288882e-02, -1.64804730e-01,\n",
       "        1.90465191e-03, -4.59164837e-03, -9.69884774e-02,  1.49285310e-01,\n",
       "        4.42096648e-02, -7.70336381e-02, -1.72798773e-04, -7.37015962e-02,\n",
       "        3.87745277e-02,  5.76031183e-03, -1.59731287e-01, -3.26912638e-02,\n",
       "        9.19260304e-02, -4.00345096e-02,  8.08980612e-02,  5.77097810e-02,\n",
       "       -1.18955815e-02,  2.16436047e-02, -2.29953899e-01, -1.13772043e-01,\n",
       "       -2.52598141e-02, -9.04543672e-02, -5.63929590e-02,  7.62624119e-02,\n",
       "        2.71810735e-02, -8.12490583e-02,  3.81947387e-02,  7.74281183e-02,\n",
       "        9.09925197e-02, -4.44706323e-02, -7.39262949e-05, -9.18342588e-02,\n",
       "       -8.10526222e-02, -5.59767880e-02, -5.11953563e-02,  6.02999193e-02,\n",
       "        1.21531115e-01,  7.56685489e-02, -1.39771211e-01, -1.02364746e-01,\n",
       "        8.37154472e-02, -2.15606819e-02, -7.13335060e-03, -7.63495925e-02,\n",
       "        2.28608923e-02,  7.44467115e-02, -1.06013201e-01, -2.34740670e-02,\n",
       "       -5.62085221e-02, -9.67962034e-02, -6.74477520e-02,  1.03523894e-01,\n",
       "       -1.42981305e-01,  3.51853223e-02, -2.63526840e-02,  9.35549510e-02,\n",
       "        4.69372109e-02, -1.44329127e-01, -9.72424056e-02, -5.20089870e-02,\n",
       "        1.70508435e-01, -2.37847767e-02,  3.91796730e-02,  6.97668651e-02,\n",
       "        1.71461896e-01, -2.13891094e-01, -1.41764801e-02,  9.93874212e-02,\n",
       "       -4.97610545e-02,  5.14981865e-03, -6.37938527e-02, -2.31206500e-02,\n",
       "       -7.08883031e-02, -1.23619522e-01,  1.15255048e-01,  1.95096936e-01,\n",
       "        1.12091116e-01,  3.48423770e-02,  6.34025060e-02, -1.31804878e-01,\n",
       "        2.08396771e-02, -8.90980115e-02,  3.95656762e-02,  8.76633910e-02,\n",
       "        1.22286613e-01, -2.36453540e-02, -1.81983527e-02,  2.55680211e-02,\n",
       "        4.66878038e-02,  1.03992674e-01, -5.17593562e-02,  1.23191699e-01,\n",
       "        2.95546646e-02, -9.48289924e-02,  5.70304536e-02,  5.99897603e-02,\n",
       "       -4.93030190e-03,  2.57039738e-02, -1.82000208e-03, -8.94467597e-02,\n",
       "        3.21917566e-02,  7.20779754e-02,  4.08728880e-02,  3.32254439e-01,\n",
       "       -1.30555761e-01, -8.34070706e-02, -9.45269917e-02,  7.58367422e-02,\n",
       "       -2.94707337e-02,  1.27064338e-02, -4.65159621e-02,  2.18870336e-02,\n",
       "       -1.56237243e-01, -1.77986350e-02, -1.15700744e-01, -1.82003311e-01,\n",
       "        6.83633199e-03, -1.47185314e-01, -3.12038630e-02,  1.28085222e-01,\n",
       "        6.34106559e-02, -2.08454709e-02, -3.74060797e-03,  9.06987296e-02,\n",
       "        4.17425014e-02, -1.07109848e-01,  4.32239616e-02,  5.74907205e-02,\n",
       "       -3.22447712e-01,  1.71282966e-02,  5.00867870e-02, -1.40478954e-01,\n",
       "       -1.33438257e-01, -7.61917448e-02, -1.43479235e-01, -5.84883617e-02,\n",
       "       -7.43018264e-03, -7.94527583e-02,  1.03672507e-01,  1.03298529e-01,\n",
       "        3.12418572e-02, -1.57213734e-01, -8.01619159e-04, -6.23731585e-02,\n",
       "        1.42457056e-01, -2.09074040e-01,  2.47479470e-01,  2.69564854e-02,\n",
       "       -4.66403696e-02,  1.80714962e-01,  5.32569706e-02, -4.00241917e-02,\n",
       "       -1.32651414e-01, -4.62894420e-02,  1.15645690e-01, -7.92518431e-02,\n",
       "       -2.37507600e-01, -7.81978649e-02,  5.30902670e-02, -1.77918236e-01,\n",
       "       -2.82403549e-02,  1.92044221e-01,  3.77444304e-02,  7.80047277e-02,\n",
       "       -4.55861071e-02, -3.05852143e-02,  1.52747884e-01, -7.07808399e-02,\n",
       "        2.79833621e-03, -1.03925609e-02,  2.47695196e-02,  1.65713749e-01,\n",
       "        3.88863004e-02, -6.66807642e-02,  1.51597165e-02, -1.07042458e-01,\n",
       "        1.45828170e-01, -1.89618048e-02,  1.83375093e-03,  8.52187232e-02,\n",
       "        9.07150654e-02,  1.86029439e-01, -7.72969065e-02,  1.41595979e-01,\n",
       "       -4.53699969e-02,  8.24507137e-02,  1.47566350e-02, -6.98589922e-02,\n",
       "       -1.36236706e-01,  1.70730741e-01, -1.81141920e-02,  1.17369613e-01,\n",
       "        3.30420178e-02, -4.21533490e-02, -1.04975641e-01,  2.68869256e-02,\n",
       "       -1.39947355e-03,  9.57393935e-02, -7.90140589e-02, -8.03377448e-02,\n",
       "       -6.72580071e-02,  2.26266742e-02, -4.07571365e-02, -2.06051823e-01,\n",
       "       -1.00053034e-01,  8.16674831e-02,  1.62118403e-01, -2.04560978e-02,\n",
       "       -1.49934603e-01, -5.78999661e-02,  7.76885809e-02, -8.47173675e-02,\n",
       "        1.03917204e-01, -8.95029186e-02, -1.00896642e-01,  1.21657847e-01,\n",
       "        8.96994812e-02,  1.45381259e-01, -2.45209598e-02,  5.11722241e-03,\n",
       "       -2.27253218e-02,  2.00081187e-01, -4.93992516e-02, -1.16133553e-02,\n",
       "       -2.85575236e-01, -6.77506340e-02, -1.58375650e-01, -1.86951520e-02,\n",
       "        2.56602153e-03, -4.37130898e-02,  2.68206875e-02, -8.27421023e-03,\n",
       "        1.19014978e-01,  3.80537982e-02, -6.43979575e-02,  3.81701200e-02,\n",
       "        1.31580219e-01, -1.49665607e-01, -9.05497136e-02,  6.03070531e-02,\n",
       "        1.08341851e-01,  4.40630698e-02, -5.79511142e-03, -1.30162535e-01,\n",
       "        5.25586291e-02, -3.97861629e-02, -9.73943604e-02,  1.60436840e-01,\n",
       "        6.04442536e-02,  4.88466282e-02,  2.91744196e-02, -1.01076955e-01,\n",
       "        2.17312941e-02, -1.01560926e-01, -6.98202437e-02,  9.82198521e-02,\n",
       "       -8.01836489e-02, -1.14768729e-01,  2.51683296e-03,  2.78909813e-02,\n",
       "       -1.74916488e-01, -2.19616490e-02,  2.49694061e-02,  1.40257966e-01,\n",
       "       -5.03824613e-02,  1.48815758e-02,  1.04340668e-01, -7.13040820e-02,\n",
       "        1.82056558e-02,  1.98955317e-02, -6.44439182e-02, -1.47366095e-02,\n",
       "        7.16556824e-02,  1.52310647e-01,  1.27854061e-01,  2.17378386e-01,\n",
       "       -1.04210744e-01,  3.02335411e-02,  5.43239185e-03, -1.82437285e-01,\n",
       "       -1.35121763e-02, -6.02739514e-02,  9.85302359e-02, -1.42269844e-01,\n",
       "        3.34377321e-02,  7.29720351e-02,  1.40074675e-02, -8.54846463e-02,\n",
       "        4.01847470e-02, -2.37175906e-02, -8.79735740e-02,  9.02896478e-02,\n",
       "        7.63239681e-02,  4.67793245e-02,  8.89282487e-02,  1.05504272e-01,\n",
       "        6.03873445e-02,  6.47199861e-02,  5.56214330e-02,  3.48686592e-02,\n",
       "        1.41352440e-01, -8.55529895e-02, -8.68334776e-02, -4.45546989e-02,\n",
       "       -8.45218946e-02, -1.64321331e-01, -8.79316040e-04, -1.65815292e-01,\n",
       "        1.07814784e-01,  8.32003030e-02, -1.32075021e-01,  1.15028375e-01,\n",
       "        1.46075503e-02, -9.58700618e-02, -4.45037043e-02, -1.59184824e-01,\n",
       "        2.23279460e-01,  1.28812006e-01,  2.28095138e-01, -2.47030049e-01,\n",
       "       -2.72285851e-02,  1.61328479e-01,  2.06360953e-02, -6.63395819e-02,\n",
       "       -4.11193692e-02, -1.78142877e-01,  1.12014939e-01,  6.65472103e-02,\n",
       "       -9.35920740e-02,  5.85986741e-02,  5.30357201e-03, -1.35788456e-01,\n",
       "        1.14509829e-01,  6.34058971e-02,  8.10219905e-02, -2.10858939e-02,\n",
       "        1.28300815e-01, -1.02891237e-01, -6.44369672e-02, -5.08818862e-02,\n",
       "       -3.53772946e-02,  2.84601844e-02, -1.55302507e-01,  3.10834717e-02,\n",
       "        4.28300190e-02, -1.82006953e-01,  4.44448847e-02,  7.76117513e-03,\n",
       "       -2.26868540e-02,  1.32592546e-01,  5.38789354e-02,  2.81592006e-02,\n",
       "       -9.27011387e-02, -8.20447939e-02, -2.40368810e-02,  7.95866799e-02,\n",
       "       -6.09029451e-02,  1.01454951e-01, -8.72208123e-02,  6.03389673e-02,\n",
       "       -1.72364770e-02,  2.17958469e-02, -1.30059409e-01,  2.69229998e-02,\n",
       "       -2.57117124e-02, -5.15374119e-02,  5.83410856e-03,  5.33123325e-02,\n",
       "        1.80832939e-01,  5.98911408e-02,  7.50453280e-02, -1.97720244e-01,\n",
       "        1.79568670e-02, -5.70238102e-02,  2.27404716e-02, -5.74918302e-02,\n",
       "       -1.54212058e-01,  3.67938119e-03, -6.18622543e-02,  2.45219701e-02,\n",
       "        2.06996752e-01, -1.12442941e-01, -6.44751911e-02,  3.83404227e-02,\n",
       "       -1.30686520e-01,  6.31892448e-03,  1.30365414e-01, -3.88209969e-03,\n",
       "        1.11430167e-01,  3.32456222e-02, -8.37866209e-02,  1.00203307e-01,\n",
       "       -4.97785747e-02, -5.07930417e-02, -6.34066911e-02,  5.36843510e-03,\n",
       "       -8.32992324e-02,  1.38577186e-01,  8.17654326e-02, -5.47290869e-02,\n",
       "        6.03810718e-02,  6.40918725e-02,  5.20832541e-02, -1.12161691e-01,\n",
       "        5.93335320e-03,  1.90224941e-01,  4.60905434e-02,  4.05650798e-02,\n",
       "        5.87623940e-03,  3.52189548e-02,  9.54649767e-02, -3.21545314e-02,\n",
       "       -2.76656576e-02,  1.66796660e-01,  3.68504947e-02, -1.37495797e-02,\n",
       "        1.26140228e-01, -1.31054558e-04,  1.74158892e-02,  8.01141703e-03,\n",
       "       -1.93801236e-02, -5.17215028e-02, -9.67934629e-02,  6.82106407e-02,\n",
       "        1.05778487e-01,  2.07737826e-02,  5.50565947e-02,  2.09696500e-01,\n",
       "       -2.49718297e-01, -4.70839860e-02, -8.37894751e-04,  1.95608524e-02,\n",
       "        1.29768437e-01,  1.14413122e-01,  8.02285487e-02, -4.02975046e-02,\n",
       "        1.28211391e-01,  5.18065896e-02,  1.61783347e-01,  1.43364849e-01,\n",
       "       -4.85751627e-02,  8.00028394e-02,  5.17895867e-03,  1.56495615e-01,\n",
       "       -2.31665102e-02, -4.86540845e-03,  5.18713031e-02,  7.81364778e-02,\n",
       "        2.86949185e-02, -8.08675103e-02, -2.30612804e-02,  1.68355453e-01,\n",
       "        2.51720878e-02, -1.52581045e-01, -8.67553100e-02,  7.44025403e-02,\n",
       "       -2.04035738e-02,  1.50687039e-01, -3.54708442e-02, -1.79355776e-02,\n",
       "       -4.25911315e-02,  3.83162465e-02, -2.66163533e-02, -6.47250102e-02,\n",
       "       -1.19746481e-01,  2.91814334e-02,  4.31518731e-02,  1.04352709e-01,\n",
       "       -9.53013299e-02, -1.94701863e-01, -8.98137707e-02,  1.20697469e-01,\n",
       "       -2.50243437e-02, -1.89386069e-02, -8.38898843e-02, -1.45011148e-01,\n",
       "        2.60478911e-01, -1.67650467e-01, -8.19558981e-02, -8.42899214e-03,\n",
       "       -2.03566512e-02,  1.05771872e-01,  5.74658021e-03,  7.71809887e-02,\n",
       "        3.96581745e-03,  9.81257410e-02,  4.68348056e-02, -1.33331979e-01,\n",
       "       -8.27235433e-03,  6.61060646e-02, -9.31113085e-02,  1.70277503e-01,\n",
       "        1.06984132e-01,  2.71922713e-01, -1.05340575e-01, -6.68140970e-02,\n",
       "        1.72930599e-01,  4.23589305e-02,  2.20642964e-01, -7.17855702e-02,\n",
       "        2.19736826e-02, -5.54714111e-02,  4.45998634e-02, -4.06719870e-02,\n",
       "       -7.96075629e-02,  5.24482993e-03,  8.01147194e-02,  6.13689447e-02,\n",
       "        2.89666381e-02, -4.56243062e-02,  9.25612710e-02, -1.02880949e-01,\n",
       "        1.04624649e-01,  2.80164196e-02, -5.18037356e-02, -5.74455141e-02,\n",
       "       -7.46713485e-02,  5.10344345e-03,  2.23667756e-01, -9.95515315e-03,\n",
       "        2.44211928e-02, -1.74771171e-01,  6.09670928e-02,  2.42870784e-02,\n",
       "       -8.19493260e-02,  1.25578057e-01, -1.94800822e-02,  3.18340733e-02,\n",
       "       -1.26645646e-01,  1.54854771e-01,  4.05158846e-02, -6.25501896e-02,\n",
       "       -1.07641570e-01,  1.82483985e-01, -2.19105250e-01, -9.87873414e-02,\n",
       "        1.82922846e-01,  1.44855385e-01,  1.92909126e-02, -1.27737102e-03,\n",
       "       -3.78633751e-03, -1.93557241e-01, -5.71468851e-02, -1.32012289e-01,\n",
       "        2.08264775e-01,  1.40960431e-01,  8.91321020e-02, -1.07394003e-01,\n",
       "        1.20726970e-01, -5.66891000e-02, -9.95377697e-03, -8.67216306e-02,\n",
       "        7.45172175e-04,  1.60746447e-02, -8.31386612e-02, -4.19681440e-02,\n",
       "       -1.47619852e-01, -3.02134817e-02,  2.66432397e-01,  1.18503504e-02,\n",
       "       -1.81950980e-02, -5.40666176e-02, -1.40938086e-01, -2.19447498e-02,\n",
       "        3.88609492e-04, -4.52605748e-02,  9.13035581e-02, -7.94907268e-02,\n",
       "        2.11875818e-02,  9.75491109e-02,  9.02045634e-02,  6.24026486e-02,\n",
       "        3.25327812e-02, -5.72135586e-02, -1.69579358e-01, -1.47377540e-01])"
      ]
     },
     "execution_count": 31,
     "metadata": {},
     "output_type": "execute_result"
    }
   ],
   "source": [
    "np.random.normal(0, 0.1, 1000)"
   ]
  },
  {
   "cell_type": "code",
   "execution_count": 32,
   "metadata": {},
   "outputs": [
    {
     "data": {
      "text/plain": [
       "(array([  6.,  31.,  98., 152., 225., 243., 151.,  64.,  23.,   7.]),\n",
       " array([-6.17226563, -1.80889687,  2.55447188,  6.91784064, 11.2812094 ,\n",
       "        15.64457815, 20.00794691, 24.37131567, 28.73468442, 33.09805318,\n",
       "        37.46142193]),\n",
       " <a list of 10 Patch objects>)"
      ]
     },
     "execution_count": 32,
     "metadata": {},
     "output_type": "execute_result"
    },
    {
     "data": {
      "image/png": "[encoded data removed]",
      "text/plain": [
       "<Figure size 432x288 with 1 Axes>"
      ]
     },
     "metadata": {
      "needs_background": "light"
     },
     "output_type": "display_data"
    }
   ],
   "source": [
    "# The data is being centered around the first number, if you change it around you can see.\n",
    "x = np.random.normal(15, 7, 1000) # Values centre around the first value 15\n",
    "# Shows the data on the x axis\n",
    "plt.hist(x)"
   ]
  },
  {
   "cell_type": "markdown",
   "metadata": {},
   "source": [
    "### 4. Numpy.random.binomial\n",
    "\n",
    "What Is Binomial Distribution?\n",
    "- The <a href=\"https://www.investopedia.com/terms/b/binomialdistribution.asp\" target=\"_blank\">Binomial</a> distribution is a probability distribution that summarizes the likelihood that a value will take one of two independent values under a given set of parameters or assumptions. The underlying assumptions of the binomial distribution are that there is only one outcome for each trial, that each trial has the same probability of success, and that each trial is mutually exclusive, or independent of each other.\n",
    "\n",
    "\n",
    "- \"The binomial distribution is a common discrete distribution used in statistics, as opposed to a continuous distribution, such as the normal distribution. This is because the binomial distribution only counts two states, typically represented as 1 (for a success) or 0 (for a failure) given a number of trials in the data. The binomial distribution, therefore, represents the probability for x successes in n trials, given a success probability p for each trial.\" (Investopedia, 2019)\n",
    "\n",
    "- The mean of the binomial distribution is np, and the variance of the binomial distribution is np (1 − p). When p = 0.5, the distribution is symmetric around the mean. When p > 0.5, the distribution is skewed to the left. When p < 0.5, the distribution is skewed to the right. (Investopedia, 2019)\n",
    "\n",
    "The probability density for the binomial distribution is:\n",
    "\n",
    "\n",
    "![title](Binomialfunction.svg)\n",
    "\n",
    "\n",
    "where n is the number of trials, p is the probability of success, and N is the number of successes. An example of how to calculate it <a href=\"https://www.investopedia.com/articles/active-trading/092114/basics-binomial-distribution.asp\" target=\"_blank\">here</a>\n",
    "\n",
    "\"When estimating the standard error of a proportion in a population by using a random sample, the normal distribution works well unless the product p*n <=5, where p = population proportion estimate, and n = number of samples, in which case the binomial distribution is used instead. For example, a sample of 15 people shows 4 who are left handed, and 11 who are right handed. Then p = 4/15 = 27%. 0.27*15 = 4, so the binomial distribution should be used in this case.\" (Sci.Py.org, 2018) \n",
    "\n",
    "For example, assume that a casino created a new game in which participants are able to place bets on the number of heads or tails in a specified number of coin flips. Assume a participant wants to place a $10 bet that there would be exactly six heads in 20 coin flips. The participant wants to calculate the probability of this occurring, and therefore, he uses the calculation for the binomial distribution.\n",
    "- The probability was calculated as: (20! / (6! * (20 - 6))) * (0.50)^(6) * (1 - 0.50) ^ (20 - 6). Consequently, the probability of exactly six heads occurring in 20 coin flips is 0.037, or 3.7 per cent. The expected value in this instance was 10, so a bad bet was met. (Investopedia, 2019)"
   ]
  },
  {
   "cell_type": "markdown",
   "metadata": {},
   "source": [
    "\"A real world example. A company drills 9 wild-cat oil exploration wells, each with an estimated probability of success of 0.1. All nine wells fail. What is the probability of that happening? Let’s do 20,000 trials of the model, and count the number that generate zero positive results.\" (SciPy.org, 2019)"
   ]
  },
  {
   "cell_type": "code",
   "execution_count": 33,
   "metadata": {
    "scrolled": true
   },
   "outputs": [
    {
     "data": {
      "text/plain": [
       "0.38915"
      ]
     },
     "execution_count": 33,
     "metadata": {},
     "output_type": "execute_result"
    }
   ],
   "source": [
    "# A real world example. A company drills 9 wild-cat oil exploration wells,\n",
    "# each with an estimated probability of success of 0.1. All nine wells fail. What is the probability of that happening?\n",
    "#Let’s do 20,000 trials of the model, and count the number that generate zero positive results. (Adapted from Sci.Py.Org)\n",
    "sum(np.random.binomial(9, 0.1, 20000) == 0)/20000."
   ]
  },
  {
   "cell_type": "markdown",
   "metadata": {},
   "source": [
    "A **single coin flip** is an example of an experiment with a binary outcome. Coin flips meet the other binomial distribution requirement as well — the outcome of each individual coin flip is independent of all the others. Just to be clear, the outcomes of the experiment don’t need to be equally likely as they are with flips of a fair coin — the following things also meet the prerequisites of the binomial distribution:\n",
    "- An unfair coin (e.g. one with an 80% probability of coming up heads).\n",
    "- Randomly picking people on the street to answer a yes or no question.\n",
    "- Attempting to convince visitors of a website to buy a product — the yes or no outcome is whether they purchased or not.\n",
    "One thing that may trouble newcomers to probability and statistics is the idea of a probability distribution. We tend to think deterministically such as “I flipped a coin 10 times and produced 6 heads”. So the outcome is 6 — where is the distribution then?\n",
    "The probability distribution derives from variance. If both you and I flipped 10 coins, it’s pretty likely that we would get different results (you might get 5 heads and I get 7). This variance, a.k.a. uncertainty around the outcome, produces a probability distribution, which basically tells us what outcomes are relatively more likely (such as 5 heads) and which outcomes are relatively less likely (such as 10 heads).\n",
    "\n",
    "- We can demonstrate this example below.\n",
    "  1. Generate a random number between 0 and 1. If that number is 0.5 or more, then count it as heads, otherwise tails. Do this n times using a Python list comprehension. This happens within the function run_binom via the variables tosses.\n",
    "  2. Repeat this a specified number of times (the amount of trials is specified by the input variable trials). We will perform 1,000 trials.\n",
    "  \n",
    "#### What happens when we repeat our 10 coin toss trial 1,000 times? We get the histogram plotted below:\n"
   ]
  },
  {
   "cell_type": "code",
   "execution_count": 42,
   "metadata": {},
   "outputs": [
    {
     "data": {
      "text/plain": [
       "Text(0, 0.5, 'Frequency')"
      ]
     },
     "execution_count": 42,
     "metadata": {},
     "output_type": "execute_result"
    },
    {
     "data": {
      "image/png": "[encoded data removed]",
      "text/plain": [
       "<Figure size 720x360 with 1 Axes>"
      ]
     },
     "metadata": {
      "needs_background": "light"
     },
     "output_type": "display_data"
    }
   ],
   "source": [
    "# Code adapted from (Towards Data Science, 2018)\n",
    "# n: the number of times we perform our experiment. \n",
    "# In our coin example, n is equal to 10 (each experiment is 1 flip of the coin).\n",
    "# p: the probability of success. For a fair coin, it would be 50%.\n",
    "# k: the target number of successes. Earlier we mentioned that we were looking for 6 successes.\n",
    "# Import Libraries.\n",
    "import matplotlib.pyplot as plt\n",
    "import seaborn as sns\n",
    "# Input variables\n",
    "# Number of trials\n",
    "trials = 1000\n",
    "# Number of independent experiments in each trial.\n",
    "n = 10\n",
    "# Probability of success for each experiment.\n",
    "p = 0.5\n",
    "# Function that runs our coin toss trials.\n",
    "# heads is a list of the number of successes from each trial of n experiments.\n",
    "def run_binom(trials, n, p):\n",
    "    heads = []\n",
    "    for i in range(trials):\n",
    "        tosses = [np.random.random() for i in range(n)]\n",
    "        heads.append(len([i for i in tosses if i>=0.50]))\n",
    "    return heads\n",
    "\n",
    "heads = run_binom(trials, n, p) # # Run the function\n",
    "# Plot the results as a histogram\n",
    "fig, ax = plt.subplots(figsize=(10,5)) # Size\n",
    "ax = sns.distplot(heads, bins=11, label='simulation results') # Plots the values, size and labels.\n",
    "ax.set_xlabel(\"Number of Heads\",fontsize=16) # Font size of label on x axis\n",
    "ax.set_ylabel(\"Frequency\",fontsize=16) # Font size of Freq"
   ]
  },
  {
   "cell_type": "markdown",
   "metadata": {},
   "source": [
    "Now we can modify the plotting section of our previous code above, so that our plot also shows the actual binomial distribution."
   ]
  },
  {
   "cell_type": "code",
   "execution_count": 43,
   "metadata": {
    "scrolled": true
   },
   "outputs": [
    {
     "data": {
      "image/png": "[encoded data removed]",
      "text/plain": [
       "<Figure size 432x288 with 1 Axes>"
      ]
     },
     "metadata": {
      "needs_background": "light"
     },
     "output_type": "display_data"
    },
    {
     "name": "stdout",
     "output_type": "stream",
     "text": [
      "Actual Binomial Distribution in red.\n"
     ]
    }
   ],
   "source": [
    "# Plot the actual binomial distribution as a sanity check.\n",
    "from scipy.stats import binom\n",
    "x = range(0,11)# Range of values\n",
    "ax.plot(x, binom.pmf(x, n, p), label='actual binomial distribution')# Actual Binomial Distribution in red. \n",
    "ax = sns.distplot(heads, bins=11, label='Simulation results') # Displays Simulation results.\n",
    "ax.vlines(x, 0, binom.pmf(x, n, p), colors='r', lw=5, alpha=0.5) # Sets values for his, colour, length and width etc.\n",
    "plt.legend()\n",
    "plt.show()\n",
    "print(\"Actual Binomial Distribution in red.\")"
   ]
  },
  {
   "cell_type": "markdown",
   "metadata": {},
   "source": [
    "\"The takeaway is that the binomial distribution is a pretty good approximation of what we would have observed if we had actually repeated our 10 coin tosses 1,000 times — so instead of wasting tons of time tossing coins and recording the results, we can just use the binomial distribution!\" (Towards Data Science, 2018)"
   ]
  },
  {
   "cell_type": "markdown",
   "metadata": {},
   "source": [
    "### 5. Numpy.random.multinomial\n",
    "\n",
    "\n",
    "A <a href=\"https://www.tutorialspoint.com/statistics/multinomial_distribution.htm\" target=\"_blank\">multinomial</a> experiment is a statistical experiment and it consists of n repeated trials. Each trial has a discrete number of possible outcomes. On any given trial, the probability that a particular outcome will occur is constant.\n",
    "\n",
    "The multinomial distribution is used to find probabilities in experiments where there are more than two outcomes. A multinomial experiment is almost identical to binomial eperiment, with one main difference: a binomial experiment can have two outcomes, while a multinomial experiment can have multiple outcomes.\n",
    "\n",
    "Example: You roll a die ten times to see what number you roll. There are 6 possibilities (1,2,3,4,5,6), so this is a multinomial experiment. If you rolled the die ten times to see how many times you roll a three, that would be a binomial experiment (3 = success, 1,2,4,5,6 = failure).\n",
    "\n",
    "The multinomial distribution is a multivariate generalisation of the binomial distribution. Take an experiment with one of p possible outcomes. An example of such an experiment is throwing a dice, where the outcome can be 1 through 6. Each sample drawn from the distribution represents n such experiments. Its values, X_i = [X_0, X_1, ..., X_p], represent the number of times the outcome was i. (Sci.py.org, 2019)\n",
    "\n"
   ]
  },
  {
   "cell_type": "code",
   "execution_count": 36,
   "metadata": {},
   "outputs": [
    {
     "data": {
      "text/plain": [
       "array([[4, 5, 4, 2, 3, 2]])"
      ]
     },
     "execution_count": 36,
     "metadata": {},
     "output_type": "execute_result"
    }
   ],
   "source": [
    "# Fr e.g if you throw a dice 20 times, \n",
    "np.random.multinomial(20, [1/6.]*6, size=1) # Function, throw dice 20 times, displaying six values.\n",
    "# It landed 3 times on 5, two times on 2, and so on."
   ]
  },
  {
   "cell_type": "code",
   "execution_count": 37,
   "metadata": {},
   "outputs": [
    {
     "data": {
      "text/plain": [
       "array([[5, 2, 5, 1, 3, 4],\n",
       "       [2, 2, 5, 2, 6, 3]])"
      ]
     },
     "execution_count": 37,
     "metadata": {},
     "output_type": "execute_result"
    }
   ],
   "source": [
    "# Now, throw the dice 20 times, and 20 times again:\n",
    "np.random.multinomial(20, [1/6.]*6, size=2)"
   ]
  },
  {
   "cell_type": "markdown",
   "metadata": {},
   "source": [
    "For the first run, we threw 3 times 1, 4 times 2, etc. For the second, we threw 2 times 1, 4 times 2, etc."
   ]
  },
  {
   "cell_type": "markdown",
   "metadata": {},
   "source": [
    "## 5.  Use of seeds in generating pseudorandom numbers."
   ]
  },
  {
   "cell_type": "markdown",
   "metadata": {},
   "source": [
    "**What is a random seed?**\n",
    "\n",
    "\n",
    "\"A random seed is a starting point in generating random numbers. A random seed specifies the start point when a computer generates a random number sequence. This can be any number, but it usually comes from seconds on a computer system's clock. A computer counts seconds from January 1, 1970 — a system called Unix time. At time I am writing this sentence it is 11:01:46 EST on February 5, 2017: 1486310506 seconds after 1-1-1970 (you can find the current Unix time here). Having such a large range for seeds (0 to 1+ billion) pretty much ensures that you don’t get the same random seed isn’t used twice — unless you want to.\"(Stats how to, 2017)\n",
    "\n",
    "\n",
    "\"For example, let’s say you wanted to generate a random number in Excel (Note: Excel sets a limit of 9999 for the seed). If you enter a number into the Random Seed box during the process, you’ll be able to use the same set of random numbers again. If you typed “77” into the box, and typed “77” the next time you run the random number generator, Excel will display that same set of random numbers. If you type “99”, you’ll get an entirely different set of numbers. But if you revert back to a seed of 77, then you’ll get the same set of random numbers you started with.\"(Stats how to, 2017)\n",
    "\n",
    "\n",
    "**What is the seed of a number?**\n",
    "\n",
    "\n",
    "Seeds (Or Seed Roots) of a number. A Seed of a number n is a number x such that multiplication of x with its digits is equal to n. The task is to find all seeds of a given number n.\n",
    "\n",
    "Input  : n = 138\n",
    "Output : 23 \n",
    "23 is a seed of 138 because\n",
    "23*2*3 is equal to 138\n",
    "\n",
    "Input : n = 4977\n",
    "Output : 79 711 \n",
    "79 is a seed of 4977 because\n",
    "79 * 7 * 9 = 4977.\n",
    "711 is also a seed of 4977 because\n",
    "711 * 1 * 1 * 7 = 4977\n",
    "\n",
    "Input  : n = 9\n",
    "Output : No seed exists (Geeks for Geeks, 2016)\n",
    "\n",
    "**What does random seed () do?**\n",
    "Seed function is used to save the state of random function, so that it can generate some random numbers on multiple execution of the code on the same machine or on different machines (for a specific seed value). Seed value is the previous value number generated by the generator. (Geeks for Geeks, 2016)\n",
    "\n",
    "\n",
    "**The main point of using the seed:**\n",
    "\n",
    "\n",
    "Is to be able to reproduce a particular sequence of 'random' numbers. Generally speaking, if you don't need to be able to do that, you wouldn't set the seed. The seed itself carries no inherent meaning except it's a way of telling the random number generator 'where to start'. You might think of it a bit like the relationship between a PIN number and your bank account. The PIN is associated with a long string of numbers (your account number), but it's not inherently an interpretable quantity. (Stack Exchange, 2019)\n",
    "\n",
    "\n",
    "**How does the random number generator work?**\n",
    "Pseudo-random number generators work by performing some operation on a value. Generally this value is the previous number generated by the generator. However, the first time you use the generator, there is no previous value.\n",
    "\n",
    "Seeding a pseudo-random number generator gives it its first \"previous\" value. Each seed value will correspond to a sequence of generated values for a given random number generator. That is, if you provide the same seed twice, you get the same sequence of numbers twice.\n",
    "\n",
    "Generally, you want to seed your random number generator with some value that will change each execution of the program. For instance, the current time is a frequently-used seed. The reason why this doesn't happen automatically is so that if you want, you can provide a specific seed to get a known sequence of numbers. (Stackoverflow, 2014)\n",
    "\n",
    "\n",
    "A Random Number Generator is a technology designed to generate a sequence that does not have any pattern, therefore appear to be random. ... Hardware random generators (TRNG): Hardware RNGs do not require seeds because hardware random numbers are not computed values; they are not derived through a repeatable algorithm. (Stack Exchange, 2019)\n"
   ]
  },
  {
   "cell_type": "markdown",
   "metadata": {},
   "source": [
    "**Random.seed** gives a value to random value generator, which generates these values on the basis of this seed. Once you put same seed you get the same pattern of random numbers. So you are generating them right from the start again. You give a different seed it starts with a different number."
   ]
  },
  {
   "cell_type": "code",
   "execution_count": 54,
   "metadata": {
    "scrolled": true
   },
   "outputs": [
    {
     "data": {
      "text/plain": [
       "0.5507979025745755"
      ]
     },
     "execution_count": 54,
     "metadata": {},
     "output_type": "execute_result"
    }
   ],
   "source": [
    "np.random.seed(3) # Gen a random number.\n",
    "np.random.random() "
   ]
  },
  {
   "cell_type": "code",
   "execution_count": 58,
   "metadata": {
    "scrolled": true
   },
   "outputs": [
    {
     "data": {
      "text/plain": [
       "0.5507979025745755"
      ]
     },
     "execution_count": 58,
     "metadata": {},
     "output_type": "execute_result"
    }
   ],
   "source": [
    "np.random.seed(3) # If you want to use the same number as before, use the same seed.\n",
    "np.random.random()"
   ]
  },
  {
   "cell_type": "code",
   "execution_count": 76,
   "metadata": {},
   "outputs": [
    {
     "data": {
      "text/plain": [
       "0.5131167122678871"
      ]
     },
     "execution_count": 76,
     "metadata": {},
     "output_type": "execute_result"
    }
   ],
   "source": [
    "np.random.random() # Generates a different value if you don't use the same seed as before."
   ]
  },
  {
   "cell_type": "markdown",
   "metadata": {},
   "source": [
    "Every time we are running the above program we are setting seed to 10, then random generator takes this as a reference variable. And then by doing some predefined formula, it generates a random number."
   ]
  },
  {
   "cell_type": "code",
   "execution_count": 75,
   "metadata": {
    "scrolled": true
   },
   "outputs": [
    {
     "name": "stdout",
     "output_type": "stream",
     "text": [
      "13\n",
      "23\n",
      "72\n",
      "29\n",
      "11\n",
      "62\n"
     ]
    }
   ],
   "source": [
    "np.random.seed(14)\n",
    "\n",
    "for i in range(6):    \n",
    "    print(np.random.randint(1, 80))"
   ]
  },
  {
   "cell_type": "code",
   "execution_count": 74,
   "metadata": {},
   "outputs": [
    {
     "name": "stdout",
     "output_type": "stream",
     "text": [
      "13\n",
      "23\n",
      "72\n",
      "29\n",
      "11\n",
      "62\n"
     ]
    }
   ],
   "source": [
    "np.random.seed(14)\n",
    "\n",
    "for i in range(6):    \n",
    "    print(np.random.randint(1, 80))"
   ]
  },
  {
   "cell_type": "code",
   "execution_count": 83,
   "metadata": {},
   "outputs": [
    {
     "name": "stdout",
     "output_type": "stream",
     "text": [
      "first number  -  28\n",
      "Second number-  28\n"
     ]
    },
    {
     "data": {
      "text/plain": [
       "0.8874117053874859"
      ]
     },
     "execution_count": 83,
     "metadata": {},
     "output_type": "execute_result"
    }
   ],
   "source": [
    "np.random.seed( 20 )\n",
    "print (\"first number  - \", np.random.randint(25,50)) # Set the seed, so if you want to use it again, use seed number.\n",
    "\n",
    "np.random.seed( 20 )\n",
    "print (\"Second number- \", np.random.randint(25,50)) # Prints the same number, using the seed you just set above.\n",
    "\n",
    "np.random.rand() # Prints a random number.\n"
   ]
  },
  {
   "cell_type": "markdown",
   "metadata": {},
   "source": [
    "## Bibliography\n",
    "\n",
    "SciPy.org, 2018, Viewed on 2019/10/18, available at: https://docs.scipy.org/doc/numpy-1.15.0/reference/routines.random.html\n",
    "\n",
    "APMonitor, Youtube, 2017, viewed on 2019/11/04, available at: https://www.youtube.com/watch?v=Z2zUGmqIDto \n",
    "\n",
    "Stackoverflow, 2017, viewed on 2019/11/04, available at: (https://stackoverflow.com/questions/15474159/shuffle-vs-permute-numpy)\n",
    "\n",
    "Py.Native, 2019, viewed on the 2019/11/05, available at: https://pynative.com/python-random-shuffle/\n",
    "\n",
    "Crazy Geeks, 2019, viewed on the 2019/11/07, available at: https://www.crazygeeks.org/numpy-random-rand-in-python/\n",
    "\n",
    "Chris Albon, 2017, viewed on 2019/11/07, available at: https://chrisalbon.com/python/basics/generating_random_numbers_with_numpy/\n",
    "\n",
    "Machinemastery, 2019, viewed on the 2019/11/07, available at: https://machinelearningmastery.com/how-to-generate-random-numbers-in-python/\n",
    "\n",
    "Statistics How To, 2013, viewed on the 2019/11/07, available at: https://www.statisticshowto.datasciencecentral.com/poisson-distribution/\n",
    "\n",
    "Britannica, 2019, viewed on the 2019/11/07, available at: https://www.britannica.com/biography/Simeon-Denis-Poisson\n",
    "\n",
    "Stats How To, 2014, viewwed on 2019/11/07, available at: https://www.statstodo.com/Poisson_Exp.php\n",
    "\n",
    "Investopedia, 2019, viewed on the 2019/11/07, available at: https://www.investopedia.com/terms/b/binomialdistribution.asp\n",
    "\n",
    "Towards Data Science, 2018, viewed on the 2019/11/08, available at: https://towardsdatascience.com/fun-with-the-binomial-distribution-96a5ecabf65b\n",
    "\n",
    "Statistics How To, 2017, viewed on the 2019/11/08, available at: https://www.statisticshowto.datasciencecentral.com/random-seed-definition/\n",
    "\n",
    "Geeks for Geeks, 2016, viewed on the 2019/11/08, available at: https://www.geeksforgeeks.org/seeds-or-seed-roots-of-a-number/\n",
    "\n",
    "Stack Exchange, 2019, viewed on the 2019/11/08, available at: https://stats.stackexchange.com/questions/86285/random-number-set-seedn-in-r\n",
    "\n",
    "Stackoverflow, 2014, viewed on the 2019/11/08, available at: https://stackoverflow.com/questions/22639587/random-seed-what-does-it-do\n"
   ]
  },
  {
   "cell_type": "code",
   "execution_count": null,
   "metadata": {},
   "outputs": [],
   "source": []
  }
 ],
 "metadata": {
  "kernelspec": {
   "display_name": "Python 3",
   "language": "python",
   "name": "python3"
  },
  "language_info": {
   "codemirror_mode": {
    "name": "ipython",
    "version": 3
   },
   "file_extension": ".py",
   "mimetype": "text/x-python",
   "name": "python",
   "nbconvert_exporter": "python",
   "pygments_lexer": "ipython3",
   "version": "3.7.1"
  }
 },
 "nbformat": 4,
 "nbformat_minor": 2
}
