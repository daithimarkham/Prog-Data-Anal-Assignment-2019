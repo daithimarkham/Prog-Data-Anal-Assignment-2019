{
 "cells": [
  {
   "cell_type": "markdown",
   "metadata": {},
   "source": [
    "# David Markham\n",
    "## Programming for Data Analysis Assignment 2019\n",
    "## G.M.I.T.\n",
    "## Lecturer: Brian McGinley\n",
    "## An Investigation into the Numpy.Random Package.\n",
    "![title](NumpyImage.jpg) Source(APMonitor.com)"
   ]
  },
  {
   "cell_type": "markdown",
   "metadata": {},
   "source": [
    "## Numpy.Random package.\n",
    "#### Below we will discover how to use the Numpy.Random package, broken into four different topics:\n",
    "\n",
    "1.Explain the overall purpose of the package\n",
    "\n",
    "2.Explain the use of the “Simple random data” and “Permutations” functions\n",
    "\n",
    "3.Explain the use and purpose of at least five “Distributions” functions.\n",
    "\n",
    "4.Explain the use of seeds in generating pseudorandom numbers.\n",
    "\n",
    "## 1. Explain the overall purpose of the package\n",
    "**Numpy** is the fundamental package for scientific computing with Python, that creates multi-dimensional arrays 2D, 3D etc. NumPy supports large, multidimensional arrays and matrices. We also found out NumPy is essential for other Python scientific packages like SciPy, scikit-learn and OpenCV. Numpy.random is a sub library of Numpy.\n",
    "\n",
    "**Numpy.random** Creates random numbers and arrays. Whenever you want to generate an array of random numbers you need to use numpy.random, which has multiple functions. These functions generate the random n-dimensional array/arrays for various distributions, size, mean, width, colour on histograms and plots, etc, which we will be discussing later below.\n",
    "\n",
    "The use of randomness is an important part of the configuration and evaluation of machine learning algorithms.\n",
    "\n",
    "From the random initialization of weights in an artificial neural network, to the splitting of data into random train and test sets, to the random shuffling of a training dataset in stochastic gradient descent, generating random numbers and harnessing randomness is a required skill. (Machinemastery, 2019)\n",
    "\n",
    "Below we will discover how to generate and work with random numbers in Python.\n",
    "\n",
    "**Pseudorandom Number Generators**\n",
    "\n",
    "\n",
    "The source of randomness that we inject into our programs and algorithms is a mathematical trick called a pseudorandom number generator.\n",
    "\n",
    "A random number generator is a system that generates random numbers from a true source of randomness. Often something physical, such as a Geiger counter, where the results are turned into random numbers. We do not need true randomness in machine learning. Instead we can use pseudorandomness. Pseudorandomness is a sample of numbers that look close to random, but were generated using a deterministic process.\n",
    "\n",
    "Shuffling data and initializing coefficients with random values use pseudorandom number generators. These little programs are often a function, which you can call that will return a random number. Called again, they will return a new random number. Wrapper functions are often also available and allow you to get your randomness as an integer, floating point, within a specific distribution, within a specific range, and so on.\n",
    "\n",
    "The numbers are generated in a sequence. The sequence is deterministic and is seeded with an initial number. If you do not explicitly seed the pseudorandom number generator, then it may use the current system time in seconds or milliseconds as the seed.\n",
    "\n",
    "The value of the seed does not matter. Choose anything you wish. What does matter is that the same seeding of the process will result in the same sequence of random numbers. (Machinemastery, 2019)\n",
    "\n",
    "\n",
    "\n"
   ]
  },
  {
   "cell_type": "markdown",
   "metadata": {},
   "source": [
    "## 2. Explain the use of the “Simple random data” and “Permutations” functions\n",
    "## 2.1 Simple Random Data.\n",
    "### How to use the Numpy Ramdom module. \n",
    "- The random package has many functions to help generate numberous different types of numbers. We will see below how to use these functions. \n",
    "- You will need to import the numpy package below. (import numpy as np)"
   ]
  },
  {
   "cell_type": "markdown",
   "metadata": {},
   "source": [
    "There are many ways to generate random numbers. Numpy.random creates random values in a given shape, returns a sample/samples, from the standard normal distribution. It returns random integers from low to high. Below, we can look at some.\n",
    "\n",
    "#### Code below, adapted from SciPy.org, Stackoverflow and Py.Native."
   ]
  },
  {
   "cell_type": "code",
   "execution_count": 1,
   "metadata": {},
   "outputs": [],
   "source": [
    "# Import Numpy Package\n",
    "import numpy as np"
   ]
  },
  {
   "cell_type": "markdown",
   "metadata": {},
   "source": [
    "#### np.random.normal"
   ]
  },
  {
   "cell_type": "code",
   "execution_count": 2,
   "metadata": {},
   "outputs": [
    {
     "name": "stdout",
     "output_type": "stream",
     "text": [
      "Generating random number using random.normal()\n"
     ]
    },
    {
     "data": {
      "text/plain": [
       "1.7471270962372476"
      ]
     },
     "execution_count": 2,
     "metadata": {},
     "output_type": "execute_result"
    }
   ],
   "source": [
    "# Generates a random number from the normal distribution.\n",
    "print(\"Generating random number using random.normal()\")\n",
    "np.random.normal()"
   ]
  },
  {
   "cell_type": "code",
   "execution_count": 3,
   "metadata": {},
   "outputs": [
    {
     "data": {
      "text/plain": [
       "array([ 0.45158895,  0.83267813, -0.0588025 , -0.17514704])"
      ]
     },
     "execution_count": 3,
     "metadata": {},
     "output_type": "execute_result"
    }
   ],
   "source": [
    "# Generates 4 random numbers from the normal distribution.\n",
    "np.random.normal(size=4)"
   ]
  },
  {
   "cell_type": "markdown",
   "metadata": {},
   "source": [
    "#### np.random.rand\n",
    "- Numpy creates arrays. Random numbers in this case between 0 and 1.\n",
    "- Contains arrays, floating numbers."
   ]
  },
  {
   "cell_type": "code",
   "execution_count": 4,
   "metadata": {},
   "outputs": [
    {
     "data": {
      "text/plain": [
       "array([[0.69435637, 0.57691189],\n",
       "       [0.96423918, 0.49022307],\n",
       "       [0.75744245, 0.86833681],\n",
       "       [0.9962819 , 0.68717509]])"
      ]
     },
     "execution_count": 4,
     "metadata": {},
     "output_type": "execute_result"
    }
   ],
   "source": [
    "# Contains arrays, floating numbers.\n",
    "np.random.rand(4,2)"
   ]
  },
  {
   "cell_type": "markdown",
   "metadata": {},
   "source": [
    "- Get an array with 9 elements in it."
   ]
  },
  {
   "cell_type": "code",
   "execution_count": 5,
   "metadata": {},
   "outputs": [
    {
     "data": {
      "text/plain": [
       "array([0.70420566, 0.46802864, 0.27577069, 0.91224199, 0.26269485,\n",
       "       0.806562  , 0.56624519, 0.51386952, 0.84958324])"
      ]
     },
     "execution_count": 5,
     "metadata": {},
     "output_type": "execute_result"
    }
   ],
   "source": [
    "# Displays 9 elements.\n",
    "np.random.rand(9)"
   ]
  },
  {
   "cell_type": "markdown",
   "metadata": {},
   "source": [
    "- Displays two arrays, four rows and thee columns."
   ]
  },
  {
   "cell_type": "code",
   "execution_count": 6,
   "metadata": {},
   "outputs": [
    {
     "data": {
      "text/plain": [
       "array([[[0.63104308, 0.71630783, 0.85557282],\n",
       "        [0.46688261, 0.59031177, 0.7340803 ],\n",
       "        [0.07009929, 0.78294395, 0.41008341],\n",
       "        [0.82321569, 0.62046993, 0.0088137 ]],\n",
       "\n",
       "       [[0.72211649, 0.16024854, 0.8367358 ],\n",
       "        [0.72992269, 0.29038619, 0.68030257],\n",
       "        [0.15435683, 0.15916994, 0.42089026],\n",
       "        [0.96892234, 0.25472259, 0.44902743]]])"
      ]
     },
     "execution_count": 6,
     "metadata": {},
     "output_type": "execute_result"
    }
   ],
   "source": [
    "# Generates random data, and ouputs in arrays, rows and columns.\n",
    "np.random.rand(2,4,3)"
   ]
  },
  {
   "cell_type": "code",
   "execution_count": 7,
   "metadata": {
    "scrolled": true
   },
   "outputs": [
    {
     "name": "stdout",
     "output_type": "stream",
     "text": [
      "1D random values array : \n",
      " [6.50721264e-01 3.51882191e-01 4.97686677e-01 5.84283512e-01\n",
      " 7.02472785e-01 1.87128050e-01 4.10379977e-01 7.35150014e-01\n",
      " 6.62984963e-01 2.49617006e-01 3.83596242e-01 7.42269747e-01\n",
      " 7.36658095e-01 1.03722802e-01 1.07872131e-04]\n"
     ]
    }
   ],
   "source": [
    "array = np.random.rand(15) # Prints an array with 15 random values from 0 to 1.\n",
    "print(\"1D random values array : \\n\", array);"
   ]
  },
  {
   "cell_type": "markdown",
   "metadata": {},
   "source": [
    "To display the numbers on a histogram."
   ]
  },
  {
   "cell_type": "code",
   "execution_count": 8,
   "metadata": {},
   "outputs": [
    {
     "data": {
      "text/plain": [
       "<function matplotlib.pyplot.show(*args, **kw)>"
      ]
     },
     "execution_count": 8,
     "metadata": {},
     "output_type": "execute_result"
    },
    {
     "data": {
      "image/png": "[encoded data removed]",
      "text/plain": [
       "<Figure size 432x288 with 1 Axes>"
      ]
     },
     "metadata": {
      "needs_background": "light"
     },
     "output_type": "display_data"
    }
   ],
   "source": [
    "x = np.random.rand(1000)\n",
    "# Histogram shows the most typical values out of 1000 and displays in a bar chart.\n",
    "%matplotlib inline\n",
    "import matplotlib.pyplot as plt\n",
    "plt.hist(x)\n",
    "plt.show # this will display if the above command does not display. \n",
    "# If the above is not displaying type in %matplotlib inline"
   ]
  },
  {
   "cell_type": "markdown",
   "metadata": {},
   "source": [
    "#### Np.random.randint\n",
    "- Random integer values can be generated with the randint() function. \n",
    "- Takes in two arguments, the start and the end of the range."
   ]
  },
  {
   "cell_type": "code",
   "execution_count": 9,
   "metadata": {},
   "outputs": [
    {
     "data": {
      "text/plain": [
       "array([0, 0, 0, 0, 1, 0, 0, 0, 0, 0])"
      ]
     },
     "execution_count": 9,
     "metadata": {},
     "output_type": "execute_result"
    }
   ],
   "source": [
    "np.random.randint(2, size=10) # Function calls numbers bewteen 1 and 2, and size is 10."
   ]
  },
  {
   "cell_type": "code",
   "execution_count": 10,
   "metadata": {},
   "outputs": [
    {
     "data": {
      "text/plain": [
       "array([41, 48, 79, 25])"
      ]
     },
     "execution_count": 10,
     "metadata": {},
     "output_type": "execute_result"
    }
   ],
   "source": [
    "# Generates four random integers.\n",
    "np.random.randint(low=1, high=100, size=4) # Function calls random int from 1 to 100, returns four values."
   ]
  },
  {
   "cell_type": "code",
   "execution_count": 11,
   "metadata": {},
   "outputs": [
    {
     "data": {
      "text/plain": [
       "array([[1, 2, 0, 1],\n",
       "       [4, 1, 4, 4]])"
      ]
     },
     "execution_count": 11,
     "metadata": {},
     "output_type": "execute_result"
    }
   ],
   "source": [
    "# Returns, two arrays, with four integers, numbers bewteen 0 and 5.\n",
    "np.random.randint(5, size=(2, 4))"
   ]
  },
  {
   "cell_type": "markdown",
   "metadata": {},
   "source": [
    "Random values are drawn from a <a href=\"https://docs.scipy.org/doc/numpy-1.15.0/reference/generated/numpy.random.uniform.html#numpy.random.uniform\" target=\"_blank\">uniform distribution.</a>\n",
    "\n",
    "- Samples are uniformly distributed over the half-open interval [low, high) (includes low, but excludes high). In other words, any value within the given interval is equally likely to be drawn by uniform. (Machinemastery, 2019)\n",
    "\n",
    "The example below generates 10 random integer values between 0 and 10."
   ]
  },
  {
   "cell_type": "code",
   "execution_count": 12,
   "metadata": {},
   "outputs": [
    {
     "name": "stdout",
     "output_type": "stream",
     "text": [
      "1D Array:\n",
      " [5 5 5 5 5 6 3] \n",
      "\n",
      "2D Array:\n",
      " [[5 6 6 5]\n",
      " [5 3 3 4]\n",
      " [7 7 5 3]\n",
      " [4 7 3 6]\n",
      " [5 4 6 4]\n",
      " [3 4 6 4]] \n",
      "\n"
     ]
    }
   ],
   "source": [
    "# Returned arrays will output random integers, from low to high, and size.\n",
    "# 1D Array, lowest number will be 3 , highest number up to but not including 8,\n",
    "# 7 values will be displayed in the array\n",
    "randint_array1D = np.random.randint(low = 3, high = 8, size = 7) \n",
    "print (\"1D Array:\\n\",randint_array1D, \"\\n\")  \n",
    "\n",
    "# 2D Array, outputs an array that has an array within it. \n",
    "randint_array2D = np.random.randint(low = 3, high = 8, size = (6, 4)) # 6 rows, with 4 values in each.\n",
    "print (\"2D Array:\\n\",randint_array2D, \"\\n\") "
   ]
  },
  {
   "cell_type": "markdown",
   "metadata": {},
   "source": [
    "#### Numpy.random.choice\n",
    "-  Generates a random sample from a given 1-D array\n"
   ]
  },
  {
   "cell_type": "code",
   "execution_count": 13,
   "metadata": {},
   "outputs": [
    {
     "data": {
      "text/plain": [
       "array([0, 2, 1])"
      ]
     },
     "execution_count": 13,
     "metadata": {},
     "output_type": "execute_result"
    }
   ],
   "source": [
    "# Generate a uniform random sample from np.arange(5) of size 3:\n",
    "np.random.choice(5, 3)"
   ]
  },
  {
   "cell_type": "markdown",
   "metadata": {},
   "source": [
    "#### Numpy.random.ranf\n",
    "- Return random floats in the half-open interval [0.0, 1.0)."
   ]
  },
  {
   "cell_type": "code",
   "execution_count": 14,
   "metadata": {
    "scrolled": true
   },
   "outputs": [
    {
     "data": {
      "text/plain": [
       "0.6736928733175246"
      ]
     },
     "execution_count": 14,
     "metadata": {},
     "output_type": "execute_result"
    }
   ],
   "source": [
    "# numpy.random.ranf\n",
    "np.random.random_sample()"
   ]
  },
  {
   "cell_type": "markdown",
   "metadata": {},
   "source": [
    "- Displays what type of an integer it is."
   ]
  },
  {
   "cell_type": "code",
   "execution_count": 15,
   "metadata": {},
   "outputs": [
    {
     "data": {
      "text/plain": [
       "float"
      ]
     },
     "execution_count": 15,
     "metadata": {},
     "output_type": "execute_result"
    }
   ],
   "source": [
    "# Type of number\n",
    "type(np.random.random_sample())"
   ]
  },
  {
   "cell_type": "markdown",
   "metadata": {},
   "source": [
    "- Displays five random numbers."
   ]
  },
  {
   "cell_type": "code",
   "execution_count": 16,
   "metadata": {},
   "outputs": [
    {
     "data": {
      "text/plain": [
       "array([0.80585479, 0.6632376 , 0.12222145, 0.38146736, 0.79831381])"
      ]
     },
     "execution_count": 16,
     "metadata": {},
     "output_type": "execute_result"
    }
   ],
   "source": [
    "# Number of random numbers.\n",
    "np.random.random_sample((5,))"
   ]
  },
  {
   "cell_type": "markdown",
   "metadata": {},
   "source": [
    "- Three-by-two array of random numbers from [-5, 0)"
   ]
  },
  {
   "cell_type": "code",
   "execution_count": 17,
   "metadata": {
    "scrolled": true
   },
   "outputs": [
    {
     "data": {
      "text/plain": [
       "array([[-2.79663291, -1.9820547 ],\n",
       "       [-4.51424781, -2.50151071],\n",
       "       [-3.53414415, -0.40544524]])"
      ]
     },
     "execution_count": 17,
     "metadata": {},
     "output_type": "execute_result"
    }
   ],
   "source": [
    "# Three rows, two columns, numbers between -5 and 0.\n",
    "5 * np.random.random_sample((3, 2)) - 5"
   ]
  },
  {
   "cell_type": "markdown",
   "metadata": {},
   "source": [
    "- Generating 3 dimentional array."
   ]
  },
  {
   "cell_type": "code",
   "execution_count": 18,
   "metadata": {},
   "outputs": [
    {
     "name": "stdout",
     "output_type": "stream",
     "text": [
      "3D random values array : \n",
      " [[[0.80276427 0.1996567  0.2910223 ]\n",
      "  [0.7312044  0.45055775 0.45323075]\n",
      "  [0.70716224 0.26412412 0.91367076]]\n",
      "\n",
      " [[0.97761728 0.48183982 0.42415162]\n",
      "  [0.57285582 0.22934311 0.96759472]\n",
      "  [0.67907407 0.30716682 0.86540741]]\n",
      "\n",
      " [[0.3658616  0.22326704 0.7205525 ]\n",
      "  [0.19348872 0.13010272 0.65365946]\n",
      "  [0.86914329 0.05723247 0.69339812]]]\n"
     ]
    }
   ],
   "source": [
    "array = np.random.rand(3,3,3) # Function for three arrays.\n",
    "print(\"3D random values array : \\n\", array);"
   ]
  },
  {
   "cell_type": "markdown",
   "metadata": {},
   "source": [
    "#### Numpy.random.bytes"
   ]
  },
  {
   "cell_type": "code",
   "execution_count": 19,
   "metadata": {},
   "outputs": [
    {
     "data": {
      "text/plain": [
       "b'\\xae\\x977\\x9fN\\xf1\\x99$/\\xf9\\xb6\\xb8\\x0b!,M`\\x8f'"
      ]
     },
     "execution_count": 19,
     "metadata": {},
     "output_type": "execute_result"
    }
   ],
   "source": [
    "# Returns a number of random bytes.\n",
    "np.random.bytes(18)"
   ]
  },
  {
   "cell_type": "markdown",
   "metadata": {},
   "source": [
    "## 2.2 Permutations \n",
    "- Next we will look at permutations shuffle and permutation , which is randomly permute a sequence, or return a permuted range.\n",
    "\n",
    "- Generally Numpy random.shuffle and random.permutation both shuffle elements in an array.\n",
    "\n"
   ]
  },
  {
   "cell_type": "markdown",
   "metadata": {},
   "source": [
    "### 2.2.1 Numpy.random.shuffle(x)\n",
    "- Random.shuffle function used to shuffle the sequence in place, it changes the position of items in a list.\n",
    "- Modify a sequence in-place by shuffling its contents."
   ]
  },
  {
   "cell_type": "code",
   "execution_count": 20,
   "metadata": {},
   "outputs": [
    {
     "data": {
      "text/plain": [
       "array([6, 2, 5, 1, 9, 4, 3, 0, 8, 7])"
      ]
     },
     "execution_count": 20,
     "metadata": {},
     "output_type": "execute_result"
    }
   ],
   "source": [
    "# Randomly shuffles the list.\n",
    "arr = np.arange(10)\n",
    "np.random.shuffle(arr)\n",
    "arr"
   ]
  },
  {
   "cell_type": "markdown",
   "metadata": {},
   "source": [
    "- If you want to shuffle as per your need, then you can pass your custom random function in the place of random argument, which will dictate shuffle function, and how it randomizes the items of a list. (Py.Native, 2019)\n"
   ]
  },
  {
   "cell_type": "markdown",
   "metadata": {},
   "source": [
    "Below demonstrates how to shuffle a NumPy array."
   ]
  },
  {
   "cell_type": "code",
   "execution_count": 46,
   "metadata": {},
   "outputs": [
    {
     "name": "stdout",
     "output_type": "stream",
     "text": [
      "[0, 1, 2, 3, 4, 5, 6, 7, 8, 9, 10, 11, 12, 13, 14, 15, 16, 17, 18, 19]\n",
      "[3, 16, 6, 10, 2, 14, 4, 17, 7, 1, 13, 0, 19, 18, 9, 15, 8, 12, 11, 5]\n"
     ]
    }
   ],
   "source": [
    "# Randomly shuffle a sequence.\n",
    "seed(1) # seed random number generator\n",
    "sequence = [i for i in range(20)]# Prepare a sequence\n",
    "print(sequence)\n",
    "# randomly shuffle the sequence\n",
    "shuffle(sequence)\n",
    "print(sequence)"
   ]
  },
  {
   "cell_type": "markdown",
   "metadata": {},
   "source": [
    "Can do the same with strings."
   ]
  },
  {
   "cell_type": "code",
   "execution_count": 21,
   "metadata": {
    "scrolled": true
   },
   "outputs": [
    {
     "name": "stdout",
     "output_type": "stream",
     "text": [
      "List :  [5, 32, 21, 22, 56, 36, 34, 56, 6, 23]\n",
      "After first shuffle  :  [56, 56, 6, 5, 36, 22, 21, 23, 32, 34]\n",
      "After second shuffle :  [23, 36, 56, 21, 32, 22, 6, 5, 34, 56]\n"
     ]
    }
   ],
   "source": [
    "number_list = [5, 32, 21, 22, 56, 36, 34, 56, 6, 23]\n",
    "print (\"List : \",  number_list)\n",
    "\n",
    "np.random.shuffle(number_list)\n",
    "print (\"After first shuffle  : \",  number_list)\n",
    "\n",
    "np.random.shuffle(number_list)\n",
    "print (\"After second shuffle : \",  number_list)"
   ]
  },
  {
   "cell_type": "markdown",
   "metadata": {},
   "source": [
    "- Shuffle a list of strings."
   ]
  },
  {
   "cell_type": "code",
   "execution_count": 22,
   "metadata": {},
   "outputs": [
    {
     "name": "stdout",
     "output_type": "stream",
     "text": [
      "Original String list:  ['Let it rain', 'Chelsea Football Club', 'John is there', \"Don't do it\", 'He left to go shopping', 'The bus stop', 'Leave the ball']\n",
      "String List after the first shuffle:  ['Let it rain', \"Don't do it\", 'He left to go shopping', 'Leave the ball', 'John is there', 'Chelsea Football Club', 'The bus stop']\n",
      "String List after the second shuffle:  ['He left to go shopping', 'Let it rain', 'Chelsea Football Club', 'The bus stop', 'John is there', \"Don't do it\", 'Leave the ball']\n"
     ]
    }
   ],
   "source": [
    "string_list = [\"Let it rain\", \"Chelsea Football Club\", \"John is there\", \"Don't do it\", \"He left to go shopping\", \"The bus stop\", \"Leave the ball\"]\n",
    "print (\"Original String list: \",  string_list) # Create a list which we will use a function to shuffle below.\n",
    "\n",
    "\n",
    "np.random.shuffle(string_list) # Random function shuflles list, generates list in different order to original.\n",
    "print (\"String List after the first shuffle: \",  string_list)\n",
    "\n",
    "\n",
    "\n",
    "np.random.shuffle(string_list) # Same as above, random shuffles again, using the same function as above.\n",
    "print (\"String List after the second shuffle: \",  string_list)\n"
   ]
  },
  {
   "cell_type": "markdown",
   "metadata": {},
   "source": [
    "- Below we can shuffle just a string."
   ]
  },
  {
   "cell_type": "code",
   "execution_count": 23,
   "metadata": {},
   "outputs": [
    {
     "name": "stdout",
     "output_type": "stream",
     "text": [
      "Original String:  chocolate\n",
      "shuffled String is:  lcooceath\n"
     ]
    }
   ],
   "source": [
    "# Randomly shuffles a string\n",
    "string_one = \"chocolate\" # Setting variable \n",
    "print (\"Original String: \", string_one)# Prints output of original string.\n",
    "\n",
    "char_list = list(string_one) # Function for string we want to shuffle.\n",
    "\n",
    "\n",
    "np.random.shuffle(char_list) # Function for shuffling the string.\n",
    "\n",
    "string_one = ''.join(char_list)\n",
    "print (\"shuffled String is: \", string_one) # Prints shuffled string from original string."
   ]
  },
  {
   "cell_type": "markdown",
   "metadata": {},
   "source": [
    "### 2.2.2 Numpy.random.permutation(x) \n",
    "\n",
    "\n",
    "Randomly permute a sequence, or return a permuted range. If x is a multi-dimensional array, it is only shuffled along its first index. (Sci.py.org)\n",
    "\n",
    "- Generally, in Numpy, both random.permutation and random.shuffle randomly shuffle elements in an array. But there are differences:\n",
    "\n",
    "- If you want to generate random permutations of x, then what is the difference between shuffle(x) and permutation(x)?\n",
    "- np.random.permutation has <a href=\"https://stackoverflow.com/questions/15474159/shuffle-vs-permute-numpy\" target=\"_blank\">two</a> differences from np.random.shuffle:\n",
    "\n",
    "   - 1. If passed an array, it will return a shuffled copy of the array; np.random.shuffle shuffles the array in place.\n",
    "   - 2. If passed an integer, it will return a shuffled range i.e. np.random.shuffle(np.arange(n))\n",
    "- If x is an integer, randomly permute np.arange(x). If x is an array, make a copy and shuffle the elements randomly.\n",
    "- np.random.permutation is useful when you need to shuffle ordered pairs, especially for classification. (Stackoverflow, 2016)"
   ]
  },
  {
   "cell_type": "code",
   "execution_count": 24,
   "metadata": {},
   "outputs": [
    {
     "data": {
      "text/plain": [
       "array([9, 5, 1, 8, 0, 2, 3, 7, 4, 6])"
      ]
     },
     "execution_count": 24,
     "metadata": {},
     "output_type": "execute_result"
    }
   ],
   "source": [
    "# Displays all the numbers from 0 to the number you enter.\n",
    "np.random.permutation(10)# Function which randomly returns a permuted range of numbers between 0 and 10."
   ]
  },
  {
   "cell_type": "code",
   "execution_count": 25,
   "metadata": {
    "scrolled": true
   },
   "outputs": [
    {
     "data": {
      "text/plain": [
       "array([ 1,  9,  4, 15, 12])"
      ]
     },
     "execution_count": 25,
     "metadata": {},
     "output_type": "execute_result"
    }
   ],
   "source": [
    "# Outputs the numbers you entered, randomly.\n",
    "np.random.permutation([1, 4, 9, 12, 15]) # Random permutation function, for returning numbers you enetered in any order."
   ]
  },
  {
   "cell_type": "code",
   "execution_count": 26,
   "metadata": {
    "scrolled": true
   },
   "outputs": [
    {
     "data": {
      "text/plain": [
       "array([[0, 1, 2],\n",
       "       [3, 4, 5],\n",
       "       [6, 7, 8]])"
      ]
     },
     "execution_count": 26,
     "metadata": {},
     "output_type": "execute_result"
    }
   ],
   "source": [
    "# Displays nums between 0 and 9 in three rows.\n",
    "arr = np.arange(9).reshape((3, 3))\n",
    "np.random.permutation(arr)"
   ]
  },
  {
   "cell_type": "markdown",
   "metadata": {},
   "source": [
    "## 3. Explain the use and purpose of some of the “Distributions” functions.\n",
    "### Distribution Functions"
   ]
  },
  {
   "cell_type": "markdown",
   "metadata": {},
   "source": [
    "#### 3.1 The Poisson Distribution\n",
    "\n",
    "The <a href=\"https://www.statisticshowto.datasciencecentral.com/poisson-distribution/\" target=\"_blank\">Poisson</a> distribution function is a statistical distribution that shows how many times an event is likely to occur within a specified period of time.\n",
    "\n",
    "The French mathematician Siméon-Denis Poisson developed his function in 1830 to describe many models, for example, the number of times a gambler would win a rarely won game of chance in a large number of tries. (Britannica, 2019.)\n",
    "\n",
    "![title](PoissonImage.jpg) Source(Britannica)\n",
    "\n",
    "Helps us to predict the probability of certain events from happening when you know how often the event has occurred. It gives us the probability of a given number of events happening in a fixed interval of time. (Statistics How To, 2013)\n",
    "\n",
    "For example, the number of football fans in a certain day of the weekend. If the average number of fans for three days is 35,500, you can predict the probability of a certain day having more fans attend. You can see why businesses would use this distribution to try and predict/forecast over an x amount of time, to help with demand etc.\n",
    "\n",
    "We can see here that the formula is, and how it is <a href=\"https://www.youtube.com/watch?v=Fk02TW6reiA\" target=\"_blank\">calculated.</a>\n",
    "\n",
    "\n",
    "\n",
    "\n",
    "\n",
    "![title](Poissonformula.png)\n",
    "\n",
    "\n",
    "![title](PoissonDisFormula.png)\n",
    "Source (Towards Data Science, 2018)\n",
    "\n",
    "\n",
    "\n",
    "\n",
    "The Poisson parameter Lambda (λ) is the total number of events (k) divided by the number of units (n) in the data (λ = k/n). The unit forms the basis or denominator for calculation of the average, and need not be individual cases or research subjects. For example, the number of asthma attacks may be based on the number of child months, or the number of pregnancies based on the number of women years in using a particular contraceptive.\n",
    "\n",
    "This is different to the Binomial parameter of proportion or risk where proportion is the number of individuals classified as positive (p) divided by the total number of individuals in the data (r = p/n). Proportion or risk must always be a number between 0 and 1, while λ may be any positive number.\n",
    "\n",
    "For examples, if we have 100 people, and only 90 of them go shopping in a week then the binomial risk of shopping is 90/100 = 0.9. However, some of the people will go shopping more than once in the week, and the total number of shopping trips between the 100 people may be 160, and the Poisson Lambda is 160/100 = 1.6 per 100 person week\n",
    "\n",
    "Large Lambda (λ=k/n), say over 200, assumes an approximately normal or geometric distribution, and the count (or sqrt(count)) can be used as a Parametric measurement. If the events occur very few times per individual, so that individuals can be classified as positive or negative cases, then the Binomial distribution (we will discuss below), can be assumed, and statistics related to proportions used. In between, or when events are infrequent, the Poisson distribution is used. (Stats To Do, 2014)"
   ]
  },
  {
   "cell_type": "code",
   "execution_count": 27,
   "metadata": {},
   "outputs": [
    {
     "data": {
      "image/png": "[encoded data removed]",
      "text/plain": [
       "<Figure size 432x288 with 1 Axes>"
      ]
     },
     "metadata": {
      "needs_background": "light"
     },
     "output_type": "display_data"
    }
   ],
   "source": [
    "# Poisson fuction is give sample.\n",
    "s = np.random.poisson(4, 10000)\n",
    "# Displays histogram of the samples we gave the poisson distribution above.\n",
    "count, bins, ignored = plt.hist(s, 14, density=True) # Plots Histogram.\n",
    "plt.show()"
   ]
  },
  {
   "cell_type": "markdown",
   "metadata": {},
   "source": [
    "We can take another example below to demonstrate poisson probability further. "
   ]
  },
  {
   "cell_type": "markdown",
   "metadata": {},
   "source": [
    "#### 3.2 The Uniform Distribution\n",
    "<a href=\"https://docs.scipy.org/doc/numpy-1.15.0/reference/generated/numpy.random.uniform.html#numpy.random.uniform\" target=\"_blank\">Uniform distribution</a> in statistics, a type of probability distribution in which all outcomes are equally likely; each variable has the same probability that it will be the outcome. A deck of cards has within it uniform distributions because the likelihood of drawing a heart, a club, a diamond or a spade is equally likely. A coin also has a uniform distribution because the probability of getting either heads or tails in a coin toss is the same.\n",
    "\n",
    "![title](UniformDisFormula.png)\n",
    "\n",
    "The uniform distribution can be visualized as a straight horizontal line, so for a coin flip returning a head or tail, both have a probability p = 0.50 and would be depicted by a line from the y-axis at 0.50."
   ]
  },
  {
   "cell_type": "code",
   "execution_count": 28,
   "metadata": {
    "scrolled": true
   },
   "outputs": [
    {
     "data": {
      "text/plain": [
       "array([2.87862807, 3.69264255, 4.56076381, 2.61846385, 2.09481462,\n",
       "       4.58642353, 3.14136195, 3.43991842, 2.45153832, 3.06582535])"
      ]
     },
     "execution_count": 28,
     "metadata": {},
     "output_type": "execute_result"
    }
   ],
   "source": [
    "# Get a 1000 numbers back.\n",
    "# Random,rand will only give you numbers between 0 and 1.\n",
    "# Random uniform will give you any numbers.\n",
    "np.random.uniform(2,5,10)"
   ]
  },
  {
   "cell_type": "code",
   "execution_count": 29,
   "metadata": {},
   "outputs": [
    {
     "data": {
      "text/plain": [
       "(array([ 992.,  976.,  966., 1013., 1027., 1011.,  992.,  965., 1053.,\n",
       "        1005.]),\n",
       " array([3.08519237e-02, 9.99943439e+01, 1.99957836e+02, 2.99921328e+02,\n",
       "        3.99884820e+02, 4.99848312e+02, 5.99811804e+02, 6.99775296e+02,\n",
       "        7.99738787e+02, 8.99702279e+02, 9.99665771e+02]),\n",
       " <a list of 10 Patch objects>)"
      ]
     },
     "execution_count": 29,
     "metadata": {},
     "output_type": "execute_result"
    },
    {
     "data": {
      "image/png": "[encoded data removed]",
      "text/plain": [
       "<Figure size 432x288 with 1 Axes>"
      ]
     },
     "metadata": {
      "needs_background": "light"
     },
     "output_type": "display_data"
    }
   ],
   "source": [
    "# Pretty much does the same thing as the rand function which we looked at above.\n",
    "x = np.random.uniform(0,1000,10000)\n",
    "# Shows the numbers on a bar chart.\n",
    "plt.hist(x)"
   ]
  },
  {
   "cell_type": "markdown",
   "metadata": {},
   "source": [
    "#### 3.3 Numpy.Random.Normal.\n",
    "\n",
    "Normal distribution, also known as the Gaussian distribution, is a probability distribution that is symmetric about the mean, showing that data near the mean are more frequent in occurrence than data far from the mean.\n",
    "\n",
    "Draw random samples from a normal (Gaussian) distribution.\n",
    "\n",
    "\n",
    "The probability density function of the normal distribution, first derived by De Moivre and 200 years later by both Gaus.\n",
    "\n",
    "\n",
    "The normal distributions occurs often in nature. For example, it describes the commonly occurring distribution of samples influenced by a large number of tiny, random disturbances, each with its own unique distribution\n",
    "\n",
    "\n",
    "Below the numbers with e-01 at the end of it, means multipy whatever came before the e by 10 to the minus 1 or divide by 10, e-02 means divide by 100 and so on.\n",
    "\n",
    "\n",
    "Can take more functions and see how they work if you like. (Sci.Py.org, 2019)"
   ]
  },
  {
   "cell_type": "code",
   "execution_count": 30,
   "metadata": {},
   "outputs": [
    {
     "data": {
      "text/plain": [
       "array([ 7.52145403e-02,  3.99142488e-02,  2.29160572e-03, -2.99914291e-02,\n",
       "       -1.50421410e-02,  2.74733221e-02, -1.79431273e-02,  7.89756450e-02,\n",
       "       -9.26796404e-03, -1.43356163e-02, -1.24777778e-01, -4.22417037e-03,\n",
       "        1.83357739e-01, -1.04055444e-02,  1.66869836e-01, -3.71199703e-02,\n",
       "       -6.86467992e-02, -9.98354744e-02,  1.37051130e-02,  7.51814744e-02,\n",
       "       -1.82679126e-02,  1.57410287e-01, -1.42624290e-01, -1.65219962e-01,\n",
       "        8.32350599e-02, -2.36323604e-02,  4.60319712e-02, -1.22534417e-01,\n",
       "       -4.88824804e-02,  2.56200459e-02,  1.33888261e-01, -1.84954975e-01,\n",
       "       -1.04004512e-01, -8.02753667e-02, -6.13616663e-02,  7.30973803e-02,\n",
       "        7.39643156e-02,  6.93146694e-02,  8.72783191e-02,  2.03634349e-02,\n",
       "       -6.21952593e-02,  1.39028348e-02,  3.43040410e-02, -1.39509679e-01,\n",
       "        1.72457453e-02, -1.83375995e-01, -5.83801037e-02,  6.90976440e-02,\n",
       "       -1.31151930e-01,  6.15799366e-02,  3.31480987e-02,  1.59738181e-01,\n",
       "       -1.95672139e-01,  8.47780750e-02,  1.73791932e-02,  4.27868511e-02,\n",
       "       -9.74680915e-02, -1.01347772e-01,  9.34370358e-02, -2.29184570e-02,\n",
       "       -1.41924588e-01, -1.32683700e-01, -5.14334279e-02,  1.34449520e-02,\n",
       "       -3.13957594e-02,  5.67181785e-02,  1.05368452e-01,  1.36196998e-01,\n",
       "       -6.17287280e-02,  4.20700334e-02, -1.92277044e-02, -1.54536596e-02,\n",
       "        9.80473817e-02,  9.34900067e-02, -5.92748230e-03,  1.92635422e-02,\n",
       "       -1.94825409e-01, -1.11159627e-01, -7.39284235e-02, -1.58261544e-02,\n",
       "       -2.07393923e-02,  6.85503837e-02, -1.44665648e-01,  1.18016121e-01,\n",
       "       -9.85883629e-02,  3.42377044e-02,  5.83026776e-02, -7.16052564e-02,\n",
       "        6.31944717e-02,  1.44378868e-02,  2.76947556e-02, -1.25436648e-02,\n",
       "        2.53999504e-01,  3.08261686e-03, -1.18552441e-01, -1.06402415e-02,\n",
       "        1.00493165e-02, -7.60037215e-02, -1.34881622e-02,  2.51783360e-01,\n",
       "       -8.98871110e-03, -2.46102775e-02, -2.97934679e-04, -9.79670443e-02,\n",
       "       -7.51649951e-03, -6.25901755e-02,  5.55737741e-02, -1.52147465e-01,\n",
       "       -7.30431496e-02,  1.53016720e-01, -1.47078214e-01,  4.92688077e-02,\n",
       "        1.30094646e-01, -5.63975038e-02,  1.71908362e-01, -9.92932202e-03,\n",
       "       -4.57411994e-02, -1.40282811e-01,  1.36486773e-01, -2.74851582e-02,\n",
       "       -1.25713957e-01, -3.96715878e-02, -2.00435834e-01, -9.90857078e-03,\n",
       "       -8.10874666e-02,  1.00943808e-01, -3.95351571e-02, -4.85533319e-02,\n",
       "       -1.67321311e-01, -8.81764251e-02,  5.86901634e-02, -3.64001541e-02,\n",
       "       -2.04328764e-01, -5.38988036e-03,  6.64967142e-02, -5.92175007e-02,\n",
       "        3.22495059e-04,  1.42388206e-01, -9.19950797e-02,  1.09309751e-01,\n",
       "        2.48725488e-02, -2.35424518e-02, -4.93213704e-02, -5.11456637e-02,\n",
       "       -3.92483678e-02,  2.76475605e-01,  1.54293693e-01,  1.03450996e-01,\n",
       "       -9.40140979e-02,  1.37874763e-01,  1.61626198e-02,  1.81109368e-01,\n",
       "       -1.19340389e-01,  7.09207497e-02, -7.06402867e-02, -1.30300309e-03,\n",
       "       -1.81167637e-01,  4.87503689e-03,  1.05041056e-03,  2.16939831e-01,\n",
       "        1.08346517e-01, -2.85329674e-02,  3.50481377e-02,  1.70987716e-02,\n",
       "       -6.13930349e-02, -8.64293484e-02, -1.11112100e-01, -1.01553348e-01,\n",
       "       -4.44658800e-02,  1.01776250e-01, -2.42303276e-02, -7.61410530e-02,\n",
       "       -1.19906708e-01,  2.32778357e-03,  7.45197001e-02, -3.40950807e-02,\n",
       "       -3.42201109e-02, -1.25733320e-01,  2.13131269e-01,  6.94652038e-02,\n",
       "       -2.07814372e-01,  1.73347451e-01, -7.24938923e-02, -1.08604599e-01,\n",
       "        7.51811552e-02, -1.29570159e-01,  7.81477233e-02,  9.38016449e-03,\n",
       "       -2.00700183e-02,  6.83453243e-02, -1.40887969e-01, -1.11955717e-02,\n",
       "       -7.48704050e-02, -1.61441447e-01,  1.51721347e-01,  1.13436361e-01,\n",
       "       -1.90464525e-02, -5.26660161e-02, -2.63151774e-02, -5.56402268e-02,\n",
       "       -6.50264539e-02,  1.22283951e-02, -1.11395904e-01, -1.68331352e-01,\n",
       "        1.14855643e-01,  8.21850505e-02, -1.11719982e-02, -4.32337881e-02,\n",
       "        9.02440651e-02, -3.52147709e-02,  2.78001999e-02, -5.07404246e-02,\n",
       "        1.05880829e-01,  3.81016522e-02, -1.38555170e-01, -1.67802351e-01,\n",
       "       -1.16892935e-01, -3.79477628e-03, -1.56455290e-01,  1.25700606e-01,\n",
       "       -7.85598910e-02, -1.51434579e-01, -1.47845294e-02, -1.62037308e-01,\n",
       "        1.54037796e-01, -1.03982966e-03, -1.73115917e-01,  8.28576089e-02,\n",
       "        1.20793033e-01,  1.25241812e-01,  8.05142768e-02, -1.05718140e-01,\n",
       "       -6.92963219e-02,  8.09967178e-02, -3.95417248e-02,  4.22590994e-02,\n",
       "       -2.39765772e-01, -4.96443552e-02, -1.27590413e-01, -9.93979691e-02,\n",
       "       -6.33199621e-03, -7.52825226e-02,  6.57751095e-03,  2.83028623e-02,\n",
       "        2.44008105e-02,  1.80233035e-01,  8.90657310e-03,  1.69202832e-02,\n",
       "       -1.89784398e-02,  8.17058036e-03, -1.05767781e-01, -5.38151469e-02,\n",
       "        9.96356866e-02, -2.38428484e-02,  7.61444165e-02,  5.78982617e-02,\n",
       "        5.00263164e-02, -1.22359786e-03,  1.74774488e-01,  9.94637608e-03,\n",
       "       -1.89175802e-01,  2.71753974e-02,  1.35940369e-01,  7.45456469e-02,\n",
       "        1.85357647e-01, -1.05986612e-01,  1.13012126e-01,  5.59073184e-03,\n",
       "       -6.83408960e-02, -1.14902674e-01, -8.17414187e-02, -5.40913104e-02,\n",
       "       -2.41387581e-02, -5.98360242e-02,  1.12676271e-01, -1.70502515e-01,\n",
       "        6.42746255e-02, -1.06576079e-02, -3.45373664e-02,  3.02194816e-02,\n",
       "       -3.96314738e-02,  6.72179258e-02,  1.93397576e-01,  3.23336440e-02,\n",
       "        9.91982032e-02,  9.81357088e-02, -1.06298160e-01,  2.19995879e-01,\n",
       "       -6.40808053e-02, -7.80870700e-02, -1.48980309e-01,  4.47545182e-02,\n",
       "       -6.91007733e-02,  3.86585035e-02,  1.37612992e-01,  1.61296544e-01,\n",
       "        9.31026055e-02, -7.95271311e-02,  1.87342544e-02, -1.00147462e-01,\n",
       "        7.94214163e-02, -5.34542240e-02, -4.16848314e-02, -1.21842355e-01,\n",
       "       -1.72279142e-01, -1.05681176e-01,  1.82001267e-01, -1.14220985e-01,\n",
       "        7.91608498e-02, -4.47010700e-02,  8.01695763e-03,  6.70287167e-02,\n",
       "       -1.50939319e-01,  6.65484668e-02, -9.17370330e-02, -1.57955709e-01,\n",
       "        4.85914142e-02, -7.61791923e-02,  1.06770800e-01, -2.33967835e-02,\n",
       "       -4.47798204e-02, -5.81367503e-02, -1.80750231e-02, -1.70418548e-01,\n",
       "       -1.28200559e-01,  9.31416016e-02, -4.68536067e-02,  2.30481572e-01,\n",
       "        9.77656920e-02,  3.31014989e-02,  1.02632716e-01, -9.01197435e-02,\n",
       "        1.26613672e-02, -1.03287716e-01,  1.40924070e-02, -7.14438789e-02,\n",
       "       -1.47018360e-01, -7.76230968e-02, -7.90793767e-03, -1.26770485e-01,\n",
       "       -2.23602851e-01, -5.77219876e-02, -6.51838414e-02, -1.70004469e-01,\n",
       "       -6.30215248e-03, -5.60357691e-02, -4.97317115e-03,  3.07261132e-02,\n",
       "       -5.44864224e-02, -5.09662805e-02,  3.20395587e-02, -1.47462708e-01,\n",
       "       -2.61804449e-02, -2.31349866e-02, -8.83674445e-03, -6.02658498e-03,\n",
       "       -1.19470313e-01,  1.57520082e-01,  5.56015601e-02, -1.02726990e-02,\n",
       "        9.05261873e-02,  5.39886204e-02, -1.51661287e-01, -1.76982037e-01,\n",
       "        2.19464135e-01,  7.97080926e-02, -4.38471376e-02,  1.10294086e-01,\n",
       "       -3.50903744e-02, -1.81015478e-01,  9.23120277e-02, -2.28129121e-01,\n",
       "       -2.09808114e-01,  1.50872298e-01,  1.36752330e-02,  1.13360132e-01,\n",
       "        6.24956278e-03,  5.32501725e-02,  5.96122971e-03, -7.47670741e-02,\n",
       "        3.05990172e-02,  9.71594469e-02,  4.91877554e-02, -5.09436039e-02,\n",
       "       -1.52788966e-02, -1.72848007e-01, -6.60882161e-02, -7.32950802e-02,\n",
       "        8.47457033e-02,  1.16971373e-01,  2.96530777e-02,  8.42220264e-02,\n",
       "       -1.10384096e-01,  4.75726155e-02,  1.88118531e-01,  4.28175723e-02,\n",
       "       -6.46409044e-02,  1.69549854e-01,  2.12144068e-01, -6.25228923e-02,\n",
       "        4.58309882e-02,  6.79404506e-02, -5.71596071e-02, -3.67850391e-02,\n",
       "       -3.55555462e-02,  6.81706239e-02,  3.45765116e-03, -1.26628512e-01,\n",
       "        1.01732522e-01,  1.49943145e-01,  1.05500462e-02, -8.81963520e-02,\n",
       "       -4.93891324e-02,  4.89035376e-03,  6.69966636e-02, -1.22789990e-01,\n",
       "       -1.05792003e-01, -1.52565281e-01,  1.84956888e-01,  2.41789402e-02,\n",
       "       -1.02253864e-01,  3.03077532e-02, -1.40116281e-01,  3.14191391e-03,\n",
       "       -5.06399424e-02,  2.61189452e-02, -1.25196337e-01, -2.43980870e-01,\n",
       "       -1.02845319e-01, -2.74183229e-03, -3.69470132e-02, -2.83613774e-01,\n",
       "        6.05248478e-02, -1.18955940e-01,  6.30154438e-02,  1.40210479e-01,\n",
       "       -6.15714467e-02,  1.23324493e-01, -9.48172508e-02,  5.09024062e-02,\n",
       "       -1.19650768e-02,  1.10968682e-01,  1.05211447e-01,  7.31932028e-02,\n",
       "       -2.25749933e-02,  1.54408373e-01,  3.78817519e-02,  4.96241472e-03,\n",
       "        3.83665105e-02, -8.52678319e-02,  1.15958655e-01,  4.68778712e-02,\n",
       "       -3.14127560e-03, -5.37846983e-02,  5.14939516e-02, -2.20047115e-01,\n",
       "        1.93591852e-01, -3.98541870e-02, -5.10259401e-02, -1.35480757e-02,\n",
       "       -1.48168791e-01, -1.42881418e-01, -4.61869578e-02, -1.88525634e-02,\n",
       "       -3.87226388e-02,  1.45083799e-02, -8.99707117e-02, -6.12245612e-04,\n",
       "        3.04857606e-02,  5.25190289e-02,  6.90488197e-02, -1.51542363e-01,\n",
       "       -6.32769777e-02, -8.66212824e-02,  6.62463836e-02, -2.68422818e-01,\n",
       "        4.62095379e-02,  1.00432663e-02, -1.24094685e-02,  1.05506890e-01,\n",
       "       -1.07033186e-01, -1.08284968e-02,  1.09064909e-01, -6.36257596e-02,\n",
       "        2.36324328e-02, -8.49190072e-03, -3.08512246e-01,  1.69230384e-02,\n",
       "       -2.11135891e-01, -5.13106985e-02,  3.27660763e-01, -4.18828690e-02,\n",
       "        1.09259515e-02,  2.61820493e-02, -1.50959094e-03,  1.24227681e-01,\n",
       "       -3.66255483e-02,  1.16282599e-01,  5.39091509e-03, -1.37118821e-02,\n",
       "        1.07802833e-01,  1.37320017e-01,  4.70975356e-04, -9.88047102e-02,\n",
       "        8.53045903e-02,  6.74322695e-02, -2.37957662e-01, -9.60274509e-02,\n",
       "       -1.42453617e-01,  1.10297312e-01,  2.82237008e-02,  5.99410494e-02,\n",
       "       -2.59934209e-02, -1.62711708e-01,  8.20298453e-02,  1.95277066e-01,\n",
       "       -5.54116291e-02,  8.73212697e-02, -7.58311782e-03, -1.45822831e-02,\n",
       "       -6.98339015e-02, -7.12779084e-02, -1.37912590e-02,  1.68963615e-01,\n",
       "       -8.88809958e-02, -4.05264799e-03,  1.47748107e-02, -8.26122224e-02,\n",
       "        6.84543563e-02, -5.07975780e-02,  1.29086012e-01,  4.78648081e-02,\n",
       "        2.71668010e-02, -7.79802427e-02,  7.70887305e-02, -6.53658141e-02,\n",
       "       -3.61145541e-03, -8.97553488e-02, -1.70146337e-01, -1.23396637e-01,\n",
       "       -3.82859082e-02, -7.06553771e-02, -9.77665199e-03,  6.50281472e-02,\n",
       "       -1.31075392e-01, -4.14516575e-02, -1.52231128e-01, -1.40912728e-01,\n",
       "        1.74647290e-01,  1.76355673e-01, -1.58652571e-01,  1.15741489e-02,\n",
       "       -1.34534666e-01,  1.23936459e-01, -4.12186886e-02,  3.97256030e-01,\n",
       "       -1.67014549e-02,  7.09076631e-02, -5.01317630e-02, -1.17389463e-01,\n",
       "        3.43923154e-03, -6.69630875e-04,  2.69466389e-03,  1.06823130e-01,\n",
       "        3.94106973e-02, -1.32832158e-01, -2.07695388e-01,  1.55418818e-02,\n",
       "        1.39096584e-01, -3.72875073e-02, -2.90761160e-01, -5.84720920e-02,\n",
       "       -6.86419395e-02,  2.28617974e-01, -1.43962499e-02,  9.15101719e-02,\n",
       "        1.43836775e-02,  5.50232465e-02, -8.75808795e-02, -7.26653616e-03,\n",
       "        1.46643137e-01,  6.80597915e-02, -2.68215563e-02,  1.14852185e-01,\n",
       "       -5.24228784e-02,  1.22149652e-01, -2.52154843e-02,  1.32852361e-01,\n",
       "       -5.54477982e-02, -1.25010823e-01, -4.79862858e-02,  7.70081529e-02,\n",
       "       -6.13397380e-02,  4.15862293e-02, -7.53629884e-02,  8.48481499e-02,\n",
       "        7.58779245e-02,  2.86915157e-02,  2.17918243e-01, -1.03581510e-01,\n",
       "       -1.15185279e-01,  1.06680815e-01,  1.31133660e-01,  4.65738543e-02,\n",
       "       -1.24543871e-03,  1.93121782e-01, -6.39071863e-03,  1.09623891e-01,\n",
       "        7.34069000e-02,  1.19059783e-01, -3.15172305e-01,  6.60137402e-02,\n",
       "       -4.59833393e-02,  5.11883496e-03, -1.81316041e-02, -3.80819921e-03,\n",
       "       -1.00475084e-01,  1.71543132e-01,  6.35126929e-02, -2.30898877e-02,\n",
       "        3.14826309e-02,  1.07454655e-01, -1.53355163e-01, -3.00343639e-02,\n",
       "       -8.14234952e-02,  3.26586784e-02,  1.18295452e-01,  3.42689526e-02,\n",
       "       -4.51163984e-02,  9.18255652e-02, -4.32643878e-02, -1.40011245e-01,\n",
       "        1.21782574e-01,  7.30805985e-02,  6.42017207e-02, -8.07228576e-02,\n",
       "       -1.57101501e-01,  7.89913438e-02,  1.71492097e-01,  6.14480892e-02,\n",
       "        4.33670998e-02,  9.23437894e-02,  2.04209891e-01, -1.56831825e-01,\n",
       "       -8.35651999e-02,  2.69524186e-01, -1.01147348e-01,  1.97900756e-01,\n",
       "        8.98114007e-02,  2.21428247e-01, -5.03664550e-02, -1.57752529e-01,\n",
       "        1.42958928e-01, -2.71204238e-01, -3.70557617e-02, -8.35721371e-02,\n",
       "       -4.04766807e-02, -1.22080513e-01,  5.16377889e-03, -5.18617581e-03,\n",
       "       -2.31569201e-03, -1.60371299e-01,  1.67109341e-01, -3.85499173e-02,\n",
       "        1.78932417e-02, -8.10283797e-02,  1.25804904e-02, -1.75267736e-02,\n",
       "        9.25306900e-02, -8.49707625e-02, -1.38264207e-01,  1.52039133e-02,\n",
       "       -1.22962173e-01, -5.49186170e-02,  6.72780944e-02,  3.29507621e-02,\n",
       "        1.17968827e-01,  2.14162757e-02, -4.63635900e-02, -6.53306154e-02,\n",
       "        1.88685220e-02, -1.47630803e-01,  2.26997491e-03,  1.22381469e-01,\n",
       "        9.96213935e-02, -1.02601779e-01, -1.03258637e-01, -8.59343996e-02,\n",
       "       -1.07059206e-01,  2.43176945e-01,  1.78037465e-01, -1.70356379e-01,\n",
       "       -8.90714488e-02,  1.56710436e-01,  2.27784030e-02, -1.92079595e-03,\n",
       "       -1.35951539e-01,  1.12863651e-01,  4.23011723e-03, -6.10374821e-02,\n",
       "        8.00405133e-03,  1.49956274e-01, -5.75622865e-02, -1.36854810e-01,\n",
       "        4.20555620e-02,  1.72035555e-02, -1.30289095e-01,  1.27917203e-01,\n",
       "        8.70587712e-02, -3.61280955e-02, -4.60128180e-04,  7.75480099e-02,\n",
       "       -1.91458041e-01, -4.23430730e-02,  2.56789248e-02,  8.33108791e-02,\n",
       "        1.70128493e-01,  1.89071734e-02, -9.96862530e-02,  1.56569536e-02,\n",
       "        2.09925671e-01, -8.26341784e-02, -1.35177438e-01, -1.90812573e-01,\n",
       "        1.33042786e-01, -1.19451920e-01,  7.43535793e-02,  1.45235985e-01,\n",
       "       -1.62345071e-01,  1.74971761e-01, -5.58357632e-02,  2.70799428e-03,\n",
       "       -2.60842320e-02,  1.97728447e-01,  6.93408237e-02,  5.31613591e-02,\n",
       "        7.33298809e-02, -6.45754486e-02,  7.83007307e-02, -8.47734905e-02,\n",
       "       -1.86877618e-01,  6.17978435e-02,  3.16930329e-02, -6.34477461e-02,\n",
       "       -1.46022754e-01,  2.22512625e-01,  4.92201289e-02,  5.49124212e-02,\n",
       "        1.20170489e-01,  6.49034363e-02, -1.19975322e-01, -1.80058714e-01,\n",
       "        1.34561859e-02, -1.08780579e-01, -3.96370947e-02,  3.11546538e-02,\n",
       "       -1.52318156e-02,  1.21299819e-02,  1.88605995e-02, -8.68451476e-02,\n",
       "        8.10913610e-02, -1.12483421e-01,  1.14705859e-01,  1.21987633e-01,\n",
       "        2.24603551e-03, -1.34976628e-01,  9.91776244e-02, -5.29311431e-02,\n",
       "        1.51228008e-02,  2.67779142e-03, -3.13284316e-02, -2.22759746e-02,\n",
       "       -8.05202113e-02,  1.57560009e-01, -6.78051087e-02,  9.75303534e-03,\n",
       "        6.69034298e-02, -4.12687521e-03, -6.39839841e-02, -4.87852689e-02,\n",
       "       -8.64499369e-02, -9.25244291e-02, -1.77108687e-02,  1.20867950e-02,\n",
       "       -8.72301940e-03, -3.28622245e-01, -2.16323554e-01, -1.00174741e-02,\n",
       "       -2.16419364e-02, -6.21752467e-02, -1.41031498e-01,  1.31625878e-02,\n",
       "        5.85283549e-02,  4.04089182e-02,  5.16246146e-02,  1.02011246e-01,\n",
       "        4.94978313e-02,  9.86524359e-02, -9.04866082e-02,  1.43344077e-01,\n",
       "       -2.18579712e-01, -3.13659246e-02,  3.10811530e-01,  5.34848259e-02,\n",
       "        1.97803629e-02, -2.03082453e-02, -1.47656948e-01, -1.62507930e-01,\n",
       "       -1.56621541e-01,  1.52005482e-02, -7.30995058e-02, -4.14163581e-02,\n",
       "       -1.11983836e-01,  5.19605486e-02, -7.39939654e-02, -1.01303760e-01,\n",
       "       -1.39971687e-01, -9.99518360e-02,  1.93094047e-02,  3.68878038e-02,\n",
       "       -6.98896177e-02, -1.50495986e-02,  1.32133765e-01, -1.24536771e-01,\n",
       "        1.02390983e-01, -1.52608592e-01,  4.55669330e-02,  8.63719278e-02,\n",
       "       -1.61370069e-01, -3.33020147e-02, -5.12200700e-02, -5.13636837e-02,\n",
       "        4.03702762e-02, -3.76060809e-02, -4.89489478e-02, -1.90794382e-02,\n",
       "       -1.02945069e-01,  3.47071238e-02,  1.01981957e-01, -7.35064693e-02,\n",
       "        1.21860759e-01,  2.05286074e-01,  6.00404885e-02, -2.08035179e-01,\n",
       "        1.51858366e-02, -1.52342483e-01, -4.53093466e-02,  1.12017047e-01,\n",
       "        6.50521201e-02,  7.21935625e-02,  1.87484939e-01, -6.57846291e-02,\n",
       "       -1.27197796e-01,  2.90694893e-02, -6.72575646e-02,  4.74783084e-02,\n",
       "       -6.62938073e-02,  2.22210666e-02,  2.52959327e-02, -1.17984793e-01,\n",
       "        2.91785993e-02, -3.87827034e-03, -1.29786386e-01, -4.60021832e-02,\n",
       "       -1.46381661e-01, -1.58051823e-01, -1.18049534e-01,  6.18910427e-02,\n",
       "        2.69667668e-02, -1.54520553e-02,  5.55583424e-02, -4.64915719e-02,\n",
       "       -4.15270941e-02, -4.63682752e-03,  1.84661593e-02, -1.84648101e-02,\n",
       "       -4.20920245e-02,  4.15389254e-02,  1.01627681e-01, -1.21038982e-01,\n",
       "        9.51357924e-02,  1.17494345e-01,  2.52361857e-02,  3.18042531e-02,\n",
       "       -1.11762857e-01,  2.09292389e-02,  6.70738588e-02, -2.00477400e-02,\n",
       "        8.86015837e-02,  7.67269393e-02, -1.53662669e-02, -8.51314979e-02,\n",
       "       -8.93682626e-03,  1.94074247e-03, -4.43721186e-02, -6.53447141e-02,\n",
       "        4.03288377e-02,  7.28612498e-02, -1.04074079e-01,  1.53614189e-01,\n",
       "       -3.08314720e-02,  3.49957844e-02, -1.61374269e-02,  1.94438489e-01,\n",
       "       -3.51262138e-03, -7.15532079e-04,  9.35002647e-02, -2.35447872e-02,\n",
       "       -5.23016453e-02,  1.09320153e-01, -1.35563076e-01,  1.18612979e-01,\n",
       "       -4.84667573e-02, -6.60756209e-02,  1.55070285e-03,  2.10837821e-02,\n",
       "        1.08551980e-01,  1.04814967e-01,  1.12604783e-01, -1.49810359e-01,\n",
       "        7.04325529e-02,  1.91723021e-01,  1.45453414e-01,  8.39604734e-02,\n",
       "       -3.71512075e-03,  1.08181484e-01,  8.38620760e-02,  5.72474717e-02,\n",
       "        1.14186298e-01,  5.36478800e-03, -8.11372385e-02,  1.28638364e-02,\n",
       "        7.95360467e-02,  8.58065907e-02, -1.51908196e-01,  2.38432745e-02,\n",
       "        5.21621092e-02,  2.78660192e-02, -1.59170847e-01, -1.94531597e-02,\n",
       "       -3.93080815e-02, -8.36678777e-02, -7.66875221e-02,  3.53170947e-02,\n",
       "        1.54505609e-01, -1.50552073e-02, -5.15184512e-02, -1.60858370e-02,\n",
       "        5.71806484e-02,  9.23452731e-02,  4.74513854e-02,  1.92353250e-01,\n",
       "        7.15003229e-02,  2.40298539e-02,  4.81444866e-02,  1.75109943e-01,\n",
       "       -1.28782336e-01,  5.02804788e-02, -2.98979377e-02,  6.12775171e-02,\n",
       "       -3.35193982e-02, -8.24475493e-02,  4.64698254e-02, -5.38593736e-02,\n",
       "        8.34618338e-02, -4.75297821e-02,  4.52932826e-02, -1.79249762e-02,\n",
       "        5.36936475e-02,  2.21631253e-02, -9.10843204e-02, -1.24830811e-01,\n",
       "        6.58963135e-02,  8.54383099e-02, -1.39520521e-02,  1.67370030e-01,\n",
       "        8.91957704e-02, -7.92688147e-03, -1.44970440e-01, -5.69478041e-02,\n",
       "        7.66160521e-02, -1.26535322e-01, -1.89477101e-01,  1.11418099e-01,\n",
       "        7.28612703e-02,  3.89015975e-02,  1.87022915e-02, -7.36954016e-02,\n",
       "       -1.38635981e-01, -1.90044438e-01,  1.89541404e-01,  3.17486952e-02,\n",
       "       -8.51621735e-02, -5.94358877e-02,  5.52243837e-02,  6.21374146e-03,\n",
       "       -5.15934958e-02, -7.99347216e-02,  1.77652465e-01,  5.05640230e-02])"
      ]
     },
     "execution_count": 30,
     "metadata": {},
     "output_type": "execute_result"
    }
   ],
   "source": [
    "np.random.normal(0, 0.1, 1000)"
   ]
  },
  {
   "cell_type": "code",
   "execution_count": 31,
   "metadata": {},
   "outputs": [
    {
     "data": {
      "text/plain": [
       "(array([  4.,  23.,  58., 131., 217., 259., 164.,  86.,  48.,  10.]),\n",
       " array([-7.8733645 , -3.58173709,  0.70989032,  5.00151773,  9.29314515,\n",
       "        13.58477256, 17.87639997, 22.16802738, 26.45965479, 30.7512822 ,\n",
       "        35.04290962]),\n",
       " <a list of 10 Patch objects>)"
      ]
     },
     "execution_count": 31,
     "metadata": {},
     "output_type": "execute_result"
    },
    {
     "data": {
      "image/png": "[encoded data removed]",
      "text/plain": [
       "<Figure size 432x288 with 1 Axes>"
      ]
     },
     "metadata": {
      "needs_background": "light"
     },
     "output_type": "display_data"
    }
   ],
   "source": [
    "# The data is being centered around the first number, if you change it around you can see.\n",
    "x = np.random.normal(15, 7, 1000) # Values centre around the first value 15\n",
    "# Shows the data on the x axis\n",
    "plt.hist(x)"
   ]
  },
  {
   "cell_type": "markdown",
   "metadata": {},
   "source": [
    "#### 3.4 Numpy.random.binomial\n",
    "\n",
    "What Is Binomial Distribution?\n",
    "- The <a href=\"https://www.investopedia.com/terms/b/binomialdistribution.asp\" target=\"_blank\">Binomial</a> distribution is a probability distribution that summarizes the likelihood that a value will take one of two independent values under a given set of parameters or assumptions. The underlying assumptions of the binomial distribution are that there is only one outcome for each trial, that each trial has the same probability of success, and that each trial is mutually exclusive, or independent of each other.\n",
    "\n",
    "\n",
    "- \"The binomial distribution is a common discrete distribution used in statistics, as opposed to a continuous distribution, such as the normal distribution. This is because the binomial distribution only counts two states, typically represented as 1 (for a success) or 0 (for a failure) given a number of trials in the data. The binomial distribution, therefore, represents the probability for x successes in n trials, given a success probability p for each trial.\" (Investopedia, 2019)\n",
    "\n",
    "- The mean of the binomial distribution is np, and the variance of the binomial distribution is np (1 − p). When p = 0.5, the distribution is symmetric around the mean. When p > 0.5, the distribution is skewed to the left. When p < 0.5, the distribution is skewed to the right. (Investopedia, 2019)\n",
    "\n",
    "The probability density for the binomial distribution is:\n",
    "\n",
    "\n",
    "![title](Binomialfunction.svg)\n",
    "\n",
    "\n",
    "where n is the number of trials, p is the probability of success, and N is the number of successes. An example of how to calculate it <a href=\"https://www.investopedia.com/articles/active-trading/092114/basics-binomial-distribution.asp\" target=\"_blank\">here</a>\n",
    "\n",
    "\"When estimating the standard error of a proportion in a population by using a random sample, the normal distribution works well unless the product p*n <=5, where p = population proportion estimate, and n = number of samples, in which case the binomial distribution is used instead. For example, a sample of 15 people shows 4 who are left handed, and 11 who are right handed. Then p = 4/15 = 27%. 0.27*15 = 4, so the binomial distribution should be used in this case.\" (Sci.Py.org, 2018) \n",
    "\n",
    "For example, assume that a casino created a new game in which participants are able to place bets on the number of heads or tails in a specified number of coin flips. Assume a participant wants to place a $10 bet that there would be exactly six heads in 20 coin flips. The participant wants to calculate the probability of this occurring, and therefore, he uses the calculation for the binomial distribution.\n",
    "- The probability was calculated as: (20! / (6! * (20 - 6))) * (0.50)^(6) * (1 - 0.50) ^ (20 - 6). Consequently, the probability of exactly six heads occurring in 20 coin flips is 0.037, or 3.7 per cent. The expected value in this instance was 10, so a bad bet was met. (Investopedia, 2019)"
   ]
  },
  {
   "cell_type": "markdown",
   "metadata": {},
   "source": [
    "\"A real world example. A company drills 9 wild-cat oil exploration wells, each with an estimated probability of success of 0.1. All nine wells fail. What is the probability of that happening? Let’s do 20,000 trials of the model, and count the number that generate zero positive results.\" (SciPy.org, 2019)"
   ]
  },
  {
   "cell_type": "code",
   "execution_count": 32,
   "metadata": {
    "scrolled": true
   },
   "outputs": [
    {
     "data": {
      "text/plain": [
       "0.39135"
      ]
     },
     "execution_count": 32,
     "metadata": {},
     "output_type": "execute_result"
    }
   ],
   "source": [
    "# A real world example. A company drills 9 wild-cat oil exploration wells,\n",
    "# each with an estimated probability of success of 0.1. All nine wells fail. What is the probability of that happening?\n",
    "#Let’s do 20,000 trials of the model, and count the number that generate zero positive results. (Adapted from Sci.Py.Org)\n",
    "sum(np.random.binomial(9, 0.1, 20000) == 0)/20000."
   ]
  },
  {
   "cell_type": "markdown",
   "metadata": {},
   "source": [
    "A **single coin flip** is an example of an experiment with a binary outcome. Coin flips meet the other binomial distribution requirement as well — the outcome of each individual coin flip is independent of all the others. Just to be clear, the outcomes of the experiment don’t need to be equally likely as they are with flips of a fair coin — the following things also meet the prerequisites of the binomial distribution:\n",
    "- An unfair coin (e.g. one with an 80% probability of coming up heads).\n",
    "- Randomly picking people on the street to answer a yes or no question.\n",
    "- Attempting to convince visitors of a website to buy a product — the yes or no outcome is whether they purchased or not.\n",
    "One thing that may trouble newcomers to probability and statistics is the idea of a probability distribution. We tend to think deterministically such as “I flipped a coin 10 times and produced 6 heads”. So the outcome is 6 — where is the distribution then?\n",
    "The probability distribution derives from variance. If both you and I flipped 10 coins, it’s pretty likely that we would get different results (you might get 5 heads and I get 7). This variance, a.k.a. uncertainty around the outcome, produces a probability distribution, which basically tells us what outcomes are relatively more likely (such as 5 heads) and which outcomes are relatively less likely (such as 10 heads).\n",
    "\n",
    "- We can demonstrate this example below.\n",
    "  1. Generate a random number between 0 and 1. If that number is 0.5 or more, then count it as heads, otherwise tails. Do this n times using a Python list comprehension. This happens within the function run_binom via the variables tosses.\n",
    "  2. Repeat this a specified number of times (the amount of trials is specified by the input variable trials). We will perform 1,000 trials.\n",
    "  \n",
    "#### What happens when we repeat our 10 coin toss trial 1,000 times? We get the histogram plotted below:\n"
   ]
  },
  {
   "cell_type": "code",
   "execution_count": 33,
   "metadata": {},
   "outputs": [
    {
     "name": "stderr",
     "output_type": "stream",
     "text": [
      "C:\\Users\\owner\\Anaconda\\lib\\site-packages\\scipy\\stats\\stats.py:1713: FutureWarning: Using a non-tuple sequence for multidimensional indexing is deprecated; use `arr[tuple(seq)]` instead of `arr[seq]`. In the future this will be interpreted as an array index, `arr[np.array(seq)]`, which will result either in an error or a different result.\n",
      "  return np.add.reduce(sorted[indexer] * weights, axis=axis) / sumval\n"
     ]
    },
    {
     "data": {
      "text/plain": [
       "Text(0, 0.5, 'Frequency')"
      ]
     },
     "execution_count": 33,
     "metadata": {},
     "output_type": "execute_result"
    },
    {
     "data": {
      "image/png": "[encoded data removed]",
      "text/plain": [
       "<Figure size 720x360 with 1 Axes>"
      ]
     },
     "metadata": {
      "needs_background": "light"
     },
     "output_type": "display_data"
    }
   ],
   "source": [
    "# Code adapted from (Towards Data Science, 2018)\n",
    "# n: the number of times we perform our experiment. \n",
    "# In our coin example, n is equal to 10 (each experiment is 1 flip of the coin).\n",
    "# p: the probability of success. For a fair coin, it would be 50%.\n",
    "# k: the target number of successes. Earlier we mentioned that we were looking for 6 successes.\n",
    "# Import Libraries.\n",
    "import matplotlib.pyplot as plt\n",
    "import seaborn as sns\n",
    "# Input variables\n",
    "# Number of trials\n",
    "trials = 1000\n",
    "# Number of independent experiments in each trial.\n",
    "n = 10\n",
    "# Probability of success for each experiment.\n",
    "p = 0.5\n",
    "# Function that runs our coin toss trials.\n",
    "# heads is a list of the number of successes from each trial of n experiments.\n",
    "def run_binom(trials, n, p):\n",
    "    heads = []\n",
    "    for i in range(trials):\n",
    "        tosses = [np.random.random() for i in range(n)]\n",
    "        heads.append(len([i for i in tosses if i>=0.50]))\n",
    "    return heads\n",
    "\n",
    "heads = run_binom(trials, n, p) # # Run the function\n",
    "# Plot the results as a histogram\n",
    "fig, ax = plt.subplots(figsize=(10,5)) # Size\n",
    "ax = sns.distplot(heads, bins=11, label='simulation results') # Plots the values, size and labels.\n",
    "ax.set_xlabel(\"Number of Heads\",fontsize=16) # Font size of label on x axis\n",
    "ax.set_ylabel(\"Frequency\",fontsize=16) # Font size of Freq"
   ]
  },
  {
   "cell_type": "markdown",
   "metadata": {},
   "source": [
    "Now we can modify the plotting section of our previous code above, so that our plot also shows the actual binomial distribution."
   ]
  },
  {
   "cell_type": "code",
   "execution_count": 34,
   "metadata": {
    "scrolled": true
   },
   "outputs": [
    {
     "data": {
      "image/png": "[encoded data removed]",
      "text/plain": [
       "<Figure size 432x288 with 1 Axes>"
      ]
     },
     "metadata": {
      "needs_background": "light"
     },
     "output_type": "display_data"
    },
    {
     "name": "stdout",
     "output_type": "stream",
     "text": [
      "Actual Binomial Distribution in red.\n"
     ]
    }
   ],
   "source": [
    "# Plot the actual binomial distribution as a sanity check.\n",
    "from scipy.stats import binom\n",
    "x = range(0,11)# Range of values\n",
    "ax.plot(x, binom.pmf(x, n, p), label='actual binomial distribution')# Actual Binomial Distribution in red. \n",
    "ax = sns.distplot(heads, bins=11, label='Simulation results') # Displays Simulation results.\n",
    "ax.vlines(x, 0, binom.pmf(x, n, p), colors='r', lw=5, alpha=0.5) # Sets values for his, colour, length and width etc.\n",
    "plt.legend()\n",
    "plt.show()\n",
    "print(\"Actual Binomial Distribution in red.\")"
   ]
  },
  {
   "cell_type": "markdown",
   "metadata": {},
   "source": [
    "\"The takeaway is that the binomial distribution is a pretty good approximation of what we would have observed if we had actually repeated our 10 coin tosses 1,000 times — so instead of wasting tons of time tossing coins and recording the results, we can just use the binomial distribution!\" (Towards Data Science, 2018)"
   ]
  },
  {
   "cell_type": "markdown",
   "metadata": {},
   "source": [
    "### 3.5 Numpy.random.multinomial\n",
    "\n",
    "A <a href=\"https://www.tutorialspoint.com/statistics/multinomial_distribution.htm\" target=\"_blank\">multinomial</a> experiment is a statistical experiment and it consists of n repeated trials. Each trial has a discrete number of possible outcomes. On any given trial, the probability that a particular outcome will occur is constant.\n",
    "\n",
    "The multinomial distribution is used to find probabilities in experiments where there are more than two outcomes. A multinomial experiment is almost identical to binomial eperiment, with one main difference: a binomial experiment can have two outcomes, while a multinomial experiment can have multiple outcomes.\n",
    "\n",
    "Example: You roll a die ten times to see what number you roll. There are 6 possibilities (1,2,3,4,5,6), so this is a multinomial experiment. If you rolled the die ten times to see how many times you roll a three, that would be a binomial experiment (3 = success, 1,2,4,5,6 = failure).\n",
    "\n",
    "The multinomial distribution is a multivariate generalisation of the binomial distribution. Take an experiment with one of p possible outcomes. An example of such an experiment is throwing a dice, where the outcome can be 1 through 6. Each sample drawn from the distribution represents n such experiments. Its values, X_i = [X_0, X_1, ..., X_p], represent the number of times the outcome was i. (Sci.py.org, 2019)\n",
    "\n"
   ]
  },
  {
   "cell_type": "code",
   "execution_count": 35,
   "metadata": {},
   "outputs": [
    {
     "data": {
      "text/plain": [
       "array([[5, 2, 4, 2, 3, 4]])"
      ]
     },
     "execution_count": 35,
     "metadata": {},
     "output_type": "execute_result"
    }
   ],
   "source": [
    "# Fr e.g if you throw a dice 20 times, \n",
    "np.random.multinomial(20, [1/6.]*6, size=1) # Function, throw dice 20 times, displaying six values.\n",
    "# It landed 3 times on 5, two times on 2, and so on."
   ]
  },
  {
   "cell_type": "code",
   "execution_count": 36,
   "metadata": {},
   "outputs": [
    {
     "data": {
      "text/plain": [
       "array([[2, 3, 5, 4, 5, 1],\n",
       "       [2, 7, 3, 2, 3, 3]])"
      ]
     },
     "execution_count": 36,
     "metadata": {},
     "output_type": "execute_result"
    }
   ],
   "source": [
    "# Now, throw the dice 20 times, and 20 times again:\n",
    "np.random.multinomial(20, [1/6.]*6, size=2)"
   ]
  },
  {
   "cell_type": "markdown",
   "metadata": {},
   "source": [
    "For the first run, we threw 3 times 1, 4 times 2, etc. For the second, we threw 2 times 1, 4 times 2, etc."
   ]
  },
  {
   "cell_type": "markdown",
   "metadata": {},
   "source": [
    "## 5.  Use of seeds in generating pseudorandom numbers."
   ]
  },
  {
   "cell_type": "markdown",
   "metadata": {},
   "source": [
    "**What is a random seed?**\n",
    "\n",
    "\n",
    "\"A random seed is a starting point in generating random numbers. A random seed specifies the start point when a computer generates a random number sequence. This can be any number, but it usually comes from seconds on a computer system's clock. A computer counts seconds from January 1, 1970 — a system called Unix time. At time I am writing this sentence it is 11:01:46 EST on February 5, 2017: 1486310506 seconds after 1-1-1970 (you can find the current Unix time here). Having such a large range for seeds (0 to 1+ billion) pretty much ensures that you don’t get the same random seed isn’t used twice — unless you want to.\"(Stats how to, 2017)\n",
    "\n",
    "\n",
    "\"For example, let’s say you wanted to generate a random number in Excel (Note: Excel sets a limit of 9999 for the seed). If you enter a number into the Random Seed box during the process, you’ll be able to use the same set of random numbers again. If you typed “77” into the box, and typed “77” the next time you run the random number generator, Excel will display that same set of random numbers. If you type “99”, you’ll get an entirely different set of numbers. But if you revert back to a seed of 77, then you’ll get the same set of random numbers you started with.\"(Stats how to, 2017)\n",
    "\n",
    "**Random.state**\n",
    "\n",
    "<a href=\"https://www.tutorialspoint.com/statistics/multinomial_distribution.htm\" target=\"_blank\">Random State</a> exposes a number of methods for generating random numbers drawn from a variety of probability distributions. In addition to the distribution-specific arguments, each method takes a keyword argument size that defaults to None. If size is None, then a single value is generated and returned. If size is an integer, then a 1-D array filled with generated values is returned. If size is a tuple, then an array with that shape is filled and returned. (SciPy.org, 2019)\n",
    "\n",
    "\n",
    "**What is the seed of a number?**\n",
    "\n",
    "\n",
    "Seeds (Or Seed Roots) of a number. A Seed of a number n is a number x such that multiplication of x with its digits is equal to n. The task is to find all seeds of a given number n.\n",
    "\n",
    "Input  : n = 138\n",
    "Output : 23 \n",
    "23 is a seed of 138 because\n",
    "23*2*3 is equal to 138\n",
    "\n",
    "Input : n = 4977\n",
    "Output : 79 711 \n",
    "79 is a seed of 4977 because\n",
    "79 * 7 * 9 = 4977.\n",
    "711 is also a seed of 4977 because\n",
    "711 * 1 * 1 * 7 = 4977\n",
    "\n",
    "Input  : n = 9\n",
    "Output : No seed exists (Geeks for Geeks, 2016)\n",
    "\n",
    "**What does random seed () do?**\n",
    "Seed function is used to save the state of random function, so that it can generate some random numbers on multiple execution of the code on the same machine or on different machines (for a specific seed value). Seed value is the previous value number generated by the generator. (Geeks for Geeks, 2016)\n",
    "\n",
    "\n",
    "**The main point of using the seed:**\n",
    "\n",
    "\n",
    "Is to be able to reproduce a particular sequence of 'random' numbers. Generally speaking, if you don't need to be able to do that, you wouldn't set the seed. The seed itself carries no inherent meaning except it's a way of telling the random number generator 'where to start'. You might think of it a bit like the relationship between a PIN number and your bank account. The PIN is associated with a long string of numbers (your account number), but it's not inherently an interpretable quantity. (Stack Exchange, 2019)\n",
    "\n",
    "\n",
    "**How does the random number generator work?**\n",
    "\n",
    "<a href=\"https://en.wikipedia.org/wiki/Pseudorandom_number_generator\" target=\"_blank\">Pseudo-random number generators</a> work by performing some operation on a value. Generally this value is the previous number generated by the generator. However, the first time you use the generator, there is no previous value.\n",
    "\n",
    "Seeding a pseudo-random number generator gives it its first \"previous\" value. Each seed value will correspond to a sequence of generated values for a given random number generator. That is, if you provide the same seed twice, you get the same sequence of numbers twice.\n",
    "\n",
    "Generally, you want to seed your random number generator with some value that will change each execution of the program. For instance, the current time is a frequently-used seed. The reason why this doesn't happen automatically is so that if you want, you can provide a specific seed to get a known sequence of numbers. (Stackoverflow, 2014)\n",
    "\n",
    "\n",
    "A Random Number Generator is a technology designed to generate a sequence that does not have any pattern, therefore appear to be random. ... Hardware random generators (TRNG): Hardware RNGs do not require seeds because hardware random numbers are not computed values; they are not derived through a repeatable algorithm. (Stack Exchange, 2019)\n"
   ]
  },
  {
   "cell_type": "markdown",
   "metadata": {},
   "source": [
    "**Random.seed** gives a value to random value generator, which generates these values on the basis of this seed. Once you put same seed you get the same pattern of random numbers. So you are generating them right from the start again. You give a different seed it starts with a different number."
   ]
  },
  {
   "cell_type": "code",
   "execution_count": 37,
   "metadata": {
    "scrolled": true
   },
   "outputs": [
    {
     "data": {
      "text/plain": [
       "0.5507979025745755"
      ]
     },
     "execution_count": 37,
     "metadata": {},
     "output_type": "execute_result"
    }
   ],
   "source": [
    "np.random.seed(3) # Gen a random number.\n",
    "np.random.random() "
   ]
  },
  {
   "cell_type": "code",
   "execution_count": 38,
   "metadata": {
    "scrolled": true
   },
   "outputs": [
    {
     "data": {
      "text/plain": [
       "0.5507979025745755"
      ]
     },
     "execution_count": 38,
     "metadata": {},
     "output_type": "execute_result"
    }
   ],
   "source": [
    "np.random.seed(3) # If you want to use the same number as before, use the same seed.\n",
    "np.random.random()"
   ]
  },
  {
   "cell_type": "code",
   "execution_count": 39,
   "metadata": {},
   "outputs": [
    {
     "data": {
      "text/plain": [
       "0.7081478226181048"
      ]
     },
     "execution_count": 39,
     "metadata": {},
     "output_type": "execute_result"
    }
   ],
   "source": [
    "np.random.random() # Generates a different value if you don't use the same seed as before."
   ]
  },
  {
   "cell_type": "markdown",
   "metadata": {},
   "source": [
    "Every time we are running the above program we are setting seed to 10, then random generator takes this as a reference variable. And then by doing some predefined formula, it generates a random number."
   ]
  },
  {
   "cell_type": "code",
   "execution_count": 40,
   "metadata": {},
   "outputs": [
    {
     "name": "stdout",
     "output_type": "stream",
     "text": [
      "13\n",
      "23\n",
      "72\n",
      "29\n",
      "11\n",
      "62\n"
     ]
    }
   ],
   "source": [
    "np.random.seed(14)\n",
    "\n",
    "for i in range(6):    \n",
    "    print(np.random.randint(1, 80))"
   ]
  },
  {
   "cell_type": "code",
   "execution_count": 41,
   "metadata": {
    "scrolled": true
   },
   "outputs": [
    {
     "name": "stdout",
     "output_type": "stream",
     "text": [
      "13\n",
      "23\n",
      "72\n",
      "29\n",
      "11\n",
      "62\n"
     ]
    }
   ],
   "source": [
    "np.random.seed(14)\n",
    "\n",
    "for i in range(6):    \n",
    "    print(np.random.randint(1, 80))"
   ]
  },
  {
   "cell_type": "code",
   "execution_count": 42,
   "metadata": {},
   "outputs": [
    {
     "name": "stdout",
     "output_type": "stream",
     "text": [
      "first number  -  28\n",
      "Second number-  28\n"
     ]
    },
    {
     "data": {
      "text/plain": [
       "0.8874117053874859"
      ]
     },
     "execution_count": 42,
     "metadata": {},
     "output_type": "execute_result"
    }
   ],
   "source": [
    "np.random.seed( 20 )\n",
    "print (\"first number  - \", np.random.randint(25,50)) # Set the seed, so if you want to use it again, use seed number.\n",
    "\n",
    "np.random.seed( 20 )\n",
    "print (\"Second number- \", np.random.randint(25,50)) # Prints the same number, using the seed you just set above.\n",
    "\n",
    "np.random.rand() # Prints a random number.\n"
   ]
  },
  {
   "cell_type": "markdown",
   "metadata": {},
   "source": [
    "**Random.state**\n",
    "\n",
    "<a href=\"https://docs.scipy.org/doc/numpy-1.15.0/reference/generated/numpy.random.RandomState.html\" target=\"_blank\">Random State</a> exposes a number of methods for generating random numbers drawn from a variety of probability distributions. In addition to the distribution-specific arguments, each method takes a keyword argument size that defaults to None. If size is None, then a single value is generated and returned. If size is an integer, then a 1-D array filled with generated values is returned. If size is a tuple, then an array with that shape is filled and returned. (SciPy.org, 2019)\n",
    "\n",
    "If you don't mention the random_state in the code, then whenever you execute your code a new random value is generated and the train and test datasets would have different values each time. You can see some examples <a href=\"https://stackoverflow.com/questions/28064634/random-state-pseudo-random-number-in-scikit-learn\" target=\"_blank\">here</a>\n",
    "\n",
    "However, if you use a particular value for random_state(random_state = 1 or any other value) everytime the result will be same,i.e, same values in train and test datasets. Refer below code:"
   ]
  },
  {
   "cell_type": "markdown",
   "metadata": {},
   "source": [
    "The function train_test_split splits arrays or matrices into random train and test subsets. That means that everytime you run it without specifying random_state, you will get a different result, this is expected behavior.\n",
    "No matter how many times you run the code, the output will always be 70. If you remove the random_state and run the code, output will be different everytime. (Stackoverflow, 2014)"
   ]
  },
  {
   "cell_type": "code",
   "execution_count": 43,
   "metadata": {},
   "outputs": [
    {
     "name": "stdout",
     "output_type": "stream",
     "text": [
      "70\n"
     ]
    }
   ],
   "source": [
    "import pandas as pd # code adapted from Stackoverflow.\n",
    "from sklearn.model_selection import train_test_split # Import train_test_split function.\n",
    "test_series = pd.Series(range(100)) # Test range\n",
    "size30split = train_test_split(test_series,random_state = 1,test_size = .3) \n",
    "size25split = train_test_split(test_series,random_state = 1,test_size = .25) #\n",
    "common = [element for element in size25split[0] if element in size30split[0]]\n",
    "print(len(common))"
   ]
  },
  {
   "cell_type": "markdown",
   "metadata": {},
   "source": [
    "## Summary of investigation into the Numpy.Random package.\n",
    "\n",
    "Numpy is the fundamental package for scientific computing with Python, that creates multi-dimensional arrays 2D, 3D etc. NumPy supports large, multidimensional arrays and matrices. We also found out NumPy is essential for other Python scientific packages like SciPy, scikit-learn and OpenCV.\n",
    "\n",
    "Whenever you want to generate random data, strings, or integers, you use the sub library of Numpy, which is Numpy.random. Most random data generated with Python is not fully random, it is pseudorandom: generated with a pseudorandom number generator (PRNG), which is essentially any algorithm for generating seemingly random but still reproducible data. True random numbers can be generated by,  a true random number generator (TRNG). One example is to repeatedly throw a dice off the floor, and let it land how it may, you have truly no idea what number the dice will land on.\n",
    "\n",
    "It provides numerous functions, to display random or data, seeded data (starting input). NumPy then uses the seed and the pseudo-random number generator in conjunction with other functions from the numpy.random to produce certain types of random outputs. We also found out above it can split data into random train and test sets, random shuffling of a dataset, how to generate arrays of random numbers via the NumPy library and the use of pseudorandom number generators. Overall it is an excellent package, with many different functions to generate all kinds of random numbers and strings.\n",
    "\n",
    "\n",
    "\n",
    "\n"
   ]
  },
  {
   "cell_type": "markdown",
   "metadata": {},
   "source": [
    "## Bibliography\n",
    "\n",
    "SciPy.org, 2018, Viewed on 2019/10/18, available at: https://docs.scipy.org/doc/numpy-1.15.0/reference/routines.random.html\n",
    "\n",
    "APMonitor, Youtube, 2017, viewed on 2019/11/04, available at: https://www.youtube.com/watch?v=Z2zUGmqIDto \n",
    "\n",
    "Stackoverflow, 2017, viewed on 2019/11/04, available at: (https://stackoverflow.com/questions/15474159/shuffle-vs-permute-numpy)\n",
    "\n",
    "Py.Native, 2019, viewed on the 2019/11/05, available at: https://pynative.com/python-random-shuffle/\n",
    "\n",
    "Crazy Geeks, 2019, viewed on the 2019/11/07, available at: https://www.crazygeeks.org/numpy-random-rand-in-python/\n",
    "\n",
    "Chris Albon, 2017, viewed on 2019/11/07, available at: https://chrisalbon.com/python/basics/generating_random_numbers_with_numpy/\n",
    "\n",
    "Machinemastery, 2019, viewed on the 2019/11/07, available at: https://machinelearningmastery.com/how-to-generate-random-numbers-in-python/\n",
    "\n",
    "Statistics How To, 2013, viewed on the 2019/11/07, available at: https://www.statisticshowto.datasciencecentral.com/poisson-distribution/\n",
    "\n",
    "Britannica, 2019, viewed on the 2019/11/07, available at: https://www.britannica.com/biography/Simeon-Denis-Poisson\n",
    "\n",
    "Stats How To, 2014, viewwed on 2019/11/07, available at: https://www.statstodo.com/Poisson_Exp.php\n",
    "\n",
    "\n",
    "Investopedia, 2019, viewed on the 2019/11/07, available at: https://www.investopedia.com/terms/b/binomialdistribution.asp\n",
    "\n",
    "Towards Data Science, 2018, viewed on the 2019/11/08, available at: https://towardsdatascience.com/fun-with-the-binomial-distribution-96a5ecabf65b\n",
    "\n",
    "Statistics How To, 2017, viewed on the 2019/11/08, available at: https://www.statisticshowto.datasciencecentral.com/random-seed-definition/\n",
    "\n",
    "Geeks for Geeks, 2016, viewed on the 2019/11/08, available at: https://www.geeksforgeeks.org/seeds-or-seed-roots-of-a-number/\n",
    "\n",
    "Stack Exchange, 2019, viewed on the 2019/11/08, available at: https://stats.stackexchange.com/questions/86285/random-number-set-seedn-in-r\n",
    "\n",
    "Stackoverflow, 2014, viewed on the 2019/11/08, available at: https://stackoverflow.com/questions/22639587/random-seed-what-does-it-do\n",
    "\n",
    "Stackoverflow, 2015, viewed on the 2019/11/09, abailable at: https://stackoverflow.com/questions/22994423/difference-between-np-random-seed-and-np-random-randomstate"
   ]
  },
  {
   "cell_type": "code",
   "execution_count": null,
   "metadata": {},
   "outputs": [],
   "source": []
  }
 ],
 "metadata": {
  "kernelspec": {
   "display_name": "Python 3",
   "language": "python",
   "name": "python3"
  },
  "language_info": {
   "codemirror_mode": {
    "name": "ipython",
    "version": 3
   },
   "file_extension": ".py",
   "mimetype": "text/x-python",
   "name": "python",
   "nbconvert_exporter": "python",
   "pygments_lexer": "ipython3",
   "version": "3.7.1"
  }
 },
 "nbformat": 4,
 "nbformat_minor": 2
}
