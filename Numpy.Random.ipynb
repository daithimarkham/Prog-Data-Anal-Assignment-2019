{
 "cells": [
  {
   "cell_type": "markdown",
   "metadata": {},
   "source": [
    "# Numpy.Random Package.\n",
    "![title](NumpyImage.jpg) Source(APMonitor.com)"
   ]
  },
  {
   "cell_type": "markdown",
   "metadata": {},
   "source": [
    "## Numpy.Random package.\n",
    "Creates random numbers and arrays. Whenever you want to generate an array of random numbers you need to use numpy.random, which has multiple functions. These functions generate the random n-dimensional array/arrays for various distributions, size, mean, width, colour on histograms and plots, etc, which we will be discussing later below.\n",
    "\n",
    "### How to the Numpy Ramdom module. \n",
    "- The random package has many functions to help generate numberous different types of numbers. We will see below how to use these functions. \n",
    "- You will need to import the numpy package below. (import numpy as np)\n",
    "\n"
   ]
  },
  {
   "cell_type": "markdown",
   "metadata": {},
   "source": [
    "## Simple Random Data."
   ]
  },
  {
   "cell_type": "markdown",
   "metadata": {},
   "source": [
    "There are many ways to generate random numbers. Numpy.random creates random values in a given shape, returns a sample/samples, from the standard normal distribution. It returns random integers from low to high. Below, we can look at some.\n",
    "\n",
    "#### Code below, adapted from SciPy.org."
   ]
  },
  {
   "cell_type": "code",
   "execution_count": null,
   "metadata": {},
   "outputs": [],
   "source": [
    "# Import Numpy Package\n",
    "import numpy as np"
   ]
  },
  {
   "cell_type": "markdown",
   "metadata": {},
   "source": [
    "#### np.random.normal"
   ]
  },
  {
   "cell_type": "code",
   "execution_count": 22,
   "metadata": {},
   "outputs": [
    {
     "name": "stdout",
     "output_type": "stream",
     "text": [
      "Generating random number using random.normal()\n"
     ]
    },
    {
     "data": {
      "text/plain": [
       "0.4945387924282151"
      ]
     },
     "execution_count": 22,
     "metadata": {},
     "output_type": "execute_result"
    }
   ],
   "source": [
    "# Generates A Random Number From The Normal Distribution.\n",
    "print(\"Generating random number using random.normal()\")\n",
    "np.random.normal()"
   ]
  },
  {
   "cell_type": "markdown",
   "metadata": {},
   "source": [
    "#### np.random.rand\n",
    "- Numpy creates arrays. Random numbers in this case between 0 and 1.\n",
    "- Contains arrays, floating numbers."
   ]
  },
  {
   "cell_type": "code",
   "execution_count": 23,
   "metadata": {},
   "outputs": [
    {
     "data": {
      "text/plain": [
       "array([[0.54105658, 0.49910612],\n",
       "       [0.02347181, 0.75375952],\n",
       "       [0.49962225, 0.90906719],\n",
       "       [0.64461757, 0.52067453]])"
      ]
     },
     "execution_count": 23,
     "metadata": {},
     "output_type": "execute_result"
    }
   ],
   "source": [
    "# Contains arrays, floating numbers.\n",
    "np.random.rand(4,2)"
   ]
  },
  {
   "cell_type": "markdown",
   "metadata": {},
   "source": [
    "- Get an array with 9 elements in it."
   ]
  },
  {
   "cell_type": "code",
   "execution_count": 24,
   "metadata": {},
   "outputs": [
    {
     "data": {
      "text/plain": [
       "array([0.02766635, 0.48386886, 0.63473525, 0.2421602 , 0.47136588,\n",
       "       0.9748613 , 0.71717478, 0.5905774 , 0.33852782])"
      ]
     },
     "execution_count": 24,
     "metadata": {},
     "output_type": "execute_result"
    }
   ],
   "source": [
    "# Displays 9 elements.\n",
    "np.random.rand(9)"
   ]
  },
  {
   "cell_type": "markdown",
   "metadata": {},
   "source": [
    "- Displays two arrays, four rows and thee columns."
   ]
  },
  {
   "cell_type": "code",
   "execution_count": 25,
   "metadata": {},
   "outputs": [
    {
     "data": {
      "text/plain": [
       "array([[[0.43596318, 0.98826036, 0.45479941],\n",
       "        [0.66788704, 0.99571237, 0.94643202],\n",
       "        [0.25617833, 0.1570914 , 0.78757874],\n",
       "        [0.64135991, 0.76127892, 0.3834424 ]],\n",
       "\n",
       "       [[0.83871648, 0.71616624, 0.62034908],\n",
       "        [0.45964703, 0.20604267, 0.44066981],\n",
       "        [0.1495339 , 0.14282361, 0.15091533],\n",
       "        [0.51361931, 0.03761348, 0.30393981]]])"
      ]
     },
     "execution_count": 25,
     "metadata": {},
     "output_type": "execute_result"
    }
   ],
   "source": [
    "# Generates random data, and ouputs in arrays, rows and columns.\n",
    "np.random.rand(2,4,3)"
   ]
  },
  {
   "cell_type": "markdown",
   "metadata": {},
   "source": [
    "To display the numbers on a histogram."
   ]
  },
  {
   "cell_type": "code",
   "execution_count": 26,
   "metadata": {},
   "outputs": [],
   "source": [
    "x = np.random.rand(1000)"
   ]
  },
  {
   "cell_type": "code",
   "execution_count": 27,
   "metadata": {},
   "outputs": [
    {
     "data": {
      "text/plain": [
       "<function matplotlib.pyplot.show(*args, **kw)>"
      ]
     },
     "execution_count": 27,
     "metadata": {},
     "output_type": "execute_result"
    },
    {
     "data": {
      "image/png": "[encoded data removed]",
      "text/plain": [
       "<Figure size 432x288 with 1 Axes>"
      ]
     },
     "metadata": {
      "needs_background": "light"
     },
     "output_type": "display_data"
    }
   ],
   "source": [
    "# Histogram shows the most typical values out of 1000 and displays in a bar chart.\n",
    "%matplotlib inline\n",
    "import matplotlib.pyplot as plt\n",
    "plt.hist(x)\n",
    "plt.show # this will display if the above command does not display. \n",
    "# If the above is not displaying type in %matplotlib inline"
   ]
  },
  {
   "cell_type": "markdown",
   "metadata": {},
   "source": [
    "#### Numpy.random.choice\n",
    "-  Generates a random sample from a given 1-D array\n"
   ]
  },
  {
   "cell_type": "code",
   "execution_count": 28,
   "metadata": {},
   "outputs": [
    {
     "data": {
      "text/plain": [
       "array([4, 4, 1])"
      ]
     },
     "execution_count": 28,
     "metadata": {},
     "output_type": "execute_result"
    }
   ],
   "source": [
    "# Generate a uniform random sample from np.arange(5) of size 3:\n",
    "np.random.choice(5, 3)"
   ]
  },
  {
   "cell_type": "markdown",
   "metadata": {},
   "source": [
    "#### Numpy.random.ranf\n",
    "-Return random floats in the half-open interval [0.0, 1.0)."
   ]
  },
  {
   "cell_type": "code",
   "execution_count": 29,
   "metadata": {
    "scrolled": true
   },
   "outputs": [
    {
     "data": {
      "text/plain": [
       "0.49697164642245295"
      ]
     },
     "execution_count": 29,
     "metadata": {},
     "output_type": "execute_result"
    }
   ],
   "source": [
    "# numpy.random.ranf\n",
    "np.random.random_sample()"
   ]
  },
  {
   "cell_type": "markdown",
   "metadata": {},
   "source": [
    "- Displays what type of an integer it is."
   ]
  },
  {
   "cell_type": "code",
   "execution_count": null,
   "metadata": {},
   "outputs": [],
   "source": [
    "# Type of number\n",
    "type(np.random.random_sample())"
   ]
  },
  {
   "cell_type": "markdown",
   "metadata": {},
   "source": [
    "- Displays five random numbers."
   ]
  },
  {
   "cell_type": "code",
   "execution_count": 30,
   "metadata": {},
   "outputs": [
    {
     "data": {
      "text/plain": [
       "array([2.78585092e-01, 6.74040201e-01, 2.66595940e-04, 1.52575225e-01,\n",
       "       9.59784609e-01])"
      ]
     },
     "execution_count": 30,
     "metadata": {},
     "output_type": "execute_result"
    }
   ],
   "source": [
    "# Number of random numbers.\n",
    "np.random.random_sample((5,))"
   ]
  },
  {
   "cell_type": "markdown",
   "metadata": {},
   "source": [
    "- Three-by-two array of random numbers from [-5, 0)"
   ]
  },
  {
   "cell_type": "code",
   "execution_count": 31,
   "metadata": {
    "scrolled": true
   },
   "outputs": [
    {
     "data": {
      "text/plain": [
       "array([[-2.80446159, -1.25804654],\n",
       "       [-4.5629056 , -4.52526691],\n",
       "       [-1.78816345, -0.95075391]])"
      ]
     },
     "execution_count": 31,
     "metadata": {},
     "output_type": "execute_result"
    }
   ],
   "source": [
    "# Three rows, two columns, numbers between -5 and 0.\n",
    "5 * np.random.random_sample((3, 2)) - 5"
   ]
  },
  {
   "cell_type": "markdown",
   "metadata": {},
   "source": [
    "#### Numpy.random.bytes"
   ]
  },
  {
   "cell_type": "code",
   "execution_count": 19,
   "metadata": {},
   "outputs": [
    {
     "data": {
      "text/plain": [
       "b'\\x94\\xf9&M\\xf2\\xb5\\x0e-\\xe6\\xfe\\xb5\\x91e\\x93\\x9d\\xcc\\xf25'"
      ]
     },
     "execution_count": 19,
     "metadata": {},
     "output_type": "execute_result"
    }
   ],
   "source": [
    "# Returns random bytes.\n",
    "np.random.bytes(18)"
   ]
  },
  {
   "cell_type": "markdown",
   "metadata": {},
   "source": [
    "## Permutations \n",
    "- Next we will look at permutations shuffle and permutation , which is randomly permute a sequence, or return a permuted range."
   ]
  },
  {
   "cell_type": "markdown",
   "metadata": {},
   "source": [
    "#### Numpy.random.shuffle(x)\n",
    "- Random.shuffle function used to shuffle the sequence in place, it changes the position of items in a list.\n",
    "- Modify a sequence in-place by shuffling its contents."
   ]
  },
  {
   "cell_type": "code",
   "execution_count": 17,
   "metadata": {},
   "outputs": [
    {
     "data": {
      "text/plain": [
       "array([3, 2, 8, 1, 6, 9, 4, 0, 5, 7])"
      ]
     },
     "execution_count": 17,
     "metadata": {},
     "output_type": "execute_result"
    }
   ],
   "source": [
    "# Randomly shuffles the list.\n",
    "arr = np.arange(10)\n",
    "np.random.shuffle(arr)\n",
    "arr"
   ]
  },
  {
   "cell_type": "markdown",
   "metadata": {},
   "source": [
    "- If you want to shuffle as per your need, then you can pass your custom random function in the place of random argument, which will dictate shuffle function, and how it randomizes the items of a list. (Py.Native, 2019)\n",
    "- Can do the same with strings.\n"
   ]
  },
  {
   "cell_type": "code",
   "execution_count": 32,
   "metadata": {
    "scrolled": true
   },
   "outputs": [
    {
     "name": "stdout",
     "output_type": "stream",
     "text": [
      "List :  [5, 32, 21, 22, 56, 36, 34, 56, 6, 23]\n"
     ]
    },
    {
     "ename": "NameError",
     "evalue": "name 'random' is not defined",
     "output_type": "error",
     "traceback": [
      "\u001b[1;31m--------------------------------------------------------------------------\u001b[0m",
      "\u001b[1;31mNameError\u001b[0m                                Traceback (most recent call last)",
      "\u001b[1;32m<ipython-input-32-a00fbfe37fe0>\u001b[0m in \u001b[0;36m<module>\u001b[1;34m\u001b[0m\n\u001b[0;32m      2\u001b[0m \u001b[0mprint\u001b[0m \u001b[1;33m(\u001b[0m\u001b[1;34m\"List : \"\u001b[0m\u001b[1;33m,\u001b[0m  \u001b[0mnumber_list\u001b[0m\u001b[1;33m)\u001b[0m\u001b[1;33m\u001b[0m\u001b[1;33m\u001b[0m\u001b[0m\n\u001b[0;32m      3\u001b[0m \u001b[1;33m\u001b[0m\u001b[0m\n\u001b[1;32m----> 4\u001b[1;33m \u001b[0mrandom\u001b[0m\u001b[1;33m.\u001b[0m\u001b[0mshuffle\u001b[0m\u001b[1;33m(\u001b[0m\u001b[0mnumber_list\u001b[0m\u001b[1;33m)\u001b[0m\u001b[1;33m\u001b[0m\u001b[1;33m\u001b[0m\u001b[0m\n\u001b[0m\u001b[0;32m      5\u001b[0m \u001b[0mprint\u001b[0m \u001b[1;33m(\u001b[0m\u001b[1;34m\"After first shuffle  : \"\u001b[0m\u001b[1;33m,\u001b[0m  \u001b[0mnumber_list\u001b[0m\u001b[1;33m)\u001b[0m\u001b[1;33m\u001b[0m\u001b[1;33m\u001b[0m\u001b[0m\n\u001b[0;32m      6\u001b[0m \u001b[1;33m\u001b[0m\u001b[0m\n",
      "\u001b[1;31mNameError\u001b[0m: name 'random' is not defined"
     ]
    }
   ],
   "source": [
    "number_list = [5, 32, 21, 22, 56, 36, 34, 56, 6, 23]\n",
    "print (\"List : \",  number_list)\n",
    "\n",
    "random.shuffle(number_list)\n",
    "print (\"After first shuffle  : \",  number_list)\n",
    "\n",
    "random.shuffle(number_list)\n",
    "print (\"After second shuffle : \",  number_list)"
   ]
  },
  {
   "cell_type": "markdown",
   "metadata": {},
   "source": [
    "- Shuffle string/strings"
   ]
  },
  {
   "cell_type": "code",
   "execution_count": null,
   "metadata": {},
   "outputs": [],
   "source": [
    "string_list = [\"Let it rain\", \"Chelsea Football Club\", \"John is there\", \"Don't do it\", \"He left to go shopping\", \"The bus stop\", \"Leave the ball\"]\n",
    "print (\"Original String list: \",  string_list)\n",
    "\n",
    "\n",
    "random.shuffle(string_list)\n",
    "print (\"String List after the first shuffle: \",  string_list)\n",
    "\n",
    "\n",
    "\n",
    "random.shuffle(string_list)\n",
    "print (\"String List after the second shuffle: \",  string_list)\n"
   ]
  },
  {
   "cell_type": "code",
   "execution_count": 33,
   "metadata": {},
   "outputs": [
    {
     "name": "stdout",
     "output_type": "stream",
     "text": [
      "Original String:  chocalate\n"
     ]
    },
    {
     "ename": "NameError",
     "evalue": "name 'random' is not defined",
     "output_type": "error",
     "traceback": [
      "\u001b[1;31m--------------------------------------------------------------------------\u001b[0m",
      "\u001b[1;31mNameError\u001b[0m                                Traceback (most recent call last)",
      "\u001b[1;32m<ipython-input-33-cf97acf90c24>\u001b[0m in \u001b[0;36m<module>\u001b[1;34m\u001b[0m\n\u001b[0;32m      5\u001b[0m \u001b[0mchar_list\u001b[0m \u001b[1;33m=\u001b[0m \u001b[0mlist\u001b[0m\u001b[1;33m(\u001b[0m\u001b[0mstring_one\u001b[0m\u001b[1;33m)\u001b[0m\u001b[1;33m\u001b[0m\u001b[1;33m\u001b[0m\u001b[0m\n\u001b[0;32m      6\u001b[0m \u001b[1;33m\u001b[0m\u001b[0m\n\u001b[1;32m----> 7\u001b[1;33m \u001b[0mrandom\u001b[0m\u001b[1;33m.\u001b[0m\u001b[0mshuffle\u001b[0m\u001b[1;33m(\u001b[0m\u001b[0mchar_list\u001b[0m\u001b[1;33m)\u001b[0m\u001b[1;33m\u001b[0m\u001b[1;33m\u001b[0m\u001b[0m\n\u001b[0m\u001b[0;32m      8\u001b[0m \u001b[1;33m\u001b[0m\u001b[0m\n\u001b[0;32m      9\u001b[0m \u001b[0mstring_one\u001b[0m \u001b[1;33m=\u001b[0m \u001b[1;34m''\u001b[0m\u001b[1;33m.\u001b[0m\u001b[0mjoin\u001b[0m\u001b[1;33m(\u001b[0m\u001b[0mchar_list\u001b[0m\u001b[1;33m)\u001b[0m\u001b[1;33m\u001b[0m\u001b[1;33m\u001b[0m\u001b[0m\n",
      "\u001b[1;31mNameError\u001b[0m: name 'random' is not defined"
     ]
    }
   ],
   "source": [
    "# Randomly shuffles a string\n",
    "string_one = \"chocalate\"\n",
    "print (\"Original String: \", string_one)\n",
    "\n",
    "char_list = list(string_one)\n",
    "\n",
    "random.shuffle(char_list)\n",
    "\n",
    "string_one = ''.join(char_list)\n",
    "print (\"shuffled String is: \", string_one)"
   ]
  },
  {
   "cell_type": "markdown",
   "metadata": {},
   "source": [
    "#### Numpy.random.permutation(x) \n",
    "Randomly permute a sequence, or return a permuted range. If x is a multi-dimensional array, it is only shuffled along its first index. (Sci.py.org)\n",
    "\n",
    "- If you want to generate random permutations of x, then what is the difference between shuffle(x) and permutation(x)?\n",
    "- np.random.permutation has two differences from np.random.shuffle:\n",
    "\n",
    "- If passed an array, it will return a shuffled copy of the array; np.random.shuffle shuffles the array in place.\n",
    "- If passed an integer, it will return a shuffled range i.e. np.random.shuffle(np.arange(n))\n",
    "- If x is an integer, randomly permute np.arange(x). If x is an array, make a copy and shuffle the elements randomly.\n",
    "- np.random.permutation is useful when you need to shuffle ordered pairs, especially for classification:\n",
    "\n",
    "(https://stackoverflow.com/questions/15474159/shuffle-vs-permute-numpy)"
   ]
  },
  {
   "cell_type": "code",
   "execution_count": 34,
   "metadata": {},
   "outputs": [
    {
     "data": {
      "text/plain": [
       "array([1, 0, 7, 2, 6, 9, 5, 3, 8, 4])"
      ]
     },
     "execution_count": 34,
     "metadata": {},
     "output_type": "execute_result"
    }
   ],
   "source": [
    "# Displays all the numbers from 0 to the number you enter.\n",
    "np.random.permutation(10)"
   ]
  },
  {
   "cell_type": "code",
   "execution_count": 35,
   "metadata": {
    "scrolled": true
   },
   "outputs": [
    {
     "data": {
      "text/plain": [
       "array([ 1,  4, 12, 15,  9])"
      ]
     },
     "execution_count": 35,
     "metadata": {},
     "output_type": "execute_result"
    }
   ],
   "source": [
    "# Outputs thenumbers you entered, randomly.\n",
    "np.random.permutation([1, 4, 9, 12, 15])"
   ]
  },
  {
   "cell_type": "code",
   "execution_count": 36,
   "metadata": {
    "scrolled": true
   },
   "outputs": [
    {
     "data": {
      "text/plain": [
       "array([[3, 4, 5],\n",
       "       [6, 7, 8],\n",
       "       [0, 1, 2]])"
      ]
     },
     "execution_count": 36,
     "metadata": {},
     "output_type": "execute_result"
    }
   ],
   "source": [
    "# Displays nums between 0 and 9, numerically in three rows.\n",
    "arr = np.arange(9).reshape((3, 3))\n",
    "np.random.permutation(arr)"
   ]
  },
  {
   "cell_type": "markdown",
   "metadata": {},
   "source": [
    "## Distribution Functions"
   ]
  },
  {
   "cell_type": "markdown",
   "metadata": {},
   "source": [
    "Uniform Distribution\n",
    "In statistics, a type of probability distribution in which all outcomes are equally likely; each variable has the same probability that it will be the outcome. A deck of cards has within it uniform distributions because the likelihood of drawing a heart, a club, a diamond or a spade is equally likely. A coin also has a uniform distribution because the probability of getting either heads or tails in a coin toss is the same.\n",
    "\n",
    "The uniform distribution can be visualized as a straight horizontal line, so for a coin flip returning a head or tail, both have a probability p = 0.50 and would be depicted by a line from the y-axis at 0.50."
   ]
  },
  {
   "cell_type": "code",
   "execution_count": 37,
   "metadata": {
    "scrolled": true
   },
   "outputs": [
    {
     "data": {
      "text/plain": [
       "array([3.18401407, 4.84858935, 2.75011569, 3.94826256, 2.05716559,\n",
       "       2.08784079, 3.08509567, 2.38041703, 2.18178251, 2.19095189])"
      ]
     },
     "execution_count": 37,
     "metadata": {},
     "output_type": "execute_result"
    }
   ],
   "source": [
    "# Get a 1000 numbers back.\n",
    "# Random,rand will only give you numbers between 0 and 1.\n",
    "# Random uniform will give you any numbers.\n",
    "np.random.uniform(2,5,10)"
   ]
  },
  {
   "cell_type": "code",
   "execution_count": 39,
   "metadata": {},
   "outputs": [],
   "source": [
    "# Pretty much does the same thing as the rand function which we looked at above.\n",
    "x = np.random.uniform(0,1000,10000)"
   ]
  },
  {
   "cell_type": "code",
   "execution_count": 40,
   "metadata": {
    "scrolled": true
   },
   "outputs": [
    {
     "data": {
      "text/plain": [
       "(array([1022.,  957., 1020., 1037.,  967., 1020.,  990.,  972.,  994.,\n",
       "        1021.]),\n",
       " array([3.56981572e-03, 1.00003185e+02, 2.00002801e+02, 3.00002416e+02,\n",
       "        4.00002032e+02, 5.00001647e+02, 6.00001263e+02, 7.00000879e+02,\n",
       "        8.00000494e+02, 9.00000110e+02, 9.99999725e+02]),\n",
       " <a list of 10 Patch objects>)"
      ]
     },
     "execution_count": 40,
     "metadata": {},
     "output_type": "execute_result"
    },
    {
     "data": {
      "image/png": "[encoded data removed]",
      "text/plain": [
       "<Figure size 432x288 with 1 Axes>"
      ]
     },
     "metadata": {
      "needs_background": "light"
     },
     "output_type": "display_data"
    }
   ],
   "source": [
    "# Shows the numbers on a bar chart.\n",
    "plt.hist(x)"
   ]
  },
  {
   "cell_type": "markdown",
   "metadata": {},
   "source": [
    "### Numpy.Random.Normal.¶\n",
    "\n",
    "Draw random samples from a normal (Gaussian) distribution.\n",
    "\n",
    "\n",
    "The probability density function of the normal distribution, first derived by De Moivre and 200 years later by both Gauss and Laplace independently [R255], is often called the bell curve because of its characteristic shape (see the example below).\n",
    "\n",
    "\n",
    "The normal distributions occurs often in nature. For example, it describes the commonly occurring distribution of samples influenced by a large number of tiny, random disturbances, each with its own unique distribution\n",
    "\n",
    "\n",
    "Below the numbers with e-01 at the end of it, means multipy whatever came before the e by 10 to the minus 1 or divide by 10, e-02 means divide by 100 and so on.\n",
    "\n",
    "\n",
    "Can take more functions and see how they work if you like."
   ]
  },
  {
   "cell_type": "code",
   "execution_count": 41,
   "metadata": {},
   "outputs": [
    {
     "data": {
      "text/plain": [
       "array([-1.33514707e-02, -1.24433978e-01,  5.10077131e-02,  4.66580514e-02,\n",
       "        6.66980937e-02,  2.99242397e-01, -1.74892893e-01,  5.20338959e-02,\n",
       "       -1.86125129e-01,  2.49472165e-01, -7.80604325e-02,  1.15518444e-01,\n",
       "       -2.33741979e-01,  2.36141243e-02, -1.54675680e-01, -1.46300553e-01,\n",
       "        4.69168373e-02, -1.16042241e-01, -2.09265227e-01,  1.29351247e-01,\n",
       "       -2.02821517e-02, -5.57561124e-02,  6.04671792e-03, -3.21394340e-02,\n",
       "        8.91666213e-02,  1.43765256e-01, -2.10691878e-01,  7.64085236e-03,\n",
       "       -3.50223560e-02,  1.08780834e-01, -5.62497806e-02,  1.19093987e-01,\n",
       "       -3.16982247e-02,  5.48182360e-02, -7.14689293e-02,  8.10998976e-02,\n",
       "       -5.46575538e-03, -1.03462596e-02, -9.71201690e-02,  1.85855778e-01,\n",
       "       -1.29018345e-01, -1.63531621e-01,  2.17731159e-02, -5.63383742e-02,\n",
       "        1.82878840e-01, -8.65594559e-03, -1.13599579e-01,  1.35698566e-01,\n",
       "        1.03879869e-01,  3.42617167e-03, -1.85012191e-01,  2.71733238e-02,\n",
       "        7.98141855e-02,  9.32864872e-02, -1.15022411e-01, -4.90336615e-02,\n",
       "        7.83998172e-02,  8.20635526e-02, -2.19679091e-02, -6.77093885e-02,\n",
       "        8.46539147e-02, -8.64132379e-02,  4.94941745e-02,  2.14726256e-02,\n",
       "        5.53018729e-02,  7.82333641e-02,  7.33514597e-02,  1.25804634e-01,\n",
       "        1.06159631e-02,  2.38933547e-01,  5.24157640e-02, -3.75596036e-02,\n",
       "        8.54826576e-02,  5.60068040e-02,  2.32705204e-01,  1.67117641e-04,\n",
       "       -8.23274743e-03,  5.14931989e-02, -1.24589620e-01, -1.52760178e-01,\n",
       "        2.48004919e-02,  6.73633598e-02, -4.99896606e-02,  1.85920100e-01,\n",
       "        8.67961584e-02, -1.34447549e-01,  6.09596987e-02,  7.04336690e-02,\n",
       "        7.68144651e-02, -8.61239026e-02, -1.09147660e-01,  1.92900642e-02,\n",
       "        3.18549181e-02, -1.66488967e-01, -2.54614559e-02,  8.01383120e-02,\n",
       "        9.35938957e-02,  1.03829781e-01,  5.27256747e-02,  4.37948396e-02,\n",
       "       -7.41138135e-02,  4.13246580e-02,  1.49902956e-01, -4.61687126e-02,\n",
       "        4.30933297e-03,  4.12263750e-02,  1.50125875e-01,  3.70161368e-02,\n",
       "       -6.42854918e-02,  9.43569240e-03,  9.64570727e-02,  1.67295668e-02,\n",
       "       -1.13129598e-01, -5.66940929e-02,  2.18723660e-02, -1.75099723e-01,\n",
       "        3.76673757e-02, -9.13555936e-02,  9.30657876e-02, -1.67949215e-01,\n",
       "       -7.82247521e-02, -3.33079527e-02,  8.70122265e-02,  8.39732425e-02,\n",
       "       -8.07419069e-03, -2.51569474e-02, -4.07916692e-02, -1.01146956e-01,\n",
       "        7.44414602e-02, -3.58231677e-03,  1.09038779e-01,  1.49187725e-01,\n",
       "        1.58079000e-01,  4.54639429e-02,  2.08473679e-02, -4.70479583e-03,\n",
       "       -1.39761411e-02, -4.96712995e-03,  2.95940076e-03, -9.83990971e-02,\n",
       "        4.23405062e-02,  1.10379779e-02, -1.19866404e-01, -5.41862328e-02,\n",
       "       -1.58983922e-01,  7.60683713e-02, -5.78539261e-03,  1.56565210e-01,\n",
       "        1.61046449e-01, -3.28963675e-02, -7.80896475e-02, -1.74347396e-01,\n",
       "        9.12373187e-02,  9.48636244e-02,  6.87618704e-02, -5.85213474e-02,\n",
       "       -1.47138346e-01,  2.45549616e-01, -1.47075763e-02,  1.05325362e-01,\n",
       "       -2.47696334e-01,  1.46044050e-01,  1.50798985e-03,  9.60170374e-02,\n",
       "        1.67714052e-01,  9.20009175e-02, -9.70257569e-02,  4.16676865e-02,\n",
       "        1.20852362e-01,  7.13874483e-02,  2.81632464e-02,  4.92187185e-02,\n",
       "        5.87897778e-02,  2.74410566e-03, -2.56926515e-02, -7.83899850e-02,\n",
       "        5.82030397e-02,  7.88589927e-02,  7.74701203e-02,  5.27529236e-02,\n",
       "       -4.79234132e-02,  5.43773294e-02, -1.03290935e-01, -1.55496019e-02,\n",
       "       -1.35297297e-01, -4.04186376e-02,  8.49982242e-03,  1.13064779e-01,\n",
       "        5.42776967e-02, -3.09496694e-02,  2.08020463e-02,  7.40480763e-03,\n",
       "        4.02454585e-02, -1.00446279e-01, -1.81440491e-02,  5.34411000e-02,\n",
       "       -1.55970251e-01, -3.32323489e-01,  2.12078505e-02, -1.23759064e-01,\n",
       "        2.28837589e-02, -1.61673778e-02,  7.53570274e-02, -9.17493354e-02,\n",
       "        8.75427812e-02, -3.16738096e-02,  7.94633049e-02,  6.88300437e-03,\n",
       "       -6.81831244e-02, -1.57649892e-02,  2.32931547e-02,  6.37825281e-02,\n",
       "       -1.43556027e-01, -2.23695937e-02,  1.42560814e-01, -1.94268918e-02,\n",
       "       -2.62080648e-02,  1.09634191e-01, -1.83787936e-03,  5.35800974e-02,\n",
       "        2.85710795e-02,  2.16135291e-02,  4.69925131e-02,  1.18696727e-01,\n",
       "       -9.90656550e-02, -3.53874215e-02,  2.14153633e-02, -1.04798433e-01,\n",
       "        4.40540124e-02, -5.59795515e-02,  2.61349061e-02,  1.97859660e-01,\n",
       "       -7.72999430e-02, -1.56710147e-01, -1.09894767e-01,  4.66470750e-02,\n",
       "        5.73071782e-02, -4.73563838e-02,  7.26324807e-03, -2.55035454e-01,\n",
       "        6.46972349e-02,  1.25463692e-01,  8.13759819e-02,  1.02774692e-01,\n",
       "        2.52259061e-02, -7.24144622e-02, -7.95229329e-02, -1.15861268e-01,\n",
       "        7.39989270e-02,  4.41138302e-02,  1.53495699e-02,  1.16245280e-01,\n",
       "       -7.84050971e-02,  1.20230159e-01,  6.03273955e-02, -1.99696693e-02,\n",
       "       -8.36083201e-02,  5.43617132e-02, -9.69051284e-02, -1.99319078e-03,\n",
       "       -9.30895760e-02,  2.05667075e-01, -8.88234490e-02,  2.65919706e-02,\n",
       "       -1.02813627e-01, -1.17311942e-01, -3.41555509e-02, -1.88128087e-02,\n",
       "       -1.06116286e-01,  3.57843871e-02,  2.01678269e-02, -8.33052070e-02,\n",
       "        3.08499798e-02,  1.86391141e-01,  3.20190517e-02,  4.40554579e-02,\n",
       "       -9.06890261e-02, -2.33107736e-03,  1.19408557e-02, -5.64867009e-02,\n",
       "        4.40150125e-02,  4.32685351e-02,  8.81570821e-02,  6.26435959e-02,\n",
       "        1.13851989e-02,  1.06203193e-01, -7.14735654e-02, -1.16053467e-01,\n",
       "        3.39434679e-02,  5.52891255e-02, -8.96928309e-02, -6.65552008e-02,\n",
       "        7.01581896e-02, -4.84907627e-02, -8.44871614e-02, -6.40405392e-02,\n",
       "       -1.61153853e-02, -1.23436281e-01,  6.82724404e-02,  9.21644337e-02,\n",
       "        4.11299829e-03, -1.22763690e-01,  2.10653285e-02, -1.72677084e-02,\n",
       "        1.78762203e-01,  1.48211485e-01,  1.58778393e-02,  8.20517243e-03,\n",
       "        1.28783492e-01,  4.83818599e-02,  7.76810991e-02, -3.68065395e-02,\n",
       "        6.73236303e-02,  9.78346788e-02, -1.34920876e-01,  1.97536998e-01,\n",
       "        4.25367053e-02,  6.26780532e-02,  6.74099721e-02, -1.23158967e-01,\n",
       "       -4.84292268e-02, -2.39895064e-01,  7.11843204e-02,  7.97928969e-04,\n",
       "        1.46351825e-01, -5.67359423e-02, -1.51414808e-01, -5.27812141e-02,\n",
       "       -1.57602412e-02, -2.28110380e-02, -1.40620063e-01,  1.28634312e-01,\n",
       "        1.72171310e-01,  4.49153131e-02,  1.76930129e-01,  2.36918886e-01,\n",
       "       -4.61317527e-02,  2.05654353e-01,  1.02901639e-01,  3.45610874e-03,\n",
       "        2.72819552e-02,  9.46887413e-02,  6.52690091e-02,  7.86902726e-02,\n",
       "       -9.34483285e-02, -1.51330598e-01,  5.38597842e-03,  8.97692335e-02,\n",
       "       -1.73470520e-01, -2.94749273e-02,  5.19732944e-02, -3.19319083e-02,\n",
       "        2.20725667e-01,  1.79511655e-01, -1.05642050e-01, -1.52566784e-01,\n",
       "       -2.32522452e-01, -7.90026590e-02, -1.18260316e-01, -6.17387128e-02,\n",
       "        2.36378625e-02, -2.07082331e-02,  2.08076000e-01,  1.54058660e-01,\n",
       "        1.18410204e-01, -1.95397038e-01,  6.90218302e-02, -1.77163187e-02,\n",
       "       -1.75022659e-02, -1.76797008e-01, -1.19474816e-01, -5.71755750e-02,\n",
       "       -1.13905879e-01, -7.63460042e-02, -1.45311784e-02,  4.11647667e-01,\n",
       "        1.26002254e-01,  2.33390299e-02, -6.28927859e-02,  1.37335178e-01,\n",
       "       -1.27811348e-01,  2.67769627e-02,  1.39007663e-02,  1.23415200e-01,\n",
       "       -1.19806587e-01, -1.33907451e-01,  2.10916245e-01, -2.01679199e-01,\n",
       "        5.48279674e-02, -8.38159197e-02,  1.23592059e-01,  1.74271545e-02,\n",
       "       -1.74749183e-01,  3.71155451e-02,  4.86094632e-02,  4.08576364e-02,\n",
       "        1.15639271e-02, -1.75321713e-02, -5.63502694e-02,  5.63751231e-02,\n",
       "       -1.54912405e-01,  3.46363742e-02, -3.42960742e-02, -5.85257571e-02,\n",
       "       -5.69603108e-02,  2.02116558e-01,  2.20212559e-02,  7.63912366e-02,\n",
       "        9.40965390e-02, -6.66175213e-02,  3.50611029e-03, -3.47548067e-03,\n",
       "       -2.17640779e-02, -4.86996085e-03, -1.31257544e-01, -7.20586522e-02,\n",
       "        1.44579956e-01,  1.33973766e-01, -9.76993819e-02,  4.32739379e-03,\n",
       "        4.01643297e-02, -1.96856077e-01, -2.39026165e-02,  1.13356892e-01,\n",
       "       -1.31614022e-01, -2.94701180e-02, -6.95305264e-03, -5.43915014e-02,\n",
       "       -1.53752780e-01, -1.77869579e-01, -2.64448982e-03,  2.41052904e-02,\n",
       "        2.90205487e-01,  7.15499181e-02,  9.64087716e-02,  2.91535604e-02,\n",
       "        8.35047807e-02,  1.19454814e-02,  8.75741372e-02, -1.68216145e-01,\n",
       "        2.41856582e-01, -6.55177804e-02, -1.34680840e-01,  1.66714576e-01,\n",
       "       -3.21140723e-02, -1.23557470e-01, -6.25485423e-02, -5.87431158e-02,\n",
       "       -1.69796829e-02, -1.96108191e-02,  1.38968305e-02, -4.00063061e-02,\n",
       "       -9.66999573e-02, -3.25962604e-02, -1.12736191e-02,  1.15065321e-02,\n",
       "        1.23575244e-02, -6.40383911e-02,  4.06636134e-02,  6.13769832e-02,\n",
       "       -1.40924825e-01, -1.83220814e-01, -5.95223044e-02,  3.36937454e-02,\n",
       "       -3.68037161e-02, -3.49653144e-02,  4.56584065e-02,  5.87650830e-02,\n",
       "        1.25380696e-01, -5.03423517e-02, -7.14037635e-02,  5.82521633e-02,\n",
       "       -1.50544203e-01, -2.72741592e-02,  6.29357152e-02,  2.07857345e-01,\n",
       "        3.80221365e-02, -1.42150729e-01, -3.99031240e-02, -2.06383587e-01,\n",
       "        1.37320906e-02, -5.22893691e-03, -2.86606442e-02, -3.33258324e-02,\n",
       "       -1.50787025e-01,  1.12686246e-02, -3.73954512e-02,  8.39317055e-02,\n",
       "        2.49761423e-01, -2.96664169e-02, -1.83329031e-01, -1.44828972e-01,\n",
       "       -7.43675184e-02,  1.66179551e-01, -1.80301301e-01,  8.55679081e-02,\n",
       "        5.01090683e-02,  5.48105082e-02, -3.62521476e-03,  1.46795057e-02,\n",
       "       -1.22362614e-01, -7.37802636e-02,  9.54027520e-04,  7.28630643e-02,\n",
       "       -7.14414516e-02,  7.74975683e-02, -3.30276352e-02, -1.98264917e-02,\n",
       "       -9.37304072e-02, -4.40268114e-02, -8.89487585e-02,  3.71469293e-03,\n",
       "       -1.70231201e-02, -1.11549847e-01,  3.38290696e-02,  1.00998042e-01,\n",
       "        7.14801760e-02, -7.40710371e-02, -5.17902420e-02,  9.14978081e-02,\n",
       "        6.98988375e-02,  3.17746570e-02,  4.04083721e-02,  1.04586976e-01,\n",
       "       -1.73398791e-02, -7.00495025e-02, -5.60665834e-02, -1.26239542e-01,\n",
       "        1.14846273e-01, -3.42986782e-02,  4.59314915e-02,  8.97210456e-02,\n",
       "       -7.58811267e-02, -1.24779728e-01, -2.21496827e-01, -9.97796741e-02,\n",
       "        4.72509146e-02, -3.47643688e-03, -3.76648041e-02,  7.28437383e-02,\n",
       "        7.28268898e-02,  1.41210407e-01,  7.54107142e-02, -1.50093588e-01,\n",
       "        1.18036819e-01, -1.53590438e-01, -2.02583407e-01, -5.04640112e-02,\n",
       "       -2.16900597e-02, -2.90038668e-02, -5.60343855e-02,  8.62193317e-02,\n",
       "       -4.98996796e-02, -1.15307173e-03,  2.49667399e-02, -3.83781906e-02,\n",
       "        9.02692656e-03, -2.09392099e-01, -1.75445596e-02, -2.42531083e-01,\n",
       "       -2.52356014e-02,  3.64624089e-02,  3.74892216e-02, -3.55041753e-02,\n",
       "        6.52100804e-02, -1.74961889e-01, -1.96742213e-02,  7.66217700e-03,\n",
       "       -1.22892587e-01, -2.74258793e-02,  8.30201642e-02, -1.35721875e-01,\n",
       "        8.75959395e-02,  2.14341319e-02, -8.48929111e-02,  4.51728785e-02,\n",
       "       -8.65693794e-02, -1.07728002e-01, -4.60348289e-02, -5.40256455e-02,\n",
       "        1.15004153e-02, -6.16712197e-02,  1.28030086e-01, -2.10021956e-01,\n",
       "        2.92153086e-02, -8.34537328e-02, -1.16635637e-01,  1.55792362e-01,\n",
       "        2.35716905e-02,  7.98432724e-03,  3.21613400e-02,  1.64019621e-01,\n",
       "        5.51763316e-02, -2.07984212e-01,  5.33761324e-02,  8.47309557e-02,\n",
       "       -1.70153568e-01, -2.29192324e-03, -6.56122897e-03, -2.44459080e-02,\n",
       "        2.49976226e-03,  2.71303766e-02,  1.00291308e-01, -4.75367028e-02,\n",
       "        1.29294430e-01, -1.26627449e-01, -3.67136225e-02,  2.65126745e-02,\n",
       "        3.15883532e-02,  1.32062250e-01, -1.96106733e-01,  1.79997952e-01,\n",
       "        5.73334729e-03, -8.04265615e-02,  3.72165210e-02,  1.62906859e-01,\n",
       "       -3.35823652e-02, -5.83232595e-02,  5.10891147e-03,  5.39982825e-02,\n",
       "        5.74850976e-02,  1.62159547e-01, -1.05355186e-01, -1.66858276e-02,\n",
       "        1.06996381e-01,  3.68992829e-02,  1.97076860e-02, -2.47458714e-02,\n",
       "       -1.17961111e-01,  1.74670577e-01, -7.09758873e-02,  9.57104120e-02,\n",
       "       -1.31718283e-01,  9.38733876e-02,  1.59782357e-02,  3.89315084e-03,\n",
       "       -6.15820900e-02,  2.97716779e-02, -7.26788789e-02,  5.30138936e-02,\n",
       "       -1.16166921e-01, -1.87298684e-02, -1.91110129e-01,  5.57594228e-02,\n",
       "        3.18106884e-02, -1.03147774e-01,  4.35208162e-02, -1.69119411e-02,\n",
       "        7.56124404e-02,  1.33366092e-01, -2.11656189e-02,  8.88636460e-02,\n",
       "        4.09003177e-02,  2.06171342e-02,  6.52878819e-02,  1.49968110e-02,\n",
       "       -1.32552243e-01,  2.14521883e-01,  7.26241743e-02,  5.50584421e-02,\n",
       "       -8.80875020e-02, -2.13414452e-03,  5.87075590e-02, -3.69806942e-03,\n",
       "        9.60568670e-02,  1.97066861e-01,  1.93772559e-01,  3.40696644e-02,\n",
       "       -1.19816213e-01, -2.52845434e-01,  4.94766571e-02,  8.49490151e-02,\n",
       "       -1.12112083e-02,  6.39775292e-02, -1.66583289e-01,  1.98246373e-01,\n",
       "       -1.85892073e-01, -1.11006184e-01, -1.06370146e-01, -9.01580171e-02,\n",
       "        1.15952004e-01, -3.82202390e-02,  6.66732783e-02, -2.47325104e-02,\n",
       "        2.85761324e-02, -8.12403779e-03, -1.18888367e-02,  1.05224798e-01,\n",
       "        6.49823265e-02, -4.53740431e-02,  2.43537849e-02, -4.44773485e-02,\n",
       "        8.40427927e-02,  9.70460189e-03,  6.27992412e-02, -1.78190156e-01,\n",
       "        1.25949791e-01,  3.40864601e-02, -1.26709528e-01,  1.90474826e-02,\n",
       "        1.60735468e-01,  1.70265781e-02,  3.99878115e-02, -4.46205918e-02,\n",
       "       -1.02290972e-01,  1.80074887e-01,  2.96348497e-02,  1.09854018e-01,\n",
       "        3.10550896e-02, -1.47076377e-01, -1.25864116e-01, -8.35826783e-02,\n",
       "        1.28524524e-01, -1.66364482e-02, -3.53187242e-02,  3.27688183e-02,\n",
       "        3.72592915e-02,  2.53493525e-02,  2.02580997e-01,  9.40980584e-02,\n",
       "       -1.14500260e-01,  1.86604979e-02, -1.58187964e-01,  1.73694361e-01,\n",
       "        2.72339673e-02,  1.12443655e-01, -2.61138503e-03, -1.57015797e-01,\n",
       "       -1.24197745e-01, -1.45825337e-02, -4.14761504e-02, -2.52383048e-02,\n",
       "        5.16175881e-02,  6.23834575e-02,  1.10782523e-01, -1.02959388e-01,\n",
       "        1.23193290e-01,  1.02302702e-01, -1.87812240e-02,  1.50154963e-01,\n",
       "       -1.52781727e-02, -1.13373663e-01, -9.62378746e-02,  5.59223826e-02,\n",
       "        7.89236088e-02, -2.17629483e-01,  5.43272409e-02, -1.62964910e-01,\n",
       "       -1.66339436e-01, -7.71870536e-02,  9.61820399e-02, -1.48464807e-01,\n",
       "       -8.38582068e-02, -6.41689573e-03,  1.85081026e-02,  1.50276263e-02,\n",
       "       -8.76550602e-02, -5.47712827e-02,  3.26785958e-02,  9.05517081e-02,\n",
       "        2.70793268e-01, -1.14326556e-01,  1.51121625e-01, -9.23435395e-02,\n",
       "       -4.20955438e-02, -2.51002657e-01, -7.83407869e-02,  7.12083857e-02,\n",
       "        1.28484632e-01,  4.12944232e-02,  7.69727714e-02,  2.24372303e-02,\n",
       "       -7.46096760e-02,  3.93036537e-02, -6.49182592e-02, -7.38600382e-02,\n",
       "        2.13384573e-02,  1.27821051e-01, -8.78687413e-02, -4.00380625e-02,\n",
       "       -2.61516420e-02, -7.41662038e-02, -1.60956110e-01,  4.02623103e-02,\n",
       "        1.07425201e-01,  1.32557583e-01,  2.74201643e-02, -1.82565881e-01,\n",
       "        1.87968389e-01,  2.94213627e-02, -1.20206681e-01,  3.70934133e-02,\n",
       "        1.67684431e-02,  2.59347213e-02,  7.99411366e-02, -1.30675720e-01,\n",
       "       -2.16746321e-01, -2.50595497e-03, -8.78733153e-02, -4.57915506e-02,\n",
       "       -1.33877107e-01, -1.05212101e-01,  7.04689754e-02,  7.37765806e-02,\n",
       "        3.28617471e-02,  1.27737737e-01,  1.58996621e-01,  3.74833436e-02,\n",
       "       -7.11128548e-02, -2.47164488e-01,  9.60869658e-02,  4.83992803e-02,\n",
       "        3.10365219e-02, -9.64126394e-02,  1.02997587e-01, -5.40758965e-02,\n",
       "       -3.67668458e-02,  4.65100043e-02, -1.94494427e-01, -2.82673281e-01,\n",
       "       -9.73891710e-02, -4.38588442e-02,  9.88449092e-03, -3.76640630e-02,\n",
       "        1.63604870e-01,  8.89409359e-02,  2.81278907e-03,  1.23541009e-02,\n",
       "        5.22664390e-02,  1.60370497e-01, -3.97798489e-02,  1.76197969e-01,\n",
       "       -3.32545569e-02, -1.78341608e-01, -1.50919788e-02,  3.95335207e-02,\n",
       "       -6.34873832e-02,  2.99499112e-02,  1.52917600e-02, -1.71159505e-01,\n",
       "        2.50846213e-02,  9.79340359e-02, -1.18507808e-01, -6.12492189e-02,\n",
       "       -6.82175560e-02, -5.47504310e-03, -7.37779326e-02, -3.66943042e-02,\n",
       "       -1.44878582e-02,  2.32196894e-01, -1.02704159e-01,  1.54116955e-01,\n",
       "        7.72185172e-02,  6.09932426e-02,  1.47590483e-01, -1.50243887e-02,\n",
       "        2.75953149e-02, -1.21028011e-02, -1.20246944e-01,  1.14025725e-01,\n",
       "        3.17009885e-03,  6.77454557e-05, -1.28540502e-02,  1.02764844e-01,\n",
       "        1.08659131e-01, -9.14369892e-02, -4.93039179e-02, -7.20740298e-02,\n",
       "       -1.65892554e-01,  1.72858623e-01, -5.59050476e-02,  7.52686839e-03,\n",
       "       -6.61692141e-02, -7.37702116e-02, -1.83757796e-01, -3.19939949e-02,\n",
       "        1.61441953e-02,  1.52266406e-01,  1.79097591e-01,  1.26268742e-01,\n",
       "       -8.85267648e-02, -5.24422064e-02, -1.06360377e-01,  1.96554417e-01,\n",
       "        6.40245994e-02,  1.93923384e-01, -1.47016894e-01, -4.19330773e-02,\n",
       "        5.59871854e-02,  2.06686346e-01,  3.52215723e-02,  2.14958431e-02,\n",
       "        8.38388323e-02, -2.28310946e-01,  8.05298249e-02,  2.02416096e-02,\n",
       "        5.39256235e-03,  1.19005424e-01, -1.34025632e-01, -2.01925929e-02,\n",
       "       -1.65722689e-01,  1.44708770e-01, -3.61952242e-02, -2.83595118e-02,\n",
       "       -2.28906730e-01, -1.54712296e-02,  1.59004626e-01, -6.35852258e-02,\n",
       "        4.63306832e-02, -3.94622144e-03,  7.85682178e-02, -2.69609577e-02,\n",
       "       -1.74507244e-02, -3.18352829e-02,  3.24149701e-02, -1.11130640e-01,\n",
       "       -1.92933426e-01,  9.27048747e-02,  1.98047147e-02, -4.58713629e-02,\n",
       "        9.33970139e-02, -7.30527222e-02,  2.05296811e-01, -8.56680664e-03,\n",
       "        8.03341770e-02,  1.60900109e-01,  4.93322938e-02, -1.80647286e-01,\n",
       "       -1.02042631e-01, -6.18571942e-02,  2.97647435e-02,  5.62506077e-04,\n",
       "       -1.03615706e-01,  6.39282060e-03,  1.88152822e-01, -4.34105559e-02,\n",
       "        1.20374378e-01,  1.27838180e-01, -5.47598541e-02,  7.33824915e-02,\n",
       "       -1.61366413e-01,  3.19985400e-02, -9.28115880e-02,  1.21151898e-01,\n",
       "       -1.71073664e-02,  1.41970901e-01, -1.32974354e-03, -9.67400213e-02,\n",
       "       -2.23902685e-01,  5.31480833e-02,  1.16189734e-01,  1.60418247e-01,\n",
       "        1.14043229e-01,  5.31040074e-02,  6.97093128e-02, -1.52850657e-01,\n",
       "        6.22301725e-03, -1.49689424e-01,  1.89420375e-01,  1.44578305e-01,\n",
       "       -4.35538218e-02,  1.91708775e-01,  7.58716804e-02,  7.83426668e-02,\n",
       "        5.99063333e-02, -1.00596299e-01, -1.58194013e-01,  9.23118747e-02,\n",
       "        6.82286588e-02,  8.91975930e-03,  6.03113373e-03,  7.73144983e-02,\n",
       "        5.64684103e-03,  7.00574034e-02,  2.25109082e-02,  1.52145779e-01,\n",
       "       -1.38600528e-02,  7.08882134e-02,  1.68948918e-05, -1.51641107e-01,\n",
       "        7.46379300e-02,  2.20137925e-01, -1.44420934e-01,  1.49514166e-01,\n",
       "        3.21064926e-02, -1.27484898e-01, -4.63321557e-02,  1.79548974e-02,\n",
       "       -2.18521158e-02, -1.23746555e-01, -1.40272139e-01, -1.34629532e-01,\n",
       "       -1.81879387e-01,  2.50653103e-02, -1.43490316e-01, -6.59562669e-02,\n",
       "        4.04125137e-02,  9.09248499e-02, -2.69013862e-02,  6.61321606e-02])"
      ]
     },
     "execution_count": 41,
     "metadata": {},
     "output_type": "execute_result"
    }
   ],
   "source": [
    "np.random.normal(0, 0.1, 1000)"
   ]
  },
  {
   "cell_type": "code",
   "execution_count": 43,
   "metadata": {},
   "outputs": [],
   "source": [
    "# The data is being centered around the first number, if you change it around you can see.\n",
    "x = np.random.normal(15, 7, 1000)"
   ]
  },
  {
   "cell_type": "code",
   "execution_count": 44,
   "metadata": {},
   "outputs": [
    {
     "data": {
      "text/plain": [
       "(array([ 12.,  49., 111., 192., 276., 207., 105.,  38.,   7.,   3.]),\n",
       " array([-6.21075041, -1.4401664 ,  3.33041761,  8.10100162, 12.87158563,\n",
       "        17.64216964, 22.41275365, 27.18333766, 31.95392167, 36.72450568,\n",
       "        41.49508968]),\n",
       " <a list of 10 Patch objects>)"
      ]
     },
     "execution_count": 44,
     "metadata": {},
     "output_type": "execute_result"
    },
    {
     "data": {
      "image/png": "[encoded data removed]",
      "text/plain": [
       "<Figure size 432x288 with 1 Axes>"
      ]
     },
     "metadata": {
      "needs_background": "light"
     },
     "output_type": "display_data"
    }
   ],
   "source": [
    "# Shows the data on the x axis\n",
    "plt.hist(x)"
   ]
  },
  {
   "cell_type": "markdown",
   "metadata": {},
   "source": [
    "## Bibliography\n",
    "\n",
    "SciPy.org, 2018, Viewed on 2019/10/18, https://docs.scipy.org/doc/numpy-1.15.0/reference/routines.random.html\n",
    "\n",
    "APMonitor, Youtube, 2017, viewed on 2019/11/04, https://www.youtube.com/watch?v=Z2zUGmqIDto \n",
    "\n",
    "Stackoverflow, 2017, viewed on 2019/11/04, (https://stackoverflow.com/questions/15474159/shuffle-vs-permute-numpy)\n",
    "\n",
    "Py.Native, 2019, viewed on the 2019/11/05, https://pynative.com/python-random-shuffle/\n"
   ]
  }
 ],
 "metadata": {
  "kernelspec": {
   "display_name": "Python 3",
   "language": "python",
   "name": "python3"
  },
  "language_info": {
   "codemirror_mode": {
    "name": "ipython",
    "version": 3
   },
   "file_extension": ".py",
   "mimetype": "text/x-python",
   "name": "python",
   "nbconvert_exporter": "python",
   "pygments_lexer": "ipython3",
   "version": "3.7.1"
  }
 },
 "nbformat": 4,
 "nbformat_minor": 2
}
