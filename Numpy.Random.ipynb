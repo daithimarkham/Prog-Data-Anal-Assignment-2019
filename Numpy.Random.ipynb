{
 "cells": [
  {
   "cell_type": "markdown",
   "metadata": {},
   "source": [
    "# David Markham\n",
    "# Programming for Data Analysis Assignment 2019\n",
    "# G.M.I.T.\n",
    "# Lecturer: Brian McGinley\n",
    "# An Investigation into the Numpy.Random Package.\n",
    "![title](NumpyImage.jpg) Source(APMonitor.com)"
   ]
  },
  {
   "cell_type": "markdown",
   "metadata": {},
   "source": [
    "## Numpy.Random package.\n",
    "#### Below we will discover how to use the Numpy.Random package, broken into four different topics:\n",
    "\n",
    "1.Explain the overall purpose of the package\n",
    "\n",
    "2.Explain the use of the “Simple random data” and “Permutations” functions\n",
    "\n",
    "3.Explain the use and purpose of at least five “Distributions” functions.\n",
    "\n",
    "4.Explain the use of seeds in generating pseudorandom numbers.\n",
    "\n",
    "## 1. Explain the overall purpose of the package\n",
    "Creates random numbers and arrays. Whenever you want to generate an array of random numbers you need to use numpy.random, which has multiple functions. These functions generate the random n-dimensional array/arrays for various distributions, size, mean, width, colour on histograms and plots, etc, which we will be discussing later below.\n",
    "\n",
    "The use of randomness is an important part of the configuration and evaluation of machine learning algorithms.\n",
    "\n",
    "From the random initialization of weights in an artificial neural network, to the splitting of data into random train and test sets, to the random shuffling of a training dataset in stochastic gradient descent, generating random numbers and harnessing randomness is a required skill. (Machinemastery, 2019)\n",
    "\n",
    "Below we will discover how to generate and work with random numbers in Python.\n",
    "\n",
    "**Pseudorandom Number Generators**\n",
    "\n",
    "\n",
    "The source of randomness that we inject into our programs and algorithms is a mathematical trick called a pseudorandom number generator.\n",
    "\n",
    "A random number generator is a system that generates random numbers from a true source of randomness. Often something physical, such as a Geiger counter, where the results are turned into random numbers. We do not need true randomness in machine learning. Instead we can use pseudorandomness. Pseudorandomness is a sample of numbers that look close to random, but were generated using a deterministic process.\n",
    "\n",
    "Shuffling data and initializing coefficients with random values use pseudorandom number generators. These little programs are often a function, which you can call that will return a random number. Called again, they will return a new random number. Wrapper functions are often also available and allow you to get your randomness as an integer, floating point, within a specific distribution, within a specific range, and so on.\n",
    "\n",
    "The numbers are generated in a sequence. The sequence is deterministic and is seeded with an initial number. If you do not explicitly seed the pseudorandom number generator, then it may use the current system time in seconds or milliseconds as the seed.\n",
    "\n",
    "The value of the seed does not matter. Choose anything you wish. What does matter is that the same seeding of the process will result in the same sequence of random numbers. (Machinemastery, 2019)\n",
    "\n",
    "\n",
    "\n"
   ]
  },
  {
   "cell_type": "markdown",
   "metadata": {},
   "source": [
    "## 2. Explain the use of the “Simple random data” and “Permutations” functions\n",
    "## 2.1 Simple Random Data.\n",
    "### How to use the Numpy Ramdom module. \n",
    "- The random package has many functions to help generate numberous different types of numbers. We will see below how to use these functions. \n",
    "- You will need to import the numpy package below. (import numpy as np)"
   ]
  },
  {
   "cell_type": "markdown",
   "metadata": {},
   "source": [
    "There are many ways to generate random numbers. Numpy.random creates random values in a given shape, returns a sample/samples, from the standard normal distribution. It returns random integers from low to high. Below, we can look at some.\n",
    "\n",
    "#### Code below, adapted from SciPy.org, Stackoverflow and Py.Native."
   ]
  },
  {
   "cell_type": "code",
   "execution_count": 1,
   "metadata": {},
   "outputs": [],
   "source": [
    "# Import Numpy Package\n",
    "import numpy as np"
   ]
  },
  {
   "cell_type": "markdown",
   "metadata": {},
   "source": [
    "#### np.random.normal"
   ]
  },
  {
   "cell_type": "code",
   "execution_count": 2,
   "metadata": {},
   "outputs": [
    {
     "name": "stdout",
     "output_type": "stream",
     "text": [
      "Generating random number using random.normal()\n"
     ]
    },
    {
     "data": {
      "text/plain": [
       "0.6663056761203"
      ]
     },
     "execution_count": 2,
     "metadata": {},
     "output_type": "execute_result"
    }
   ],
   "source": [
    "# Generates a random number from the normal distribution.\n",
    "print(\"Generating random number using random.normal()\")\n",
    "np.random.normal()"
   ]
  },
  {
   "cell_type": "code",
   "execution_count": 3,
   "metadata": {},
   "outputs": [
    {
     "data": {
      "text/plain": [
       "array([ 2.18514992, -0.01065791, -0.41314978, -0.33484635])"
      ]
     },
     "execution_count": 3,
     "metadata": {},
     "output_type": "execute_result"
    }
   ],
   "source": [
    "# Generates 4 random numbers from the normal distribution.\n",
    "np.random.normal(size=4)"
   ]
  },
  {
   "cell_type": "markdown",
   "metadata": {},
   "source": [
    "#### np.random.rand\n",
    "- Numpy creates arrays. Random numbers in this case between 0 and 1.\n",
    "- Contains arrays, floating numbers."
   ]
  },
  {
   "cell_type": "code",
   "execution_count": 4,
   "metadata": {},
   "outputs": [
    {
     "data": {
      "text/plain": [
       "array([[0.01973638, 0.98543472],\n",
       "       [0.44101665, 0.17536974],\n",
       "       [0.01097688, 0.33314698],\n",
       "       [0.79231485, 0.99137919]])"
      ]
     },
     "execution_count": 4,
     "metadata": {},
     "output_type": "execute_result"
    }
   ],
   "source": [
    "# Contains arrays, floating numbers.\n",
    "np.random.rand(4,2)"
   ]
  },
  {
   "cell_type": "markdown",
   "metadata": {},
   "source": [
    "- Get an array with 9 elements in it."
   ]
  },
  {
   "cell_type": "code",
   "execution_count": 5,
   "metadata": {},
   "outputs": [
    {
     "data": {
      "text/plain": [
       "array([0.26140869, 0.04521366, 0.33225161, 0.91554125, 0.37147365,\n",
       "       0.17302693, 0.7372739 , 0.36113869, 0.67855185])"
      ]
     },
     "execution_count": 5,
     "metadata": {},
     "output_type": "execute_result"
    }
   ],
   "source": [
    "# Displays 9 elements.\n",
    "np.random.rand(9)"
   ]
  },
  {
   "cell_type": "markdown",
   "metadata": {},
   "source": [
    "- Displays two arrays, four rows and thee columns."
   ]
  },
  {
   "cell_type": "code",
   "execution_count": 6,
   "metadata": {},
   "outputs": [
    {
     "data": {
      "text/plain": [
       "array([[[0.63005273, 0.54656165, 0.65449214],\n",
       "        [0.1225102 , 0.49502451, 0.06273229],\n",
       "        [0.95730604, 0.88584747, 0.7588995 ],\n",
       "        [0.69697921, 0.49989984, 0.13715739]],\n",
       "\n",
       "       [[0.57989445, 0.65550516, 0.48539704],\n",
       "        [0.41960779, 0.68870798, 0.72595817],\n",
       "        [0.26616494, 0.64405136, 0.89653072],\n",
       "        [0.28204494, 0.42846144, 0.13371848]]])"
      ]
     },
     "execution_count": 6,
     "metadata": {},
     "output_type": "execute_result"
    }
   ],
   "source": [
    "# Generates random data, and ouputs in arrays, rows and columns.\n",
    "np.random.rand(2,4,3)"
   ]
  },
  {
   "cell_type": "code",
   "execution_count": 7,
   "metadata": {
    "scrolled": true
   },
   "outputs": [
    {
     "name": "stdout",
     "output_type": "stream",
     "text": [
      "1D random values array : \n",
      " [0.62883842 0.28264975 0.02570359 0.46830757 0.7012094  0.37875736\n",
      " 0.83966042 0.36594459 0.85606033 0.8478929  0.83438488 0.63017459\n",
      " 0.85909822 0.7123315  0.94784899]\n"
     ]
    }
   ],
   "source": [
    "array = np.random.rand(15) # Prints an array with 15 random values from 0 to 1.\n",
    "print(\"1D random values array : \\n\", array);"
   ]
  },
  {
   "cell_type": "markdown",
   "metadata": {},
   "source": [
    "To display the numbers on a histogram."
   ]
  },
  {
   "cell_type": "code",
   "execution_count": 8,
   "metadata": {},
   "outputs": [
    {
     "data": {
      "text/plain": [
       "<function matplotlib.pyplot.show(*args, **kw)>"
      ]
     },
     "execution_count": 8,
     "metadata": {},
     "output_type": "execute_result"
    },
    {
     "data": {
      "image/png": "[encoded data removed]",
      "text/plain": [
       "<Figure size 432x288 with 1 Axes>"
      ]
     },
     "metadata": {
      "needs_background": "light"
     },
     "output_type": "display_data"
    }
   ],
   "source": [
    "x = np.random.rand(1000)\n",
    "# Histogram shows the most typical values out of 1000 and displays in a bar chart.\n",
    "%matplotlib inline\n",
    "import matplotlib.pyplot as plt\n",
    "plt.hist(x)\n",
    "plt.show # this will display if the above command does not display. \n",
    "# If the above is not displaying type in %matplotlib inline"
   ]
  },
  {
   "cell_type": "markdown",
   "metadata": {},
   "source": [
    "#### Np.random.randint\n",
    "- Random integer values can be generated with the randint() function. \n",
    "- Takes in two arguments, the start and the end of the range."
   ]
  },
  {
   "cell_type": "code",
   "execution_count": 9,
   "metadata": {},
   "outputs": [
    {
     "data": {
      "text/plain": [
       "array([1, 0, 1, 1, 1, 0, 1, 1, 1, 0])"
      ]
     },
     "execution_count": 9,
     "metadata": {},
     "output_type": "execute_result"
    }
   ],
   "source": [
    "np.random.randint(2, size=10) # Function calls numbers bewteen 1 and 2, and size is 10."
   ]
  },
  {
   "cell_type": "code",
   "execution_count": 10,
   "metadata": {},
   "outputs": [
    {
     "data": {
      "text/plain": [
       "array([86, 78, 53,  6])"
      ]
     },
     "execution_count": 10,
     "metadata": {},
     "output_type": "execute_result"
    }
   ],
   "source": [
    "# Generates four random integers.\n",
    "np.random.randint(low=1, high=100, size=4) # Function calls random int from 1 to 100, returns four values."
   ]
  },
  {
   "cell_type": "code",
   "execution_count": 11,
   "metadata": {},
   "outputs": [
    {
     "data": {
      "text/plain": [
       "array([[3, 2, 1, 0],\n",
       "       [3, 1, 0, 1]])"
      ]
     },
     "execution_count": 11,
     "metadata": {},
     "output_type": "execute_result"
    }
   ],
   "source": [
    "# Returns, two arrays, with four integers, numbers bewteen 0 and 5.\n",
    "np.random.randint(5, size=(2, 4))"
   ]
  },
  {
   "cell_type": "markdown",
   "metadata": {},
   "source": [
    "Random values are drawn from a <a href=\"https://docs.scipy.org/doc/numpy-1.15.0/reference/generated/numpy.random.uniform.html#numpy.random.uniform\" target=\"_blank\">uniform distribution.</a>\n",
    "\n",
    "- Samples are uniformly distributed over the half-open interval [low, high) (includes low, but excludes high). In other words, any value within the given interval is equally likely to be drawn by uniform. (Machinemastery, 2019)\n",
    "\n",
    "The example below generates 10 random integer values between 0 and 10."
   ]
  },
  {
   "cell_type": "code",
   "execution_count": 12,
   "metadata": {},
   "outputs": [
    {
     "name": "stdout",
     "output_type": "stream",
     "text": [
      "1D Array:\n",
      " [4 4 5 6 4 3 6] \n",
      "\n",
      "2D Array:\n",
      " [[4 3 5 6]\n",
      " [7 3 6 7]\n",
      " [7 6 7 3]\n",
      " [4 4 6 3]\n",
      " [7 4 4 7]\n",
      " [3 5 6 5]] \n",
      "\n"
     ]
    }
   ],
   "source": [
    "# Returned arrays will output random integers, from low to high, and size.\n",
    "# 1D Array, lowest number will be 3 , highest number up to but not including 8,\n",
    "# 7 values will be displayed in the array\n",
    "randint_array1D = np.random.randint(low = 3, high = 8, size = 7) \n",
    "print (\"1D Array:\\n\",randint_array1D, \"\\n\")  \n",
    "\n",
    "# 2D Array, outputs an array that has an array within it. \n",
    "randint_array2D = np.random.randint(low = 3, high = 8, size = (6, 4)) # 6 rows, with 4 values in each.\n",
    "print (\"2D Array:\\n\",randint_array2D, \"\\n\") "
   ]
  },
  {
   "cell_type": "markdown",
   "metadata": {},
   "source": [
    "#### Numpy.random.choice\n",
    "-  Generates a random sample from a given 1-D array\n"
   ]
  },
  {
   "cell_type": "code",
   "execution_count": 13,
   "metadata": {},
   "outputs": [
    {
     "data": {
      "text/plain": [
       "array([1, 2, 2])"
      ]
     },
     "execution_count": 13,
     "metadata": {},
     "output_type": "execute_result"
    }
   ],
   "source": [
    "# Generate a uniform random sample from np.arange(5) of size 3:\n",
    "np.random.choice(5, 3)"
   ]
  },
  {
   "cell_type": "markdown",
   "metadata": {},
   "source": [
    "#### Numpy.random.ranf\n",
    "-Return random floats in the half-open interval [0.0, 1.0)."
   ]
  },
  {
   "cell_type": "code",
   "execution_count": 14,
   "metadata": {
    "scrolled": true
   },
   "outputs": [
    {
     "data": {
      "text/plain": [
       "0.38012618715274515"
      ]
     },
     "execution_count": 14,
     "metadata": {},
     "output_type": "execute_result"
    }
   ],
   "source": [
    "# numpy.random.ranf\n",
    "np.random.random_sample()"
   ]
  },
  {
   "cell_type": "markdown",
   "metadata": {},
   "source": [
    "- Displays what type of an integer it is."
   ]
  },
  {
   "cell_type": "code",
   "execution_count": 15,
   "metadata": {},
   "outputs": [
    {
     "data": {
      "text/plain": [
       "float"
      ]
     },
     "execution_count": 15,
     "metadata": {},
     "output_type": "execute_result"
    }
   ],
   "source": [
    "# Type of number\n",
    "type(np.random.random_sample())"
   ]
  },
  {
   "cell_type": "markdown",
   "metadata": {},
   "source": [
    "- Displays five random numbers."
   ]
  },
  {
   "cell_type": "code",
   "execution_count": 16,
   "metadata": {},
   "outputs": [
    {
     "data": {
      "text/plain": [
       "array([0.1893076 , 0.90268555, 0.56937443, 0.47093226, 0.69085351])"
      ]
     },
     "execution_count": 16,
     "metadata": {},
     "output_type": "execute_result"
    }
   ],
   "source": [
    "# Number of random numbers.\n",
    "np.random.random_sample((5,))"
   ]
  },
  {
   "cell_type": "markdown",
   "metadata": {},
   "source": [
    "- Three-by-two array of random numbers from [-5, 0)"
   ]
  },
  {
   "cell_type": "code",
   "execution_count": 17,
   "metadata": {
    "scrolled": true
   },
   "outputs": [
    {
     "data": {
      "text/plain": [
       "array([[-2.91761904, -3.35087485],\n",
       "       [-3.81813447, -4.70116284],\n",
       "       [-4.95379031, -4.28574808]])"
      ]
     },
     "execution_count": 17,
     "metadata": {},
     "output_type": "execute_result"
    }
   ],
   "source": [
    "# Three rows, two columns, numbers between -5 and 0.\n",
    "5 * np.random.random_sample((3, 2)) - 5"
   ]
  },
  {
   "cell_type": "markdown",
   "metadata": {},
   "source": [
    "#### Numpy.random.bytes"
   ]
  },
  {
   "cell_type": "code",
   "execution_count": 18,
   "metadata": {},
   "outputs": [
    {
     "name": "stdout",
     "output_type": "stream",
     "text": [
      "3D random values array : \n",
      " [[[0.58485494 0.37455071 0.31495558]\n",
      "  [0.57167301 0.90868174 0.03941574]\n",
      "  [0.53972916 0.9413432  0.61775832]]\n",
      "\n",
      " [[0.83664418 0.5489183  0.42347907]\n",
      "  [0.84186571 0.81009022 0.29330039]\n",
      "  [0.48804821 0.25594726 0.92443725]]\n",
      "\n",
      " [[0.13283673 0.71455897 0.81400168]\n",
      "  [0.22900083 0.57911342 0.36333857]\n",
      "  [0.99057808 0.22203034 0.95796236]]]\n"
     ]
    }
   ],
   "source": [
    "# Generating 3 dimentional array. \n",
    "array = np.random.rand(3,3,3) # Function for three arrays.\n",
    "print(\"3D random values array : \\n\", array);"
   ]
  },
  {
   "cell_type": "code",
   "execution_count": 19,
   "metadata": {},
   "outputs": [
    {
     "data": {
      "text/plain": [
       "b'`\\x03z\\x7f\\xc4\\xaf\\xd9\\xc2F\\xc1\\xb5$.\\xfco\\xc7\\xedd'"
      ]
     },
     "execution_count": 19,
     "metadata": {},
     "output_type": "execute_result"
    }
   ],
   "source": [
    "# Returns a number of random bytes.\n",
    "np.random.bytes(18)"
   ]
  },
  {
   "cell_type": "markdown",
   "metadata": {},
   "source": [
    "## 2.2 Permutations \n",
    "- Next we will look at permutations shuffle and permutation , which is randomly permute a sequence, or return a permuted range.\n",
    "\n",
    "- Generally Numpy random.shuffle and random.permutation both shuffle elements in an array.\n",
    "\n"
   ]
  },
  {
   "cell_type": "markdown",
   "metadata": {},
   "source": [
    "#### Numpy.random.shuffle(x)\n",
    "- Random.shuffle function used to shuffle the sequence in place, it changes the position of items in a list.\n",
    "- Modify a sequence in-place by shuffling its contents."
   ]
  },
  {
   "cell_type": "code",
   "execution_count": 20,
   "metadata": {},
   "outputs": [
    {
     "data": {
      "text/plain": [
       "array([8, 2, 6, 7, 5, 3, 0, 4, 9, 1])"
      ]
     },
     "execution_count": 20,
     "metadata": {},
     "output_type": "execute_result"
    }
   ],
   "source": [
    "# Randomly shuffles the list.\n",
    "arr = np.arange(10)\n",
    "np.random.shuffle(arr)\n",
    "arr"
   ]
  },
  {
   "cell_type": "markdown",
   "metadata": {},
   "source": [
    "- If you want to shuffle as per your need, then you can pass your custom random function in the place of random argument, which will dictate shuffle function, and how it randomizes the items of a list. (Py.Native, 2019)\n",
    "- Can do the same with strings.\n"
   ]
  },
  {
   "cell_type": "code",
   "execution_count": 21,
   "metadata": {
    "scrolled": true
   },
   "outputs": [
    {
     "name": "stdout",
     "output_type": "stream",
     "text": [
      "List :  [5, 32, 21, 22, 56, 36, 34, 56, 6, 23]\n",
      "After first shuffle  :  [22, 21, 23, 6, 56, 34, 56, 36, 5, 32]\n",
      "After second shuffle :  [6, 23, 5, 32, 56, 34, 36, 56, 21, 22]\n"
     ]
    }
   ],
   "source": [
    "number_list = [5, 32, 21, 22, 56, 36, 34, 56, 6, 23]\n",
    "print (\"List : \",  number_list)\n",
    "\n",
    "np.random.shuffle(number_list)\n",
    "print (\"After first shuffle  : \",  number_list)\n",
    "\n",
    "np.random.shuffle(number_list)\n",
    "print (\"After second shuffle : \",  number_list)"
   ]
  },
  {
   "cell_type": "markdown",
   "metadata": {},
   "source": [
    "- Shuffle a list of strings."
   ]
  },
  {
   "cell_type": "code",
   "execution_count": 22,
   "metadata": {},
   "outputs": [
    {
     "name": "stdout",
     "output_type": "stream",
     "text": [
      "Original String list:  ['Let it rain', 'Chelsea Football Club', 'John is there', \"Don't do it\", 'He left to go shopping', 'The bus stop', 'Leave the ball']\n",
      "String List after the first shuffle:  ['Leave the ball', 'The bus stop', \"Don't do it\", 'Chelsea Football Club', 'Let it rain', 'John is there', 'He left to go shopping']\n",
      "String List after the second shuffle:  ['Let it rain', 'Chelsea Football Club', \"Don't do it\", 'Leave the ball', 'He left to go shopping', 'The bus stop', 'John is there']\n"
     ]
    }
   ],
   "source": [
    "string_list = [\"Let it rain\", \"Chelsea Football Club\", \"John is there\", \"Don't do it\", \"He left to go shopping\", \"The bus stop\", \"Leave the ball\"]\n",
    "print (\"Original String list: \",  string_list) # Create a list which we will use a function to shuffle below.\n",
    "\n",
    "\n",
    "np.random.shuffle(string_list) # Random function shuflles list, generates list in different order to original.\n",
    "print (\"String List after the first shuffle: \",  string_list)\n",
    "\n",
    "\n",
    "\n",
    "np.random.shuffle(string_list) # Same as above, random shuffles again, using the same function as above.\n",
    "print (\"String List after the second shuffle: \",  string_list)\n"
   ]
  },
  {
   "cell_type": "markdown",
   "metadata": {},
   "source": [
    "- Below we can shuffle just a string."
   ]
  },
  {
   "cell_type": "code",
   "execution_count": 23,
   "metadata": {},
   "outputs": [
    {
     "name": "stdout",
     "output_type": "stream",
     "text": [
      "Original String:  chocolate\n",
      "shuffled String is:  haoelctco\n"
     ]
    }
   ],
   "source": [
    "# Randomly shuffles a string\n",
    "string_one = \"chocolate\" # Setting variable \n",
    "print (\"Original String: \", string_one)# Prints output of original string.\n",
    "\n",
    "char_list = list(string_one) # Function for string we want to shuffle.\n",
    "\n",
    "\n",
    "np.random.shuffle(char_list) # Function for shuffling the string.\n",
    "\n",
    "string_one = ''.join(char_list)\n",
    "print (\"shuffled String is: \", string_one) # Prints shuffled string from original string."
   ]
  },
  {
   "cell_type": "markdown",
   "metadata": {},
   "source": [
    "#### Numpy.random.permutation(x) \n",
    "\n",
    "\n",
    "Randomly permute a sequence, or return a permuted range. If x is a multi-dimensional array, it is only shuffled along its first index. (Sci.py.org)\n",
    "\n",
    "- Generally, in Numpy, both random.permutation and random.shuffle randomly shuffle elements in an array. But there are differences:\n",
    "\n",
    "- If you want to generate random permutations of x, then what is the difference between shuffle(x) and permutation(x)?\n",
    "- np.random.permutation has two differences from np.random.shuffle:\n",
    "\n",
    "   - If passed an array, it will return a shuffled copy of the array; np.random.shuffle shuffles the array in place.\n",
    "   - If passed an integer, it will return a shuffled range i.e. np.random.shuffle(np.arange(n))\n",
    "- If x is an integer, randomly permute np.arange(x). If x is an array, make a copy and shuffle the elements randomly.\n",
    "- np.random.permutation is useful when you need to shuffle ordered pairs, especially for classification:\n",
    "\n",
    "(https://stackoverflow.com/questions/15474159/shuffle-vs-permute-numpy)"
   ]
  },
  {
   "cell_type": "code",
   "execution_count": 24,
   "metadata": {},
   "outputs": [
    {
     "data": {
      "text/plain": [
       "array([8, 6, 3, 2, 5, 1, 4, 9, 0, 7])"
      ]
     },
     "execution_count": 24,
     "metadata": {},
     "output_type": "execute_result"
    }
   ],
   "source": [
    "# Displays all the numbers from 0 to the number you enter.\n",
    "np.random.permutation(10)# Function which randomly returns a permuted range of numbers between 0 and 10."
   ]
  },
  {
   "cell_type": "code",
   "execution_count": 25,
   "metadata": {
    "scrolled": true
   },
   "outputs": [
    {
     "data": {
      "text/plain": [
       "array([12,  4,  1,  9, 15])"
      ]
     },
     "execution_count": 25,
     "metadata": {},
     "output_type": "execute_result"
    }
   ],
   "source": [
    "# Outputs the numbers you entered, randomly.\n",
    "np.random.permutation([1, 4, 9, 12, 15]) # Random permutation function, for returning numbers you enetered in any order."
   ]
  },
  {
   "cell_type": "code",
   "execution_count": 26,
   "metadata": {
    "scrolled": true
   },
   "outputs": [
    {
     "data": {
      "text/plain": [
       "array([[3, 4, 5],\n",
       "       [6, 7, 8],\n",
       "       [0, 1, 2]])"
      ]
     },
     "execution_count": 26,
     "metadata": {},
     "output_type": "execute_result"
    }
   ],
   "source": [
    "# Displays nums between 0 and 9 in three rows.\n",
    "arr = np.arange(9).reshape((3, 3))\n",
    "np.random.permutation(arr)"
   ]
  },
  {
   "cell_type": "markdown",
   "metadata": {},
   "source": [
    "## 3. Explain the use and purpose of some of the “Distributions” functions.\n",
    "### Distribution Functions"
   ]
  },
  {
   "cell_type": "markdown",
   "metadata": {},
   "source": [
    "#### 1. The Poisson Distribution\n",
    "\n",
    "The <a href=\"https://www.statisticshowto.datasciencecentral.com/poisson-distribution/\" target=\"_blank\">Poisson</a> distribution function is a statistical distribution that shows how many times an event is likely to occur within a specified period of time.\n",
    "\n",
    "The French mathematician Siméon-Denis Poisson developed his function in 1830 to describe many models, for example, the number of times a gambler would win a rarely won game of chance in a large number of tries. (Britannica, 2019.)\n",
    "\n",
    "![title](PoissonImage.jpg) Source(Britannica)\n",
    "\n",
    "Helps us to predict the probability of certain events from happening when you know how often the event has occurred. It gives us the probability of a given number of events happening in a fixed interval of time. (Statistics How To, 2013)\n",
    "\n",
    "For example, the number of football fans in a certain day of the weekend. If the average number of fans for three days is 35,500, you can predict the probability of a certain day having more fans attend. You can see why businesses would use this distribution to try and predict/forecast over an x amount of time, to help with demand etc.\n",
    "\n",
    "We can see here that the formula is, and how it is <a href=\"https://www.youtube.com/watch?v=Fk02TW6reiA\" target=\"_blank\">calculated.</a>\n",
    "\n",
    "\n",
    "\n",
    "\n",
    "\n",
    "![title](Poissonformula.png)\n",
    "\n",
    "\n",
    "![title](PoissonDisFormula.png)\n",
    "Source (Towards Data Science, 2018)\n",
    "\n",
    "\n",
    "\n",
    "\n",
    "The Poisson parameter Lambda (λ) is the total number of events (k) divided by the number of units (n) in the data (λ = k/n). The unit forms the basis or denominator for calculation of the average, and need not be individual cases or research subjects. For example, the number of asthma attacks may be based on the number of child months, or the number of pregnancies based on the number of women years in using a particular contraceptive.\n",
    "\n",
    "This is different to the Binomial parameter of proportion or risk where proportion is the number of individuals classified as positive (p) divided by the total number of individuals in the data (r = p/n). Proportion or risk must always be a number between 0 and 1, while λ may be any positive number.\n",
    "\n",
    "For examples, if we have 100 people, and only 90 of them go shopping in a week then the binomial risk of shopping is 90/100 = 0.9. However, some of the people will go shopping more than once in the week, and the total number of shopping trips between the 100 people may be 160, and the Poisson Lambda is 160/100 = 1.6 per 100 person week\n",
    "\n",
    "Large Lambda (λ=k/n), say over 200, assumes an approximately normal or geometric distribution, and the count (or sqrt(count)) can be used as a Parametric measurement. If the events occur very few times per individual, so that individuals can be classified as positive or negative cases, then the Binomial distribution (we will discuss below), can be assumed, and statistics related to proportions used. In between, or when events are infrequent, the Poisson distribution is used. (Stats To Do, 2014)"
   ]
  },
  {
   "cell_type": "code",
   "execution_count": 27,
   "metadata": {},
   "outputs": [
    {
     "data": {
      "image/png": "[encoded data removed]",
      "text/plain": [
       "<Figure size 432x288 with 1 Axes>"
      ]
     },
     "metadata": {
      "needs_background": "light"
     },
     "output_type": "display_data"
    }
   ],
   "source": [
    "# Poisson fuction is give sample.\n",
    "s = np.random.poisson(4, 10000)\n",
    "# Displays histogram of the samples we gave the poisson distribution above.\n",
    "count, bins, ignored = plt.hist(s, 14, density=True) # Plots Histogram.\n",
    "plt.show()"
   ]
  },
  {
   "cell_type": "markdown",
   "metadata": {},
   "source": [
    "We can take another example below to demonstrate poisson probability further. "
   ]
  },
  {
   "cell_type": "markdown",
   "metadata": {},
   "source": [
    "#### 2.The Uniform Distribution\n",
    "<a href=\"https://docs.scipy.org/doc/numpy-1.15.0/reference/generated/numpy.random.uniform.html#numpy.random.uniform\" target=\"_blank\">Uniform distribution</a> in statistics, a type of probability distribution in which all outcomes are equally likely; each variable has the same probability that it will be the outcome. A deck of cards has within it uniform distributions because the likelihood of drawing a heart, a club, a diamond or a spade is equally likely. A coin also has a uniform distribution because the probability of getting either heads or tails in a coin toss is the same.\n",
    "\n",
    "![title](UniformDisFormula.png)\n",
    "\n",
    "The uniform distribution can be visualized as a straight horizontal line, so for a coin flip returning a head or tail, both have a probability p = 0.50 and would be depicted by a line from the y-axis at 0.50."
   ]
  },
  {
   "cell_type": "code",
   "execution_count": 28,
   "metadata": {
    "scrolled": true
   },
   "outputs": [
    {
     "data": {
      "text/plain": [
       "array([4.08687782, 2.23784944, 3.1808684 , 2.2642746 , 4.36295228,\n",
       "       3.78963351, 4.81489222, 4.46946607, 2.68599872, 4.34875076])"
      ]
     },
     "execution_count": 28,
     "metadata": {},
     "output_type": "execute_result"
    }
   ],
   "source": [
    "# Get a 1000 numbers back.\n",
    "# Random,rand will only give you numbers between 0 and 1.\n",
    "# Random uniform will give you any numbers.\n",
    "np.random.uniform(2,5,10)"
   ]
  },
  {
   "cell_type": "code",
   "execution_count": 29,
   "metadata": {},
   "outputs": [
    {
     "data": {
      "text/plain": [
       "(array([1025., 1020.,  983., 1013.,  949., 1015., 1041., 1005.,  973.,\n",
       "         976.]),\n",
       " array([2.66530954e-02, 1.00006548e+02, 1.99986443e+02, 2.99966338e+02,\n",
       "        3.99946233e+02, 4.99926128e+02, 5.99906023e+02, 6.99885918e+02,\n",
       "        7.99865813e+02, 8.99845708e+02, 9.99825603e+02]),\n",
       " <a list of 10 Patch objects>)"
      ]
     },
     "execution_count": 29,
     "metadata": {},
     "output_type": "execute_result"
    },
    {
     "data": {
      "image/png": "[encoded data removed]",
      "text/plain": [
       "<Figure size 432x288 with 1 Axes>"
      ]
     },
     "metadata": {
      "needs_background": "light"
     },
     "output_type": "display_data"
    }
   ],
   "source": [
    "# Pretty much does the same thing as the rand function which we looked at above.\n",
    "x = np.random.uniform(0,1000,10000)\n",
    "# Shows the numbers on a bar chart.\n",
    "plt.hist(x)"
   ]
  },
  {
   "cell_type": "markdown",
   "metadata": {},
   "source": [
    "#### 3. Numpy.Random.Normal.¶\n",
    "\n",
    "Normal distribution, also known as the Gaussian distribution, is a probability distribution that is symmetric about the mean, showing that data near the mean are more frequent in occurrence than data far from the mean.\n",
    "\n",
    "Draw random samples from a normal (Gaussian) distribution.\n",
    "\n",
    "\n",
    "The probability density function of the normal distribution, first derived by De Moivre and 200 years later by both Gaus.\n",
    "\n",
    "\n",
    "The normal distributions occurs often in nature. For example, it describes the commonly occurring distribution of samples influenced by a large number of tiny, random disturbances, each with its own unique distribution\n",
    "\n",
    "\n",
    "Below the numbers with e-01 at the end of it, means multipy whatever came before the e by 10 to the minus 1 or divide by 10, e-02 means divide by 100 and so on.\n",
    "\n",
    "\n",
    "Can take more functions and see how they work if you like. (Sci.Py.org, 2019)"
   ]
  },
  {
   "cell_type": "code",
   "execution_count": 30,
   "metadata": {},
   "outputs": [
    {
     "data": {
      "text/plain": [
       "array([-7.00506466e-02,  1.05716933e-01,  3.82401498e-02,  1.86745862e-01,\n",
       "       -7.43788280e-02, -2.12707424e-02,  1.13093990e-01,  3.61375377e-03,\n",
       "       -8.81782963e-02, -5.11251048e-02,  1.83439406e-01, -3.44073547e-02,\n",
       "        8.60552118e-02, -5.59442131e-02, -7.06538660e-02,  2.04641908e-02,\n",
       "       -1.38480277e-01,  6.05505961e-02,  1.39809596e-01, -1.56320830e-01,\n",
       "       -1.86221071e-02,  1.33010955e-01,  7.96944328e-02, -3.52451635e-02,\n",
       "       -6.39856591e-02,  2.73786383e-02,  3.27751855e-02,  1.31142553e-01,\n",
       "        1.20178501e-01,  1.98136365e-02,  8.95653126e-02,  8.39409240e-02,\n",
       "        1.42243713e-01,  7.49738928e-02,  7.57235221e-02,  1.00728685e-01,\n",
       "       -9.68179260e-02,  5.98295989e-02,  1.38419904e-02, -4.67659823e-02,\n",
       "        5.13371809e-02, -1.42116781e-02,  5.66784521e-02, -2.08744875e-02,\n",
       "       -6.65236439e-02, -1.42706804e-02,  9.52280046e-02,  5.78812687e-02,\n",
       "       -2.27256627e-02,  4.28641538e-02, -1.07746232e-01,  5.82350557e-02,\n",
       "        2.77007857e-01, -2.69737465e-01,  8.00664823e-02, -3.31722242e-02,\n",
       "        1.39707228e-02, -4.55944252e-02,  5.29868965e-02, -1.11534498e-01,\n",
       "       -1.31934304e-01,  9.18721587e-02,  4.88536550e-02, -6.56071426e-02,\n",
       "        4.53099847e-02,  1.21652278e-01,  1.37026263e-01,  2.97179673e-02,\n",
       "        9.63831802e-02, -1.84437946e-02, -8.18619182e-02,  5.29066527e-03,\n",
       "        3.69575355e-02,  8.88448233e-02,  4.53551289e-02, -1.56173575e-01,\n",
       "       -2.08661418e-02, -4.27490159e-02,  9.99430304e-02,  8.16849099e-02,\n",
       "       -3.14940868e-02,  2.87310321e-02,  1.60263232e-01,  4.91888253e-02,\n",
       "       -2.70657403e-02, -1.69568876e-01,  8.71709437e-02, -1.41745291e-01,\n",
       "       -5.16574243e-02, -1.98524265e-02,  1.06023856e-01,  1.42660969e-01,\n",
       "       -6.99893095e-03, -1.03217891e-01, -5.32376384e-02, -1.45700829e-01,\n",
       "        1.70562105e-01, -2.73651582e-02,  1.15490475e-02, -2.11024403e-01,\n",
       "       -7.51722142e-02,  1.46733169e-01,  2.12045340e-02,  8.16946572e-02,\n",
       "       -5.25987487e-02,  5.32930142e-02,  8.29175161e-02, -7.31802696e-02,\n",
       "       -3.25600385e-02,  2.56036681e-01,  2.27484438e-04,  1.27476949e-02,\n",
       "       -1.31943846e-01,  1.45700349e-01, -2.01968246e-01,  7.44378857e-02,\n",
       "       -6.14169632e-02,  4.79977193e-02, -3.11097504e-02, -6.05714470e-02,\n",
       "       -1.93898498e-02,  6.24568403e-02,  1.06371381e-01, -9.80004175e-02,\n",
       "        1.36593237e-01,  8.34223729e-02,  2.59033565e-02, -4.99744779e-02,\n",
       "       -1.43125801e-01, -8.79762094e-02, -4.89087773e-02, -1.93652292e-02,\n",
       "        1.89478085e-02, -3.37418160e-02,  6.13384105e-03, -1.45961584e-03,\n",
       "       -1.06970643e-01, -3.58302483e-02,  3.59197112e-03, -1.15424623e-01,\n",
       "        2.56779348e-02, -1.66140320e-01,  1.76760458e-01, -4.56696769e-02,\n",
       "       -9.52464923e-02,  4.47457537e-02,  8.26283796e-02,  1.14171626e-01,\n",
       "       -1.37025430e-01, -1.09988468e-01,  1.10288050e-02, -1.05194776e-01,\n",
       "       -3.33266177e-02,  4.32714928e-02, -9.71195304e-02,  6.54435440e-02,\n",
       "       -4.44576960e-02,  4.88612837e-02, -6.18062577e-03, -4.97545131e-02,\n",
       "        2.35893826e-01, -5.38333249e-02,  1.19844134e-01,  1.86861634e-02,\n",
       "       -5.58817745e-03, -2.85930360e-02,  4.73806223e-02,  9.44270736e-02,\n",
       "       -1.28437788e-01,  9.72597014e-02,  7.28453023e-02, -1.38233827e-01,\n",
       "       -4.36548782e-02,  9.52851857e-02,  8.67125217e-03,  1.20862759e-01,\n",
       "        5.37100012e-02, -4.70837384e-02, -4.14276703e-02,  1.84665356e-02,\n",
       "       -2.04726815e-01, -7.92354073e-02,  7.86305809e-02,  9.27901112e-02,\n",
       "        1.82455783e-01, -2.54820683e-03, -1.62234419e-01,  2.10242447e-01,\n",
       "        4.65624406e-02,  8.55188844e-03,  2.15363573e-01, -1.25638061e-01,\n",
       "        1.54013799e-02,  2.56438237e-02, -2.87467246e-02, -2.98475169e-01,\n",
       "       -2.91242040e-02, -2.79892673e-02,  4.34909776e-02,  2.18460605e-01,\n",
       "       -3.26958700e-02, -2.36744366e-01,  5.36625158e-03,  9.89583527e-02,\n",
       "       -1.74115245e-01, -2.69271419e-02, -5.21249283e-02,  1.81346506e-01,\n",
       "       -2.45655192e-02,  1.91446761e-01,  2.80328788e-01,  2.87521747e-02,\n",
       "        2.70016363e-02, -8.27646377e-02, -1.29147617e-01, -4.21998049e-02,\n",
       "        1.27329776e-01,  1.54776657e-01, -1.44521065e-01,  1.27450653e-01,\n",
       "        1.50989743e-01,  6.71824264e-03, -1.47010492e-02,  4.03622784e-02,\n",
       "        1.11611618e-01,  1.03320085e-01,  8.12366279e-02,  4.61152446e-02,\n",
       "        1.35546990e-01,  1.24675678e-02,  5.62355948e-02,  3.79128733e-02,\n",
       "        3.67202139e-02, -1.09966217e-02, -2.67078946e-01,  1.79002657e-01,\n",
       "        7.51155002e-02,  1.38282158e-01, -2.66128803e-02,  6.44485968e-02,\n",
       "       -3.85044242e-02,  4.26386254e-02, -3.96150158e-02,  1.25675764e-02,\n",
       "       -3.26355521e-02,  1.68671169e-01, -1.62086535e-01,  2.89194367e-02,\n",
       "        8.37310191e-02,  2.13991509e-02, -1.52144633e-02, -1.37601926e-01,\n",
       "       -2.46784803e-02,  8.04969108e-02, -3.81582305e-02, -7.22092886e-02,\n",
       "        2.18905765e-02,  3.34394330e-02, -7.21875394e-02, -6.81126373e-02,\n",
       "       -1.04869088e-01, -7.52853624e-02, -5.03397819e-02,  5.76077751e-03,\n",
       "       -3.89950198e-02,  1.09150885e-02, -1.61217291e-01,  4.78879091e-02,\n",
       "       -8.96914462e-02, -1.92545467e-02,  3.39403291e-02, -1.58381334e-02,\n",
       "        1.48479587e-01,  3.60473481e-02,  7.57092506e-02,  9.15608409e-03,\n",
       "       -1.84002940e-02,  5.17878124e-02, -6.09359483e-02,  5.71068729e-02,\n",
       "       -6.30592354e-02,  1.80661028e-01, -1.65890654e-02,  1.81621664e-01,\n",
       "        1.69716474e-01, -1.12223430e-02,  1.22054852e-01, -1.88291252e-02,\n",
       "       -1.75859738e-02,  8.52935925e-02, -2.02545262e-02,  1.78649231e-01,\n",
       "       -6.81498759e-03,  7.00205871e-02, -2.54093031e-02,  2.26255968e-02,\n",
       "        7.89554694e-02,  1.50228716e-02, -8.78510463e-04,  5.88503026e-03,\n",
       "        7.71517565e-02, -2.80149511e-02,  5.37231303e-03, -1.38600385e-01,\n",
       "       -2.08638809e-04,  1.73560679e-01,  3.04882131e-02,  6.43814659e-02,\n",
       "        1.18729037e-01,  1.10986816e-01,  7.99919872e-02, -5.19326333e-02,\n",
       "       -1.43756523e-01,  2.57810814e-02,  2.45545777e-02, -8.37576219e-02,\n",
       "        1.18717175e-02,  5.58611272e-02, -1.19831879e-01,  5.40868588e-02,\n",
       "       -1.27823103e-02,  4.90235956e-03,  1.68237880e-02,  4.73247582e-02,\n",
       "        8.82198514e-03,  7.07140409e-03, -2.60214674e-02, -3.02544931e-02,\n",
       "        1.35736168e-02, -1.46597685e-01,  1.33701357e-02,  3.39703537e-02,\n",
       "       -2.73759975e-02,  1.12549690e-01, -2.32235468e-02, -5.85666325e-02,\n",
       "        3.40506476e-02,  1.98735236e-02,  1.03557675e-01,  1.78833856e-02,\n",
       "        2.07470747e-02, -1.06899020e-02,  4.13639268e-02,  6.71531244e-02,\n",
       "       -2.65530439e-02, -9.01285409e-02,  9.40440976e-02,  6.05659112e-02,\n",
       "       -1.76925602e-01, -2.80903799e-02,  1.97360948e-01, -1.76150357e-01,\n",
       "       -5.51277871e-02, -1.97252350e-01,  7.46839998e-02, -8.03105111e-02,\n",
       "       -2.09590771e-01, -7.38869099e-02, -2.25477399e-01,  6.67641112e-02,\n",
       "        6.42283815e-03, -4.99559248e-02,  9.24075898e-02,  6.15835115e-02,\n",
       "       -4.36114321e-02,  6.17760870e-02, -6.71218325e-03, -3.46915644e-02,\n",
       "       -7.71822911e-02, -7.99343516e-02,  8.27361012e-02, -6.03115876e-02,\n",
       "       -7.25511632e-02, -7.58380798e-02, -1.61317424e-01, -1.12356195e-01,\n",
       "        2.21947066e-02,  2.17199299e-02,  1.05725280e-02, -1.06275283e-01,\n",
       "        7.47221754e-02, -2.60393140e-02,  1.52620329e-01,  1.42272807e-01,\n",
       "        1.23416612e-01,  8.10352461e-02,  7.53956720e-02, -5.48984195e-02,\n",
       "        4.21496980e-02,  1.18813619e-01,  1.20559944e-01,  4.14483138e-02,\n",
       "        2.05428545e-03,  2.54873666e-01, -5.42027407e-03, -7.53622984e-02,\n",
       "        8.99215635e-02,  4.18490377e-02, -4.63894214e-02,  1.57444544e-03,\n",
       "       -1.15742808e-01, -2.43225907e-02,  9.64967507e-02,  3.48760533e-02,\n",
       "       -8.49606968e-02, -2.30735931e-02, -6.31537311e-04,  9.19179183e-02,\n",
       "        2.71339644e-02,  1.30767304e-01,  7.54976207e-02, -1.26745827e-02,\n",
       "       -2.04817437e-01,  1.46760982e-01,  1.12898343e-01,  1.13758533e-01,\n",
       "        8.52518867e-02, -1.45194147e-01, -1.14292439e-01,  1.44657576e-01,\n",
       "       -8.68232286e-02,  4.91268015e-02,  8.58945409e-02, -7.69765539e-03,\n",
       "       -5.43189761e-02, -4.80675460e-02, -2.78425627e-01, -1.33551352e-01,\n",
       "       -1.53964377e-02,  5.30041881e-02, -4.53060551e-02,  4.50053540e-02,\n",
       "       -4.43261576e-02, -2.93403361e-02,  5.94345895e-02, -1.69575856e-01,\n",
       "       -3.12499347e-02, -1.43279012e-01, -5.37648094e-02, -1.10864752e-01,\n",
       "        1.31194061e-02, -1.22900539e-01,  1.95744540e-01,  1.69693100e-01,\n",
       "       -1.36971848e-01, -1.53430807e-01,  1.07115583e-01, -6.11549185e-02,\n",
       "        7.19883633e-02,  3.30739798e-02, -6.46905899e-02, -6.50616561e-02,\n",
       "       -1.08954803e-01,  1.72331262e-02,  8.08129254e-02,  1.17417046e-01,\n",
       "        4.56237795e-02, -5.69879148e-02, -6.40020786e-02,  2.52951580e-02,\n",
       "        7.35537980e-02,  2.89261788e-02, -1.15026830e-01, -7.92980465e-02,\n",
       "       -1.28136122e-01,  5.67668716e-02,  4.65283175e-02,  1.37141300e-01,\n",
       "       -3.48402116e-02,  1.01912710e-01, -2.24981672e-02,  1.37611521e-01,\n",
       "       -7.34484093e-02, -1.82524288e-01,  6.72584050e-02, -5.56299849e-02,\n",
       "        1.08094842e-01,  4.26078832e-02, -1.63717113e-02, -3.83093862e-02,\n",
       "       -1.32115927e-01, -8.86936507e-02, -1.54480257e-01, -6.12491421e-02,\n",
       "        5.74684533e-02,  7.24375698e-02, -7.06955206e-02,  4.72136443e-02,\n",
       "       -3.98311110e-02, -6.57815478e-03, -2.49049160e-02,  6.51304374e-02,\n",
       "       -3.58078724e-03,  1.18846813e-01, -1.13100127e-01,  1.30537396e-01,\n",
       "       -3.29688758e-02, -8.35999010e-03,  1.47598195e-01,  1.29846517e-01,\n",
       "        1.65125756e-01,  1.14461839e-01,  2.18180004e-02,  5.69147233e-02,\n",
       "        1.56173184e-02,  2.09377312e-01, -1.86285439e-03, -3.04723799e-02,\n",
       "        1.17731594e-01, -1.13875962e-01, -1.48801761e-03, -1.02778895e-01,\n",
       "        2.00382402e-01,  9.82991766e-02,  3.16591282e-02, -9.89307189e-02,\n",
       "       -3.46037144e-03,  6.87539245e-02,  9.65653342e-02,  3.63198507e-02,\n",
       "        1.40526733e-02, -2.44047559e-02, -8.19898897e-02,  7.14992079e-02,\n",
       "        1.94601518e-02, -1.55058973e-01, -1.54069432e-02,  4.79560343e-03,\n",
       "       -1.09385217e-01,  4.02617629e-02, -7.60958335e-02,  3.16478406e-02,\n",
       "        6.16139112e-02,  9.99873479e-02,  6.71130272e-02,  1.01866005e-01,\n",
       "        2.17761206e-01,  1.85905509e-01,  1.05292987e-02, -5.50205349e-02,\n",
       "        6.39903785e-02,  3.25552117e-02, -7.68970633e-02,  1.23560875e-01,\n",
       "       -6.24397802e-02, -3.64338313e-02, -6.99441100e-02,  1.74296300e-02,\n",
       "        9.92546845e-02, -1.68214191e-01,  4.62010862e-02,  1.37844344e-01,\n",
       "       -2.57590459e-01,  9.27320649e-02,  2.59876073e-03,  1.39793852e-01,\n",
       "        7.81847131e-02, -1.67082447e-01, -1.20478331e-01, -5.74739443e-02,\n",
       "       -7.48243038e-02,  5.12648088e-02,  2.90833211e-02, -9.39698497e-02,\n",
       "       -1.21501353e-01,  1.00388171e-02, -9.79251616e-02,  5.19711025e-02,\n",
       "        1.06708216e-01,  1.21085232e-02, -7.55875774e-02,  5.20766731e-02,\n",
       "        7.78054320e-02, -9.76864416e-02,  7.28485862e-02,  1.15825704e-01,\n",
       "       -8.05830263e-02, -1.20959210e-01,  2.53282516e-02, -1.27958879e-01,\n",
       "        9.05988443e-03,  6.31022666e-02, -1.00047679e-01, -5.71634865e-02,\n",
       "        2.30428507e-02, -1.82762270e-01,  5.14348586e-02, -3.65975728e-02,\n",
       "        8.53623412e-02, -6.30603763e-04,  5.97572600e-02, -6.90592702e-03,\n",
       "       -3.28861055e-02,  6.26384765e-02,  1.06264913e-01, -6.12267821e-02,\n",
       "        9.23121388e-02,  3.35533439e-02,  8.90765845e-02, -9.56683096e-02,\n",
       "        6.01905959e-02,  4.89530649e-02, -7.44358721e-02, -1.15105093e-01,\n",
       "       -1.55105784e-02, -6.22879445e-02, -1.84162226e-01,  2.90797336e-02,\n",
       "       -1.50468093e-01,  1.06592579e-01, -1.79158554e-02, -2.39717961e-02,\n",
       "       -2.85808061e-02,  1.16029488e-02, -3.17644704e-02,  1.53697596e-01,\n",
       "        1.48988539e-01,  1.54974020e-01,  9.73436572e-02,  4.75666534e-03,\n",
       "       -1.23081264e-01,  9.04529865e-02, -1.48848730e-01, -7.84064808e-02,\n",
       "       -1.76416693e-01, -1.44328123e-01,  1.21940663e-01,  6.10212057e-02,\n",
       "        5.26231562e-02,  1.11929391e-01, -4.76038895e-02, -9.79957876e-03,\n",
       "       -2.51228219e-01,  8.47643516e-02, -2.07558030e-01, -1.14819690e-01,\n",
       "       -1.59465110e-02,  1.06607780e-01,  2.32916898e-01,  5.17067343e-02,\n",
       "        1.46291257e-01,  4.91387461e-03,  2.08515180e-02,  1.12363656e-02,\n",
       "       -4.83063246e-03, -2.95100661e-02,  5.87987032e-02,  1.93563838e-01,\n",
       "        1.18683300e-01, -1.30977738e-01, -6.17564883e-02, -1.09549334e-02,\n",
       "       -6.05007573e-02,  8.74043040e-02, -1.57241548e-01, -1.15524657e-01,\n",
       "       -2.00828487e-02,  9.65459115e-02,  9.05837689e-02,  2.05242828e-01,\n",
       "        1.13832857e-01, -7.60493302e-02, -8.60635948e-02,  4.91949724e-03,\n",
       "        1.80368817e-02,  1.24640051e-01,  1.26852095e-01, -4.57574570e-02,\n",
       "        6.88130740e-02,  1.96774255e-01,  1.02622936e-01, -1.73880234e-02,\n",
       "       -5.14188808e-02, -1.32142782e-01, -9.64909175e-02, -3.45805687e-02,\n",
       "        5.84495470e-02, -2.47087059e-02, -3.07410433e-02, -4.18605544e-02,\n",
       "       -1.91664050e-01, -2.65259162e-02, -4.23127060e-02,  5.96016831e-02,\n",
       "        7.28212309e-02,  1.23628249e-01, -1.06726908e-02,  3.38619075e-03,\n",
       "       -1.18454165e-01,  2.11430653e-02,  1.28262214e-01, -1.47705669e-01,\n",
       "        1.43159960e-01,  1.10878041e-01,  7.94996624e-02,  2.31132342e-02,\n",
       "        5.07116710e-02, -1.68636167e-01,  5.82745148e-02, -5.39544568e-02,\n",
       "       -2.58579378e-01,  1.18818366e-01, -1.12700123e-02,  1.33310056e-01,\n",
       "        6.73916090e-02, -1.06318479e-01, -4.43555989e-02, -5.86253815e-02,\n",
       "        8.80552462e-02, -2.01255346e-03, -4.04820618e-02,  3.01231490e-02,\n",
       "       -8.09021768e-03, -4.95070746e-02, -8.93540064e-02,  1.37802705e-01,\n",
       "       -1.09431443e-01,  7.28953839e-02, -1.21819760e-01, -1.34259511e-01,\n",
       "        1.06347761e-02, -1.92517908e-02,  8.09182995e-02,  5.81292842e-02,\n",
       "        2.24745165e-01, -8.04228217e-02, -3.40312414e-02,  2.21667943e-02,\n",
       "       -6.48753611e-02, -2.75652306e-01, -8.46015058e-02,  4.72561299e-02,\n",
       "       -9.18647627e-02,  4.41387225e-02,  5.02289403e-02,  1.22147593e-01,\n",
       "        8.04520974e-02,  2.20423075e-01,  4.48682011e-02,  8.59487038e-02,\n",
       "        7.11169726e-02, -5.42324651e-02, -7.57713682e-02,  1.00671303e-01,\n",
       "        9.56861815e-02,  2.14955320e-02,  9.67474837e-02,  4.95696537e-02,\n",
       "        6.91588293e-02, -1.90038462e-01,  1.50372957e-01, -2.02756464e-02,\n",
       "        6.06457678e-02, -9.97516288e-02, -1.78983745e-01,  9.74193877e-03,\n",
       "       -1.75347822e-02,  3.16575581e-02,  1.88745943e-01, -5.76545978e-02,\n",
       "       -4.89769859e-02,  1.28151039e-01,  1.26256881e-01, -3.89165982e-03,\n",
       "        2.04674842e-02, -8.41496743e-03,  5.07462669e-02, -1.07924891e-01,\n",
       "       -6.09402298e-02, -6.94845039e-02,  1.98408925e-02,  3.39118944e-02,\n",
       "       -8.75837691e-02, -7.79971751e-02, -2.80118552e-02,  1.15166015e-01,\n",
       "        1.81977528e-02, -5.36170780e-02, -5.18496418e-02, -1.84104009e-01,\n",
       "       -1.48672491e-01, -9.70351334e-03, -6.35613681e-02, -1.10696173e-01,\n",
       "        5.02980162e-02,  7.60658748e-02,  7.23609945e-02,  1.00125658e-01,\n",
       "        1.50586447e-01, -1.57196393e-01,  5.54082693e-02,  7.26188607e-02,\n",
       "       -2.92082835e-02,  1.90168472e-02, -7.42214468e-02,  3.70266370e-02,\n",
       "       -1.21064427e-01,  2.81745427e-02, -2.05194650e-02, -1.04556837e-01,\n",
       "       -7.69635010e-02, -1.77202224e-01,  6.08250003e-02,  1.20222604e-01,\n",
       "       -2.71875565e-01, -5.14536297e-02,  1.32047424e-02,  3.33136064e-02,\n",
       "        2.93743843e-02,  4.23991165e-02,  1.41004878e-01,  1.84657808e-01,\n",
       "        5.31548052e-02, -6.89028372e-02,  3.78508032e-02, -1.32445457e-01,\n",
       "        1.50434752e-01, -2.66399922e-02, -1.95667150e-01,  2.03097618e-01,\n",
       "        1.83452626e-01, -4.78238764e-02, -2.65985887e-01, -4.10717510e-02,\n",
       "        3.39063666e-02,  1.32833671e-02,  3.74157824e-02,  8.52146244e-02,\n",
       "       -1.34320687e-01, -4.26160089e-02, -3.02495975e-02, -1.28839496e-01,\n",
       "        1.69425393e-04, -1.06297885e-01, -1.23595425e-01, -1.59655574e-02,\n",
       "       -3.90453232e-02, -1.19413037e-01, -1.38123601e-01,  9.80142563e-02,\n",
       "        1.20334490e-02, -2.06869435e-02,  2.76767360e-03,  1.20371495e-01,\n",
       "       -1.20584623e-01, -7.94698272e-02,  1.39815923e-01,  6.73692921e-02,\n",
       "        2.61529679e-02, -1.70627201e-01, -1.02167257e-01, -5.61202489e-02,\n",
       "       -7.22697445e-02, -3.36338625e-02, -1.68835558e-01, -1.43297975e-01,\n",
       "        3.66506675e-02, -1.39728911e-02,  4.71037333e-02,  3.22778158e-03,\n",
       "       -3.96415320e-02,  2.00883089e-01, -1.90516651e-02,  1.12631898e-01,\n",
       "        5.75049001e-02,  7.25892773e-02, -4.75818883e-02, -1.18994254e-02,\n",
       "       -1.39746008e-01,  1.20907895e-01,  7.53606412e-02,  3.73134596e-03,\n",
       "       -4.83227336e-02,  8.37763912e-02,  2.27462392e-02, -4.68223592e-02,\n",
       "       -1.04219536e-01,  5.72879392e-03, -1.28052220e-01,  6.46967038e-02,\n",
       "        7.18514346e-03,  7.02550957e-02, -1.82510352e-01,  3.95603647e-03,\n",
       "       -3.53114489e-02,  4.78396172e-02,  3.60012111e-02,  1.38343873e-01,\n",
       "       -1.55983012e-02, -2.74867217e-01, -2.32961665e-03, -9.89027580e-02,\n",
       "       -1.60624210e-01,  6.50023661e-02, -2.18914198e-01,  7.38885136e-02,\n",
       "       -2.97999198e-02,  1.48164227e-01, -7.24971243e-02,  6.70995717e-02,\n",
       "       -6.03860263e-02,  6.37375887e-02, -1.57296839e-02, -7.78789053e-02,\n",
       "       -1.54083960e-03, -5.69659823e-02, -9.88324630e-02,  4.89328594e-02,\n",
       "       -1.22955759e-02, -5.62736817e-03, -7.63652565e-02, -6.32214913e-02,\n",
       "       -9.12277110e-02, -8.70348657e-02,  1.62823561e-01,  5.96253124e-02,\n",
       "        7.54275881e-02, -7.69853189e-02,  1.61932694e-01, -1.12288450e-01,\n",
       "        1.40012128e-01,  1.40475732e-02, -3.64645302e-02, -1.16739860e-02,\n",
       "       -6.83462413e-03, -2.09876749e-03,  6.88658238e-02, -1.46541534e-02,\n",
       "        1.07245575e-01,  3.77666013e-02,  1.23878012e-01, -1.48154300e-01,\n",
       "       -2.00493142e-01, -5.44890043e-02,  1.27150565e-01, -2.69729199e-02,\n",
       "       -7.34048351e-02,  7.71951149e-02,  1.03438341e-02, -1.96523755e-02,\n",
       "       -5.90695856e-03, -8.74971863e-02, -4.27957685e-02,  7.15784869e-02,\n",
       "        6.40386482e-02, -7.68617920e-02, -1.01719063e-01,  4.22968678e-03,\n",
       "        1.23899304e-01,  5.55194018e-02, -6.30827892e-02,  9.03367176e-02,\n",
       "       -6.41018812e-03, -7.57685522e-02, -7.03041758e-03,  4.23013900e-02,\n",
       "       -1.52965488e-02, -1.81968642e-02, -3.87475236e-02, -2.32085094e-02,\n",
       "        6.03420739e-02,  8.26857190e-02, -6.14937772e-02,  2.36551450e-02,\n",
       "        5.49403408e-02, -9.39250514e-02,  3.52560993e-02, -1.31313326e-01,\n",
       "       -1.90548493e-02,  4.64977057e-02,  2.67489912e-01,  2.00228647e-02,\n",
       "       -4.30708630e-02,  1.31026745e-01, -1.97758503e-02, -6.53215928e-02,\n",
       "       -7.19435897e-02, -3.19574856e-02, -1.32399388e-01, -4.97074989e-02,\n",
       "        8.30116139e-02, -6.51653893e-02,  1.72588070e-01,  1.15430260e-01,\n",
       "        1.39200202e-02, -1.43581090e-01, -1.37587068e-01, -1.11083114e-01,\n",
       "       -2.74305301e-02,  9.68823401e-02,  7.41078954e-02,  1.44790678e-02,\n",
       "        8.25401458e-02, -4.52260691e-02, -9.65316842e-02, -2.09308843e-01,\n",
       "       -1.34889795e-01, -4.13217348e-03, -7.46890440e-02, -1.82854863e-01])"
      ]
     },
     "execution_count": 30,
     "metadata": {},
     "output_type": "execute_result"
    }
   ],
   "source": [
    "np.random.normal(0, 0.1, 1000)"
   ]
  },
  {
   "cell_type": "code",
   "execution_count": 31,
   "metadata": {},
   "outputs": [
    {
     "data": {
      "text/plain": [
       "(array([  6.,  19.,  62., 175., 268., 243., 136.,  65.,  23.,   3.]),\n",
       " array([-7.07363537, -2.62830066,  1.81703405,  6.26236876, 10.70770347,\n",
       "        15.15303818, 19.59837289, 24.04370761, 28.48904232, 32.93437703,\n",
       "        37.37971174]),\n",
       " <a list of 10 Patch objects>)"
      ]
     },
     "execution_count": 31,
     "metadata": {},
     "output_type": "execute_result"
    },
    {
     "data": {
      "image/png": "[encoded data removed]",
      "text/plain": [
       "<Figure size 432x288 with 1 Axes>"
      ]
     },
     "metadata": {
      "needs_background": "light"
     },
     "output_type": "display_data"
    }
   ],
   "source": [
    "# The data is being centered around the first number, if you change it around you can see.\n",
    "x = np.random.normal(15, 7, 1000) # Values centre around the first value 15\n",
    "# Shows the data on the x axis\n",
    "plt.hist(x)"
   ]
  },
  {
   "cell_type": "markdown",
   "metadata": {},
   "source": [
    "### 4. Numpy.random.binomial\n",
    "\n",
    "What Is Binomial Distribution?\n",
    "- The <a href=\"https://www.investopedia.com/terms/b/binomialdistribution.asp\" target=\"_blank\">Binomial</a> distribution is a probability distribution that summarizes the likelihood that a value will take one of two independent values under a given set of parameters or assumptions. The underlying assumptions of the binomial distribution are that there is only one outcome for each trial, that each trial has the same probability of success, and that each trial is mutually exclusive, or independent of each other.\n",
    "\n",
    "\n",
    "- \"The binomial distribution is a common discrete distribution used in statistics, as opposed to a continuous distribution, such as the normal distribution. This is because the binomial distribution only counts two states, typically represented as 1 (for a success) or 0 (for a failure) given a number of trials in the data. The binomial distribution, therefore, represents the probability for x successes in n trials, given a success probability p for each trial.\" (Investopedia, 2019)\n",
    "\n",
    "- The mean of the binomial distribution is np, and the variance of the binomial distribution is np (1 − p). When p = 0.5, the distribution is symmetric around the mean. When p > 0.5, the distribution is skewed to the left. When p < 0.5, the distribution is skewed to the right. (Investopedia, 2019)\n",
    "\n",
    "The probability density for the binomial distribution is:\n",
    "\n",
    "\n",
    "![title](Binomialfunction.svg)\n",
    "\n",
    "\n",
    "where n is the number of trials, p is the probability of success, and N is the number of successes. An example of how to calculate it <a href=\"https://www.investopedia.com/articles/active-trading/092114/basics-binomial-distribution.asp\" target=\"_blank\">here</a>\n",
    "\n",
    "\"When estimating the standard error of a proportion in a population by using a random sample, the normal distribution works well unless the product p*n <=5, where p = population proportion estimate, and n = number of samples, in which case the binomial distribution is used instead. For example, a sample of 15 people shows 4 who are left handed, and 11 who are right handed. Then p = 4/15 = 27%. 0.27*15 = 4, so the binomial distribution should be used in this case.\" (Sci.Py.org, 2018) \n",
    "\n",
    "For example, assume that a casino created a new game in which participants are able to place bets on the number of heads or tails in a specified number of coin flips. Assume a participant wants to place a $10 bet that there would be exactly six heads in 20 coin flips. The participant wants to calculate the probability of this occurring, and therefore, he uses the calculation for the binomial distribution.\n",
    "- The probability was calculated as: (20! / (6! * (20 - 6))) * (0.50)^(6) * (1 - 0.50) ^ (20 - 6). Consequently, the probability of exactly six heads occurring in 20 coin flips is 0.037, or 3.7 per cent. The expected value in this instance was 10, so a bad bet was met. (Investopedia, 2019)"
   ]
  },
  {
   "cell_type": "markdown",
   "metadata": {},
   "source": [
    "\"A real world example. A company drills 9 wild-cat oil exploration wells, each with an estimated probability of success of 0.1. All nine wells fail. What is the probability of that happening? Let’s do 20,000 trials of the model, and count the number that generate zero positive results.\" (SciPy.org, 2019)"
   ]
  },
  {
   "cell_type": "code",
   "execution_count": 32,
   "metadata": {
    "scrolled": true
   },
   "outputs": [
    {
     "data": {
      "text/plain": [
       "0.39265"
      ]
     },
     "execution_count": 32,
     "metadata": {},
     "output_type": "execute_result"
    }
   ],
   "source": [
    "# A real world example. A company drills 9 wild-cat oil exploration wells,\n",
    "# each with an estimated probability of success of 0.1. All nine wells fail. What is the probability of that happening?\n",
    "#Let’s do 20,000 trials of the model, and count the number that generate zero positive results. (Adapted from Sci.Py.Org)\n",
    "sum(np.random.binomial(9, 0.1, 20000) == 0)/20000."
   ]
  },
  {
   "cell_type": "markdown",
   "metadata": {},
   "source": [
    "A **single coin flip** is an example of an experiment with a binary outcome. Coin flips meet the other binomial distribution requirement as well — the outcome of each individual coin flip is independent of all the others. Just to be clear, the outcomes of the experiment don’t need to be equally likely as they are with flips of a fair coin — the following things also meet the prerequisites of the binomial distribution:\n",
    "- An unfair coin (e.g. one with an 80% probability of coming up heads).\n",
    "- Randomly picking people on the street to answer a yes or no question.\n",
    "- Attempting to convince visitors of a website to buy a product — the yes or no outcome is whether they purchased or not.\n",
    "One thing that may trouble newcomers to probability and statistics is the idea of a probability distribution. We tend to think deterministically such as “I flipped a coin 10 times and produced 6 heads”. So the outcome is 6 — where is the distribution then?\n",
    "The probability distribution derives from variance. If both you and I flipped 10 coins, it’s pretty likely that we would get different results (you might get 5 heads and I get 7). This variance, a.k.a. uncertainty around the outcome, produces a probability distribution, which basically tells us what outcomes are relatively more likely (such as 5 heads) and which outcomes are relatively less likely (such as 10 heads).\n",
    "\n",
    "- We can demonstrate this example below.\n",
    "  1. Generate a random number between 0 and 1. If that number is 0.5 or more, then count it as heads, otherwise tails. Do this n times using a Python list comprehension. This happens within the function run_binom via the variables tosses.\n",
    "  2. Repeat this a specified number of times (the amount of trials is specified by the input variable trials). We will perform 1,000 trials.\n",
    "  \n",
    "#### What happens when we repeat our 10 coin toss trial 1,000 times? We get the histogram plotted below:\n"
   ]
  },
  {
   "cell_type": "code",
   "execution_count": 33,
   "metadata": {},
   "outputs": [
    {
     "name": "stderr",
     "output_type": "stream",
     "text": [
      "C:\\Users\\owner\\Anaconda\\lib\\site-packages\\scipy\\stats\\stats.py:1713: FutureWarning: Using a non-tuple sequence for multidimensional indexing is deprecated; use `arr[tuple(seq)]` instead of `arr[seq]`. In the future this will be interpreted as an array index, `arr[np.array(seq)]`, which will result either in an error or a different result.\n",
      "  return np.add.reduce(sorted[indexer] * weights, axis=axis) / sumval\n"
     ]
    },
    {
     "data": {
      "text/plain": [
       "Text(0, 0.5, 'Frequency')"
      ]
     },
     "execution_count": 33,
     "metadata": {},
     "output_type": "execute_result"
    },
    {
     "data": {
      "image/png": "[encoded data removed]",
      "text/plain": [
       "<Figure size 720x360 with 1 Axes>"
      ]
     },
     "metadata": {
      "needs_background": "light"
     },
     "output_type": "display_data"
    }
   ],
   "source": [
    "# Code adapted from (Towards Data Science, 2018)\n",
    "# n: the number of times we perform our experiment. \n",
    "# In our coin example, n is equal to 10 (each experiment is 1 flip of the coin).\n",
    "# p: the probability of success. For a fair coin, it would be 50%.\n",
    "# k: the target number of successes. Earlier we mentioned that we were looking for 6 successes.\n",
    "# Import Libraries.\n",
    "import matplotlib.pyplot as plt\n",
    "import seaborn as sns\n",
    "# Input variables\n",
    "# Number of trials\n",
    "trials = 1000\n",
    "# Number of independent experiments in each trial.\n",
    "n = 10\n",
    "# Probability of success for each experiment.\n",
    "p = 0.5\n",
    "# Function that runs our coin toss trials.\n",
    "# heads is a list of the number of successes from each trial of n experiments.\n",
    "def run_binom(trials, n, p):\n",
    "    heads = []\n",
    "    for i in range(trials):\n",
    "        tosses = [np.random.random() for i in range(n)]\n",
    "        heads.append(len([i for i in tosses if i>=0.50]))\n",
    "    return heads\n",
    "\n",
    "heads = run_binom(trials, n, p) # # Run the function\n",
    "# Plot the results as a histogram\n",
    "fig, ax = plt.subplots(figsize=(10,5)) # Size\n",
    "ax = sns.distplot(heads, bins=11, label='simulation results') # Plots the values, size and labels.\n",
    "ax.set_xlabel(\"Number of Heads\",fontsize=16) # Font size of label on x axis\n",
    "ax.set_ylabel(\"Frequency\",fontsize=16) # Font size of Freq"
   ]
  },
  {
   "cell_type": "markdown",
   "metadata": {},
   "source": [
    "Now we can modify the plotting section of our previous code above, so that our plot also shows the actual binomial distribution."
   ]
  },
  {
   "cell_type": "code",
   "execution_count": 34,
   "metadata": {
    "scrolled": true
   },
   "outputs": [
    {
     "data": {
      "image/png": "[encoded data removed]",
      "text/plain": [
       "<Figure size 432x288 with 1 Axes>"
      ]
     },
     "metadata": {
      "needs_background": "light"
     },
     "output_type": "display_data"
    },
    {
     "name": "stdout",
     "output_type": "stream",
     "text": [
      "Actual Binomial Distribution in red.\n"
     ]
    }
   ],
   "source": [
    "# Plot the actual binomial distribution as a sanity check.\n",
    "from scipy.stats import binom\n",
    "x = range(0,11)# Range of values\n",
    "ax.plot(x, binom.pmf(x, n, p), label='actual binomial distribution')# Actual Binomial Distribution in red. \n",
    "ax = sns.distplot(heads, bins=11, label='Simulation results') # Displays Simulation results.\n",
    "ax.vlines(x, 0, binom.pmf(x, n, p), colors='r', lw=5, alpha=0.5) # Sets values for his, colour, length and width etc.\n",
    "plt.legend()\n",
    "plt.show()\n",
    "print(\"Actual Binomial Distribution in red.\")"
   ]
  },
  {
   "cell_type": "markdown",
   "metadata": {},
   "source": [
    "\"The takeaway is that the binomial distribution is a pretty good approximation of what we would have observed if we had actually repeated our 10 coin tosses 1,000 times — so instead of wasting tons of time tossing coins and recording the results, we can just use the binomial distribution!\" (Towards Data Science, 2018)"
   ]
  },
  {
   "cell_type": "markdown",
   "metadata": {},
   "source": [
    "### 5. Numpy.random.multinomial\n",
    "\n",
    "A <a href=\"https://www.tutorialspoint.com/statistics/multinomial_distribution.htm\" target=\"_blank\">multinomial</a> experiment is a statistical experiment and it consists of n repeated trials. Each trial has a discrete number of possible outcomes. On any given trial, the probability that a particular outcome will occur is constant.\n",
    "\n",
    "The multinomial distribution is used to find probabilities in experiments where there are more than two outcomes. A multinomial experiment is almost identical to binomial eperiment, with one main difference: a binomial experiment can have two outcomes, while a multinomial experiment can have multiple outcomes.\n",
    "\n",
    "Example: You roll a die ten times to see what number you roll. There are 6 possibilities (1,2,3,4,5,6), so this is a multinomial experiment. If you rolled the die ten times to see how many times you roll a three, that would be a binomial experiment (3 = success, 1,2,4,5,6 = failure).\n",
    "\n",
    "The multinomial distribution is a multivariate generalisation of the binomial distribution. Take an experiment with one of p possible outcomes. An example of such an experiment is throwing a dice, where the outcome can be 1 through 6. Each sample drawn from the distribution represents n such experiments. Its values, X_i = [X_0, X_1, ..., X_p], represent the number of times the outcome was i. (Sci.py.org, 2019)\n",
    "\n"
   ]
  },
  {
   "cell_type": "code",
   "execution_count": 35,
   "metadata": {},
   "outputs": [
    {
     "data": {
      "text/plain": [
       "array([[0, 7, 2, 4, 5, 2]])"
      ]
     },
     "execution_count": 35,
     "metadata": {},
     "output_type": "execute_result"
    }
   ],
   "source": [
    "# Fr e.g if you throw a dice 20 times, \n",
    "np.random.multinomial(20, [1/6.]*6, size=1) # Function, throw dice 20 times, displaying six values.\n",
    "# It landed 3 times on 5, two times on 2, and so on."
   ]
  },
  {
   "cell_type": "code",
   "execution_count": 36,
   "metadata": {},
   "outputs": [
    {
     "data": {
      "text/plain": [
       "array([[2, 5, 0, 3, 6, 4],\n",
       "       [2, 1, 3, 3, 3, 8]])"
      ]
     },
     "execution_count": 36,
     "metadata": {},
     "output_type": "execute_result"
    }
   ],
   "source": [
    "# Now, throw the dice 20 times, and 20 times again:\n",
    "np.random.multinomial(20, [1/6.]*6, size=2)"
   ]
  },
  {
   "cell_type": "markdown",
   "metadata": {},
   "source": [
    "For the first run, we threw 3 times 1, 4 times 2, etc. For the second, we threw 2 times 1, 4 times 2, etc."
   ]
  },
  {
   "cell_type": "markdown",
   "metadata": {},
   "source": [
    "## 5.  Use of seeds in generating pseudorandom numbers."
   ]
  },
  {
   "cell_type": "markdown",
   "metadata": {},
   "source": [
    "**What is a random seed?**\n",
    "\n",
    "\n",
    "\"A random seed is a starting point in generating random numbers. A random seed specifies the start point when a computer generates a random number sequence. This can be any number, but it usually comes from seconds on a computer system's clock. A computer counts seconds from January 1, 1970 — a system called Unix time. At time I am writing this sentence it is 11:01:46 EST on February 5, 2017: 1486310506 seconds after 1-1-1970 (you can find the current Unix time here). Having such a large range for seeds (0 to 1+ billion) pretty much ensures that you don’t get the same random seed isn’t used twice — unless you want to.\"(Stats how to, 2017)\n",
    "\n",
    "\n",
    "\"For example, let’s say you wanted to generate a random number in Excel (Note: Excel sets a limit of 9999 for the seed). If you enter a number into the Random Seed box during the process, you’ll be able to use the same set of random numbers again. If you typed “77” into the box, and typed “77” the next time you run the random number generator, Excel will display that same set of random numbers. If you type “99”, you’ll get an entirely different set of numbers. But if you revert back to a seed of 77, then you’ll get the same set of random numbers you started with.\"(Stats how to, 2017)\n",
    "\n",
    "**Random.state**\n",
    "\n",
    "<a href=\"https://www.tutorialspoint.com/statistics/multinomial_distribution.htm\" target=\"_blank\">Random State</a> exposes a number of methods for generating random numbers drawn from a variety of probability distributions. In addition to the distribution-specific arguments, each method takes a keyword argument size that defaults to None. If size is None, then a single value is generated and returned. If size is an integer, then a 1-D array filled with generated values is returned. If size is a tuple, then an array with that shape is filled and returned. (SciPy.org, 2019)\n",
    "\n",
    "\n",
    "**What is the seed of a number?**\n",
    "\n",
    "\n",
    "Seeds (Or Seed Roots) of a number. A Seed of a number n is a number x such that multiplication of x with its digits is equal to n. The task is to find all seeds of a given number n.\n",
    "\n",
    "Input  : n = 138\n",
    "Output : 23 \n",
    "23 is a seed of 138 because\n",
    "23*2*3 is equal to 138\n",
    "\n",
    "Input : n = 4977\n",
    "Output : 79 711 \n",
    "79 is a seed of 4977 because\n",
    "79 * 7 * 9 = 4977.\n",
    "711 is also a seed of 4977 because\n",
    "711 * 1 * 1 * 7 = 4977\n",
    "\n",
    "Input  : n = 9\n",
    "Output : No seed exists (Geeks for Geeks, 2016)\n",
    "\n",
    "**What does random seed () do?**\n",
    "Seed function is used to save the state of random function, so that it can generate some random numbers on multiple execution of the code on the same machine or on different machines (for a specific seed value). Seed value is the previous value number generated by the generator. (Geeks for Geeks, 2016)\n",
    "\n",
    "\n",
    "**The main point of using the seed:**\n",
    "\n",
    "\n",
    "Is to be able to reproduce a particular sequence of 'random' numbers. Generally speaking, if you don't need to be able to do that, you wouldn't set the seed. The seed itself carries no inherent meaning except it's a way of telling the random number generator 'where to start'. You might think of it a bit like the relationship between a PIN number and your bank account. The PIN is associated with a long string of numbers (your account number), but it's not inherently an interpretable quantity. (Stack Exchange, 2019)\n",
    "\n",
    "\n",
    "**How does the random number generator work?**\n",
    "Pseudo-random number generators work by performing some operation on a value. Generally this value is the previous number generated by the generator. However, the first time you use the generator, there is no previous value.\n",
    "\n",
    "Seeding a pseudo-random number generator gives it its first \"previous\" value. Each seed value will correspond to a sequence of generated values for a given random number generator. That is, if you provide the same seed twice, you get the same sequence of numbers twice.\n",
    "\n",
    "Generally, you want to seed your random number generator with some value that will change each execution of the program. For instance, the current time is a frequently-used seed. The reason why this doesn't happen automatically is so that if you want, you can provide a specific seed to get a known sequence of numbers. (Stackoverflow, 2014)\n",
    "\n",
    "\n",
    "A Random Number Generator is a technology designed to generate a sequence that does not have any pattern, therefore appear to be random. ... Hardware random generators (TRNG): Hardware RNGs do not require seeds because hardware random numbers are not computed values; they are not derived through a repeatable algorithm. (Stack Exchange, 2019)\n"
   ]
  },
  {
   "cell_type": "markdown",
   "metadata": {},
   "source": [
    "**Random.seed** gives a value to random value generator, which generates these values on the basis of this seed. Once you put same seed you get the same pattern of random numbers. So you are generating them right from the start again. You give a different seed it starts with a different number."
   ]
  },
  {
   "cell_type": "code",
   "execution_count": 37,
   "metadata": {
    "scrolled": true
   },
   "outputs": [
    {
     "data": {
      "text/plain": [
       "0.5507979025745755"
      ]
     },
     "execution_count": 37,
     "metadata": {},
     "output_type": "execute_result"
    }
   ],
   "source": [
    "np.random.seed(3) # Gen a random number.\n",
    "np.random.random() "
   ]
  },
  {
   "cell_type": "code",
   "execution_count": 38,
   "metadata": {
    "scrolled": true
   },
   "outputs": [
    {
     "data": {
      "text/plain": [
       "0.5507979025745755"
      ]
     },
     "execution_count": 38,
     "metadata": {},
     "output_type": "execute_result"
    }
   ],
   "source": [
    "np.random.seed(3) # If you want to use the same number as before, use the same seed.\n",
    "np.random.random()"
   ]
  },
  {
   "cell_type": "code",
   "execution_count": 39,
   "metadata": {},
   "outputs": [
    {
     "data": {
      "text/plain": [
       "0.7081478226181048"
      ]
     },
     "execution_count": 39,
     "metadata": {},
     "output_type": "execute_result"
    }
   ],
   "source": [
    "np.random.random() # Generates a different value if you don't use the same seed as before."
   ]
  },
  {
   "cell_type": "markdown",
   "metadata": {},
   "source": [
    "Every time we are running the above program we are setting seed to 10, then random generator takes this as a reference variable. And then by doing some predefined formula, it generates a random number."
   ]
  },
  {
   "cell_type": "code",
   "execution_count": 40,
   "metadata": {},
   "outputs": [
    {
     "name": "stdout",
     "output_type": "stream",
     "text": [
      "13\n",
      "23\n",
      "72\n",
      "29\n",
      "11\n",
      "62\n"
     ]
    }
   ],
   "source": [
    "np.random.seed(14)\n",
    "\n",
    "for i in range(6):    \n",
    "    print(np.random.randint(1, 80))"
   ]
  },
  {
   "cell_type": "code",
   "execution_count": 41,
   "metadata": {
    "scrolled": true
   },
   "outputs": [
    {
     "name": "stdout",
     "output_type": "stream",
     "text": [
      "13\n",
      "23\n",
      "72\n",
      "29\n",
      "11\n",
      "62\n"
     ]
    }
   ],
   "source": [
    "np.random.seed(14)\n",
    "\n",
    "for i in range(6):    \n",
    "    print(np.random.randint(1, 80))"
   ]
  },
  {
   "cell_type": "code",
   "execution_count": 42,
   "metadata": {},
   "outputs": [
    {
     "name": "stdout",
     "output_type": "stream",
     "text": [
      "first number  -  28\n",
      "Second number-  28\n"
     ]
    },
    {
     "data": {
      "text/plain": [
       "0.8874117053874859"
      ]
     },
     "execution_count": 42,
     "metadata": {},
     "output_type": "execute_result"
    }
   ],
   "source": [
    "np.random.seed( 20 )\n",
    "print (\"first number  - \", np.random.randint(25,50)) # Set the seed, so if you want to use it again, use seed number.\n",
    "\n",
    "np.random.seed( 20 )\n",
    "print (\"Second number- \", np.random.randint(25,50)) # Prints the same number, using the seed you just set above.\n",
    "\n",
    "np.random.rand() # Prints a random number.\n"
   ]
  },
  {
   "cell_type": "markdown",
   "metadata": {},
   "source": [
    "**Random.state**\n",
    "\n",
    "<a href=\"https://www.tutorialspoint.com/statistics/multinomial_distribution.htm\" target=\"_blank\">Random State</a> exposes a number of methods for generating random numbers drawn from a variety of probability distributions. In addition to the distribution-specific arguments, each method takes a keyword argument size that defaults to None. If size is None, then a single value is generated and returned. If size is an integer, then a 1-D array filled with generated values is returned. If size is a tuple, then an array with that shape is filled and returned. (SciPy.org, 2019)\n",
    "\n",
    "If you don't mention the random_state in the code, then whenever you execute your code a new random value is generated and the train and test datasets would have different values each time.\n",
    "\n",
    "However, if you use a particular value for random_state(random_state = 1 or any other value) everytime the result will be same,i.e, same values in train and test datasets. Refer below code:"
   ]
  },
  {
   "cell_type": "markdown",
   "metadata": {},
   "source": [
    "The function train_test_split splits arrays or matrices into random train and test subsets. That means that everytime you run it without specifying random_state, you will get a different result, this is expected behavior.\n",
    "No matter how many times you run the code, the output will always be 70. If you remove the random_state and run the code, output will be different everytime."
   ]
  },
  {
   "cell_type": "code",
   "execution_count": 44,
   "metadata": {},
   "outputs": [
    {
     "name": "stdout",
     "output_type": "stream",
     "text": [
      "70\n"
     ]
    }
   ],
   "source": [
    "import pandas as pd \n",
    "from sklearn.model_selection import train_test_split # Import train_test_split function.\n",
    "test_series = pd.Series(range(100)) # Test range\n",
    "size30split = train_test_split(test_series,random_state = 1,test_size = .3) \n",
    "size25split = train_test_split(test_series,random_state = 1,test_size = .25) #\n",
    "common = [element for element in size25split[0] if element in size30split[0]]\n",
    "print(len(common))"
   ]
  },
  {
   "cell_type": "markdown",
   "metadata": {},
   "source": [
    "Try to remove the random_state and run the code. Output will be different everytime you run the code."
   ]
  },
  {
   "cell_type": "markdown",
   "metadata": {},
   "source": [
    "## Bibliography\n",
    "\n",
    "SciPy.org, 2018, Viewed on 2019/10/18, available at: https://docs.scipy.org/doc/numpy-1.15.0/reference/routines.random.html\n",
    "\n",
    "APMonitor, Youtube, 2017, viewed on 2019/11/04, available at: https://www.youtube.com/watch?v=Z2zUGmqIDto \n",
    "\n",
    "Stackoverflow, 2017, viewed on 2019/11/04, available at: (https://stackoverflow.com/questions/15474159/shuffle-vs-permute-numpy)\n",
    "\n",
    "Py.Native, 2019, viewed on the 2019/11/05, available at: https://pynative.com/python-random-shuffle/\n",
    "\n",
    "Crazy Geeks, 2019, viewed on the 2019/11/07, available at: https://www.crazygeeks.org/numpy-random-rand-in-python/\n",
    "\n",
    "Chris Albon, 2017, viewed on 2019/11/07, available at: https://chrisalbon.com/python/basics/generating_random_numbers_with_numpy/\n",
    "\n",
    "Machinemastery, 2019, viewed on the 2019/11/07, available at: https://machinelearningmastery.com/how-to-generate-random-numbers-in-python/\n",
    "\n",
    "Statistics How To, 2013, viewed on the 2019/11/07, available at: https://www.statisticshowto.datasciencecentral.com/poisson-distribution/\n",
    "\n",
    "Britannica, 2019, viewed on the 2019/11/07, available at: https://www.britannica.com/biography/Simeon-Denis-Poisson\n",
    "\n",
    "Stats How To, 2014, viewwed on 2019/11/07, available at: https://www.statstodo.com/Poisson_Exp.php\n",
    "\n",
    "Investopedia, 2019, viewed on the 2019/11/07, available at: https://www.investopedia.com/terms/b/binomialdistribution.asp\n",
    "\n",
    "Towards Data Science, 2018, viewed on the 2019/11/08, available at: https://towardsdatascience.com/fun-with-the-binomial-distribution-96a5ecabf65b\n",
    "\n",
    "Statistics How To, 2017, viewed on the 2019/11/08, available at: https://www.statisticshowto.datasciencecentral.com/random-seed-definition/\n",
    "\n",
    "Geeks for Geeks, 2016, viewed on the 2019/11/08, available at: https://www.geeksforgeeks.org/seeds-or-seed-roots-of-a-number/\n",
    "\n",
    "Stack Exchange, 2019, viewed on the 2019/11/08, available at: https://stats.stackexchange.com/questions/86285/random-number-set-seedn-in-r\n",
    "\n",
    "Stackoverflow, 2014, viewed on the 2019/11/08, available at: https://stackoverflow.com/questions/22639587/random-seed-what-does-it-do\n",
    "\n",
    "Stackoverflow, "
   ]
  },
  {
   "cell_type": "code",
   "execution_count": null,
   "metadata": {},
   "outputs": [],
   "source": []
  }
 ],
 "metadata": {
  "kernelspec": {
   "display_name": "Python 3",
   "language": "python",
   "name": "python3"
  },
  "language_info": {
   "codemirror_mode": {
    "name": "ipython",
    "version": 3
   },
   "file_extension": ".py",
   "mimetype": "text/x-python",
   "name": "python",
   "nbconvert_exporter": "python",
   "pygments_lexer": "ipython3",
   "version": "3.7.1"
  }
 },
 "nbformat": 4,
 "nbformat_minor": 2
}
