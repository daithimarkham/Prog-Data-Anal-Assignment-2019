{
 "cells": [
  {
   "cell_type": "markdown",
   "metadata": {},
   "source": [
    "# Numpy.Random Package.\n",
    "![title](NumpyImage.jpg) Source(APMonitor.com)"
   ]
  },
  {
   "cell_type": "markdown",
   "metadata": {},
   "source": [
    "## Numpy.Random package.\n",
    "Creates random numbers and arrays. Whenever you want to generate an array of random numbers you need to use numpy.random, which has multiple functions. These functions generate the random n-dimensional array/arrays for various distributions, size, mean, width, colour on histograms and plots, etc, which we will be discussing later below.\n",
    "\n",
    "### How to the Numpy Ramdom module. \n",
    "- The random package has many functions to help generate numberous different types of numbers. We will see below how to use these functions. \n",
    "- You will need to import the numpy package below. (import numpy as np)\n",
    "\n"
   ]
  },
  {
   "cell_type": "markdown",
   "metadata": {},
   "source": [
    "## Simple Random Data."
   ]
  },
  {
   "cell_type": "markdown",
   "metadata": {},
   "source": [
    "There are many ways to generate random numbers. Numpy.random creates random values in a given shape, returns a sample/samples, from the standard normal distribution. It returns random integers from low to high. Below, we can look at some.\n",
    "\n",
    "#### Code below, adapted from SciPy.org, Stackoverflow and Py.Native."
   ]
  },
  {
   "cell_type": "code",
   "execution_count": 1,
   "metadata": {},
   "outputs": [],
   "source": [
    "# Import Numpy Package\n",
    "import numpy as np"
   ]
  },
  {
   "cell_type": "markdown",
   "metadata": {},
   "source": [
    "#### np.random.normal"
   ]
  },
  {
   "cell_type": "code",
   "execution_count": 39,
   "metadata": {},
   "outputs": [
    {
     "name": "stdout",
     "output_type": "stream",
     "text": [
      "Generating random number using random.normal()\n"
     ]
    },
    {
     "data": {
      "text/plain": [
       "-0.5843693963228818"
      ]
     },
     "execution_count": 39,
     "metadata": {},
     "output_type": "execute_result"
    }
   ],
   "source": [
    "# Generates a random number from the normal distribution.\n",
    "print(\"Generating random number using random.normal()\")\n",
    "np.random.normal()"
   ]
  },
  {
   "cell_type": "code",
   "execution_count": 38,
   "metadata": {},
   "outputs": [
    {
     "data": {
      "text/plain": [
       "array([ 0.61236794,  0.24183354, -0.45018707, -2.38876116])"
      ]
     },
     "execution_count": 38,
     "metadata": {},
     "output_type": "execute_result"
    }
   ],
   "source": [
    "# Generates 4 random numbers from the normal distribution.\n",
    "np.random.normal(size=4)"
   ]
  },
  {
   "cell_type": "markdown",
   "metadata": {},
   "source": [
    "#### np.random.rand\n",
    "- Numpy creates arrays. Random numbers in this case between 0 and 1.\n",
    "- Contains arrays, floating numbers."
   ]
  },
  {
   "cell_type": "code",
   "execution_count": 3,
   "metadata": {},
   "outputs": [
    {
     "data": {
      "text/plain": [
       "array([[0.00881716, 0.6149274 ],\n",
       "       [0.59198054, 0.24612862],\n",
       "       [0.62921596, 0.97431964],\n",
       "       [0.5522492 , 0.57231836]])"
      ]
     },
     "execution_count": 3,
     "metadata": {},
     "output_type": "execute_result"
    }
   ],
   "source": [
    "# Contains arrays, floating numbers.\n",
    "np.random.rand(4,2)"
   ]
  },
  {
   "cell_type": "markdown",
   "metadata": {},
   "source": [
    "- Get an array with 9 elements in it."
   ]
  },
  {
   "cell_type": "code",
   "execution_count": 4,
   "metadata": {},
   "outputs": [
    {
     "data": {
      "text/plain": [
       "array([0.432631  , 0.52241773, 0.88893401, 0.62811713, 0.75952909,\n",
       "       0.08603453, 0.90128921, 0.08197264, 0.36013005])"
      ]
     },
     "execution_count": 4,
     "metadata": {},
     "output_type": "execute_result"
    }
   ],
   "source": [
    "# Displays 9 elements.\n",
    "np.random.rand(9)"
   ]
  },
  {
   "cell_type": "markdown",
   "metadata": {},
   "source": [
    "- Displays two arrays, four rows and thee columns."
   ]
  },
  {
   "cell_type": "code",
   "execution_count": 5,
   "metadata": {},
   "outputs": [
    {
     "data": {
      "text/plain": [
       "array([[[0.81628798, 0.94359923, 0.67874759],\n",
       "        [0.15488492, 0.91576232, 0.33937788],\n",
       "        [0.76615422, 0.68656331, 0.28552059],\n",
       "        [0.51944642, 0.49120328, 0.08215755]],\n",
       "\n",
       "       [[0.18147368, 0.28001489, 0.53473919],\n",
       "        [0.29796982, 0.4384313 , 0.64644544],\n",
       "        [0.56130729, 0.92757354, 0.92200076],\n",
       "        [0.66311916, 0.03486326, 0.88761894]]])"
      ]
     },
     "execution_count": 5,
     "metadata": {},
     "output_type": "execute_result"
    }
   ],
   "source": [
    "# Generates random data, and ouputs in arrays, rows and columns.\n",
    "np.random.rand(2,4,3)"
   ]
  },
  {
   "cell_type": "code",
   "execution_count": 33,
   "metadata": {},
   "outputs": [
    {
     "name": "stdout",
     "output_type": "stream",
     "text": [
      "1D random values array : \n",
      " [0.28772765 0.46686427 0.3333057  0.43410519 0.72587095 0.78830363\n",
      " 0.3077275  0.50467635 0.82437332 0.20657889 0.91410717 0.31291774\n",
      " 0.35511408 0.96666203 0.17526909]\n"
     ]
    }
   ],
   "source": [
    "array = np.random.rand(15) # Prints an array with 15 random values from 0 to 1.\n",
    "print(\"1D random values array : \\n\", array);"
   ]
  },
  {
   "cell_type": "markdown",
   "metadata": {},
   "source": [
    "To display the numbers on a histogram."
   ]
  },
  {
   "cell_type": "code",
   "execution_count": 6,
   "metadata": {},
   "outputs": [],
   "source": [
    "x = np.random.rand(1000)"
   ]
  },
  {
   "cell_type": "code",
   "execution_count": 7,
   "metadata": {},
   "outputs": [
    {
     "data": {
      "text/plain": [
       "<function matplotlib.pyplot.show(*args, **kw)>"
      ]
     },
     "execution_count": 7,
     "metadata": {},
     "output_type": "execute_result"
    },
    {
     "data": {
      "image/png": "[encoded data removed]",
      "text/plain": [
       "<Figure size 432x288 with 1 Axes>"
      ]
     },
     "metadata": {
      "needs_background": "light"
     },
     "output_type": "display_data"
    }
   ],
   "source": [
    "# Histogram shows the most typical values out of 1000 and displays in a bar chart.\n",
    "%matplotlib inline\n",
    "import matplotlib.pyplot as plt\n",
    "plt.hist(x)\n",
    "plt.show # this will display if the above command does not display. \n",
    "# If the above is not displaying type in %matplotlib inline"
   ]
  },
  {
   "cell_type": "markdown",
   "metadata": {},
   "source": [
    "#### Np.random.randint\n",
    "- Random integer values can be generated with the randint() function. \n",
    "- Takes in two arguments, the start and the end of the range."
   ]
  },
  {
   "cell_type": "code",
   "execution_count": 43,
   "metadata": {},
   "outputs": [
    {
     "data": {
      "text/plain": [
       "array([1, 1, 1, 0, 1, 1, 1, 1, 1, 0])"
      ]
     },
     "execution_count": 43,
     "metadata": {},
     "output_type": "execute_result"
    }
   ],
   "source": [
    "np.random.randint(2, size=10) # Function calls numbers bewteen 1 and 2, and size is 10."
   ]
  },
  {
   "cell_type": "code",
   "execution_count": 40,
   "metadata": {},
   "outputs": [
    {
     "data": {
      "text/plain": [
       "array([82, 75, 12, 88])"
      ]
     },
     "execution_count": 40,
     "metadata": {},
     "output_type": "execute_result"
    }
   ],
   "source": [
    "# Generates four random integers.\n",
    "np.random.randint(low=1, high=100, size=4) # Function calls random int from 1 to 100, returns four values."
   ]
  },
  {
   "cell_type": "code",
   "execution_count": 45,
   "metadata": {},
   "outputs": [
    {
     "data": {
      "text/plain": [
       "array([[2, 0, 0, 3],\n",
       "       [1, 4, 3, 1]])"
      ]
     },
     "execution_count": 45,
     "metadata": {},
     "output_type": "execute_result"
    }
   ],
   "source": [
    "# Returns, two arrays, with four integers, numbers bewteen 0 and 5.\n",
    "np.random.randint(5, size=(2, 4))"
   ]
  },
  {
   "cell_type": "markdown",
   "metadata": {},
   "source": [
    "Random values are drawn from a <a href=\"https://docs.scipy.org/doc/numpy-1.15.0/reference/generated/numpy.random.uniform.html#numpy.random.uniform\" target=\"_blank\">uniform distribution</a>\n",
    "\n",
    "- Samples are uniformly distributed over the half-open interval [low, high) (includes low, but excludes high). In other words, any value within the given interval is equally likely to be drawn by uniform. (Machinemastery, 2019)\n",
    "\n",
    "The example below generates 10 random integer values between 0 and 10."
   ]
  },
  {
   "cell_type": "code",
   "execution_count": 52,
   "metadata": {},
   "outputs": [
    {
     "name": "stdout",
     "output_type": "stream",
     "text": [
      "2\n",
      "9\n",
      "1\n",
      "4\n",
      "1\n",
      "7\n",
      "7\n",
      "7\n",
      "10\n",
      "6\n"
     ]
    }
   ],
   "source": [
    "# generate random integer values\n",
    "# Code adapted from Machinemastery.com\n",
    "from random import seed\n",
    "from random import randint\n",
    "# seed random number generator\n",
    "seed(1)\n",
    "# generate some integers\n",
    "for _ in range(10):\n",
    "    value = randint(0, 10)\n",
    "    print(value)"
   ]
  },
  {
   "cell_type": "markdown",
   "metadata": {},
   "source": [
    "#### Numpy.random.choice\n",
    "-  Generates a random sample from a given 1-D array\n"
   ]
  },
  {
   "cell_type": "code",
   "execution_count": 8,
   "metadata": {},
   "outputs": [
    {
     "data": {
      "text/plain": [
       "array([1, 4, 0])"
      ]
     },
     "execution_count": 8,
     "metadata": {},
     "output_type": "execute_result"
    }
   ],
   "source": [
    "# Generate a uniform random sample from np.arange(5) of size 3:\n",
    "np.random.choice(5, 3)"
   ]
  },
  {
   "cell_type": "markdown",
   "metadata": {},
   "source": [
    "#### Numpy.random.ranf\n",
    "-Return random floats in the half-open interval [0.0, 1.0)."
   ]
  },
  {
   "cell_type": "code",
   "execution_count": 9,
   "metadata": {
    "scrolled": true
   },
   "outputs": [
    {
     "data": {
      "text/plain": [
       "0.19326385308784377"
      ]
     },
     "execution_count": 9,
     "metadata": {},
     "output_type": "execute_result"
    }
   ],
   "source": [
    "# numpy.random.ranf\n",
    "np.random.random_sample()"
   ]
  },
  {
   "cell_type": "markdown",
   "metadata": {},
   "source": [
    "- Displays what type of an integer it is."
   ]
  },
  {
   "cell_type": "code",
   "execution_count": 10,
   "metadata": {},
   "outputs": [
    {
     "data": {
      "text/plain": [
       "float"
      ]
     },
     "execution_count": 10,
     "metadata": {},
     "output_type": "execute_result"
    }
   ],
   "source": [
    "# Type of number\n",
    "type(np.random.random_sample())"
   ]
  },
  {
   "cell_type": "markdown",
   "metadata": {},
   "source": [
    "- Displays five random numbers."
   ]
  },
  {
   "cell_type": "code",
   "execution_count": 11,
   "metadata": {},
   "outputs": [
    {
     "data": {
      "text/plain": [
       "array([0.01154951, 0.60739675, 0.78711965, 0.73569852, 0.38820595])"
      ]
     },
     "execution_count": 11,
     "metadata": {},
     "output_type": "execute_result"
    }
   ],
   "source": [
    "# Number of random numbers.\n",
    "np.random.random_sample((5,))"
   ]
  },
  {
   "cell_type": "markdown",
   "metadata": {},
   "source": [
    "- Three-by-two array of random numbers from [-5, 0)"
   ]
  },
  {
   "cell_type": "code",
   "execution_count": 12,
   "metadata": {
    "scrolled": true
   },
   "outputs": [
    {
     "data": {
      "text/plain": [
       "array([[-4.38797442, -2.992975  ],\n",
       "       [-1.44688455, -3.41663838],\n",
       "       [-1.42747147, -0.61755556]])"
      ]
     },
     "execution_count": 12,
     "metadata": {},
     "output_type": "execute_result"
    }
   ],
   "source": [
    "# Three rows, two columns, numbers between -5 and 0.\n",
    "5 * np.random.random_sample((3, 2)) - 5"
   ]
  },
  {
   "cell_type": "markdown",
   "metadata": {},
   "source": [
    "#### Numpy.random.bytes"
   ]
  },
  {
   "cell_type": "code",
   "execution_count": 13,
   "metadata": {},
   "outputs": [
    {
     "data": {
      "text/plain": [
       "b'!\\x93g\\x8e\\t7\\xf7\\x96\\xa6\\xff\\x86\\x17\\x88p<r\\x08\\xb0'"
      ]
     },
     "execution_count": 13,
     "metadata": {},
     "output_type": "execute_result"
    }
   ],
   "source": [
    "# Returns random bytes.\n",
    "np.random.bytes(18)"
   ]
  },
  {
   "cell_type": "code",
   "execution_count": 35,
   "metadata": {},
   "outputs": [
    {
     "name": "stdout",
     "output_type": "stream",
     "text": [
      "3D random values array : \n",
      " [[[0.40488891 0.60887146 0.57808477]\n",
      "  [0.0985946  0.47250707 0.78029542]\n",
      "  [0.51781561 0.50575409 0.08558189]]\n",
      "\n",
      " [[0.38184589 0.02217197 0.11143835]\n",
      "  [0.45634964 0.09005663 0.73354319]\n",
      "  [0.00255744 0.87943045 0.09892694]]\n",
      "\n",
      " [[0.08746339 0.14569975 0.80319491]\n",
      "  [0.74648524 0.94994925 0.88560527]\n",
      "  [0.55264506 0.03530483 0.42031431]]]\n"
     ]
    }
   ],
   "source": [
    "# Generating 3 dimentional array. \n",
    "array = np.random.rand(3,3,3) # Function for three arrays.\n",
    "print(\"3D random values array : \\n\", array);"
   ]
  },
  {
   "cell_type": "markdown",
   "metadata": {},
   "source": [
    "## Permutations \n",
    "- Next we will look at permutations shuffle and permutation , which is randomly permute a sequence, or return a permuted range.\n",
    "\n",
    "- Generally Numpy random.shuffle and random.permutation both shuffle elements in an array.\n",
    "\n"
   ]
  },
  {
   "cell_type": "markdown",
   "metadata": {},
   "source": [
    "#### Numpy.random.shuffle(x)\n",
    "- Random.shuffle function used to shuffle the sequence in place, it changes the position of items in a list.\n",
    "- Modify a sequence in-place by shuffling its contents."
   ]
  },
  {
   "cell_type": "code",
   "execution_count": 14,
   "metadata": {},
   "outputs": [
    {
     "data": {
      "text/plain": [
       "array([6, 1, 3, 5, 8, 7, 2, 0, 4, 9])"
      ]
     },
     "execution_count": 14,
     "metadata": {},
     "output_type": "execute_result"
    }
   ],
   "source": [
    "# Randomly shuffles the list.\n",
    "arr = np.arange(10)\n",
    "np.random.shuffle(arr)\n",
    "arr"
   ]
  },
  {
   "cell_type": "markdown",
   "metadata": {},
   "source": [
    "- If you want to shuffle as per your need, then you can pass your custom random function in the place of random argument, which will dictate shuffle function, and how it randomizes the items of a list. (Py.Native, 2019)\n",
    "- Can do the same with strings.\n"
   ]
  },
  {
   "cell_type": "code",
   "execution_count": 15,
   "metadata": {
    "scrolled": true
   },
   "outputs": [
    {
     "name": "stdout",
     "output_type": "stream",
     "text": [
      "List :  [5, 32, 21, 22, 56, 36, 34, 56, 6, 23]\n",
      "After first shuffle  :  [21, 5, 56, 56, 23, 36, 6, 32, 34, 22]\n",
      "After second shuffle :  [22, 56, 32, 21, 34, 5, 23, 56, 6, 36]\n"
     ]
    }
   ],
   "source": [
    "number_list = [5, 32, 21, 22, 56, 36, 34, 56, 6, 23]\n",
    "print (\"List : \",  number_list)\n",
    "\n",
    "np.random.shuffle(number_list)\n",
    "print (\"After first shuffle  : \",  number_list)\n",
    "\n",
    "np.random.shuffle(number_list)\n",
    "print (\"After second shuffle : \",  number_list)"
   ]
  },
  {
   "cell_type": "markdown",
   "metadata": {},
   "source": [
    "- Shuffle a list of strings."
   ]
  },
  {
   "cell_type": "code",
   "execution_count": 16,
   "metadata": {},
   "outputs": [
    {
     "name": "stdout",
     "output_type": "stream",
     "text": [
      "Original String list:  ['Let it rain', 'Chelsea Football Club', 'John is there', \"Don't do it\", 'He left to go shopping', 'The bus stop', 'Leave the ball']\n",
      "String List after the first shuffle:  ['The bus stop', 'He left to go shopping', \"Don't do it\", 'Chelsea Football Club', 'Leave the ball', 'John is there', 'Let it rain']\n",
      "String List after the second shuffle:  ['Let it rain', \"Don't do it\", 'John is there', 'Leave the ball', 'He left to go shopping', 'The bus stop', 'Chelsea Football Club']\n"
     ]
    }
   ],
   "source": [
    "string_list = [\"Let it rain\", \"Chelsea Football Club\", \"John is there\", \"Don't do it\", \"He left to go shopping\", \"The bus stop\", \"Leave the ball\"]\n",
    "print (\"Original String list: \",  string_list) # Create a list which we will use a function to shuffle below.\n",
    "\n",
    "\n",
    "np.random.shuffle(string_list) # Random function shuflles list, generates list in different order to original.\n",
    "print (\"String List after the first shuffle: \",  string_list)\n",
    "\n",
    "\n",
    "\n",
    "np.random.shuffle(string_list) # Same as above, random shuffles again, using the same function as above.\n",
    "print (\"String List after the second shuffle: \",  string_list)\n"
   ]
  },
  {
   "cell_type": "markdown",
   "metadata": {},
   "source": [
    "- Below we can shuffle a string."
   ]
  },
  {
   "cell_type": "code",
   "execution_count": 17,
   "metadata": {},
   "outputs": [
    {
     "name": "stdout",
     "output_type": "stream",
     "text": [
      "Original String:  chocolate\n",
      "shuffled String is:  oatelccoh\n"
     ]
    }
   ],
   "source": [
    "# Randomly shuffles a string\n",
    "string_one = \"chocolate\" # Setting variable \n",
    "print (\"Original String: \", string_one)# Prints output of original string.\n",
    "\n",
    "char_list = list(string_one) # Function for string we want to shuffle.\n",
    "\n",
    "\n",
    "np.random.shuffle(char_list) # Function for shuffling the string.\n",
    "\n",
    "string_one = ''.join(char_list)\n",
    "print (\"shuffled String is: \", string_one) # Prints shuffled string from original string."
   ]
  },
  {
   "cell_type": "markdown",
   "metadata": {},
   "source": [
    "#### Numpy.random.permutation(x) \n",
    "\n",
    "\n",
    "Randomly permute a sequence, or return a permuted range. If x is a multi-dimensional array, it is only shuffled along its first index. (Sci.py.org)\n",
    "\n",
    "- Generally, in Numpy, both random.permutation and random.shuffle randomly shuffle elements in an array. But there are differences:\n",
    "\n",
    "- If you want to generate random permutations of x, then what is the difference between shuffle(x) and permutation(x)?\n",
    "- np.random.permutation has two differences from np.random.shuffle:\n",
    "\n",
    "   - If passed an array, it will return a shuffled copy of the array; np.random.shuffle shuffles the array in place.\n",
    "   - If passed an integer, it will return a shuffled range i.e. np.random.shuffle(np.arange(n))\n",
    "- If x is an integer, randomly permute np.arange(x). If x is an array, make a copy and shuffle the elements randomly.\n",
    "- np.random.permutation is useful when you need to shuffle ordered pairs, especially for classification:\n",
    "\n",
    "(https://stackoverflow.com/questions/15474159/shuffle-vs-permute-numpy)"
   ]
  },
  {
   "cell_type": "code",
   "execution_count": 18,
   "metadata": {},
   "outputs": [
    {
     "data": {
      "text/plain": [
       "array([6, 9, 3, 4, 5, 1, 2, 7, 0, 8])"
      ]
     },
     "execution_count": 18,
     "metadata": {},
     "output_type": "execute_result"
    }
   ],
   "source": [
    "# Displays all the numbers from 0 to the number you enter.\n",
    "np.random.permutation(10)# Function which randomly returns a permuted range of numbers between 0 and 10."
   ]
  },
  {
   "cell_type": "code",
   "execution_count": 19,
   "metadata": {
    "scrolled": true
   },
   "outputs": [
    {
     "data": {
      "text/plain": [
       "array([ 4,  9, 12, 15,  1])"
      ]
     },
     "execution_count": 19,
     "metadata": {},
     "output_type": "execute_result"
    }
   ],
   "source": [
    "# Outputs the numbers you entered, randomly.\n",
    "np.random.permutation([1, 4, 9, 12, 15]) # Random permutation function, for returning numbers you enetered in any order."
   ]
  },
  {
   "cell_type": "code",
   "execution_count": 20,
   "metadata": {
    "scrolled": true
   },
   "outputs": [
    {
     "data": {
      "text/plain": [
       "array([[3, 4, 5],\n",
       "       [0, 1, 2],\n",
       "       [6, 7, 8]])"
      ]
     },
     "execution_count": 20,
     "metadata": {},
     "output_type": "execute_result"
    }
   ],
   "source": [
    "# Displays nums between 0 and 9 in three rows.\n",
    "arr = np.arange(9).reshape((3, 3))\n",
    "np.random.permutation(arr)"
   ]
  },
  {
   "cell_type": "markdown",
   "metadata": {},
   "source": [
    "## Distribution Functions"
   ]
  },
  {
   "cell_type": "markdown",
   "metadata": {},
   "source": [
    "Uniform Distribution\n",
    "In statistics, a type of probability distribution in which all outcomes are equally likely; each variable has the same probability that it will be the outcome. A deck of cards has within it uniform distributions because the likelihood of drawing a heart, a club, a diamond or a spade is equally likely. A coin also has a uniform distribution because the probability of getting either heads or tails in a coin toss is the same.\n",
    "\n",
    "The uniform distribution can be visualized as a straight horizontal line, so for a coin flip returning a head or tail, both have a probability p = 0.50 and would be depicted by a line from the y-axis at 0.50."
   ]
  },
  {
   "cell_type": "code",
   "execution_count": 21,
   "metadata": {
    "scrolled": true
   },
   "outputs": [
    {
     "data": {
      "text/plain": [
       "array([3.80356429, 2.8978593 , 4.13834216, 4.1734602 , 2.16341108,\n",
       "       4.18897936, 4.14765217, 4.9554981 , 2.23207103, 3.43194993])"
      ]
     },
     "execution_count": 21,
     "metadata": {},
     "output_type": "execute_result"
    }
   ],
   "source": [
    "# Get a 1000 numbers back.\n",
    "# Random,rand will only give you numbers between 0 and 1.\n",
    "# Random uniform will give you any numbers.\n",
    "np.random.uniform(2,5,10)"
   ]
  },
  {
   "cell_type": "code",
   "execution_count": 22,
   "metadata": {},
   "outputs": [],
   "source": [
    "# Pretty much does the same thing as the rand function which we looked at above.\n",
    "x = np.random.uniform(0,1000,10000)"
   ]
  },
  {
   "cell_type": "code",
   "execution_count": 23,
   "metadata": {
    "scrolled": true
   },
   "outputs": [
    {
     "data": {
      "text/plain": [
       "(array([ 955.,  968.,  978., 1005.,  990., 1003., 1009., 1020., 1017.,\n",
       "        1055.]),\n",
       " array([1.05146161e-02, 1.00002633e+02, 1.99994751e+02, 2.99986869e+02,\n",
       "        3.99978986e+02, 4.99971104e+02, 5.99963222e+02, 6.99955340e+02,\n",
       "        7.99947458e+02, 8.99939576e+02, 9.99931694e+02]),\n",
       " <a list of 10 Patch objects>)"
      ]
     },
     "execution_count": 23,
     "metadata": {},
     "output_type": "execute_result"
    },
    {
     "data": {
      "image/png": "[encoded data removed]",
      "text/plain": [
       "<Figure size 432x288 with 1 Axes>"
      ]
     },
     "metadata": {
      "needs_background": "light"
     },
     "output_type": "display_data"
    }
   ],
   "source": [
    "# Shows the numbers on a bar chart.\n",
    "plt.hist(x)"
   ]
  },
  {
   "cell_type": "markdown",
   "metadata": {},
   "source": [
    "### Numpy.Random.Normal.¶\n",
    "\n",
    "Draw random samples from a normal (Gaussian) distribution.\n",
    "\n",
    "\n",
    "The probability density function of the normal distribution, first derived by De Moivre and 200 years later by both Gauss and Laplace independently [R255], is often called the bell curve because of its characteristic shape (see the example below).\n",
    "\n",
    "\n",
    "The normal distributions occurs often in nature. For example, it describes the commonly occurring distribution of samples influenced by a large number of tiny, random disturbances, each with its own unique distribution\n",
    "\n",
    "\n",
    "Below the numbers with e-01 at the end of it, means multipy whatever came before the e by 10 to the minus 1 or divide by 10, e-02 means divide by 100 and so on.\n",
    "\n",
    "\n",
    "Can take more functions and see how they work if you like."
   ]
  },
  {
   "cell_type": "code",
   "execution_count": 24,
   "metadata": {},
   "outputs": [
    {
     "data": {
      "text/plain": [
       "array([-8.95135403e-02,  6.10437248e-03, -6.63068873e-02,  2.44871973e-02,\n",
       "        6.35221852e-02, -1.53520646e-01, -2.75545705e-02, -3.57575574e-02,\n",
       "        1.23381180e-01,  1.96100802e-01, -1.03602768e-02,  8.65874277e-03,\n",
       "        1.97480634e-02, -4.31872911e-02, -6.08292742e-02,  1.01077850e-03,\n",
       "        3.67186957e-02, -1.59118287e-01,  1.18380639e-01, -7.11061817e-03,\n",
       "        2.80128626e-01,  2.05041087e-01, -2.49376879e-05,  1.34327470e-02,\n",
       "       -3.82797846e-02, -1.63516955e-01, -3.25867143e-02,  7.48848340e-02,\n",
       "       -4.71653601e-02,  6.73760534e-03, -2.06727290e-01,  1.74748704e-02,\n",
       "       -8.29936567e-02, -6.11201151e-02, -1.52175052e-01, -1.59566803e-01,\n",
       "       -1.35888852e-01, -5.39556060e-02, -3.43831433e-02, -1.60486375e-02,\n",
       "       -1.18535143e-01, -2.53263103e-01, -2.93970463e-02, -1.37223431e-02,\n",
       "        2.34528885e-03,  2.83779827e-02,  6.75029844e-02,  3.09931891e-01,\n",
       "       -1.88480150e-01,  4.34054468e-02, -3.67255589e-02,  1.37744643e-01,\n",
       "       -1.22273295e-01,  1.24370403e-01, -3.54380495e-02,  2.22755156e-01,\n",
       "        6.96853411e-02, -1.81626246e-04, -6.37158002e-02, -1.51571050e-01,\n",
       "       -1.23377793e-01, -5.79594296e-02,  5.03333080e-02,  2.05818026e-01,\n",
       "        4.84310268e-02,  6.29369639e-02,  2.93029342e-02, -6.05574691e-03,\n",
       "        1.91768100e-03, -1.06492532e-01,  9.45093702e-03, -4.10167978e-02,\n",
       "       -1.54386220e-01,  2.57718984e-02, -1.90954459e-01, -7.70668129e-02,\n",
       "       -1.11515293e-01,  2.00154265e-01,  7.64830770e-02,  1.89102494e-01,\n",
       "       -9.17387503e-02, -3.46399991e-02,  7.41790617e-02, -1.59754885e-02,\n",
       "        3.60649974e-02,  5.37155625e-02,  2.57600200e-02, -1.20195090e-01,\n",
       "       -8.12853743e-02, -1.57646752e-01, -1.70557043e-02,  8.06542868e-03,\n",
       "        5.19802293e-02,  1.82332486e-01,  5.12463921e-02,  1.94299834e-02,\n",
       "       -2.15505684e-01, -1.50546338e-01,  1.28399963e-01,  1.59349774e-02,\n",
       "       -8.05092576e-02,  1.11518466e-01, -1.85127520e-01, -1.31338362e-01,\n",
       "        1.93485692e-01,  5.49654583e-02,  8.47813789e-02, -1.02847287e-01,\n",
       "        1.74366249e-02, -2.15269215e-02, -2.05894059e-01,  6.49698430e-02,\n",
       "       -5.18662800e-02,  1.27120755e-01, -5.25896134e-02, -5.77813581e-03,\n",
       "        1.20072455e-01, -5.03113509e-02, -1.68550451e-02,  1.10319825e-01,\n",
       "        9.61358270e-02, -2.24727793e-01,  1.62213232e-01,  7.15389664e-02,\n",
       "        3.14295966e-02,  9.25678344e-02,  1.75326042e-01,  2.46650300e-02,\n",
       "       -2.73683424e-02,  6.88707542e-02,  1.47796554e-01, -5.30193858e-02,\n",
       "        1.23321119e-01,  9.07243868e-02,  2.80394442e-02,  2.65186025e-02,\n",
       "       -1.63784074e-01, -1.18451081e-01, -2.67645802e-03, -5.07607269e-02,\n",
       "       -6.63188348e-02,  1.29099095e-02,  1.19249418e-01, -2.32301995e-01,\n",
       "       -3.53052898e-02, -5.43279130e-02, -8.84856110e-02,  4.73005131e-02,\n",
       "        6.71856073e-02, -5.25368429e-02,  5.15232880e-02, -6.80816688e-02,\n",
       "       -1.51947858e-01, -6.74887621e-02,  9.23207114e-02,  4.48427418e-02,\n",
       "        1.20173622e-02, -1.30737668e-01,  8.58361329e-02,  9.81955876e-03,\n",
       "        1.24426341e-02, -4.95994669e-02,  7.11955589e-02, -1.12301116e-01,\n",
       "        1.25783062e-02, -1.13138938e-01, -1.29036365e-01,  1.64046737e-02,\n",
       "        4.30836250e-04, -1.19141266e-01, -8.55196413e-02, -1.23280875e-01,\n",
       "       -3.75033302e-02,  1.35242389e-01,  5.06850033e-02,  9.90157332e-02,\n",
       "        1.06394780e-01,  8.92124864e-02, -6.68301244e-02,  1.79668020e-01,\n",
       "        2.67124624e-02, -7.81890673e-02, -4.96742579e-02,  1.81159260e-01,\n",
       "       -2.13944703e-02,  1.69164924e-01,  6.00815391e-02,  1.34001421e-02,\n",
       "       -1.05891901e-01,  3.80092424e-02,  3.47233717e-03, -1.49002441e-01,\n",
       "        1.01974309e-01,  1.01265356e-01,  8.47007903e-02, -1.43064114e-01,\n",
       "        3.91903343e-02,  2.97771695e-02, -9.79513850e-02,  1.01735199e-01,\n",
       "       -7.36065795e-02,  1.76016130e-01,  1.33971973e-02, -3.28924966e-02,\n",
       "        2.35948563e-01,  3.81750424e-03,  1.39941184e-01, -3.87688882e-02,\n",
       "        7.83505903e-03,  1.90452202e-01,  3.56487173e-02, -1.38550816e-01,\n",
       "       -4.38053948e-02, -6.12436584e-02,  1.45698381e-01, -1.80770009e-01,\n",
       "       -3.89659661e-03, -6.55882757e-02, -1.78360708e-01, -5.33868655e-02,\n",
       "        1.62766218e-01,  4.24942581e-03, -6.49597151e-02, -1.61284517e-01,\n",
       "       -1.04582734e-01, -7.62797812e-02,  1.46336181e-01,  8.68348979e-02,\n",
       "        4.03177898e-03,  6.42459196e-02,  7.30287845e-02, -9.48822955e-03,\n",
       "        3.64000041e-03, -2.23558579e-01,  2.93671389e-02, -9.00686107e-02,\n",
       "       -2.71164512e-01,  2.02423706e-01, -4.69281741e-02, -8.83996680e-02,\n",
       "       -9.11078112e-02, -2.17775519e-02,  1.58645343e-01,  6.51903683e-02,\n",
       "       -7.12618572e-02, -1.81071091e-02, -1.25572151e-01, -3.78168693e-02,\n",
       "       -5.63678422e-02,  2.04001845e-01,  6.93728122e-03, -1.12250985e-01,\n",
       "        1.58257864e-01, -5.52049573e-02,  5.92457395e-02,  8.71313150e-03,\n",
       "       -2.14219646e-02, -6.02378409e-02,  4.90170229e-02,  1.02442905e-01,\n",
       "        6.09334848e-02, -8.95655747e-02, -5.03392156e-02, -1.37286635e-01,\n",
       "        1.69197858e-01, -2.42171811e-02,  1.51405175e-02, -1.98615169e-01,\n",
       "        9.85891260e-02, -5.06153664e-02, -3.57805191e-02,  1.28895614e-01,\n",
       "        1.02700280e-01,  1.06201361e-01,  6.18440820e-02,  1.18055380e-02,\n",
       "        1.26800180e-01, -6.55499824e-02, -5.22767819e-03, -4.72823840e-02,\n",
       "       -2.04717515e-03,  8.87651472e-02, -1.12146603e-01, -7.47315258e-02,\n",
       "       -6.09605652e-02, -2.42356117e-02,  2.86987783e-02,  4.19717933e-02,\n",
       "        2.47665372e-03,  6.80652095e-02,  1.00616128e-01, -3.93872637e-02,\n",
       "       -9.35192309e-03, -2.41103313e-02, -1.61725230e-01, -3.85699522e-03,\n",
       "       -7.63642033e-02,  4.13172349e-02, -1.31461682e-01, -7.35750502e-03,\n",
       "       -1.90057803e-01, -1.13234691e-01, -4.59546235e-02, -2.07283858e-02,\n",
       "        3.43227061e-02, -3.22523025e-02,  4.43709945e-02, -1.34849812e-01,\n",
       "       -3.87884088e-02,  2.03982636e-02,  1.11811091e-02, -2.10768479e-01,\n",
       "       -1.22799445e-01, -4.09889107e-02,  3.30144361e-02, -1.02424458e-01,\n",
       "        3.39131694e-02, -1.07754410e-02, -9.33057880e-02,  6.03584723e-02,\n",
       "        1.50054528e-01,  9.23726500e-02,  5.07780918e-02, -3.19776324e-02,\n",
       "       -8.96431431e-03, -2.10062799e-02,  2.01835064e-01,  1.39023507e-01,\n",
       "       -2.00418178e-01,  1.78078957e-02,  1.05381254e-01,  1.12737921e-01,\n",
       "        1.08467503e-01, -1.94041887e-01, -1.42489781e-02, -8.23037282e-02,\n",
       "        4.92065405e-02,  1.00378938e-01,  3.59607373e-02, -1.59896188e-01,\n",
       "       -2.14692668e-02,  9.40252402e-02,  6.05715615e-02, -6.08658301e-02,\n",
       "        6.38888341e-03, -1.13136019e-01,  1.14971626e-01,  1.36292429e-01,\n",
       "       -1.45469314e-01, -5.39506237e-02,  2.65561930e-02,  8.06149941e-02,\n",
       "        1.13850088e-01,  6.21024664e-02, -3.87699507e-02, -1.23028525e-01,\n",
       "        8.29171989e-02,  6.57781538e-02, -7.01517843e-02,  5.64059196e-02,\n",
       "        7.25341172e-02,  5.49171024e-02, -9.08443730e-02,  9.95281256e-03,\n",
       "        6.74921046e-02, -1.15225182e-01, -1.49993814e-01, -4.88512378e-02,\n",
       "       -5.66064403e-02,  9.37033388e-02, -1.52501279e-01,  1.04490707e-01,\n",
       "        2.85758138e-03, -7.67465811e-02, -4.06338248e-02,  1.46984772e-01,\n",
       "        1.52948669e-02, -1.26682845e-02,  3.51669576e-02,  7.78460662e-02,\n",
       "        1.24184977e-02, -1.42052170e-02,  1.53633910e-01,  1.73323818e-01,\n",
       "        1.34926574e-01, -2.93764432e-02, -1.12449964e-02,  4.11156410e-02,\n",
       "        2.49792915e-02, -5.69759622e-02, -2.03595008e-03, -9.67704824e-02,\n",
       "        1.39353725e-01,  1.82423806e-02, -1.57930582e-01,  1.14427681e-01,\n",
       "        9.22638583e-02,  5.19486984e-02,  4.81700667e-02,  1.18879726e-01,\n",
       "        1.08942566e-01, -1.08165557e-01, -7.46490647e-02,  1.32662106e-01,\n",
       "        4.67003891e-02, -7.25514688e-02, -6.80310489e-02, -1.43657107e-01,\n",
       "        8.87033159e-02, -4.06590246e-02, -2.82433653e-01, -8.06783467e-02,\n",
       "       -7.60207240e-02, -9.72635304e-02,  4.64630987e-02, -8.03168073e-02,\n",
       "        1.48370522e-01,  2.47928176e-03,  3.65826639e-03,  1.40750880e-01,\n",
       "        8.48344076e-03,  9.02464100e-02, -6.92292293e-02, -1.37959287e-02,\n",
       "       -6.15376715e-02,  6.11268803e-02, -1.28670992e-01, -8.98910889e-02,\n",
       "       -7.86605663e-02, -2.13484377e-01,  6.21050858e-02,  4.66688010e-02,\n",
       "       -3.10201681e-02,  2.10342994e-01,  5.82031231e-02, -8.60724792e-02,\n",
       "       -1.54252877e-02, -8.69503779e-02,  2.99212815e-02, -3.54618662e-02,\n",
       "       -5.27316755e-02, -3.98981673e-03, -7.16977977e-02,  8.92204704e-02,\n",
       "        2.14842925e-01,  6.21013701e-03, -2.02332470e-02, -1.48079819e-01,\n",
       "        1.08981427e-01,  1.93963604e-01, -1.06700156e-02, -1.25714725e-01,\n",
       "       -7.85490441e-02, -2.54524626e-02,  1.19213237e-01,  2.48925094e-02,\n",
       "        1.99858672e-01,  2.86244000e-02,  8.52966577e-02,  7.35463493e-02,\n",
       "        1.78811145e-01, -1.10802629e-01, -1.47908544e-02, -3.37233083e-02,\n",
       "        1.03133054e-01,  6.50940777e-04,  5.05752795e-02, -1.65210004e-01,\n",
       "        4.46861650e-02, -8.84204651e-02,  2.67029445e-01,  3.60507181e-02,\n",
       "       -3.25932091e-02, -5.84417781e-02, -8.43561207e-02, -1.44858416e-01,\n",
       "       -5.35759090e-02, -7.69716996e-02, -2.45923780e-01, -8.31149031e-02,\n",
       "       -1.06345101e-02,  9.60540623e-02, -1.83680825e-01,  1.89001316e-02,\n",
       "       -1.75447640e-02, -1.67878838e-01,  3.94301473e-02,  7.26454669e-02,\n",
       "       -7.58221397e-02, -6.18649181e-02,  1.51993939e-01, -1.73725548e-02,\n",
       "        1.37044379e-01, -6.13524403e-02, -2.36681198e-02, -6.54417181e-02,\n",
       "        7.72243290e-02,  1.61795797e-02,  1.73423064e-01,  7.91947695e-03,\n",
       "       -3.37121510e-02,  8.17211306e-02, -8.49870842e-02,  6.69857809e-03,\n",
       "       -1.04252900e-01,  6.74680577e-02, -1.46692861e-01,  6.07734432e-02,\n",
       "       -9.41162182e-04,  7.18993012e-02,  1.47266344e-01, -8.55567469e-03,\n",
       "        1.42723226e-01,  5.23169373e-02,  1.11939987e-01,  2.40641438e-01,\n",
       "       -2.88115206e-02, -1.44902407e-01,  9.07653172e-02, -2.01436546e-01,\n",
       "        7.16540941e-02,  3.41335951e-02,  9.86301788e-02, -5.11584826e-02,\n",
       "        1.88507488e-02,  9.06099266e-02,  2.69983029e-02, -3.30772109e-02,\n",
       "       -5.95338874e-02, -1.78149781e-02, -9.89251525e-02,  8.04737764e-02,\n",
       "        3.35305645e-02, -8.28152943e-02, -2.42790619e-02, -4.95573253e-02,\n",
       "        9.17009952e-02,  8.48088396e-02, -6.44994759e-04,  1.84326985e-02,\n",
       "       -1.04277543e-01,  1.86191445e-02,  7.13818672e-02, -1.06609132e-01,\n",
       "       -1.11401269e-01,  2.48113700e-01, -2.33806760e-04,  2.16050775e-01,\n",
       "        5.01891454e-02, -6.27461262e-02,  2.09375794e-03, -4.25861528e-02,\n",
       "       -1.42754232e-01,  2.89114264e-02, -9.48785933e-02,  1.29341658e-01,\n",
       "        5.56977293e-02,  6.66435701e-02, -1.30893282e-01, -2.42512640e-01,\n",
       "        2.34121186e-01,  5.38690314e-02, -1.55669043e-02,  3.14648964e-02,\n",
       "       -2.96555354e-02, -3.20575804e-02,  3.19736193e-02, -4.15570898e-02,\n",
       "       -9.65022333e-02,  1.14649391e-01, -6.24523036e-02,  4.39355744e-02,\n",
       "        6.16821182e-02, -1.15779515e-02, -4.23358671e-03, -1.04022751e-01,\n",
       "        4.53233363e-02, -2.94973674e-02, -1.97752145e-01, -1.50064335e-01,\n",
       "       -9.52289943e-02, -4.96254678e-02,  2.42426828e-02, -5.47135039e-02,\n",
       "        3.14231432e-02,  9.14459984e-02,  1.69105738e-01, -2.26411724e-01,\n",
       "       -1.11192318e-01,  6.45293670e-02, -6.60336985e-02, -9.71194311e-02,\n",
       "        6.30625231e-02,  1.20798970e-01,  1.59354209e-02,  3.73451924e-02,\n",
       "        5.42644479e-02,  8.03878644e-02, -1.28661625e-01,  1.81241761e-02,\n",
       "        4.00479408e-02, -1.35787018e-01, -4.40288789e-02,  1.72806437e-01,\n",
       "       -6.25433639e-02, -6.20283643e-02, -1.58542663e-01, -6.07388753e-02,\n",
       "        3.55663833e-02,  4.72644438e-02,  5.38354889e-02,  4.55472723e-02,\n",
       "       -2.00480140e-01,  1.00042173e-01, -1.68844954e-01, -6.37067795e-03,\n",
       "       -7.87154380e-02,  3.33826567e-02, -1.09660253e-01, -1.05167873e-02,\n",
       "       -9.91349690e-02,  8.30290570e-02, -1.06080079e-01,  1.61589875e-01,\n",
       "        6.03419725e-02,  8.97602598e-02,  7.46909566e-02,  1.99417226e-01,\n",
       "        1.61272351e-01, -1.88632487e-01, -8.94333985e-02, -1.93357962e-01,\n",
       "       -1.04863556e-01,  4.85522667e-02,  8.63687325e-02, -1.01343190e-01,\n",
       "        4.63873412e-02, -2.10391014e-01, -5.74938080e-03, -1.00283532e-01,\n",
       "       -1.35958595e-02, -1.01532973e-01, -2.64806923e-02, -6.92200985e-02,\n",
       "       -3.28792488e-02, -6.11419741e-02,  2.70834674e-01, -5.02006190e-02,\n",
       "        7.30765211e-02,  6.12240708e-03, -3.23690907e-02,  7.21944777e-02,\n",
       "       -8.98165955e-02,  1.14545406e-01,  2.63221931e-01, -9.32863069e-02,\n",
       "       -1.84246129e-02,  1.41916828e-02, -8.60433106e-02,  6.78975632e-03,\n",
       "        4.14514051e-02,  4.56183154e-02, -3.21089787e-02, -5.15531786e-02,\n",
       "        2.84828226e-02, -1.77269465e-02,  3.03690184e-02, -5.55481300e-02,\n",
       "       -4.80690777e-02, -1.15366113e-01, -3.43908608e-02,  1.12654300e-03,\n",
       "       -2.30936013e-02,  1.88930668e-01, -1.90487567e-01,  5.74324197e-02,\n",
       "       -1.05941347e-01, -2.43094953e-01, -1.20231320e-01,  1.43410565e-01,\n",
       "       -3.51165188e-02,  1.37068264e-01,  1.76095084e-01, -3.75316024e-02,\n",
       "        1.00088852e-01, -1.95789167e-01, -6.02611710e-02,  2.13810314e-01,\n",
       "       -2.26357186e-01,  1.90569200e-01, -8.13303944e-02, -2.06511952e-02,\n",
       "        4.94749027e-02, -1.46244920e-01, -4.64499750e-02,  1.18367052e-01,\n",
       "       -3.13827740e-01,  2.01253593e-02,  1.12821691e-04, -4.00715632e-02,\n",
       "       -8.52736375e-02,  6.84111900e-02, -2.66267008e-02, -9.43946207e-02,\n",
       "       -1.12431103e-01, -1.48670026e-01,  1.14348821e-01,  5.08637812e-02,\n",
       "        7.78941180e-02,  1.08371732e-02, -5.91588168e-02, -3.87727721e-02,\n",
       "       -3.12615018e-02,  6.95731777e-02, -5.69505806e-02, -1.41179633e-01,\n",
       "       -9.02089938e-02,  9.06125022e-02,  6.23455675e-02, -2.66821314e-01,\n",
       "       -1.94313714e-01, -2.12583402e-01, -3.13454462e-02,  8.87269345e-02,\n",
       "        1.60962103e-03,  2.29684946e-01,  1.27633111e-02, -6.25180468e-02,\n",
       "        9.24693312e-02, -1.52877018e-01, -7.94790426e-02,  1.84348290e-01,\n",
       "       -6.13072877e-02, -8.95251056e-02,  1.40023139e-01, -4.64663220e-02,\n",
       "       -1.14245289e-02,  2.72040367e-02,  7.89151815e-02, -1.71023832e-02,\n",
       "        2.67754670e-02,  6.65001887e-02,  4.44260856e-02, -6.51875040e-02,\n",
       "       -1.12692757e-01,  3.95215085e-02, -1.54631500e-02,  7.53325797e-02,\n",
       "       -1.54320383e-01,  1.70050481e-02, -1.36235106e-02, -4.30901115e-02,\n",
       "       -5.62606007e-02,  1.85824765e-01, -5.30550020e-02, -2.35362688e-01,\n",
       "       -9.82156958e-02,  5.07777155e-02,  8.14489292e-02,  6.51239107e-02,\n",
       "        6.19773488e-02,  7.88316737e-02,  1.02567604e-01, -9.92607548e-03,\n",
       "        5.05851747e-02,  1.98334618e-01, -7.06099597e-02,  3.24964882e-02,\n",
       "        4.06507659e-02, -1.11404404e-01,  4.66858306e-02, -1.68887186e-01,\n",
       "       -1.48522971e-01,  8.71914988e-02, -7.95784980e-02,  6.08359103e-02,\n",
       "        9.36209164e-02,  6.76136543e-02,  3.38211460e-02,  9.58494861e-02,\n",
       "        3.97207492e-02,  7.46031139e-02,  9.50227927e-02, -1.19159656e-01,\n",
       "        1.86868237e-01, -2.64905550e-02,  1.17412383e-01, -5.17794904e-02,\n",
       "       -6.54109701e-02,  1.10619241e-01,  1.19568136e-02, -1.16443959e-01,\n",
       "        9.75376573e-03, -5.06159057e-02,  1.84834257e-01, -1.17263704e-01,\n",
       "        1.73448190e-01,  8.77358663e-02,  8.92908240e-02, -9.88661623e-02,\n",
       "        5.70610617e-02,  5.51184977e-02,  1.48127003e-01,  6.16852485e-03,\n",
       "       -1.69851875e-01, -4.17405239e-02,  1.67451128e-01,  3.90117657e-02,\n",
       "        9.06579101e-02,  8.94693695e-02,  4.98681011e-02,  1.46727425e-02,\n",
       "       -3.25619518e-02, -3.40324690e-02, -1.39987262e-01,  4.24958993e-02,\n",
       "        3.76359951e-02,  1.22116686e-02,  4.96729149e-02,  5.60087486e-02,\n",
       "       -2.25266173e-02, -5.17404529e-02,  1.24808481e-01,  9.97421773e-02,\n",
       "        4.57047008e-02,  7.95282923e-02, -9.66912727e-02, -1.07149434e-02,\n",
       "       -1.46539136e-01, -1.60935428e-02, -6.10434765e-02, -3.57349101e-02,\n",
       "        2.54516011e-02, -2.10898686e-02,  1.03889460e-01, -1.89029153e-01,\n",
       "       -1.86320583e-01, -9.01289774e-02,  2.58755235e-02,  5.06553472e-02,\n",
       "        7.67559696e-02, -1.98320589e-02, -4.79638775e-02, -1.00912215e-02,\n",
       "       -1.06916274e-01, -6.44804983e-02,  1.55081412e-02,  6.93225083e-02,\n",
       "        9.89132593e-02, -1.32912224e-01,  6.28681020e-02, -5.88788101e-02,\n",
       "        4.65132481e-02,  4.71856858e-02,  1.00934713e-01,  6.03292955e-02,\n",
       "        1.24763735e-02, -7.98104440e-02, -4.34132589e-02, -2.69529844e-02,\n",
       "        1.07291571e-01,  1.03963040e-01, -6.15679292e-02, -5.51649609e-02,\n",
       "        7.07291140e-02, -1.57333495e-02, -2.70635163e-01, -2.44820488e-02,\n",
       "        1.29987539e-01,  1.04568465e-01, -3.17207537e-01,  1.69664570e-01,\n",
       "        9.34182588e-02,  1.59796779e-01,  1.09168026e-02, -2.88175802e-02,\n",
       "        5.35058641e-03, -7.21050003e-02, -1.15027247e-01,  4.14713000e-02,\n",
       "        6.55974126e-02, -1.04552431e-01,  2.78278279e-02, -3.01626862e-02,\n",
       "        8.00922632e-02, -1.84200741e-02, -6.28261578e-02, -2.96467805e-01,\n",
       "        8.78015961e-02,  4.07793671e-02, -6.09199973e-02,  1.78159180e-01,\n",
       "        1.76530946e-01, -5.96024200e-02, -1.15533660e-02,  1.57759968e-01,\n",
       "       -1.69415423e-01, -1.72052695e-01,  1.75685254e-01, -7.63697330e-02,\n",
       "        2.22659391e-02,  1.80110954e-01, -2.28002200e-02,  9.47307868e-02,\n",
       "       -4.08567644e-03,  6.66792958e-02,  6.40579823e-02, -2.80942437e-02,\n",
       "        3.72254667e-02,  1.63472276e-01, -5.12528385e-02,  8.53096869e-02,\n",
       "        2.12591984e-01,  5.06821171e-02, -4.42416466e-02, -6.82614021e-02,\n",
       "       -1.05782468e-01,  1.64382916e-02, -8.36569160e-02, -5.57004769e-02,\n",
       "        7.27683141e-02, -6.76501134e-02, -7.89118469e-02, -3.31684148e-02,\n",
       "        4.42373858e-02, -7.19825274e-02,  1.43472891e-01, -6.42608717e-03,\n",
       "       -4.10278703e-02,  9.59101385e-02,  2.59266401e-02, -8.91945111e-03,\n",
       "       -6.46194210e-02, -1.80907134e-01, -9.18609220e-02,  4.16279566e-02,\n",
       "       -1.60541571e-01, -4.23849122e-03, -1.66521657e-01, -1.07453690e-02,\n",
       "       -1.36681445e-02, -3.20617076e-02, -1.56777366e-02, -1.04048834e-01,\n",
       "        1.63624598e-01, -5.61462758e-02, -8.50744628e-03, -1.52137299e-01,\n",
       "       -6.57225382e-02,  1.63002565e-02, -9.82557840e-02,  5.78813043e-02,\n",
       "       -1.39119221e-01,  5.81056227e-02, -1.90482019e-02,  4.11250928e-02,\n",
       "        6.51157299e-02, -3.10828797e-02, -5.64795557e-02,  8.24290232e-02,\n",
       "        4.73774829e-02,  1.67093552e-02,  4.41173667e-02, -1.36140276e-01,\n",
       "       -4.14748728e-02, -1.17958917e-01, -2.58403285e-02, -9.16555970e-02,\n",
       "       -4.32008390e-02, -3.47640917e-02, -1.18056574e-01, -9.55685591e-02,\n",
       "       -3.36587325e-02,  1.46425018e-01,  2.21713873e-02,  7.54929875e-02,\n",
       "        2.67167731e-01, -2.02062245e-01,  1.04592060e-03, -2.17472897e-02,\n",
       "        2.59815878e-02, -4.10391581e-02,  1.10033220e-02,  3.22969376e-02,\n",
       "        9.47748789e-02, -8.42729997e-02,  9.05456298e-02,  1.14680078e-01,\n",
       "       -5.60273268e-02,  8.41137959e-02, -6.80644819e-02, -4.22096968e-02,\n",
       "       -4.97801372e-02, -2.06735578e-02, -7.07735666e-02, -4.40611779e-02,\n",
       "        6.89195113e-02,  5.03821411e-02, -5.99501757e-02,  2.07346313e-02])"
      ]
     },
     "execution_count": 24,
     "metadata": {},
     "output_type": "execute_result"
    }
   ],
   "source": [
    "np.random.normal(0, 0.1, 1000)"
   ]
  },
  {
   "cell_type": "code",
   "execution_count": 25,
   "metadata": {},
   "outputs": [],
   "source": [
    "# The data is being centered around the first number, if you change it around you can see.\n",
    "x = np.random.normal(15, 7, 1000)"
   ]
  },
  {
   "cell_type": "code",
   "execution_count": 26,
   "metadata": {},
   "outputs": [
    {
     "data": {
      "text/plain": [
       "(array([  7.,  45., 165., 305., 282., 150.,  35.,  10.,   0.,   1.]),\n",
       " array([-7.42143664, -1.83937759,  3.74268147,  9.32474052, 14.90679958,\n",
       "        20.48885863, 26.07091769, 31.65297674, 37.2350358 , 42.81709486,\n",
       "        48.39915391]),\n",
       " <a list of 10 Patch objects>)"
      ]
     },
     "execution_count": 26,
     "metadata": {},
     "output_type": "execute_result"
    },
    {
     "data": {
      "image/png": "[encoded data removed]",
      "text/plain": [
       "<Figure size 432x288 with 1 Axes>"
      ]
     },
     "metadata": {
      "needs_background": "light"
     },
     "output_type": "display_data"
    }
   ],
   "source": [
    "# Shows the data on the x axis\n",
    "plt.hist(x)"
   ]
  },
  {
   "cell_type": "markdown",
   "metadata": {},
   "source": [
    "## Bibliography\n",
    "\n",
    "SciPy.org, 2018, Viewed on 2019/10/18, https://docs.scipy.org/doc/numpy-1.15.0/reference/routines.random.html\n",
    "\n",
    "APMonitor, Youtube, 2017, viewed on 2019/11/04, https://www.youtube.com/watch?v=Z2zUGmqIDto \n",
    "\n",
    "Stackoverflow, 2017, viewed on 2019/11/04, (https://stackoverflow.com/questions/15474159/shuffle-vs-permute-numpy)\n",
    "\n",
    "Py.Native, 2019, viewed on the 2019/11/05, https://pynative.com/python-random-shuffle/\n",
    "\n",
    "Crazy Geeks, 2019, viewed on the 2019/11/07, https://www.crazygeeks.org/numpy-random-rand-in-python/\n",
    "\n",
    "Chris Albon, 2017, viewed on 2019/11/07,  https://chrisalbon.com/python/basics/generating_random_numbers_with_numpy/\n",
    "\n",
    "Machinemastery, 2019, viewed on the 2019/11/07, https://machinelearningmastery.com/how-to-generate-random-numbers-in-python/\n"
   ]
  },
  {
   "cell_type": "code",
   "execution_count": null,
   "metadata": {},
   "outputs": [],
   "source": []
  }
 ],
 "metadata": {
  "kernelspec": {
   "display_name": "Python 3",
   "language": "python",
   "name": "python3"
  },
  "language_info": {
   "codemirror_mode": {
    "name": "ipython",
    "version": 3
   },
   "file_extension": ".py",
   "mimetype": "text/x-python",
   "name": "python",
   "nbconvert_exporter": "python",
   "pygments_lexer": "ipython3",
   "version": "3.7.1"
  }
 },
 "nbformat": 4,
 "nbformat_minor": 2
}
