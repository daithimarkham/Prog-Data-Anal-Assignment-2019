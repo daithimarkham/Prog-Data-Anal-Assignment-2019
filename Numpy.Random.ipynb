{
 "cells": [
  {
   "cell_type": "markdown",
   "metadata": {},
   "source": [
    "# Numpy.Random Package.\n",
    "![title](NumpyImage.jpg) Source(APMonitor.com)"
   ]
  },
  {
   "cell_type": "markdown",
   "metadata": {},
   "source": [
    "## Numpy.Random package.\n",
    "Creates random numbers and arrays. Whenever you want to generate an array of random numbers you need to use numpy.random, which has multiple functions. These functions generate the random n-dimensional array/arrays for various distributions, size, mean, width, colour on histograms and plots, etc, which we will be discussing later below.\n",
    "\n",
    "The use of randomness is an important part of the configuration and evaluation of machine learning algorithms.\n",
    "\n",
    "From the random initialization of weights in an artificial neural network, to the splitting of data into random train and test sets, to the random shuffling of a training dataset in stochastic gradient descent, generating random numbers and harnessing randomness is a required skill. (Machinemastery, 2019)\n",
    "\n",
    "Below we will discover how to generate and work with random numbers in Python.\n",
    "\n",
    "**Pseudorandom Number Generators**\n",
    "\n",
    "\n",
    "The source of randomness that we inject into our programs and algorithms is a mathematical trick called a pseudorandom number generator.\n",
    "\n",
    "A random number generator is a system that generates random numbers from a true source of randomness. Often something physical, such as a Geiger counter, where the results are turned into random numbers. We do not need true randomness in machine learning. Instead we can use pseudorandomness. Pseudorandomness is a sample of numbers that look close to random, but were generated using a deterministic process.\n",
    "\n",
    "Shuffling data and initializing coefficients with random values use pseudorandom number generators. These little programs are often a function that you can call that will return a random number. Called again, they will return a new random number. Wrapper functions are often also available and allow you to get your randomness as an integer, floating point, within a specific distribution, within a specific range, and so on.\n",
    "\n",
    "The numbers are generated in a sequence. The sequence is deterministic and is seeded with an initial number. If you do not explicitly seed the pseudorandom number generator, then it may use the current system time in seconds or milliseconds as the seed.\n",
    "\n",
    "The value of the seed does not matter. Choose anything you wish. What does matter is that the same seeding of the process will result in the same sequence of random numbers.\n",
    "\n",
    "\n",
    "Below we will discover how to generate and work with random numbers in Python. (Machinemastery, 2019)\n"
   ]
  },
  {
   "cell_type": "markdown",
   "metadata": {},
   "source": [
    "## Simple Random Data.\n",
    "### How to the Numpy Ramdom module. \n",
    "- The random package has many functions to help generate numberous different types of numbers. We will see below how to use these functions. \n",
    "- You will need to import the numpy package below. (import numpy as np)"
   ]
  },
  {
   "cell_type": "markdown",
   "metadata": {},
   "source": [
    "There are many ways to generate random numbers. Numpy.random creates random values in a given shape, returns a sample/samples, from the standard normal distribution. It returns random integers from low to high. Below, we can look at some.\n",
    "\n",
    "#### Code below, adapted from SciPy.org, Stackoverflow and Py.Native."
   ]
  },
  {
   "cell_type": "code",
   "execution_count": 1,
   "metadata": {},
   "outputs": [],
   "source": [
    "# Import Numpy Package\n",
    "import numpy as np"
   ]
  },
  {
   "cell_type": "markdown",
   "metadata": {},
   "source": [
    "#### np.random.normal"
   ]
  },
  {
   "cell_type": "code",
   "execution_count": 2,
   "metadata": {},
   "outputs": [
    {
     "name": "stdout",
     "output_type": "stream",
     "text": [
      "Generating random number using random.normal()\n"
     ]
    },
    {
     "data": {
      "text/plain": [
       "-1.236506967681819"
      ]
     },
     "execution_count": 2,
     "metadata": {},
     "output_type": "execute_result"
    }
   ],
   "source": [
    "# Generates a random number from the normal distribution.\n",
    "print(\"Generating random number using random.normal()\")\n",
    "np.random.normal()"
   ]
  },
  {
   "cell_type": "code",
   "execution_count": 3,
   "metadata": {},
   "outputs": [
    {
     "data": {
      "text/plain": [
       "array([-0.1144907 , -1.21548665, -1.18506861, -0.44284887])"
      ]
     },
     "execution_count": 3,
     "metadata": {},
     "output_type": "execute_result"
    }
   ],
   "source": [
    "# Generates 4 random numbers from the normal distribution.\n",
    "np.random.normal(size=4)"
   ]
  },
  {
   "cell_type": "markdown",
   "metadata": {},
   "source": [
    "#### np.random.rand\n",
    "- Numpy creates arrays. Random numbers in this case between 0 and 1.\n",
    "- Contains arrays, floating numbers."
   ]
  },
  {
   "cell_type": "code",
   "execution_count": 4,
   "metadata": {},
   "outputs": [
    {
     "data": {
      "text/plain": [
       "array([[0.58636658, 0.55260417],\n",
       "       [0.31824747, 0.14539257],\n",
       "       [0.39194324, 0.38101634],\n",
       "       [0.44496436, 0.7527482 ]])"
      ]
     },
     "execution_count": 4,
     "metadata": {},
     "output_type": "execute_result"
    }
   ],
   "source": [
    "# Contains arrays, floating numbers.\n",
    "np.random.rand(4,2)"
   ]
  },
  {
   "cell_type": "markdown",
   "metadata": {},
   "source": [
    "- Get an array with 9 elements in it."
   ]
  },
  {
   "cell_type": "code",
   "execution_count": 5,
   "metadata": {},
   "outputs": [
    {
     "data": {
      "text/plain": [
       "array([0.14241948, 0.87624316, 0.64639713, 0.90222357, 0.8788792 ,\n",
       "       0.43507044, 0.56016157, 0.94629967, 0.8043967 ])"
      ]
     },
     "execution_count": 5,
     "metadata": {},
     "output_type": "execute_result"
    }
   ],
   "source": [
    "# Displays 9 elements.\n",
    "np.random.rand(9)"
   ]
  },
  {
   "cell_type": "markdown",
   "metadata": {},
   "source": [
    "- Displays two arrays, four rows and thee columns."
   ]
  },
  {
   "cell_type": "code",
   "execution_count": 6,
   "metadata": {},
   "outputs": [
    {
     "data": {
      "text/plain": [
       "array([[[0.2618434 , 0.39111461, 0.95519182],\n",
       "        [0.16696725, 0.15012488, 0.1003672 ],\n",
       "        [0.2213614 , 0.49378879, 0.41937886],\n",
       "        [0.17868272, 0.14960903, 0.26330122]],\n",
       "\n",
       "       [[0.46200078, 0.9202169 , 0.11316503],\n",
       "        [0.45727265, 0.67141872, 0.90178871],\n",
       "        [0.31515439, 0.55770637, 0.43794843],\n",
       "        [0.40909627, 0.80802257, 0.82925256]]])"
      ]
     },
     "execution_count": 6,
     "metadata": {},
     "output_type": "execute_result"
    }
   ],
   "source": [
    "# Generates random data, and ouputs in arrays, rows and columns.\n",
    "np.random.rand(2,4,3)"
   ]
  },
  {
   "cell_type": "code",
   "execution_count": 7,
   "metadata": {},
   "outputs": [
    {
     "name": "stdout",
     "output_type": "stream",
     "text": [
      "1D random values array : \n",
      " [0.89391467 0.77943565 0.38859802 0.89903406 0.15882346 0.52874017\n",
      " 0.52283968 0.73995649 0.45041655 0.63241774 0.29493724 0.2330601\n",
      " 0.10372798 0.24399545 0.99680133]\n"
     ]
    }
   ],
   "source": [
    "array = np.random.rand(15) # Prints an array with 15 random values from 0 to 1.\n",
    "print(\"1D random values array : \\n\", array);"
   ]
  },
  {
   "cell_type": "markdown",
   "metadata": {},
   "source": [
    "To display the numbers on a histogram."
   ]
  },
  {
   "cell_type": "code",
   "execution_count": 8,
   "metadata": {},
   "outputs": [],
   "source": [
    "x = np.random.rand(1000)"
   ]
  },
  {
   "cell_type": "code",
   "execution_count": 9,
   "metadata": {},
   "outputs": [
    {
     "data": {
      "text/plain": [
       "<function matplotlib.pyplot.show(*args, **kw)>"
      ]
     },
     "execution_count": 9,
     "metadata": {},
     "output_type": "execute_result"
    },
    {
     "data": {
      "image/png": "[encoded data removed]",
      "text/plain": [
       "<Figure size 432x288 with 1 Axes>"
      ]
     },
     "metadata": {
      "needs_background": "light"
     },
     "output_type": "display_data"
    }
   ],
   "source": [
    "# Histogram shows the most typical values out of 1000 and displays in a bar chart.\n",
    "%matplotlib inline\n",
    "import matplotlib.pyplot as plt\n",
    "plt.hist(x)\n",
    "plt.show # this will display if the above command does not display. \n",
    "# If the above is not displaying type in %matplotlib inline"
   ]
  },
  {
   "cell_type": "markdown",
   "metadata": {},
   "source": [
    "#### Np.random.randint\n",
    "- Random integer values can be generated with the randint() function. \n",
    "- Takes in two arguments, the start and the end of the range."
   ]
  },
  {
   "cell_type": "code",
   "execution_count": 10,
   "metadata": {},
   "outputs": [
    {
     "data": {
      "text/plain": [
       "array([1, 1, 0, 1, 1, 1, 1, 1, 0, 0])"
      ]
     },
     "execution_count": 10,
     "metadata": {},
     "output_type": "execute_result"
    }
   ],
   "source": [
    "np.random.randint(2, size=10) # Function calls numbers bewteen 1 and 2, and size is 10."
   ]
  },
  {
   "cell_type": "code",
   "execution_count": 11,
   "metadata": {},
   "outputs": [
    {
     "data": {
      "text/plain": [
       "array([ 8, 44, 87, 39])"
      ]
     },
     "execution_count": 11,
     "metadata": {},
     "output_type": "execute_result"
    }
   ],
   "source": [
    "# Generates four random integers.\n",
    "np.random.randint(low=1, high=100, size=4) # Function calls random int from 1 to 100, returns four values."
   ]
  },
  {
   "cell_type": "code",
   "execution_count": 12,
   "metadata": {},
   "outputs": [
    {
     "data": {
      "text/plain": [
       "array([[3, 2, 1, 4],\n",
       "       [4, 0, 4, 1]])"
      ]
     },
     "execution_count": 12,
     "metadata": {},
     "output_type": "execute_result"
    }
   ],
   "source": [
    "# Returns, two arrays, with four integers, numbers bewteen 0 and 5.\n",
    "np.random.randint(5, size=(2, 4))"
   ]
  },
  {
   "cell_type": "markdown",
   "metadata": {},
   "source": [
    "Random values are drawn from a <a href=\"https://docs.scipy.org/doc/numpy-1.15.0/reference/generated/numpy.random.uniform.html#numpy.random.uniform\" target=\"_blank\">uniform distribution.</a>\n",
    "\n",
    "- Samples are uniformly distributed over the half-open interval [low, high) (includes low, but excludes high). In other words, any value within the given interval is equally likely to be drawn by uniform. (Machinemastery, 2019)\n",
    "\n",
    "The example below generates 10 random integer values between 0 and 10."
   ]
  },
  {
   "cell_type": "code",
   "execution_count": 13,
   "metadata": {},
   "outputs": [
    {
     "name": "stdout",
     "output_type": "stream",
     "text": [
      "2\n",
      "9\n",
      "1\n",
      "4\n",
      "1\n",
      "7\n",
      "7\n",
      "7\n",
      "10\n",
      "6\n"
     ]
    }
   ],
   "source": [
    "# generate random integer values\n",
    "# Code adapted from Machinemastery.com\n",
    "from random import seed\n",
    "from random import randint\n",
    "# seed random number generator\n",
    "seed(1)\n",
    "# generate some integers\n",
    "for _ in range(10):\n",
    "    value = randint(0, 10)\n",
    "    print(value)"
   ]
  },
  {
   "cell_type": "markdown",
   "metadata": {},
   "source": [
    "#### Numpy.random.choice\n",
    "-  Generates a random sample from a given 1-D array\n"
   ]
  },
  {
   "cell_type": "code",
   "execution_count": 14,
   "metadata": {},
   "outputs": [
    {
     "data": {
      "text/plain": [
       "array([0, 0, 3])"
      ]
     },
     "execution_count": 14,
     "metadata": {},
     "output_type": "execute_result"
    }
   ],
   "source": [
    "# Generate a uniform random sample from np.arange(5) of size 3:\n",
    "np.random.choice(5, 3)"
   ]
  },
  {
   "cell_type": "markdown",
   "metadata": {},
   "source": [
    "#### Numpy.random.ranf\n",
    "-Return random floats in the half-open interval [0.0, 1.0)."
   ]
  },
  {
   "cell_type": "code",
   "execution_count": 15,
   "metadata": {
    "scrolled": true
   },
   "outputs": [
    {
     "data": {
      "text/plain": [
       "0.29449033765355603"
      ]
     },
     "execution_count": 15,
     "metadata": {},
     "output_type": "execute_result"
    }
   ],
   "source": [
    "# numpy.random.ranf\n",
    "np.random.random_sample()"
   ]
  },
  {
   "cell_type": "markdown",
   "metadata": {},
   "source": [
    "- Displays what type of an integer it is."
   ]
  },
  {
   "cell_type": "code",
   "execution_count": 16,
   "metadata": {},
   "outputs": [
    {
     "data": {
      "text/plain": [
       "float"
      ]
     },
     "execution_count": 16,
     "metadata": {},
     "output_type": "execute_result"
    }
   ],
   "source": [
    "# Type of number\n",
    "type(np.random.random_sample())"
   ]
  },
  {
   "cell_type": "markdown",
   "metadata": {},
   "source": [
    "- Displays five random numbers."
   ]
  },
  {
   "cell_type": "code",
   "execution_count": 17,
   "metadata": {},
   "outputs": [
    {
     "data": {
      "text/plain": [
       "array([0.41703724, 0.68557285, 0.20122224, 0.13578665, 0.61434814])"
      ]
     },
     "execution_count": 17,
     "metadata": {},
     "output_type": "execute_result"
    }
   ],
   "source": [
    "# Number of random numbers.\n",
    "np.random.random_sample((5,))"
   ]
  },
  {
   "cell_type": "markdown",
   "metadata": {},
   "source": [
    "- Three-by-two array of random numbers from [-5, 0)"
   ]
  },
  {
   "cell_type": "code",
   "execution_count": 18,
   "metadata": {
    "scrolled": true
   },
   "outputs": [
    {
     "data": {
      "text/plain": [
       "array([[-2.30571128, -4.85060828],\n",
       "       [-0.22484187, -1.82799121],\n",
       "       [-0.98690564, -0.71115251]])"
      ]
     },
     "execution_count": 18,
     "metadata": {},
     "output_type": "execute_result"
    }
   ],
   "source": [
    "# Three rows, two columns, numbers between -5 and 0.\n",
    "5 * np.random.random_sample((3, 2)) - 5"
   ]
  },
  {
   "cell_type": "markdown",
   "metadata": {},
   "source": [
    "#### Numpy.random.bytes"
   ]
  },
  {
   "cell_type": "code",
   "execution_count": 19,
   "metadata": {},
   "outputs": [
    {
     "data": {
      "text/plain": [
       "b'\\\\\\xa4\\xac\\x80t\\xff\\xa46\\x92\\xe9\\x8d\\x1d\\n\\t\\xd7\\xf2\\x90\\x1d'"
      ]
     },
     "execution_count": 19,
     "metadata": {},
     "output_type": "execute_result"
    }
   ],
   "source": [
    "# Returns random bytes.\n",
    "np.random.bytes(18)"
   ]
  },
  {
   "cell_type": "code",
   "execution_count": 20,
   "metadata": {},
   "outputs": [
    {
     "name": "stdout",
     "output_type": "stream",
     "text": [
      "3D random values array : \n",
      " [[[0.08199916 0.24381398 0.69397279]\n",
      "  [0.02187586 0.90517564 0.77649628]\n",
      "  [0.28202325 0.085811   0.869193  ]]\n",
      "\n",
      " [[0.70042323 0.83213269 0.36618971]\n",
      "  [0.20759942 0.14306798 0.52595189]\n",
      "  [0.08167159 0.48618778 0.29081691]]\n",
      "\n",
      " [[0.51304826 0.56210901 0.91148076]\n",
      "  [0.83922322 0.63967949 0.36167209]\n",
      "  [0.45838461 0.98936246 0.08608862]]]\n"
     ]
    }
   ],
   "source": [
    "# Generating 3 dimentional array. \n",
    "array = np.random.rand(3,3,3) # Function for three arrays.\n",
    "print(\"3D random values array : \\n\", array);"
   ]
  },
  {
   "cell_type": "markdown",
   "metadata": {},
   "source": [
    "## Permutations \n",
    "- Next we will look at permutations shuffle and permutation , which is randomly permute a sequence, or return a permuted range.\n",
    "\n",
    "- Generally Numpy random.shuffle and random.permutation both shuffle elements in an array.\n",
    "\n"
   ]
  },
  {
   "cell_type": "markdown",
   "metadata": {},
   "source": [
    "#### Numpy.random.shuffle(x)\n",
    "- Random.shuffle function used to shuffle the sequence in place, it changes the position of items in a list.\n",
    "- Modify a sequence in-place by shuffling its contents."
   ]
  },
  {
   "cell_type": "code",
   "execution_count": 21,
   "metadata": {},
   "outputs": [
    {
     "data": {
      "text/plain": [
       "array([3, 8, 2, 7, 1, 4, 9, 5, 6, 0])"
      ]
     },
     "execution_count": 21,
     "metadata": {},
     "output_type": "execute_result"
    }
   ],
   "source": [
    "# Randomly shuffles the list.\n",
    "arr = np.arange(10)\n",
    "np.random.shuffle(arr)\n",
    "arr"
   ]
  },
  {
   "cell_type": "markdown",
   "metadata": {},
   "source": [
    "- If you want to shuffle as per your need, then you can pass your custom random function in the place of random argument, which will dictate shuffle function, and how it randomizes the items of a list. (Py.Native, 2019)\n",
    "- Can do the same with strings.\n"
   ]
  },
  {
   "cell_type": "code",
   "execution_count": 22,
   "metadata": {
    "scrolled": true
   },
   "outputs": [
    {
     "name": "stdout",
     "output_type": "stream",
     "text": [
      "List :  [5, 32, 21, 22, 56, 36, 34, 56, 6, 23]\n",
      "After first shuffle  :  [22, 6, 36, 32, 5, 56, 21, 23, 56, 34]\n",
      "After second shuffle :  [56, 34, 32, 23, 22, 21, 6, 36, 56, 5]\n"
     ]
    }
   ],
   "source": [
    "number_list = [5, 32, 21, 22, 56, 36, 34, 56, 6, 23]\n",
    "print (\"List : \",  number_list)\n",
    "\n",
    "np.random.shuffle(number_list)\n",
    "print (\"After first shuffle  : \",  number_list)\n",
    "\n",
    "np.random.shuffle(number_list)\n",
    "print (\"After second shuffle : \",  number_list)"
   ]
  },
  {
   "cell_type": "markdown",
   "metadata": {},
   "source": [
    "- Shuffle a list of strings."
   ]
  },
  {
   "cell_type": "code",
   "execution_count": 23,
   "metadata": {},
   "outputs": [
    {
     "name": "stdout",
     "output_type": "stream",
     "text": [
      "Original String list:  ['Let it rain', 'Chelsea Football Club', 'John is there', \"Don't do it\", 'He left to go shopping', 'The bus stop', 'Leave the ball']\n",
      "String List after the first shuffle:  ['Let it rain', \"Don't do it\", 'Leave the ball', 'Chelsea Football Club', 'John is there', 'The bus stop', 'He left to go shopping']\n",
      "String List after the second shuffle:  ['Leave the ball', 'Chelsea Football Club', 'The bus stop', 'John is there', \"Don't do it\", 'Let it rain', 'He left to go shopping']\n"
     ]
    }
   ],
   "source": [
    "string_list = [\"Let it rain\", \"Chelsea Football Club\", \"John is there\", \"Don't do it\", \"He left to go shopping\", \"The bus stop\", \"Leave the ball\"]\n",
    "print (\"Original String list: \",  string_list) # Create a list which we will use a function to shuffle below.\n",
    "\n",
    "\n",
    "np.random.shuffle(string_list) # Random function shuflles list, generates list in different order to original.\n",
    "print (\"String List after the first shuffle: \",  string_list)\n",
    "\n",
    "\n",
    "\n",
    "np.random.shuffle(string_list) # Same as above, random shuffles again, using the same function as above.\n",
    "print (\"String List after the second shuffle: \",  string_list)\n"
   ]
  },
  {
   "cell_type": "markdown",
   "metadata": {},
   "source": [
    "- Below we can shuffle just a string."
   ]
  },
  {
   "cell_type": "code",
   "execution_count": 24,
   "metadata": {},
   "outputs": [
    {
     "name": "stdout",
     "output_type": "stream",
     "text": [
      "Original String:  chocolate\n",
      "shuffled String is:  lhococeta\n"
     ]
    }
   ],
   "source": [
    "# Randomly shuffles a string\n",
    "string_one = \"chocolate\" # Setting variable \n",
    "print (\"Original String: \", string_one)# Prints output of original string.\n",
    "\n",
    "char_list = list(string_one) # Function for string we want to shuffle.\n",
    "\n",
    "\n",
    "np.random.shuffle(char_list) # Function for shuffling the string.\n",
    "\n",
    "string_one = ''.join(char_list)\n",
    "print (\"shuffled String is: \", string_one) # Prints shuffled string from original string."
   ]
  },
  {
   "cell_type": "markdown",
   "metadata": {},
   "source": [
    "#### Numpy.random.permutation(x) \n",
    "\n",
    "\n",
    "Randomly permute a sequence, or return a permuted range. If x is a multi-dimensional array, it is only shuffled along its first index. (Sci.py.org)\n",
    "\n",
    "- Generally, in Numpy, both random.permutation and random.shuffle randomly shuffle elements in an array. But there are differences:\n",
    "\n",
    "- If you want to generate random permutations of x, then what is the difference between shuffle(x) and permutation(x)?\n",
    "- np.random.permutation has two differences from np.random.shuffle:\n",
    "\n",
    "   - If passed an array, it will return a shuffled copy of the array; np.random.shuffle shuffles the array in place.\n",
    "   - If passed an integer, it will return a shuffled range i.e. np.random.shuffle(np.arange(n))\n",
    "- If x is an integer, randomly permute np.arange(x). If x is an array, make a copy and shuffle the elements randomly.\n",
    "- np.random.permutation is useful when you need to shuffle ordered pairs, especially for classification:\n",
    "\n",
    "(https://stackoverflow.com/questions/15474159/shuffle-vs-permute-numpy)"
   ]
  },
  {
   "cell_type": "code",
   "execution_count": 25,
   "metadata": {},
   "outputs": [
    {
     "data": {
      "text/plain": [
       "array([5, 3, 6, 9, 8, 2, 4, 0, 7, 1])"
      ]
     },
     "execution_count": 25,
     "metadata": {},
     "output_type": "execute_result"
    }
   ],
   "source": [
    "# Displays all the numbers from 0 to the number you enter.\n",
    "np.random.permutation(10)# Function which randomly returns a permuted range of numbers between 0 and 10."
   ]
  },
  {
   "cell_type": "code",
   "execution_count": 26,
   "metadata": {
    "scrolled": true
   },
   "outputs": [
    {
     "data": {
      "text/plain": [
       "array([12, 15,  1,  9,  4])"
      ]
     },
     "execution_count": 26,
     "metadata": {},
     "output_type": "execute_result"
    }
   ],
   "source": [
    "# Outputs the numbers you entered, randomly.\n",
    "np.random.permutation([1, 4, 9, 12, 15]) # Random permutation function, for returning numbers you enetered in any order."
   ]
  },
  {
   "cell_type": "code",
   "execution_count": 27,
   "metadata": {
    "scrolled": true
   },
   "outputs": [
    {
     "data": {
      "text/plain": [
       "array([[0, 1, 2],\n",
       "       [3, 4, 5],\n",
       "       [6, 7, 8]])"
      ]
     },
     "execution_count": 27,
     "metadata": {},
     "output_type": "execute_result"
    }
   ],
   "source": [
    "# Displays nums between 0 and 9 in three rows.\n",
    "arr = np.arange(9).reshape((3, 3))\n",
    "np.random.permutation(arr)"
   ]
  },
  {
   "cell_type": "markdown",
   "metadata": {},
   "source": [
    "## Distribution Functions"
   ]
  },
  {
   "cell_type": "markdown",
   "metadata": {},
   "source": [
    "#### The Poisson Distribution\n",
    "\n",
    "The <a href=\"https://www.statisticshowto.datasciencecentral.com/poisson-distribution/\" target=\"_blank\">Poisson</a> distribution function is a statistical distribution that shows how many times an event is likely to occur within a specified period of time.\n",
    "\n",
    "The French mathematician Siméon-Denis Poisson developed his function in 1830 to describe many models, for example, the number of times a gambler would win a rarely won game of chance in a large number of tries. (Britannica, 2019.)\n",
    "\n",
    "![title](PoissonImage.jpg) Source(Britannica)\n",
    "\n",
    "Helps us to predict the probability of certain events from happening when you know how often the event has occurred. It gives us the probability of a given number of events happening in a fixed interval of time. (Statistics How To, 2013)\n",
    "\n",
    "For example, the number of football fans in a certain day of the weekend. If the average number of fans for three days is 35,500, you can predict the probability of a certain day having more fans attend. You can see why businesses would use this distribution to try and predict/forecast over an x amount of time, to help with demand etc.\n",
    "\n",
    "We can see here that the formula is is: P(x; μ) = (e-μ * μx) / x!, and how it is <a href=\"https://www.youtube.com/watch?v=Fk02TW6reiA\" target=\"_blank\">calculated.</a>\n",
    "\n",
    "The Poisson parameter Lambda (λ) is the total number of events (k) divided by the number of units (n) in the data (λ = k/n). The unit forms the basis or denominator for calculation of the average, and need not be individual cases or research subjects. For example, the number of asthma attacks may be based on the number of child months, or the number of pregnancies based on the number of women years in using a particular contraceptive.\n",
    "\n",
    "This is different to the Binomial parameter of proportion or risk where proportion is the number of individuals classified as positive (p) divided by the total number of individuals in the data (r = p/n). Proportion or risk must always be a number between 0 and 1, while λ may be any positive number.\n",
    "\n",
    "For examples, if we have 100 people, and only 90 of them go shopping in a week then the binomial risk of shopping is 90/100 = 0.9. However, some of the people will go shopping more than once in the week, and the total number of shopping trips between the 100 people may be 160, and the Poisson Lambda is 160/100 = 1.6 per 100 person week\n",
    "\n",
    "Large Lambda (λ=k/n), say over 200, assumes an approximately normal or geometric distribution, and the count (or sqrt(count)) can be used as a Parametric measurement. If the events occur very few times per individual, so that individuals can be classified as positive or negative cases, then the Binomial distribution can be assumed and statistics related to proportions used. In between, or when events are infrequent, the Poisson distribution is used. (Stats To Do, 2014)"
   ]
  },
  {
   "cell_type": "code",
   "execution_count": null,
   "metadata": {},
   "outputs": [],
   "source": []
  },
  {
   "cell_type": "markdown",
   "metadata": {},
   "source": [
    "#### The Uniform Distribution\n",
    "<a href=\"https://docs.scipy.org/doc/numpy-1.15.0/reference/generated/numpy.random.uniform.html#numpy.random.uniform\" target=\"_blank\">Uniform distribution</a> in statistics, a type of probability distribution in which all outcomes are equally likely; each variable has the same probability that it will be the outcome. A deck of cards has within it uniform distributions because the likelihood of drawing a heart, a club, a diamond or a spade is equally likely. A coin also has a uniform distribution because the probability of getting either heads or tails in a coin toss is the same.\n",
    "\n",
    "The uniform distribution can be visualized as a straight horizontal line, so for a coin flip returning a head or tail, both have a probability p = 0.50 and would be depicted by a line from the y-axis at 0.50."
   ]
  },
  {
   "cell_type": "code",
   "execution_count": 28,
   "metadata": {
    "scrolled": true
   },
   "outputs": [
    {
     "data": {
      "text/plain": [
       "array([2.47576964, 4.49987966, 4.06075384, 2.30820012, 4.80976053,\n",
       "       2.77129312, 2.62792741, 2.07704314, 2.28441321, 4.69200797])"
      ]
     },
     "execution_count": 28,
     "metadata": {},
     "output_type": "execute_result"
    }
   ],
   "source": [
    "# Get a 1000 numbers back.\n",
    "# Random,rand will only give you numbers between 0 and 1.\n",
    "# Random uniform will give you any numbers.\n",
    "np.random.uniform(2,5,10)"
   ]
  },
  {
   "cell_type": "code",
   "execution_count": 29,
   "metadata": {},
   "outputs": [],
   "source": [
    "# Pretty much does the same thing as the rand function which we looked at above.\n",
    "x = np.random.uniform(0,1000,10000)"
   ]
  },
  {
   "cell_type": "code",
   "execution_count": 30,
   "metadata": {
    "scrolled": true
   },
   "outputs": [
    {
     "data": {
      "text/plain": [
       "(array([1027., 1026., 1028.,  961.,  999.,  978., 1013., 1004.,  971.,\n",
       "         993.]),\n",
       " array([9.61063763e-03, 9.99936120e+01, 1.99977613e+02, 2.99961615e+02,\n",
       "        3.99945616e+02, 4.99929618e+02, 5.99913619e+02, 6.99897620e+02,\n",
       "        7.99881622e+02, 8.99865623e+02, 9.99849624e+02]),\n",
       " <a list of 10 Patch objects>)"
      ]
     },
     "execution_count": 30,
     "metadata": {},
     "output_type": "execute_result"
    },
    {
     "data": {
      "image/png": "[encoded data removed]",
      "text/plain": [
       "<Figure size 432x288 with 1 Axes>"
      ]
     },
     "metadata": {
      "needs_background": "light"
     },
     "output_type": "display_data"
    }
   ],
   "source": [
    "# Shows the numbers on a bar chart.\n",
    "plt.hist(x)"
   ]
  },
  {
   "cell_type": "markdown",
   "metadata": {},
   "source": [
    "### Numpy.Random.Normal.¶\n",
    "\n",
    "Draw random samples from a normal (Gaussian) distribution.\n",
    "\n",
    "\n",
    "The probability density function of the normal distribution, first derived by De Moivre and 200 years later by both Gauss and Laplace independently [R255], is often called the bell curve because of its characteristic shape (see the example below).\n",
    "\n",
    "\n",
    "The normal distributions occurs often in nature. For example, it describes the commonly occurring distribution of samples influenced by a large number of tiny, random disturbances, each with its own unique distribution\n",
    "\n",
    "\n",
    "Below the numbers with e-01 at the end of it, means multipy whatever came before the e by 10 to the minus 1 or divide by 10, e-02 means divide by 100 and so on.\n",
    "\n",
    "\n",
    "Can take more functions and see how they work if you like."
   ]
  },
  {
   "cell_type": "code",
   "execution_count": 31,
   "metadata": {},
   "outputs": [
    {
     "data": {
      "text/plain": [
       "array([ 1.37919399e-01,  6.34699703e-02, -1.44300480e-01, -1.00229033e-02,\n",
       "       -3.61737835e-02, -6.01091742e-02,  1.69590546e-01, -1.82539040e-01,\n",
       "        2.49971441e-02, -1.18960437e-01,  1.58087475e-02, -6.34852444e-02,\n",
       "       -1.37209466e-01,  1.31497108e-01, -1.23389170e-01, -1.60887191e-01,\n",
       "        6.88362425e-02,  1.63515883e-01, -1.05286439e-02, -1.04499541e-03,\n",
       "        6.39480979e-02,  1.11236897e-02, -7.17072775e-02,  2.86517250e-02,\n",
       "       -1.92161360e-01,  1.45523464e-01,  7.25676202e-02,  1.46826959e-01,\n",
       "       -9.98028379e-02, -3.35396938e-02, -8.97698376e-02,  3.60513794e-02,\n",
       "        9.43837289e-02,  1.26716896e-02,  2.59978994e-02,  6.03230046e-02,\n",
       "       -9.37348512e-02, -9.83312712e-02,  5.98336906e-02,  1.69217518e-02,\n",
       "       -8.83605029e-02, -2.36828451e-01, -5.24998159e-02, -2.52641677e-01,\n",
       "        2.01350775e-01,  8.12177768e-02, -2.37573653e-02, -1.51224854e-01,\n",
       "        1.82302771e-01, -6.15882438e-02,  1.41902659e-01, -1.21551497e-02,\n",
       "        1.20195595e-01, -7.01858513e-02,  9.08597897e-02, -5.48826304e-02,\n",
       "       -4.68422928e-02, -3.94989726e-02, -9.41602925e-02,  9.28132943e-02,\n",
       "       -5.64347961e-02,  5.54381056e-02,  1.02543445e-01,  7.48181671e-02,\n",
       "        7.17004340e-02, -2.55677622e-02,  1.10754745e-01,  1.29088768e-01,\n",
       "       -7.26723846e-02,  8.05863862e-03,  1.10614010e-01, -7.32283885e-02,\n",
       "        1.61503077e-02,  3.68478896e-02, -1.16658933e-01, -1.43325064e-01,\n",
       "       -6.16056374e-02, -1.59189879e-01,  1.04110662e-02, -1.74866839e-01,\n",
       "        1.89481631e-01, -5.38849194e-02,  2.92530085e-02, -2.24555334e-02,\n",
       "       -3.69192058e-02,  6.23409064e-02,  3.67984681e-02, -1.40138490e-01,\n",
       "       -5.53359299e-02, -1.29103952e-01, -2.10726422e-01,  5.94346132e-02,\n",
       "        2.21670592e-01,  1.64591495e-01, -1.04911525e-01, -2.61060529e-03,\n",
       "       -6.54696868e-02,  4.89384436e-02, -5.15914784e-02, -7.14643746e-02,\n",
       "        2.64173067e-02, -1.75258205e-02,  6.32296265e-02,  5.08681594e-02,\n",
       "       -9.33405568e-02,  2.98785066e-01, -8.91559148e-02,  3.12999716e-02,\n",
       "        1.02977877e-01, -2.25790724e-02, -8.34363987e-02, -6.55076943e-02,\n",
       "        1.46523226e-01, -1.80031903e-01,  1.10427497e-01, -1.45457020e-01,\n",
       "       -2.39590320e-01,  7.80650948e-02, -1.74040583e-01, -1.87949208e-02,\n",
       "       -3.28192537e-02, -9.66092140e-02,  7.46416628e-02, -5.27125561e-02,\n",
       "       -1.45014504e-01, -7.22781841e-02,  3.64076128e-02,  8.81771836e-02,\n",
       "        1.38018237e-01, -1.27192104e-01, -1.29123120e-01,  8.97599097e-02,\n",
       "        5.35724318e-02, -6.42525711e-02,  9.58856522e-02,  1.77948989e-02,\n",
       "       -1.70001999e-01,  1.01871618e-01, -9.88594186e-02,  1.85240576e-02,\n",
       "        1.68500645e-02,  1.94559800e-02,  4.67554471e-02,  2.45157965e-01,\n",
       "        3.09162880e-02, -1.72718760e-01, -9.82604802e-02,  1.30043909e-01,\n",
       "        1.20449123e-01, -5.75285436e-02,  6.18569653e-02, -1.45890646e-01,\n",
       "       -8.76027979e-02,  8.02363191e-03, -8.04581978e-02, -1.63411022e-01,\n",
       "       -1.08724094e-01, -3.80228988e-02, -5.75864601e-02, -1.94607919e-02,\n",
       "       -2.70040089e-01, -2.22345400e-02,  9.38760884e-02,  3.26524776e-02,\n",
       "        4.39102416e-02, -9.66115245e-02, -2.50069331e-02, -1.47391460e-01,\n",
       "       -8.30126371e-02,  5.57165876e-02,  9.09435253e-02, -1.04964096e-01,\n",
       "       -1.71078007e-01, -6.58762803e-02,  8.56774410e-03,  2.23576796e-02,\n",
       "        1.46641540e-01,  1.63395268e-01,  4.55169290e-02, -1.98197006e-01,\n",
       "        1.31915576e-01,  3.84561189e-02, -1.14032226e-01,  2.91098908e-02,\n",
       "       -1.91613060e-01,  2.25905344e-02,  1.63510801e-02, -5.99158452e-02,\n",
       "       -1.88125495e-02,  4.88759868e-02,  5.17601565e-02,  1.17941662e-01,\n",
       "        5.47282901e-02, -2.48533174e-01,  8.33886751e-02, -2.19332644e-03,\n",
       "        8.51152936e-02, -1.49292031e-01,  6.60422468e-02,  3.09237982e-03,\n",
       "        8.19006085e-02, -7.92515176e-02,  9.90763305e-03, -1.67417465e-01,\n",
       "       -1.30298067e-01,  6.12415658e-03,  2.81250849e-02, -1.55609102e-01,\n",
       "        6.39611973e-02,  9.78411819e-02,  1.72575957e-01,  2.14150333e-01,\n",
       "       -1.80566775e-02,  8.15013571e-03,  6.09739802e-02,  1.77329183e-01,\n",
       "       -1.68271988e-01, -7.61471290e-02,  1.60778833e-01, -1.30236056e-02,\n",
       "        2.02870284e-02,  4.82749029e-02, -2.56248335e-02,  6.97698054e-02,\n",
       "        9.54976214e-02,  8.05486944e-02,  7.36992455e-03,  1.57384690e-01,\n",
       "       -6.92225771e-02, -4.75148693e-02,  9.82455251e-02,  9.84608668e-02,\n",
       "       -1.91983737e-01,  1.42098161e-01,  1.02849926e-01,  3.28522195e-02,\n",
       "       -2.25302557e-01, -1.32133680e-01, -1.11492917e-01,  9.87352632e-03,\n",
       "        1.44096302e-01, -5.96318403e-02,  1.40224961e-01,  4.65562638e-02,\n",
       "        1.39528524e-02, -4.65761330e-02, -3.93686784e-03, -6.51227635e-02,\n",
       "        4.75899773e-02, -6.64162993e-03, -4.74811542e-02,  5.70823639e-02,\n",
       "       -1.16017553e-01, -4.02837901e-02,  9.90571347e-02,  1.17983676e-01,\n",
       "       -1.78332750e-01, -6.98144606e-02,  9.73571478e-02, -1.05019999e-01,\n",
       "       -6.03827980e-02, -3.43068738e-02, -4.84851268e-02,  7.95294946e-02,\n",
       "       -9.69999935e-02,  7.06853018e-02,  5.36031613e-03,  3.96786933e-02,\n",
       "       -2.04573728e-03, -1.69864348e-01,  1.08743897e-01, -2.39810723e-04,\n",
       "        1.24686670e-03, -8.60436826e-02,  7.05231556e-03,  9.40185995e-02,\n",
       "       -6.24357569e-02,  1.20733036e-02,  6.44631902e-02,  5.92623516e-02,\n",
       "        1.42665479e-01,  1.44413778e-01,  9.30265580e-02,  3.86977070e-03,\n",
       "       -2.74261642e-02,  8.42076755e-03, -7.64730542e-02, -2.93551532e-02,\n",
       "        1.86540930e-01,  6.12101443e-03, -2.07209917e-02,  6.70736631e-02,\n",
       "        1.13485563e-01,  1.05432658e-03,  7.17191404e-02, -1.06384370e-01,\n",
       "       -1.24168802e-01,  1.89898400e-01,  1.69956259e-01, -1.19761120e-01,\n",
       "        3.97559379e-02,  1.50328888e-01,  5.69471836e-02,  6.53571329e-02,\n",
       "       -1.75450756e-01,  1.31333041e-01,  2.42032666e-01, -3.97456373e-02,\n",
       "        8.15940513e-02,  1.70206588e-01, -2.02812902e-01,  2.76751268e-02,\n",
       "       -5.87653688e-02,  1.74598780e-01,  3.33970421e-02,  2.05601419e-01,\n",
       "       -1.19342136e-02, -7.29205220e-02,  1.16501751e-01,  2.25286610e-02,\n",
       "       -1.67977932e-01, -4.16434486e-02, -2.21733117e-01, -1.47382280e-02,\n",
       "       -1.14277654e-01,  2.95375054e-02, -5.03072624e-02, -6.66007537e-02,\n",
       "       -9.65548805e-02, -1.92012568e-02, -6.79899949e-02, -1.50748366e-01,\n",
       "        5.43307654e-02,  7.50469786e-02,  2.60699979e-02,  2.20954193e-01,\n",
       "       -9.00663877e-02, -1.30622726e-01,  4.27813703e-02, -1.49806032e-01,\n",
       "        9.08112422e-02,  9.96274660e-02,  6.72596016e-02, -1.51132613e-02,\n",
       "       -1.24213152e-01,  4.06204254e-02, -2.35004307e-01, -1.34138523e-01,\n",
       "        3.79297035e-02,  9.90129133e-02, -2.52455023e-02,  5.07838436e-02,\n",
       "        2.05144931e-01,  2.73419592e-02,  3.49025149e-02, -1.89239861e-02,\n",
       "       -6.97604487e-02, -9.60000431e-03,  2.88178953e-02, -3.67106192e-03,\n",
       "       -1.08721121e-01,  9.06339008e-02,  1.65972796e-01, -3.37789751e-02,\n",
       "        7.57292631e-02, -1.48680786e-01, -4.72080747e-02,  1.58865339e-01,\n",
       "        3.90708130e-02,  2.00125965e-01, -4.68397082e-03, -1.16706399e-01,\n",
       "        1.38956466e-02, -1.46869581e-01, -2.05089254e-01, -1.74559708e-02,\n",
       "        4.90530179e-02,  1.05856368e-01,  4.04388109e-02, -1.61579582e-01,\n",
       "       -3.56095994e-02,  1.35138138e-01,  2.61451276e-02,  1.30377222e-01,\n",
       "       -4.05717572e-02,  3.35189852e-02,  8.67280163e-02,  1.13311548e-01,\n",
       "       -1.42507416e-01,  2.86715539e-01, -1.84839425e-01,  1.47137670e-01,\n",
       "        2.21400319e-02,  3.35266523e-02,  1.22562519e-01, -5.43197116e-02,\n",
       "       -6.22600132e-02, -1.05127046e-01, -2.09182680e-01,  2.08784762e-02,\n",
       "       -6.24933478e-02,  6.50651603e-02,  4.34154289e-02, -1.35236232e-01,\n",
       "       -1.49305631e-02,  1.18733371e-01,  1.18996273e-01,  5.30936731e-02,\n",
       "        8.82033942e-02,  5.85197080e-02, -9.28692070e-02,  5.80068383e-02,\n",
       "       -3.72792427e-02,  8.99626779e-02,  8.89561092e-02, -1.05143406e-01,\n",
       "       -2.86241736e-02,  4.50676002e-02,  5.22924256e-02,  9.59978685e-02,\n",
       "        8.84599216e-02, -8.26871986e-02,  1.65133869e-02, -2.09672095e-02,\n",
       "        7.07412108e-02,  2.95985765e-01,  3.26352865e-02,  6.54933847e-02,\n",
       "       -2.49702716e-02, -1.09646856e-01,  2.30631158e-02, -4.70872308e-02,\n",
       "       -4.77416739e-02, -7.88635213e-02, -6.73366406e-02,  2.29267289e-02,\n",
       "        6.68642186e-02,  8.79726525e-02,  3.70360781e-02, -1.27544544e-01,\n",
       "       -5.08881087e-02,  8.29748822e-02, -4.35339470e-02,  2.20658364e-02,\n",
       "        3.77729337e-03, -2.78009302e-02,  3.41835639e-02, -8.92465433e-03,\n",
       "        9.04143625e-02, -5.13680917e-02, -9.29143363e-02, -7.10525596e-02,\n",
       "       -4.88022956e-02,  1.02711428e-01,  2.70147710e-02, -8.90296092e-02,\n",
       "        3.13590807e-02,  1.31395415e-01, -1.98320608e-01, -7.56693282e-02,\n",
       "       -6.78644093e-02,  2.22786533e-01, -1.96259174e-02, -4.36597611e-02,\n",
       "        1.71078511e-02, -6.90265811e-02, -7.17549466e-02,  8.81673390e-02,\n",
       "        1.35192794e-01, -2.03594409e-01,  7.66878162e-02,  1.80304585e-01,\n",
       "       -1.35661197e-01,  2.90361630e-02, -2.27778290e-02, -1.63221395e-01,\n",
       "        3.98326873e-03, -2.11944211e-02,  6.63515044e-02,  3.46623160e-03,\n",
       "        1.54912992e-01, -5.44551579e-03,  1.27545776e-01, -1.06839416e-01,\n",
       "        4.87584955e-02, -1.80818048e-01, -1.23629741e-01, -7.73913716e-02,\n",
       "       -1.59473281e-01, -1.09863694e-01,  2.19437099e-02, -2.66658177e-02,\n",
       "       -6.83498095e-02, -7.11419617e-03,  5.72679208e-02, -2.23764447e-02,\n",
       "        3.21213025e-02,  1.60293635e-01,  2.05143267e-02,  6.36737398e-02,\n",
       "       -6.76383705e-02,  1.55011145e-02,  8.96933694e-02, -9.50879821e-02,\n",
       "       -1.61874567e-02, -7.66742897e-02,  1.12171985e-01,  4.39712888e-02,\n",
       "        4.17725773e-02, -1.74492107e-01,  1.32332858e-02,  1.50574254e-01,\n",
       "        3.25823033e-02, -8.46699701e-02,  4.52098734e-02,  4.25675697e-02,\n",
       "        8.29215733e-02,  2.01343322e-02,  4.03710948e-02,  1.18356980e-02,\n",
       "       -3.01370132e-02, -2.00013537e-01,  6.61393256e-02,  7.10503558e-03,\n",
       "        8.72265829e-02, -6.99602412e-02, -1.70758340e-02,  4.21544598e-02,\n",
       "       -1.17202609e-01,  5.12304542e-02,  1.88476543e-02, -1.08820188e-01,\n",
       "       -1.43964635e-01, -5.93495676e-02, -1.73013073e-01,  7.34265208e-02,\n",
       "       -9.39608692e-02, -9.26078695e-02, -1.69874522e-01,  1.04814572e-01,\n",
       "        4.24312408e-02, -1.57961098e-02,  5.09833653e-03,  7.54592747e-02,\n",
       "        4.61879147e-02, -1.89776090e-02, -4.66041225e-02,  4.17082034e-02,\n",
       "        6.61162760e-02, -2.32399158e-02, -1.36692945e-01, -8.82489992e-02,\n",
       "       -7.88891096e-02, -1.32818422e-01,  8.31353538e-02, -2.78358398e-02,\n",
       "        7.91200839e-02,  2.07320037e-02, -3.73040437e-03, -4.93400113e-02,\n",
       "       -1.22538267e-02, -6.29400250e-02, -1.88849527e-01,  7.93051028e-02,\n",
       "        2.02617334e-01, -1.31141915e-01,  4.29032858e-03, -1.07580370e-01,\n",
       "        1.75375562e-01, -5.27217279e-02,  1.78968311e-01,  9.08864477e-03,\n",
       "        2.62380669e-02, -9.94542245e-03, -2.94230306e-02,  6.49609888e-02,\n",
       "        7.64803897e-02, -6.87357138e-02, -8.49156147e-02,  3.77416806e-02,\n",
       "        5.43701365e-02, -1.40378255e-01, -1.99092941e-02, -4.06276946e-02,\n",
       "       -3.38093047e-02,  1.30264901e-01, -1.10717783e-01,  1.85476003e-02,\n",
       "       -1.18558432e-02,  6.66954526e-02,  5.48118299e-02, -2.97739976e-02,\n",
       "       -1.63533528e-02,  1.45690754e-01, -2.87475819e-03,  3.15725477e-02,\n",
       "        5.87792620e-02,  5.32566243e-02, -5.33035128e-02,  1.55239504e-01,\n",
       "       -3.45259587e-02, -4.07401715e-02, -6.71362562e-03,  1.98267204e-01,\n",
       "       -1.38811031e-01, -3.71647301e-02, -1.09590088e-01, -6.23146260e-02,\n",
       "        1.39394372e-01,  1.25581028e-02,  6.14249962e-02, -1.08232108e-01,\n",
       "        3.15179722e-02, -7.47768471e-02, -2.98413253e-02,  9.94565944e-02,\n",
       "        8.36744348e-02, -1.79426308e-02,  1.67130839e-01, -1.36104207e-01,\n",
       "        9.32259487e-02, -3.80734978e-02, -1.03570346e-01,  2.27754918e-01,\n",
       "        4.26542378e-02,  4.18789443e-02,  2.89206786e-02,  7.72882833e-02,\n",
       "       -1.98841709e-01,  3.19650627e-03,  5.73757632e-03,  1.21655718e-01,\n",
       "       -3.64679480e-02,  6.61343592e-02,  1.31291198e-04,  1.72980889e-02,\n",
       "       -5.26511157e-03, -9.21945911e-02,  3.27244372e-02, -7.70644328e-02,\n",
       "       -3.42393867e-01, -2.65066612e-02, -7.57163489e-03,  7.52846798e-02,\n",
       "        1.43692212e-02, -1.26177491e-01,  4.12381514e-02,  7.92482456e-02,\n",
       "        9.85325609e-02, -2.28218985e-02, -1.37872302e-01,  5.49440089e-02,\n",
       "        1.32577688e-01,  6.16926586e-02, -9.45350594e-02, -1.44025635e-01,\n",
       "       -5.19746169e-02,  1.29138239e-01,  1.01839630e-02,  4.10149914e-02,\n",
       "       -5.69795756e-02, -8.79211915e-02, -1.46540577e-01,  9.68976307e-03,\n",
       "       -7.64330599e-02, -1.28016997e-02,  1.06637513e-01, -1.76757100e-02,\n",
       "       -4.11119347e-02, -1.89715916e-01,  8.09141927e-03,  1.62787629e-02,\n",
       "        1.04799780e-01,  9.35510864e-02, -5.54378181e-02, -5.84091859e-02,\n",
       "       -1.82424259e-02,  6.34818503e-02,  8.66254541e-02, -1.84369645e-01,\n",
       "       -2.31551045e-01, -1.09521404e-01, -7.21681562e-02, -7.40275980e-02,\n",
       "       -1.52736981e-01,  1.32002435e-01,  6.37812203e-02, -1.82081045e-01,\n",
       "        5.62200347e-02,  1.16221728e-01, -2.41725035e-02,  1.34768829e-01,\n",
       "        1.22176107e-01, -8.35241974e-02,  1.05986591e-02, -1.11998318e-01,\n",
       "       -1.37114758e-01,  3.96080213e-02,  4.95369376e-02, -1.89688391e-01,\n",
       "        6.74437061e-02, -6.39950121e-02,  6.18368666e-02, -3.23614891e-02,\n",
       "        1.19793402e-02, -1.18142479e-01, -1.10098599e-01, -7.47167640e-02,\n",
       "       -1.97552960e-01, -2.97759412e-01, -7.59423578e-02, -1.24626369e-01,\n",
       "       -4.41528831e-02,  3.79824473e-02, -1.99822429e-01,  5.37992172e-02,\n",
       "        4.21499047e-02,  2.45306415e-03,  8.12115609e-02,  3.42718042e-02,\n",
       "        1.38293989e-01, -8.38486015e-02, -9.78890567e-02, -8.20006806e-02,\n",
       "        1.73141922e-02, -8.31741360e-02, -6.26434441e-02,  1.97045315e-02,\n",
       "        9.63075525e-02, -6.52913975e-02,  1.05963289e-01, -3.76962131e-02,\n",
       "       -1.15671063e-01,  1.58203267e-01, -1.88033789e-01,  3.46934658e-02,\n",
       "       -1.31601871e-01,  1.24680411e-01,  1.57335149e-01, -2.70837676e-02,\n",
       "       -1.42321901e-01,  5.27063719e-05, -6.36512447e-02,  8.73529595e-03,\n",
       "        6.77834127e-02, -2.52452427e-02, -1.46405862e-02, -2.35583307e-02,\n",
       "        8.00911444e-03, -9.11248321e-02, -2.71336505e-02,  6.40662495e-02,\n",
       "        4.89955098e-02,  1.28384174e-01, -5.48264189e-02,  5.20048431e-02,\n",
       "        1.66527206e-01,  5.67778791e-02,  1.71887572e-01,  9.23203047e-02,\n",
       "        2.95354968e-02,  1.32731724e-01,  1.92116074e-02, -1.55688364e-02,\n",
       "        6.45852965e-02,  2.52091554e-02, -2.45871451e-01,  1.21506158e-01,\n",
       "       -7.68590498e-03, -9.45545029e-03, -8.70422085e-02,  1.59293290e-01,\n",
       "       -6.46635951e-02, -2.08024691e-02, -8.42033237e-02, -1.23044940e-02,\n",
       "       -5.75890964e-02,  8.76170234e-03,  9.50278831e-02,  2.65499691e-02,\n",
       "        7.29477447e-02, -2.41850738e-02,  2.10344656e-02, -6.74898854e-03,\n",
       "       -1.78806670e-02,  6.73482473e-02,  6.67537312e-03,  3.56264937e-03,\n",
       "        1.28963165e-01,  9.87997015e-03,  2.43925062e-02, -1.41548344e-01,\n",
       "       -7.25376809e-02, -1.49773647e-02, -5.33221551e-02, -2.89464417e-02,\n",
       "        6.09004216e-02, -3.15112294e-02,  2.71476669e-02, -7.26401759e-02,\n",
       "        1.09793120e-01, -1.61940297e-02,  1.24599171e-02,  8.97974274e-05,\n",
       "       -2.02653282e-01, -4.47939383e-02, -1.34523620e-01, -1.11490106e-02,\n",
       "       -8.66448066e-02, -1.53748652e-01, -7.12978423e-02,  1.09735052e-01,\n",
       "        1.79425097e-02, -1.07334800e-01, -1.57438359e-01, -9.04595276e-02,\n",
       "       -7.44114972e-02, -1.05248511e-01, -4.85234911e-02, -1.07549186e-01,\n",
       "        2.05186147e-02, -7.21610918e-02,  6.86675000e-02, -4.44133097e-02,\n",
       "       -6.03092981e-02,  7.51071257e-02, -1.23584530e-01, -2.44972946e-03,\n",
       "        9.76333773e-02,  5.79199168e-02, -2.45886405e-02, -5.46513376e-02,\n",
       "        4.03961772e-02, -1.49100168e-01,  4.27264761e-02, -1.05777042e-01,\n",
       "       -8.30364285e-02,  3.77307421e-02, -5.42892805e-02,  3.40411884e-02,\n",
       "       -5.34898453e-04, -7.76643916e-02, -1.94261140e-01,  4.54404207e-02,\n",
       "        3.15931379e-01,  6.46751704e-03, -5.73738024e-02, -6.02354435e-02,\n",
       "        4.45192431e-02,  6.91587799e-02, -1.03019629e-01, -2.52936735e-02,\n",
       "        3.63336507e-02,  6.79044311e-02, -1.58345069e-01, -1.65181813e-02,\n",
       "        1.30732408e-01, -3.08171978e-02, -2.72786977e-03,  7.27999975e-02,\n",
       "        1.18918606e-02,  8.92664963e-02,  1.56814671e-01, -6.47940246e-02,\n",
       "       -9.94288441e-02, -1.72682819e-02,  3.24149434e-02, -4.03132314e-03,\n",
       "       -7.62798645e-02,  1.14907033e-01, -1.73633673e-02,  8.13446998e-02,\n",
       "       -2.76182980e-03, -2.65236222e-01,  2.26290185e-02, -4.95425444e-02,\n",
       "       -1.30028922e-01, -6.51030219e-02, -1.92844690e-01,  1.08749406e-04,\n",
       "       -5.59251651e-02, -6.36170240e-02,  3.24190797e-02, -1.78937565e-02,\n",
       "        4.22783376e-03, -6.64090929e-02,  1.54828729e-02, -9.39156084e-02,\n",
       "       -1.11939832e-01,  2.44703510e-02, -1.04703661e-01, -1.52870019e-03,\n",
       "       -2.71557992e-02, -4.37456970e-02,  1.43216918e-01,  3.14368059e-02,\n",
       "       -1.30136387e-01, -4.54943784e-03, -1.74879671e-02,  4.11463833e-02,\n",
       "        2.53750867e-01,  3.06870874e-02,  5.61270871e-02,  7.03931439e-02,\n",
       "       -1.43111969e-01, -5.19550869e-02,  3.01868747e-02,  3.83421062e-03,\n",
       "        1.45573252e-01,  3.42936634e-02,  2.81186563e-01,  3.88693462e-02,\n",
       "        9.93770862e-03, -5.06474948e-03, -7.15235859e-02, -5.45023458e-02,\n",
       "        7.04239699e-02,  1.21540071e-01, -1.98409851e-01,  1.22055481e-02,\n",
       "        8.20245463e-02, -5.32571562e-02,  1.21345244e-01,  9.86184582e-03,\n",
       "       -9.44335897e-02, -7.00921391e-02,  4.01453118e-02, -4.33285169e-02,\n",
       "        1.05668695e-01,  5.54690609e-02,  5.02536229e-02,  8.99849691e-02,\n",
       "        1.76038389e-01,  1.23321418e-01,  5.93145408e-02, -1.75199699e-03,\n",
       "        6.68190793e-02, -1.29740289e-02,  3.42516335e-02, -7.61188682e-02,\n",
       "       -6.05356783e-02,  7.47308242e-02, -4.30657662e-02,  1.20587650e-02,\n",
       "       -6.09353305e-03, -1.22518590e-01, -1.30475362e-01,  3.79651016e-02,\n",
       "       -2.18814480e-02,  1.57576147e-01, -1.42864367e-01,  5.88861822e-02,\n",
       "        4.22931002e-02,  1.02261480e-02, -1.52249318e-01, -4.16726243e-03,\n",
       "       -1.52776876e-01, -4.30816858e-03, -8.21756767e-02,  4.74200077e-03,\n",
       "        5.89232493e-02, -7.29888105e-03,  4.56587005e-02,  4.52970889e-02,\n",
       "        8.21418349e-02,  1.47776594e-01, -8.53641905e-02,  3.95847208e-02,\n",
       "       -6.20043806e-02,  1.38677527e-01, -8.86717501e-02,  2.15500568e-01,\n",
       "        5.35567857e-02, -1.07997989e-01, -4.27649296e-02,  8.19563093e-02,\n",
       "        2.56359267e-02,  5.52891592e-02,  1.16132075e-01, -1.47497131e-01,\n",
       "        6.81923748e-02,  1.18344937e-01,  4.28075247e-02, -6.72619391e-02,\n",
       "       -6.60204799e-04, -2.07509868e-01,  7.30456026e-02, -6.86244297e-02,\n",
       "        2.06469318e-01, -1.36814667e-01,  3.49175179e-02,  5.12621592e-03,\n",
       "       -5.31855502e-02, -1.33973098e-01,  3.79601958e-02, -3.75342017e-02,\n",
       "       -8.05669204e-02, -4.06483960e-02,  4.36720586e-02,  1.41124074e-01])"
      ]
     },
     "execution_count": 31,
     "metadata": {},
     "output_type": "execute_result"
    }
   ],
   "source": [
    "np.random.normal(0, 0.1, 1000)"
   ]
  },
  {
   "cell_type": "code",
   "execution_count": 32,
   "metadata": {},
   "outputs": [],
   "source": [
    "# The data is being centered around the first number, if you change it around you can see.\n",
    "x = np.random.normal(15, 7, 1000)"
   ]
  },
  {
   "cell_type": "code",
   "execution_count": 33,
   "metadata": {},
   "outputs": [
    {
     "data": {
      "text/plain": [
       "(array([ 10.,  37.,  84., 175., 219., 231., 148.,  76.,  17.,   3.]),\n",
       " array([-4.91132903, -0.74409615,  3.42313673,  7.59036962, 11.7576025 ,\n",
       "        15.92483538, 20.09206826, 24.25930114, 28.42653402, 32.5937669 ,\n",
       "        36.76099978]),\n",
       " <a list of 10 Patch objects>)"
      ]
     },
     "execution_count": 33,
     "metadata": {},
     "output_type": "execute_result"
    },
    {
     "data": {
      "image/png": "[encoded data removed]",
      "text/plain": [
       "<Figure size 432x288 with 1 Axes>"
      ]
     },
     "metadata": {
      "needs_background": "light"
     },
     "output_type": "display_data"
    }
   ],
   "source": [
    "# Shows the data on the x axis\n",
    "plt.hist(x)"
   ]
  },
  {
   "cell_type": "markdown",
   "metadata": {},
   "source": [
    "## Bibliography\n",
    "\n",
    "SciPy.org, 2018, Viewed on 2019/10/18, https://docs.scipy.org/doc/numpy-1.15.0/reference/routines.random.html\n",
    "\n",
    "APMonitor, Youtube, 2017, viewed on 2019/11/04, https://www.youtube.com/watch?v=Z2zUGmqIDto \n",
    "\n",
    "Stackoverflow, 2017, viewed on 2019/11/04, (https://stackoverflow.com/questions/15474159/shuffle-vs-permute-numpy)\n",
    "\n",
    "Py.Native, 2019, viewed on the 2019/11/05, https://pynative.com/python-random-shuffle/\n",
    "\n",
    "Crazy Geeks, 2019, viewed on the 2019/11/07, https://www.crazygeeks.org/numpy-random-rand-in-python/\n",
    "\n",
    "Chris Albon, 2017, viewed on 2019/11/07,  https://chrisalbon.com/python/basics/generating_random_numbers_with_numpy/\n",
    "\n",
    "Machinemastery, 2019, viewed on the 2019/11/07, https://machinelearningmastery.com/how-to-generate-random-numbers-in-python/\n",
    "\n",
    "Statistics How To, 2013, viewed on the 2019/11/07, https://www.statisticshowto.datasciencecentral.com/poisson-distribution/\n",
    "\n",
    "Britannica, 2019, viewed on the 2019/11/07, https://www.britannica.com/biography/Simeon-Denis-Poisson\n",
    "\n",
    "Stats To Do, 2014, viewwed on 2019/11/07, https://www.statstodo.com/Poisson_Exp.php\n"
   ]
  },
  {
   "cell_type": "code",
   "execution_count": null,
   "metadata": {},
   "outputs": [],
   "source": []
  }
 ],
 "metadata": {
  "kernelspec": {
   "display_name": "Python 3",
   "language": "python",
   "name": "python3"
  },
  "language_info": {
   "codemirror_mode": {
    "name": "ipython",
    "version": 3
   },
   "file_extension": ".py",
   "mimetype": "text/x-python",
   "name": "python",
   "nbconvert_exporter": "python",
   "pygments_lexer": "ipython3",
   "version": "3.7.1"
  }
 },
 "nbformat": 4,
 "nbformat_minor": 2
}
