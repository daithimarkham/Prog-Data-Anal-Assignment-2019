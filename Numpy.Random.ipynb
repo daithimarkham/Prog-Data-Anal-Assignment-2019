{
 "cells": [
  {
   "cell_type": "markdown",
   "metadata": {},
   "source": [
    "# Numpy.Random Package.\n",
    "![title](NumpyImage.jpg) Source(APMonitor.com)"
   ]
  },
  {
   "cell_type": "markdown",
   "metadata": {},
   "source": [
    "## Numpy.Random package.\n",
    "Creates random numbers and arrays. Whenever you want to generate an array of random numbers you need to use numpy.random, which has multiple functions. These functions generate the random n-dimensional array/arrays for various distributions, size, mean, width, colour on histograms and plots, etc, which we will be discussing later below.\n",
    "\n",
    "The use of randomness is an important part of the configuration and evaluation of machine learning algorithms.\n",
    "\n",
    "From the random initialization of weights in an artificial neural network, to the splitting of data into random train and test sets, to the random shuffling of a training dataset in stochastic gradient descent, generating random numbers and harnessing randomness is a required skill. (Machinemastery, 2019)\n",
    "\n",
    "Below we will discover how to generate and work with random numbers in Python.\n",
    "\n",
    "**Pseudorandom Number Generators**\n",
    "\n",
    "\n",
    "The source of randomness that we inject into our programs and algorithms is a mathematical trick called a pseudorandom number generator.\n",
    "\n",
    "A random number generator is a system that generates random numbers from a true source of randomness. Often something physical, such as a Geiger counter, where the results are turned into random numbers. We do not need true randomness in machine learning. Instead we can use pseudorandomness. Pseudorandomness is a sample of numbers that look close to random, but were generated using a deterministic process.\n",
    "\n",
    "Shuffling data and initializing coefficients with random values use pseudorandom number generators. These little programs are often a function that you can call that will return a random number. Called again, they will return a new random number. Wrapper functions are often also available and allow you to get your randomness as an integer, floating point, within a specific distribution, within a specific range, and so on.\n",
    "\n",
    "The numbers are generated in a sequence. The sequence is deterministic and is seeded with an initial number. If you do not explicitly seed the pseudorandom number generator, then it may use the current system time in seconds or milliseconds as the seed.\n",
    "\n",
    "The value of the seed does not matter. Choose anything you wish. What does matter is that the same seeding of the process will result in the same sequence of random numbers.\n",
    "\n",
    "\n",
    "Below we will discover how to generate and work with random numbers in Python. (Machinemastery, 2019)\n"
   ]
  },
  {
   "cell_type": "markdown",
   "metadata": {},
   "source": [
    "## Simple Random Data.\n",
    "### How to the Numpy Ramdom module. \n",
    "- The random package has many functions to help generate numberous different types of numbers. We will see below how to use these functions. \n",
    "- You will need to import the numpy package below. (import numpy as np)"
   ]
  },
  {
   "cell_type": "markdown",
   "metadata": {},
   "source": [
    "There are many ways to generate random numbers. Numpy.random creates random values in a given shape, returns a sample/samples, from the standard normal distribution. It returns random integers from low to high. Below, we can look at some.\n",
    "\n",
    "#### Code below, adapted from SciPy.org, Stackoverflow and Py.Native."
   ]
  },
  {
   "cell_type": "code",
   "execution_count": 1,
   "metadata": {},
   "outputs": [],
   "source": [
    "# Import Numpy Package\n",
    "import numpy as np"
   ]
  },
  {
   "cell_type": "markdown",
   "metadata": {},
   "source": [
    "#### np.random.normal"
   ]
  },
  {
   "cell_type": "code",
   "execution_count": 2,
   "metadata": {},
   "outputs": [
    {
     "name": "stdout",
     "output_type": "stream",
     "text": [
      "Generating random number using random.normal()\n"
     ]
    },
    {
     "data": {
      "text/plain": [
       "0.1608871622648016"
      ]
     },
     "execution_count": 2,
     "metadata": {},
     "output_type": "execute_result"
    }
   ],
   "source": [
    "# Generates a random number from the normal distribution.\n",
    "print(\"Generating random number using random.normal()\")\n",
    "np.random.normal()"
   ]
  },
  {
   "cell_type": "code",
   "execution_count": 3,
   "metadata": {},
   "outputs": [
    {
     "data": {
      "text/plain": [
       "array([-0.84408657, -0.85555494, -0.84441244, -0.33993398])"
      ]
     },
     "execution_count": 3,
     "metadata": {},
     "output_type": "execute_result"
    }
   ],
   "source": [
    "# Generates 4 random numbers from the normal distribution.\n",
    "np.random.normal(size=4)"
   ]
  },
  {
   "cell_type": "markdown",
   "metadata": {},
   "source": [
    "#### np.random.rand\n",
    "- Numpy creates arrays. Random numbers in this case between 0 and 1.\n",
    "- Contains arrays, floating numbers."
   ]
  },
  {
   "cell_type": "code",
   "execution_count": 4,
   "metadata": {},
   "outputs": [
    {
     "data": {
      "text/plain": [
       "array([[0.48574272, 0.07872928],\n",
       "       [0.80360323, 0.47599448],\n",
       "       [0.01053346, 0.65976925],\n",
       "       [0.11990936, 0.51218514]])"
      ]
     },
     "execution_count": 4,
     "metadata": {},
     "output_type": "execute_result"
    }
   ],
   "source": [
    "# Contains arrays, floating numbers.\n",
    "np.random.rand(4,2)"
   ]
  },
  {
   "cell_type": "markdown",
   "metadata": {},
   "source": [
    "- Get an array with 9 elements in it."
   ]
  },
  {
   "cell_type": "code",
   "execution_count": 5,
   "metadata": {},
   "outputs": [
    {
     "data": {
      "text/plain": [
       "array([0.24143165, 0.35288791, 0.80037428, 0.46166623, 0.79150169,\n",
       "       0.89949571, 0.2977329 , 0.67101058, 0.99261763])"
      ]
     },
     "execution_count": 5,
     "metadata": {},
     "output_type": "execute_result"
    }
   ],
   "source": [
    "# Displays 9 elements.\n",
    "np.random.rand(9)"
   ]
  },
  {
   "cell_type": "markdown",
   "metadata": {},
   "source": [
    "- Displays two arrays, four rows and thee columns."
   ]
  },
  {
   "cell_type": "code",
   "execution_count": 6,
   "metadata": {},
   "outputs": [
    {
     "data": {
      "text/plain": [
       "array([[[0.42867006, 0.21541106, 0.11732787],\n",
       "        [0.3041599 , 0.05263622, 0.15800554],\n",
       "        [0.84334723, 0.71888751, 0.98324581],\n",
       "        [0.3652663 , 0.48452133, 0.03932181]],\n",
       "\n",
       "       [[0.66159076, 0.83561581, 0.24171946],\n",
       "        [0.67334508, 0.4123216 , 0.08661627],\n",
       "        [0.51518215, 0.2081508 , 0.0900214 ],\n",
       "        [0.21914601, 0.42205634, 0.97227609]]])"
      ]
     },
     "execution_count": 6,
     "metadata": {},
     "output_type": "execute_result"
    }
   ],
   "source": [
    "# Generates random data, and ouputs in arrays, rows and columns.\n",
    "np.random.rand(2,4,3)"
   ]
  },
  {
   "cell_type": "code",
   "execution_count": 7,
   "metadata": {},
   "outputs": [
    {
     "name": "stdout",
     "output_type": "stream",
     "text": [
      "1D random values array : \n",
      " [0.63210028 0.39778037 0.62670996 0.83569207 0.65600239 0.92241277\n",
      " 0.73174543 0.24825522 0.02746409 0.0122771  0.29201389 0.45419344\n",
      " 0.33807555 0.19950003 0.46668963]\n"
     ]
    }
   ],
   "source": [
    "array = np.random.rand(15) # Prints an array with 15 random values from 0 to 1.\n",
    "print(\"1D random values array : \\n\", array);"
   ]
  },
  {
   "cell_type": "markdown",
   "metadata": {},
   "source": [
    "To display the numbers on a histogram."
   ]
  },
  {
   "cell_type": "code",
   "execution_count": 8,
   "metadata": {},
   "outputs": [],
   "source": [
    "x = np.random.rand(1000)"
   ]
  },
  {
   "cell_type": "code",
   "execution_count": 9,
   "metadata": {},
   "outputs": [
    {
     "data": {
      "text/plain": [
       "<function matplotlib.pyplot.show(*args, **kw)>"
      ]
     },
     "execution_count": 9,
     "metadata": {},
     "output_type": "execute_result"
    },
    {
     "data": {
      "image/png": "[encoded data removed]",
      "text/plain": [
       "<Figure size 432x288 with 1 Axes>"
      ]
     },
     "metadata": {
      "needs_background": "light"
     },
     "output_type": "display_data"
    }
   ],
   "source": [
    "# Histogram shows the most typical values out of 1000 and displays in a bar chart.\n",
    "%matplotlib inline\n",
    "import matplotlib.pyplot as plt\n",
    "plt.hist(x)\n",
    "plt.show # this will display if the above command does not display. \n",
    "# If the above is not displaying type in %matplotlib inline"
   ]
  },
  {
   "cell_type": "markdown",
   "metadata": {},
   "source": [
    "#### Np.random.randint\n",
    "- Random integer values can be generated with the randint() function. \n",
    "- Takes in two arguments, the start and the end of the range."
   ]
  },
  {
   "cell_type": "code",
   "execution_count": 10,
   "metadata": {},
   "outputs": [
    {
     "data": {
      "text/plain": [
       "array([1, 0, 1, 0, 1, 1, 1, 1, 0, 1])"
      ]
     },
     "execution_count": 10,
     "metadata": {},
     "output_type": "execute_result"
    }
   ],
   "source": [
    "np.random.randint(2, size=10) # Function calls numbers bewteen 1 and 2, and size is 10."
   ]
  },
  {
   "cell_type": "code",
   "execution_count": 11,
   "metadata": {},
   "outputs": [
    {
     "data": {
      "text/plain": [
       "array([85, 80, 10, 85])"
      ]
     },
     "execution_count": 11,
     "metadata": {},
     "output_type": "execute_result"
    }
   ],
   "source": [
    "# Generates four random integers.\n",
    "np.random.randint(low=1, high=100, size=4) # Function calls random int from 1 to 100, returns four values."
   ]
  },
  {
   "cell_type": "code",
   "execution_count": 12,
   "metadata": {},
   "outputs": [
    {
     "data": {
      "text/plain": [
       "array([[0, 1, 1, 0],\n",
       "       [2, 0, 3, 1]])"
      ]
     },
     "execution_count": 12,
     "metadata": {},
     "output_type": "execute_result"
    }
   ],
   "source": [
    "# Returns, two arrays, with four integers, numbers bewteen 0 and 5.\n",
    "np.random.randint(5, size=(2, 4))"
   ]
  },
  {
   "cell_type": "markdown",
   "metadata": {},
   "source": [
    "Random values are drawn from a <a href=\"https://docs.scipy.org/doc/numpy-1.15.0/reference/generated/numpy.random.uniform.html#numpy.random.uniform\" target=\"_blank\">uniform distribution.</a>\n",
    "\n",
    "- Samples are uniformly distributed over the half-open interval [low, high) (includes low, but excludes high). In other words, any value within the given interval is equally likely to be drawn by uniform. (Machinemastery, 2019)\n",
    "\n",
    "The example below generates 10 random integer values between 0 and 10."
   ]
  },
  {
   "cell_type": "code",
   "execution_count": 13,
   "metadata": {},
   "outputs": [
    {
     "name": "stdout",
     "output_type": "stream",
     "text": [
      "2\n",
      "9\n",
      "1\n",
      "4\n",
      "1\n",
      "7\n",
      "7\n",
      "7\n",
      "10\n",
      "6\n"
     ]
    }
   ],
   "source": [
    "# generate random integer values\n",
    "# Code adapted from Machinemastery.com\n",
    "from random import seed\n",
    "from random import randint\n",
    "# seed random number generator\n",
    "seed(1)\n",
    "# generate some integers\n",
    "for _ in range(10):\n",
    "    value = randint(0, 10)\n",
    "    print(value)"
   ]
  },
  {
   "cell_type": "markdown",
   "metadata": {},
   "source": [
    "#### Numpy.random.choice\n",
    "-  Generates a random sample from a given 1-D array\n"
   ]
  },
  {
   "cell_type": "code",
   "execution_count": 14,
   "metadata": {},
   "outputs": [
    {
     "data": {
      "text/plain": [
       "array([4, 1, 1])"
      ]
     },
     "execution_count": 14,
     "metadata": {},
     "output_type": "execute_result"
    }
   ],
   "source": [
    "# Generate a uniform random sample from np.arange(5) of size 3:\n",
    "np.random.choice(5, 3)"
   ]
  },
  {
   "cell_type": "markdown",
   "metadata": {},
   "source": [
    "#### Numpy.random.ranf\n",
    "-Return random floats in the half-open interval [0.0, 1.0)."
   ]
  },
  {
   "cell_type": "code",
   "execution_count": 15,
   "metadata": {
    "scrolled": true
   },
   "outputs": [
    {
     "data": {
      "text/plain": [
       "0.43758849012204193"
      ]
     },
     "execution_count": 15,
     "metadata": {},
     "output_type": "execute_result"
    }
   ],
   "source": [
    "# numpy.random.ranf\n",
    "np.random.random_sample()"
   ]
  },
  {
   "cell_type": "markdown",
   "metadata": {},
   "source": [
    "- Displays what type of an integer it is."
   ]
  },
  {
   "cell_type": "code",
   "execution_count": 16,
   "metadata": {},
   "outputs": [
    {
     "data": {
      "text/plain": [
       "float"
      ]
     },
     "execution_count": 16,
     "metadata": {},
     "output_type": "execute_result"
    }
   ],
   "source": [
    "# Type of number\n",
    "type(np.random.random_sample())"
   ]
  },
  {
   "cell_type": "markdown",
   "metadata": {},
   "source": [
    "- Displays five random numbers."
   ]
  },
  {
   "cell_type": "code",
   "execution_count": 17,
   "metadata": {},
   "outputs": [
    {
     "data": {
      "text/plain": [
       "array([0.19976175, 0.74360626, 0.33105718, 0.0807975 , 0.05083861])"
      ]
     },
     "execution_count": 17,
     "metadata": {},
     "output_type": "execute_result"
    }
   ],
   "source": [
    "# Number of random numbers.\n",
    "np.random.random_sample((5,))"
   ]
  },
  {
   "cell_type": "markdown",
   "metadata": {},
   "source": [
    "- Three-by-two array of random numbers from [-5, 0)"
   ]
  },
  {
   "cell_type": "code",
   "execution_count": 18,
   "metadata": {
    "scrolled": true
   },
   "outputs": [
    {
     "data": {
      "text/plain": [
       "array([[-2.99201207, -1.10834463],\n",
       "       [-1.91496026, -2.30411394],\n",
       "       [-0.94545446, -2.22775492]])"
      ]
     },
     "execution_count": 18,
     "metadata": {},
     "output_type": "execute_result"
    }
   ],
   "source": [
    "# Three rows, two columns, numbers between -5 and 0.\n",
    "5 * np.random.random_sample((3, 2)) - 5"
   ]
  },
  {
   "cell_type": "markdown",
   "metadata": {},
   "source": [
    "#### Numpy.random.bytes"
   ]
  },
  {
   "cell_type": "code",
   "execution_count": 19,
   "metadata": {},
   "outputs": [
    {
     "data": {
      "text/plain": [
       "b'\\n\\x15\\xff\\xe3\\t\\x03a\\xd3\\x9f\\n\\xc9\\xabN\\xe1#\\xdb\\x14}'"
      ]
     },
     "execution_count": 19,
     "metadata": {},
     "output_type": "execute_result"
    }
   ],
   "source": [
    "# Returns random bytes.\n",
    "np.random.bytes(18)"
   ]
  },
  {
   "cell_type": "code",
   "execution_count": 20,
   "metadata": {},
   "outputs": [
    {
     "name": "stdout",
     "output_type": "stream",
     "text": [
      "3D random values array : \n",
      " [[[0.60563706 0.79550039 0.23571256]\n",
      "  [0.68364621 0.36593616 0.27514691]\n",
      "  [0.95606203 0.50337748 0.06358992]]\n",
      "\n",
      " [[0.32824382 0.39741459 0.98696517]\n",
      "  [0.0443828  0.28592079 0.4433953 ]\n",
      "  [0.99325613 0.63183482 0.19524499]]\n",
      "\n",
      " [[0.61989986 0.64536267 0.49467285]\n",
      "  [0.67208856 0.75476789 0.11200728]\n",
      "  [0.45839253 0.47286474 0.98749397]]]\n"
     ]
    }
   ],
   "source": [
    "# Generating 3 dimentional array. \n",
    "array = np.random.rand(3,3,3) # Function for three arrays.\n",
    "print(\"3D random values array : \\n\", array);"
   ]
  },
  {
   "cell_type": "markdown",
   "metadata": {},
   "source": [
    "## Permutations \n",
    "- Next we will look at permutations shuffle and permutation , which is randomly permute a sequence, or return a permuted range.\n",
    "\n",
    "- Generally Numpy random.shuffle and random.permutation both shuffle elements in an array.\n",
    "\n"
   ]
  },
  {
   "cell_type": "markdown",
   "metadata": {},
   "source": [
    "#### Numpy.random.shuffle(x)\n",
    "- Random.shuffle function used to shuffle the sequence in place, it changes the position of items in a list.\n",
    "- Modify a sequence in-place by shuffling its contents."
   ]
  },
  {
   "cell_type": "code",
   "execution_count": 21,
   "metadata": {},
   "outputs": [
    {
     "data": {
      "text/plain": [
       "array([6, 1, 3, 7, 8, 0, 4, 5, 9, 2])"
      ]
     },
     "execution_count": 21,
     "metadata": {},
     "output_type": "execute_result"
    }
   ],
   "source": [
    "# Randomly shuffles the list.\n",
    "arr = np.arange(10)\n",
    "np.random.shuffle(arr)\n",
    "arr"
   ]
  },
  {
   "cell_type": "markdown",
   "metadata": {},
   "source": [
    "- If you want to shuffle as per your need, then you can pass your custom random function in the place of random argument, which will dictate shuffle function, and how it randomizes the items of a list. (Py.Native, 2019)\n",
    "- Can do the same with strings.\n"
   ]
  },
  {
   "cell_type": "code",
   "execution_count": 22,
   "metadata": {
    "scrolled": true
   },
   "outputs": [
    {
     "name": "stdout",
     "output_type": "stream",
     "text": [
      "List :  [5, 32, 21, 22, 56, 36, 34, 56, 6, 23]\n",
      "After first shuffle  :  [36, 56, 5, 56, 22, 32, 34, 6, 21, 23]\n",
      "After second shuffle :  [36, 21, 23, 56, 32, 34, 6, 5, 22, 56]\n"
     ]
    }
   ],
   "source": [
    "number_list = [5, 32, 21, 22, 56, 36, 34, 56, 6, 23]\n",
    "print (\"List : \",  number_list)\n",
    "\n",
    "np.random.shuffle(number_list)\n",
    "print (\"After first shuffle  : \",  number_list)\n",
    "\n",
    "np.random.shuffle(number_list)\n",
    "print (\"After second shuffle : \",  number_list)"
   ]
  },
  {
   "cell_type": "markdown",
   "metadata": {},
   "source": [
    "- Shuffle a list of strings."
   ]
  },
  {
   "cell_type": "code",
   "execution_count": 23,
   "metadata": {},
   "outputs": [
    {
     "name": "stdout",
     "output_type": "stream",
     "text": [
      "Original String list:  ['Let it rain', 'Chelsea Football Club', 'John is there', \"Don't do it\", 'He left to go shopping', 'The bus stop', 'Leave the ball']\n",
      "String List after the first shuffle:  ['The bus stop', 'John is there', \"Don't do it\", 'Chelsea Football Club', 'Let it rain', 'He left to go shopping', 'Leave the ball']\n",
      "String List after the second shuffle:  ['The bus stop', 'Chelsea Football Club', 'Let it rain', \"Don't do it\", 'He left to go shopping', 'Leave the ball', 'John is there']\n"
     ]
    }
   ],
   "source": [
    "string_list = [\"Let it rain\", \"Chelsea Football Club\", \"John is there\", \"Don't do it\", \"He left to go shopping\", \"The bus stop\", \"Leave the ball\"]\n",
    "print (\"Original String list: \",  string_list) # Create a list which we will use a function to shuffle below.\n",
    "\n",
    "\n",
    "np.random.shuffle(string_list) # Random function shuflles list, generates list in different order to original.\n",
    "print (\"String List after the first shuffle: \",  string_list)\n",
    "\n",
    "\n",
    "\n",
    "np.random.shuffle(string_list) # Same as above, random shuffles again, using the same function as above.\n",
    "print (\"String List after the second shuffle: \",  string_list)\n"
   ]
  },
  {
   "cell_type": "markdown",
   "metadata": {},
   "source": [
    "- Below we can shuffle a string."
   ]
  },
  {
   "cell_type": "code",
   "execution_count": 24,
   "metadata": {},
   "outputs": [
    {
     "name": "stdout",
     "output_type": "stream",
     "text": [
      "Original String:  chocolate\n",
      "shuffled String is:  ceotaochl\n"
     ]
    }
   ],
   "source": [
    "# Randomly shuffles a string\n",
    "string_one = \"chocolate\" # Setting variable \n",
    "print (\"Original String: \", string_one)# Prints output of original string.\n",
    "\n",
    "char_list = list(string_one) # Function for string we want to shuffle.\n",
    "\n",
    "\n",
    "np.random.shuffle(char_list) # Function for shuffling the string.\n",
    "\n",
    "string_one = ''.join(char_list)\n",
    "print (\"shuffled String is: \", string_one) # Prints shuffled string from original string."
   ]
  },
  {
   "cell_type": "markdown",
   "metadata": {},
   "source": [
    "#### Numpy.random.permutation(x) \n",
    "\n",
    "\n",
    "Randomly permute a sequence, or return a permuted range. If x is a multi-dimensional array, it is only shuffled along its first index. (Sci.py.org)\n",
    "\n",
    "- Generally, in Numpy, both random.permutation and random.shuffle randomly shuffle elements in an array. But there are differences:\n",
    "\n",
    "- If you want to generate random permutations of x, then what is the difference between shuffle(x) and permutation(x)?\n",
    "- np.random.permutation has two differences from np.random.shuffle:\n",
    "\n",
    "   - If passed an array, it will return a shuffled copy of the array; np.random.shuffle shuffles the array in place.\n",
    "   - If passed an integer, it will return a shuffled range i.e. np.random.shuffle(np.arange(n))\n",
    "- If x is an integer, randomly permute np.arange(x). If x is an array, make a copy and shuffle the elements randomly.\n",
    "- np.random.permutation is useful when you need to shuffle ordered pairs, especially for classification:\n",
    "\n",
    "(https://stackoverflow.com/questions/15474159/shuffle-vs-permute-numpy)"
   ]
  },
  {
   "cell_type": "code",
   "execution_count": 25,
   "metadata": {},
   "outputs": [
    {
     "data": {
      "text/plain": [
       "array([9, 8, 6, 2, 7, 0, 5, 4, 3, 1])"
      ]
     },
     "execution_count": 25,
     "metadata": {},
     "output_type": "execute_result"
    }
   ],
   "source": [
    "# Displays all the numbers from 0 to the number you enter.\n",
    "np.random.permutation(10)# Function which randomly returns a permuted range of numbers between 0 and 10."
   ]
  },
  {
   "cell_type": "code",
   "execution_count": 26,
   "metadata": {
    "scrolled": true
   },
   "outputs": [
    {
     "data": {
      "text/plain": [
       "array([ 9,  1, 12, 15,  4])"
      ]
     },
     "execution_count": 26,
     "metadata": {},
     "output_type": "execute_result"
    }
   ],
   "source": [
    "# Outputs the numbers you entered, randomly.\n",
    "np.random.permutation([1, 4, 9, 12, 15]) # Random permutation function, for returning numbers you enetered in any order."
   ]
  },
  {
   "cell_type": "code",
   "execution_count": 27,
   "metadata": {
    "scrolled": true
   },
   "outputs": [
    {
     "data": {
      "text/plain": [
       "array([[0, 1, 2],\n",
       "       [6, 7, 8],\n",
       "       [3, 4, 5]])"
      ]
     },
     "execution_count": 27,
     "metadata": {},
     "output_type": "execute_result"
    }
   ],
   "source": [
    "# Displays nums between 0 and 9 in three rows.\n",
    "arr = np.arange(9).reshape((3, 3))\n",
    "np.random.permutation(arr)"
   ]
  },
  {
   "cell_type": "markdown",
   "metadata": {},
   "source": [
    "## Distribution Functions"
   ]
  },
  {
   "cell_type": "markdown",
   "metadata": {},
   "source": [
    "Uniform Distribution\n",
    "In statistics, a type of probability distribution in which all outcomes are equally likely; each variable has the same probability that it will be the outcome. A deck of cards has within it uniform distributions because the likelihood of drawing a heart, a club, a diamond or a spade is equally likely. A coin also has a uniform distribution because the probability of getting either heads or tails in a coin toss is the same.\n",
    "\n",
    "The uniform distribution can be visualized as a straight horizontal line, so for a coin flip returning a head or tail, both have a probability p = 0.50 and would be depicted by a line from the y-axis at 0.50."
   ]
  },
  {
   "cell_type": "code",
   "execution_count": 28,
   "metadata": {
    "scrolled": true
   },
   "outputs": [
    {
     "data": {
      "text/plain": [
       "array([4.62782642, 3.07722063, 4.52696601, 2.71658477, 2.65375809,\n",
       "       2.18596859, 4.97406296, 4.9325604 , 2.67915276, 3.27944585])"
      ]
     },
     "execution_count": 28,
     "metadata": {},
     "output_type": "execute_result"
    }
   ],
   "source": [
    "# Get a 1000 numbers back.\n",
    "# Random,rand will only give you numbers between 0 and 1.\n",
    "# Random uniform will give you any numbers.\n",
    "np.random.uniform(2,5,10)"
   ]
  },
  {
   "cell_type": "code",
   "execution_count": 29,
   "metadata": {},
   "outputs": [],
   "source": [
    "# Pretty much does the same thing as the rand function which we looked at above.\n",
    "x = np.random.uniform(0,1000,10000)"
   ]
  },
  {
   "cell_type": "code",
   "execution_count": 30,
   "metadata": {
    "scrolled": true
   },
   "outputs": [
    {
     "data": {
      "text/plain": [
       "(array([1047., 1001.,  936., 1009., 1001.,  978., 1036.,  985.,  988.,\n",
       "        1019.]),\n",
       " array([6.27657707e-02, 1.00052151e+02, 2.00041536e+02, 3.00030921e+02,\n",
       "        4.00020305e+02, 5.00009690e+02, 5.99999075e+02, 6.99988460e+02,\n",
       "        7.99977845e+02, 8.99967230e+02, 9.99956615e+02]),\n",
       " <a list of 10 Patch objects>)"
      ]
     },
     "execution_count": 30,
     "metadata": {},
     "output_type": "execute_result"
    },
    {
     "data": {
      "image/png": "[encoded data removed]",
      "text/plain": [
       "<Figure size 432x288 with 1 Axes>"
      ]
     },
     "metadata": {
      "needs_background": "light"
     },
     "output_type": "display_data"
    }
   ],
   "source": [
    "# Shows the numbers on a bar chart.\n",
    "plt.hist(x)"
   ]
  },
  {
   "cell_type": "markdown",
   "metadata": {},
   "source": [
    "### Numpy.Random.Normal.¶\n",
    "\n",
    "Draw random samples from a normal (Gaussian) distribution.\n",
    "\n",
    "\n",
    "The probability density function of the normal distribution, first derived by De Moivre and 200 years later by both Gauss and Laplace independently [R255], is often called the bell curve because of its characteristic shape (see the example below).\n",
    "\n",
    "\n",
    "The normal distributions occurs often in nature. For example, it describes the commonly occurring distribution of samples influenced by a large number of tiny, random disturbances, each with its own unique distribution\n",
    "\n",
    "\n",
    "Below the numbers with e-01 at the end of it, means multipy whatever came before the e by 10 to the minus 1 or divide by 10, e-02 means divide by 100 and so on.\n",
    "\n",
    "\n",
    "Can take more functions and see how they work if you like."
   ]
  },
  {
   "cell_type": "code",
   "execution_count": 31,
   "metadata": {},
   "outputs": [
    {
     "data": {
      "text/plain": [
       "array([ 1.11686760e-01, -7.97973066e-02,  7.63060028e-02, -5.27406011e-02,\n",
       "       -4.32249870e-02, -9.62836619e-02,  1.23199049e-01, -4.77601811e-02,\n",
       "        1.23892827e-01,  5.01425290e-02, -4.88714090e-03,  2.67364677e-01,\n",
       "        1.24253246e-02,  2.69608608e-02, -9.37439311e-02,  1.16015148e-01,\n",
       "        1.49455377e-03,  1.26396844e-01, -3.70399723e-02, -3.25065317e-01,\n",
       "        4.43475407e-02, -1.85718491e-02, -4.50881285e-02,  6.00267522e-02,\n",
       "        2.79705544e-02,  3.10855645e-02,  1.06136576e-01,  4.95659599e-02,\n",
       "       -1.07654327e-01,  1.11606627e-02, -1.01736392e-01,  1.10710300e-01,\n",
       "        3.43091496e-01,  7.95392705e-02, -3.49258382e-02, -1.16446271e-01,\n",
       "        8.43651636e-02, -1.28599279e-02, -5.03581958e-02,  7.01629683e-02,\n",
       "        1.25422101e-01, -1.65097747e-02, -6.06156405e-03,  7.73825234e-02,\n",
       "        1.29015164e-01,  1.21905437e-01, -6.82754598e-02, -1.99526719e-01,\n",
       "        8.59633212e-02, -1.01935346e-01, -8.52572294e-02,  9.89524361e-02,\n",
       "        2.20412987e-01, -7.68236174e-02, -1.00820149e-01,  5.04217456e-02,\n",
       "        1.44634121e-02,  2.36120465e-02,  5.19586082e-02, -1.26861795e-01,\n",
       "        6.50448983e-02, -8.79165935e-02, -1.08271029e-01,  2.16717665e-02,\n",
       "       -3.18564549e-02,  1.84077441e-01,  3.17548870e-02, -1.49212112e-01,\n",
       "       -5.46561323e-02, -1.03072663e-01,  4.23875414e-01, -1.70802151e-01,\n",
       "       -3.29893248e-02,  5.38145160e-02, -1.90462557e-02,  1.40411236e-01,\n",
       "       -2.65467500e-01, -1.25843599e-01,  2.24077945e-02, -9.69754190e-02,\n",
       "       -7.50598293e-02, -1.53681002e-01, -5.41261335e-02,  2.83670127e-01,\n",
       "       -1.88588206e-01,  8.64229695e-02,  3.49406431e-02, -2.66384591e-01,\n",
       "        4.14177973e-02, -1.04994412e-01,  1.24553262e-01,  7.13756483e-02,\n",
       "       -7.81825429e-02,  5.03833669e-02, -1.68805169e-02,  3.37438495e-02,\n",
       "        1.90068285e-01,  1.23301458e-02, -1.04491291e-02, -3.03495018e-02,\n",
       "        8.89261828e-02, -3.30247989e-03, -6.51695353e-02, -1.45212879e-01,\n",
       "        9.85709256e-04,  1.01109147e-02, -7.58745972e-02, -1.60423995e-01,\n",
       "       -2.60531438e-01,  7.04563590e-02, -3.37485774e-01,  1.13435446e-01,\n",
       "       -1.19043945e-01, -2.08949276e-02, -9.36309548e-02, -1.45925415e-01,\n",
       "        3.74505914e-02,  1.54249762e-01,  1.45432741e-01, -2.35804178e-01,\n",
       "        6.85216908e-02,  4.68478985e-02,  3.79816759e-02,  1.06068461e-01,\n",
       "       -9.12034385e-02, -1.48483784e-01,  1.01741905e-01, -2.35098825e-02,\n",
       "       -1.98141077e-01, -1.34314408e-02,  1.72655848e-01,  9.64605354e-02,\n",
       "       -5.43288525e-02, -1.10462874e-01,  5.07053727e-02, -1.27093400e-01,\n",
       "       -3.08926425e-02, -4.39203460e-02, -2.33314800e-01,  9.67713481e-02,\n",
       "        2.43186519e-02,  5.52871376e-02,  1.16738493e-01, -7.73766456e-02,\n",
       "       -1.70188289e-01,  7.95434077e-02,  1.82085997e-03, -7.34845598e-03,\n",
       "       -1.54822512e-01, -1.39283418e-01,  1.28220147e-01,  7.02249620e-02,\n",
       "        5.49447254e-03,  8.54227243e-02,  7.02050976e-02, -7.63442561e-02,\n",
       "       -7.77552428e-02,  1.13144597e-01, -3.27738435e-02, -9.18050078e-03,\n",
       "        2.47590094e-01, -2.19918792e-01,  1.35048200e-02, -4.89004165e-02,\n",
       "       -1.36913947e-01, -7.68452575e-02,  1.18254372e-01, -4.54705573e-02,\n",
       "       -1.02697018e-01,  1.57380295e-02, -9.86704940e-02,  1.22915759e-01,\n",
       "        1.76884669e-01, -1.18508470e-01,  2.29136941e-02, -8.63421075e-02,\n",
       "       -4.17625313e-02,  7.43510584e-02, -1.24206109e-02,  1.73229123e-01,\n",
       "       -1.74698784e-02, -1.43456602e-01, -8.36955573e-02, -9.00777620e-02,\n",
       "        7.67915641e-02,  5.76481960e-02,  2.00697930e-02, -9.80656176e-02,\n",
       "        1.47673172e-01, -2.02886528e-02,  6.76726267e-02,  6.00376465e-02,\n",
       "       -6.71657333e-02,  1.06650481e-01,  2.20411760e-02, -3.43116983e-02,\n",
       "       -1.57025848e-01, -9.88132364e-02,  4.12849225e-02, -2.02001529e-02,\n",
       "       -8.32779682e-02, -9.11243215e-02, -1.15498609e-01, -1.07794048e-01,\n",
       "       -1.42932410e-01,  7.38356959e-02, -1.22639123e-01, -6.66035949e-02,\n",
       "       -4.56866279e-03,  1.04625339e-01, -8.27899307e-02,  8.40962847e-02,\n",
       "       -9.26833390e-02, -2.22514938e-02,  1.42404872e-02, -8.06580862e-03,\n",
       "        4.67793947e-02,  1.23222951e-01, -7.80773020e-03, -7.85469103e-02,\n",
       "       -1.41974016e-01, -1.11336102e-01,  6.46084444e-02,  9.63647965e-02,\n",
       "        4.22531427e-02, -9.55622680e-02,  2.06689200e-02, -4.51315197e-02,\n",
       "        2.42331637e-01,  8.66107459e-02, -4.54166840e-02, -2.26498496e-02,\n",
       "        3.09831098e-03, -6.56614402e-02,  9.66480792e-02,  1.99748440e-02,\n",
       "        4.76344833e-02,  6.94079315e-02, -1.08062912e-02,  5.95390801e-02,\n",
       "        1.11068136e-01, -8.98844032e-02,  6.66836577e-02,  8.41670830e-02,\n",
       "        7.40247329e-02,  4.08528570e-02,  3.61974343e-03,  7.94009852e-02,\n",
       "        1.00478733e-01, -1.76194802e-01,  5.33857089e-02, -1.73428905e-01,\n",
       "        1.40922009e-01, -5.66259223e-02,  6.69252062e-02,  1.38152895e-01,\n",
       "       -7.07085840e-02, -8.54137177e-02, -1.02000060e-01, -3.53594365e-02,\n",
       "        8.11060115e-02,  1.87453323e-01,  1.36646760e-01, -8.66978612e-02,\n",
       "       -1.31319714e-02, -2.20448832e-02,  8.98011826e-03,  1.07390291e-01,\n",
       "        1.59899293e-01,  4.48902010e-03, -7.47085898e-02, -5.57872660e-02,\n",
       "       -7.71333429e-02, -6.38301810e-02,  7.20467962e-02, -1.04314308e-01,\n",
       "        1.65008362e-01, -7.22669820e-02,  5.33808953e-03,  1.46820508e-01,\n",
       "       -7.13401821e-02,  1.30378011e-01, -9.22413061e-02, -1.20367105e-02,\n",
       "       -3.60135721e-02, -1.15711328e-01,  1.94874988e-01, -1.36666646e-01,\n",
       "       -2.15688963e-02,  4.00273513e-03,  1.77176219e-02,  9.81895958e-03,\n",
       "       -1.77299866e-01, -1.24467904e-01,  1.39768020e-01, -1.01491994e-01,\n",
       "        1.32793017e-01, -1.34652306e-01, -4.22807512e-02, -2.16096006e-01,\n",
       "       -2.57802439e-01, -1.01730296e-01, -8.48693239e-03,  9.76679934e-03,\n",
       "       -2.05122838e-01, -9.68557112e-03,  4.74041175e-02,  2.90503737e-02,\n",
       "       -1.72321489e-02,  1.90950060e-02,  1.18009078e-01, -6.75653912e-02,\n",
       "        9.02883504e-03,  1.66111628e-02, -1.61112140e-02, -2.68047557e-02,\n",
       "        6.07768130e-03, -5.57382017e-02, -5.59020798e-02, -2.08358239e-01,\n",
       "        2.47422772e-02, -1.93661610e-01, -6.18016835e-02,  1.46061981e-01,\n",
       "       -8.53265873e-02, -1.55519206e-01, -1.20528076e-02,  8.17888247e-03,\n",
       "        1.05372545e-01, -2.03891352e-01, -2.31460566e-02, -4.87147633e-02,\n",
       "       -1.86167694e-01,  1.40512070e-02, -9.29672136e-02, -1.02267343e-01,\n",
       "        1.32921019e-01, -1.03863475e-01,  1.07141025e-01,  1.73961527e-01,\n",
       "        2.45611360e-01,  1.09177764e-01,  1.72682278e-01, -9.48535262e-02,\n",
       "       -6.82928314e-02, -1.10704439e-01, -1.88956455e-01,  2.77849541e-02,\n",
       "        3.87906878e-02, -9.21802606e-02,  3.79002309e-02,  7.59875813e-02,\n",
       "        3.34734051e-02, -6.66856429e-02,  2.01488916e-01, -1.06764409e-01,\n",
       "        1.91980411e-01, -1.01840353e-01,  2.01813517e-01,  2.06513837e-02,\n",
       "       -1.06616781e-01,  5.81210586e-02, -1.46174911e-01, -2.75246342e-02,\n",
       "        3.71527775e-02,  2.37634028e-01,  6.98497588e-02, -2.01558308e-01,\n",
       "       -1.03125351e-01, -7.15632598e-02,  6.89421856e-02,  1.19531316e-01,\n",
       "        3.67010951e-02,  4.10225823e-02, -1.03178080e-01, -9.58786456e-02,\n",
       "        2.13849941e-01,  1.75420258e-02, -1.36699337e-01, -1.61995633e-01,\n",
       "        5.52545421e-03, -7.97258699e-02, -9.53265474e-02, -1.03954567e-01,\n",
       "        1.42606329e-02,  7.79516075e-02,  2.54458618e-02,  8.09030122e-02,\n",
       "        3.29223819e-02,  4.02101062e-02, -6.23289301e-03,  5.24090798e-02,\n",
       "        1.60655141e-01, -6.93090413e-02,  1.69359098e-01,  1.94212480e-01,\n",
       "        1.56914760e-01,  1.90997349e-02, -8.03704548e-03, -1.56772483e-01,\n",
       "        1.30655880e-01,  6.03095190e-03,  5.71591966e-02, -7.62325678e-02,\n",
       "       -3.54044604e-02, -6.89240257e-02,  2.18745773e-01,  6.33903375e-02,\n",
       "       -5.68466955e-02, -8.62421835e-02, -3.19255750e-02, -8.37359441e-02,\n",
       "        2.22893728e-02, -2.37281119e-01, -5.12272493e-02, -4.18467185e-02,\n",
       "        7.11448402e-04, -1.00464430e-01, -3.19230861e-02, -5.92654105e-05,\n",
       "       -5.10279503e-02, -9.53644023e-02,  3.92356330e-02,  5.04018013e-02,\n",
       "        1.15050258e-01, -6.18802030e-02, -9.62110979e-02, -1.48417031e-01,\n",
       "        9.11453082e-02,  2.28268081e-02,  3.37622453e-02, -1.26509054e-01,\n",
       "       -1.08909865e-01,  7.38091919e-02, -1.54850624e-01,  2.76313685e-02,\n",
       "       -1.03419986e-01,  5.46403674e-03,  1.98981774e-01,  1.96117293e-01,\n",
       "        2.29235552e-01,  5.09288186e-02,  1.13112982e-01, -4.04699493e-02,\n",
       "        5.77831264e-02, -1.76309319e-01, -7.69942435e-02, -5.73368204e-02,\n",
       "        6.96171185e-03,  6.42703772e-02, -1.01465163e-02, -2.63299296e-02,\n",
       "       -8.81176194e-02,  1.99073323e-01, -1.08655659e-01, -7.07257299e-02,\n",
       "        2.56870042e-02,  6.20643250e-02, -5.81999465e-02,  2.64080618e-01,\n",
       "        6.39497825e-02,  9.63129708e-02, -1.26035530e-01, -5.42578087e-02,\n",
       "       -8.12532447e-02,  1.72941877e-01,  1.42318463e-01, -4.38464047e-02,\n",
       "       -3.06321578e-01,  7.20342959e-02, -1.88666696e-02, -5.34411105e-02,\n",
       "        6.86114764e-02, -7.67359987e-02, -5.88402104e-02, -3.01266173e-02,\n",
       "        6.28168195e-02,  1.25597055e-01,  8.76899044e-03,  2.84011451e-02,\n",
       "       -2.56958707e-01,  1.16928839e-01,  1.40055593e-01, -1.14232691e-01,\n",
       "        1.87781545e-01,  1.97948318e-01,  1.00774097e-01, -8.78100102e-02,\n",
       "        1.17289278e-01, -1.32624330e-01, -2.59023419e-01, -4.18284380e-02,\n",
       "       -8.87003365e-02, -2.45614667e-02, -1.46755346e-02, -2.74699615e-03,\n",
       "       -4.05186699e-02, -5.30294566e-02,  4.90013537e-02, -1.73495937e-01,\n",
       "       -6.74494173e-02,  1.35102099e-01,  8.46244861e-02, -7.94705890e-02,\n",
       "       -1.75079158e-02,  2.93159124e-02, -2.04202451e-02,  1.41724542e-02,\n",
       "        6.67197116e-02,  8.49483731e-02, -2.51655295e-02, -9.15717912e-02,\n",
       "       -1.66830075e-01, -4.80475729e-02,  3.75329477e-02,  1.04923935e-03,\n",
       "        2.58735916e-02,  1.33114901e-01,  1.50503812e-01,  1.58493586e-01,\n",
       "       -2.31908503e-02,  1.44602671e-02,  5.99573975e-02, -9.56224586e-02,\n",
       "       -1.77568809e-01,  1.57747704e-02, -6.68419086e-02, -7.42785613e-02,\n",
       "        6.26140967e-02, -1.65866672e-01, -7.93389009e-02, -6.15077870e-02,\n",
       "        7.77671864e-02, -2.09117595e-02, -8.03969235e-02,  6.22281303e-02,\n",
       "       -1.49003033e-01, -2.84998051e-02,  8.24818940e-03,  1.20768048e-01,\n",
       "        1.82932870e-01, -1.44414795e-02,  1.90591605e-01, -9.32549855e-02,\n",
       "       -1.42851364e-01, -1.36445693e-01,  1.87237188e-01,  8.06667210e-02,\n",
       "       -3.98860440e-02, -1.48728162e-01,  1.95866569e-02,  3.27819021e-02,\n",
       "        4.21876773e-02,  1.06453126e-02, -6.58678250e-02, -5.45909445e-02,\n",
       "        9.50401301e-02,  3.32562991e-02,  1.02362452e-01,  1.30586722e-01,\n",
       "       -4.03947734e-02, -9.75108680e-02,  4.87673549e-02,  2.29015908e-01,\n",
       "       -7.95169850e-02,  1.79021963e-02,  4.73102493e-02, -1.01906803e-01,\n",
       "        4.23229398e-02,  2.69719147e-02, -1.10329378e-01, -1.20518249e-01,\n",
       "       -2.53529610e-02,  3.57752569e-02, -4.84892717e-03, -1.36699287e-02,\n",
       "        4.65933256e-02, -5.74317691e-02,  2.10089540e-02,  1.55461092e-01,\n",
       "        1.16011663e-01,  6.31251889e-02,  1.12630856e-01,  1.30180374e-01,\n",
       "       -1.20255133e-01,  1.30825265e-01, -6.63363433e-03,  1.85384198e-01,\n",
       "       -6.44039137e-02,  1.69136943e-01, -7.47068476e-02,  1.32200581e-01,\n",
       "        3.82614071e-02,  1.53324310e-02, -1.20640173e-02,  9.45418001e-02,\n",
       "       -4.06848096e-02,  9.70584698e-02, -1.29589208e-01, -3.20986433e-02,\n",
       "       -5.20194176e-02, -3.21211204e-01, -1.01236695e-01, -7.01617684e-02,\n",
       "        1.01323251e-01, -8.67723569e-03, -1.50059155e-02, -3.80378578e-02,\n",
       "        7.65107521e-02, -3.30269866e-02, -1.13532391e-01, -4.05142036e-02,\n",
       "       -1.49666378e-01, -3.62213982e-02,  7.71632043e-02, -5.69172922e-02,\n",
       "       -1.13308542e-01,  7.94212737e-02, -1.60487636e-01,  5.58614533e-02,\n",
       "        1.38214404e-02,  6.47321556e-02, -1.81434177e-02,  7.38996827e-02,\n",
       "        1.13204824e-01,  9.45240170e-03,  5.22267422e-02, -7.12217568e-02,\n",
       "       -6.09766823e-02,  1.31058882e-02, -1.17445384e-01, -8.91063119e-02,\n",
       "        8.93683841e-02,  1.23116890e-01, -1.43629473e-01,  9.31380135e-04,\n",
       "        3.87549842e-04, -4.27928861e-02,  1.45593296e-01,  1.65709604e-01,\n",
       "       -2.04080102e-01, -2.66149924e-02,  1.20131546e-01,  1.49552432e-01,\n",
       "        7.27102651e-02,  1.27869432e-01,  1.88444321e-01,  1.34467783e-01,\n",
       "        5.92373495e-02, -9.30290852e-02,  3.57233119e-02,  1.19112736e-01,\n",
       "       -2.97080084e-01, -8.51567322e-02,  4.74462662e-02,  5.34519460e-03,\n",
       "        8.53390788e-02,  6.99214445e-02,  7.90639947e-02,  2.58795929e-01,\n",
       "       -4.07945766e-02,  1.78719937e-02,  8.29952717e-02, -2.98137716e-02,\n",
       "       -1.45110420e-01, -1.28546249e-01,  3.54123349e-02,  1.01802637e-01,\n",
       "        6.41805240e-02,  1.52122716e-02, -1.50687763e-01, -4.58050132e-03,\n",
       "       -7.25098156e-02, -1.29376749e-01,  9.17296673e-02,  6.90022745e-02,\n",
       "       -1.25244501e-01, -1.48488153e-01, -1.84590035e-01, -1.14929492e-01,\n",
       "        6.98132615e-02,  2.84229342e-01,  4.98426188e-02, -1.78990310e-01,\n",
       "       -8.25760172e-03,  4.37794816e-03,  1.38122090e-01,  3.33161339e-02,\n",
       "        3.28881532e-02,  7.84254714e-02,  8.66231913e-03,  1.74374047e-01,\n",
       "       -1.29967190e-01,  8.24107568e-02, -7.44811725e-02, -8.26808898e-02,\n",
       "       -6.07732385e-02, -4.92932294e-03, -2.21385489e-01, -9.33323847e-03,\n",
       "       -6.60347140e-02, -1.21798444e-01,  1.05899272e-01,  1.09363080e-01,\n",
       "       -2.21126562e-02,  3.70761870e-02, -7.20222246e-02, -1.50956152e-01,\n",
       "        1.34633692e-02,  1.21612449e-02, -2.12429503e-02, -5.23211469e-02,\n",
       "        4.26737979e-02,  1.21010896e-02, -5.47074911e-03,  4.37646684e-03,\n",
       "       -8.63266399e-02,  1.17762200e-01, -7.33385198e-03, -7.32720132e-02,\n",
       "       -2.22451960e-02, -6.77469538e-03, -2.95738152e-01,  6.79003182e-02,\n",
       "       -8.11329306e-04,  2.17856132e-02, -1.02801222e-01, -2.09324287e-02,\n",
       "       -6.97020273e-02, -1.36446818e-01,  1.38539121e-01,  9.78905631e-02,\n",
       "       -3.77943731e-02, -2.59110367e-02,  1.12628139e-01, -1.34781925e-01,\n",
       "       -7.19822555e-02, -7.06491523e-02,  3.60636419e-04,  1.29349795e-02,\n",
       "       -2.16934460e-03,  1.44903443e-01,  1.24872324e-01, -8.61815292e-02,\n",
       "       -1.26988310e-02, -7.56015146e-02, -1.42478132e-01, -9.17241965e-02,\n",
       "       -1.51763522e-02,  1.43063134e-01, -7.69816193e-02,  1.01919440e-02,\n",
       "        7.37836381e-02,  1.43821877e-01, -6.14583016e-02,  1.31422220e-04,\n",
       "        1.02813688e-01,  5.26749633e-02,  4.71584598e-02,  4.70307443e-02,\n",
       "       -7.89847325e-02,  1.08638404e-01, -5.25253277e-02, -5.45075466e-02,\n",
       "        6.44993546e-02, -2.42074648e-01,  5.41301354e-02,  7.92697154e-03,\n",
       "       -1.31519930e-02,  1.25116636e-01, -6.27479503e-02, -5.36048246e-02,\n",
       "        1.47163590e-01,  6.32922628e-02, -2.47699730e-02,  1.04324811e-01,\n",
       "       -4.06604210e-02, -1.00344019e-02,  1.78515788e-01,  1.63597305e-01,\n",
       "        2.57975890e-02, -2.19073532e-02, -4.18490927e-02, -6.48371693e-02,\n",
       "       -1.96732968e-02, -4.62636249e-02, -1.19290274e-01,  1.69427076e-01,\n",
       "       -1.06307141e-01,  1.32988816e-01, -1.72699973e-01, -3.46535955e-02,\n",
       "        1.91530285e-01, -5.03620971e-02, -2.06898760e-01,  5.38587650e-02,\n",
       "        2.90231972e-02, -4.54768966e-02,  7.02482215e-02,  2.83911383e-02,\n",
       "       -5.76991409e-02, -1.64695727e-01,  1.18480031e-01, -4.06955425e-02,\n",
       "       -8.97321632e-02, -1.63733726e-02,  5.63984799e-02,  1.79457381e-02,\n",
       "       -8.21039831e-02,  4.10069361e-02, -1.14478323e-01, -2.25530620e-02,\n",
       "        1.13385054e-01,  1.05241257e-01,  1.08009978e-02, -1.48498807e-01,\n",
       "        4.69959143e-02, -9.61502797e-02, -4.43313430e-02, -1.19056325e-01,\n",
       "       -2.46589870e-02,  1.46412223e-01,  3.38752514e-02,  9.11958084e-02,\n",
       "       -2.73370904e-02,  3.80308693e-02,  8.77235986e-03,  2.85358494e-02,\n",
       "        1.53529035e-02, -1.02396761e-02, -3.17044291e-03,  5.88634983e-02,\n",
       "       -4.59338719e-02, -1.17826535e-01, -3.40400323e-03, -2.77938017e-02,\n",
       "       -5.15557768e-03, -8.99281859e-02, -1.12393124e-01,  2.60831046e-02,\n",
       "       -5.65031697e-02, -1.07680548e-01, -1.34843660e-01, -1.51646005e-01,\n",
       "        4.91703268e-02,  1.37969486e-01, -4.03730565e-02,  5.50382907e-02,\n",
       "       -6.11282856e-02, -7.40267585e-02, -1.89766636e-01,  8.38321508e-02,\n",
       "        1.65134623e-01,  2.55428195e-02, -1.59712894e-01,  8.10182880e-02,\n",
       "       -7.17229184e-02,  1.66007193e-01,  5.82969093e-02, -2.03400904e-01,\n",
       "       -7.95448206e-02, -1.13190859e-01, -5.59205824e-02,  3.21370575e-02,\n",
       "        4.91024400e-02,  4.36740545e-02,  8.83852290e-02, -2.47738198e-02,\n",
       "       -3.20277915e-02, -2.07465142e-02, -1.42306847e-01, -1.92279197e-02,\n",
       "       -1.59626363e-01,  1.51582771e-01,  4.73292682e-02,  2.77245771e-02,\n",
       "       -5.34383592e-02, -1.36344202e-02,  5.78976679e-02,  8.43699398e-02,\n",
       "        4.76579171e-02, -2.29810720e-02, -4.82581056e-02, -6.03640328e-03,\n",
       "       -3.79154387e-02, -8.78308949e-02,  1.25899821e-01, -1.80497853e-01,\n",
       "        1.74797924e-01, -2.91000433e-02, -1.22771986e-01,  3.70872110e-02,\n",
       "       -1.11160714e-01, -4.51697236e-02, -4.87139530e-02, -2.29436583e-01,\n",
       "        1.13646918e-01,  1.68619048e-01, -2.25930070e-02,  7.20710875e-02,\n",
       "        2.95603721e-01,  2.76933241e-02, -1.87452045e-01,  1.93644179e-02,\n",
       "       -1.67802972e-02, -4.59657695e-02, -9.37728866e-02, -1.67007191e-01,\n",
       "        6.09380080e-02, -3.51842716e-02, -1.95810752e-02, -3.26712146e-01,\n",
       "       -8.30836168e-02,  3.32180532e-02,  2.66785240e-02,  1.32604116e-01,\n",
       "       -5.70286547e-02,  5.99787472e-02, -6.07014548e-02,  2.21579897e-02,\n",
       "       -5.86594200e-02, -1.37417508e-02,  1.15330554e-01,  3.06678589e-02,\n",
       "       -4.41993165e-02,  2.45591968e-02, -6.34189126e-02,  2.26862094e-01,\n",
       "       -6.93544317e-02, -4.27081372e-02, -2.91783713e-01, -2.25054671e-02,\n",
       "       -6.08924128e-02,  3.71714075e-03,  1.46249933e-01,  1.92047540e-01,\n",
       "        1.77569510e-03, -3.34898488e-02, -2.70218577e-02, -2.61041549e-02,\n",
       "       -6.04429438e-02, -7.12831491e-03, -5.18882551e-02,  1.35819780e-01,\n",
       "       -1.59987962e-01, -1.86635840e-03, -4.11958137e-02,  8.10117607e-02,\n",
       "       -2.15110255e-02,  2.79681392e-02, -3.16431330e-03, -3.48874839e-02,\n",
       "       -9.90002666e-02,  9.89976779e-02,  7.27759574e-02, -4.59568818e-02,\n",
       "       -8.20427386e-02,  2.06697447e-02,  4.44480355e-02, -9.81378999e-02,\n",
       "        9.17548804e-02,  1.28264633e-02, -3.98339616e-02,  6.42852592e-03,\n",
       "        5.25921775e-02,  1.62973013e-01, -5.13985392e-03, -1.89058562e-01,\n",
       "        6.51469425e-02, -4.52198002e-02,  2.72024824e-01, -1.26725314e-01,\n",
       "        1.51145828e-01, -8.04828347e-02,  6.94158809e-02,  7.27867539e-02,\n",
       "       -3.25262357e-02, -8.83347383e-03,  1.63733578e-01, -5.76684689e-03,\n",
       "       -3.13754422e-02,  8.36234585e-02,  5.59585630e-02,  3.53952383e-02,\n",
       "       -5.75589771e-02,  3.32105847e-01,  2.36497634e-02,  1.01935567e-01,\n",
       "        1.53042456e-02, -1.85245150e-01,  7.61324552e-02,  9.12148557e-03,\n",
       "        1.85764132e-02,  3.68941215e-02, -1.37423596e-01, -3.29270697e-02,\n",
       "        6.46723174e-02,  1.22999137e-01, -7.18871522e-03, -7.23144584e-02])"
      ]
     },
     "execution_count": 31,
     "metadata": {},
     "output_type": "execute_result"
    }
   ],
   "source": [
    "np.random.normal(0, 0.1, 1000)"
   ]
  },
  {
   "cell_type": "code",
   "execution_count": 32,
   "metadata": {},
   "outputs": [],
   "source": [
    "# The data is being centered around the first number, if you change it around you can see.\n",
    "x = np.random.normal(15, 7, 1000)"
   ]
  },
  {
   "cell_type": "code",
   "execution_count": 33,
   "metadata": {},
   "outputs": [
    {
     "data": {
      "text/plain": [
       "(array([  1.,   4.,  35., 114., 266., 253., 206.,  93.,  22.,   6.]),\n",
       " array([-12.37916484,  -7.29347471,  -2.20778457,   2.87790556,\n",
       "          7.9635957 ,  13.04928583,  18.13497597,  23.2206661 ,\n",
       "         28.30635624,  33.39204637,  38.47773651]),\n",
       " <a list of 10 Patch objects>)"
      ]
     },
     "execution_count": 33,
     "metadata": {},
     "output_type": "execute_result"
    },
    {
     "data": {
      "image/png": "[encoded data removed]",
      "text/plain": [
       "<Figure size 432x288 with 1 Axes>"
      ]
     },
     "metadata": {
      "needs_background": "light"
     },
     "output_type": "display_data"
    }
   ],
   "source": [
    "# Shows the data on the x axis\n",
    "plt.hist(x)"
   ]
  },
  {
   "cell_type": "markdown",
   "metadata": {},
   "source": [
    "## Bibliography\n",
    "\n",
    "SciPy.org, 2018, Viewed on 2019/10/18, https://docs.scipy.org/doc/numpy-1.15.0/reference/routines.random.html\n",
    "\n",
    "APMonitor, Youtube, 2017, viewed on 2019/11/04, https://www.youtube.com/watch?v=Z2zUGmqIDto \n",
    "\n",
    "Stackoverflow, 2017, viewed on 2019/11/04, (https://stackoverflow.com/questions/15474159/shuffle-vs-permute-numpy)\n",
    "\n",
    "Py.Native, 2019, viewed on the 2019/11/05, https://pynative.com/python-random-shuffle/\n",
    "\n",
    "Crazy Geeks, 2019, viewed on the 2019/11/07, https://www.crazygeeks.org/numpy-random-rand-in-python/\n",
    "\n",
    "Chris Albon, 2017, viewed on 2019/11/07,  https://chrisalbon.com/python/basics/generating_random_numbers_with_numpy/\n",
    "\n",
    "Machinemastery, 2019, viewed on the 2019/11/07, https://machinelearningmastery.com/how-to-generate-random-numbers-in-python/\n"
   ]
  },
  {
   "cell_type": "code",
   "execution_count": null,
   "metadata": {},
   "outputs": [],
   "source": []
  }
 ],
 "metadata": {
  "kernelspec": {
   "display_name": "Python 3",
   "language": "python",
   "name": "python3"
  },
  "language_info": {
   "codemirror_mode": {
    "name": "ipython",
    "version": 3
   },
   "file_extension": ".py",
   "mimetype": "text/x-python",
   "name": "python",
   "nbconvert_exporter": "python",
   "pygments_lexer": "ipython3",
   "version": "3.7.1"
  }
 },
 "nbformat": 4,
 "nbformat_minor": 2
}
