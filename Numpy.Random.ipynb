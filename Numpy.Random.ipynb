{
 "cells": [
  {
   "cell_type": "markdown",
   "metadata": {},
   "source": [
    "# David Markham\n",
    "# An Investigation into the Numpy.Random Package.\n",
    "![title](NumpyImage.jpg) Source(APMonitor.com)"
   ]
  },
  {
   "cell_type": "markdown",
   "metadata": {},
   "source": [
    "## Numpy.Random package.\n",
    "#### Below we will discover how to use the Numpy.Random package, broken into four different topics:\n",
    "\n",
    "1.Explain the overall purpose of the package\n",
    "\n",
    "2.Explain the use of the “Simple random data” and “Permutations” functions\n",
    "\n",
    "3.Explain the use and purpose of at least five “Distributions” functions.\n",
    "\n",
    "4.Explain the use of seeds in generating pseudorandom numbers.\n",
    "\n",
    "### 1.Explain the overall purpose of the package\n",
    "Creates random numbers and arrays. Whenever you want to generate an array of random numbers you need to use numpy.random, which has multiple functions. These functions generate the random n-dimensional array/arrays for various distributions, size, mean, width, colour on histograms and plots, etc, which we will be discussing later below.\n",
    "\n",
    "The use of randomness is an important part of the configuration and evaluation of machine learning algorithms.\n",
    "\n",
    "From the random initialization of weights in an artificial neural network, to the splitting of data into random train and test sets, to the random shuffling of a training dataset in stochastic gradient descent, generating random numbers and harnessing randomness is a required skill. (Machinemastery, 2019)\n",
    "\n",
    "Below we will discover how to generate and work with random numbers in Python.\n",
    "\n",
    "**Pseudorandom Number Generators**\n",
    "\n",
    "\n",
    "The source of randomness that we inject into our programs and algorithms is a mathematical trick called a pseudorandom number generator.\n",
    "\n",
    "A random number generator is a system that generates random numbers from a true source of randomness. Often something physical, such as a Geiger counter, where the results are turned into random numbers. We do not need true randomness in machine learning. Instead we can use pseudorandomness. Pseudorandomness is a sample of numbers that look close to random, but were generated using a deterministic process.\n",
    "\n",
    "Shuffling data and initializing coefficients with random values use pseudorandom number generators. These little programs are often a function that you can call that will return a random number. Called again, they will return a new random number. Wrapper functions are often also available and allow you to get your randomness as an integer, floating point, within a specific distribution, within a specific range, and so on.\n",
    "\n",
    "The numbers are generated in a sequence. The sequence is deterministic and is seeded with an initial number. If you do not explicitly seed the pseudorandom number generator, then it may use the current system time in seconds or milliseconds as the seed.\n",
    "\n",
    "The value of the seed does not matter. Choose anything you wish. What does matter is that the same seeding of the process will result in the same sequence of random numbers. (Machinemastery, 2019)\n",
    "\n",
    "\n",
    "\n"
   ]
  },
  {
   "cell_type": "markdown",
   "metadata": {},
   "source": [
    "## 2.Explain the use of the “Simple random data” and “Permutations” functions\n",
    "## 2.1 Simple Random Data.\n",
    "### How to use the Numpy Ramdom module. \n",
    "- The random package has many functions to help generate numberous different types of numbers. We will see below how to use these functions. \n",
    "- You will need to import the numpy package below. (import numpy as np)"
   ]
  },
  {
   "cell_type": "markdown",
   "metadata": {},
   "source": [
    "There are many ways to generate random numbers. Numpy.random creates random values in a given shape, returns a sample/samples, from the standard normal distribution. It returns random integers from low to high. Below, we can look at some.\n",
    "\n",
    "#### Code below, adapted from SciPy.org, Stackoverflow and Py.Native."
   ]
  },
  {
   "cell_type": "code",
   "execution_count": 1,
   "metadata": {},
   "outputs": [],
   "source": [
    "# Import Numpy Package\n",
    "import numpy as np"
   ]
  },
  {
   "cell_type": "markdown",
   "metadata": {},
   "source": [
    "#### np.random.normal"
   ]
  },
  {
   "cell_type": "code",
   "execution_count": 2,
   "metadata": {},
   "outputs": [
    {
     "name": "stdout",
     "output_type": "stream",
     "text": [
      "Generating random number using random.normal()\n"
     ]
    },
    {
     "data": {
      "text/plain": [
       "-0.30397253728419454"
      ]
     },
     "execution_count": 2,
     "metadata": {},
     "output_type": "execute_result"
    }
   ],
   "source": [
    "# Generates a random number from the normal distribution.\n",
    "print(\"Generating random number using random.normal()\")\n",
    "np.random.normal()"
   ]
  },
  {
   "cell_type": "code",
   "execution_count": 3,
   "metadata": {},
   "outputs": [
    {
     "data": {
      "text/plain": [
       "array([-0.53306795, -0.26178564,  0.15885771,  1.50201089])"
      ]
     },
     "execution_count": 3,
     "metadata": {},
     "output_type": "execute_result"
    }
   ],
   "source": [
    "# Generates 4 random numbers from the normal distribution.\n",
    "np.random.normal(size=4)"
   ]
  },
  {
   "cell_type": "markdown",
   "metadata": {},
   "source": [
    "#### np.random.rand\n",
    "- Numpy creates arrays. Random numbers in this case between 0 and 1.\n",
    "- Contains arrays, floating numbers."
   ]
  },
  {
   "cell_type": "code",
   "execution_count": 4,
   "metadata": {},
   "outputs": [
    {
     "data": {
      "text/plain": [
       "array([[0.24119056, 0.72507752],\n",
       "       [0.53151603, 0.56745564],\n",
       "       [0.2965939 , 0.14105975],\n",
       "       [0.82471073, 0.79322396]])"
      ]
     },
     "execution_count": 4,
     "metadata": {},
     "output_type": "execute_result"
    }
   ],
   "source": [
    "# Contains arrays, floating numbers.\n",
    "np.random.rand(4,2)"
   ]
  },
  {
   "cell_type": "markdown",
   "metadata": {},
   "source": [
    "- Get an array with 9 elements in it."
   ]
  },
  {
   "cell_type": "code",
   "execution_count": 5,
   "metadata": {},
   "outputs": [
    {
     "data": {
      "text/plain": [
       "array([0.92288499, 0.30742556, 0.50839517, 0.49560677, 0.03099267,\n",
       "       0.29883194, 0.02554802, 0.06080293, 0.03232903])"
      ]
     },
     "execution_count": 5,
     "metadata": {},
     "output_type": "execute_result"
    }
   ],
   "source": [
    "# Displays 9 elements.\n",
    "np.random.rand(9)"
   ]
  },
  {
   "cell_type": "markdown",
   "metadata": {},
   "source": [
    "- Displays two arrays, four rows and thee columns."
   ]
  },
  {
   "cell_type": "code",
   "execution_count": 6,
   "metadata": {},
   "outputs": [
    {
     "data": {
      "text/plain": [
       "array([[[0.48177711, 0.3816591 , 0.48644935],\n",
       "        [0.8757922 , 0.6855925 , 0.87705257],\n",
       "        [0.92620825, 0.85048231, 0.55730408],\n",
       "        [0.47817573, 0.27213737, 0.13500393]],\n",
       "\n",
       "       [[0.31353396, 0.98401648, 0.65275459],\n",
       "        [0.69779107, 0.54398476, 0.0538126 ],\n",
       "        [0.1268966 , 0.72283749, 0.99299453],\n",
       "        [0.04583512, 0.47822828, 0.06963441]]])"
      ]
     },
     "execution_count": 6,
     "metadata": {},
     "output_type": "execute_result"
    }
   ],
   "source": [
    "# Generates random data, and ouputs in arrays, rows and columns.\n",
    "np.random.rand(2,4,3)"
   ]
  },
  {
   "cell_type": "code",
   "execution_count": 7,
   "metadata": {},
   "outputs": [
    {
     "name": "stdout",
     "output_type": "stream",
     "text": [
      "1D random values array : \n",
      " [0.96887634 0.06899758 0.0471812  0.04059165 0.67867321 0.57907146\n",
      " 0.88333893 0.24124729 0.63766546 0.9421315  0.35474121 0.08836275\n",
      " 0.25780682 0.86850853 0.53569277]\n"
     ]
    }
   ],
   "source": [
    "array = np.random.rand(15) # Prints an array with 15 random values from 0 to 1.\n",
    "print(\"1D random values array : \\n\", array);"
   ]
  },
  {
   "cell_type": "markdown",
   "metadata": {},
   "source": [
    "To display the numbers on a histogram."
   ]
  },
  {
   "cell_type": "code",
   "execution_count": 8,
   "metadata": {},
   "outputs": [],
   "source": [
    "x = np.random.rand(1000)"
   ]
  },
  {
   "cell_type": "code",
   "execution_count": 9,
   "metadata": {},
   "outputs": [
    {
     "data": {
      "text/plain": [
       "<function matplotlib.pyplot.show(*args, **kw)>"
      ]
     },
     "execution_count": 9,
     "metadata": {},
     "output_type": "execute_result"
    },
    {
     "data": {
      "image/png": "[encoded data removed]",
      "text/plain": [
       "<Figure size 432x288 with 1 Axes>"
      ]
     },
     "metadata": {
      "needs_background": "light"
     },
     "output_type": "display_data"
    }
   ],
   "source": [
    "# Histogram shows the most typical values out of 1000 and displays in a bar chart.\n",
    "%matplotlib inline\n",
    "import matplotlib.pyplot as plt\n",
    "plt.hist(x)\n",
    "plt.show # this will display if the above command does not display. \n",
    "# If the above is not displaying type in %matplotlib inline"
   ]
  },
  {
   "cell_type": "markdown",
   "metadata": {},
   "source": [
    "#### Np.random.randint\n",
    "- Random integer values can be generated with the randint() function. \n",
    "- Takes in two arguments, the start and the end of the range."
   ]
  },
  {
   "cell_type": "code",
   "execution_count": 10,
   "metadata": {},
   "outputs": [
    {
     "data": {
      "text/plain": [
       "array([0, 0, 1, 1, 1, 1, 0, 0, 0, 0])"
      ]
     },
     "execution_count": 10,
     "metadata": {},
     "output_type": "execute_result"
    }
   ],
   "source": [
    "np.random.randint(2, size=10) # Function calls numbers bewteen 1 and 2, and size is 10."
   ]
  },
  {
   "cell_type": "code",
   "execution_count": 11,
   "metadata": {},
   "outputs": [
    {
     "data": {
      "text/plain": [
       "array([54, 14, 58, 49])"
      ]
     },
     "execution_count": 11,
     "metadata": {},
     "output_type": "execute_result"
    }
   ],
   "source": [
    "# Generates four random integers.\n",
    "np.random.randint(low=1, high=100, size=4) # Function calls random int from 1 to 100, returns four values."
   ]
  },
  {
   "cell_type": "code",
   "execution_count": 12,
   "metadata": {},
   "outputs": [
    {
     "data": {
      "text/plain": [
       "array([[3, 0, 0, 1],\n",
       "       [0, 2, 3, 3]])"
      ]
     },
     "execution_count": 12,
     "metadata": {},
     "output_type": "execute_result"
    }
   ],
   "source": [
    "# Returns, two arrays, with four integers, numbers bewteen 0 and 5.\n",
    "np.random.randint(5, size=(2, 4))"
   ]
  },
  {
   "cell_type": "markdown",
   "metadata": {},
   "source": [
    "Random values are drawn from a <a href=\"https://docs.scipy.org/doc/numpy-1.15.0/reference/generated/numpy.random.uniform.html#numpy.random.uniform\" target=\"_blank\">uniform distribution.</a>\n",
    "\n",
    "- Samples are uniformly distributed over the half-open interval [low, high) (includes low, but excludes high). In other words, any value within the given interval is equally likely to be drawn by uniform. (Machinemastery, 2019)\n",
    "\n",
    "The example below generates 10 random integer values between 0 and 10."
   ]
  },
  {
   "cell_type": "code",
   "execution_count": 51,
   "metadata": {},
   "outputs": [
    {
     "name": "stdout",
     "output_type": "stream",
     "text": [
      "1D Array:\n",
      " [6 4 7 7 4 7 4] \n",
      "\n",
      "2D Array:\n",
      " [[7 4 5 6]\n",
      " [6 7 3 3]\n",
      " [3 5 6 7]\n",
      " [3 6 4 5]\n",
      " [5 6 3 5]\n",
      " [6 6 5 3]] \n",
      "\n"
     ]
    }
   ],
   "source": [
    "# Returned arrays will output random integers, from low to high, and size.\n",
    "# 1D Array, lowest number will be 3 , highest number up to but not including 8,\n",
    "# 7 values will be displayed in the array\n",
    "randint_array1D = np.random.randint(low = 3, high = 8, size = 7) \n",
    "print (\"1D Array:\\n\",randint_array1D, \"\\n\")  \n",
    "\n",
    "# 2D Array, outputs an array that has an array within it. \n",
    "randint_array2D = np.random.randint(low = 3, high = 8, size = (6, 4)) # 6 rows, with 4 values in each.\n",
    "print (\"2D Array:\\n\",randint_array2D, \"\\n\") "
   ]
  },
  {
   "cell_type": "markdown",
   "metadata": {},
   "source": [
    "#### Numpy.random.choice\n",
    "-  Generates a random sample from a given 1-D array\n"
   ]
  },
  {
   "cell_type": "code",
   "execution_count": null,
   "metadata": {},
   "outputs": [],
   "source": [
    "# Generate a uniform random sample from np.arange(5) of size 3:\n",
    "np.random.choice(5, 3)"
   ]
  },
  {
   "cell_type": "markdown",
   "metadata": {},
   "source": [
    "#### Numpy.random.ranf\n",
    "-Return random floats in the half-open interval [0.0, 1.0)."
   ]
  },
  {
   "cell_type": "code",
   "execution_count": null,
   "metadata": {
    "scrolled": true
   },
   "outputs": [],
   "source": [
    "# numpy.random.ranf\n",
    "np.random.random_sample()"
   ]
  },
  {
   "cell_type": "markdown",
   "metadata": {},
   "source": [
    "- Displays what type of an integer it is."
   ]
  },
  {
   "cell_type": "code",
   "execution_count": null,
   "metadata": {},
   "outputs": [],
   "source": [
    "# Type of number\n",
    "type(np.random.random_sample())"
   ]
  },
  {
   "cell_type": "markdown",
   "metadata": {},
   "source": [
    "- Displays five random numbers."
   ]
  },
  {
   "cell_type": "code",
   "execution_count": null,
   "metadata": {},
   "outputs": [],
   "source": [
    "# Number of random numbers.\n",
    "np.random.random_sample((5,))"
   ]
  },
  {
   "cell_type": "markdown",
   "metadata": {},
   "source": [
    "- Three-by-two array of random numbers from [-5, 0)"
   ]
  },
  {
   "cell_type": "code",
   "execution_count": null,
   "metadata": {
    "scrolled": true
   },
   "outputs": [],
   "source": [
    "# Three rows, two columns, numbers between -5 and 0.\n",
    "5 * np.random.random_sample((3, 2)) - 5"
   ]
  },
  {
   "cell_type": "markdown",
   "metadata": {},
   "source": [
    "#### Numpy.random.bytes"
   ]
  },
  {
   "cell_type": "code",
   "execution_count": null,
   "metadata": {},
   "outputs": [],
   "source": [
    "# Returns random bytes.\n",
    "np.random.bytes(18)"
   ]
  },
  {
   "cell_type": "code",
   "execution_count": null,
   "metadata": {},
   "outputs": [],
   "source": [
    "# Generating 3 dimentional array. \n",
    "array = np.random.rand(3,3,3) # Function for three arrays.\n",
    "print(\"3D random values array : \\n\", array);"
   ]
  },
  {
   "cell_type": "markdown",
   "metadata": {},
   "source": [
    "## 2.2 Permutations \n",
    "- Next we will look at permutations shuffle and permutation , which is randomly permute a sequence, or return a permuted range.\n",
    "\n",
    "- Generally Numpy random.shuffle and random.permutation both shuffle elements in an array.\n",
    "\n"
   ]
  },
  {
   "cell_type": "markdown",
   "metadata": {},
   "source": [
    "#### Numpy.random.shuffle(x)\n",
    "- Random.shuffle function used to shuffle the sequence in place, it changes the position of items in a list.\n",
    "- Modify a sequence in-place by shuffling its contents."
   ]
  },
  {
   "cell_type": "code",
   "execution_count": null,
   "metadata": {},
   "outputs": [],
   "source": [
    "# Randomly shuffles the list.\n",
    "arr = np.arange(10)\n",
    "np.random.shuffle(arr)\n",
    "arr"
   ]
  },
  {
   "cell_type": "markdown",
   "metadata": {},
   "source": [
    "- If you want to shuffle as per your need, then you can pass your custom random function in the place of random argument, which will dictate shuffle function, and how it randomizes the items of a list. (Py.Native, 2019)\n",
    "- Can do the same with strings.\n"
   ]
  },
  {
   "cell_type": "code",
   "execution_count": null,
   "metadata": {
    "scrolled": true
   },
   "outputs": [],
   "source": [
    "number_list = [5, 32, 21, 22, 56, 36, 34, 56, 6, 23]\n",
    "print (\"List : \",  number_list)\n",
    "\n",
    "np.random.shuffle(number_list)\n",
    "print (\"After first shuffle  : \",  number_list)\n",
    "\n",
    "np.random.shuffle(number_list)\n",
    "print (\"After second shuffle : \",  number_list)"
   ]
  },
  {
   "cell_type": "markdown",
   "metadata": {},
   "source": [
    "- Shuffle a list of strings."
   ]
  },
  {
   "cell_type": "code",
   "execution_count": null,
   "metadata": {},
   "outputs": [],
   "source": [
    "string_list = [\"Let it rain\", \"Chelsea Football Club\", \"John is there\", \"Don't do it\", \"He left to go shopping\", \"The bus stop\", \"Leave the ball\"]\n",
    "print (\"Original String list: \",  string_list) # Create a list which we will use a function to shuffle below.\n",
    "\n",
    "\n",
    "np.random.shuffle(string_list) # Random function shuflles list, generates list in different order to original.\n",
    "print (\"String List after the first shuffle: \",  string_list)\n",
    "\n",
    "\n",
    "\n",
    "np.random.shuffle(string_list) # Same as above, random shuffles again, using the same function as above.\n",
    "print (\"String List after the second shuffle: \",  string_list)\n"
   ]
  },
  {
   "cell_type": "markdown",
   "metadata": {},
   "source": [
    "- Below we can shuffle just a string."
   ]
  },
  {
   "cell_type": "code",
   "execution_count": null,
   "metadata": {},
   "outputs": [],
   "source": [
    "# Randomly shuffles a string\n",
    "string_one = \"chocolate\" # Setting variable \n",
    "print (\"Original String: \", string_one)# Prints output of original string.\n",
    "\n",
    "char_list = list(string_one) # Function for string we want to shuffle.\n",
    "\n",
    "\n",
    "np.random.shuffle(char_list) # Function for shuffling the string.\n",
    "\n",
    "string_one = ''.join(char_list)\n",
    "print (\"shuffled String is: \", string_one) # Prints shuffled string from original string."
   ]
  },
  {
   "cell_type": "markdown",
   "metadata": {},
   "source": [
    "#### Numpy.random.permutation(x) \n",
    "\n",
    "\n",
    "Randomly permute a sequence, or return a permuted range. If x is a multi-dimensional array, it is only shuffled along its first index. (Sci.py.org)\n",
    "\n",
    "- Generally, in Numpy, both random.permutation and random.shuffle randomly shuffle elements in an array. But there are differences:\n",
    "\n",
    "- If you want to generate random permutations of x, then what is the difference between shuffle(x) and permutation(x)?\n",
    "- np.random.permutation has two differences from np.random.shuffle:\n",
    "\n",
    "   - If passed an array, it will return a shuffled copy of the array; np.random.shuffle shuffles the array in place.\n",
    "   - If passed an integer, it will return a shuffled range i.e. np.random.shuffle(np.arange(n))\n",
    "- If x is an integer, randomly permute np.arange(x). If x is an array, make a copy and shuffle the elements randomly.\n",
    "- np.random.permutation is useful when you need to shuffle ordered pairs, especially for classification:\n",
    "\n",
    "(https://stackoverflow.com/questions/15474159/shuffle-vs-permute-numpy)"
   ]
  },
  {
   "cell_type": "code",
   "execution_count": null,
   "metadata": {},
   "outputs": [],
   "source": [
    "# Displays all the numbers from 0 to the number you enter.\n",
    "np.random.permutation(10)# Function which randomly returns a permuted range of numbers between 0 and 10."
   ]
  },
  {
   "cell_type": "code",
   "execution_count": null,
   "metadata": {
    "scrolled": true
   },
   "outputs": [],
   "source": [
    "# Outputs the numbers you entered, randomly.\n",
    "np.random.permutation([1, 4, 9, 12, 15]) # Random permutation function, for returning numbers you enetered in any order."
   ]
  },
  {
   "cell_type": "code",
   "execution_count": null,
   "metadata": {
    "scrolled": true
   },
   "outputs": [],
   "source": [
    "# Displays nums between 0 and 9 in three rows.\n",
    "arr = np.arange(9).reshape((3, 3))\n",
    "np.random.permutation(arr)"
   ]
  },
  {
   "cell_type": "markdown",
   "metadata": {},
   "source": [
    "## 3. Explain the use and purpose of some of the “Distributions” functions.\n",
    "### Distribution Functions"
   ]
  },
  {
   "cell_type": "markdown",
   "metadata": {},
   "source": [
    "#### 1. The Poisson Distribution\n",
    "\n",
    "The <a href=\"https://www.statisticshowto.datasciencecentral.com/poisson-distribution/\" target=\"_blank\">Poisson</a> distribution function is a statistical distribution that shows how many times an event is likely to occur within a specified period of time.\n",
    "\n",
    "The French mathematician Siméon-Denis Poisson developed his function in 1830 to describe many models, for example, the number of times a gambler would win a rarely won game of chance in a large number of tries. (Britannica, 2019.)\n",
    "\n",
    "![title](PoissonImage.jpg) Source(Britannica)\n",
    "\n",
    "Helps us to predict the probability of certain events from happening when you know how often the event has occurred. It gives us the probability of a given number of events happening in a fixed interval of time. (Statistics How To, 2013)\n",
    "\n",
    "For example, the number of football fans in a certain day of the weekend. If the average number of fans for three days is 35,500, you can predict the probability of a certain day having more fans attend. You can see why businesses would use this distribution to try and predict/forecast over an x amount of time, to help with demand etc.\n",
    "\n",
    "We can see here that the formula is, and how it is <a href=\"https://www.youtube.com/watch?v=Fk02TW6reiA\" target=\"_blank\">calculated.</a>\n",
    "\n",
    "\n",
    "\n",
    "\n",
    "\n",
    "![title](Poissonformula.png)\n",
    "\n",
    "\n",
    "![title](PoissonDisFormula.png)\n",
    "Source (Towards Data Science, 2018)\n",
    "\n",
    "\n",
    "\n",
    "\n",
    "The Poisson parameter Lambda (λ) is the total number of events (k) divided by the number of units (n) in the data (λ = k/n). The unit forms the basis or denominator for calculation of the average, and need not be individual cases or research subjects. For example, the number of asthma attacks may be based on the number of child months, or the number of pregnancies based on the number of women years in using a particular contraceptive.\n",
    "\n",
    "This is different to the Binomial parameter of proportion or risk where proportion is the number of individuals classified as positive (p) divided by the total number of individuals in the data (r = p/n). Proportion or risk must always be a number between 0 and 1, while λ may be any positive number.\n",
    "\n",
    "For examples, if we have 100 people, and only 90 of them go shopping in a week then the binomial risk of shopping is 90/100 = 0.9. However, some of the people will go shopping more than once in the week, and the total number of shopping trips between the 100 people may be 160, and the Poisson Lambda is 160/100 = 1.6 per 100 person week\n",
    "\n",
    "Large Lambda (λ=k/n), say over 200, assumes an approximately normal or geometric distribution, and the count (or sqrt(count)) can be used as a Parametric measurement. If the events occur very few times per individual, so that individuals can be classified as positive or negative cases, then the Binomial distribution (we will discuss below), can be assumed, and statistics related to proportions used. In between, or when events are infrequent, the Poisson distribution is used. (Stats To Do, 2014)"
   ]
  },
  {
   "cell_type": "code",
   "execution_count": 29,
   "metadata": {},
   "outputs": [
    {
     "data": {
      "image/png": "[encoded data removed]",
      "text/plain": [
       "<Figure size 432x288 with 1 Axes>"
      ]
     },
     "metadata": {
      "needs_background": "light"
     },
     "output_type": "display_data"
    }
   ],
   "source": [
    "# Poisson fuction is give sample.\n",
    "s = np.random.poisson(4, 10000)\n",
    "# Displays histogram of the samples we gave the poisson distribution above.\n",
    "count, bins, ignored = plt.hist(s, 14, density=True) # Plots Histogram.\n",
    "plt.show()"
   ]
  },
  {
   "cell_type": "markdown",
   "metadata": {},
   "source": [
    "We can take another example below to demonstrate poisson probability further. "
   ]
  },
  {
   "cell_type": "markdown",
   "metadata": {},
   "source": [
    "#### 2.The Uniform Distribution\n",
    "<a href=\"https://docs.scipy.org/doc/numpy-1.15.0/reference/generated/numpy.random.uniform.html#numpy.random.uniform\" target=\"_blank\">Uniform distribution</a> in statistics, a type of probability distribution in which all outcomes are equally likely; each variable has the same probability that it will be the outcome. A deck of cards has within it uniform distributions because the likelihood of drawing a heart, a club, a diamond or a spade is equally likely. A coin also has a uniform distribution because the probability of getting either heads or tails in a coin toss is the same.\n",
    "\n",
    "![title](UniformDisFormula.png)\n",
    "\n",
    "The uniform distribution can be visualized as a straight horizontal line, so for a coin flip returning a head or tail, both have a probability p = 0.50 and would be depicted by a line from the y-axis at 0.50."
   ]
  },
  {
   "cell_type": "code",
   "execution_count": 14,
   "metadata": {
    "scrolled": true
   },
   "outputs": [
    {
     "data": {
      "text/plain": [
       "array([2.93885675, 4.87861135, 2.83810992, 4.65828409, 2.25896198,\n",
       "       3.05427786, 2.25554432, 2.47850112, 2.50393744, 2.29366491])"
      ]
     },
     "execution_count": 14,
     "metadata": {},
     "output_type": "execute_result"
    }
   ],
   "source": [
    "# Get a 1000 numbers back.\n",
    "# Random,rand will only give you numbers between 0 and 1.\n",
    "# Random uniform will give you any numbers.\n",
    "np.random.uniform(2,5,10)"
   ]
  },
  {
   "cell_type": "code",
   "execution_count": 16,
   "metadata": {},
   "outputs": [
    {
     "data": {
      "text/plain": [
       "(array([1019.,  961.,  994., 1001., 1025.,  944.,  995., 1014., 1007.,\n",
       "        1040.]),\n",
       " array([9.31376931e-02, 1.00069117e+02, 2.00045095e+02, 3.00021074e+02,\n",
       "        3.99997053e+02, 4.99973032e+02, 5.99949011e+02, 6.99924990e+02,\n",
       "        7.99900969e+02, 8.99876948e+02, 9.99852927e+02]),\n",
       " <a list of 10 Patch objects>)"
      ]
     },
     "execution_count": 16,
     "metadata": {},
     "output_type": "execute_result"
    },
    {
     "data": {
      "image/png": "[encoded data removed]",
      "text/plain": [
       "<Figure size 432x288 with 1 Axes>"
      ]
     },
     "metadata": {
      "needs_background": "light"
     },
     "output_type": "display_data"
    }
   ],
   "source": [
    "# Pretty much does the same thing as the rand function which we looked at above.\n",
    "x = np.random.uniform(0,1000,10000)\n",
    "# Shows the numbers on a bar chart.\n",
    "plt.hist(x)"
   ]
  },
  {
   "cell_type": "markdown",
   "metadata": {},
   "source": [
    "#### 3. Numpy.Random.Normal.¶\n",
    "\n",
    "Normal distribution, also known as the Gaussian distribution, is a probability distribution that is symmetric about the mean, showing that data near the mean are more frequent in occurrence than data far from the mean.\n",
    "\n",
    "Draw random samples from a normal (Gaussian) distribution.\n",
    "\n",
    "\n",
    "The probability density function of the normal distribution, first derived by De Moivre and 200 years later by both Gaus.\n",
    "\n",
    "\n",
    "The normal distributions occurs often in nature. For example, it describes the commonly occurring distribution of samples influenced by a large number of tiny, random disturbances, each with its own unique distribution\n",
    "\n",
    "\n",
    "Below the numbers with e-01 at the end of it, means multipy whatever came before the e by 10 to the minus 1 or divide by 10, e-02 means divide by 100 and so on.\n",
    "\n",
    "\n",
    "Can take more functions and see how they work if you like. (Sci.Py.org, 2019)"
   ]
  },
  {
   "cell_type": "code",
   "execution_count": 17,
   "metadata": {},
   "outputs": [
    {
     "data": {
      "text/plain": [
       "array([ 0.00324837,  0.21556483,  0.22454345,  0.19849452, -0.02552181,\n",
       "        0.10605061,  0.00733558, -0.07088672, -0.00446571, -0.060572  ,\n",
       "       -0.07758132,  0.05338214, -0.30605094,  0.02129623, -0.03393977,\n",
       "        0.04530638,  0.06744495,  0.00582615, -0.0373058 ,  0.06926192,\n",
       "       -0.05446603,  0.06099383, -0.01031235,  0.14674537,  0.03287434,\n",
       "        0.12524001, -0.03666976,  0.03780878, -0.00446356,  0.03968883,\n",
       "        0.0321812 ,  0.04043297,  0.01858074, -0.04226432, -0.14864812,\n",
       "        0.04701447,  0.05355625, -0.08502153, -0.05731925,  0.08116861,\n",
       "       -0.0881376 ,  0.10814041, -0.03727666, -0.08448363, -0.25808938,\n",
       "        0.07435581, -0.10491416, -0.09677994, -0.10940588, -0.01185381,\n",
       "       -0.01915898, -0.12241859,  0.03478702,  0.07828079, -0.10069478,\n",
       "       -0.04816282,  0.15565443, -0.03832133,  0.01423302, -0.0023487 ,\n",
       "       -0.1567703 ,  0.00590967, -0.16957515,  0.02753383, -0.09391416,\n",
       "       -0.23321561,  0.16456852, -0.0118665 , -0.1669193 , -0.10410666,\n",
       "        0.16308792, -0.17391698,  0.0650009 , -0.02427971, -0.04868411,\n",
       "       -0.09269113,  0.04644114, -0.14891085,  0.11633969,  0.01289734,\n",
       "       -0.05807009, -0.10828364,  0.12797564,  0.13955186,  0.04611983,\n",
       "       -0.03659655, -0.00103729, -0.2002288 , -0.03083957, -0.1664691 ,\n",
       "       -0.10641837, -0.19913599, -0.00905594, -0.13159786,  0.05795462,\n",
       "        0.10119999,  0.01200418,  0.02624284,  0.05127196, -0.05371553,\n",
       "       -0.15802915, -0.05099479, -0.04004202,  0.07263303,  0.11222745,\n",
       "        0.10485283,  0.12350997,  0.020795  , -0.22469818,  0.0793419 ,\n",
       "       -0.08628586,  0.12110963, -0.07732176, -0.05715754,  0.02889521,\n",
       "        0.00850855, -0.05074741,  0.03007713,  0.09600182, -0.07384445,\n",
       "        0.132085  , -0.02157572,  0.00963233, -0.04537635, -0.10531904,\n",
       "        0.18268096,  0.00568819,  0.07928961,  0.06329431,  0.09616297,\n",
       "        0.09740316, -0.04896941,  0.21467297, -0.01189402, -0.04192073,\n",
       "        0.09424342, -0.13703063, -0.06622333, -0.00132295,  0.13097081,\n",
       "       -0.02200783, -0.04114898,  0.02640718,  0.05835302, -0.22568865,\n",
       "        0.03424055, -0.16531894, -0.01149669,  0.12889723,  0.20184315,\n",
       "        0.09301541, -0.00206681, -0.11939216, -0.22641187,  0.11004309,\n",
       "        0.17687073, -0.08116856, -0.00429527, -0.12002647,  0.09130853,\n",
       "       -0.07762595,  0.05760902,  0.09230392,  0.02568435, -0.03070117,\n",
       "       -0.2424649 ,  0.0333901 ,  0.01215061,  0.21552332, -0.02588605,\n",
       "       -0.00597036, -0.01686517,  0.07568765, -0.03619762,  0.00060777,\n",
       "        0.11618525,  0.20027361,  0.15143875,  0.05871542,  0.07232359,\n",
       "        0.08915226,  0.07523253, -0.00539467, -0.11156367,  0.06913479,\n",
       "       -0.15181997,  0.13172041,  0.0669115 ,  0.0457787 ,  0.1571014 ,\n",
       "       -0.18424336, -0.12567548, -0.05787047,  0.04547652,  0.050471  ,\n",
       "       -0.03767451,  0.18232901,  0.00284445, -0.05365666, -0.08233546,\n",
       "        0.07501583,  0.02128811, -0.22684981, -0.19562315,  0.16534656,\n",
       "       -0.17795789,  0.12978669, -0.10825601, -0.15986378,  0.05138696,\n",
       "        0.00039707,  0.06057089,  0.04107558, -0.22428612,  0.08220525,\n",
       "       -0.14426373, -0.09245774,  0.04321192, -0.02074266, -0.11186657,\n",
       "       -0.0513397 ,  0.17277377, -0.08091212, -0.04919505, -0.08335088,\n",
       "        0.07075114,  0.00804097,  0.12227823,  0.05474837, -0.06497196,\n",
       "       -0.11536691,  0.12699296, -0.16534641,  0.05893155, -0.03931612,\n",
       "       -0.00134733,  0.0324664 , -0.02680488,  0.07754105,  0.10981714,\n",
       "        0.20685485,  0.18795099,  0.12088443, -0.00576443,  0.22362548,\n",
       "        0.18325521,  0.08125064, -0.04695389,  0.11633722,  0.0972788 ,\n",
       "        0.00691812,  0.03135189,  0.09888375, -0.07444972, -0.10529913,\n",
       "        0.01332876,  0.08109306,  0.06170251, -0.26177611,  0.02696946,\n",
       "        0.0576512 ,  0.18982104,  0.05161862, -0.0348463 , -0.06369437,\n",
       "        0.0803092 ,  0.01219762, -0.05868279, -0.23283992,  0.02230509,\n",
       "       -0.13866212,  0.10711718,  0.14949262, -0.16355065, -0.15029466,\n",
       "        0.06908828,  0.08502663,  0.18614902, -0.00185942,  0.18728851,\n",
       "       -0.00268876, -0.25304289, -0.12853262,  0.10227829, -0.06966241,\n",
       "        0.0662062 ,  0.05733954,  0.06616881, -0.11936557,  0.06566958,\n",
       "       -0.06235711,  0.05622376,  0.02580239, -0.12771168,  0.07073946,\n",
       "        0.05113577, -0.01900033, -0.06017927,  0.16461057,  0.0011903 ,\n",
       "       -0.01286127, -0.06264235, -0.24925566,  0.02406826, -0.03590206,\n",
       "       -0.10849559, -0.03760629,  0.20544108, -0.05922436, -0.01349014,\n",
       "       -0.12420439, -0.03153949,  0.07502264,  0.03346741,  0.05753843,\n",
       "       -0.11217549, -0.06540823, -0.03840035,  0.04798881,  0.04658514,\n",
       "       -0.07831105,  0.12772988,  0.02902251, -0.072104  , -0.13415238,\n",
       "       -0.10736312, -0.02598295, -0.03961949,  0.06274416, -0.02354376,\n",
       "       -0.11075899, -0.02959356,  0.05454743,  0.10974599, -0.00266603,\n",
       "        0.03871926, -0.1593803 , -0.06335963,  0.05370868, -0.00121552,\n",
       "       -0.07083348, -0.15734671, -0.0594998 , -0.26410251, -0.01481022,\n",
       "       -0.14880981, -0.04362475, -0.08364432, -0.09108261,  0.14554339,\n",
       "       -0.00104589, -0.03596073,  0.18794916,  0.10160234, -0.0676258 ,\n",
       "       -0.30245405,  0.00354187, -0.00803497,  0.05673284,  0.00062193,\n",
       "        0.01929588,  0.14097949,  0.05653529,  0.08974144, -0.0529267 ,\n",
       "        0.04560788,  0.014643  , -0.0709733 , -0.02806204,  0.07067772,\n",
       "       -0.20081607, -0.00359725, -0.36744766,  0.00074177, -0.0956385 ,\n",
       "        0.06353691,  0.02220451,  0.05943788,  0.06400319, -0.06150491,\n",
       "       -0.0452755 ,  0.01011897, -0.01991093,  0.21009762,  0.00998354,\n",
       "        0.10444802,  0.01156718, -0.01198782, -0.0791706 , -0.07490786,\n",
       "        0.13629103,  0.06302066,  0.06689125,  0.07000937,  0.05518511,\n",
       "        0.05100474,  0.17643435,  0.06473464, -0.08005984,  0.02200305,\n",
       "       -0.11284135, -0.04483761, -0.01637918,  0.03934158, -0.13712066,\n",
       "        0.19305224, -0.02197271, -0.06065579,  0.12192101, -0.0567466 ,\n",
       "       -0.06224643,  0.10843244,  0.06922586,  0.03956872, -0.05423478,\n",
       "        0.0741574 ,  0.03639848, -0.29956992,  0.08806626, -0.07608419,\n",
       "        0.10217063,  0.08263844,  0.06995043, -0.20438375,  0.0525171 ,\n",
       "       -0.08186878, -0.09374058, -0.07717252,  0.1127219 ,  0.03602782,\n",
       "       -0.01471502, -0.12527998,  0.10978234, -0.02077495,  0.00212675,\n",
       "        0.09800162,  0.13749474,  0.07975126,  0.02170897, -0.12137194,\n",
       "       -0.23399474, -0.05183676,  0.10382232, -0.00501402, -0.02882449,\n",
       "       -0.04153312,  0.22972786, -0.07881644,  0.01396826, -0.10091857,\n",
       "       -0.06186672, -0.0648604 ,  0.05258522, -0.06404788,  0.01735777,\n",
       "        0.07919603, -0.0493838 , -0.02520065, -0.07412723, -0.14861571,\n",
       "        0.14377832, -0.02099698, -0.0648604 , -0.12287428,  0.12351741,\n",
       "        0.13545113, -0.00466421,  0.10508642, -0.05254926,  0.06574992,\n",
       "       -0.09204674,  0.06261872,  0.10431775,  0.00872363, -0.04353643,\n",
       "       -0.02477789, -0.00635332, -0.18715587,  0.02472336, -0.10276292,\n",
       "        0.04759691, -0.12233933,  0.07132312,  0.15482994,  0.02059178,\n",
       "        0.08383608, -0.07319796,  0.04480678, -0.0880466 ,  0.12259181,\n",
       "        0.04852016, -0.08205325, -0.00267223,  0.05206031,  0.07239227,\n",
       "        0.04391576, -0.18698702, -0.0932244 , -0.04066862,  0.18399195,\n",
       "       -0.05683806, -0.0773194 , -0.06848103, -0.05545508, -0.04997509,\n",
       "        0.17173326, -0.02086697,  0.02715907, -0.10970968, -0.06442989,\n",
       "       -0.0481651 ,  0.14157902, -0.0717403 ,  0.15095985, -0.2184885 ,\n",
       "        0.02830643, -0.12788114, -0.08153361, -0.03155657, -0.15736035,\n",
       "        0.01640109, -0.02523065,  0.00525512, -0.27956753, -0.03224722,\n",
       "        0.11469426, -0.07005242,  0.0194564 ,  0.00699947,  0.12097952,\n",
       "        0.15971985, -0.03580231,  0.00454772,  0.06215389, -0.05560822,\n",
       "       -0.23062894,  0.11017711, -0.12074   , -0.09821209,  0.12164584,\n",
       "        0.12180467,  0.00678004, -0.12639727, -0.09876623, -0.05896973,\n",
       "        0.05100144,  0.01532926,  0.01557133, -0.10426744, -0.11487236,\n",
       "        0.00122461,  0.17925126,  0.06959769,  0.11355516, -0.06320614,\n",
       "        0.10971281, -0.04977018, -0.06171338, -0.15861221,  0.14166931,\n",
       "        0.10257056, -0.09263973,  0.09640479, -0.20700695, -0.09332946,\n",
       "        0.12608157, -0.15681849, -0.16027365,  0.00753228, -0.15920974,\n",
       "        0.05396972,  0.02589647, -0.16562643, -0.11987863,  0.20527834,\n",
       "        0.02734831, -0.17368811, -0.00092623,  0.01203574,  0.148831  ,\n",
       "       -0.0624625 ,  0.06211795,  0.23790171,  0.20514357, -0.08531608,\n",
       "       -0.00130413, -0.14154862,  0.10275507, -0.09101265,  0.02238045,\n",
       "        0.00276399, -0.03856451,  0.00807998, -0.11190237, -0.11679303,\n",
       "       -0.24307231,  0.14501006,  0.03423346, -0.0205662 , -0.05610847,\n",
       "       -0.04404179,  0.044449  ,  0.02070095,  0.12988522, -0.01574196,\n",
       "        0.21460845,  0.04523106, -0.18723804, -0.08380231,  0.07534842,\n",
       "        0.00832873, -0.10397088, -0.03521313, -0.24409123,  0.07893887,\n",
       "       -0.05073287, -0.00462272, -0.09666738,  0.0628522 , -0.10502325,\n",
       "        0.23275716,  0.09823718, -0.01792723,  0.17038089,  0.00915588,\n",
       "        0.01947469,  0.01947986, -0.07374131, -0.02328623,  0.04780153,\n",
       "       -0.02548365, -0.00197989,  0.00691413, -0.09114685, -0.01149246,\n",
       "        0.01975913, -0.13631866,  0.03086157,  0.02300493, -0.02498658,\n",
       "        0.14620114, -0.15173864,  0.08582016, -0.19499894,  0.32596125,\n",
       "        0.0388035 , -0.10213911, -0.13386106, -0.05292476,  0.02492793,\n",
       "       -0.08051157,  0.09726496, -0.10972072,  0.0904431 ,  0.08539471,\n",
       "        0.06223854, -0.00160296,  0.04042829, -0.08116101, -0.02334894,\n",
       "       -0.11406394, -0.16983472, -0.02923618,  0.00432342, -0.04866443,\n",
       "       -0.07468151, -0.0108945 ,  0.05356881,  0.01726547,  0.10429395,\n",
       "        0.07681456,  0.01129197,  0.02364755, -0.04221096, -0.14733236,\n",
       "        0.05140573,  0.11325004, -0.03855939,  0.03586356, -0.18661602,\n",
       "       -0.06026522,  0.06362546,  0.23030607, -0.18988904,  0.15467362,\n",
       "        0.06042328, -0.02262289, -0.01935229, -0.03262958, -0.11052622,\n",
       "       -0.14183279,  0.1532912 , -0.05783026, -0.01855738,  0.12845933,\n",
       "        0.03415101, -0.07732917,  0.0554348 , -0.22423658,  0.07565947,\n",
       "       -0.03629402, -0.00191209,  0.0335697 , -0.07329204, -0.0965874 ,\n",
       "       -0.0476313 , -0.11372552, -0.00594762, -0.01493875,  0.01617673,\n",
       "       -0.02777538,  0.05884049,  0.02743028, -0.00679068,  0.02122693,\n",
       "        0.06329377,  0.0957293 ,  0.08185661, -0.04006031,  0.02012626,\n",
       "        0.04822586,  0.14549596,  0.10461576, -0.0316602 ,  0.11532787,\n",
       "        0.10427171, -0.07217504, -0.20773018, -0.12645988,  0.04127434,\n",
       "        0.11432874,  0.01827854,  0.08218098, -0.03424183, -0.09305232,\n",
       "        0.07152858,  0.27711107,  0.07295031,  0.0151435 ,  0.04728009,\n",
       "        0.12562862,  0.11794318,  0.13775078,  0.10655829, -0.1406297 ,\n",
       "       -0.01210945,  0.03451591, -0.05297578,  0.06781713,  0.11522213,\n",
       "       -0.03664674,  0.06312236,  0.01391436, -0.0416756 , -0.07442704,\n",
       "        0.15057846,  0.07451554, -0.04897441,  0.04659026, -0.02224564,\n",
       "        0.04773796,  0.02054963, -0.20632184, -0.0713613 ,  0.12288279,\n",
       "       -0.15656943,  0.14403492, -0.2360277 , -0.09975844, -0.04368681,\n",
       "       -0.06488248,  0.01023308,  0.11818133, -0.10764441,  0.16667391,\n",
       "       -0.16847543,  0.10476208, -0.01088708, -0.10426478,  0.05770933,\n",
       "        0.09579716, -0.01471006,  0.03459486,  0.12495534,  0.04611111,\n",
       "       -0.15615161, -0.02405617,  0.16517864, -0.00883048, -0.05898754,\n",
       "       -0.07827731,  0.04170023, -0.01847365,  0.00082226,  0.02699629,\n",
       "        0.1273493 ,  0.01378517, -0.04512333, -0.00334143, -0.05945028,\n",
       "       -0.01763884,  0.05304715, -0.1190859 ,  0.03018906, -0.09269972,\n",
       "       -0.05797249, -0.04666363,  0.00990542,  0.08091176,  0.01352173,\n",
       "        0.01614301, -0.0315371 , -0.1938963 ,  0.0066287 , -0.19112095,\n",
       "        0.10122752,  0.02175196,  0.08556762,  0.02125434,  0.06239932,\n",
       "       -0.16753106,  0.10974064, -0.25072701, -0.07093346, -0.13514172,\n",
       "       -0.1290458 , -0.07076904, -0.06064028,  0.01000703, -0.06979052,\n",
       "        0.03869604,  0.12454615,  0.12388378,  0.07788319,  0.01774007,\n",
       "       -0.06300055, -0.00869297, -0.05277072,  0.14952236, -0.00811965,\n",
       "       -0.0432631 , -0.09824949, -0.17849661, -0.07298474, -0.15896511,\n",
       "        0.02373707,  0.31738256, -0.01929163, -0.01972835, -0.15815115,\n",
       "       -0.08221655, -0.16285442,  0.12215437, -0.01009438,  0.14533959,\n",
       "        0.11545684, -0.0187248 , -0.01719179,  0.09978923,  0.00957035,\n",
       "       -0.08296398,  0.16419761,  0.11004687, -0.05598355, -0.04733816,\n",
       "        0.16012798,  0.01079434,  0.16855135, -0.12656879,  0.18400294,\n",
       "       -0.11150651, -0.01325715,  0.081204  ,  0.06236048,  0.01045765,\n",
       "        0.07360773, -0.14931171, -0.03227437,  0.14557527, -0.24345848,\n",
       "       -0.05894508, -0.02307018,  0.05561454,  0.19666941,  0.03708938,\n",
       "        0.12970212, -0.16822261, -0.01739085, -0.11144758,  0.0810026 ,\n",
       "       -0.13321202, -0.02680481,  0.11689493, -0.17107123,  0.02532912,\n",
       "        0.01267283,  0.13078834,  0.1294376 ,  0.0768226 ,  0.02897501,\n",
       "        0.15152525,  0.10537005,  0.16108172,  0.04031591, -0.02112334,\n",
       "       -0.01898796,  0.12252768, -0.20646648, -0.14320175,  0.01275304,\n",
       "       -0.03842758,  0.25887834,  0.06121405,  0.01268603, -0.07639725,\n",
       "       -0.17142483, -0.01367937,  0.02288918, -0.04417718, -0.12602814,\n",
       "       -0.00226696,  0.0584003 ,  0.10274255,  0.0398218 , -0.00291935,\n",
       "        0.16710273,  0.02787577, -0.06711265,  0.02905741,  0.08559748,\n",
       "        0.25847536, -0.05082758, -0.01904092,  0.03730865, -0.05025155,\n",
       "        0.08759104, -0.0024225 ,  0.17496353, -0.07666445, -0.09943174,\n",
       "       -0.04009309, -0.10130853,  0.08685632,  0.04327558, -0.00709435,\n",
       "        0.13443265,  0.06819388, -0.09301536, -0.0260028 , -0.10529054,\n",
       "        0.08472884, -0.11153492, -0.0643336 , -0.08952447,  0.01507825,\n",
       "        0.05887159,  0.12406969, -0.09120488,  0.07702648, -0.05919275,\n",
       "       -0.00703007, -0.01556176,  0.06196889, -0.00672205,  0.10523118,\n",
       "        0.02997816, -0.01646794, -0.00750433, -0.07566406, -0.06800003,\n",
       "        0.04680158, -0.02744815,  0.11508944, -0.01539769,  0.10451833,\n",
       "        0.04454124, -0.00213448, -0.06787425, -0.03659473, -0.09998356,\n",
       "        0.08780877,  0.10883567, -0.00551504, -0.03170242,  0.14518518,\n",
       "        0.13226782, -0.07616966, -0.04607548,  0.04558914, -0.0018677 ,\n",
       "       -0.0629562 , -0.05498308, -0.03905031,  0.0017578 , -0.02670504,\n",
       "        0.01243965,  0.09456166,  0.15408596,  0.07800759,  0.09134646])"
      ]
     },
     "execution_count": 17,
     "metadata": {},
     "output_type": "execute_result"
    }
   ],
   "source": [
    "np.random.normal(0, 0.1, 1000)"
   ]
  },
  {
   "cell_type": "code",
   "execution_count": 19,
   "metadata": {},
   "outputs": [
    {
     "data": {
      "text/plain": [
       "(array([ 17.,  24., 103., 150., 230., 209., 159.,  75.,  27.,   6.]),\n",
       " array([-4.92058507, -0.78728831,  3.34600844,  7.47930519, 11.61260195,\n",
       "        15.7458987 , 19.87919545, 24.0124922 , 28.14578896, 32.27908571,\n",
       "        36.41238246]),\n",
       " <a list of 10 Patch objects>)"
      ]
     },
     "execution_count": 19,
     "metadata": {},
     "output_type": "execute_result"
    },
    {
     "data": {
      "image/png": "[encoded data removed]",
      "text/plain": [
       "<Figure size 432x288 with 1 Axes>"
      ]
     },
     "metadata": {
      "needs_background": "light"
     },
     "output_type": "display_data"
    }
   ],
   "source": [
    "# The data is being centered around the first number, if you change it around you can see.\n",
    "x = np.random.normal(15, 7, 1000) # Values centre around the first value 15\n",
    "# Shows the data on the x axis\n",
    "plt.hist(x)"
   ]
  },
  {
   "cell_type": "markdown",
   "metadata": {},
   "source": [
    "### 4. Numpy.random.binomial\n",
    "\n",
    "What Is Binomial Distribution?\n",
    "- The <a href=\"https://www.investopedia.com/terms/b/binomialdistribution.asp\" target=\"_blank\">Binomial</a> distribution is a probability distribution that summarizes the likelihood that a value will take one of two independent values under a given set of parameters or assumptions. The underlying assumptions of the binomial distribution are that there is only one outcome for each trial, that each trial has the same probability of success, and that each trial is mutually exclusive, or independent of each other.\n",
    "\n",
    "\n",
    "- \"The binomial distribution is a common discrete distribution used in statistics, as opposed to a continuous distribution, such as the normal distribution. This is because the binomial distribution only counts two states, typically represented as 1 (for a success) or 0 (for a failure) given a number of trials in the data. The binomial distribution, therefore, represents the probability for x successes in n trials, given a success probability p for each trial.\" (Investopedia, 2019)\n",
    "\n",
    "- The mean of the binomial distribution is np, and the variance of the binomial distribution is np (1 − p). When p = 0.5, the distribution is symmetric around the mean. When p > 0.5, the distribution is skewed to the left. When p < 0.5, the distribution is skewed to the right. (Investopedia, 2019)\n",
    "\n",
    "The probability density for the binomial distribution is:\n",
    "\n",
    "\n",
    "![title](Binomialfunction.svg)\n",
    "\n",
    "\n",
    "where n is the number of trials, p is the probability of success, and N is the number of successes. An example of how to calculate it <a href=\"https://www.investopedia.com/articles/active-trading/092114/basics-binomial-distribution.asp\" target=\"_blank\">here</a>\n",
    "\n",
    "\"When estimating the standard error of a proportion in a population by using a random sample, the normal distribution works well unless the product p*n <=5, where p = population proportion estimate, and n = number of samples, in which case the binomial distribution is used instead. For example, a sample of 15 people shows 4 who are left handed, and 11 who are right handed. Then p = 4/15 = 27%. 0.27*15 = 4, so the binomial distribution should be used in this case.\" (Sci.Py.org, 2018) \n",
    "\n",
    "For example, assume that a casino created a new game in which participants are able to place bets on the number of heads or tails in a specified number of coin flips. Assume a participant wants to place a $10 bet that there would be exactly six heads in 20 coin flips. The participant wants to calculate the probability of this occurring, and therefore, he uses the calculation for the binomial distribution.\n",
    "- The probability was calculated as: (20! / (6! * (20 - 6))) * (0.50)^(6) * (1 - 0.50) ^ (20 - 6). Consequently, the probability of exactly six heads occurring in 20 coin flips is 0.037, or 3.7 per cent. The expected value in this instance was 10, so a bad bet was met. (Investopedia, 2019)"
   ]
  },
  {
   "cell_type": "markdown",
   "metadata": {},
   "source": [
    "\"A real world example. A company drills 9 wild-cat oil exploration wells, each with an estimated probability of success of 0.1. All nine wells fail. What is the probability of that happening? Let’s do 20,000 trials of the model, and count the number that generate zero positive results.\" (SciPy.org, 2019)"
   ]
  },
  {
   "cell_type": "code",
   "execution_count": null,
   "metadata": {
    "scrolled": true
   },
   "outputs": [],
   "source": [
    "# A real world example. A company drills 9 wild-cat oil exploration wells,\n",
    "# each with an estimated probability of success of 0.1. All nine wells fail. What is the probability of that happening?\n",
    "#Let’s do 20,000 trials of the model, and count the number that generate zero positive results. (Adapted from Sci.Py.Org)\n",
    "sum(np.random.binomial(9, 0.1, 20000) == 0)/20000."
   ]
  },
  {
   "cell_type": "markdown",
   "metadata": {},
   "source": [
    "A **single coin flip** is an example of an experiment with a binary outcome. Coin flips meet the other binomial distribution requirement as well — the outcome of each individual coin flip is independent of all the others. Just to be clear, the outcomes of the experiment don’t need to be equally likely as they are with flips of a fair coin — the following things also meet the prerequisites of the binomial distribution:\n",
    "- An unfair coin (e.g. one with an 80% probability of coming up heads).\n",
    "- Randomly picking people on the street to answer a yes or no question.\n",
    "- Attempting to convince visitors of a website to buy a product — the yes or no outcome is whether they purchased or not.\n",
    "One thing that may trouble newcomers to probability and statistics is the idea of a probability distribution. We tend to think deterministically such as “I flipped a coin 10 times and produced 6 heads”. So the outcome is 6 — where is the distribution then?\n",
    "The probability distribution derives from variance. If both you and I flipped 10 coins, it’s pretty likely that we would get different results (you might get 5 heads and I get 7). This variance, a.k.a. uncertainty around the outcome, produces a probability distribution, which basically tells us what outcomes are relatively more likely (such as 5 heads) and which outcomes are relatively less likely (such as 10 heads).\n",
    "\n",
    "- We can demonstrate this example below.\n",
    "  1. Generate a random number between 0 and 1. If that number is 0.5 or more, then count it as heads, otherwise tails. Do this n times using a Python list comprehension. This happens within the function run_binom via the variables tosses.\n",
    "  2. Repeat this a specified number of times (the amount of trials is specified by the input variable trials). We will perform 1,000 trials.\n",
    "  \n",
    "#### What happens when we repeat our 10 coin toss trial 1,000 times? We get the histogram plotted below:\n"
   ]
  },
  {
   "cell_type": "code",
   "execution_count": 21,
   "metadata": {},
   "outputs": [
    {
     "data": {
      "text/plain": [
       "Text(0, 0.5, 'Frequency')"
      ]
     },
     "execution_count": 21,
     "metadata": {},
     "output_type": "execute_result"
    },
    {
     "data": {
      "image/png": "[encoded data removed]",
      "text/plain": [
       "<Figure size 1008x504 with 1 Axes>"
      ]
     },
     "metadata": {
      "needs_background": "light"
     },
     "output_type": "display_data"
    }
   ],
   "source": [
    "# Code adapted from (Towards Data Science, 2018)\n",
    "# n: the number of times we perform our experiment. \n",
    "# In our coin example, n is equal to 10 (each experiment is 1 flip of the coin).\n",
    "# p: the probability of success. For a fair coin, it would be 50%.\n",
    "# k: the target number of successes. Earlier we mentioned that we were looking for 6 successes.\n",
    "# Import Libraries.\n",
    "import matplotlib.pyplot as plt\n",
    "import seaborn as sns\n",
    "# Input variables\n",
    "# Number of trials\n",
    "trials = 1000\n",
    "# Number of independent experiments in each trial.\n",
    "n = 10\n",
    "# Probability of success for each experiment.\n",
    "p = 0.5\n",
    "# Function that runs our coin toss trials.\n",
    "# heads is a list of the number of successes from each trial of n experiments.\n",
    "def run_binom(trials, n, p):\n",
    "    heads = []\n",
    "    for i in range(trials):\n",
    "        tosses = [np.random.random() for i in range(n)]\n",
    "        heads.append(len([i for i in tosses if i>=0.50]))\n",
    "    return heads\n",
    "\n",
    "heads = run_binom(trials, n, p) # # Run the function\n",
    "# Plot the results as a histogram\n",
    "fig, ax = plt.subplots(figsize=(14,7)) # Size\n",
    "ax = sns.distplot(heads, bins=11, label='simulation results') # Plots the values, size and labels.\n",
    "ax.set_xlabel(\"Number of Heads\",fontsize=16) # Font size of label on x axis\n",
    "ax.set_ylabel(\"Frequency\",fontsize=16) # Font size of Freq"
   ]
  },
  {
   "cell_type": "markdown",
   "metadata": {},
   "source": [
    "Now we can modify the plotting section of our previous code above, so that our plot also shows the actual binomial distribution."
   ]
  },
  {
   "cell_type": "code",
   "execution_count": 25,
   "metadata": {
    "scrolled": true
   },
   "outputs": [
    {
     "data": {
      "image/png": "[encoded data removed]",
      "text/plain": [
       "<Figure size 432x288 with 1 Axes>"
      ]
     },
     "metadata": {
      "needs_background": "light"
     },
     "output_type": "display_data"
    },
    {
     "name": "stdout",
     "output_type": "stream",
     "text": [
      "Actual Binomial Distribution in red.\n"
     ]
    }
   ],
   "source": [
    "# Plot the actual binomial distribution as a sanity check.\n",
    "from scipy.stats import binom\n",
    "x = range(0,11)# Range of values\n",
    "ax.plot(x, binom.pmf(x, n, p), label='actual binomial distribution')# Actual Binomial Distribution in red. \n",
    "ax = sns.distplot(heads, bins=11, label='Simulation results') # Displays Simulation results.\n",
    "ax.vlines(x, 0, binom.pmf(x, n, p), colors='r', lw=5, alpha=0.5) # Sets values for his, colour, length and width etc.\n",
    "plt.legend()\n",
    "plt.show()\n",
    "print(\"Actual Binomial Distribution in red.\")"
   ]
  },
  {
   "cell_type": "markdown",
   "metadata": {},
   "source": [
    "\"The takeaway is that the binomial distribution is a pretty good approximation of what we would have observed if we had actually repeated our 10 coin tosses 1,000 times — so instead of wasting tons of time tossing coins and recording the results, we can just use the binomial distribution!\" (Towards Data Science, 2018)"
   ]
  },
  {
   "cell_type": "markdown",
   "metadata": {},
   "source": [
    "### 5. Numpy.random.multinomial\n",
    "\n",
    "\n",
    "A <a href=\"https://www.tutorialspoint.com/statistics/multinomial_distribution.htm\" target=\"_blank\">multinomial</a> experiment is a statistical experiment and it consists of n repeated trials. Each trial has a discrete number of possible outcomes. On any given trial, the probability that a particular outcome will occur is constant.\n",
    "\n",
    "The multinomial distribution is used to find probabilities in experiments where there are more than two outcomes. A multinomial experiment is almost identical to binomial eperiment, with one main difference: a binomial experiment can have two outcomes, while a multinomial experiment can have multiple outcomes.\n",
    "\n",
    "Example: You roll a die ten times to see what number you roll. There are 6 possibilities (1,2,3,4,5,6), so this is a multinomial experiment. If you rolled the die ten times to see how many times you roll a three, that would be a binomial experiment (3 = success, 1,2,4,5,6 = failure).\n",
    "\n",
    "The multinomial distribution is a multivariate generalisation of the binomial distribution. Take an experiment with one of p possible outcomes. An example of such an experiment is throwing a dice, where the outcome can be 1 through 6. Each sample drawn from the distribution represents n such experiments. Its values, X_i = [X_0, X_1, ..., X_p], represent the number of times the outcome was i. (Sci.py.org, 2019)\n",
    "\n"
   ]
  },
  {
   "cell_type": "code",
   "execution_count": 50,
   "metadata": {},
   "outputs": [
    {
     "data": {
      "text/plain": [
       "array([[5, 5, 0, 5, 2, 3]])"
      ]
     },
     "execution_count": 50,
     "metadata": {},
     "output_type": "execute_result"
    }
   ],
   "source": [
    "# Fr e.g if you throw a dice 20 times, \n",
    "np.random.multinomial(20, [1/6.]*6, size=1) # Function, throw dice 20 times, displaying six values.\n",
    "# It landed 3 times on 5, two times on 2, and so on."
   ]
  },
  {
   "cell_type": "code",
   "execution_count": 42,
   "metadata": {},
   "outputs": [
    {
     "data": {
      "text/plain": [
       "array([[3, 4, 3, 5, 1, 4],\n",
       "       [0, 5, 4, 5, 3, 3]])"
      ]
     },
     "execution_count": 42,
     "metadata": {},
     "output_type": "execute_result"
    }
   ],
   "source": [
    "# Now, throw the dice 20 times, and 20 times again:\n",
    "np.random.multinomial(20, [1/6.]*6, size=2)"
   ]
  },
  {
   "cell_type": "markdown",
   "metadata": {},
   "source": [
    "For the first run, we threw 3 times 1, 4 times 2, etc. For the second, we threw 2 times 1, 4 times 2, etc."
   ]
  },
  {
   "cell_type": "markdown",
   "metadata": {},
   "source": [
    "## 5.  Use of seeds in generating pseudorandom numbers"
   ]
  },
  {
   "cell_type": "markdown",
   "metadata": {},
   "source": [
    "**What is a random seed?**\n",
    "\n",
    "\n",
    "\"A random seed is a starting point in generating random numbers. A random seed specifies the start point when a computer generates a random number sequence. This can be any number, but it usually comes from seconds on a computer system's clock. A computer counts seconds from January 1, 1970 — a system called Unix time. At time I am writing this sentence it is 11:01:46 EST on February 5, 2017: 1486310506 seconds after 1-1-1970 (you can find the current Unix time here). Having such a large range for seeds (0 to 1+ billion) pretty much ensures that you don’t get the same random seed isn’t used twice — unless you want to.\"(Stats how to, 2017)\n",
    "\n",
    "\n",
    "\"For example, let’s say you wanted to generate a random number in Excel (Note: Excel sets a limit of 9999 for the seed). If you enter a number into the Random Seed box during the process, you’ll be able to use the same set of random numbers again. If you typed “77” into the box, and typed “77” the next time you run the random number generator, Excel will display that same set of random numbers. If you type “99”, you’ll get an entirely different set of numbers. But if you revert back to a seed of 77, then you’ll get the same set of random numbers you started with.\"(Stats how to, 2017)\n",
    "\n",
    "\n",
    "**What is the seed of a number?**\n",
    "\n",
    "\n",
    "Seeds (Or Seed Roots) of a number. A Seed of a number n is a number x such that multiplication of x with its digits is equal to n. The task is to find all seeds of a given number n.\n",
    "\n",
    "Input  : n = 138\n",
    "Output : 23 \n",
    "23 is a seed of 138 because\n",
    "23*2*3 is equal to 138\n",
    "\n",
    "Input : n = 4977\n",
    "Output : 79 711 \n",
    "79 is a seed of 4977 because\n",
    "79 * 7 * 9 = 4977.\n",
    "711 is also a seed of 4977 because\n",
    "711 * 1 * 1 * 7 = 4977\n",
    "\n",
    "Input  : n = 9\n",
    "Output : No seed exists (Geeks for Geeks, 2016)\n",
    "\n",
    "**What does random seed () do?**\n",
    "Seed function is used to save the state of random function, so that it can generate some random numbers on multiple execution of the code on the same machine or on different machines (for a specific seed value). Seed value is the previous value number generated by the generator. (Geeks for Geeks, 2016)\n",
    "\n",
    "\n",
    "**The main point of using the seed:**\n",
    "Is to be able to reproduce a particular sequence of 'random' numbers. Generally speaking, if you don't need to be able to do that, you wouldn't set the seed. The seed itself carries no inherent meaning except it's a way of telling the random number generator 'where to start'. You might think of it a bit like the relationship between a PIN number and your bank account. The PIN is associated with a long string of numbers (your account number), but it's not inherently an interpretable quantity. (Stack Exchange, 2019)\n",
    "\n",
    "\n",
    "**How does the random number generator work?**\n",
    "A Random Number Generator is a technology designed to generate a sequence that does not have any pattern, therefore appear to be random. ... Hardware random generators (TRNG): Hardware RNGs do not require seeds because hardware random numbers are not computed values; they are not derived through a repeatable algorithm. (Stack Exchange, 2019)\n"
   ]
  },
  {
   "cell_type": "markdown",
   "metadata": {},
   "source": [
    "## Bibliography\n",
    "\n",
    "SciPy.org, 2018, Viewed on 2019/10/18, available at: https://docs.scipy.org/doc/numpy-1.15.0/reference/routines.random.html\n",
    "\n",
    "APMonitor, Youtube, 2017, viewed on 2019/11/04, available at: https://www.youtube.com/watch?v=Z2zUGmqIDto \n",
    "\n",
    "Stackoverflow, 2017, viewed on 2019/11/04, available at: (https://stackoverflow.com/questions/15474159/shuffle-vs-permute-numpy)\n",
    "\n",
    "Py.Native, 2019, viewed on the 2019/11/05, available at: https://pynative.com/python-random-shuffle/\n",
    "\n",
    "Crazy Geeks, 2019, viewed on the 2019/11/07, available at: https://www.crazygeeks.org/numpy-random-rand-in-python/\n",
    "\n",
    "Chris Albon, 2017, viewed on 2019/11/07, available at: https://chrisalbon.com/python/basics/generating_random_numbers_with_numpy/\n",
    "\n",
    "Machinemastery, 2019, viewed on the 2019/11/07, available at: https://machinelearningmastery.com/how-to-generate-random-numbers-in-python/\n",
    "\n",
    "Statistics How To, 2013, viewed on the 2019/11/07, available at: https://www.statisticshowto.datasciencecentral.com/poisson-distribution/\n",
    "\n",
    "Britannica, 2019, viewed on the 2019/11/07, available at: https://www.britannica.com/biography/Simeon-Denis-Poisson\n",
    "\n",
    "Stats How To, 2014, viewwed on 2019/11/07, available at: https://www.statstodo.com/Poisson_Exp.php\n",
    "\n",
    "Investopedia, 2019, viewed on the 2019/11/07, available at: https://www.investopedia.com/terms/b/binomialdistribution.asp\n",
    "\n",
    "Towards Data Science, 2018, viewed on the 2019/11/08, available at: https://towardsdatascience.com/fun-with-the-binomial-distribution-96a5ecabf65b\n",
    "\n",
    "Statistics How To, 2017, viewed on the 2019/11/08, available at: https://www.statisticshowto.datasciencecentral.com/random-seed-definition/\n",
    "\n",
    "Geeks for Geeks, 2016, viewed on the 2019/11/08, available at: https://www.geeksforgeeks.org/seeds-or-seed-roots-of-a-number/\n",
    "\n",
    "Stack Exchange, 2019, viewed on the 2019/11/08, available at: https://stats.stackexchange.com/questions/86285/random-number-set-seedn-in-r\n"
   ]
  },
  {
   "cell_type": "code",
   "execution_count": null,
   "metadata": {},
   "outputs": [],
   "source": []
  }
 ],
 "metadata": {
  "kernelspec": {
   "display_name": "Python 3",
   "language": "python",
   "name": "python3"
  },
  "language_info": {
   "codemirror_mode": {
    "name": "ipython",
    "version": 3
   },
   "file_extension": ".py",
   "mimetype": "text/x-python",
   "name": "python",
   "nbconvert_exporter": "python",
   "pygments_lexer": "ipython3",
   "version": "3.7.1"
  }
 },
 "nbformat": 4,
 "nbformat_minor": 2
}
