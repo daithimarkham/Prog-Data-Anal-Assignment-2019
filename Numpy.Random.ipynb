{
 "cells": [
  {
   "cell_type": "markdown",
   "metadata": {},
   "source": [
    "# David Markham\n",
    "## Programming for Data Analysis Assignment 2019\n",
    "## G.M.I.T.\n",
    "## Lecturer: Brian McGinley\n",
    "## An Investigation into the Numpy.Random Package.\n",
    "![title](NumpyImage.jpg) Source(APMonitor.com)"
   ]
  },
  {
   "cell_type": "markdown",
   "metadata": {},
   "source": [
    "## Numpy.Random package.\n",
    "#### Below we will discover how to use the Numpy.Random package, broken into four different topics:\n",
    "\n",
    "1.Explain the overall purpose of the package\n",
    "\n",
    "2.Explain the use of the “Simple random data” and “Permutations” functions\n",
    "\n",
    "3.Explain the use and purpose of at least five “Distributions” functions.\n",
    "\n",
    "4.Explain the use of seeds in generating pseudorandom numbers.\n",
    "\n",
    "## 1. Explain the overall purpose of the package\n",
    "Creates random numbers and arrays. Whenever you want to generate an array of random numbers you need to use numpy.random, which has multiple functions. These functions generate the random n-dimensional array/arrays for various distributions, size, mean, width, colour on histograms and plots, etc, which we will be discussing later below.\n",
    "\n",
    "The use of randomness is an important part of the configuration and evaluation of machine learning algorithms.\n",
    "\n",
    "From the random initialization of weights in an artificial neural network, to the splitting of data into random train and test sets, to the random shuffling of a training dataset in stochastic gradient descent, generating random numbers and harnessing randomness is a required skill. (Machinemastery, 2019)\n",
    "\n",
    "Below we will discover how to generate and work with random numbers in Python.\n",
    "\n",
    "**Pseudorandom Number Generators**\n",
    "\n",
    "\n",
    "The source of randomness that we inject into our programs and algorithms is a mathematical trick called a pseudorandom number generator.\n",
    "\n",
    "A random number generator is a system that generates random numbers from a true source of randomness. Often something physical, such as a Geiger counter, where the results are turned into random numbers. We do not need true randomness in machine learning. Instead we can use pseudorandomness. Pseudorandomness is a sample of numbers that look close to random, but were generated using a deterministic process.\n",
    "\n",
    "Shuffling data and initializing coefficients with random values use pseudorandom number generators. These little programs are often a function, which you can call that will return a random number. Called again, they will return a new random number. Wrapper functions are often also available and allow you to get your randomness as an integer, floating point, within a specific distribution, within a specific range, and so on.\n",
    "\n",
    "The numbers are generated in a sequence. The sequence is deterministic and is seeded with an initial number. If you do not explicitly seed the pseudorandom number generator, then it may use the current system time in seconds or milliseconds as the seed.\n",
    "\n",
    "The value of the seed does not matter. Choose anything you wish. What does matter is that the same seeding of the process will result in the same sequence of random numbers. (Machinemastery, 2019)\n",
    "\n",
    "\n",
    "\n"
   ]
  },
  {
   "cell_type": "markdown",
   "metadata": {},
   "source": [
    "## 2. Explain the use of the “Simple random data” and “Permutations” functions\n",
    "## 2.1 Simple Random Data.\n",
    "### How to use the Numpy Ramdom module. \n",
    "- The random package has many functions to help generate numberous different types of numbers. We will see below how to use these functions. \n",
    "- You will need to import the numpy package below. (import numpy as np)"
   ]
  },
  {
   "cell_type": "markdown",
   "metadata": {},
   "source": [
    "There are many ways to generate random numbers. Numpy.random creates random values in a given shape, returns a sample/samples, from the standard normal distribution. It returns random integers from low to high. Below, we can look at some.\n",
    "\n",
    "#### Code below, adapted from SciPy.org, Stackoverflow and Py.Native."
   ]
  },
  {
   "cell_type": "code",
   "execution_count": 1,
   "metadata": {},
   "outputs": [],
   "source": [
    "# Import Numpy Package\n",
    "import numpy as np"
   ]
  },
  {
   "cell_type": "markdown",
   "metadata": {},
   "source": [
    "#### np.random.normal"
   ]
  },
  {
   "cell_type": "code",
   "execution_count": 2,
   "metadata": {},
   "outputs": [
    {
     "name": "stdout",
     "output_type": "stream",
     "text": [
      "Generating random number using random.normal()\n"
     ]
    },
    {
     "data": {
      "text/plain": [
       "0.6831892153559308"
      ]
     },
     "execution_count": 2,
     "metadata": {},
     "output_type": "execute_result"
    }
   ],
   "source": [
    "# Generates a random number from the normal distribution.\n",
    "print(\"Generating random number using random.normal()\")\n",
    "np.random.normal()"
   ]
  },
  {
   "cell_type": "code",
   "execution_count": 3,
   "metadata": {},
   "outputs": [
    {
     "data": {
      "text/plain": [
       "array([-0.43481371, -1.56508508,  0.52203172, -1.08638673])"
      ]
     },
     "execution_count": 3,
     "metadata": {},
     "output_type": "execute_result"
    }
   ],
   "source": [
    "# Generates 4 random numbers from the normal distribution.\n",
    "np.random.normal(size=4)"
   ]
  },
  {
   "cell_type": "markdown",
   "metadata": {},
   "source": [
    "#### np.random.rand\n",
    "- Numpy creates arrays. Random numbers in this case between 0 and 1.\n",
    "- Contains arrays, floating numbers."
   ]
  },
  {
   "cell_type": "code",
   "execution_count": 4,
   "metadata": {},
   "outputs": [
    {
     "data": {
      "text/plain": [
       "array([[0.30059041, 0.17475163],\n",
       "       [0.75554239, 0.5361519 ],\n",
       "       [0.10667691, 0.36643093],\n",
       "       [0.19397748, 0.14937499]])"
      ]
     },
     "execution_count": 4,
     "metadata": {},
     "output_type": "execute_result"
    }
   ],
   "source": [
    "# Contains arrays, floating numbers.\n",
    "np.random.rand(4,2)"
   ]
  },
  {
   "cell_type": "markdown",
   "metadata": {},
   "source": [
    "- Get an array with 9 elements in it."
   ]
  },
  {
   "cell_type": "code",
   "execution_count": 5,
   "metadata": {},
   "outputs": [
    {
     "data": {
      "text/plain": [
       "array([0.62963111, 0.23131591, 0.62181965, 0.93773042, 0.94302055,\n",
       "       0.08223745, 0.11703267, 0.4480346 , 0.45391035])"
      ]
     },
     "execution_count": 5,
     "metadata": {},
     "output_type": "execute_result"
    }
   ],
   "source": [
    "# Displays 9 elements.\n",
    "np.random.rand(9)"
   ]
  },
  {
   "cell_type": "markdown",
   "metadata": {},
   "source": [
    "- Displays two arrays, four rows and thee columns."
   ]
  },
  {
   "cell_type": "code",
   "execution_count": 6,
   "metadata": {},
   "outputs": [
    {
     "data": {
      "text/plain": [
       "array([[[0.09609663, 0.09305793, 0.63624207],\n",
       "        [0.32072935, 0.39848482, 0.62627174],\n",
       "        [0.6245744 , 0.85499623, 0.7188789 ],\n",
       "        [0.17231772, 0.25494159, 0.08719613]],\n",
       "\n",
       "       [[0.74017963, 0.39657936, 0.6846034 ],\n",
       "        [0.83546046, 0.88028308, 0.39944286],\n",
       "        [0.81188532, 0.41878892, 0.57659028],\n",
       "        [0.42483959, 0.38744801, 0.86399418]]])"
      ]
     },
     "execution_count": 6,
     "metadata": {},
     "output_type": "execute_result"
    }
   ],
   "source": [
    "# Generates random data, and ouputs in arrays, rows and columns.\n",
    "np.random.rand(2,4,3)"
   ]
  },
  {
   "cell_type": "code",
   "execution_count": 7,
   "metadata": {
    "scrolled": true
   },
   "outputs": [
    {
     "name": "stdout",
     "output_type": "stream",
     "text": [
      "1D random values array : \n",
      " [0.66975957 0.37230885 0.89193035 0.82106216 0.05698803 0.83105866\n",
      " 0.19786297 0.91858587 0.60148559 0.43646758 0.19506635 0.78190023\n",
      " 0.36641944 0.27426703 0.2143947 ]\n"
     ]
    }
   ],
   "source": [
    "array = np.random.rand(15) # Prints an array with 15 random values from 0 to 1.\n",
    "print(\"1D random values array : \\n\", array);"
   ]
  },
  {
   "cell_type": "markdown",
   "metadata": {},
   "source": [
    "To display the numbers on a histogram."
   ]
  },
  {
   "cell_type": "code",
   "execution_count": 8,
   "metadata": {},
   "outputs": [
    {
     "data": {
      "text/plain": [
       "<function matplotlib.pyplot.show(*args, **kw)>"
      ]
     },
     "execution_count": 8,
     "metadata": {},
     "output_type": "execute_result"
    },
    {
     "data": {
      "image/png": "[encoded data removed]",
      "text/plain": [
       "<Figure size 432x288 with 1 Axes>"
      ]
     },
     "metadata": {
      "needs_background": "light"
     },
     "output_type": "display_data"
    }
   ],
   "source": [
    "x = np.random.rand(1000)\n",
    "# Histogram shows the most typical values out of 1000 and displays in a bar chart.\n",
    "%matplotlib inline\n",
    "import matplotlib.pyplot as plt\n",
    "plt.hist(x)\n",
    "plt.show # this will display if the above command does not display. \n",
    "# If the above is not displaying type in %matplotlib inline"
   ]
  },
  {
   "cell_type": "markdown",
   "metadata": {},
   "source": [
    "#### Np.random.randint\n",
    "- Random integer values can be generated with the randint() function. \n",
    "- Takes in two arguments, the start and the end of the range."
   ]
  },
  {
   "cell_type": "code",
   "execution_count": 9,
   "metadata": {},
   "outputs": [
    {
     "data": {
      "text/plain": [
       "array([1, 0, 0, 0, 1, 1, 0, 1, 1, 1])"
      ]
     },
     "execution_count": 9,
     "metadata": {},
     "output_type": "execute_result"
    }
   ],
   "source": [
    "np.random.randint(2, size=10) # Function calls numbers bewteen 1 and 2, and size is 10."
   ]
  },
  {
   "cell_type": "code",
   "execution_count": 10,
   "metadata": {},
   "outputs": [
    {
     "data": {
      "text/plain": [
       "array([18, 84, 79, 43])"
      ]
     },
     "execution_count": 10,
     "metadata": {},
     "output_type": "execute_result"
    }
   ],
   "source": [
    "# Generates four random integers.\n",
    "np.random.randint(low=1, high=100, size=4) # Function calls random int from 1 to 100, returns four values."
   ]
  },
  {
   "cell_type": "code",
   "execution_count": 11,
   "metadata": {},
   "outputs": [
    {
     "data": {
      "text/plain": [
       "array([[4, 3, 3, 0],\n",
       "       [2, 2, 0, 0]])"
      ]
     },
     "execution_count": 11,
     "metadata": {},
     "output_type": "execute_result"
    }
   ],
   "source": [
    "# Returns, two arrays, with four integers, numbers bewteen 0 and 5.\n",
    "np.random.randint(5, size=(2, 4))"
   ]
  },
  {
   "cell_type": "markdown",
   "metadata": {},
   "source": [
    "Random values are drawn from a <a href=\"https://docs.scipy.org/doc/numpy-1.15.0/reference/generated/numpy.random.uniform.html#numpy.random.uniform\" target=\"_blank\">uniform distribution.</a>\n",
    "\n",
    "- Samples are uniformly distributed over the half-open interval [low, high) (includes low, but excludes high). In other words, any value within the given interval is equally likely to be drawn by uniform. (Machinemastery, 2019)\n",
    "\n",
    "The example below generates 10 random integer values between 0 and 10."
   ]
  },
  {
   "cell_type": "code",
   "execution_count": 12,
   "metadata": {},
   "outputs": [
    {
     "name": "stdout",
     "output_type": "stream",
     "text": [
      "1D Array:\n",
      " [3 7 7 5 3 6 5] \n",
      "\n",
      "2D Array:\n",
      " [[6 5 4 3]\n",
      " [6 6 5 7]\n",
      " [6 5 6 7]\n",
      " [4 7 4 3]\n",
      " [6 4 5 4]\n",
      " [6 6 6 5]] \n",
      "\n"
     ]
    }
   ],
   "source": [
    "# Returned arrays will output random integers, from low to high, and size.\n",
    "# 1D Array, lowest number will be 3 , highest number up to but not including 8,\n",
    "# 7 values will be displayed in the array\n",
    "randint_array1D = np.random.randint(low = 3, high = 8, size = 7) \n",
    "print (\"1D Array:\\n\",randint_array1D, \"\\n\")  \n",
    "\n",
    "# 2D Array, outputs an array that has an array within it. \n",
    "randint_array2D = np.random.randint(low = 3, high = 8, size = (6, 4)) # 6 rows, with 4 values in each.\n",
    "print (\"2D Array:\\n\",randint_array2D, \"\\n\") "
   ]
  },
  {
   "cell_type": "markdown",
   "metadata": {},
   "source": [
    "#### Numpy.random.choice\n",
    "-  Generates a random sample from a given 1-D array\n"
   ]
  },
  {
   "cell_type": "code",
   "execution_count": 13,
   "metadata": {},
   "outputs": [
    {
     "data": {
      "text/plain": [
       "array([3, 4, 3])"
      ]
     },
     "execution_count": 13,
     "metadata": {},
     "output_type": "execute_result"
    }
   ],
   "source": [
    "# Generate a uniform random sample from np.arange(5) of size 3:\n",
    "np.random.choice(5, 3)"
   ]
  },
  {
   "cell_type": "markdown",
   "metadata": {},
   "source": [
    "#### Numpy.random.ranf\n",
    "- Return random floats in the half-open interval [0.0, 1.0)."
   ]
  },
  {
   "cell_type": "code",
   "execution_count": 14,
   "metadata": {
    "scrolled": true
   },
   "outputs": [
    {
     "data": {
      "text/plain": [
       "0.9782212533356265"
      ]
     },
     "execution_count": 14,
     "metadata": {},
     "output_type": "execute_result"
    }
   ],
   "source": [
    "# numpy.random.ranf\n",
    "np.random.random_sample()"
   ]
  },
  {
   "cell_type": "markdown",
   "metadata": {},
   "source": [
    "- Displays what type of an integer it is."
   ]
  },
  {
   "cell_type": "code",
   "execution_count": 15,
   "metadata": {},
   "outputs": [
    {
     "data": {
      "text/plain": [
       "float"
      ]
     },
     "execution_count": 15,
     "metadata": {},
     "output_type": "execute_result"
    }
   ],
   "source": [
    "# Type of number\n",
    "type(np.random.random_sample())"
   ]
  },
  {
   "cell_type": "markdown",
   "metadata": {},
   "source": [
    "- Displays five random numbers."
   ]
  },
  {
   "cell_type": "code",
   "execution_count": 16,
   "metadata": {},
   "outputs": [
    {
     "data": {
      "text/plain": [
       "array([0.01941315, 0.55621206, 0.70226801, 0.27864064, 0.00327204])"
      ]
     },
     "execution_count": 16,
     "metadata": {},
     "output_type": "execute_result"
    }
   ],
   "source": [
    "# Number of random numbers.\n",
    "np.random.random_sample((5,))"
   ]
  },
  {
   "cell_type": "markdown",
   "metadata": {},
   "source": [
    "- Three-by-two array of random numbers from [-5, 0)"
   ]
  },
  {
   "cell_type": "code",
   "execution_count": 17,
   "metadata": {
    "scrolled": true
   },
   "outputs": [
    {
     "data": {
      "text/plain": [
       "array([[-1.04076078, -0.47923463],\n",
       "       [-2.28848773, -3.68019802],\n",
       "       [-1.64397808, -2.29979208]])"
      ]
     },
     "execution_count": 17,
     "metadata": {},
     "output_type": "execute_result"
    }
   ],
   "source": [
    "# Three rows, two columns, numbers between -5 and 0.\n",
    "5 * np.random.random_sample((3, 2)) - 5"
   ]
  },
  {
   "cell_type": "markdown",
   "metadata": {},
   "source": [
    "- Generating 3 dimentional array."
   ]
  },
  {
   "cell_type": "code",
   "execution_count": 44,
   "metadata": {},
   "outputs": [
    {
     "name": "stdout",
     "output_type": "stream",
     "text": [
      "3D random values array : \n",
      " [[[0.95441227 0.95227795 0.6214889 ]\n",
      "  [0.64035553 0.95045165 0.67286566]\n",
      "  [0.04117333 0.84157413 0.8165543 ]]\n",
      "\n",
      " [[0.78251141 0.73526734 0.4773877 ]\n",
      "  [0.86620232 0.31552421 0.90653395]\n",
      "  [0.00137097 0.57548998 0.47452438]]\n",
      "\n",
      " [[0.27205127 0.26839872 0.98711439]\n",
      "  [0.92971622 0.18492277 0.453444  ]\n",
      "  [0.44734283 0.2529741  0.87419676]]]\n"
     ]
    }
   ],
   "source": [
    "array = np.random.rand(3,3,3) # Function for three arrays.\n",
    "print(\"3D random values array : \\n\", array);"
   ]
  },
  {
   "cell_type": "markdown",
   "metadata": {},
   "source": [
    "#### Numpy.random.bytes"
   ]
  },
  {
   "cell_type": "code",
   "execution_count": 19,
   "metadata": {},
   "outputs": [
    {
     "data": {
      "text/plain": [
       "b'\\xad\\xd2\\xc6@\\t6\\x0e\\xe5\\xe0\\x94\\x03\\xdey\\xd8\\xf4\\xf7PS'"
      ]
     },
     "execution_count": 19,
     "metadata": {},
     "output_type": "execute_result"
    }
   ],
   "source": [
    "# Returns a number of random bytes.\n",
    "np.random.bytes(18)"
   ]
  },
  {
   "cell_type": "markdown",
   "metadata": {},
   "source": [
    "## 2.2 Permutations \n",
    "- Next we will look at permutations shuffle and permutation , which is randomly permute a sequence, or return a permuted range.\n",
    "\n",
    "- Generally Numpy random.shuffle and random.permutation both shuffle elements in an array.\n",
    "\n"
   ]
  },
  {
   "cell_type": "markdown",
   "metadata": {},
   "source": [
    "### 2.2.1 Numpy.random.shuffle(x)\n",
    "- Random.shuffle function used to shuffle the sequence in place, it changes the position of items in a list.\n",
    "- Modify a sequence in-place by shuffling its contents."
   ]
  },
  {
   "cell_type": "code",
   "execution_count": 20,
   "metadata": {},
   "outputs": [
    {
     "data": {
      "text/plain": [
       "array([5, 0, 1, 2, 6, 7, 4, 3, 8, 9])"
      ]
     },
     "execution_count": 20,
     "metadata": {},
     "output_type": "execute_result"
    }
   ],
   "source": [
    "# Randomly shuffles the list.\n",
    "arr = np.arange(10)\n",
    "np.random.shuffle(arr)\n",
    "arr"
   ]
  },
  {
   "cell_type": "markdown",
   "metadata": {},
   "source": [
    "- If you want to shuffle as per your need, then you can pass your custom random function in the place of random argument, which will dictate shuffle function, and how it randomizes the items of a list. (Py.Native, 2019)\n",
    "- Can do the same with strings.\n"
   ]
  },
  {
   "cell_type": "code",
   "execution_count": 21,
   "metadata": {
    "scrolled": true
   },
   "outputs": [
    {
     "name": "stdout",
     "output_type": "stream",
     "text": [
      "List :  [5, 32, 21, 22, 56, 36, 34, 56, 6, 23]\n",
      "After first shuffle  :  [6, 23, 56, 32, 21, 56, 22, 34, 5, 36]\n",
      "After second shuffle :  [34, 56, 22, 36, 32, 5, 56, 21, 23, 6]\n"
     ]
    }
   ],
   "source": [
    "number_list = [5, 32, 21, 22, 56, 36, 34, 56, 6, 23]\n",
    "print (\"List : \",  number_list)\n",
    "\n",
    "np.random.shuffle(number_list)\n",
    "print (\"After first shuffle  : \",  number_list)\n",
    "\n",
    "np.random.shuffle(number_list)\n",
    "print (\"After second shuffle : \",  number_list)"
   ]
  },
  {
   "cell_type": "markdown",
   "metadata": {},
   "source": [
    "- Shuffle a list of strings."
   ]
  },
  {
   "cell_type": "code",
   "execution_count": 22,
   "metadata": {},
   "outputs": [
    {
     "name": "stdout",
     "output_type": "stream",
     "text": [
      "Original String list:  ['Let it rain', 'Chelsea Football Club', 'John is there', \"Don't do it\", 'He left to go shopping', 'The bus stop', 'Leave the ball']\n",
      "String List after the first shuffle:  ['Let it rain', 'The bus stop', 'Chelsea Football Club', 'He left to go shopping', \"Don't do it\", 'John is there', 'Leave the ball']\n",
      "String List after the second shuffle:  [\"Don't do it\", 'Let it rain', 'John is there', 'Leave the ball', 'Chelsea Football Club', 'The bus stop', 'He left to go shopping']\n"
     ]
    }
   ],
   "source": [
    "string_list = [\"Let it rain\", \"Chelsea Football Club\", \"John is there\", \"Don't do it\", \"He left to go shopping\", \"The bus stop\", \"Leave the ball\"]\n",
    "print (\"Original String list: \",  string_list) # Create a list which we will use a function to shuffle below.\n",
    "\n",
    "\n",
    "np.random.shuffle(string_list) # Random function shuflles list, generates list in different order to original.\n",
    "print (\"String List after the first shuffle: \",  string_list)\n",
    "\n",
    "\n",
    "\n",
    "np.random.shuffle(string_list) # Same as above, random shuffles again, using the same function as above.\n",
    "print (\"String List after the second shuffle: \",  string_list)\n"
   ]
  },
  {
   "cell_type": "markdown",
   "metadata": {},
   "source": [
    "- Below we can shuffle just a string."
   ]
  },
  {
   "cell_type": "code",
   "execution_count": 23,
   "metadata": {},
   "outputs": [
    {
     "name": "stdout",
     "output_type": "stream",
     "text": [
      "Original String:  chocolate\n",
      "shuffled String is:  aceocotlh\n"
     ]
    }
   ],
   "source": [
    "# Randomly shuffles a string\n",
    "string_one = \"chocolate\" # Setting variable \n",
    "print (\"Original String: \", string_one)# Prints output of original string.\n",
    "\n",
    "char_list = list(string_one) # Function for string we want to shuffle.\n",
    "\n",
    "\n",
    "np.random.shuffle(char_list) # Function for shuffling the string.\n",
    "\n",
    "string_one = ''.join(char_list)\n",
    "print (\"shuffled String is: \", string_one) # Prints shuffled string from original string."
   ]
  },
  {
   "cell_type": "markdown",
   "metadata": {},
   "source": [
    "### 2.2.2 Numpy.random.permutation(x) \n",
    "\n",
    "\n",
    "Randomly permute a sequence, or return a permuted range. If x is a multi-dimensional array, it is only shuffled along its first index. (Sci.py.org)\n",
    "\n",
    "- Generally, in Numpy, both random.permutation and random.shuffle randomly shuffle elements in an array. But there are differences:\n",
    "\n",
    "- If you want to generate random permutations of x, then what is the difference between shuffle(x) and permutation(x)?\n",
    "- np.random.permutation has <a href=\"https://stackoverflow.com/questions/15474159/shuffle-vs-permute-numpy\" target=\"_blank\">two</a> differences from np.random.shuffle:\n",
    "\n",
    "   - 1. If passed an array, it will return a shuffled copy of the array; np.random.shuffle shuffles the array in place.\n",
    "   - 2. If passed an integer, it will return a shuffled range i.e. np.random.shuffle(np.arange(n))\n",
    "- If x is an integer, randomly permute np.arange(x). If x is an array, make a copy and shuffle the elements randomly.\n",
    "- np.random.permutation is useful when you need to shuffle ordered pairs, especially for classification. (Stackoverflow, 2016)"
   ]
  },
  {
   "cell_type": "code",
   "execution_count": 24,
   "metadata": {},
   "outputs": [
    {
     "data": {
      "text/plain": [
       "array([1, 0, 9, 2, 6, 5, 7, 3, 4, 8])"
      ]
     },
     "execution_count": 24,
     "metadata": {},
     "output_type": "execute_result"
    }
   ],
   "source": [
    "# Displays all the numbers from 0 to the number you enter.\n",
    "np.random.permutation(10)# Function which randomly returns a permuted range of numbers between 0 and 10."
   ]
  },
  {
   "cell_type": "code",
   "execution_count": 25,
   "metadata": {
    "scrolled": true
   },
   "outputs": [
    {
     "data": {
      "text/plain": [
       "array([12,  9,  4, 15,  1])"
      ]
     },
     "execution_count": 25,
     "metadata": {},
     "output_type": "execute_result"
    }
   ],
   "source": [
    "# Outputs the numbers you entered, randomly.\n",
    "np.random.permutation([1, 4, 9, 12, 15]) # Random permutation function, for returning numbers you enetered in any order."
   ]
  },
  {
   "cell_type": "code",
   "execution_count": 26,
   "metadata": {
    "scrolled": true
   },
   "outputs": [
    {
     "data": {
      "text/plain": [
       "array([[0, 1, 2],\n",
       "       [6, 7, 8],\n",
       "       [3, 4, 5]])"
      ]
     },
     "execution_count": 26,
     "metadata": {},
     "output_type": "execute_result"
    }
   ],
   "source": [
    "# Displays nums between 0 and 9 in three rows.\n",
    "arr = np.arange(9).reshape((3, 3))\n",
    "np.random.permutation(arr)"
   ]
  },
  {
   "cell_type": "markdown",
   "metadata": {},
   "source": [
    "## 3. Explain the use and purpose of some of the “Distributions” functions.\n",
    "### Distribution Functions"
   ]
  },
  {
   "cell_type": "markdown",
   "metadata": {},
   "source": [
    "#### 3.1 The Poisson Distribution\n",
    "\n",
    "The <a href=\"https://www.statisticshowto.datasciencecentral.com/poisson-distribution/\" target=\"_blank\">Poisson</a> distribution function is a statistical distribution that shows how many times an event is likely to occur within a specified period of time.\n",
    "\n",
    "The French mathematician Siméon-Denis Poisson developed his function in 1830 to describe many models, for example, the number of times a gambler would win a rarely won game of chance in a large number of tries. (Britannica, 2019.)\n",
    "\n",
    "![title](PoissonImage.jpg) Source(Britannica)\n",
    "\n",
    "Helps us to predict the probability of certain events from happening when you know how often the event has occurred. It gives us the probability of a given number of events happening in a fixed interval of time. (Statistics How To, 2013)\n",
    "\n",
    "For example, the number of football fans in a certain day of the weekend. If the average number of fans for three days is 35,500, you can predict the probability of a certain day having more fans attend. You can see why businesses would use this distribution to try and predict/forecast over an x amount of time, to help with demand etc.\n",
    "\n",
    "We can see here that the formula is, and how it is <a href=\"https://www.youtube.com/watch?v=Fk02TW6reiA\" target=\"_blank\">calculated.</a>\n",
    "\n",
    "\n",
    "\n",
    "\n",
    "\n",
    "![title](Poissonformula.png)\n",
    "\n",
    "\n",
    "![title](PoissonDisFormula.png)\n",
    "Source (Towards Data Science, 2018)\n",
    "\n",
    "\n",
    "\n",
    "\n",
    "The Poisson parameter Lambda (λ) is the total number of events (k) divided by the number of units (n) in the data (λ = k/n). The unit forms the basis or denominator for calculation of the average, and need not be individual cases or research subjects. For example, the number of asthma attacks may be based on the number of child months, or the number of pregnancies based on the number of women years in using a particular contraceptive.\n",
    "\n",
    "This is different to the Binomial parameter of proportion or risk where proportion is the number of individuals classified as positive (p) divided by the total number of individuals in the data (r = p/n). Proportion or risk must always be a number between 0 and 1, while λ may be any positive number.\n",
    "\n",
    "For examples, if we have 100 people, and only 90 of them go shopping in a week then the binomial risk of shopping is 90/100 = 0.9. However, some of the people will go shopping more than once in the week, and the total number of shopping trips between the 100 people may be 160, and the Poisson Lambda is 160/100 = 1.6 per 100 person week\n",
    "\n",
    "Large Lambda (λ=k/n), say over 200, assumes an approximately normal or geometric distribution, and the count (or sqrt(count)) can be used as a Parametric measurement. If the events occur very few times per individual, so that individuals can be classified as positive or negative cases, then the Binomial distribution (we will discuss below), can be assumed, and statistics related to proportions used. In between, or when events are infrequent, the Poisson distribution is used. (Stats To Do, 2014)"
   ]
  },
  {
   "cell_type": "code",
   "execution_count": 27,
   "metadata": {},
   "outputs": [
    {
     "data": {
      "image/png": "[encoded data removed]",
      "text/plain": [
       "<Figure size 432x288 with 1 Axes>"
      ]
     },
     "metadata": {
      "needs_background": "light"
     },
     "output_type": "display_data"
    }
   ],
   "source": [
    "# Poisson fuction is give sample.\n",
    "s = np.random.poisson(4, 10000)\n",
    "# Displays histogram of the samples we gave the poisson distribution above.\n",
    "count, bins, ignored = plt.hist(s, 14, density=True) # Plots Histogram.\n",
    "plt.show()"
   ]
  },
  {
   "cell_type": "markdown",
   "metadata": {},
   "source": [
    "We can take another example below to demonstrate poisson probability further. "
   ]
  },
  {
   "cell_type": "markdown",
   "metadata": {},
   "source": [
    "#### 3.2 The Uniform Distribution\n",
    "<a href=\"https://docs.scipy.org/doc/numpy-1.15.0/reference/generated/numpy.random.uniform.html#numpy.random.uniform\" target=\"_blank\">Uniform distribution</a> in statistics, a type of probability distribution in which all outcomes are equally likely; each variable has the same probability that it will be the outcome. A deck of cards has within it uniform distributions because the likelihood of drawing a heart, a club, a diamond or a spade is equally likely. A coin also has a uniform distribution because the probability of getting either heads or tails in a coin toss is the same.\n",
    "\n",
    "![title](UniformDisFormula.png)\n",
    "\n",
    "The uniform distribution can be visualized as a straight horizontal line, so for a coin flip returning a head or tail, both have a probability p = 0.50 and would be depicted by a line from the y-axis at 0.50."
   ]
  },
  {
   "cell_type": "code",
   "execution_count": 28,
   "metadata": {
    "scrolled": true
   },
   "outputs": [
    {
     "data": {
      "text/plain": [
       "array([4.0175671 , 4.60491698, 2.96877755, 4.91926935, 3.28450864,\n",
       "       4.16392361, 3.8142875 , 4.60980304, 3.25623086, 2.15171462])"
      ]
     },
     "execution_count": 28,
     "metadata": {},
     "output_type": "execute_result"
    }
   ],
   "source": [
    "# Get a 1000 numbers back.\n",
    "# Random,rand will only give you numbers between 0 and 1.\n",
    "# Random uniform will give you any numbers.\n",
    "np.random.uniform(2,5,10)"
   ]
  },
  {
   "cell_type": "code",
   "execution_count": 29,
   "metadata": {},
   "outputs": [
    {
     "data": {
      "text/plain": [
       "(array([1047., 1052.,  970., 1015., 1040.,  955.,  982.,  962., 1017.,\n",
       "         960.]),\n",
       " array([3.12082788e-02, 1.00025799e+02, 2.00020391e+02, 3.00014982e+02,\n",
       "        4.00009573e+02, 5.00004164e+02, 5.99998755e+02, 6.99993346e+02,\n",
       "        7.99987937e+02, 8.99982529e+02, 9.99977120e+02]),\n",
       " <a list of 10 Patch objects>)"
      ]
     },
     "execution_count": 29,
     "metadata": {},
     "output_type": "execute_result"
    },
    {
     "data": {
      "image/png": "[encoded data removed]",
      "text/plain": [
       "<Figure size 432x288 with 1 Axes>"
      ]
     },
     "metadata": {
      "needs_background": "light"
     },
     "output_type": "display_data"
    }
   ],
   "source": [
    "# Pretty much does the same thing as the rand function which we looked at above.\n",
    "x = np.random.uniform(0,1000,10000)\n",
    "# Shows the numbers on a bar chart.\n",
    "plt.hist(x)"
   ]
  },
  {
   "cell_type": "markdown",
   "metadata": {},
   "source": [
    "#### 3.3 Numpy.Random.Normal.\n",
    "\n",
    "Normal distribution, also known as the Gaussian distribution, is a probability distribution that is symmetric about the mean, showing that data near the mean are more frequent in occurrence than data far from the mean.\n",
    "\n",
    "Draw random samples from a normal (Gaussian) distribution.\n",
    "\n",
    "\n",
    "The probability density function of the normal distribution, first derived by De Moivre and 200 years later by both Gaus.\n",
    "\n",
    "\n",
    "The normal distributions occurs often in nature. For example, it describes the commonly occurring distribution of samples influenced by a large number of tiny, random disturbances, each with its own unique distribution\n",
    "\n",
    "\n",
    "Below the numbers with e-01 at the end of it, means multipy whatever came before the e by 10 to the minus 1 or divide by 10, e-02 means divide by 100 and so on.\n",
    "\n",
    "\n",
    "Can take more functions and see how they work if you like. (Sci.Py.org, 2019)"
   ]
  },
  {
   "cell_type": "code",
   "execution_count": 30,
   "metadata": {},
   "outputs": [
    {
     "data": {
      "text/plain": [
       "array([ 1.26816949e-01, -6.24315729e-02, -3.54498441e-02, -8.81230046e-02,\n",
       "       -4.75527568e-02, -2.29465729e-01, -5.48235140e-03,  6.73948297e-02,\n",
       "       -4.26263253e-02,  1.97292363e-03,  5.89937157e-02, -9.50802121e-03,\n",
       "        3.73302891e-02,  2.97719383e-02,  8.33288163e-02,  2.85473810e-02,\n",
       "       -5.38749355e-02, -8.42747455e-02, -2.67139615e-02, -9.64418655e-02,\n",
       "        3.30543955e-02,  7.75530158e-02, -3.75300608e-02,  1.41277639e-02,\n",
       "       -1.14634009e-02,  1.99067882e-01,  5.70166753e-02,  7.50940964e-03,\n",
       "        1.63880384e-01, -4.11543788e-02,  2.67358793e-02,  3.12927748e-02,\n",
       "        1.90139889e-01, -1.05837611e-01, -1.39738685e-01,  7.62668977e-02,\n",
       "       -1.76611376e-02, -5.71923808e-02, -1.21081563e-04,  9.25193740e-02,\n",
       "        9.79638738e-02, -1.54754033e-02,  4.35356001e-02, -4.86006087e-02,\n",
       "       -1.07006317e-03,  2.06814762e-02,  1.20653448e-01,  9.16498800e-02,\n",
       "       -4.09589453e-02,  2.18117601e-02, -9.48045631e-03, -8.76318227e-03,\n",
       "       -1.50750675e-02, -4.23814026e-02,  1.02048621e-01,  1.89424805e-01,\n",
       "        2.80521554e-02, -1.04525640e-01, -6.69690026e-03,  2.49645778e-02,\n",
       "        3.69859629e-02, -1.95185221e-01, -1.52318654e-01, -3.51731114e-02,\n",
       "        3.69225576e-02, -3.30508086e-02, -2.10169687e-02, -3.70704709e-02,\n",
       "        3.47523397e-02, -7.33358326e-02, -1.17497704e-01,  1.07393306e-01,\n",
       "       -2.61220110e-01, -1.39499874e-01, -2.14813436e-01,  3.82798182e-02,\n",
       "       -1.31771994e-01,  1.87668739e-02, -4.23697666e-02,  2.39021461e-02,\n",
       "        1.02016119e-01,  2.82839005e-02,  7.22474480e-02, -8.89722697e-02,\n",
       "        2.46291471e-01,  9.81558773e-02,  1.73832684e-01, -2.90500851e-02,\n",
       "       -2.82779116e-02, -1.52575266e-01, -5.51497037e-02, -2.04803570e-02,\n",
       "       -1.13412477e-01,  1.19984227e-01,  3.48017407e-02,  2.87047594e-01,\n",
       "        7.93115232e-02, -1.80612735e-01, -1.52877878e-01, -3.37988737e-02,\n",
       "       -1.25370440e-01, -2.25202141e-02, -1.59151929e-01, -2.45817517e-01,\n",
       "       -1.54784871e-01,  9.34952074e-02, -1.79224859e-01, -1.62261855e-01,\n",
       "        6.67989480e-02,  6.34069951e-02,  6.83981941e-02,  2.22981611e-02,\n",
       "       -1.19604942e-01, -5.31527095e-02, -1.72570047e-02, -2.34605798e-01,\n",
       "       -5.08104132e-03, -3.97718387e-02, -1.67496211e-01, -1.65035381e-02,\n",
       "        7.33762403e-02,  2.59758051e-02,  2.68229180e-02, -1.83695251e-02,\n",
       "        2.78442496e-02,  2.30267012e-02,  5.03193219e-03, -8.16457621e-02,\n",
       "       -1.62904831e-02,  1.02783270e-01, -6.47446041e-02,  3.80788899e-02,\n",
       "       -1.17780176e-01, -1.04683950e-01,  2.45975678e-02,  3.63393342e-02,\n",
       "       -2.26219179e-01,  1.10756656e-01,  1.38708989e-01,  1.29613703e-01,\n",
       "        3.37202567e-02,  6.88150137e-02, -1.63451684e-02,  2.66172534e-02,\n",
       "        1.65102234e-02,  3.89929138e-02, -1.76301945e-02,  1.07738570e-03,\n",
       "        2.29946233e-01,  5.15852485e-02,  4.28386090e-02, -5.76467218e-02,\n",
       "        2.35826437e-02, -1.33232653e-01, -2.35200525e-01,  2.61875545e-01,\n",
       "        1.16877827e-01, -1.03369252e-05, -8.71030282e-02, -1.02134310e-01,\n",
       "        1.55173325e-01, -1.59611909e-01, -7.88066443e-02, -1.69980175e-01,\n",
       "       -1.17656470e-01, -7.54444775e-02, -7.32417034e-02, -1.70756104e-02,\n",
       "       -1.92043189e-02,  1.49120031e-01, -1.62346324e-04,  3.32536093e-02,\n",
       "       -1.23738804e-01, -2.13552883e-01,  1.76306957e-01, -1.89596584e-01,\n",
       "       -1.38656379e-01, -1.12673188e-01, -1.61494825e-01,  2.50334679e-02,\n",
       "        5.76808943e-03, -5.01805947e-02,  2.03502238e-01,  7.86280322e-02,\n",
       "        8.81360951e-02,  7.41851332e-02,  4.31287852e-03, -1.51775815e-01,\n",
       "        2.37323309e-01, -5.29436135e-02,  6.48722793e-02,  1.40013816e-03,\n",
       "        6.59928154e-02, -6.33037417e-02, -5.04393527e-02,  4.22591180e-02,\n",
       "       -1.10140401e-01, -1.70036197e-01, -8.59171656e-02,  2.33665637e-02,\n",
       "        1.46966031e-01, -9.12340621e-02, -3.71616384e-02,  7.05569374e-02,\n",
       "        6.48515135e-02, -1.55765092e-02,  7.57306824e-02, -2.25402993e-01,\n",
       "       -5.87783345e-02,  9.23170471e-02,  1.31370982e-01,  6.88055639e-02,\n",
       "        5.23614947e-02,  2.11553275e-02,  9.00872281e-02, -1.66514700e-01,\n",
       "       -8.97674129e-02,  7.01218986e-02, -2.49088897e-03,  2.44105014e-01,\n",
       "       -6.96340629e-02, -1.08218430e-01, -1.96735592e-01,  1.33357030e-01,\n",
       "        9.48499635e-03, -9.64669254e-02,  1.85314177e-01, -3.93850961e-02,\n",
       "       -1.81875733e-02,  3.74310054e-02, -8.93192196e-02,  7.39475562e-02,\n",
       "        4.04832166e-02, -1.21616158e-01,  1.00517764e-01,  5.23016450e-02,\n",
       "       -7.72152000e-02, -1.34441911e-01,  1.73124535e-01, -7.29599034e-02,\n",
       "       -6.94617998e-02,  8.39602529e-02, -8.81331921e-02,  1.28394368e-01,\n",
       "        3.88036469e-02,  3.18716567e-02, -4.78831968e-02, -6.86088428e-03,\n",
       "        3.02896763e-02,  1.09314032e-01, -4.33887129e-02,  9.58167328e-02,\n",
       "        5.05481356e-02,  4.53985308e-02,  1.12198023e-01,  1.32934299e-02,\n",
       "       -1.30529391e-02, -6.39108739e-02, -3.63977531e-02, -2.01258948e-01,\n",
       "       -1.11467357e-01, -8.42194441e-02, -1.88146472e-02,  1.91250810e-02,\n",
       "       -1.63941671e-01, -6.12836774e-02, -7.02510576e-02, -4.91457571e-02,\n",
       "        1.85657511e-01,  1.08461484e-01,  5.21856913e-02,  2.71721090e-02,\n",
       "        1.14697630e-01, -5.80386951e-02, -2.61360095e-02,  1.85269742e-01,\n",
       "        6.34554710e-02, -2.08330449e-03, -1.61884543e-01, -1.01882527e-02,\n",
       "       -1.10590140e-01, -3.11525952e-02, -1.03695143e-02, -1.26550802e-02,\n",
       "       -1.01609025e-01, -2.02191759e-01,  2.01576990e-01,  4.62502265e-02,\n",
       "        2.06027178e-01, -3.59540120e-02,  4.02386438e-02, -9.13308397e-03,\n",
       "       -3.46823239e-03,  1.25444009e-01,  5.58104771e-02, -2.89020142e-02,\n",
       "        1.44851663e-01,  2.27065399e-02, -5.40354601e-02,  1.23329121e-01,\n",
       "       -1.11087960e-02,  1.37365756e-01, -3.21227379e-02, -1.31219624e-01,\n",
       "        6.89505267e-02, -6.17238517e-02,  2.31018695e-02, -1.32868801e-01,\n",
       "        1.25235510e-01,  4.26711727e-02, -1.74135538e-01, -5.77902081e-02,\n",
       "        1.02108826e-01,  1.19269838e-01,  5.70587336e-02,  1.68950692e-01,\n",
       "        9.11029025e-03, -6.64260313e-03, -5.69887956e-02,  2.01583188e-01,\n",
       "        6.24425082e-02,  2.05478003e-02,  4.31136239e-02,  1.91347392e-01,\n",
       "        8.12794130e-02,  4.16158576e-03, -1.74275523e-01, -1.65906334e-01,\n",
       "       -1.25284830e-01, -1.62695856e-01,  1.39804252e-01, -3.59498218e-02,\n",
       "       -5.51155586e-02,  9.10891506e-02,  7.19912189e-02,  2.99234491e-02,\n",
       "        8.81187460e-02, -1.66432207e-01,  7.82735922e-02,  7.53756988e-03,\n",
       "        3.93572391e-02, -3.03915692e-02, -8.86919042e-02, -3.37898574e-02,\n",
       "       -5.63165734e-02,  4.02606275e-02, -1.54366480e-01,  8.90914925e-02,\n",
       "       -3.38299270e-02,  7.14816583e-02,  4.83898189e-02, -1.31800073e-01,\n",
       "        1.40991261e-02, -9.69774616e-02,  1.59739278e-01, -5.82853887e-02,\n",
       "       -2.23466050e-02,  8.58708824e-02,  5.25025353e-02, -7.27124427e-02,\n",
       "        2.23870479e-01,  1.86522429e-02, -6.58123986e-02, -1.45484712e-01,\n",
       "        8.78515351e-02,  8.82934887e-02,  8.38413629e-02,  6.45451469e-03,\n",
       "       -5.13911693e-02,  9.71150333e-02, -9.80725849e-02, -1.45850684e-01,\n",
       "        1.59385334e-01,  6.86686095e-03,  5.83539981e-02,  4.92916248e-02,\n",
       "        3.88074523e-02,  6.07644979e-02,  9.45193327e-02,  2.45191777e-02,\n",
       "        6.64095183e-02,  1.03693563e-01, -1.66255538e-01, -8.98870576e-02,\n",
       "        5.99695424e-02,  7.38417492e-02, -9.73710614e-03,  1.04839070e-01,\n",
       "       -7.26931289e-02, -1.80184543e-02,  1.43391662e-01,  5.26193306e-02,\n",
       "       -2.74246175e-03,  6.45153953e-03,  9.59668659e-02, -1.48855527e-01,\n",
       "       -1.10634837e-01, -3.35084360e-02,  6.94983217e-02, -1.65694377e-01,\n",
       "        6.99388281e-02, -6.72101803e-02,  6.84481768e-02,  2.67960536e-02,\n",
       "       -2.02434672e-01,  1.05945152e-01, -7.64924343e-02, -4.81863324e-02,\n",
       "        5.90492944e-02,  2.04668014e-02, -2.08820569e-02,  5.90252278e-02,\n",
       "       -2.50291530e-02, -2.59164450e-02,  1.50314315e-01, -5.65691216e-02,\n",
       "        7.36438546e-02, -4.44621331e-02,  3.78248327e-03, -2.01468398e-02,\n",
       "       -1.79539140e-01,  1.74251827e-01, -4.75952806e-02,  8.14094182e-02,\n",
       "        2.92496318e-02,  3.18965754e-02,  2.62724010e-03,  2.68888175e-01,\n",
       "        1.45841448e-01, -1.80388315e-01,  1.00885456e-01, -7.49296456e-02,\n",
       "        6.81338492e-02, -1.01108507e-01, -2.34894065e-02, -3.34841294e-02,\n",
       "       -8.56202209e-02,  2.26327666e-01,  6.28271758e-02, -4.58163972e-02,\n",
       "        8.19755477e-02, -1.30055792e-01, -7.64506914e-02,  4.68073296e-02,\n",
       "       -2.57267425e-02, -1.01810257e-01,  7.44847790e-02, -3.41639360e-02,\n",
       "       -1.14383610e-01, -4.03505247e-03, -4.25287120e-02,  3.93247986e-03,\n",
       "       -9.43379008e-02,  2.38525324e-02, -3.61652788e-02, -1.12593670e-01,\n",
       "        9.20752349e-02,  2.06031935e-02,  1.95619135e-01,  4.08524235e-02,\n",
       "        8.28869328e-02, -3.17622340e-01, -2.63027899e-01, -1.69196462e-02,\n",
       "        5.00363840e-02, -1.97048833e-01,  8.60027673e-03, -3.47633958e-02,\n",
       "        1.24584080e-01,  6.88288980e-02,  1.21949933e-02, -3.12407461e-03,\n",
       "       -2.26028700e-02,  9.05128036e-02, -1.93082028e-02, -6.86193659e-03,\n",
       "        1.36169485e-03,  1.72317277e-01, -1.28591485e-01, -2.13105996e-01,\n",
       "       -9.46040559e-03,  1.59358627e-02,  2.83846809e-02,  6.47675004e-02,\n",
       "       -1.01596273e-03, -4.00504500e-02,  8.41854158e-02,  1.16592255e-01,\n",
       "        2.23974778e-02, -5.99577348e-02,  1.83595856e-02,  4.30192045e-02,\n",
       "        2.19882584e-01,  1.25390321e-02,  7.18518761e-02, -3.31470410e-02,\n",
       "        3.77238642e-02, -2.32266251e-01, -2.00125471e-02,  1.54433432e-01,\n",
       "       -5.73057747e-02,  2.18519643e-02, -9.18491498e-03, -8.79396173e-02,\n",
       "       -3.30960793e-02, -9.18919628e-02,  1.44479112e-01, -1.05713110e-01,\n",
       "       -1.06584049e-01, -6.25510354e-02, -1.99953863e-01,  1.10278895e-01,\n",
       "       -7.16753571e-02, -5.62850525e-02,  8.45270903e-02,  1.08963551e-01,\n",
       "       -7.29869799e-02,  6.52011627e-02,  9.58405477e-04,  3.06394720e-02,\n",
       "       -8.69835357e-02, -4.43437015e-02, -3.20177691e-02, -2.11753569e-02,\n",
       "        6.05129734e-02, -5.43750238e-03,  1.20499079e-02,  4.72933682e-03,\n",
       "       -1.45134903e-01, -1.17303945e-02, -4.68905455e-03,  8.39213430e-02,\n",
       "        1.26203553e-01,  1.95256432e-01, -1.11659932e-02,  4.89580714e-02,\n",
       "       -9.42722616e-02, -2.20710869e-02, -6.47371239e-02, -1.19298937e-01,\n",
       "        4.28905552e-02,  8.50216160e-02, -1.05669335e-01,  1.72821816e-01,\n",
       "        1.50659399e-01,  1.65992315e-01, -6.94941966e-02,  9.13587186e-02,\n",
       "       -7.48830291e-02,  1.14538834e-01, -2.04305490e-02,  4.51132079e-02,\n",
       "       -9.62915564e-02, -1.89162446e-01,  1.84415577e-01, -1.04457042e-01,\n",
       "        1.89333962e-02, -9.97753732e-02,  2.53049805e-02,  1.00396535e-01,\n",
       "       -6.02367575e-02, -2.91735447e-02, -1.18759315e-01,  9.46481108e-02,\n",
       "        1.60013645e-01,  7.01721805e-02,  4.94384741e-02, -1.17815503e-01,\n",
       "        2.01888214e-02, -7.50190556e-02, -1.47615028e-01, -4.63876336e-02,\n",
       "        8.11322037e-03, -1.11465715e-01, -8.30134081e-02, -4.53005622e-02,\n",
       "       -1.36212712e-01, -2.96131326e-02,  2.54842304e-02, -3.66439980e-02,\n",
       "       -7.72519774e-02,  2.05532626e-02, -5.57696940e-02,  3.65430023e-03,\n",
       "       -1.06305760e-01, -6.81127482e-02, -2.93304250e-02,  8.68092693e-02,\n",
       "        5.47656458e-02,  1.23996583e-01, -5.62366416e-02,  6.50875026e-02,\n",
       "        8.85559909e-02, -1.10284029e-01, -1.28771174e-01, -2.29729118e-02,\n",
       "       -5.46932912e-02, -7.41181831e-02, -1.51675179e-01, -6.64963726e-03,\n",
       "        2.56043930e-02,  9.96818949e-02,  2.13667258e-02,  4.71982623e-02,\n",
       "       -1.69170765e-01,  1.11988685e-01, -7.61869452e-02,  6.54917259e-02,\n",
       "        5.28771124e-03, -1.02104325e-02, -1.45128927e-01,  4.99706462e-02,\n",
       "        1.45907503e-02,  5.42669818e-02,  6.99709155e-02,  2.31746264e-02,\n",
       "        1.07199561e-01,  4.74796576e-02, -2.24739456e-01,  1.00215131e-01,\n",
       "       -3.07890482e-02, -2.26116773e-02, -6.45668241e-02, -3.37989128e-03,\n",
       "        4.81533794e-02, -3.47527593e-01,  9.31988189e-02,  9.00514716e-02,\n",
       "       -1.36575762e-01, -3.39874361e-02,  1.90218105e-01,  7.29201394e-02,\n",
       "       -1.63869251e-01,  1.59914370e-01, -2.80031180e-02, -2.66761155e-01,\n",
       "        6.52099098e-02,  9.77279210e-03, -7.17891576e-02, -5.25114364e-02,\n",
       "        5.65478511e-03,  2.59074273e-02,  1.32591301e-01,  1.68966136e-01,\n",
       "        2.21274983e-02,  2.98162707e-02,  2.47210890e-02,  8.44578714e-02,\n",
       "       -9.92414099e-02, -1.66197924e-01, -1.95175823e-01,  5.56646018e-02,\n",
       "       -9.35494503e-02, -2.89609082e-03,  1.11938852e-01,  5.75321064e-02,\n",
       "       -5.15788261e-02,  1.17508446e-01, -2.03136744e-01, -2.10480157e-01,\n",
       "        6.77165713e-02, -8.13749833e-02,  2.54192088e-02, -4.99584262e-02,\n",
       "        9.56199890e-02, -1.02610168e-02,  7.92067023e-02, -3.26192887e-03,\n",
       "        1.87185461e-01,  1.52375741e-01,  1.48902358e-02,  6.86681245e-02,\n",
       "        1.96725373e-02,  8.43063153e-02,  9.58539381e-02, -5.05117162e-02,\n",
       "       -1.08260180e-01, -1.36245947e-01, -3.36021511e-02,  2.80241886e-02,\n",
       "        1.61651584e-01,  2.61396135e-02,  6.27340635e-02,  2.28935598e-01,\n",
       "        5.89491327e-02,  8.69877644e-02, -1.30086667e-01,  1.47723578e-01,\n",
       "       -3.76137125e-03,  8.04678245e-02,  1.45306246e-02,  3.70262642e-02,\n",
       "       -1.18619962e-01,  7.47071116e-02,  4.67997699e-02,  9.39629496e-02,\n",
       "        1.14469384e-02, -2.67474839e-02, -2.67407092e-01,  9.26381187e-02,\n",
       "       -3.75348459e-02, -3.75928075e-02, -8.42078196e-02,  9.53026463e-02,\n",
       "        6.04757229e-02,  7.97999932e-03, -4.15777686e-02,  1.00728525e-01,\n",
       "        1.14670584e-01,  5.61856510e-02,  3.15878543e-02, -7.99075095e-02,\n",
       "       -1.55218117e-01,  1.87245246e-01,  9.14840852e-02, -6.82170465e-02,\n",
       "        1.60793254e-02,  7.13649404e-02,  1.65144083e-01, -5.82560778e-02,\n",
       "        7.98762040e-02,  1.42994654e-02,  9.00655334e-02, -1.77824824e-01,\n",
       "        4.69826764e-02, -4.85797871e-02,  3.19417381e-03, -1.84506684e-01,\n",
       "        1.43062880e-01,  2.71027449e-02, -6.45472782e-02,  3.81796674e-02,\n",
       "       -1.02168093e-03, -2.63058096e-03,  8.12047510e-03,  7.25541352e-02,\n",
       "        4.45858306e-02,  1.98174970e-01,  8.53745281e-02, -6.75520016e-02,\n",
       "        3.78105184e-03,  3.03996093e-01, -2.15809478e-02,  2.55444432e-02,\n",
       "       -5.84208115e-02,  1.75534968e-02,  4.91285921e-03,  3.05322824e-02,\n",
       "       -1.04807758e-01, -1.04787324e-01,  6.71329223e-03,  2.71520328e-01,\n",
       "        1.89080931e-02, -2.60694240e-02, -6.62857184e-02,  9.44898449e-02,\n",
       "       -5.57512385e-02, -7.53689565e-02,  1.20024263e-01,  1.80136604e-03,\n",
       "        1.34218417e-01,  1.98517595e-02,  9.50332988e-02,  5.64130347e-03,\n",
       "        3.01164827e-02, -1.89261270e-03,  6.12814456e-02, -5.15278723e-02,\n",
       "        3.61449268e-03, -2.69539929e-02, -2.01429503e-02,  1.75583013e-02,\n",
       "       -2.14921893e-01, -8.18322652e-02, -5.18568631e-02, -9.65349749e-02,\n",
       "       -5.57432566e-02, -4.66437823e-03, -6.32354693e-02,  2.65955308e-02,\n",
       "       -2.35786520e-02, -5.17643510e-02,  4.44304422e-03,  9.74862102e-02,\n",
       "        1.64515067e-01,  4.20668213e-02, -2.62067234e-02,  9.98656669e-02,\n",
       "        6.86985158e-02, -3.62056452e-02,  1.61447603e-01, -3.78046546e-02,\n",
       "        2.18053146e-02, -1.80305943e-01, -1.77558279e-01, -1.13624986e-01,\n",
       "       -1.50123872e-01, -2.25671199e-01,  2.75447612e-02,  6.79074558e-02,\n",
       "       -1.06592957e-01,  9.14432529e-02,  6.15145074e-02,  1.38695818e-01,\n",
       "        2.18419555e-01, -7.71617058e-02, -2.22584007e-02,  6.30766099e-03,\n",
       "        1.46830132e-01, -3.95251903e-02,  4.88040132e-02,  3.46397695e-02,\n",
       "        1.56325491e-01,  7.36838650e-02, -6.45164506e-02,  1.24811873e-01,\n",
       "       -2.64881529e-01, -1.17401690e-01, -5.18847436e-02, -1.79783114e-03,\n",
       "       -4.51827206e-02,  5.55857115e-02, -6.77623588e-02, -2.33778779e-02,\n",
       "        1.46771625e-02, -1.34867852e-02,  1.05432970e-01,  1.25982667e-01,\n",
       "        1.76566815e-01,  4.08219245e-02,  6.93443344e-02, -2.09977502e-02,\n",
       "       -6.88026209e-02, -9.00007067e-02, -1.14326749e-01,  4.74932219e-02,\n",
       "        8.02242893e-02,  4.18074409e-02,  1.03178635e-01,  6.25237531e-03,\n",
       "       -1.38641217e-01, -7.24039367e-02, -2.87520783e-02,  4.70884220e-02,\n",
       "        1.43307807e-01,  1.60056087e-02, -1.07812802e-01, -1.27751124e-01,\n",
       "       -8.29002762e-02, -4.40321142e-02,  4.26720562e-02, -1.66472936e-01,\n",
       "        9.07093344e-02, -6.99509990e-02,  9.11155271e-02, -3.97541353e-02,\n",
       "        2.41742749e-02,  4.80496555e-02, -3.87283464e-02,  4.50607782e-03,\n",
       "        6.87820279e-02, -1.89086548e-02,  6.31036016e-02, -6.08068081e-02,\n",
       "       -4.80611928e-02, -2.20238358e-02,  5.48087890e-02, -4.73064577e-02,\n",
       "       -8.07667876e-02, -1.14828421e-01,  1.28379578e-01,  4.72918739e-02,\n",
       "        2.14135551e-01, -3.25539488e-02,  1.34383017e-01, -1.03099107e-01,\n",
       "       -1.41131973e-01, -4.94354326e-02, -1.20892383e-01, -1.47526521e-02,\n",
       "       -8.14397978e-02, -6.38986398e-02, -1.33272950e-01,  1.59483078e-01,\n",
       "        9.51773756e-03,  1.45506014e-02, -1.21691922e-01, -6.46473185e-03,\n",
       "        1.43958510e-01,  9.24474861e-02, -1.70337858e-01, -2.54734158e-02,\n",
       "       -6.50633376e-02, -1.73571446e-01,  2.02764686e-01,  1.64104764e-02,\n",
       "        2.16215666e-01, -7.49448229e-02,  7.05317095e-02, -7.38302207e-03,\n",
       "       -1.44410392e-01,  2.89486225e-02, -1.82577115e-01,  5.26111327e-02,\n",
       "       -1.42630957e-01, -5.40983018e-02, -1.66867469e-01, -8.87380373e-02,\n",
       "       -7.84680235e-02, -1.26653969e-02,  1.76367344e-02, -3.06175982e-02,\n",
       "       -1.47681541e-01,  1.05591665e-01,  9.54315241e-02, -4.50819829e-02,\n",
       "        8.05460491e-02, -2.23565931e-01,  1.24246680e-02,  1.56350252e-01,\n",
       "        4.64018294e-02,  1.80476345e-01, -1.93610388e-01, -2.22300445e-01,\n",
       "        1.39666028e-01,  1.31542278e-01, -8.62397164e-02,  1.46465390e-01,\n",
       "        3.98645084e-03, -1.84580181e-02,  1.73826266e-01,  3.73907687e-02,\n",
       "       -1.17139750e-02, -7.80193843e-02,  1.87586063e-01, -2.06168369e-01,\n",
       "        9.68520681e-02, -6.79441466e-02,  6.71368200e-02,  1.87165933e-02,\n",
       "       -4.45601476e-02, -1.01314339e-01, -1.12508508e-02,  4.01858983e-03,\n",
       "        1.42836986e-02, -4.67485476e-02,  7.69170289e-02, -8.64679715e-02,\n",
       "        7.73397542e-02, -1.53792173e-01, -1.57245333e-01,  1.58889686e-02,\n",
       "        1.23829654e-01, -6.50529583e-02,  8.36618788e-02, -2.41443787e-01,\n",
       "       -1.44226846e-01, -6.06596805e-02,  4.65045447e-02,  3.69550275e-02,\n",
       "        1.16825038e-01,  6.24223418e-02, -1.54491528e-02, -7.89360847e-02,\n",
       "       -4.98591408e-02, -1.07488840e-02,  3.74334859e-02,  8.31024807e-02,\n",
       "       -2.57661432e-01,  7.76544464e-02, -7.09764053e-02,  1.84507068e-01,\n",
       "        7.13571473e-03,  5.64256888e-02,  1.25559475e-01, -1.28655024e-01,\n",
       "        1.06144047e-02,  1.78216144e-01,  1.65920983e-01, -6.36164980e-02,\n",
       "       -4.50382134e-03,  2.01732290e-01,  3.97377099e-02, -4.24348485e-02,\n",
       "       -1.18389067e-01,  1.67824401e-01,  6.36476454e-02, -4.84656499e-02,\n",
       "        1.73352173e-02, -4.40311818e-02,  5.39163195e-02, -1.47297762e-02,\n",
       "        6.32332122e-02,  2.15813564e-02, -1.04600833e-01,  8.50305542e-02,\n",
       "       -6.67986069e-02, -9.91146658e-02, -1.32725139e-01,  8.84499113e-02])"
      ]
     },
     "execution_count": 30,
     "metadata": {},
     "output_type": "execute_result"
    }
   ],
   "source": [
    "np.random.normal(0, 0.1, 1000)"
   ]
  },
  {
   "cell_type": "code",
   "execution_count": 31,
   "metadata": {},
   "outputs": [
    {
     "data": {
      "text/plain": [
       "(array([ 10.,  19.,  54., 125., 225., 239., 187., 100.,  30.,  11.]),\n",
       " array([-8.08930529, -3.69836754,  0.6925702 ,  5.08350794,  9.47444569,\n",
       "        13.86538343, 18.25632117, 22.64725891, 27.03819666, 31.4291344 ,\n",
       "        35.82007214]),\n",
       " <a list of 10 Patch objects>)"
      ]
     },
     "execution_count": 31,
     "metadata": {},
     "output_type": "execute_result"
    },
    {
     "data": {
      "image/png": "[encoded data removed]",
      "text/plain": [
       "<Figure size 432x288 with 1 Axes>"
      ]
     },
     "metadata": {
      "needs_background": "light"
     },
     "output_type": "display_data"
    }
   ],
   "source": [
    "# The data is being centered around the first number, if you change it around you can see.\n",
    "x = np.random.normal(15, 7, 1000) # Values centre around the first value 15\n",
    "# Shows the data on the x axis\n",
    "plt.hist(x)"
   ]
  },
  {
   "cell_type": "markdown",
   "metadata": {},
   "source": [
    "#### 3.4 Numpy.random.binomial\n",
    "\n",
    "What Is Binomial Distribution?\n",
    "- The <a href=\"https://www.investopedia.com/terms/b/binomialdistribution.asp\" target=\"_blank\">Binomial</a> distribution is a probability distribution that summarizes the likelihood that a value will take one of two independent values under a given set of parameters or assumptions. The underlying assumptions of the binomial distribution are that there is only one outcome for each trial, that each trial has the same probability of success, and that each trial is mutually exclusive, or independent of each other.\n",
    "\n",
    "\n",
    "- \"The binomial distribution is a common discrete distribution used in statistics, as opposed to a continuous distribution, such as the normal distribution. This is because the binomial distribution only counts two states, typically represented as 1 (for a success) or 0 (for a failure) given a number of trials in the data. The binomial distribution, therefore, represents the probability for x successes in n trials, given a success probability p for each trial.\" (Investopedia, 2019)\n",
    "\n",
    "- The mean of the binomial distribution is np, and the variance of the binomial distribution is np (1 − p). When p = 0.5, the distribution is symmetric around the mean. When p > 0.5, the distribution is skewed to the left. When p < 0.5, the distribution is skewed to the right. (Investopedia, 2019)\n",
    "\n",
    "The probability density for the binomial distribution is:\n",
    "\n",
    "\n",
    "![title](Binomialfunction.svg)\n",
    "\n",
    "\n",
    "where n is the number of trials, p is the probability of success, and N is the number of successes. An example of how to calculate it <a href=\"https://www.investopedia.com/articles/active-trading/092114/basics-binomial-distribution.asp\" target=\"_blank\">here</a>\n",
    "\n",
    "\"When estimating the standard error of a proportion in a population by using a random sample, the normal distribution works well unless the product p*n <=5, where p = population proportion estimate, and n = number of samples, in which case the binomial distribution is used instead. For example, a sample of 15 people shows 4 who are left handed, and 11 who are right handed. Then p = 4/15 = 27%. 0.27*15 = 4, so the binomial distribution should be used in this case.\" (Sci.Py.org, 2018) \n",
    "\n",
    "For example, assume that a casino created a new game in which participants are able to place bets on the number of heads or tails in a specified number of coin flips. Assume a participant wants to place a $10 bet that there would be exactly six heads in 20 coin flips. The participant wants to calculate the probability of this occurring, and therefore, he uses the calculation for the binomial distribution.\n",
    "- The probability was calculated as: (20! / (6! * (20 - 6))) * (0.50)^(6) * (1 - 0.50) ^ (20 - 6). Consequently, the probability of exactly six heads occurring in 20 coin flips is 0.037, or 3.7 per cent. The expected value in this instance was 10, so a bad bet was met. (Investopedia, 2019)"
   ]
  },
  {
   "cell_type": "markdown",
   "metadata": {},
   "source": [
    "\"A real world example. A company drills 9 wild-cat oil exploration wells, each with an estimated probability of success of 0.1. All nine wells fail. What is the probability of that happening? Let’s do 20,000 trials of the model, and count the number that generate zero positive results.\" (SciPy.org, 2019)"
   ]
  },
  {
   "cell_type": "code",
   "execution_count": 32,
   "metadata": {
    "scrolled": true
   },
   "outputs": [
    {
     "data": {
      "text/plain": [
       "0.38985"
      ]
     },
     "execution_count": 32,
     "metadata": {},
     "output_type": "execute_result"
    }
   ],
   "source": [
    "# A real world example. A company drills 9 wild-cat oil exploration wells,\n",
    "# each with an estimated probability of success of 0.1. All nine wells fail. What is the probability of that happening?\n",
    "#Let’s do 20,000 trials of the model, and count the number that generate zero positive results. (Adapted from Sci.Py.Org)\n",
    "sum(np.random.binomial(9, 0.1, 20000) == 0)/20000."
   ]
  },
  {
   "cell_type": "markdown",
   "metadata": {},
   "source": [
    "A **single coin flip** is an example of an experiment with a binary outcome. Coin flips meet the other binomial distribution requirement as well — the outcome of each individual coin flip is independent of all the others. Just to be clear, the outcomes of the experiment don’t need to be equally likely as they are with flips of a fair coin — the following things also meet the prerequisites of the binomial distribution:\n",
    "- An unfair coin (e.g. one with an 80% probability of coming up heads).\n",
    "- Randomly picking people on the street to answer a yes or no question.\n",
    "- Attempting to convince visitors of a website to buy a product — the yes or no outcome is whether they purchased or not.\n",
    "One thing that may trouble newcomers to probability and statistics is the idea of a probability distribution. We tend to think deterministically such as “I flipped a coin 10 times and produced 6 heads”. So the outcome is 6 — where is the distribution then?\n",
    "The probability distribution derives from variance. If both you and I flipped 10 coins, it’s pretty likely that we would get different results (you might get 5 heads and I get 7). This variance, a.k.a. uncertainty around the outcome, produces a probability distribution, which basically tells us what outcomes are relatively more likely (such as 5 heads) and which outcomes are relatively less likely (such as 10 heads).\n",
    "\n",
    "- We can demonstrate this example below.\n",
    "  1. Generate a random number between 0 and 1. If that number is 0.5 or more, then count it as heads, otherwise tails. Do this n times using a Python list comprehension. This happens within the function run_binom via the variables tosses.\n",
    "  2. Repeat this a specified number of times (the amount of trials is specified by the input variable trials). We will perform 1,000 trials.\n",
    "  \n",
    "#### What happens when we repeat our 10 coin toss trial 1,000 times? We get the histogram plotted below:\n"
   ]
  },
  {
   "cell_type": "code",
   "execution_count": 33,
   "metadata": {},
   "outputs": [
    {
     "name": "stderr",
     "output_type": "stream",
     "text": [
      "C:\\Users\\owner\\Anaconda\\lib\\site-packages\\scipy\\stats\\stats.py:1713: FutureWarning: Using a non-tuple sequence for multidimensional indexing is deprecated; use `arr[tuple(seq)]` instead of `arr[seq]`. In the future this will be interpreted as an array index, `arr[np.array(seq)]`, which will result either in an error or a different result.\n",
      "  return np.add.reduce(sorted[indexer] * weights, axis=axis) / sumval\n"
     ]
    },
    {
     "data": {
      "text/plain": [
       "Text(0, 0.5, 'Frequency')"
      ]
     },
     "execution_count": 33,
     "metadata": {},
     "output_type": "execute_result"
    },
    {
     "data": {
      "image/png": "[encoded data removed]",
      "text/plain": [
       "<Figure size 720x360 with 1 Axes>"
      ]
     },
     "metadata": {
      "needs_background": "light"
     },
     "output_type": "display_data"
    }
   ],
   "source": [
    "# Code adapted from (Towards Data Science, 2018)\n",
    "# n: the number of times we perform our experiment. \n",
    "# In our coin example, n is equal to 10 (each experiment is 1 flip of the coin).\n",
    "# p: the probability of success. For a fair coin, it would be 50%.\n",
    "# k: the target number of successes. Earlier we mentioned that we were looking for 6 successes.\n",
    "# Import Libraries.\n",
    "import matplotlib.pyplot as plt\n",
    "import seaborn as sns\n",
    "# Input variables\n",
    "# Number of trials\n",
    "trials = 1000\n",
    "# Number of independent experiments in each trial.\n",
    "n = 10\n",
    "# Probability of success for each experiment.\n",
    "p = 0.5\n",
    "# Function that runs our coin toss trials.\n",
    "# heads is a list of the number of successes from each trial of n experiments.\n",
    "def run_binom(trials, n, p):\n",
    "    heads = []\n",
    "    for i in range(trials):\n",
    "        tosses = [np.random.random() for i in range(n)]\n",
    "        heads.append(len([i for i in tosses if i>=0.50]))\n",
    "    return heads\n",
    "\n",
    "heads = run_binom(trials, n, p) # # Run the function\n",
    "# Plot the results as a histogram\n",
    "fig, ax = plt.subplots(figsize=(10,5)) # Size\n",
    "ax = sns.distplot(heads, bins=11, label='simulation results') # Plots the values, size and labels.\n",
    "ax.set_xlabel(\"Number of Heads\",fontsize=16) # Font size of label on x axis\n",
    "ax.set_ylabel(\"Frequency\",fontsize=16) # Font size of Freq"
   ]
  },
  {
   "cell_type": "markdown",
   "metadata": {},
   "source": [
    "Now we can modify the plotting section of our previous code above, so that our plot also shows the actual binomial distribution."
   ]
  },
  {
   "cell_type": "code",
   "execution_count": 34,
   "metadata": {
    "scrolled": true
   },
   "outputs": [
    {
     "data": {
      "image/png": "[encoded data removed]",
      "text/plain": [
       "<Figure size 432x288 with 1 Axes>"
      ]
     },
     "metadata": {
      "needs_background": "light"
     },
     "output_type": "display_data"
    },
    {
     "name": "stdout",
     "output_type": "stream",
     "text": [
      "Actual Binomial Distribution in red.\n"
     ]
    }
   ],
   "source": [
    "# Plot the actual binomial distribution as a sanity check.\n",
    "from scipy.stats import binom\n",
    "x = range(0,11)# Range of values\n",
    "ax.plot(x, binom.pmf(x, n, p), label='actual binomial distribution')# Actual Binomial Distribution in red. \n",
    "ax = sns.distplot(heads, bins=11, label='Simulation results') # Displays Simulation results.\n",
    "ax.vlines(x, 0, binom.pmf(x, n, p), colors='r', lw=5, alpha=0.5) # Sets values for his, colour, length and width etc.\n",
    "plt.legend()\n",
    "plt.show()\n",
    "print(\"Actual Binomial Distribution in red.\")"
   ]
  },
  {
   "cell_type": "markdown",
   "metadata": {},
   "source": [
    "\"The takeaway is that the binomial distribution is a pretty good approximation of what we would have observed if we had actually repeated our 10 coin tosses 1,000 times — so instead of wasting tons of time tossing coins and recording the results, we can just use the binomial distribution!\" (Towards Data Science, 2018)"
   ]
  },
  {
   "cell_type": "markdown",
   "metadata": {},
   "source": [
    "### 3.5 Numpy.random.multinomial\n",
    "\n",
    "A <a href=\"https://www.tutorialspoint.com/statistics/multinomial_distribution.htm\" target=\"_blank\">multinomial</a> experiment is a statistical experiment and it consists of n repeated trials. Each trial has a discrete number of possible outcomes. On any given trial, the probability that a particular outcome will occur is constant.\n",
    "\n",
    "The multinomial distribution is used to find probabilities in experiments where there are more than two outcomes. A multinomial experiment is almost identical to binomial eperiment, with one main difference: a binomial experiment can have two outcomes, while a multinomial experiment can have multiple outcomes.\n",
    "\n",
    "Example: You roll a die ten times to see what number you roll. There are 6 possibilities (1,2,3,4,5,6), so this is a multinomial experiment. If you rolled the die ten times to see how many times you roll a three, that would be a binomial experiment (3 = success, 1,2,4,5,6 = failure).\n",
    "\n",
    "The multinomial distribution is a multivariate generalisation of the binomial distribution. Take an experiment with one of p possible outcomes. An example of such an experiment is throwing a dice, where the outcome can be 1 through 6. Each sample drawn from the distribution represents n such experiments. Its values, X_i = [X_0, X_1, ..., X_p], represent the number of times the outcome was i. (Sci.py.org, 2019)\n",
    "\n"
   ]
  },
  {
   "cell_type": "code",
   "execution_count": 35,
   "metadata": {},
   "outputs": [
    {
     "data": {
      "text/plain": [
       "array([[2, 2, 4, 7, 5, 0]])"
      ]
     },
     "execution_count": 35,
     "metadata": {},
     "output_type": "execute_result"
    }
   ],
   "source": [
    "# Fr e.g if you throw a dice 20 times, \n",
    "np.random.multinomial(20, [1/6.]*6, size=1) # Function, throw dice 20 times, displaying six values.\n",
    "# It landed 3 times on 5, two times on 2, and so on."
   ]
  },
  {
   "cell_type": "code",
   "execution_count": 36,
   "metadata": {},
   "outputs": [
    {
     "data": {
      "text/plain": [
       "array([[1, 2, 9, 2, 1, 5],\n",
       "       [1, 3, 3, 2, 6, 5]])"
      ]
     },
     "execution_count": 36,
     "metadata": {},
     "output_type": "execute_result"
    }
   ],
   "source": [
    "# Now, throw the dice 20 times, and 20 times again:\n",
    "np.random.multinomial(20, [1/6.]*6, size=2)"
   ]
  },
  {
   "cell_type": "markdown",
   "metadata": {},
   "source": [
    "For the first run, we threw 3 times 1, 4 times 2, etc. For the second, we threw 2 times 1, 4 times 2, etc."
   ]
  },
  {
   "cell_type": "markdown",
   "metadata": {},
   "source": [
    "## 5.  Use of seeds in generating pseudorandom numbers."
   ]
  },
  {
   "cell_type": "markdown",
   "metadata": {},
   "source": [
    "**What is a random seed?**\n",
    "\n",
    "\n",
    "\"A random seed is a starting point in generating random numbers. A random seed specifies the start point when a computer generates a random number sequence. This can be any number, but it usually comes from seconds on a computer system's clock. A computer counts seconds from January 1, 1970 — a system called Unix time. At time I am writing this sentence it is 11:01:46 EST on February 5, 2017: 1486310506 seconds after 1-1-1970 (you can find the current Unix time here). Having such a large range for seeds (0 to 1+ billion) pretty much ensures that you don’t get the same random seed isn’t used twice — unless you want to.\"(Stats how to, 2017)\n",
    "\n",
    "\n",
    "\"For example, let’s say you wanted to generate a random number in Excel (Note: Excel sets a limit of 9999 for the seed). If you enter a number into the Random Seed box during the process, you’ll be able to use the same set of random numbers again. If you typed “77” into the box, and typed “77” the next time you run the random number generator, Excel will display that same set of random numbers. If you type “99”, you’ll get an entirely different set of numbers. But if you revert back to a seed of 77, then you’ll get the same set of random numbers you started with.\"(Stats how to, 2017)\n",
    "\n",
    "**Random.state**\n",
    "\n",
    "<a href=\"https://www.tutorialspoint.com/statistics/multinomial_distribution.htm\" target=\"_blank\">Random State</a> exposes a number of methods for generating random numbers drawn from a variety of probability distributions. In addition to the distribution-specific arguments, each method takes a keyword argument size that defaults to None. If size is None, then a single value is generated and returned. If size is an integer, then a 1-D array filled with generated values is returned. If size is a tuple, then an array with that shape is filled and returned. (SciPy.org, 2019)\n",
    "\n",
    "\n",
    "**What is the seed of a number?**\n",
    "\n",
    "\n",
    "Seeds (Or Seed Roots) of a number. A Seed of a number n is a number x such that multiplication of x with its digits is equal to n. The task is to find all seeds of a given number n.\n",
    "\n",
    "Input  : n = 138\n",
    "Output : 23 \n",
    "23 is a seed of 138 because\n",
    "23*2*3 is equal to 138\n",
    "\n",
    "Input : n = 4977\n",
    "Output : 79 711 \n",
    "79 is a seed of 4977 because\n",
    "79 * 7 * 9 = 4977.\n",
    "711 is also a seed of 4977 because\n",
    "711 * 1 * 1 * 7 = 4977\n",
    "\n",
    "Input  : n = 9\n",
    "Output : No seed exists (Geeks for Geeks, 2016)\n",
    "\n",
    "**What does random seed () do?**\n",
    "Seed function is used to save the state of random function, so that it can generate some random numbers on multiple execution of the code on the same machine or on different machines (for a specific seed value). Seed value is the previous value number generated by the generator. (Geeks for Geeks, 2016)\n",
    "\n",
    "\n",
    "**The main point of using the seed:**\n",
    "\n",
    "\n",
    "Is to be able to reproduce a particular sequence of 'random' numbers. Generally speaking, if you don't need to be able to do that, you wouldn't set the seed. The seed itself carries no inherent meaning except it's a way of telling the random number generator 'where to start'. You might think of it a bit like the relationship between a PIN number and your bank account. The PIN is associated with a long string of numbers (your account number), but it's not inherently an interpretable quantity. (Stack Exchange, 2019)\n",
    "\n",
    "\n",
    "**How does the random number generator work?**\n",
    "\n",
    "<a href=\"https://en.wikipedia.org/wiki/Pseudorandom_number_generator\" target=\"_blank\">Pseudo-random number generators</a> work by performing some operation on a value. Generally this value is the previous number generated by the generator. However, the first time you use the generator, there is no previous value.\n",
    "\n",
    "Seeding a pseudo-random number generator gives it its first \"previous\" value. Each seed value will correspond to a sequence of generated values for a given random number generator. That is, if you provide the same seed twice, you get the same sequence of numbers twice.\n",
    "\n",
    "Generally, you want to seed your random number generator with some value that will change each execution of the program. For instance, the current time is a frequently-used seed. The reason why this doesn't happen automatically is so that if you want, you can provide a specific seed to get a known sequence of numbers. (Stackoverflow, 2014)\n",
    "\n",
    "\n",
    "A Random Number Generator is a technology designed to generate a sequence that does not have any pattern, therefore appear to be random. ... Hardware random generators (TRNG): Hardware RNGs do not require seeds because hardware random numbers are not computed values; they are not derived through a repeatable algorithm. (Stack Exchange, 2019)\n"
   ]
  },
  {
   "cell_type": "markdown",
   "metadata": {},
   "source": [
    "**Random.seed** gives a value to random value generator, which generates these values on the basis of this seed. Once you put same seed you get the same pattern of random numbers. So you are generating them right from the start again. You give a different seed it starts with a different number."
   ]
  },
  {
   "cell_type": "code",
   "execution_count": 37,
   "metadata": {
    "scrolled": true
   },
   "outputs": [
    {
     "data": {
      "text/plain": [
       "0.5507979025745755"
      ]
     },
     "execution_count": 37,
     "metadata": {},
     "output_type": "execute_result"
    }
   ],
   "source": [
    "np.random.seed(3) # Gen a random number.\n",
    "np.random.random() "
   ]
  },
  {
   "cell_type": "code",
   "execution_count": 38,
   "metadata": {
    "scrolled": true
   },
   "outputs": [
    {
     "data": {
      "text/plain": [
       "0.5507979025745755"
      ]
     },
     "execution_count": 38,
     "metadata": {},
     "output_type": "execute_result"
    }
   ],
   "source": [
    "np.random.seed(3) # If you want to use the same number as before, use the same seed.\n",
    "np.random.random()"
   ]
  },
  {
   "cell_type": "code",
   "execution_count": 39,
   "metadata": {},
   "outputs": [
    {
     "data": {
      "text/plain": [
       "0.7081478226181048"
      ]
     },
     "execution_count": 39,
     "metadata": {},
     "output_type": "execute_result"
    }
   ],
   "source": [
    "np.random.random() # Generates a different value if you don't use the same seed as before."
   ]
  },
  {
   "cell_type": "markdown",
   "metadata": {},
   "source": [
    "Every time we are running the above program we are setting seed to 10, then random generator takes this as a reference variable. And then by doing some predefined formula, it generates a random number."
   ]
  },
  {
   "cell_type": "code",
   "execution_count": 40,
   "metadata": {},
   "outputs": [
    {
     "name": "stdout",
     "output_type": "stream",
     "text": [
      "13\n",
      "23\n",
      "72\n",
      "29\n",
      "11\n",
      "62\n"
     ]
    }
   ],
   "source": [
    "np.random.seed(14)\n",
    "\n",
    "for i in range(6):    \n",
    "    print(np.random.randint(1, 80))"
   ]
  },
  {
   "cell_type": "code",
   "execution_count": 41,
   "metadata": {
    "scrolled": true
   },
   "outputs": [
    {
     "name": "stdout",
     "output_type": "stream",
     "text": [
      "13\n",
      "23\n",
      "72\n",
      "29\n",
      "11\n",
      "62\n"
     ]
    }
   ],
   "source": [
    "np.random.seed(14)\n",
    "\n",
    "for i in range(6):    \n",
    "    print(np.random.randint(1, 80))"
   ]
  },
  {
   "cell_type": "code",
   "execution_count": 42,
   "metadata": {},
   "outputs": [
    {
     "name": "stdout",
     "output_type": "stream",
     "text": [
      "first number  -  28\n",
      "Second number-  28\n"
     ]
    },
    {
     "data": {
      "text/plain": [
       "0.8874117053874859"
      ]
     },
     "execution_count": 42,
     "metadata": {},
     "output_type": "execute_result"
    }
   ],
   "source": [
    "np.random.seed( 20 )\n",
    "print (\"first number  - \", np.random.randint(25,50)) # Set the seed, so if you want to use it again, use seed number.\n",
    "\n",
    "np.random.seed( 20 )\n",
    "print (\"Second number- \", np.random.randint(25,50)) # Prints the same number, using the seed you just set above.\n",
    "\n",
    "np.random.rand() # Prints a random number.\n"
   ]
  },
  {
   "cell_type": "markdown",
   "metadata": {},
   "source": [
    "**Random.state**\n",
    "\n",
    "<a href=\"https://docs.scipy.org/doc/numpy-1.15.0/reference/generated/numpy.random.RandomState.html\" target=\"_blank\">Random State</a> exposes a number of methods for generating random numbers drawn from a variety of probability distributions. In addition to the distribution-specific arguments, each method takes a keyword argument size that defaults to None. If size is None, then a single value is generated and returned. If size is an integer, then a 1-D array filled with generated values is returned. If size is a tuple, then an array with that shape is filled and returned. (SciPy.org, 2019)\n",
    "\n",
    "If you don't mention the random_state in the code, then whenever you execute your code a new random value is generated and the train and test datasets would have different values each time. You can see some examples <a href=\"https://stackoverflow.com/questions/28064634/random-state-pseudo-random-number-in-scikit-learn\" target=\"_blank\">here</a>\n",
    "\n",
    "However, if you use a particular value for random_state(random_state = 1 or any other value) everytime the result will be same,i.e, same values in train and test datasets. Refer below code:"
   ]
  },
  {
   "cell_type": "markdown",
   "metadata": {},
   "source": [
    "The function train_test_split splits arrays or matrices into random train and test subsets. That means that everytime you run it without specifying random_state, you will get a different result, this is expected behavior.\n",
    "No matter how many times you run the code, the output will always be 70. If you remove the random_state and run the code, output will be different everytime. (Stackoverflow, 2014)"
   ]
  },
  {
   "cell_type": "code",
   "execution_count": 43,
   "metadata": {},
   "outputs": [
    {
     "name": "stdout",
     "output_type": "stream",
     "text": [
      "70\n"
     ]
    }
   ],
   "source": [
    "import pandas as pd # code adapted from Stackoverflow.\n",
    "from sklearn.model_selection import train_test_split # Import train_test_split function.\n",
    "test_series = pd.Series(range(100)) # Test range\n",
    "size30split = train_test_split(test_series,random_state = 1,test_size = .3) \n",
    "size25split = train_test_split(test_series,random_state = 1,test_size = .25) #\n",
    "common = [element for element in size25split[0] if element in size30split[0]]\n",
    "print(len(common))"
   ]
  },
  {
   "cell_type": "markdown",
   "metadata": {},
   "source": [
    "## Bibliography\n",
    "\n",
    "SciPy.org, 2018, Viewed on 2019/10/18, available at: https://docs.scipy.org/doc/numpy-1.15.0/reference/routines.random.html\n",
    "\n",
    "APMonitor, Youtube, 2017, viewed on 2019/11/04, available at: https://www.youtube.com/watch?v=Z2zUGmqIDto \n",
    "\n",
    "Stackoverflow, 2017, viewed on 2019/11/04, available at: (https://stackoverflow.com/questions/15474159/shuffle-vs-permute-numpy)\n",
    "\n",
    "Py.Native, 2019, viewed on the 2019/11/05, available at: https://pynative.com/python-random-shuffle/\n",
    "\n",
    "Crazy Geeks, 2019, viewed on the 2019/11/07, available at: https://www.crazygeeks.org/numpy-random-rand-in-python/\n",
    "\n",
    "Chris Albon, 2017, viewed on 2019/11/07, available at: https://chrisalbon.com/python/basics/generating_random_numbers_with_numpy/\n",
    "\n",
    "Machinemastery, 2019, viewed on the 2019/11/07, available at: https://machinelearningmastery.com/how-to-generate-random-numbers-in-python/\n",
    "\n",
    "Statistics How To, 2013, viewed on the 2019/11/07, available at: https://www.statisticshowto.datasciencecentral.com/poisson-distribution/\n",
    "\n",
    "Britannica, 2019, viewed on the 2019/11/07, available at: https://www.britannica.com/biography/Simeon-Denis-Poisson\n",
    "\n",
    "Stats How To, 2014, viewwed on 2019/11/07, available at: https://www.statstodo.com/Poisson_Exp.php\n",
    "\n",
    "\n",
    "Investopedia, 2019, viewed on the 2019/11/07, available at: https://www.investopedia.com/terms/b/binomialdistribution.asp\n",
    "\n",
    "Towards Data Science, 2018, viewed on the 2019/11/08, available at: https://towardsdatascience.com/fun-with-the-binomial-distribution-96a5ecabf65b\n",
    "\n",
    "Statistics How To, 2017, viewed on the 2019/11/08, available at: https://www.statisticshowto.datasciencecentral.com/random-seed-definition/\n",
    "\n",
    "Geeks for Geeks, 2016, viewed on the 2019/11/08, available at: https://www.geeksforgeeks.org/seeds-or-seed-roots-of-a-number/\n",
    "\n",
    "Stack Exchange, 2019, viewed on the 2019/11/08, available at: https://stats.stackexchange.com/questions/86285/random-number-set-seedn-in-r\n",
    "\n",
    "Stackoverflow, 2014, viewed on the 2019/11/08, available at: https://stackoverflow.com/questions/22639587/random-seed-what-does-it-do\n",
    "\n",
    "Stackoverflow, 2015, viewed on the 2019/11/09, abailable at: https://stackoverflow.com/questions/22994423/difference-between-np-random-seed-and-np-random-randomstate"
   ]
  },
  {
   "cell_type": "code",
   "execution_count": null,
   "metadata": {},
   "outputs": [],
   "source": []
  }
 ],
 "metadata": {
  "kernelspec": {
   "display_name": "Python 3",
   "language": "python",
   "name": "python3"
  },
  "language_info": {
   "codemirror_mode": {
    "name": "ipython",
    "version": 3
   },
   "file_extension": ".py",
   "mimetype": "text/x-python",
   "name": "python",
   "nbconvert_exporter": "python",
   "pygments_lexer": "ipython3",
   "version": "3.7.1"
  }
 },
 "nbformat": 4,
 "nbformat_minor": 2
}
