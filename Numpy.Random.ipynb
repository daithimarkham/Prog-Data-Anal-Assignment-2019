{
 "cells": [
  {
   "cell_type": "markdown",
   "metadata": {},
   "source": [
    "# Numpy.Random Package.\n",
    "![title](NumpyImage.jpg) Source(APMonitor.com)"
   ]
  },
  {
   "cell_type": "markdown",
   "metadata": {},
   "source": [
    "## Numpy.Random package.\n",
    "Creates random numbers and arrays. Whenever you want to generate an array of random numbers you need to use numpy.random, which has multiple functions. These functions generate the random n-dimensional array/arrays for various distributions, size, mean, width, colour on histograms and plots, etc, which we will be discussing later below.\n",
    "\n",
    "The use of randomness is an important part of the configuration and evaluation of machine learning algorithms.\n",
    "\n",
    "From the random initialization of weights in an artificial neural network, to the splitting of data into random train and test sets, to the random shuffling of a training dataset in stochastic gradient descent, generating random numbers and harnessing randomness is a required skill. (Machinemastery, 2019)\n",
    "\n",
    "Below we will discover how to generate and work with random numbers in Python.\n",
    "\n",
    "**Pseudorandom Number Generators**\n",
    "\n",
    "\n",
    "The source of randomness that we inject into our programs and algorithms is a mathematical trick called a pseudorandom number generator.\n",
    "\n",
    "A random number generator is a system that generates random numbers from a true source of randomness. Often something physical, such as a Geiger counter, where the results are turned into random numbers. We do not need true randomness in machine learning. Instead we can use pseudorandomness. Pseudorandomness is a sample of numbers that look close to random, but were generated using a deterministic process.\n",
    "\n",
    "Shuffling data and initializing coefficients with random values use pseudorandom number generators. These little programs are often a function that you can call that will return a random number. Called again, they will return a new random number. Wrapper functions are often also available and allow you to get your randomness as an integer, floating point, within a specific distribution, within a specific range, and so on.\n",
    "\n",
    "The numbers are generated in a sequence. The sequence is deterministic and is seeded with an initial number. If you do not explicitly seed the pseudorandom number generator, then it may use the current system time in seconds or milliseconds as the seed.\n",
    "\n",
    "The value of the seed does not matter. Choose anything you wish. What does matter is that the same seeding of the process will result in the same sequence of random numbers.\n",
    "\n",
    "\n",
    "Below we will discover how to generate and work with random numbers in Python. (Machinemastery, 2019)\n"
   ]
  },
  {
   "cell_type": "markdown",
   "metadata": {},
   "source": [
    "## Simple Random Data.\n",
    "### How to the Numpy Ramdom module. \n",
    "- The random package has many functions to help generate numberous different types of numbers. We will see below how to use these functions. \n",
    "- You will need to import the numpy package below. (import numpy as np)"
   ]
  },
  {
   "cell_type": "markdown",
   "metadata": {},
   "source": [
    "There are many ways to generate random numbers. Numpy.random creates random values in a given shape, returns a sample/samples, from the standard normal distribution. It returns random integers from low to high. Below, we can look at some.\n",
    "\n",
    "#### Code below, adapted from SciPy.org, Stackoverflow and Py.Native."
   ]
  },
  {
   "cell_type": "code",
   "execution_count": 1,
   "metadata": {},
   "outputs": [],
   "source": [
    "# Import Numpy Package\n",
    "import numpy as np"
   ]
  },
  {
   "cell_type": "markdown",
   "metadata": {},
   "source": [
    "#### np.random.normal"
   ]
  },
  {
   "cell_type": "code",
   "execution_count": 2,
   "metadata": {},
   "outputs": [
    {
     "name": "stdout",
     "output_type": "stream",
     "text": [
      "Generating random number using random.normal()\n"
     ]
    },
    {
     "data": {
      "text/plain": [
       "1.4938889076009665"
      ]
     },
     "execution_count": 2,
     "metadata": {},
     "output_type": "execute_result"
    }
   ],
   "source": [
    "# Generates a random number from the normal distribution.\n",
    "print(\"Generating random number using random.normal()\")\n",
    "np.random.normal()"
   ]
  },
  {
   "cell_type": "code",
   "execution_count": 3,
   "metadata": {},
   "outputs": [
    {
     "data": {
      "text/plain": [
       "array([-0.77745361, -0.68853631, -0.34766482,  0.72001747])"
      ]
     },
     "execution_count": 3,
     "metadata": {},
     "output_type": "execute_result"
    }
   ],
   "source": [
    "# Generates 4 random numbers from the normal distribution.\n",
    "np.random.normal(size=4)"
   ]
  },
  {
   "cell_type": "markdown",
   "metadata": {},
   "source": [
    "#### np.random.rand\n",
    "- Numpy creates arrays. Random numbers in this case between 0 and 1.\n",
    "- Contains arrays, floating numbers."
   ]
  },
  {
   "cell_type": "code",
   "execution_count": 4,
   "metadata": {},
   "outputs": [
    {
     "data": {
      "text/plain": [
       "array([[0.71264801, 0.88755644],\n",
       "       [0.86514791, 0.20236255],\n",
       "       [0.13213101, 0.41427381],\n",
       "       [0.6644803 , 0.70083355]])"
      ]
     },
     "execution_count": 4,
     "metadata": {},
     "output_type": "execute_result"
    }
   ],
   "source": [
    "# Contains arrays, floating numbers.\n",
    "np.random.rand(4,2)"
   ]
  },
  {
   "cell_type": "markdown",
   "metadata": {},
   "source": [
    "- Get an array with 9 elements in it."
   ]
  },
  {
   "cell_type": "code",
   "execution_count": 5,
   "metadata": {},
   "outputs": [
    {
     "data": {
      "text/plain": [
       "array([0.61144355, 0.09703215, 0.87448525, 0.79422882, 0.17389542,\n",
       "       0.54021721, 0.41069109, 0.09568456, 0.71882307])"
      ]
     },
     "execution_count": 5,
     "metadata": {},
     "output_type": "execute_result"
    }
   ],
   "source": [
    "# Displays 9 elements.\n",
    "np.random.rand(9)"
   ]
  },
  {
   "cell_type": "markdown",
   "metadata": {},
   "source": [
    "- Displays two arrays, four rows and thee columns."
   ]
  },
  {
   "cell_type": "code",
   "execution_count": 6,
   "metadata": {},
   "outputs": [
    {
     "data": {
      "text/plain": [
       "array([[[0.3237969 , 0.71754731, 0.96113181],\n",
       "        [0.85114283, 0.69496299, 0.86600695],\n",
       "        [0.34061932, 0.19079054, 0.06560394],\n",
       "        [0.02842873, 0.84199336, 0.96264155]],\n",
       "\n",
       "       [[0.20228542, 0.47406669, 0.9447399 ],\n",
       "        [0.7303856 , 0.39153337, 0.62046221],\n",
       "        [0.94485133, 0.56561988, 0.28896702],\n",
       "        [0.10452966, 0.04952208, 0.4276674 ]]])"
      ]
     },
     "execution_count": 6,
     "metadata": {},
     "output_type": "execute_result"
    }
   ],
   "source": [
    "# Generates random data, and ouputs in arrays, rows and columns.\n",
    "np.random.rand(2,4,3)"
   ]
  },
  {
   "cell_type": "code",
   "execution_count": 7,
   "metadata": {},
   "outputs": [
    {
     "name": "stdout",
     "output_type": "stream",
     "text": [
      "1D random values array : \n",
      " [0.9366104  0.62360911 0.75994512 0.66185748 0.75634485 0.79374333\n",
      " 0.26011418 0.03598496 0.24352678 0.6178696  0.74138613 0.54718806\n",
      " 0.452579   0.68957921 0.69882441]\n"
     ]
    }
   ],
   "source": [
    "array = np.random.rand(15) # Prints an array with 15 random values from 0 to 1.\n",
    "print(\"1D random values array : \\n\", array);"
   ]
  },
  {
   "cell_type": "markdown",
   "metadata": {},
   "source": [
    "To display the numbers on a histogram."
   ]
  },
  {
   "cell_type": "code",
   "execution_count": 8,
   "metadata": {},
   "outputs": [],
   "source": [
    "x = np.random.rand(1000)"
   ]
  },
  {
   "cell_type": "code",
   "execution_count": 9,
   "metadata": {},
   "outputs": [
    {
     "data": {
      "text/plain": [
       "<function matplotlib.pyplot.show(*args, **kw)>"
      ]
     },
     "execution_count": 9,
     "metadata": {},
     "output_type": "execute_result"
    },
    {
     "data": {
      "image/png": "[encoded data removed]",
      "text/plain": [
       "<Figure size 432x288 with 1 Axes>"
      ]
     },
     "metadata": {
      "needs_background": "light"
     },
     "output_type": "display_data"
    }
   ],
   "source": [
    "# Histogram shows the most typical values out of 1000 and displays in a bar chart.\n",
    "%matplotlib inline\n",
    "import matplotlib.pyplot as plt\n",
    "plt.hist(x)\n",
    "plt.show # this will display if the above command does not display. \n",
    "# If the above is not displaying type in %matplotlib inline"
   ]
  },
  {
   "cell_type": "markdown",
   "metadata": {},
   "source": [
    "#### Np.random.randint\n",
    "- Random integer values can be generated with the randint() function. \n",
    "- Takes in two arguments, the start and the end of the range."
   ]
  },
  {
   "cell_type": "code",
   "execution_count": 10,
   "metadata": {},
   "outputs": [
    {
     "data": {
      "text/plain": [
       "array([0, 0, 1, 1, 1, 1, 1, 0, 1, 1])"
      ]
     },
     "execution_count": 10,
     "metadata": {},
     "output_type": "execute_result"
    }
   ],
   "source": [
    "np.random.randint(2, size=10) # Function calls numbers bewteen 1 and 2, and size is 10."
   ]
  },
  {
   "cell_type": "code",
   "execution_count": 11,
   "metadata": {},
   "outputs": [
    {
     "data": {
      "text/plain": [
       "array([78, 36,  1, 73])"
      ]
     },
     "execution_count": 11,
     "metadata": {},
     "output_type": "execute_result"
    }
   ],
   "source": [
    "# Generates four random integers.\n",
    "np.random.randint(low=1, high=100, size=4) # Function calls random int from 1 to 100, returns four values."
   ]
  },
  {
   "cell_type": "code",
   "execution_count": 12,
   "metadata": {},
   "outputs": [
    {
     "data": {
      "text/plain": [
       "array([[0, 3, 0, 2],\n",
       "       [4, 1, 3, 4]])"
      ]
     },
     "execution_count": 12,
     "metadata": {},
     "output_type": "execute_result"
    }
   ],
   "source": [
    "# Returns, two arrays, with four integers, numbers bewteen 0 and 5.\n",
    "np.random.randint(5, size=(2, 4))"
   ]
  },
  {
   "cell_type": "markdown",
   "metadata": {},
   "source": [
    "Random values are drawn from a <a href=\"https://docs.scipy.org/doc/numpy-1.15.0/reference/generated/numpy.random.uniform.html#numpy.random.uniform\" target=\"_blank\">uniform distribution.</a>\n",
    "\n",
    "- Samples are uniformly distributed over the half-open interval [low, high) (includes low, but excludes high). In other words, any value within the given interval is equally likely to be drawn by uniform. (Machinemastery, 2019)\n",
    "\n",
    "The example below generates 10 random integer values between 0 and 10."
   ]
  },
  {
   "cell_type": "code",
   "execution_count": 13,
   "metadata": {
    "scrolled": true
   },
   "outputs": [
    {
     "name": "stdout",
     "output_type": "stream",
     "text": [
      "2\n",
      "9\n",
      "1\n",
      "4\n",
      "1\n",
      "7\n",
      "7\n",
      "7\n",
      "10\n",
      "6\n"
     ]
    }
   ],
   "source": [
    "# generate random integer values\n",
    "# Code adapted from Machinemastery.com\n",
    "from random import seed\n",
    "from random import randint\n",
    "# seed random number generator\n",
    "seed(1)\n",
    "# generate some integers\n",
    "for _ in range(10):\n",
    "    value = randint(0, 10)\n",
    "    print(value)"
   ]
  },
  {
   "cell_type": "code",
   "execution_count": 14,
   "metadata": {},
   "outputs": [
    {
     "name": "stdout",
     "output_type": "stream",
     "text": [
      "1D Array:\n",
      " [3 5 3 6 3 4 3] \n",
      "\n",
      "2D Array:\n",
      " [[7 6 5 5]\n",
      " [6 6 5 3]\n",
      " [6 3 7 7]\n",
      " [3 5 4 5]\n",
      " [6 5 3 4]\n",
      " [7 3 7 3]] \n",
      "\n"
     ]
    }
   ],
   "source": [
    "# Returned arrays will output random integers, from low to high, and size.\n",
    "# 1D Array, lowest number will be 3 , highest number up to but not including 8,\n",
    "# 7 values will be displayed in the array\n",
    "randint_array1D = np.random.randint(low = 3, high = 8, size = 7) \n",
    "print (\"1D Array:\\n\",randint_array1D, \"\\n\")  \n",
    "\n",
    "# 2D Array, outputs an array that has an array within it. \n",
    "randint_array2D = np.random.randint(low = 3, high = 8, size = (6, 4)) # 6 rows, with 4 values in each.\n",
    "print (\"2D Array:\\n\",randint_array2D, \"\\n\") "
   ]
  },
  {
   "cell_type": "markdown",
   "metadata": {},
   "source": [
    "#### Numpy.random.choice\n",
    "-  Generates a random sample from a given 1-D array\n"
   ]
  },
  {
   "cell_type": "code",
   "execution_count": 15,
   "metadata": {},
   "outputs": [
    {
     "data": {
      "text/plain": [
       "array([4, 2, 3])"
      ]
     },
     "execution_count": 15,
     "metadata": {},
     "output_type": "execute_result"
    }
   ],
   "source": [
    "# Generate a uniform random sample from np.arange(5) of size 3:\n",
    "np.random.choice(5, 3)"
   ]
  },
  {
   "cell_type": "markdown",
   "metadata": {},
   "source": [
    "#### Numpy.random.ranf\n",
    "-Return random floats in the half-open interval [0.0, 1.0)."
   ]
  },
  {
   "cell_type": "code",
   "execution_count": 16,
   "metadata": {
    "scrolled": true
   },
   "outputs": [
    {
     "data": {
      "text/plain": [
       "0.9389617469157493"
      ]
     },
     "execution_count": 16,
     "metadata": {},
     "output_type": "execute_result"
    }
   ],
   "source": [
    "# numpy.random.ranf\n",
    "np.random.random_sample()"
   ]
  },
  {
   "cell_type": "markdown",
   "metadata": {},
   "source": [
    "- Displays what type of an integer it is."
   ]
  },
  {
   "cell_type": "code",
   "execution_count": 17,
   "metadata": {},
   "outputs": [
    {
     "data": {
      "text/plain": [
       "float"
      ]
     },
     "execution_count": 17,
     "metadata": {},
     "output_type": "execute_result"
    }
   ],
   "source": [
    "# Type of number\n",
    "type(np.random.random_sample())"
   ]
  },
  {
   "cell_type": "markdown",
   "metadata": {},
   "source": [
    "- Displays five random numbers."
   ]
  },
  {
   "cell_type": "code",
   "execution_count": 18,
   "metadata": {},
   "outputs": [
    {
     "data": {
      "text/plain": [
       "array([0.98415214, 0.60419268, 0.9945268 , 0.6389969 , 0.94488046])"
      ]
     },
     "execution_count": 18,
     "metadata": {},
     "output_type": "execute_result"
    }
   ],
   "source": [
    "# Number of random numbers.\n",
    "np.random.random_sample((5,))"
   ]
  },
  {
   "cell_type": "markdown",
   "metadata": {},
   "source": [
    "- Three-by-two array of random numbers from [-5, 0)"
   ]
  },
  {
   "cell_type": "code",
   "execution_count": 19,
   "metadata": {
    "scrolled": true
   },
   "outputs": [
    {
     "data": {
      "text/plain": [
       "array([[-1.45133056, -3.97211395],\n",
       "       [-3.68290793, -3.69848994],\n",
       "       [-4.60224404, -3.08879808]])"
      ]
     },
     "execution_count": 19,
     "metadata": {},
     "output_type": "execute_result"
    }
   ],
   "source": [
    "# Three rows, two columns, numbers between -5 and 0.\n",
    "5 * np.random.random_sample((3, 2)) - 5"
   ]
  },
  {
   "cell_type": "markdown",
   "metadata": {},
   "source": [
    "#### Numpy.random.bytes"
   ]
  },
  {
   "cell_type": "code",
   "execution_count": 20,
   "metadata": {},
   "outputs": [
    {
     "data": {
      "text/plain": [
       "b'\\x17\\xa1b\\x11\\xa1\\x15\\xee\\x04l\\xddF\\xe5I\\xf1\\x99\\xbf\\xa0\\x0b'"
      ]
     },
     "execution_count": 20,
     "metadata": {},
     "output_type": "execute_result"
    }
   ],
   "source": [
    "# Returns random bytes.\n",
    "np.random.bytes(18)"
   ]
  },
  {
   "cell_type": "code",
   "execution_count": 21,
   "metadata": {},
   "outputs": [
    {
     "name": "stdout",
     "output_type": "stream",
     "text": [
      "3D random values array : \n",
      " [[[0.57733188 0.2664546  0.9415037 ]\n",
      "  [0.84623804 0.28584556 0.66906987]\n",
      "  [0.08127953 0.55285411 0.19549749]]\n",
      "\n",
      " [[0.8038235  0.22093043 0.78474291]\n",
      "  [0.39483993 0.82708735 0.93366246]\n",
      "  [0.51868645 0.6079284  0.29534253]]\n",
      "\n",
      " [[0.19199342 0.95889866 0.4801351 ]\n",
      "  [0.36052343 0.81429682 0.87919712]\n",
      "  [0.61132668 0.30231753 0.84520821]]]\n"
     ]
    }
   ],
   "source": [
    "# Generating 3 dimentional array. \n",
    "array = np.random.rand(3,3,3) # Function for three arrays.\n",
    "print(\"3D random values array : \\n\", array);"
   ]
  },
  {
   "cell_type": "markdown",
   "metadata": {},
   "source": [
    "## Permutations \n",
    "- Next we will look at permutations shuffle and permutation , which is randomly permute a sequence, or return a permuted range.\n",
    "\n",
    "- Generally Numpy random.shuffle and random.permutation both shuffle elements in an array.\n",
    "\n"
   ]
  },
  {
   "cell_type": "markdown",
   "metadata": {},
   "source": [
    "#### Numpy.random.shuffle(x)\n",
    "- Random.shuffle function used to shuffle the sequence in place, it changes the position of items in a list.\n",
    "- Modify a sequence in-place by shuffling its contents."
   ]
  },
  {
   "cell_type": "code",
   "execution_count": 22,
   "metadata": {},
   "outputs": [
    {
     "data": {
      "text/plain": [
       "array([9, 0, 7, 6, 5, 2, 1, 8, 3, 4])"
      ]
     },
     "execution_count": 22,
     "metadata": {},
     "output_type": "execute_result"
    }
   ],
   "source": [
    "# Randomly shuffles the list.\n",
    "arr = np.arange(10)\n",
    "np.random.shuffle(arr)\n",
    "arr"
   ]
  },
  {
   "cell_type": "markdown",
   "metadata": {},
   "source": [
    "- If you want to shuffle as per your need, then you can pass your custom random function in the place of random argument, which will dictate shuffle function, and how it randomizes the items of a list. (Py.Native, 2019)\n",
    "- Can do the same with strings.\n"
   ]
  },
  {
   "cell_type": "code",
   "execution_count": 23,
   "metadata": {
    "scrolled": true
   },
   "outputs": [
    {
     "name": "stdout",
     "output_type": "stream",
     "text": [
      "List :  [5, 32, 21, 22, 56, 36, 34, 56, 6, 23]\n",
      "After first shuffle  :  [34, 36, 5, 32, 23, 21, 6, 56, 22, 56]\n",
      "After second shuffle :  [56, 21, 32, 22, 23, 56, 5, 6, 34, 36]\n"
     ]
    }
   ],
   "source": [
    "number_list = [5, 32, 21, 22, 56, 36, 34, 56, 6, 23]\n",
    "print (\"List : \",  number_list)\n",
    "\n",
    "np.random.shuffle(number_list)\n",
    "print (\"After first shuffle  : \",  number_list)\n",
    "\n",
    "np.random.shuffle(number_list)\n",
    "print (\"After second shuffle : \",  number_list)"
   ]
  },
  {
   "cell_type": "markdown",
   "metadata": {},
   "source": [
    "- Shuffle a list of strings."
   ]
  },
  {
   "cell_type": "code",
   "execution_count": 24,
   "metadata": {},
   "outputs": [
    {
     "name": "stdout",
     "output_type": "stream",
     "text": [
      "Original String list:  ['Let it rain', 'Chelsea Football Club', 'John is there', \"Don't do it\", 'He left to go shopping', 'The bus stop', 'Leave the ball']\n",
      "String List after the first shuffle:  ['Leave the ball', 'The bus stop', 'John is there', 'Let it rain', 'He left to go shopping', \"Don't do it\", 'Chelsea Football Club']\n",
      "String List after the second shuffle:  ['John is there', 'Leave the ball', 'The bus stop', 'Let it rain', 'Chelsea Football Club', 'He left to go shopping', \"Don't do it\"]\n"
     ]
    }
   ],
   "source": [
    "string_list = [\"Let it rain\", \"Chelsea Football Club\", \"John is there\", \"Don't do it\", \"He left to go shopping\", \"The bus stop\", \"Leave the ball\"]\n",
    "print (\"Original String list: \",  string_list) # Create a list which we will use a function to shuffle below.\n",
    "\n",
    "\n",
    "np.random.shuffle(string_list) # Random function shuflles list, generates list in different order to original.\n",
    "print (\"String List after the first shuffle: \",  string_list)\n",
    "\n",
    "\n",
    "\n",
    "np.random.shuffle(string_list) # Same as above, random shuffles again, using the same function as above.\n",
    "print (\"String List after the second shuffle: \",  string_list)\n"
   ]
  },
  {
   "cell_type": "markdown",
   "metadata": {},
   "source": [
    "- Below we can shuffle just a string."
   ]
  },
  {
   "cell_type": "code",
   "execution_count": 25,
   "metadata": {},
   "outputs": [
    {
     "name": "stdout",
     "output_type": "stream",
     "text": [
      "Original String:  chocolate\n",
      "shuffled String is:  aoloethcc\n"
     ]
    }
   ],
   "source": [
    "# Randomly shuffles a string\n",
    "string_one = \"chocolate\" # Setting variable \n",
    "print (\"Original String: \", string_one)# Prints output of original string.\n",
    "\n",
    "char_list = list(string_one) # Function for string we want to shuffle.\n",
    "\n",
    "\n",
    "np.random.shuffle(char_list) # Function for shuffling the string.\n",
    "\n",
    "string_one = ''.join(char_list)\n",
    "print (\"shuffled String is: \", string_one) # Prints shuffled string from original string."
   ]
  },
  {
   "cell_type": "markdown",
   "metadata": {},
   "source": [
    "#### Numpy.random.permutation(x) \n",
    "\n",
    "\n",
    "Randomly permute a sequence, or return a permuted range. If x is a multi-dimensional array, it is only shuffled along its first index. (Sci.py.org)\n",
    "\n",
    "- Generally, in Numpy, both random.permutation and random.shuffle randomly shuffle elements in an array. But there are differences:\n",
    "\n",
    "- If you want to generate random permutations of x, then what is the difference between shuffle(x) and permutation(x)?\n",
    "- np.random.permutation has two differences from np.random.shuffle:\n",
    "\n",
    "   - If passed an array, it will return a shuffled copy of the array; np.random.shuffle shuffles the array in place.\n",
    "   - If passed an integer, it will return a shuffled range i.e. np.random.shuffle(np.arange(n))\n",
    "- If x is an integer, randomly permute np.arange(x). If x is an array, make a copy and shuffle the elements randomly.\n",
    "- np.random.permutation is useful when you need to shuffle ordered pairs, especially for classification:\n",
    "\n",
    "(https://stackoverflow.com/questions/15474159/shuffle-vs-permute-numpy)"
   ]
  },
  {
   "cell_type": "code",
   "execution_count": 26,
   "metadata": {},
   "outputs": [
    {
     "data": {
      "text/plain": [
       "array([9, 2, 1, 8, 0, 7, 4, 6, 5, 3])"
      ]
     },
     "execution_count": 26,
     "metadata": {},
     "output_type": "execute_result"
    }
   ],
   "source": [
    "# Displays all the numbers from 0 to the number you enter.\n",
    "np.random.permutation(10)# Function which randomly returns a permuted range of numbers between 0 and 10."
   ]
  },
  {
   "cell_type": "code",
   "execution_count": 27,
   "metadata": {
    "scrolled": true
   },
   "outputs": [
    {
     "data": {
      "text/plain": [
       "array([ 4, 12,  9,  1, 15])"
      ]
     },
     "execution_count": 27,
     "metadata": {},
     "output_type": "execute_result"
    }
   ],
   "source": [
    "# Outputs the numbers you entered, randomly.\n",
    "np.random.permutation([1, 4, 9, 12, 15]) # Random permutation function, for returning numbers you enetered in any order."
   ]
  },
  {
   "cell_type": "code",
   "execution_count": 28,
   "metadata": {
    "scrolled": true
   },
   "outputs": [
    {
     "data": {
      "text/plain": [
       "array([[6, 7, 8],\n",
       "       [0, 1, 2],\n",
       "       [3, 4, 5]])"
      ]
     },
     "execution_count": 28,
     "metadata": {},
     "output_type": "execute_result"
    }
   ],
   "source": [
    "# Displays nums between 0 and 9 in three rows.\n",
    "arr = np.arange(9).reshape((3, 3))\n",
    "np.random.permutation(arr)"
   ]
  },
  {
   "cell_type": "markdown",
   "metadata": {},
   "source": [
    "## Distribution Functions"
   ]
  },
  {
   "cell_type": "markdown",
   "metadata": {},
   "source": [
    "#### The Poisson Distribution\n",
    "\n",
    "The <a href=\"https://www.statisticshowto.datasciencecentral.com/poisson-distribution/\" target=\"_blank\">Poisson</a> distribution function is a statistical distribution that shows how many times an event is likely to occur within a specified period of time.\n",
    "\n",
    "The French mathematician Siméon-Denis Poisson developed his function in 1830 to describe many models, for example, the number of times a gambler would win a rarely won game of chance in a large number of tries. (Britannica, 2019.)\n",
    "\n",
    "![title](PoissonImage.jpg) Source(Britannica)\n",
    "\n",
    "Helps us to predict the probability of certain events from happening when you know how often the event has occurred. It gives us the probability of a given number of events happening in a fixed interval of time. (Statistics How To, 2013)\n",
    "\n",
    "For example, the number of football fans in a certain day of the weekend. If the average number of fans for three days is 35,500, you can predict the probability of a certain day having more fans attend. You can see why businesses would use this distribution to try and predict/forecast over an x amount of time, to help with demand etc.\n",
    "\n",
    "We can see here that the formula is, and how it is <a href=\"https://www.youtube.com/watch?v=Fk02TW6reiA\" target=\"_blank\">calculated.</a>\n",
    "\n",
    "\n",
    "\n",
    "\n",
    "\n",
    "![title](Poissonformula.png)\n",
    "\n",
    "\n",
    "\n",
    "\n",
    "\n",
    "The Poisson parameter Lambda (λ) is the total number of events (k) divided by the number of units (n) in the data (λ = k/n). The unit forms the basis or denominator for calculation of the average, and need not be individual cases or research subjects. For example, the number of asthma attacks may be based on the number of child months, or the number of pregnancies based on the number of women years in using a particular contraceptive.\n",
    "\n",
    "This is different to the Binomial parameter of proportion or risk where proportion is the number of individuals classified as positive (p) divided by the total number of individuals in the data (r = p/n). Proportion or risk must always be a number between 0 and 1, while λ may be any positive number.\n",
    "\n",
    "For examples, if we have 100 people, and only 90 of them go shopping in a week then the binomial risk of shopping is 90/100 = 0.9. However, some of the people will go shopping more than once in the week, and the total number of shopping trips between the 100 people may be 160, and the Poisson Lambda is 160/100 = 1.6 per 100 person week\n",
    "\n",
    "Large Lambda (λ=k/n), say over 200, assumes an approximately normal or geometric distribution, and the count (or sqrt(count)) can be used as a Parametric measurement. If the events occur very few times per individual, so that individuals can be classified as positive or negative cases, then the Binomial distribution (we will discuss below), can be assumed, and statistics related to proportions used. In between, or when events are infrequent, the Poisson distribution is used. (Stats To Do, 2014)"
   ]
  },
  {
   "cell_type": "code",
   "execution_count": 40,
   "metadata": {},
   "outputs": [],
   "source": [
    "# Poisson fuction is give sample.\n",
    "s = np.random.poisson(4, 10000)"
   ]
  },
  {
   "cell_type": "code",
   "execution_count": 41,
   "metadata": {},
   "outputs": [
    {
     "data": {
      "image/png": "[encoded data removed]",
      "text/plain": [
       "<Figure size 432x288 with 1 Axes>"
      ]
     },
     "metadata": {
      "needs_background": "light"
     },
     "output_type": "display_data"
    }
   ],
   "source": [
    "# Displays histogram of the samples we gave the poisson distribution above.\n",
    "count, bins, ignored = plt.hist(s, 14, density=True) # Plots Histogram.\n",
    "plt.show()"
   ]
  },
  {
   "cell_type": "markdown",
   "metadata": {},
   "source": [
    "#### The Uniform Distribution\n",
    "<a href=\"https://docs.scipy.org/doc/numpy-1.15.0/reference/generated/numpy.random.uniform.html#numpy.random.uniform\" target=\"_blank\">Uniform distribution</a> in statistics, a type of probability distribution in which all outcomes are equally likely; each variable has the same probability that it will be the outcome. A deck of cards has within it uniform distributions because the likelihood of drawing a heart, a club, a diamond or a spade is equally likely. A coin also has a uniform distribution because the probability of getting either heads or tails in a coin toss is the same.\n",
    "\n",
    "The uniform distribution can be visualized as a straight horizontal line, so for a coin flip returning a head or tail, both have a probability p = 0.50 and would be depicted by a line from the y-axis at 0.50."
   ]
  },
  {
   "cell_type": "code",
   "execution_count": 29,
   "metadata": {
    "scrolled": true
   },
   "outputs": [
    {
     "data": {
      "text/plain": [
       "array([3.43737619, 2.313027  , 2.68761757, 2.24444889, 4.32811845,\n",
       "       4.81357136, 2.1383409 , 3.15801791, 2.21689896, 3.78827051])"
      ]
     },
     "execution_count": 29,
     "metadata": {},
     "output_type": "execute_result"
    }
   ],
   "source": [
    "# Get a 1000 numbers back.\n",
    "# Random,rand will only give you numbers between 0 and 1.\n",
    "# Random uniform will give you any numbers.\n",
    "np.random.uniform(2,5,10)"
   ]
  },
  {
   "cell_type": "code",
   "execution_count": 30,
   "metadata": {},
   "outputs": [],
   "source": [
    "# Pretty much does the same thing as the rand function which we looked at above.\n",
    "x = np.random.uniform(0,1000,10000)"
   ]
  },
  {
   "cell_type": "code",
   "execution_count": 31,
   "metadata": {
    "scrolled": true
   },
   "outputs": [
    {
     "data": {
      "text/plain": [
       "(array([1015.,  945., 1007.,  993., 1022., 1057.,  986., 1008.,  967.,\n",
       "        1000.]),\n",
       " array([3.25677875e-02, 1.00028877e+02, 2.00025186e+02, 3.00021495e+02,\n",
       "        4.00017804e+02, 5.00014113e+02, 6.00010423e+02, 7.00006732e+02,\n",
       "        8.00003041e+02, 8.99999350e+02, 9.99995659e+02]),\n",
       " <a list of 10 Patch objects>)"
      ]
     },
     "execution_count": 31,
     "metadata": {},
     "output_type": "execute_result"
    },
    {
     "data": {
      "image/png": "[encoded data removed]",
      "text/plain": [
       "<Figure size 432x288 with 1 Axes>"
      ]
     },
     "metadata": {
      "needs_background": "light"
     },
     "output_type": "display_data"
    }
   ],
   "source": [
    "# Shows the numbers on a bar chart.\n",
    "plt.hist(x)"
   ]
  },
  {
   "cell_type": "markdown",
   "metadata": {},
   "source": [
    "### Numpy.Random.Normal.¶\n",
    "\n",
    "Draw random samples from a normal (Gaussian) distribution.\n",
    "\n",
    "\n",
    "The probability density function of the normal distribution, first derived by De Moivre and 200 years later by both Gauss and Laplace independently [R255], is often called the bell curve because of its characteristic shape (see the example below).\n",
    "\n",
    "\n",
    "The normal distributions occurs often in nature. For example, it describes the commonly occurring distribution of samples influenced by a large number of tiny, random disturbances, each with its own unique distribution\n",
    "\n",
    "\n",
    "Below the numbers with e-01 at the end of it, means multipy whatever came before the e by 10 to the minus 1 or divide by 10, e-02 means divide by 100 and so on.\n",
    "\n",
    "\n",
    "Can take more functions and see how they work if you like."
   ]
  },
  {
   "cell_type": "code",
   "execution_count": 32,
   "metadata": {},
   "outputs": [
    {
     "data": {
      "text/plain": [
       "array([ 1.60796245e-01, -7.03181131e-02, -4.31161550e-03,  1.45141918e-01,\n",
       "       -7.34719922e-02,  4.73189000e-02, -7.59019647e-02, -7.98851243e-02,\n",
       "        2.95586918e-02, -2.66125066e-02,  2.43308191e-01, -5.55812254e-02,\n",
       "        5.28981716e-02,  2.74812323e-02,  2.19948882e-02, -6.64859033e-02,\n",
       "        6.83458458e-03, -5.35800917e-03,  5.93785231e-02,  1.44654771e-01,\n",
       "        1.49209743e-01,  1.20596632e-01,  8.33963325e-02,  1.42721481e-01,\n",
       "       -1.18540085e-01,  1.01608470e-01,  6.92408663e-02,  3.94677433e-02,\n",
       "        7.66603997e-02, -3.31879668e-02,  3.87010890e-02,  9.22619833e-02,\n",
       "       -6.75598126e-02, -2.70007812e-02,  2.02703378e-01,  2.04958939e-02,\n",
       "       -1.14606235e-01,  9.08376456e-02,  8.19955908e-02,  7.87926451e-02,\n",
       "        6.15573719e-02, -9.75457763e-02, -1.28627329e-02,  1.08336860e-01,\n",
       "       -6.09204454e-02, -6.11552504e-03,  1.27204840e-01,  2.99656965e-02,\n",
       "        7.75039782e-02,  5.84545300e-02,  9.28641233e-02, -8.45532202e-02,\n",
       "        2.63413479e-01,  1.73440891e-02, -8.18786065e-02, -6.97290147e-02,\n",
       "        1.52081116e-01,  4.05770624e-02,  1.15687460e-01,  2.31244163e-02,\n",
       "       -1.53418170e-01, -1.12593293e-01, -6.91095937e-02,  2.29817600e-02,\n",
       "        1.11922297e-01, -6.92079400e-02,  4.76989783e-02,  1.39645724e-01,\n",
       "       -2.92797055e-01, -2.68052030e-02,  1.84731941e-01,  3.23195418e-02,\n",
       "        8.45740275e-02, -7.76594065e-02,  4.14207566e-02, -9.37128507e-03,\n",
       "        2.57784382e-02,  1.61461161e-01, -3.93962767e-02, -1.22170875e-01,\n",
       "       -1.65662093e-02, -1.58790452e-01, -2.63839196e-02, -1.74690677e-02,\n",
       "       -3.00815880e-02,  8.40678131e-03, -4.07959337e-02, -7.33686323e-03,\n",
       "        7.85991386e-02, -2.09082458e-03,  8.97566660e-02,  1.80987983e-01,\n",
       "        6.03386239e-02, -2.07366979e-01,  4.01091420e-02,  6.99167944e-02,\n",
       "        3.49467173e-02,  4.80934101e-03, -1.29204356e-02,  1.35189888e-02,\n",
       "        8.33432012e-02,  5.53380041e-02,  1.15751709e-01,  3.60546278e-02,\n",
       "       -1.01473970e-01, -6.44979635e-02, -1.17489924e-01,  7.75261276e-02,\n",
       "       -7.68312926e-02,  1.66571798e-01, -4.62916049e-02, -7.02286908e-02,\n",
       "        9.07165081e-02,  1.20332387e-01,  8.57514696e-02,  5.12453742e-02,\n",
       "        1.00632019e-01, -1.11522950e-01,  4.02422057e-02, -1.43565716e-02,\n",
       "       -1.11288527e-01,  2.91008858e-02,  1.86246299e-01, -8.17934551e-02,\n",
       "        8.73323348e-02, -7.98344149e-02, -3.34216077e-02,  5.77308673e-02,\n",
       "       -6.54996438e-02,  1.26998402e-01, -1.07664959e-01, -3.99769352e-02,\n",
       "        1.23385722e-01,  6.43688891e-02, -8.58285833e-02, -8.19384320e-02,\n",
       "        3.87893160e-02, -5.31172150e-02,  1.83227006e-01, -8.25581634e-02,\n",
       "        1.27122084e-01,  2.08757724e-01,  1.06334948e-01,  8.65459521e-02,\n",
       "        5.06850714e-02,  9.21342558e-02,  1.61785256e-02,  4.04515996e-02,\n",
       "        1.18608869e-01, -1.36604567e-01, -4.16257532e-02,  3.43835190e-02,\n",
       "        6.80114165e-02, -6.61680589e-02, -2.05652720e-03,  1.10437240e-01,\n",
       "        9.16301568e-02,  4.48442520e-04,  7.02483898e-02, -1.43723637e-02,\n",
       "       -1.46879583e-01,  1.53238657e-01,  1.70872927e-01,  4.86373537e-04,\n",
       "       -1.18156979e-01, -2.87289918e-02,  1.10215905e-01,  6.31796407e-02,\n",
       "        1.04939045e-01, -9.36954268e-02,  7.56011976e-02, -2.09696488e-01,\n",
       "        6.32480908e-02,  2.72155806e-01,  1.51583032e-01,  1.00433188e-01,\n",
       "       -9.40520792e-02, -1.07998299e-01, -1.80047510e-01, -8.12059643e-02,\n",
       "       -4.00659405e-02,  8.54051421e-02,  7.74973704e-02, -5.84759414e-02,\n",
       "       -4.16513052e-02, -1.06360763e-01, -9.53982725e-02,  5.79253591e-02,\n",
       "       -1.99068405e-01, -1.62412434e-01,  9.14915725e-02, -2.63620443e-02,\n",
       "        3.32857899e-02,  4.43442029e-02, -1.81541794e-01,  2.15327407e-02,\n",
       "        8.45492917e-02, -6.42329854e-02, -8.38666515e-02,  6.78976619e-02,\n",
       "       -3.49285035e-02,  1.64178959e-01,  2.22767467e-02,  2.97396471e-02,\n",
       "       -8.97464842e-02,  3.54445080e-02, -7.62688385e-02,  6.65861024e-02,\n",
       "       -1.91678859e-01,  6.20063389e-02, -6.83779222e-03, -1.27277975e-01,\n",
       "       -8.65411661e-02, -8.41338920e-02, -9.78806237e-02,  3.78377970e-02,\n",
       "        2.48892118e-04,  5.32590660e-02,  9.00519747e-02,  1.10492588e-01,\n",
       "       -8.50528293e-02,  3.91915541e-02,  1.36040182e-01, -1.01398721e-01,\n",
       "        1.62518253e-01, -1.41836971e-01,  4.30397567e-02,  8.93517809e-02,\n",
       "        4.24869819e-03, -6.74190902e-02, -4.24205867e-02, -8.44597443e-02,\n",
       "        1.13193982e-01, -4.18494460e-02,  4.16986917e-02, -4.67363843e-02,\n",
       "        9.34663899e-02,  2.42685082e-01, -3.60848634e-02, -6.00075800e-02,\n",
       "        1.05982526e-02,  6.30285695e-02, -2.71918024e-02, -2.70780298e-03,\n",
       "       -7.86905470e-02,  3.37622666e-02,  2.02128813e-02,  1.82048790e-01,\n",
       "       -8.25441480e-02,  5.86233307e-02, -2.41108593e-01, -1.77742442e-01,\n",
       "       -7.48612570e-02,  1.20241608e-01, -6.47831498e-02, -6.00087823e-02,\n",
       "       -2.41591774e-03,  7.29978268e-02,  1.21648149e-01,  1.53404446e-01,\n",
       "       -5.03415610e-02, -9.39763151e-02, -1.17167348e-02, -5.18104369e-02,\n",
       "        5.73689220e-02, -2.19656003e-02, -1.42336042e-02,  9.40905671e-03,\n",
       "       -6.97879278e-02, -1.57981811e-01, -2.92322739e-02, -6.90868069e-02,\n",
       "       -1.38121557e-01,  5.48413040e-02,  1.72842860e-01, -6.78116963e-02,\n",
       "        5.65911954e-03, -6.69479400e-02,  5.97558458e-02, -4.27629344e-02,\n",
       "        1.61359045e-01,  5.69402058e-02,  7.31348262e-03, -1.41807208e-01,\n",
       "       -5.12539290e-02,  6.21387828e-02, -1.73819169e-01,  8.29894701e-02,\n",
       "        1.34703715e-01,  1.30862623e-01, -1.68039640e-02,  1.89871505e-02,\n",
       "       -1.40781802e-01, -3.22659601e-02,  1.05681214e-02,  5.87081887e-02,\n",
       "        2.11402301e-02,  1.59300570e-01,  1.28239575e-01,  1.80066334e-02,\n",
       "       -9.54089245e-03, -1.81961482e-02,  2.39422289e-02,  1.10276018e-03,\n",
       "       -1.64570250e-01, -4.08111752e-02, -8.99061508e-02, -3.50559358e-02,\n",
       "        2.59987218e-02, -1.25088182e-01, -4.53699911e-02, -2.20485841e-02,\n",
       "        1.29215144e-01, -6.58032191e-02,  4.70157176e-02,  1.13619350e-01,\n",
       "       -1.94878131e-01, -1.65695415e-02, -1.48543993e-01,  4.29146173e-02,\n",
       "        3.29566910e-02,  1.26561154e-01,  6.49667346e-02, -4.35636497e-02,\n",
       "       -5.30637700e-03,  6.95775121e-02,  1.85371518e-01, -1.09746126e-01,\n",
       "       -2.29864641e-02, -5.94831115e-02, -1.32646092e-01,  2.49126125e-03,\n",
       "        2.30634755e-02,  9.50454617e-02,  7.99420737e-02,  1.91838175e-02,\n",
       "        8.44948430e-02,  1.33915865e-01,  7.67858182e-03, -2.01634027e-01,\n",
       "       -2.03469824e-02,  8.58269405e-02, -4.03861654e-02,  4.07020110e-02,\n",
       "       -4.91040398e-02, -9.51757960e-03, -9.45179162e-02, -4.98881369e-02,\n",
       "       -3.23334006e-01, -1.19783161e-01, -1.55903142e-01,  7.48124039e-02,\n",
       "       -2.24763474e-02,  4.26157209e-02, -1.66319878e-01, -2.34425215e-01,\n",
       "       -1.85234508e-02, -3.83061045e-02, -2.06334453e-01, -3.21658565e-03,\n",
       "        1.85732387e-02, -1.51828935e-01, -4.36672377e-02,  4.04748056e-02,\n",
       "       -1.78875799e-02, -6.14078272e-02, -1.48680926e-01, -9.64675955e-02,\n",
       "        6.60171345e-03, -7.54861171e-02, -1.60887835e-02,  5.83628319e-02,\n",
       "        9.98846845e-02,  3.76071946e-02, -1.99047197e-01, -7.53926764e-02,\n",
       "       -4.16458530e-03,  3.16195828e-02, -1.35094834e-01,  1.84751735e-01,\n",
       "       -2.07426782e-01, -1.17074580e-01, -2.02202101e-02, -1.92080472e-02,\n",
       "       -6.49207749e-02, -9.55301142e-02,  6.25410629e-02,  2.02719532e-02,\n",
       "       -2.65481517e-02,  1.20414341e-01, -2.01494757e-02, -6.60347975e-03,\n",
       "        9.53287566e-02,  2.21473429e-02, -2.37160570e-03, -3.31135191e-02,\n",
       "       -2.74161318e-02, -3.52119061e-02,  6.81181767e-02,  1.66258299e-01,\n",
       "       -2.73924068e-01, -5.25697012e-02, -9.73097294e-02, -4.98168803e-02,\n",
       "       -5.39690856e-02,  8.34869807e-02, -1.43702742e-01, -1.91441540e-01,\n",
       "        3.34926108e-02,  1.01767041e-01, -5.08551003e-02,  6.47990274e-02,\n",
       "        3.34829599e-02, -1.12840786e-01, -7.24075748e-02, -1.58685244e-01,\n",
       "        1.01650208e-01,  5.57133837e-02, -9.98814275e-03, -5.88745048e-02,\n",
       "        2.96779037e-02, -9.90590243e-02,  1.14723393e-01,  3.56351560e-02,\n",
       "       -1.53393428e-01,  1.43862992e-01, -3.02879049e-03, -8.99970888e-02,\n",
       "        1.41953289e-01, -2.38431060e-02, -1.52520645e-01,  8.16720243e-02,\n",
       "       -1.78416737e-02,  1.22579576e-01, -5.84631933e-02, -1.00601593e-01,\n",
       "        6.30093659e-02,  1.15148799e-01, -1.57679832e-02, -2.68545824e-02,\n",
       "        3.19446844e-02, -2.50784961e-02, -1.40865010e-01,  5.05298542e-02,\n",
       "       -4.05135972e-02,  7.66833537e-02, -4.56013441e-02, -1.36700273e-01,\n",
       "        4.04436115e-02, -1.02274105e-01, -2.64986270e-01, -6.76287861e-02,\n",
       "       -1.67341877e-01, -9.06667306e-02,  7.94584330e-03,  5.55887268e-02,\n",
       "        9.76923080e-02,  1.52913117e-01, -8.33548119e-02,  1.31859433e-01,\n",
       "        3.37330200e-02,  2.51780722e-02, -3.43077314e-02, -2.50029278e-01,\n",
       "        3.20588792e-02,  1.59306793e-01, -4.77038119e-02, -4.52264711e-02,\n",
       "        1.38099031e-01, -5.22016841e-02,  2.14612539e-02,  5.61953365e-02,\n",
       "       -2.35885316e-01,  3.41229567e-02,  5.80072455e-02, -5.60762558e-03,\n",
       "       -6.29658661e-02,  1.21755269e-01, -2.37744656e-02,  2.32874773e-02,\n",
       "       -2.01856780e-01,  4.84628758e-03, -1.30632470e-01,  3.74644707e-02,\n",
       "        1.41437133e-01,  1.97254848e-01, -8.90145605e-02, -6.47578685e-02,\n",
       "       -2.18211033e-02,  3.41045107e-02,  4.03460907e-03, -1.41027133e-01,\n",
       "       -1.68371201e-01,  5.50472045e-02,  7.89635011e-02, -1.15960985e-01,\n",
       "        1.63867610e-02, -4.57986206e-02, -2.72743543e-02, -9.36519730e-02,\n",
       "       -1.97431495e-03, -6.20308225e-02,  8.38585134e-02,  1.82193806e-01,\n",
       "       -1.81474498e-02, -1.14807127e-01, -9.39517886e-02,  1.14876669e-01,\n",
       "        5.31187299e-02,  6.30521666e-02,  2.45616836e-02, -1.76594876e-02,\n",
       "        8.34188626e-02, -1.91673244e-02, -8.28437087e-02,  1.05526212e-01,\n",
       "       -3.40419717e-02,  1.25535391e-01, -7.88584304e-02,  1.79626352e-02,\n",
       "       -2.41606964e-02,  2.01439660e-03, -2.93855490e-02, -6.95217402e-02,\n",
       "        4.50852204e-02, -2.04595375e-01, -1.63590350e-02, -8.13277616e-03,\n",
       "       -1.76975644e-02,  9.83592891e-02,  7.16695553e-02, -1.21290012e-01,\n",
       "        1.46097093e-01,  8.45339066e-02, -4.60594241e-02, -6.10250745e-02,\n",
       "       -1.29665087e-01,  2.21794802e-02, -7.40758071e-02, -8.00252050e-02,\n",
       "       -1.02477304e-01, -1.02529647e-01, -7.05248408e-02,  1.78826235e-02,\n",
       "       -1.64786393e-01,  6.87946137e-02,  1.89549541e-01,  9.21863460e-02,\n",
       "       -1.70928773e-01,  7.93927824e-03, -9.37550061e-02,  3.58660049e-02,\n",
       "       -3.76213570e-02, -8.87545965e-02,  1.27545017e-01, -6.02808427e-02,\n",
       "        5.38104165e-02, -3.79669275e-01, -3.89245107e-02, -4.25537315e-02,\n",
       "        1.32681825e-02, -7.88090294e-02, -4.03397332e-02, -5.55281704e-02,\n",
       "       -5.96455656e-02, -9.46198518e-02,  8.35570826e-03, -5.53725169e-02,\n",
       "       -8.51247714e-02,  7.33065932e-02, -5.24317976e-02, -2.28666359e-03,\n",
       "        1.31509731e-01, -5.11028148e-02,  1.41246025e-01,  1.16879619e-02,\n",
       "        7.33245761e-02, -6.90958170e-02,  1.51090702e-01,  1.62885901e-02,\n",
       "        1.85840386e-01, -3.59137442e-02,  1.72059189e-01, -2.89702659e-02,\n",
       "        1.56808755e-02,  1.04268049e-01,  1.19516293e-01,  8.49334917e-02,\n",
       "        6.70106886e-02, -3.03396428e-02, -1.17505887e-01, -1.22526773e-01,\n",
       "       -2.28243056e-01,  1.59735027e-01,  1.25082798e-02,  2.70233253e-02,\n",
       "        3.79006797e-02,  3.61268964e-02, -4.16626829e-02, -4.19531049e-02,\n",
       "        3.18159824e-02,  1.19755403e-02, -1.65271652e-02, -6.35004737e-02,\n",
       "       -3.56523052e-02, -1.31690109e-02, -2.83316031e-01, -1.10017006e-01,\n",
       "        3.72374975e-02, -8.23541216e-02, -1.23430549e-01,  2.17176716e-03,\n",
       "        1.09781832e-01, -5.78844900e-03, -1.29317886e-01,  7.12541613e-02,\n",
       "        1.58086926e-01,  1.06679412e-02,  3.86762122e-02,  1.17720163e-01,\n",
       "       -8.39252880e-02, -5.79477663e-02, -7.06108858e-02,  6.82700608e-02,\n",
       "        6.40472233e-02,  1.43147120e-01,  7.81950702e-02, -3.37979207e-03,\n",
       "        6.59559309e-02, -1.76031729e-01, -1.10671135e-01,  1.64421557e-02,\n",
       "        1.04789606e-01, -1.96725496e-01, -5.20843885e-02, -6.29390854e-02,\n",
       "        1.00158962e-01, -6.30641302e-02,  1.53479765e-01,  4.61635478e-02,\n",
       "       -5.13413486e-02,  3.86460825e-02,  3.52607283e-02, -1.01667387e-01,\n",
       "        1.02634226e-01,  5.41004744e-02, -9.81294162e-02,  5.15377627e-02,\n",
       "       -4.67673390e-02,  1.16670236e-01,  1.92265821e-01,  3.92116836e-02,\n",
       "       -9.38652790e-02,  1.78522578e-01, -6.35199990e-02,  9.37875092e-03,\n",
       "        6.42155244e-02, -2.95592101e-02,  9.11165436e-02,  1.48532278e-01,\n",
       "        2.76854885e-02, -2.22535129e-02, -5.02552257e-02,  4.01488759e-03,\n",
       "        2.54810514e-01, -1.02927717e-01,  1.32626408e-01, -1.71057312e-01,\n",
       "        1.31685331e-01, -1.40352247e-02,  4.01831727e-03, -9.43251476e-02,\n",
       "        1.48076679e-01,  9.42700838e-02,  1.26378472e-01,  3.17167547e-02,\n",
       "        1.67926846e-01, -1.18119356e-01, -1.46544535e-01,  1.88607219e-01,\n",
       "        8.44902326e-02, -7.33706371e-02, -3.39569616e-02, -9.22818364e-02,\n",
       "        1.66842959e-01, -1.96494617e-01, -4.56822034e-02, -1.08496634e-02,\n",
       "       -3.81188886e-02, -1.49475681e-01,  1.32022129e-01,  2.35680423e-02,\n",
       "        8.18701813e-02,  1.49182023e-01,  9.58796968e-03, -1.85531362e-01,\n",
       "        4.35527750e-02,  7.17057717e-02, -6.59401889e-02, -1.14847939e-01,\n",
       "       -5.40233717e-02,  5.80038486e-02, -4.66541189e-02,  1.09306558e-01,\n",
       "       -4.59801978e-02,  5.02192506e-03,  1.21937396e-01,  3.41781428e-02,\n",
       "        1.51696909e-01,  1.01917374e-02,  8.64738793e-02,  1.08319256e-01,\n",
       "        8.26607170e-02,  9.72687017e-03, -3.16470393e-02, -1.21824298e-01,\n",
       "       -6.45940058e-02, -7.94440200e-02,  2.09332459e-01,  1.09854935e-01,\n",
       "       -3.99687656e-02,  9.97482298e-02, -3.69490251e-02,  1.82689046e-01,\n",
       "        2.29549952e-02, -7.25598858e-02,  7.57718861e-02,  5.96140696e-02,\n",
       "       -6.25609551e-02, -2.76345539e-02, -9.81854222e-02,  7.58678471e-02,\n",
       "       -3.16150433e-02,  2.17272529e-02,  3.72575887e-02,  2.37941764e-02,\n",
       "        1.57067735e-02,  1.27817204e-01,  2.36990226e-02, -5.00797428e-02,\n",
       "       -3.68949050e-02, -7.90951999e-03,  3.08432854e-01, -2.78760002e-01,\n",
       "        1.17053043e-03, -7.26763834e-02,  7.31944597e-02, -5.07101654e-03,\n",
       "        3.31916490e-02,  6.50430421e-02, -1.18710723e-01, -1.91931052e-02,\n",
       "        5.07762378e-02,  8.39086278e-02, -9.14356605e-02, -8.33782407e-02,\n",
       "       -9.00840798e-02, -2.84445470e-02, -1.58861696e-01, -1.75509055e-01,\n",
       "        3.21395757e-02,  7.73867169e-02, -7.03933705e-02,  2.73831397e-02,\n",
       "       -1.66989683e-01, -6.87374518e-03,  3.99941674e-02,  8.54084188e-02,\n",
       "        1.20363024e-02,  9.77096941e-02,  2.46735277e-02,  3.42878906e-02,\n",
       "       -1.00048773e-02, -1.48253185e-01, -7.90397411e-02, -6.50471545e-02,\n",
       "       -1.50691799e-02, -8.72780642e-02,  1.54257715e-01, -2.29899674e-02,\n",
       "        1.12891331e-01,  7.26782921e-03, -8.27993287e-02,  1.98190791e-01,\n",
       "       -1.80483311e-01, -9.90762718e-02, -8.22958193e-02,  8.65945067e-02,\n",
       "       -1.04004767e-03, -1.38842502e-01, -1.92916723e-02, -8.38980927e-02,\n",
       "       -8.95722145e-02,  1.25157746e-01,  1.84687201e-02, -7.84762534e-02,\n",
       "       -1.63494933e-01, -3.97783822e-02, -7.24863696e-02, -5.06006262e-02,\n",
       "        1.61926787e-02, -1.29634702e-01,  2.10379355e-02,  4.92897836e-02,\n",
       "        5.42223796e-02,  4.12058886e-02, -4.27334713e-02, -7.94185552e-02,\n",
       "       -1.08793271e-01,  5.92596503e-02,  4.98037508e-02,  1.49406248e-01,\n",
       "        2.34829523e-02, -8.84078443e-02,  1.88868685e-01,  4.61562253e-02,\n",
       "        1.10689768e-01,  1.09236761e-01,  4.35811813e-02,  8.57922933e-02,\n",
       "        1.11285489e-01, -3.77403519e-02, -7.52483574e-02, -6.15892010e-02,\n",
       "       -7.41427626e-02, -1.00787991e-02,  1.15997813e-01,  6.40006727e-02,\n",
       "        7.52028314e-02, -4.02708612e-02,  3.51238182e-03, -8.49928407e-02,\n",
       "       -1.73550049e-01,  1.38271201e-01, -1.02830619e-01,  2.37449438e-02,\n",
       "        1.66898378e-01,  7.63577078e-02, -3.75129575e-02,  8.49882544e-02,\n",
       "        1.05007613e-01, -1.37548184e-01, -2.08869083e-02,  2.46261586e-02,\n",
       "        2.00555852e-01, -1.41409096e-01,  9.79096416e-03, -8.00487167e-02,\n",
       "        2.52542390e-02,  1.26787985e-01,  2.82627843e-02,  4.02781310e-02,\n",
       "       -5.89725700e-02, -1.35501235e-02, -1.41460593e-01,  9.29890236e-02,\n",
       "       -1.40324827e-01, -3.28637806e-02, -9.11709337e-02, -7.82950231e-02,\n",
       "       -5.14599558e-02,  9.95715397e-02, -5.37971292e-02,  2.60089220e-03,\n",
       "       -8.90549083e-02,  8.73423157e-02,  4.96132356e-02,  5.08325984e-03,\n",
       "       -2.36825183e-01, -1.04627180e-01, -5.38749933e-02,  7.91679217e-02,\n",
       "       -1.73921352e-03, -1.02319489e-01, -1.13324121e-01, -2.30829769e-02,\n",
       "        7.06898585e-02, -2.30286096e-01,  1.20972589e-03,  3.27803859e-02,\n",
       "       -9.40787331e-02,  5.76625089e-03,  1.12026894e-01,  3.43441588e-02,\n",
       "       -1.52968471e-01, -1.22467436e-01,  1.66983460e-01,  5.26534265e-02,\n",
       "       -1.27742142e-02, -1.64209706e-01,  6.58840174e-02,  9.16307039e-03,\n",
       "       -3.22265545e-02,  2.51004537e-04, -1.84110535e-02,  2.23288534e-02,\n",
       "        2.50276523e-01, -1.69339877e-01, -3.97505320e-02,  1.48272024e-01,\n",
       "       -9.89911605e-02, -1.31073969e-01, -1.99312006e-02, -5.08439554e-02,\n",
       "        1.41957243e-03,  2.17060119e-01,  6.53106521e-02, -1.56575048e-02,\n",
       "       -8.52752715e-02,  9.33330058e-02,  5.29738692e-02,  9.65768478e-02,\n",
       "        7.03313426e-02,  1.00083122e-01,  2.35829026e-03,  7.46856014e-02,\n",
       "       -1.05487949e-01, -2.81797786e-02, -1.29643795e-02,  8.27337835e-02,\n",
       "       -1.05691540e-01,  1.98207244e-01, -2.03029167e-01, -2.09292158e-01,\n",
       "        2.77296870e-02,  2.17848512e-02,  5.89140015e-02, -4.80591764e-02,\n",
       "       -6.62813832e-02,  6.61965921e-02,  1.72261914e-02, -2.31595501e-02,\n",
       "        6.77199873e-02,  1.06331385e-01, -5.06791410e-02,  1.74732033e-01,\n",
       "        1.12089718e-03,  1.09230099e-01,  6.63888194e-02, -2.07060842e-03,\n",
       "        7.94586271e-02,  1.08520242e-01, -1.66272851e-01,  1.04854858e-01,\n",
       "        2.90070718e-03, -4.70889279e-02, -7.60055795e-02,  5.27724904e-02,\n",
       "       -6.40636570e-02, -1.77146190e-01,  2.83911286e-02,  3.85794684e-02,\n",
       "       -9.29033177e-02,  6.07145448e-02,  1.97600260e-01,  1.57837845e-01,\n",
       "        1.89158224e-02, -1.39120623e-01, -1.07156939e-01, -1.63194347e-02,\n",
       "       -3.09797818e-01,  7.39541537e-02,  4.92678835e-02, -7.86168511e-02,\n",
       "       -5.29199465e-02,  9.84482954e-02, -1.38475816e-01,  1.68879822e-02,\n",
       "       -2.36442700e-03, -4.25187396e-02,  3.58441092e-02,  6.93178521e-02,\n",
       "       -1.27486604e-02,  4.21354069e-04,  1.08644882e-01,  5.00128249e-02,\n",
       "        4.40174672e-02,  2.27770854e-01,  1.35270059e-01, -2.20635003e-01,\n",
       "        4.53773455e-02,  8.29578994e-02, -6.87360135e-03,  1.43118638e-01,\n",
       "        9.31973642e-03, -2.89578937e-02, -1.22019724e-01, -1.80824132e-01,\n",
       "       -1.33876737e-02, -2.29204077e-02,  1.69741595e-01, -2.20454146e-02,\n",
       "       -1.52839606e-01,  5.16113757e-02,  7.91378958e-03, -2.14128146e-02,\n",
       "        5.71306491e-02, -9.76072920e-02,  1.64739337e-03, -1.11369168e-02])"
      ]
     },
     "execution_count": 32,
     "metadata": {},
     "output_type": "execute_result"
    }
   ],
   "source": [
    "np.random.normal(0, 0.1, 1000)"
   ]
  },
  {
   "cell_type": "code",
   "execution_count": 33,
   "metadata": {},
   "outputs": [],
   "source": [
    "# The data is being centered around the first number, if you change it around you can see.\n",
    "x = np.random.normal(15, 7, 1000)"
   ]
  },
  {
   "cell_type": "code",
   "execution_count": 34,
   "metadata": {},
   "outputs": [
    {
     "data": {
      "text/plain": [
       "(array([ 11.,  46., 129., 184., 256., 193., 127.,  39.,  14.,   1.]),\n",
       " array([-5.56664868, -0.98586013,  3.59492841,  8.17571696, 12.75650551,\n",
       "        17.33729406, 21.91808261, 26.49887115, 31.0796597 , 35.66044825,\n",
       "        40.2412368 ]),\n",
       " <a list of 10 Patch objects>)"
      ]
     },
     "execution_count": 34,
     "metadata": {},
     "output_type": "execute_result"
    },
    {
     "data": {
      "image/png": "[encoded data removed]",
      "text/plain": [
       "<Figure size 432x288 with 1 Axes>"
      ]
     },
     "metadata": {
      "needs_background": "light"
     },
     "output_type": "display_data"
    }
   ],
   "source": [
    "# Shows the data on the x axis\n",
    "plt.hist(x)"
   ]
  },
  {
   "cell_type": "markdown",
   "metadata": {},
   "source": [
    "## Bibliography\n",
    "\n",
    "SciPy.org, 2018, Viewed on 2019/10/18, available at: https://docs.scipy.org/doc/numpy-1.15.0/reference/routines.random.html\n",
    "\n",
    "APMonitor, Youtube, 2017, viewed on 2019/11/04, available at: https://www.youtube.com/watch?v=Z2zUGmqIDto \n",
    "\n",
    "Stackoverflow, 2017, viewed on 2019/11/04, available at: (https://stackoverflow.com/questions/15474159/shuffle-vs-permute-numpy)\n",
    "\n",
    "Py.Native, 2019, viewed on the 2019/11/05, available at: https://pynative.com/python-random-shuffle/\n",
    "\n",
    "Crazy Geeks, 2019, viewed on the 2019/11/07, available at: https://www.crazygeeks.org/numpy-random-rand-in-python/\n",
    "\n",
    "Chris Albon, 2017, viewed on 2019/11/07, available at: https://chrisalbon.com/python/basics/generating_random_numbers_with_numpy/\n",
    "\n",
    "Machinemastery, 2019, viewed on the 2019/11/07, available at: https://machinelearningmastery.com/how-to-generate-random-numbers-in-python/\n",
    "\n",
    "Statistics How To, 2013, viewed on the 2019/11/07, available at: https://www.statisticshowto.datasciencecentral.com/poisson-distribution/\n",
    "\n",
    "Britannica, 2019, viewed on the 2019/11/07, available at: https://www.britannica.com/biography/Simeon-Denis-Poisson\n",
    "\n",
    "Stats To Do, 2014, viewwed on 2019/11/07, available at: https://www.statstodo.com/Poisson_Exp.php\n"
   ]
  },
  {
   "cell_type": "code",
   "execution_count": null,
   "metadata": {},
   "outputs": [],
   "source": []
  }
 ],
 "metadata": {
  "kernelspec": {
   "display_name": "Python 3",
   "language": "python",
   "name": "python3"
  },
  "language_info": {
   "codemirror_mode": {
    "name": "ipython",
    "version": 3
   },
   "file_extension": ".py",
   "mimetype": "text/x-python",
   "name": "python",
   "nbconvert_exporter": "python",
   "pygments_lexer": "ipython3",
   "version": "3.7.1"
  }
 },
 "nbformat": 4,
 "nbformat_minor": 2
}
