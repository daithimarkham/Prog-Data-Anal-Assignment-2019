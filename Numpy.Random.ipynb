{
 "cells": [
  {
   "cell_type": "markdown",
   "metadata": {},
   "source": [
    "# Numpy.Random Package.\n",
    "![title](NumpyImage.jpg) Source(APMonitor.com)"
   ]
  },
  {
   "cell_type": "markdown",
   "metadata": {},
   "source": [
    "## Numpy.Random package.\n",
    "Creates random numbers and arrays. Whenever you want to generate an array of random numbers you need to use numpy.random, which has multiple functions. These functions generate the random n-dimensional array/arrays for various distributions, size, mean, width, colour on histograms and plots, etc, which we will be discussing later below.\n",
    "\n",
    "The use of randomness is an important part of the configuration and evaluation of machine learning algorithms.\n",
    "\n",
    "From the random initialization of weights in an artificial neural network, to the splitting of data into random train and test sets, to the random shuffling of a training dataset in stochastic gradient descent, generating random numbers and harnessing randomness is a required skill. (Machinemastery, 2019)\n",
    "\n",
    "Below we will discover how to generate and work with random numbers in Python.\n",
    "\n",
    "**Pseudorandom Number Generators**\n",
    "\n",
    "\n",
    "The source of randomness that we inject into our programs and algorithms is a mathematical trick called a pseudorandom number generator.\n",
    "\n",
    "A random number generator is a system that generates random numbers from a true source of randomness. Often something physical, such as a Geiger counter, where the results are turned into random numbers. We do not need true randomness in machine learning. Instead we can use pseudorandomness. Pseudorandomness is a sample of numbers that look close to random, but were generated using a deterministic process.\n",
    "\n",
    "Shuffling data and initializing coefficients with random values use pseudorandom number generators. These little programs are often a function that you can call that will return a random number. Called again, they will return a new random number. Wrapper functions are often also available and allow you to get your randomness as an integer, floating point, within a specific distribution, within a specific range, and so on.\n",
    "\n",
    "The numbers are generated in a sequence. The sequence is deterministic and is seeded with an initial number. If you do not explicitly seed the pseudorandom number generator, then it may use the current system time in seconds or milliseconds as the seed.\n",
    "\n",
    "The value of the seed does not matter. Choose anything you wish. What does matter is that the same seeding of the process will result in the same sequence of random numbers.\n",
    "\n",
    "\n",
    "Below we will discover how to generate and work with random numbers in Python. (Machinemastery, 2019)\n"
   ]
  },
  {
   "cell_type": "markdown",
   "metadata": {},
   "source": [
    "## Simple Random Data.\n",
    "### How to the Numpy Ramdom module. \n",
    "- The random package has many functions to help generate numberous different types of numbers. We will see below how to use these functions. \n",
    "- You will need to import the numpy package below. (import numpy as np)"
   ]
  },
  {
   "cell_type": "markdown",
   "metadata": {},
   "source": [
    "There are many ways to generate random numbers. Numpy.random creates random values in a given shape, returns a sample/samples, from the standard normal distribution. It returns random integers from low to high. Below, we can look at some.\n",
    "\n",
    "#### Code below, adapted from SciPy.org, Stackoverflow and Py.Native."
   ]
  },
  {
   "cell_type": "code",
   "execution_count": 1,
   "metadata": {},
   "outputs": [],
   "source": [
    "# Import Numpy Package\n",
    "import numpy as np"
   ]
  },
  {
   "cell_type": "markdown",
   "metadata": {},
   "source": [
    "#### np.random.normal"
   ]
  },
  {
   "cell_type": "code",
   "execution_count": 2,
   "metadata": {},
   "outputs": [
    {
     "name": "stdout",
     "output_type": "stream",
     "text": [
      "Generating random number using random.normal()\n"
     ]
    },
    {
     "data": {
      "text/plain": [
       "1.1594994768939286"
      ]
     },
     "execution_count": 2,
     "metadata": {},
     "output_type": "execute_result"
    }
   ],
   "source": [
    "# Generates a random number from the normal distribution.\n",
    "print(\"Generating random number using random.normal()\")\n",
    "np.random.normal()"
   ]
  },
  {
   "cell_type": "code",
   "execution_count": 3,
   "metadata": {},
   "outputs": [
    {
     "data": {
      "text/plain": [
       "array([-1.29320447, -0.77928809,  1.68023436,  1.13525997])"
      ]
     },
     "execution_count": 3,
     "metadata": {},
     "output_type": "execute_result"
    }
   ],
   "source": [
    "# Generates 4 random numbers from the normal distribution.\n",
    "np.random.normal(size=4)"
   ]
  },
  {
   "cell_type": "markdown",
   "metadata": {},
   "source": [
    "#### np.random.rand\n",
    "- Numpy creates arrays. Random numbers in this case between 0 and 1.\n",
    "- Contains arrays, floating numbers."
   ]
  },
  {
   "cell_type": "code",
   "execution_count": 4,
   "metadata": {},
   "outputs": [
    {
     "data": {
      "text/plain": [
       "array([[0.68039595, 0.11285486],\n",
       "       [0.51755406, 0.34938985],\n",
       "       [0.91753226, 0.23694604],\n",
       "       [0.93948334, 0.97560023]])"
      ]
     },
     "execution_count": 4,
     "metadata": {},
     "output_type": "execute_result"
    }
   ],
   "source": [
    "# Contains arrays, floating numbers.\n",
    "np.random.rand(4,2)"
   ]
  },
  {
   "cell_type": "markdown",
   "metadata": {},
   "source": [
    "- Get an array with 9 elements in it."
   ]
  },
  {
   "cell_type": "code",
   "execution_count": 5,
   "metadata": {},
   "outputs": [
    {
     "data": {
      "text/plain": [
       "array([0.04862156, 0.68071113, 0.4160791 , 0.03195642, 0.95050439,\n",
       "       0.8703625 , 0.25491165, 0.20794258, 0.82718605])"
      ]
     },
     "execution_count": 5,
     "metadata": {},
     "output_type": "execute_result"
    }
   ],
   "source": [
    "# Displays 9 elements.\n",
    "np.random.rand(9)"
   ]
  },
  {
   "cell_type": "markdown",
   "metadata": {},
   "source": [
    "- Displays two arrays, four rows and thee columns."
   ]
  },
  {
   "cell_type": "code",
   "execution_count": 6,
   "metadata": {},
   "outputs": [
    {
     "data": {
      "text/plain": [
       "array([[[0.30593093, 0.69114219, 0.51624533],\n",
       "        [0.98102659, 0.31163388, 0.01352608],\n",
       "        [0.26277771, 0.02317134, 0.42011408],\n",
       "        [0.08899481, 0.52454741, 0.99466552]],\n",
       "\n",
       "       [[0.10866091, 0.54787256, 0.95196159],\n",
       "        [0.61389802, 0.07531833, 0.17060562],\n",
       "        [0.9694458 , 0.84388383, 0.29581068],\n",
       "        [0.87646805, 0.28049859, 0.84896234]]])"
      ]
     },
     "execution_count": 6,
     "metadata": {},
     "output_type": "execute_result"
    }
   ],
   "source": [
    "# Generates random data, and ouputs in arrays, rows and columns.\n",
    "np.random.rand(2,4,3)"
   ]
  },
  {
   "cell_type": "code",
   "execution_count": 7,
   "metadata": {},
   "outputs": [
    {
     "name": "stdout",
     "output_type": "stream",
     "text": [
      "1D random values array : \n",
      " [0.2395334  0.50313666 0.77564538 0.24558633 0.05201858 0.23512195\n",
      " 0.70135117 0.71172757 0.75818222 0.34643102 0.67489727 0.19241289\n",
      " 0.55769623 0.64559516 0.61368895]\n"
     ]
    }
   ],
   "source": [
    "array = np.random.rand(15) # Prints an array with 15 random values from 0 to 1.\n",
    "print(\"1D random values array : \\n\", array);"
   ]
  },
  {
   "cell_type": "markdown",
   "metadata": {},
   "source": [
    "To display the numbers on a histogram."
   ]
  },
  {
   "cell_type": "code",
   "execution_count": 8,
   "metadata": {},
   "outputs": [],
   "source": [
    "x = np.random.rand(1000)"
   ]
  },
  {
   "cell_type": "code",
   "execution_count": 9,
   "metadata": {},
   "outputs": [
    {
     "data": {
      "text/plain": [
       "<function matplotlib.pyplot.show(*args, **kw)>"
      ]
     },
     "execution_count": 9,
     "metadata": {},
     "output_type": "execute_result"
    },
    {
     "data": {
      "image/png": "[encoded data removed]",
      "text/plain": [
       "<Figure size 432x288 with 1 Axes>"
      ]
     },
     "metadata": {
      "needs_background": "light"
     },
     "output_type": "display_data"
    }
   ],
   "source": [
    "# Histogram shows the most typical values out of 1000 and displays in a bar chart.\n",
    "%matplotlib inline\n",
    "import matplotlib.pyplot as plt\n",
    "plt.hist(x)\n",
    "plt.show # this will display if the above command does not display. \n",
    "# If the above is not displaying type in %matplotlib inline"
   ]
  },
  {
   "cell_type": "markdown",
   "metadata": {},
   "source": [
    "#### Np.random.randint\n",
    "- Random integer values can be generated with the randint() function. \n",
    "- Takes in two arguments, the start and the end of the range."
   ]
  },
  {
   "cell_type": "code",
   "execution_count": 10,
   "metadata": {},
   "outputs": [
    {
     "data": {
      "text/plain": [
       "array([0, 0, 1, 0, 0, 1, 0, 0, 1, 0])"
      ]
     },
     "execution_count": 10,
     "metadata": {},
     "output_type": "execute_result"
    }
   ],
   "source": [
    "np.random.randint(2, size=10) # Function calls numbers bewteen 1 and 2, and size is 10."
   ]
  },
  {
   "cell_type": "code",
   "execution_count": 11,
   "metadata": {},
   "outputs": [
    {
     "data": {
      "text/plain": [
       "array([48, 71, 47, 61])"
      ]
     },
     "execution_count": 11,
     "metadata": {},
     "output_type": "execute_result"
    }
   ],
   "source": [
    "# Generates four random integers.\n",
    "np.random.randint(low=1, high=100, size=4) # Function calls random int from 1 to 100, returns four values."
   ]
  },
  {
   "cell_type": "code",
   "execution_count": 12,
   "metadata": {},
   "outputs": [
    {
     "data": {
      "text/plain": [
       "array([[0, 0, 0, 0],\n",
       "       [0, 4, 0, 3]])"
      ]
     },
     "execution_count": 12,
     "metadata": {},
     "output_type": "execute_result"
    }
   ],
   "source": [
    "# Returns, two arrays, with four integers, numbers bewteen 0 and 5.\n",
    "np.random.randint(5, size=(2, 4))"
   ]
  },
  {
   "cell_type": "markdown",
   "metadata": {},
   "source": [
    "Random values are drawn from a <a href=\"https://docs.scipy.org/doc/numpy-1.15.0/reference/generated/numpy.random.uniform.html#numpy.random.uniform\" target=\"_blank\">uniform distribution.</a>\n",
    "\n",
    "- Samples are uniformly distributed over the half-open interval [low, high) (includes low, but excludes high). In other words, any value within the given interval is equally likely to be drawn by uniform. (Machinemastery, 2019)\n",
    "\n",
    "The example below generates 10 random integer values between 0 and 10."
   ]
  },
  {
   "cell_type": "code",
   "execution_count": 13,
   "metadata": {
    "scrolled": true
   },
   "outputs": [
    {
     "name": "stdout",
     "output_type": "stream",
     "text": [
      "2\n",
      "9\n",
      "1\n",
      "4\n",
      "1\n",
      "7\n",
      "7\n",
      "7\n",
      "10\n",
      "6\n"
     ]
    }
   ],
   "source": [
    "# generate random integer values\n",
    "# Code adapted from Machinemastery.com\n",
    "from random import seed\n",
    "from random import randint\n",
    "# seed random number generator\n",
    "seed(1)\n",
    "# generate some integers\n",
    "for _ in range(10):\n",
    "    value = randint(0, 10)\n",
    "    print(value)"
   ]
  },
  {
   "cell_type": "code",
   "execution_count": 14,
   "metadata": {},
   "outputs": [
    {
     "name": "stdout",
     "output_type": "stream",
     "text": [
      "1D Array:\n",
      " [4 6 6 6 5 5 3] \n",
      "\n",
      "2D Array:\n",
      " [[5 5 4 5]\n",
      " [4 7 3 7]\n",
      " [5 6 6 6]\n",
      " [7 5 6 7]\n",
      " [6 3 6 7]\n",
      " [5 3 3 4]] \n",
      "\n"
     ]
    }
   ],
   "source": [
    "# Returned arrays will output random integers, from low to high, and size.\n",
    "# 1D Array, lowest number will be 3 , highest number up to but not including 8,\n",
    "# 7 values will be displayed in the array\n",
    "randint_array1D = np.random.randint(low = 3, high = 8, size = 7) \n",
    "print (\"1D Array:\\n\",randint_array1D, \"\\n\")  \n",
    "\n",
    "# 2D Array, outputs an array that has an array within it. \n",
    "randint_array2D = np.random.randint(low = 3, high = 8, size = (6, 4)) # 6 rows, with 4 values in each.\n",
    "print (\"2D Array:\\n\",randint_array2D, \"\\n\") "
   ]
  },
  {
   "cell_type": "markdown",
   "metadata": {},
   "source": [
    "#### Numpy.random.choice\n",
    "-  Generates a random sample from a given 1-D array\n"
   ]
  },
  {
   "cell_type": "code",
   "execution_count": 15,
   "metadata": {},
   "outputs": [
    {
     "data": {
      "text/plain": [
       "array([1, 4, 0])"
      ]
     },
     "execution_count": 15,
     "metadata": {},
     "output_type": "execute_result"
    }
   ],
   "source": [
    "# Generate a uniform random sample from np.arange(5) of size 3:\n",
    "np.random.choice(5, 3)"
   ]
  },
  {
   "cell_type": "markdown",
   "metadata": {},
   "source": [
    "#### Numpy.random.ranf\n",
    "-Return random floats in the half-open interval [0.0, 1.0)."
   ]
  },
  {
   "cell_type": "code",
   "execution_count": 16,
   "metadata": {
    "scrolled": true
   },
   "outputs": [
    {
     "data": {
      "text/plain": [
       "0.9148871973373945"
      ]
     },
     "execution_count": 16,
     "metadata": {},
     "output_type": "execute_result"
    }
   ],
   "source": [
    "# numpy.random.ranf\n",
    "np.random.random_sample()"
   ]
  },
  {
   "cell_type": "markdown",
   "metadata": {},
   "source": [
    "- Displays what type of an integer it is."
   ]
  },
  {
   "cell_type": "code",
   "execution_count": 17,
   "metadata": {},
   "outputs": [
    {
     "data": {
      "text/plain": [
       "float"
      ]
     },
     "execution_count": 17,
     "metadata": {},
     "output_type": "execute_result"
    }
   ],
   "source": [
    "# Type of number\n",
    "type(np.random.random_sample())"
   ]
  },
  {
   "cell_type": "markdown",
   "metadata": {},
   "source": [
    "- Displays five random numbers."
   ]
  },
  {
   "cell_type": "code",
   "execution_count": 18,
   "metadata": {},
   "outputs": [
    {
     "data": {
      "text/plain": [
       "array([0.71175458, 0.07070133, 0.31243197, 0.01791306, 0.40867836])"
      ]
     },
     "execution_count": 18,
     "metadata": {},
     "output_type": "execute_result"
    }
   ],
   "source": [
    "# Number of random numbers.\n",
    "np.random.random_sample((5,))"
   ]
  },
  {
   "cell_type": "markdown",
   "metadata": {},
   "source": [
    "- Three-by-two array of random numbers from [-5, 0)"
   ]
  },
  {
   "cell_type": "code",
   "execution_count": 19,
   "metadata": {
    "scrolled": true
   },
   "outputs": [
    {
     "data": {
      "text/plain": [
       "array([[-4.85968699, -4.51433125],\n",
       "       [-1.42012604, -4.47228474],\n",
       "       [-1.49770346, -2.29304578]])"
      ]
     },
     "execution_count": 19,
     "metadata": {},
     "output_type": "execute_result"
    }
   ],
   "source": [
    "# Three rows, two columns, numbers between -5 and 0.\n",
    "5 * np.random.random_sample((3, 2)) - 5"
   ]
  },
  {
   "cell_type": "markdown",
   "metadata": {},
   "source": [
    "#### Numpy.random.bytes"
   ]
  },
  {
   "cell_type": "code",
   "execution_count": 20,
   "metadata": {},
   "outputs": [
    {
     "data": {
      "text/plain": [
       "b':\\xbfK\\xbe\\x7f\\xceG\\xbf\\xb0\\x1e\\xf4\\xfbu\\xb3~)g\\x8a'"
      ]
     },
     "execution_count": 20,
     "metadata": {},
     "output_type": "execute_result"
    }
   ],
   "source": [
    "# Returns random bytes.\n",
    "np.random.bytes(18)"
   ]
  },
  {
   "cell_type": "code",
   "execution_count": 21,
   "metadata": {},
   "outputs": [
    {
     "name": "stdout",
     "output_type": "stream",
     "text": [
      "3D random values array : \n",
      " [[[0.91365949 0.71034021 0.69678593]\n",
      "  [0.53638947 0.83650563 0.04593679]\n",
      "  [0.05598052 0.92960999 0.01787314]]\n",
      "\n",
      " [[0.47188027 0.58111584 0.71306747]\n",
      "  [0.01502389 0.58371938 0.2113209 ]\n",
      "  [0.07431394 0.432059   0.78514078]]\n",
      "\n",
      " [[0.78316351 0.7954583  0.58276071]\n",
      "  [0.33400835 0.235369   0.87067449]\n",
      "  [0.9754654  0.44141982 0.89725188]]]\n"
     ]
    }
   ],
   "source": [
    "# Generating 3 dimentional array. \n",
    "array = np.random.rand(3,3,3) # Function for three arrays.\n",
    "print(\"3D random values array : \\n\", array);"
   ]
  },
  {
   "cell_type": "markdown",
   "metadata": {},
   "source": [
    "## Permutations \n",
    "- Next we will look at permutations shuffle and permutation , which is randomly permute a sequence, or return a permuted range.\n",
    "\n",
    "- Generally Numpy random.shuffle and random.permutation both shuffle elements in an array.\n",
    "\n"
   ]
  },
  {
   "cell_type": "markdown",
   "metadata": {},
   "source": [
    "#### Numpy.random.shuffle(x)\n",
    "- Random.shuffle function used to shuffle the sequence in place, it changes the position of items in a list.\n",
    "- Modify a sequence in-place by shuffling its contents."
   ]
  },
  {
   "cell_type": "code",
   "execution_count": 22,
   "metadata": {},
   "outputs": [
    {
     "data": {
      "text/plain": [
       "array([8, 4, 0, 6, 1, 7, 5, 2, 9, 3])"
      ]
     },
     "execution_count": 22,
     "metadata": {},
     "output_type": "execute_result"
    }
   ],
   "source": [
    "# Randomly shuffles the list.\n",
    "arr = np.arange(10)\n",
    "np.random.shuffle(arr)\n",
    "arr"
   ]
  },
  {
   "cell_type": "markdown",
   "metadata": {},
   "source": [
    "- If you want to shuffle as per your need, then you can pass your custom random function in the place of random argument, which will dictate shuffle function, and how it randomizes the items of a list. (Py.Native, 2019)\n",
    "- Can do the same with strings.\n"
   ]
  },
  {
   "cell_type": "code",
   "execution_count": 23,
   "metadata": {
    "scrolled": true
   },
   "outputs": [
    {
     "name": "stdout",
     "output_type": "stream",
     "text": [
      "List :  [5, 32, 21, 22, 56, 36, 34, 56, 6, 23]\n",
      "After first shuffle  :  [21, 34, 32, 56, 6, 5, 56, 22, 23, 36]\n",
      "After second shuffle :  [56, 56, 21, 36, 6, 34, 5, 22, 23, 32]\n"
     ]
    }
   ],
   "source": [
    "number_list = [5, 32, 21, 22, 56, 36, 34, 56, 6, 23]\n",
    "print (\"List : \",  number_list)\n",
    "\n",
    "np.random.shuffle(number_list)\n",
    "print (\"After first shuffle  : \",  number_list)\n",
    "\n",
    "np.random.shuffle(number_list)\n",
    "print (\"After second shuffle : \",  number_list)"
   ]
  },
  {
   "cell_type": "markdown",
   "metadata": {},
   "source": [
    "- Shuffle a list of strings."
   ]
  },
  {
   "cell_type": "code",
   "execution_count": 24,
   "metadata": {},
   "outputs": [
    {
     "name": "stdout",
     "output_type": "stream",
     "text": [
      "Original String list:  ['Let it rain', 'Chelsea Football Club', 'John is there', \"Don't do it\", 'He left to go shopping', 'The bus stop', 'Leave the ball']\n",
      "String List after the first shuffle:  ['Chelsea Football Club', 'Leave the ball', 'He left to go shopping', 'John is there', \"Don't do it\", 'Let it rain', 'The bus stop']\n",
      "String List after the second shuffle:  [\"Don't do it\", 'Let it rain', 'Leave the ball', 'The bus stop', 'John is there', 'He left to go shopping', 'Chelsea Football Club']\n"
     ]
    }
   ],
   "source": [
    "string_list = [\"Let it rain\", \"Chelsea Football Club\", \"John is there\", \"Don't do it\", \"He left to go shopping\", \"The bus stop\", \"Leave the ball\"]\n",
    "print (\"Original String list: \",  string_list) # Create a list which we will use a function to shuffle below.\n",
    "\n",
    "\n",
    "np.random.shuffle(string_list) # Random function shuflles list, generates list in different order to original.\n",
    "print (\"String List after the first shuffle: \",  string_list)\n",
    "\n",
    "\n",
    "\n",
    "np.random.shuffle(string_list) # Same as above, random shuffles again, using the same function as above.\n",
    "print (\"String List after the second shuffle: \",  string_list)\n"
   ]
  },
  {
   "cell_type": "markdown",
   "metadata": {},
   "source": [
    "- Below we can shuffle just a string."
   ]
  },
  {
   "cell_type": "code",
   "execution_count": 25,
   "metadata": {},
   "outputs": [
    {
     "name": "stdout",
     "output_type": "stream",
     "text": [
      "Original String:  chocolate\n",
      "shuffled String is:  ocahtocle\n"
     ]
    }
   ],
   "source": [
    "# Randomly shuffles a string\n",
    "string_one = \"chocolate\" # Setting variable \n",
    "print (\"Original String: \", string_one)# Prints output of original string.\n",
    "\n",
    "char_list = list(string_one) # Function for string we want to shuffle.\n",
    "\n",
    "\n",
    "np.random.shuffle(char_list) # Function for shuffling the string.\n",
    "\n",
    "string_one = ''.join(char_list)\n",
    "print (\"shuffled String is: \", string_one) # Prints shuffled string from original string."
   ]
  },
  {
   "cell_type": "markdown",
   "metadata": {},
   "source": [
    "#### Numpy.random.permutation(x) \n",
    "\n",
    "\n",
    "Randomly permute a sequence, or return a permuted range. If x is a multi-dimensional array, it is only shuffled along its first index. (Sci.py.org)\n",
    "\n",
    "- Generally, in Numpy, both random.permutation and random.shuffle randomly shuffle elements in an array. But there are differences:\n",
    "\n",
    "- If you want to generate random permutations of x, then what is the difference between shuffle(x) and permutation(x)?\n",
    "- np.random.permutation has two differences from np.random.shuffle:\n",
    "\n",
    "   - If passed an array, it will return a shuffled copy of the array; np.random.shuffle shuffles the array in place.\n",
    "   - If passed an integer, it will return a shuffled range i.e. np.random.shuffle(np.arange(n))\n",
    "- If x is an integer, randomly permute np.arange(x). If x is an array, make a copy and shuffle the elements randomly.\n",
    "- np.random.permutation is useful when you need to shuffle ordered pairs, especially for classification:\n",
    "\n",
    "(https://stackoverflow.com/questions/15474159/shuffle-vs-permute-numpy)"
   ]
  },
  {
   "cell_type": "code",
   "execution_count": 26,
   "metadata": {},
   "outputs": [
    {
     "data": {
      "text/plain": [
       "array([8, 9, 5, 7, 1, 6, 3, 2, 4, 0])"
      ]
     },
     "execution_count": 26,
     "metadata": {},
     "output_type": "execute_result"
    }
   ],
   "source": [
    "# Displays all the numbers from 0 to the number you enter.\n",
    "np.random.permutation(10)# Function which randomly returns a permuted range of numbers between 0 and 10."
   ]
  },
  {
   "cell_type": "code",
   "execution_count": 27,
   "metadata": {
    "scrolled": true
   },
   "outputs": [
    {
     "data": {
      "text/plain": [
       "array([ 9, 12, 15,  4,  1])"
      ]
     },
     "execution_count": 27,
     "metadata": {},
     "output_type": "execute_result"
    }
   ],
   "source": [
    "# Outputs the numbers you entered, randomly.\n",
    "np.random.permutation([1, 4, 9, 12, 15]) # Random permutation function, for returning numbers you enetered in any order."
   ]
  },
  {
   "cell_type": "code",
   "execution_count": 28,
   "metadata": {
    "scrolled": true
   },
   "outputs": [
    {
     "data": {
      "text/plain": [
       "array([[0, 1, 2],\n",
       "       [3, 4, 5],\n",
       "       [6, 7, 8]])"
      ]
     },
     "execution_count": 28,
     "metadata": {},
     "output_type": "execute_result"
    }
   ],
   "source": [
    "# Displays nums between 0 and 9 in three rows.\n",
    "arr = np.arange(9).reshape((3, 3))\n",
    "np.random.permutation(arr)"
   ]
  },
  {
   "cell_type": "markdown",
   "metadata": {},
   "source": [
    "## Distribution Functions"
   ]
  },
  {
   "cell_type": "markdown",
   "metadata": {},
   "source": [
    "#### 1. The Poisson Distribution\n",
    "\n",
    "The <a href=\"https://www.statisticshowto.datasciencecentral.com/poisson-distribution/\" target=\"_blank\">Poisson</a> distribution function is a statistical distribution that shows how many times an event is likely to occur within a specified period of time.\n",
    "\n",
    "The French mathematician Siméon-Denis Poisson developed his function in 1830 to describe many models, for example, the number of times a gambler would win a rarely won game of chance in a large number of tries. (Britannica, 2019.)\n",
    "\n",
    "![title](PoissonImage.jpg) Source(Britannica)\n",
    "\n",
    "Helps us to predict the probability of certain events from happening when you know how often the event has occurred. It gives us the probability of a given number of events happening in a fixed interval of time. (Statistics How To, 2013)\n",
    "\n",
    "For example, the number of football fans in a certain day of the weekend. If the average number of fans for three days is 35,500, you can predict the probability of a certain day having more fans attend. You can see why businesses would use this distribution to try and predict/forecast over an x amount of time, to help with demand etc.\n",
    "\n",
    "We can see here that the formula is, and how it is <a href=\"https://www.youtube.com/watch?v=Fk02TW6reiA\" target=\"_blank\">calculated.</a>\n",
    "\n",
    "\n",
    "\n",
    "\n",
    "\n",
    "![title](Poissonformula.png)\n",
    "\n",
    "\n",
    "\n",
    "\n",
    "\n",
    "The Poisson parameter Lambda (λ) is the total number of events (k) divided by the number of units (n) in the data (λ = k/n). The unit forms the basis or denominator for calculation of the average, and need not be individual cases or research subjects. For example, the number of asthma attacks may be based on the number of child months, or the number of pregnancies based on the number of women years in using a particular contraceptive.\n",
    "\n",
    "This is different to the Binomial parameter of proportion or risk where proportion is the number of individuals classified as positive (p) divided by the total number of individuals in the data (r = p/n). Proportion or risk must always be a number between 0 and 1, while λ may be any positive number.\n",
    "\n",
    "For examples, if we have 100 people, and only 90 of them go shopping in a week then the binomial risk of shopping is 90/100 = 0.9. However, some of the people will go shopping more than once in the week, and the total number of shopping trips between the 100 people may be 160, and the Poisson Lambda is 160/100 = 1.6 per 100 person week\n",
    "\n",
    "Large Lambda (λ=k/n), say over 200, assumes an approximately normal or geometric distribution, and the count (or sqrt(count)) can be used as a Parametric measurement. If the events occur very few times per individual, so that individuals can be classified as positive or negative cases, then the Binomial distribution (we will discuss below), can be assumed, and statistics related to proportions used. In between, or when events are infrequent, the Poisson distribution is used. (Stats To Do, 2014)"
   ]
  },
  {
   "cell_type": "code",
   "execution_count": 29,
   "metadata": {},
   "outputs": [],
   "source": [
    "# Poisson fuction is give sample.\n",
    "s = np.random.poisson(4, 10000)"
   ]
  },
  {
   "cell_type": "code",
   "execution_count": 30,
   "metadata": {},
   "outputs": [
    {
     "data": {
      "image/png": "[encoded data removed]",
      "text/plain": [
       "<Figure size 432x288 with 1 Axes>"
      ]
     },
     "metadata": {
      "needs_background": "light"
     },
     "output_type": "display_data"
    }
   ],
   "source": [
    "# Displays histogram of the samples we gave the poisson distribution above.\n",
    "count, bins, ignored = plt.hist(s, 14, density=True) # Plots Histogram.\n",
    "plt.show()"
   ]
  },
  {
   "cell_type": "markdown",
   "metadata": {},
   "source": [
    "#### 2.The Uniform Distribution\n",
    "<a href=\"https://docs.scipy.org/doc/numpy-1.15.0/reference/generated/numpy.random.uniform.html#numpy.random.uniform\" target=\"_blank\">Uniform distribution</a> in statistics, a type of probability distribution in which all outcomes are equally likely; each variable has the same probability that it will be the outcome. A deck of cards has within it uniform distributions because the likelihood of drawing a heart, a club, a diamond or a spade is equally likely. A coin also has a uniform distribution because the probability of getting either heads or tails in a coin toss is the same.\n",
    "\n",
    "The uniform distribution can be visualized as a straight horizontal line, so for a coin flip returning a head or tail, both have a probability p = 0.50 and would be depicted by a line from the y-axis at 0.50."
   ]
  },
  {
   "cell_type": "code",
   "execution_count": 31,
   "metadata": {
    "scrolled": true
   },
   "outputs": [
    {
     "data": {
      "text/plain": [
       "array([2.32805432, 3.46459947, 4.56577291, 2.63656097, 2.67214155,\n",
       "       4.89593225, 3.13108228, 2.17623514, 2.11292503, 3.24479436])"
      ]
     },
     "execution_count": 31,
     "metadata": {},
     "output_type": "execute_result"
    }
   ],
   "source": [
    "# Get a 1000 numbers back.\n",
    "# Random,rand will only give you numbers between 0 and 1.\n",
    "# Random uniform will give you any numbers.\n",
    "np.random.uniform(2,5,10)"
   ]
  },
  {
   "cell_type": "code",
   "execution_count": 32,
   "metadata": {},
   "outputs": [],
   "source": [
    "# Pretty much does the same thing as the rand function which we looked at above.\n",
    "x = np.random.uniform(0,1000,10000)"
   ]
  },
  {
   "cell_type": "code",
   "execution_count": 33,
   "metadata": {
    "scrolled": true
   },
   "outputs": [
    {
     "data": {
      "text/plain": [
       "(array([1009., 1008., 1019.,  994.,  953.,  973., 1018.,  987., 1054.,\n",
       "         985.]),\n",
       " array([2.70589120e-02, 9.99943107e+01, 1.99961562e+02, 2.99928814e+02,\n",
       "        3.99896066e+02, 4.99863318e+02, 5.99830570e+02, 6.99797821e+02,\n",
       "        7.99765073e+02, 8.99732325e+02, 9.99699577e+02]),\n",
       " <a list of 10 Patch objects>)"
      ]
     },
     "execution_count": 33,
     "metadata": {},
     "output_type": "execute_result"
    },
    {
     "data": {
      "image/png": "[encoded data removed]",
      "text/plain": [
       "<Figure size 432x288 with 1 Axes>"
      ]
     },
     "metadata": {
      "needs_background": "light"
     },
     "output_type": "display_data"
    }
   ],
   "source": [
    "# Shows the numbers on a bar chart.\n",
    "plt.hist(x)"
   ]
  },
  {
   "cell_type": "markdown",
   "metadata": {},
   "source": [
    "### 3. Numpy.Random.Normal.¶\n",
    "\n",
    "Draw random samples from a normal (Gaussian) distribution.\n",
    "\n",
    "\n",
    "The probability density function of the normal distribution, first derived by De Moivre and 200 years later by both Gauss and Laplace independently [R255], is often called the bell curve because of its characteristic shape (see the example below).\n",
    "\n",
    "\n",
    "The normal distributions occurs often in nature. For example, it describes the commonly occurring distribution of samples influenced by a large number of tiny, random disturbances, each with its own unique distribution\n",
    "\n",
    "\n",
    "Below the numbers with e-01 at the end of it, means multipy whatever came before the e by 10 to the minus 1 or divide by 10, e-02 means divide by 100 and so on.\n",
    "\n",
    "\n",
    "Can take more functions and see how they work if you like."
   ]
  },
  {
   "cell_type": "code",
   "execution_count": 34,
   "metadata": {},
   "outputs": [
    {
     "data": {
      "text/plain": [
       "array([-7.62121406e-02, -5.87342976e-02, -1.08137375e-01,  3.83161015e-02,\n",
       "       -9.01818345e-02,  6.01195348e-02,  1.62580825e-02,  3.45219858e-02,\n",
       "       -1.19166919e-01,  7.55056268e-02, -6.80880986e-02,  2.93169057e-02,\n",
       "        3.33674039e-02, -3.60062095e-02,  6.40175236e-02,  1.73670870e-02,\n",
       "       -1.20315720e-01, -7.15739187e-02, -3.91670508e-02,  5.02104067e-02,\n",
       "        2.35104779e-01,  4.28035082e-02,  2.07787605e-01,  7.43437736e-02,\n",
       "        8.92107229e-03,  4.78787770e-03,  2.43847559e-01, -4.43653056e-02,\n",
       "       -1.90544514e-02, -1.52380454e-01, -1.03682211e-01, -1.08353858e-01,\n",
       "        3.55831574e-02, -7.13746432e-03,  6.80197659e-02,  8.08104813e-03,\n",
       "       -4.29555974e-02, -1.12544697e-01,  1.82217893e-01, -4.31893784e-03,\n",
       "        4.50222341e-02,  2.12268487e-01, -2.07438427e-01,  2.33907755e-01,\n",
       "       -2.58258058e-02, -1.35950229e-01,  2.23213898e-02, -4.25345734e-02,\n",
       "        2.14361751e-01, -2.02986418e-01, -3.67740269e-02, -2.12207498e-02,\n",
       "        1.73935666e-01, -6.59329208e-02, -5.86812007e-02,  4.21131807e-02,\n",
       "       -4.05609255e-02,  1.70923399e-02, -2.38573274e-02,  3.83591726e-02,\n",
       "        6.76698999e-03, -2.34123404e-01, -6.42136398e-02,  1.96784787e-01,\n",
       "        7.86586373e-03,  1.54940874e-02, -3.18106267e-02,  9.64928507e-02,\n",
       "       -4.87050032e-02,  1.87092355e-02,  5.55608827e-02, -1.73180908e-01,\n",
       "        2.07619745e-01,  1.75901117e-01, -4.77116531e-03, -1.40437051e-01,\n",
       "       -1.18082953e-01,  2.40015056e-01, -7.18768172e-02,  1.01772958e-01,\n",
       "        4.49667001e-02,  1.77806413e-02, -2.09115731e-02,  1.51737459e-01,\n",
       "       -1.05132731e-02,  1.14207904e-02,  3.55505081e-02,  8.47001403e-02,\n",
       "        7.84198376e-02, -5.15492707e-02,  8.93651027e-02, -1.49676729e-02,\n",
       "        3.92725960e-02, -1.02846841e-01,  9.60062913e-02,  3.42252016e-03,\n",
       "        1.94589804e-01,  1.83438681e-02,  5.65598141e-02, -3.59998242e-02,\n",
       "       -1.14709265e-01, -3.78422678e-02, -1.95462567e-01,  7.84907722e-03,\n",
       "        3.66539998e-02,  7.79146113e-02,  1.09607037e-01,  6.49014529e-03,\n",
       "        8.99127819e-02, -1.33070658e-01,  2.31340617e-02,  8.02934361e-02,\n",
       "       -6.75136753e-03, -1.90140998e-01,  1.82837038e-01,  1.12670807e-01,\n",
       "       -1.88476794e-01,  1.49657876e-01,  9.33123542e-02,  3.35093985e-02,\n",
       "       -2.09513602e-01, -9.85237686e-03,  2.30884696e-02, -8.99206299e-03,\n",
       "        9.34848527e-02,  1.06721181e-01,  2.17696647e-02, -8.10771420e-03,\n",
       "        2.12157997e-02, -4.21726378e-03, -3.03154445e-02,  5.36655493e-02,\n",
       "        3.35802491e-04, -4.12974554e-02, -2.20303518e-02,  4.35764817e-02,\n",
       "        1.09728046e-01,  6.34497278e-02, -7.69857014e-02,  6.79931976e-02,\n",
       "       -1.23000569e-01, -8.72802667e-02, -8.04936266e-02, -5.10073522e-02,\n",
       "        1.19800656e-01,  3.48260004e-03,  1.03687475e-01, -1.14449419e-01,\n",
       "       -9.15973288e-02, -6.68715504e-03,  1.09681160e-01,  1.63212405e-01,\n",
       "        4.34073253e-03,  8.65565906e-02, -1.69691988e-01,  6.53856961e-02,\n",
       "        8.11696371e-02, -8.78714637e-02, -6.32305004e-02, -1.58351287e-04,\n",
       "        1.57224348e-01, -6.64439968e-02,  8.57233108e-02,  8.78874430e-02,\n",
       "       -2.01778854e-01,  8.63766170e-02,  5.34272686e-02,  1.67355367e-02,\n",
       "        4.67254584e-02,  5.94955117e-02, -7.01448764e-02,  7.23669860e-02,\n",
       "        4.40900639e-03, -5.37175162e-02, -5.75451892e-02,  1.90645677e-02,\n",
       "        8.80997193e-03,  1.16388927e-02,  1.03400329e-01, -5.08499890e-02,\n",
       "        1.21428085e-01, -9.19648927e-03,  1.17180226e-01,  1.34943344e-01,\n",
       "       -5.13488633e-03, -1.30046445e-01, -1.18548639e-01,  1.77084039e-01,\n",
       "        1.55963774e-02, -8.12986520e-03,  1.28667485e-01, -9.02132862e-02,\n",
       "       -3.25315536e-02,  5.29048081e-02, -4.58711461e-02, -1.06811650e-02,\n",
       "        1.08213860e-01,  2.69707687e-02,  2.52654261e-02,  9.72676772e-02,\n",
       "       -3.37448535e-02,  2.84514239e-02, -2.09373755e-02,  2.05392500e-01,\n",
       "        1.66236387e-01, -1.72232991e-02, -9.35265797e-02, -1.21501429e-01,\n",
       "        1.64212894e-01, -1.98437970e-01, -2.39064411e-02, -1.30529405e-02,\n",
       "        5.26583560e-02, -6.87452484e-02,  1.30867068e-02, -5.41441906e-02,\n",
       "       -5.71872290e-02, -1.22819608e-01, -9.13363761e-03,  6.75383761e-02,\n",
       "       -2.90113303e-02, -3.08843742e-02, -5.94377483e-02, -3.74642731e-03,\n",
       "       -5.12635460e-03,  7.57409842e-02,  3.27465393e-02,  8.54793931e-02,\n",
       "        1.83523265e-02,  1.25125364e-01,  1.56130812e-01,  8.01435592e-02,\n",
       "       -8.20097148e-02, -9.73131248e-02,  1.02793531e-01, -3.22806154e-02,\n",
       "       -5.77994102e-02, -1.07889055e-01, -7.56343632e-02, -1.62586848e-01,\n",
       "        2.28310803e-01, -1.20274966e-01,  6.84230894e-02,  2.40381187e-02,\n",
       "        2.78247269e-02, -1.50621354e-02, -6.35133196e-02,  1.78085829e-01,\n",
       "       -2.12480992e-01, -5.74945658e-02,  1.80790532e-01, -1.51658239e-01,\n",
       "        3.65430645e-02, -3.36776297e-02,  1.35444997e-01, -4.68322964e-03,\n",
       "        5.65418122e-02,  6.03989318e-02,  2.39669117e-02,  5.67150427e-02,\n",
       "        3.70688755e-02, -1.54368460e-01, -3.73026780e-02,  5.18210538e-03,\n",
       "       -2.13187222e-02,  1.39668367e-01, -1.48813365e-01,  3.49033691e-02,\n",
       "       -7.66766325e-02,  1.17398325e-01, -1.69512485e-01,  1.55492080e-01,\n",
       "       -2.71257787e-02, -3.35208219e-02,  1.36700526e-02,  6.71013133e-02,\n",
       "        6.69852803e-03,  1.36454989e-01, -2.84714925e-02,  1.00849561e-02,\n",
       "       -5.16232180e-02, -8.67707201e-02, -8.39906761e-02,  1.23842782e-02,\n",
       "        5.60776617e-02, -1.15654743e-01, -5.94614055e-02, -1.10812192e-01,\n",
       "        1.12047429e-02, -1.95456090e-01,  1.30597451e-01,  1.68276161e-01,\n",
       "       -1.22970274e-01,  9.58358233e-02, -6.69506527e-02, -1.81650056e-01,\n",
       "       -1.07668225e-01, -2.59224335e-02,  4.24333646e-02, -1.01642022e-02,\n",
       "        7.25865577e-02, -1.72918771e-02, -5.67304779e-03,  6.09006470e-02,\n",
       "       -9.35840085e-02, -2.03163708e-01, -2.27614300e-02,  1.98072744e-01,\n",
       "       -1.49648242e-01,  6.46416041e-03,  1.01556058e-02,  9.31190007e-02,\n",
       "       -5.92002447e-02, -4.72745931e-03,  1.50285437e-01,  7.96218701e-02,\n",
       "       -1.36753341e-01,  7.23840296e-02,  1.07777630e-03, -1.90806580e-02,\n",
       "        8.69970939e-02, -5.18804664e-03,  2.60506078e-01, -5.91485280e-02,\n",
       "        8.15792977e-02, -3.86427201e-02,  1.14843097e-01,  2.04153044e-01,\n",
       "        6.78911292e-02, -3.98270009e-03, -8.66663520e-02, -3.74484244e-02,\n",
       "        2.60456571e-02,  7.76381480e-02, -1.66389154e-01, -2.55425211e-02,\n",
       "       -2.29473470e-02,  2.24197657e-02,  4.75371160e-03,  1.11072420e-02,\n",
       "       -5.57406162e-03,  2.29112039e-02,  7.57290387e-03,  1.28041641e-01,\n",
       "       -9.87620420e-02,  9.93546627e-02,  4.83877405e-02,  6.96622083e-02,\n",
       "        1.66650947e-02,  1.00236610e-01, -3.97807557e-02, -4.07703019e-02,\n",
       "       -2.03923842e-01,  1.23778450e-01,  3.83969681e-02,  3.23066524e-03,\n",
       "        1.53230114e-01, -1.06266324e-01, -9.35585893e-02, -1.11032591e-01,\n",
       "       -1.41972964e-02, -8.65757034e-02, -3.16594228e-02,  1.19115742e-01,\n",
       "        2.38076375e-02, -1.60181029e-01,  7.17785102e-02,  1.00138464e-02,\n",
       "       -1.49496593e-01, -1.17278211e-02,  1.43993852e-02,  3.19083502e-02,\n",
       "        2.82746213e-02, -1.13716364e-01,  1.72983486e-01, -3.94385347e-02,\n",
       "       -2.61903814e-02,  1.23215509e-01,  3.85170347e-02, -1.51793709e-01,\n",
       "       -1.31903830e-01,  1.13397875e-02, -6.17075885e-02,  1.17508969e-01,\n",
       "       -3.49651090e-02,  1.63936282e-02, -5.32542630e-02,  7.79034328e-02,\n",
       "        4.23376103e-02,  2.10492902e-01, -1.74347467e-01, -3.45914377e-02,\n",
       "       -9.57676117e-03,  5.95869578e-02,  5.15117594e-03, -1.41314933e-01,\n",
       "       -3.12806553e-02,  1.88995868e-02,  4.33825644e-02, -1.12344218e-01,\n",
       "        3.58746637e-02, -2.66523101e-02,  9.68797510e-02,  6.24286949e-02,\n",
       "       -2.87732351e-01,  4.23838622e-02,  6.31297594e-02, -4.52400626e-02,\n",
       "       -9.66385536e-02,  3.92424585e-02, -8.50917350e-02, -1.92380114e-02,\n",
       "        8.77370741e-02,  1.09596093e-01,  1.05229322e-01,  1.08058964e-01,\n",
       "       -4.02773892e-02, -1.32207992e-01, -8.52568844e-02, -1.53187181e-01,\n",
       "        6.16738616e-02, -7.53446494e-02, -2.61451411e-02,  1.49679338e-01,\n",
       "       -2.44599338e-02, -1.71014094e-03, -8.21663438e-02, -2.05424482e-02,\n",
       "       -5.73953211e-02, -5.88497694e-02,  1.07640110e-01,  4.18240080e-02,\n",
       "        9.45289417e-02, -7.79157247e-02,  4.31850693e-02, -2.10092982e-02,\n",
       "        1.24467425e-01,  2.57678181e-02, -1.57140930e-01,  8.53595540e-02,\n",
       "        1.14384392e-03, -4.17741992e-03,  1.42678376e-01,  1.50453159e-01,\n",
       "        2.17158288e-01,  1.14818900e-02,  8.23268926e-02, -1.52817550e-01,\n",
       "       -4.65012424e-02,  8.27615305e-02,  6.79975322e-02, -2.26397358e-01,\n",
       "        4.04713462e-02, -1.80020914e-02, -2.02749959e-02,  4.25025978e-02,\n",
       "        6.12806797e-02,  8.11931856e-02,  5.29718152e-02, -2.75933975e-02,\n",
       "       -3.17875676e-02, -1.00808536e-03, -2.89002167e-02,  6.36747336e-02,\n",
       "        2.80098172e-02, -3.09972273e-02,  1.93325958e-02,  1.69168591e-01,\n",
       "       -2.26692192e-04,  8.02250838e-02, -5.92936363e-02, -1.27160170e-02,\n",
       "        1.13531964e-02,  1.51489652e-02,  1.60415828e-02, -3.65111221e-02,\n",
       "       -1.56388696e-02,  9.04306442e-02, -1.67339780e-01,  1.28260762e-01,\n",
       "       -2.72175973e-02,  6.46920637e-02, -1.62513046e-01, -1.10003532e-01,\n",
       "        9.66098021e-03,  8.18772809e-02,  8.38686312e-02,  2.72129019e-02,\n",
       "       -1.14951267e-01, -1.30737905e-01, -1.09772343e-02,  6.04120012e-02,\n",
       "       -1.36037859e-02,  9.23974053e-02,  4.34349092e-02,  6.06467399e-02,\n",
       "       -5.96349440e-02, -2.43357201e-01, -9.59916167e-02, -8.19718313e-02,\n",
       "        6.00293196e-02,  1.20812521e-01,  8.47802748e-03,  1.71201975e-01,\n",
       "       -3.15546201e-02,  4.04809361e-02,  2.09591486e-01, -2.65504692e-02,\n",
       "       -8.73742582e-02,  1.15297554e-01, -1.01944641e-02, -4.45860222e-02,\n",
       "        1.62450545e-01, -1.37695092e-01,  3.44177327e-02,  1.31784193e-01,\n",
       "        3.76792269e-02,  5.07176757e-02,  9.06057409e-02, -4.08677507e-02,\n",
       "        1.00696923e-02, -4.70113183e-03, -1.63155915e-01, -4.34281606e-02,\n",
       "       -2.54055026e-02, -5.88080865e-03,  5.73964530e-02, -3.36809544e-02,\n",
       "        1.15565320e-01,  1.09982663e-01,  4.43135194e-02,  3.30627179e-02,\n",
       "       -9.53786734e-02,  1.58380501e-01,  2.44471602e-02,  8.62223577e-02,\n",
       "       -2.71089037e-02, -8.57159562e-02,  1.54772965e-02,  2.23572698e-01,\n",
       "        2.54142961e-02, -7.92457211e-02, -9.75267856e-02,  6.15977068e-02,\n",
       "        1.06692565e-01,  2.03528653e-02, -7.21588364e-02,  1.16483790e-01,\n",
       "        9.34229493e-02,  4.36800471e-02, -6.73498357e-02,  1.20404073e-01,\n",
       "        8.10398270e-03, -2.22678152e-02,  7.26018940e-02, -1.01164233e-01,\n",
       "       -1.24576269e-01, -1.30669187e-01, -7.58487134e-02, -4.39418004e-02,\n",
       "        7.08869907e-03,  3.93680139e-05,  7.91162413e-02,  9.83469507e-02,\n",
       "       -2.03197945e-02, -9.06420186e-02, -1.49586444e-01, -4.66012173e-02,\n",
       "       -1.40310226e-01, -1.79450554e-01,  2.57943257e-01,  3.32064683e-01,\n",
       "       -3.19773154e-02,  4.17928768e-02, -1.00601541e-01, -2.04196951e-01,\n",
       "        1.56243842e-01,  9.66056533e-02,  6.99717984e-02, -9.33064102e-03,\n",
       "       -1.25730603e-01, -6.84500123e-02,  7.04223371e-02, -7.47634955e-02,\n",
       "       -1.43546519e-01,  2.71969593e-03, -1.29208622e-01,  1.29987049e-01,\n",
       "        6.69639753e-02, -1.66173016e-02, -1.56036030e-01,  2.89523029e-02,\n",
       "        3.31077593e-02, -1.09739456e-03, -1.30607739e-02,  1.75639838e-01,\n",
       "        2.15026749e-01, -1.06737801e-01, -2.15159103e-02,  3.85101428e-02,\n",
       "       -5.98777856e-03,  3.11120434e-02, -9.59536108e-02,  1.71860758e-01,\n",
       "       -1.70209475e-01,  1.19250849e-02, -6.68197248e-02,  5.63182882e-02,\n",
       "        1.52113913e-01,  3.25932878e-02,  1.26716754e-01, -1.19490206e-01,\n",
       "       -4.30516877e-02,  8.39291825e-02, -3.62386437e-02,  5.21062002e-04,\n",
       "        2.43167337e-02,  2.35777337e-02,  9.27734776e-02, -1.64626518e-01,\n",
       "        1.95747875e-01, -1.80171439e-01, -1.22738824e-02, -1.01965923e-02,\n",
       "        1.48787594e-02, -1.34332342e-01,  1.93943811e-02, -1.96299656e-01,\n",
       "       -9.00436226e-02, -4.52493802e-02,  1.29946228e-01, -1.26337803e-01,\n",
       "        8.13973701e-02, -3.27046505e-02, -1.15611366e-01, -3.87755074e-02,\n",
       "       -9.97676157e-02, -7.50396139e-03,  4.50753119e-02, -2.33053775e-03,\n",
       "       -3.94644538e-02,  2.67712008e-02, -2.01436571e-01,  8.16837094e-02,\n",
       "       -3.72870861e-02, -1.36921708e-02, -4.67091822e-02,  5.03219096e-02,\n",
       "        4.02418453e-02,  4.48508354e-03,  5.70262006e-02, -4.92270921e-02,\n",
       "        4.95563432e-02,  4.49421962e-03, -1.22948077e-01, -6.97007030e-02,\n",
       "       -1.85928668e-01,  1.40760995e-01, -2.67559407e-01,  1.13795262e-01,\n",
       "       -2.47194547e-02,  5.17209959e-02, -3.76889111e-02,  6.68261706e-02,\n",
       "       -5.72238486e-03,  2.17032467e-02, -7.57626039e-02, -2.92934108e-02,\n",
       "        1.95310258e-03, -2.15258222e-02,  5.46915524e-02, -1.71542859e-02,\n",
       "       -2.97525309e-02, -5.10323722e-03, -2.24140238e-02,  7.60249370e-02,\n",
       "       -1.94131745e-01, -5.23801755e-02, -6.99174333e-02, -2.76050469e-02,\n",
       "        1.27497672e-01, -1.12919233e-01,  1.52790202e-01, -1.02216215e-01,\n",
       "        2.11471657e-03,  2.30324087e-01, -9.88791484e-04,  7.98285868e-02,\n",
       "       -1.50281747e-01, -7.71406456e-02, -6.38248203e-02,  4.69691362e-02,\n",
       "       -1.51539614e-02, -8.56620635e-02, -6.16465270e-02, -4.09234633e-05,\n",
       "       -5.46670463e-02, -1.20332328e-01, -3.65084327e-02,  6.93306433e-02,\n",
       "       -1.44447516e-01,  7.99489065e-02, -9.21262077e-03,  6.91372995e-02,\n",
       "        5.35648713e-02, -4.24517514e-03, -7.57523707e-02,  1.41886183e-02,\n",
       "       -1.02460656e-01, -6.74712663e-02,  8.40780620e-03,  6.33128614e-02,\n",
       "        1.00379548e-01,  7.66669876e-02,  2.01495427e-02, -4.39598090e-02,\n",
       "        6.70009206e-02,  6.36091297e-03,  1.38248465e-01, -1.05962326e-01,\n",
       "        9.08022900e-02, -5.46055698e-02, -4.25045592e-02,  1.02481418e-02,\n",
       "       -1.27425628e-01,  5.56566113e-02, -1.02111152e-01, -4.32567910e-02,\n",
       "       -7.12993697e-02, -3.07227347e-02, -7.58633740e-02,  2.49149926e-01,\n",
       "        4.23625997e-02,  1.31873249e-01, -1.31774572e-02, -1.21046254e-01,\n",
       "        9.49881653e-02,  1.23232306e-02, -4.29993409e-03,  1.18376678e-01,\n",
       "       -4.12271563e-02,  4.82662758e-02,  4.62542422e-02, -1.14172961e-01,\n",
       "       -4.01965667e-02, -2.51152055e-01,  1.60188236e-02,  1.41709249e-01,\n",
       "        5.45815021e-02,  1.17721202e-01, -4.67862586e-03,  1.57700628e-02,\n",
       "        2.32241723e-02,  4.56104418e-02, -3.09684703e-03, -5.91081514e-02,\n",
       "       -6.91648672e-02, -1.07045482e-01, -1.65259698e-01,  9.69828411e-03,\n",
       "       -6.84232961e-02,  2.41477835e-02, -1.95844904e-01, -2.03034877e-01,\n",
       "       -1.27559752e-01,  1.50345792e-01, -1.58711216e-01,  7.00416904e-02,\n",
       "       -1.67371236e-02, -4.25030353e-02,  8.62505322e-02, -8.46972545e-03,\n",
       "        7.60284936e-03, -5.86758768e-02,  2.04990147e-02, -5.22417083e-02,\n",
       "        1.76749401e-01,  1.61103039e-01, -1.85597894e-01, -6.62305741e-02,\n",
       "        3.99467160e-02, -1.45148153e-01, -1.15413440e-01,  1.33432867e-01,\n",
       "        1.93230481e-01, -1.54736977e-01, -4.21239026e-02, -8.73361707e-02,\n",
       "        1.44735041e-02,  1.94702415e-02,  2.58227246e-02,  8.48742379e-02,\n",
       "       -1.07349966e-01,  4.63289152e-02, -1.02513670e-02,  6.42874248e-02,\n",
       "        6.27953649e-02,  1.14118387e-01, -1.55359698e-01,  1.58124631e-01,\n",
       "        4.74730731e-02,  3.74244964e-02, -1.89806701e-01, -1.81505645e-01,\n",
       "        2.22987355e-02,  6.10220426e-02, -4.75687138e-02, -2.02131044e-02,\n",
       "        2.18804737e-02,  3.99961133e-03,  1.37906285e-01,  9.81970127e-02,\n",
       "        1.87338381e-02, -1.59321400e-01, -6.21686828e-02,  1.11220568e-01,\n",
       "       -1.50566450e-01, -1.39294509e-01, -2.05776683e-01, -1.26945277e-01,\n",
       "       -1.25997084e-01,  4.44382026e-02,  5.74019938e-02, -2.49711293e-03,\n",
       "        1.95261493e-02,  2.23207727e-02, -2.74691550e-01,  1.26102220e-01,\n",
       "        4.87324982e-02, -2.88223716e-02,  8.68976696e-02,  1.54456771e-01,\n",
       "        2.39383416e-03, -1.13242808e-01, -1.20743742e-03,  4.20758950e-03,\n",
       "        1.52675775e-01, -1.68944850e-01,  5.99694061e-02,  8.67621280e-03,\n",
       "       -9.66949059e-02, -3.05489205e-02,  4.13101085e-02, -4.27533745e-02,\n",
       "       -4.96299215e-04,  5.25363637e-02,  7.40264862e-02,  2.25900731e-01,\n",
       "       -4.75698977e-02, -5.42579758e-03, -5.69142653e-02,  2.88179366e-03,\n",
       "       -1.01890547e-02, -1.56194560e-01,  1.71011389e-02,  1.02070498e-01,\n",
       "        1.79526592e-02, -3.73563396e-01, -5.90721274e-02, -3.57238006e-02,\n",
       "        1.72541405e-02,  3.01505717e-02,  8.85819253e-03,  8.83962722e-02,\n",
       "       -2.23459153e-03, -4.00432568e-02,  4.45969647e-03, -1.02652840e-02,\n",
       "       -1.74039122e-01,  2.00567892e-01, -6.77453408e-02, -4.31029868e-02,\n",
       "       -1.80915009e-01,  1.04112523e-02,  9.36899471e-02, -7.40277774e-02,\n",
       "       -2.60284546e-02,  1.38350027e-01,  1.82512531e-01, -1.09734838e-01,\n",
       "       -1.13077521e-01,  1.85851526e-02,  4.82914579e-02, -2.15888741e-01,\n",
       "        9.77301156e-02,  1.11474306e-01, -2.10636924e-01, -1.04074711e-01,\n",
       "        4.79005318e-02,  1.59630134e-03,  1.16955473e-01,  5.58444205e-02,\n",
       "       -1.21986052e-02, -7.91848792e-02, -9.42354939e-02, -1.34222721e-01,\n",
       "       -8.34768272e-02, -4.07577960e-02, -9.95392091e-02, -1.79484920e-02,\n",
       "       -3.60154814e-04, -1.97390899e-02,  8.69724551e-03,  1.72671235e-01,\n",
       "        2.27997636e-02, -7.92244892e-02, -4.82552923e-02, -3.35541333e-02,\n",
       "        2.61449206e-02,  1.56340138e-02,  1.03689127e-01,  3.83183222e-02,\n",
       "       -1.66793131e-01, -1.08958707e-01, -4.42760590e-02, -2.37393619e-02,\n",
       "        1.54642481e-02, -1.94022237e-02,  8.26193374e-02, -1.88455065e-01,\n",
       "        4.08370034e-02,  2.48396356e-02,  3.41552934e-02, -1.37083494e-01,\n",
       "        3.19411675e-02,  4.80384136e-02, -1.93874703e-03, -4.54139818e-02,\n",
       "        1.38202611e-01, -3.98869433e-02,  2.40771483e-02,  4.47632666e-02,\n",
       "        6.46360263e-02, -5.47137143e-02,  4.26918567e-02, -1.21128435e-01,\n",
       "       -6.81040029e-02, -4.55098424e-02,  5.10132478e-03, -1.99028187e-01,\n",
       "       -1.86216556e-01,  2.66209478e-02, -5.00379217e-02, -1.32601885e-02,\n",
       "       -1.13363355e-01,  7.20488990e-02, -1.90171962e-01,  1.33653636e-01,\n",
       "       -2.64230901e-01,  1.36717587e-01, -1.63489597e-01,  1.03947026e-01,\n",
       "       -1.11150615e-01,  9.10817314e-02, -7.11712941e-02,  1.67067495e-01,\n",
       "       -3.29101486e-02,  7.92164777e-02, -6.46855455e-02,  6.46686887e-02,\n",
       "        2.57466645e-02,  1.48481392e-02, -9.10992629e-02, -1.67040460e-01,\n",
       "        1.07829818e-01,  6.82240666e-05,  8.78003003e-02, -2.32673297e-01,\n",
       "       -1.57724140e-01,  2.56699413e-02, -7.34089856e-02, -5.43425094e-02,\n",
       "        2.55380567e-01, -1.31567788e-01,  8.02355202e-02, -1.80406794e-01,\n",
       "        1.04298593e-01, -2.50430139e-01, -6.48905807e-02, -1.15697845e-01,\n",
       "       -8.50660897e-03, -3.85081390e-02, -8.38243712e-02,  1.74397542e-01,\n",
       "        3.13581680e-02,  5.41827650e-02,  2.45072256e-01, -2.65487576e-02,\n",
       "        1.36824663e-01, -1.94709018e-01, -3.75503238e-02,  7.62944286e-02,\n",
       "       -5.67254634e-02, -1.87613528e-03, -8.55865081e-03, -4.55226628e-02,\n",
       "        1.76572093e-01,  9.42929504e-02, -3.36544017e-02, -6.02094003e-02])"
      ]
     },
     "execution_count": 34,
     "metadata": {},
     "output_type": "execute_result"
    }
   ],
   "source": [
    "np.random.normal(0, 0.1, 1000)"
   ]
  },
  {
   "cell_type": "code",
   "execution_count": 37,
   "metadata": {},
   "outputs": [],
   "source": [
    "# The data is being centered around the first number, if you change it around you can see.\n",
    "x = np.random.normal(15, 7, 1000) # Values centre around the first value 15"
   ]
  },
  {
   "cell_type": "code",
   "execution_count": 36,
   "metadata": {
    "scrolled": true
   },
   "outputs": [
    {
     "data": {
      "text/plain": [
       "(array([  8.,  40., 110., 209., 246., 212., 110.,  52.,  10.,   3.]),\n",
       " array([-5.70675643, -1.17361179,  3.35953286,  7.8926775 , 12.42582215,\n",
       "        16.95896679, 21.49211144, 26.02525608, 30.55840073, 35.09154537,\n",
       "        39.62469002]),\n",
       " <a list of 10 Patch objects>)"
      ]
     },
     "execution_count": 36,
     "metadata": {},
     "output_type": "execute_result"
    },
    {
     "data": {
      "image/png": "[encoded data removed]",
      "text/plain": [
       "<Figure size 432x288 with 1 Axes>"
      ]
     },
     "metadata": {
      "needs_background": "light"
     },
     "output_type": "display_data"
    }
   ],
   "source": [
    "# Shows the data on the x axis\n",
    "plt.hist(x)"
   ]
  },
  {
   "cell_type": "markdown",
   "metadata": {},
   "source": [
    "### 4. Numpy.random.binomial\n",
    "\n",
    "What Is Binomial Distribution?\n",
    "- The <a href=\"https://www.investopedia.com/terms/b/binomialdistribution.asp\" target=\"_blank\">Binomial</a> distribution is a probability distribution that summarizes the likelihood that a value will take one of two independent values under a given set of parameters or assumptions. The underlying assumptions of the binomial distribution are that there is only one outcome for each trial, that each trial has the same probability of success, and that each trial is mutually exclusive, or independent of each other.\n",
    "\n",
    "\n",
    "- \"The binomial distribution is a common discrete distribution used in statistics, as opposed to a continuous distribution, such as the normal distribution. This is because the binomial distribution only counts two states, typically represented as 1 (for a success) or 0 (for a failure) given a number of trials in the data. The binomial distribution, therefore, represents the probability for x successes in n trials, given a success probability p for each trial.\" (Investopedia, 2019)\n",
    "\n",
    "- The mean of the binomial distribution is np, and the variance of the binomial distribution is np (1 − p). When p = 0.5, the distribution is symmetric around the mean. When p > 0.5, the distribution is skewed to the left. When p < 0.5, the distribution is skewed to the right. (Investopedia, 2019)\n",
    "\n",
    "The probability density for the binomial distribution is:\n",
    "\n",
    "\n",
    "![title](Binomialfunction.svg)\n",
    "\n",
    "\n",
    "where n is the number of trials, p is the probability of success, and N is the number of successes. An example of how to calculate it <a href=\"https://www.investopedia.com/articles/active-trading/092114/basics-binomial-distribution.asp\" target=\"_blank\">here</a>\n",
    "\n",
    "\"When estimating the standard error of a proportion in a population by using a random sample, the normal distribution works well unless the product p*n <=5, where p = population proportion estimate, and n = number of samples, in which case the binomial distribution is used instead. For example, a sample of 15 people shows 4 who are left handed, and 11 who are right handed. Then p = 4/15 = 27%. 0.27*15 = 4, so the binomial distribution should be used in this case.\" (Sci.Py.org, 2018) \n",
    "\n",
    "For example, assume that a casino created a new game in which participants are able to place bets on the number of heads or tails in a specified number of coin flips. Assume a participant wants to place a $10 bet that there would be exactly six heads in 20 coin flips. The participant wants to calculate the probability of this occurring, and therefore, he uses the calculation for the binomial distribution.\n",
    "- The probability was calculated as: (20! / (6! * (20 - 6))) * (0.50)^(6) * (1 - 0.50) ^ (20 - 6). Consequently, the probability of exactly six heads occurring in 20 coin flips is 0.037, or 3.7 per cent. The expected value in this instance was 10, so a bad bet was met. (Investopedia, 2019)"
   ]
  },
  {
   "cell_type": "code",
   "execution_count": 39,
   "metadata": {},
   "outputs": [],
   "source": [
    "n, p = 10, .5  # number of trials, probability of each trial.\n",
    "s = np.random.binomial(n, p, 1000)"
   ]
  },
  {
   "cell_type": "code",
   "execution_count": 41,
   "metadata": {},
   "outputs": [
    {
     "data": {
      "text/plain": [
       "0.38585"
      ]
     },
     "execution_count": 41,
     "metadata": {},
     "output_type": "execute_result"
    }
   ],
   "source": [
    "# A real world example. A company drills 9 wild-cat oil exploration wells,\n",
    "# each with an estimated probability of success of 0.1. All nine wells fail. What is the probability of that happening?\n",
    "#Let’s do 20,000 trials of the model, and count the number that generate zero positive results. (Adapted from Sci.Py.Org)\n",
    "sum(np.random.binomial(9, 0.1, 20000) == 0)/20000."
   ]
  },
  {
   "cell_type": "code",
   "execution_count": null,
   "metadata": {},
   "outputs": [],
   "source": []
  },
  {
   "cell_type": "markdown",
   "metadata": {},
   "source": [
    "## Bibliography\n",
    "\n",
    "SciPy.org, 2018, Viewed on 2019/10/18, available at: https://docs.scipy.org/doc/numpy-1.15.0/reference/routines.random.html\n",
    "\n",
    "APMonitor, Youtube, 2017, viewed on 2019/11/04, available at: https://www.youtube.com/watch?v=Z2zUGmqIDto \n",
    "\n",
    "Stackoverflow, 2017, viewed on 2019/11/04, available at: (https://stackoverflow.com/questions/15474159/shuffle-vs-permute-numpy)\n",
    "\n",
    "Py.Native, 2019, viewed on the 2019/11/05, available at: https://pynative.com/python-random-shuffle/\n",
    "\n",
    "Crazy Geeks, 2019, viewed on the 2019/11/07, available at: https://www.crazygeeks.org/numpy-random-rand-in-python/\n",
    "\n",
    "Chris Albon, 2017, viewed on 2019/11/07, available at: https://chrisalbon.com/python/basics/generating_random_numbers_with_numpy/\n",
    "\n",
    "Machinemastery, 2019, viewed on the 2019/11/07, available at: https://machinelearningmastery.com/how-to-generate-random-numbers-in-python/\n",
    "\n",
    "Statistics How To, 2013, viewed on the 2019/11/07, available at: https://www.statisticshowto.datasciencecentral.com/poisson-distribution/\n",
    "\n",
    "Britannica, 2019, viewed on the 2019/11/07, available at: https://www.britannica.com/biography/Simeon-Denis-Poisson\n",
    "\n",
    "Stats To Do, 2014, viewwed on 2019/11/07, available at: https://www.statstodo.com/Poisson_Exp.php\n",
    "\n",
    "Investopedia, 2019, viewed on the 2019/11/07, available at: https://www.investopedia.com/terms/b/binomialdistribution.asp\n"
   ]
  },
  {
   "cell_type": "code",
   "execution_count": null,
   "metadata": {},
   "outputs": [],
   "source": []
  }
 ],
 "metadata": {
  "kernelspec": {
   "display_name": "Python 3",
   "language": "python",
   "name": "python3"
  },
  "language_info": {
   "codemirror_mode": {
    "name": "ipython",
    "version": 3
   },
   "file_extension": ".py",
   "mimetype": "text/x-python",
   "name": "python",
   "nbconvert_exporter": "python",
   "pygments_lexer": "ipython3",
   "version": "3.7.1"
  }
 },
 "nbformat": 4,
 "nbformat_minor": 2
}
