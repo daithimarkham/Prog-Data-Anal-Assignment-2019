{
 "cells": [
  {
   "cell_type": "markdown",
   "metadata": {},
   "source": [
    "# Numpy.Random Package.\n",
    "![title](NumpyImage.jpg) Source(APMonitor.com)"
   ]
  },
  {
   "cell_type": "markdown",
   "metadata": {},
   "source": [
    "## Numpy.Random package.\n",
    "Creates random numbers and arrays. Whenever you want to generate an array of random numbers you need to use numpy.random, which has multiple functions. These functions generate the random n-dimensional array/arrays for various distributions, size, mean, width, colour on histograms and plots, etc, which we will be discussing later below.\n",
    "\n",
    "### How to the Numpy Ramdom module. \n",
    "- The random package has many functions to help generate numberous different types of numbers. We will see below how to use these functions. \n",
    "- You will need to import the numpy package below. (import numpy as np)\n",
    "\n"
   ]
  },
  {
   "cell_type": "markdown",
   "metadata": {},
   "source": [
    "## Simple Random Data."
   ]
  },
  {
   "cell_type": "markdown",
   "metadata": {},
   "source": [
    "There are many ways to generate random numbers. Numpy.random creates random values in a given shape, returns a sample/samples, from the standard normal distribution. It returns random integers from low to high. Below, we can look at some.\n",
    "\n",
    "#### Code below, adapted from SciPy.org."
   ]
  },
  {
   "cell_type": "code",
   "execution_count": 1,
   "metadata": {},
   "outputs": [],
   "source": [
    "# Import Numpy Package\n",
    "import numpy as np"
   ]
  },
  {
   "cell_type": "markdown",
   "metadata": {},
   "source": [
    "#### np.random.normal"
   ]
  },
  {
   "cell_type": "code",
   "execution_count": 2,
   "metadata": {},
   "outputs": [
    {
     "name": "stdout",
     "output_type": "stream",
     "text": [
      "Generating random number using random.normal()\n"
     ]
    },
    {
     "data": {
      "text/plain": [
       "-1.401265711837251"
      ]
     },
     "execution_count": 2,
     "metadata": {},
     "output_type": "execute_result"
    }
   ],
   "source": [
    "# Generates A Random Number From The Normal Distribution.\n",
    "print(\"Generating random number using random.normal()\")\n",
    "np.random.normal()"
   ]
  },
  {
   "cell_type": "markdown",
   "metadata": {},
   "source": [
    "#### np.random.rand\n",
    "- Numpy creates arrays. Random numbers in this case between 0 and 1.\n",
    "- Contains arrays, floating numbers."
   ]
  },
  {
   "cell_type": "code",
   "execution_count": 3,
   "metadata": {},
   "outputs": [
    {
     "data": {
      "text/plain": [
       "array([[0.96027188, 0.88679224],\n",
       "       [0.46924209, 0.00688903],\n",
       "       [0.65381224, 0.57833663],\n",
       "       [0.63131496, 0.50687101]])"
      ]
     },
     "execution_count": 3,
     "metadata": {},
     "output_type": "execute_result"
    }
   ],
   "source": [
    "# Contains arrays, floating numbers.\n",
    "np.random.rand(4,2)"
   ]
  },
  {
   "cell_type": "markdown",
   "metadata": {},
   "source": [
    "- Get an array with 9 elements in it."
   ]
  },
  {
   "cell_type": "code",
   "execution_count": 4,
   "metadata": {},
   "outputs": [
    {
     "data": {
      "text/plain": [
       "array([0.82683869, 0.29810356, 0.66467559, 0.68446553, 0.31948556,\n",
       "       0.78480799, 0.37481733, 0.23288426, 0.15039667])"
      ]
     },
     "execution_count": 4,
     "metadata": {},
     "output_type": "execute_result"
    }
   ],
   "source": [
    "# Displays 9 elements.\n",
    "np.random.rand(9)"
   ]
  },
  {
   "cell_type": "markdown",
   "metadata": {},
   "source": [
    "- Displays two arrays, four rows and thee columns."
   ]
  },
  {
   "cell_type": "code",
   "execution_count": 5,
   "metadata": {},
   "outputs": [
    {
     "data": {
      "text/plain": [
       "array([[[0.09901456, 0.93604041, 0.44732164],\n",
       "        [0.78375299, 0.72486067, 0.22948618],\n",
       "        [0.44177351, 0.54469803, 0.27961266],\n",
       "        [0.93722567, 0.83408494, 0.54867271]],\n",
       "\n",
       "       [[0.11068633, 0.35962673, 0.21576511],\n",
       "        [0.07457505, 0.12561582, 0.77490881],\n",
       "        [0.48337952, 0.93915599, 0.45521028],\n",
       "        [0.32701469, 0.17948302, 0.22588849]]])"
      ]
     },
     "execution_count": 5,
     "metadata": {},
     "output_type": "execute_result"
    }
   ],
   "source": [
    "# Generates random data, and ouputs in arrays, rows and columns.\n",
    "np.random.rand(2,4,3)"
   ]
  },
  {
   "cell_type": "markdown",
   "metadata": {},
   "source": [
    "To display the numbers on a histogram."
   ]
  },
  {
   "cell_type": "code",
   "execution_count": 6,
   "metadata": {},
   "outputs": [],
   "source": [
    "x = np.random.rand(1000)"
   ]
  },
  {
   "cell_type": "code",
   "execution_count": 7,
   "metadata": {},
   "outputs": [
    {
     "data": {
      "text/plain": [
       "<function matplotlib.pyplot.show(*args, **kw)>"
      ]
     },
     "execution_count": 7,
     "metadata": {},
     "output_type": "execute_result"
    },
    {
     "data": {
      "image/png": "[encoded data removed]",
      "text/plain": [
       "<Figure size 432x288 with 1 Axes>"
      ]
     },
     "metadata": {
      "needs_background": "light"
     },
     "output_type": "display_data"
    }
   ],
   "source": [
    "# Histogram shows the most typical values out of 1000 and displays in a bar chart.\n",
    "%matplotlib inline\n",
    "import matplotlib.pyplot as plt\n",
    "plt.hist(x)\n",
    "plt.show # this will display if the above command does not display. \n",
    "# If the above is not displaying type in %matplotlib inline"
   ]
  },
  {
   "cell_type": "markdown",
   "metadata": {},
   "source": [
    "#### Numpy.random.choice\n",
    "-  Generates a random sample from a given 1-D array\n"
   ]
  },
  {
   "cell_type": "code",
   "execution_count": 8,
   "metadata": {},
   "outputs": [
    {
     "data": {
      "text/plain": [
       "array([4, 4, 2])"
      ]
     },
     "execution_count": 8,
     "metadata": {},
     "output_type": "execute_result"
    }
   ],
   "source": [
    "# Generate a uniform random sample from np.arange(5) of size 3:\n",
    "np.random.choice(5, 3)"
   ]
  },
  {
   "cell_type": "markdown",
   "metadata": {},
   "source": [
    "#### Numpy.random.ranf\n",
    "-Return random floats in the half-open interval [0.0, 1.0)."
   ]
  },
  {
   "cell_type": "code",
   "execution_count": 9,
   "metadata": {
    "scrolled": true
   },
   "outputs": [
    {
     "data": {
      "text/plain": [
       "0.8106791759400728"
      ]
     },
     "execution_count": 9,
     "metadata": {},
     "output_type": "execute_result"
    }
   ],
   "source": [
    "# numpy.random.ranf\n",
    "np.random.random_sample()"
   ]
  },
  {
   "cell_type": "markdown",
   "metadata": {},
   "source": [
    "- Displays what type of an integer it is."
   ]
  },
  {
   "cell_type": "code",
   "execution_count": 10,
   "metadata": {},
   "outputs": [
    {
     "data": {
      "text/plain": [
       "float"
      ]
     },
     "execution_count": 10,
     "metadata": {},
     "output_type": "execute_result"
    }
   ],
   "source": [
    "# Type of number\n",
    "type(np.random.random_sample())"
   ]
  },
  {
   "cell_type": "markdown",
   "metadata": {},
   "source": [
    "- Displays five random numbers."
   ]
  },
  {
   "cell_type": "code",
   "execution_count": 11,
   "metadata": {},
   "outputs": [
    {
     "data": {
      "text/plain": [
       "array([0.3611787 , 0.5099299 , 0.15166057, 0.77774366, 0.20138492])"
      ]
     },
     "execution_count": 11,
     "metadata": {},
     "output_type": "execute_result"
    }
   ],
   "source": [
    "# Number of random numbers.\n",
    "np.random.random_sample((5,))"
   ]
  },
  {
   "cell_type": "markdown",
   "metadata": {},
   "source": [
    "- Three-by-two array of random numbers from [-5, 0)"
   ]
  },
  {
   "cell_type": "code",
   "execution_count": 12,
   "metadata": {
    "scrolled": true
   },
   "outputs": [
    {
     "data": {
      "text/plain": [
       "array([[-3.14861687, -0.31669498],\n",
       "       [-2.70703846, -0.50176281],\n",
       "       [-2.62251614, -1.6721003 ]])"
      ]
     },
     "execution_count": 12,
     "metadata": {},
     "output_type": "execute_result"
    }
   ],
   "source": [
    "# Three rows, two columns, numbers between -5 and 0.\n",
    "5 * np.random.random_sample((3, 2)) - 5"
   ]
  },
  {
   "cell_type": "markdown",
   "metadata": {},
   "source": [
    "#### Numpy.random.bytes"
   ]
  },
  {
   "cell_type": "code",
   "execution_count": 13,
   "metadata": {},
   "outputs": [
    {
     "data": {
      "text/plain": [
       "b'\\xb3a\\xc9ogA\\x89Mu\\x9b\\xcb\\x0b\\x1c2#\\xfac\\xf8'"
      ]
     },
     "execution_count": 13,
     "metadata": {},
     "output_type": "execute_result"
    }
   ],
   "source": [
    "# Returns random bytes.\n",
    "np.random.bytes(18)"
   ]
  },
  {
   "cell_type": "markdown",
   "metadata": {},
   "source": [
    "## Permutations \n",
    "- Next we will look at permutations shuffle and permutation , which is randomly permute a sequence, or return a permuted range.\n",
    "\n",
    "- Generally Numpy random.shuffle and random.permutation both shuffle elements in an array.\n",
    "\n"
   ]
  },
  {
   "cell_type": "markdown",
   "metadata": {},
   "source": [
    "#### Numpy.random.shuffle(x)\n",
    "- Random.shuffle function used to shuffle the sequence in place, it changes the position of items in a list.\n",
    "- Modify a sequence in-place by shuffling its contents."
   ]
  },
  {
   "cell_type": "code",
   "execution_count": 14,
   "metadata": {},
   "outputs": [
    {
     "data": {
      "text/plain": [
       "array([8, 6, 9, 0, 3, 2, 4, 7, 1, 5])"
      ]
     },
     "execution_count": 14,
     "metadata": {},
     "output_type": "execute_result"
    }
   ],
   "source": [
    "# Randomly shuffles the list.\n",
    "arr = np.arange(10)\n",
    "np.random.shuffle(arr)\n",
    "arr"
   ]
  },
  {
   "cell_type": "markdown",
   "metadata": {},
   "source": [
    "- If you want to shuffle as per your need, then you can pass your custom random function in the place of random argument, which will dictate shuffle function, and how it randomizes the items of a list. (Py.Native, 2019)\n",
    "- Can do the same with strings.\n"
   ]
  },
  {
   "cell_type": "code",
   "execution_count": 19,
   "metadata": {
    "scrolled": true
   },
   "outputs": [
    {
     "name": "stdout",
     "output_type": "stream",
     "text": [
      "List :  [5, 32, 21, 22, 56, 36, 34, 56, 6, 23]\n",
      "After first shuffle  :  [5, 21, 6, 34, 22, 32, 56, 23, 56, 36]\n",
      "After second shuffle :  [32, 56, 21, 36, 6, 5, 22, 34, 56, 23]\n"
     ]
    }
   ],
   "source": [
    "number_list = [5, 32, 21, 22, 56, 36, 34, 56, 6, 23]\n",
    "print (\"List : \",  number_list)\n",
    "\n",
    "np.random.shuffle(number_list)\n",
    "print (\"After first shuffle  : \",  number_list)\n",
    "\n",
    "np.random.shuffle(number_list)\n",
    "print (\"After second shuffle : \",  number_list)"
   ]
  },
  {
   "cell_type": "markdown",
   "metadata": {},
   "source": [
    "- Shuffle a list of strings."
   ]
  },
  {
   "cell_type": "code",
   "execution_count": 26,
   "metadata": {},
   "outputs": [
    {
     "name": "stdout",
     "output_type": "stream",
     "text": [
      "Original String list:  ['Let it rain', 'Chelsea Football Club', 'John is there', \"Don't do it\", 'He left to go shopping', 'The bus stop', 'Leave the ball']\n",
      "String List after the first shuffle:  ['Leave the ball', 'The bus stop', 'He left to go shopping', 'Let it rain', 'Chelsea Football Club', \"Don't do it\", 'John is there']\n",
      "String List after the second shuffle:  ['Chelsea Football Club', 'The bus stop', 'Let it rain', 'John is there', 'He left to go shopping', 'Leave the ball', \"Don't do it\"]\n"
     ]
    }
   ],
   "source": [
    "string_list = [\"Let it rain\", \"Chelsea Football Club\", \"John is there\", \"Don't do it\", \"He left to go shopping\", \"The bus stop\", \"Leave the ball\"]\n",
    "print (\"Original String list: \",  string_list) # Create a list which we will use a function to shuffle below.\n",
    "\n",
    "\n",
    "np.random.shuffle(string_list) # Random function shuflles list, generates list in different order to original.\n",
    "print (\"String List after the first shuffle: \",  string_list)\n",
    "\n",
    "\n",
    "\n",
    "np.random.shuffle(string_list) # Same as above, random shuffles again, using the same function as above.\n",
    "print (\"String List after the second shuffle: \",  string_list)\n"
   ]
  },
  {
   "cell_type": "markdown",
   "metadata": {},
   "source": [
    "- Below we can shuffle a string."
   ]
  },
  {
   "cell_type": "code",
   "execution_count": 25,
   "metadata": {},
   "outputs": [
    {
     "name": "stdout",
     "output_type": "stream",
     "text": [
      "Original String:  chocolate\n",
      "shuffled String is:  loocaceth\n"
     ]
    }
   ],
   "source": [
    "# Randomly shuffles a string\n",
    "string_one = \"chocolate\" # Setting variable \n",
    "print (\"Original String: \", string_one)# Prints output of original string.\n",
    "\n",
    "char_list = list(string_one) # Function for string we want to shuffle.\n",
    "\n",
    "\n",
    "np.random.shuffle(char_list) # Function for shuffling the string.\n",
    "\n",
    "string_one = ''.join(char_list)\n",
    "print (\"shuffled String is: \", string_one) # Prints shuffled string from original string."
   ]
  },
  {
   "cell_type": "markdown",
   "metadata": {},
   "source": [
    "#### Numpy.random.permutation(x) \n",
    "\n",
    "\n",
    "Randomly permute a sequence, or return a permuted range. If x is a multi-dimensional array, it is only shuffled along its first index. (Sci.py.org)\n",
    "\n",
    "- Generally, in Numpy, both random.permutation and random.shuffle randomly shuffle elements in an array. But there are differences:\n",
    "\n",
    "- If you want to generate random permutations of x, then what is the difference between shuffle(x) and permutation(x)?\n",
    "- np.random.permutation has two differences from np.random.shuffle:\n",
    "\n",
    "   - If passed an array, it will return a shuffled copy of the array; np.random.shuffle shuffles the array in place.\n",
    "   - If passed an integer, it will return a shuffled range i.e. np.random.shuffle(np.arange(n))\n",
    "- If x is an integer, randomly permute np.arange(x). If x is an array, make a copy and shuffle the elements randomly.\n",
    "- np.random.permutation is useful when you need to shuffle ordered pairs, especially for classification:\n",
    "\n",
    "(https://stackoverflow.com/questions/15474159/shuffle-vs-permute-numpy)"
   ]
  },
  {
   "cell_type": "code",
   "execution_count": 30,
   "metadata": {},
   "outputs": [
    {
     "data": {
      "text/plain": [
       "array([6, 4, 0, 3, 7, 5, 1, 2, 9, 8])"
      ]
     },
     "execution_count": 30,
     "metadata": {},
     "output_type": "execute_result"
    }
   ],
   "source": [
    "# Displays all the numbers from 0 to the number you enter.\n",
    "np.random.permutation(10)# Function which randomly returns a permuted range of numbers between 0 and 10."
   ]
  },
  {
   "cell_type": "code",
   "execution_count": 32,
   "metadata": {
    "scrolled": true
   },
   "outputs": [
    {
     "data": {
      "text/plain": [
       "array([ 4, 15,  9, 12,  1])"
      ]
     },
     "execution_count": 32,
     "metadata": {},
     "output_type": "execute_result"
    }
   ],
   "source": [
    "# Outputs the numbers you entered, randomly.\n",
    "np.random.permutation([1, 4, 9, 12, 15]) # Random permutation function, for returning numbers you enetered in any order."
   ]
  },
  {
   "cell_type": "code",
   "execution_count": 27,
   "metadata": {
    "scrolled": true
   },
   "outputs": [
    {
     "data": {
      "text/plain": [
       "array([[3, 4, 5],\n",
       "       [6, 7, 8],\n",
       "       [0, 1, 2]])"
      ]
     },
     "execution_count": 27,
     "metadata": {},
     "output_type": "execute_result"
    }
   ],
   "source": [
    "# Displays nums between 0 and 9 in three rows.\n",
    "arr = np.arange(9).reshape((3, 3))\n",
    "np.random.permutation(arr)"
   ]
  },
  {
   "cell_type": "markdown",
   "metadata": {},
   "source": [
    "## Distribution Functions"
   ]
  },
  {
   "cell_type": "markdown",
   "metadata": {},
   "source": [
    "Uniform Distribution\n",
    "In statistics, a type of probability distribution in which all outcomes are equally likely; each variable has the same probability that it will be the outcome. A deck of cards has within it uniform distributions because the likelihood of drawing a heart, a club, a diamond or a spade is equally likely. A coin also has a uniform distribution because the probability of getting either heads or tails in a coin toss is the same.\n",
    "\n",
    "The uniform distribution can be visualized as a straight horizontal line, so for a coin flip returning a head or tail, both have a probability p = 0.50 and would be depicted by a line from the y-axis at 0.50."
   ]
  },
  {
   "cell_type": "code",
   "execution_count": null,
   "metadata": {
    "scrolled": true
   },
   "outputs": [],
   "source": [
    "# Get a 1000 numbers back.\n",
    "# Random,rand will only give you numbers between 0 and 1.\n",
    "# Random uniform will give you any numbers.\n",
    "np.random.uniform(2,5,10)"
   ]
  },
  {
   "cell_type": "code",
   "execution_count": null,
   "metadata": {},
   "outputs": [],
   "source": [
    "# Pretty much does the same thing as the rand function which we looked at above.\n",
    "x = np.random.uniform(0,1000,10000)"
   ]
  },
  {
   "cell_type": "code",
   "execution_count": null,
   "metadata": {
    "scrolled": true
   },
   "outputs": [],
   "source": [
    "# Shows the numbers on a bar chart.\n",
    "plt.hist(x)"
   ]
  },
  {
   "cell_type": "markdown",
   "metadata": {},
   "source": [
    "### Numpy.Random.Normal.¶\n",
    "\n",
    "Draw random samples from a normal (Gaussian) distribution.\n",
    "\n",
    "\n",
    "The probability density function of the normal distribution, first derived by De Moivre and 200 years later by both Gauss and Laplace independently [R255], is often called the bell curve because of its characteristic shape (see the example below).\n",
    "\n",
    "\n",
    "The normal distributions occurs often in nature. For example, it describes the commonly occurring distribution of samples influenced by a large number of tiny, random disturbances, each with its own unique distribution\n",
    "\n",
    "\n",
    "Below the numbers with e-01 at the end of it, means multipy whatever came before the e by 10 to the minus 1 or divide by 10, e-02 means divide by 100 and so on.\n",
    "\n",
    "\n",
    "Can take more functions and see how they work if you like."
   ]
  },
  {
   "cell_type": "code",
   "execution_count": 39,
   "metadata": {},
   "outputs": [
    {
     "data": {
      "text/plain": [
       "array([ 4.26283028e-02,  2.48642931e-02, -1.10080636e-01,  1.13936239e-01,\n",
       "       -7.86390930e-02, -1.15227265e-02, -1.63593852e-01,  9.22352118e-02,\n",
       "        4.81473745e-02, -1.70125701e-01,  4.78631043e-02, -1.80503876e-02,\n",
       "        2.10800713e-01, -1.36308331e-02,  8.78419349e-02, -3.67749454e-03,\n",
       "       -3.88727406e-02, -2.27829036e-01, -4.47560930e-03, -5.90658700e-03,\n",
       "        2.15717144e-01, -1.99771601e-01,  1.25329444e-02,  3.83873523e-02,\n",
       "       -7.73820500e-02,  1.40503808e-01,  4.89165608e-02,  3.96581037e-02,\n",
       "       -6.10270466e-02, -1.78375110e-02, -1.83184597e-01, -7.19308055e-02,\n",
       "       -8.45615458e-02, -3.38927399e-02,  1.23425582e-01,  1.05394851e-01,\n",
       "       -1.16669580e-01, -4.78694197e-02,  4.06916272e-02, -1.06850280e-01,\n",
       "       -5.42656785e-02,  5.08917004e-02,  6.62442269e-02, -1.06197523e-01,\n",
       "       -3.23922155e-02, -1.72058891e-02, -4.68132065e-02,  2.54599852e-01,\n",
       "       -4.49446746e-02, -8.87927158e-02, -1.75173360e-02, -6.83864142e-03,\n",
       "       -8.79354796e-02, -5.05780320e-02, -4.65003276e-02,  1.55340313e-02,\n",
       "       -7.54740140e-02,  6.89450836e-03,  1.53888930e-01,  8.35722954e-03,\n",
       "        3.90146786e-02, -7.76616310e-02,  2.87396616e-02, -6.04194464e-02,\n",
       "        5.96936575e-02, -1.83711383e-01, -5.29359781e-02,  2.19274124e-01,\n",
       "       -1.31484161e-01, -3.99380918e-02, -5.42375456e-02,  1.33238645e-02,\n",
       "       -3.62048021e-02, -7.43186010e-02,  8.76234105e-02, -1.22879772e-01,\n",
       "        1.54830341e-02,  1.25178994e-01, -4.38405395e-02, -1.26902796e-01,\n",
       "       -8.92037590e-02, -1.45429479e-01, -1.35254972e-02,  1.06177897e-01,\n",
       "        5.00710558e-02, -5.30011476e-02, -5.93218762e-02, -7.16659666e-02,\n",
       "        5.19428751e-02, -9.07456096e-02, -9.41274466e-02,  9.07254899e-02,\n",
       "       -1.55685703e-02,  2.34719195e-01,  4.08293221e-02, -1.48194088e-01,\n",
       "        9.19275086e-02, -9.84935129e-02, -5.96264787e-02, -1.84293597e-01,\n",
       "        1.69729131e-02,  1.48930506e-01, -9.91009457e-03,  5.65318730e-03,\n",
       "       -5.40660284e-02, -6.33302086e-02,  9.85879692e-02,  3.97403516e-02,\n",
       "       -2.76027873e-02, -4.90530410e-02,  1.53858708e-01,  7.26147798e-02,\n",
       "       -3.05554544e-02, -1.84071824e-01,  6.29121324e-02,  1.00918973e-01,\n",
       "        4.90654766e-02,  4.04842995e-02,  1.32621991e-01, -7.14442202e-02,\n",
       "        2.76836433e-02,  5.33234102e-02,  5.97753256e-03, -1.50982053e-01,\n",
       "       -9.21076633e-02, -1.58464226e-01, -1.29384767e-02,  6.62859255e-02,\n",
       "       -3.79987092e-02, -1.52301642e-01, -5.88969730e-02,  1.30522680e-01,\n",
       "       -4.51597273e-02,  2.44741365e-01, -1.61940904e-01,  1.02580428e-01,\n",
       "       -1.10744834e-02, -1.88700253e-02,  2.26711772e-02,  2.81967145e-02,\n",
       "       -2.79831135e-02,  1.15189005e-01,  1.82469418e-01,  6.30042043e-02,\n",
       "        1.29925751e-01,  9.18761643e-02,  1.44373357e-01,  1.61301926e-01,\n",
       "        2.17102021e-04,  9.20122490e-04, -1.23767623e-01, -6.00287710e-02,\n",
       "       -2.08772552e-01, -1.02820704e-01,  1.05468878e-01, -8.64871945e-02,\n",
       "       -5.12296552e-02, -9.33368845e-02, -5.62235050e-04, -4.58831566e-02,\n",
       "       -1.09227735e-01, -1.32658281e-01,  4.96080345e-02,  2.15082559e-02,\n",
       "       -1.09326556e-01,  7.48169928e-02, -1.82636542e-01, -5.67417745e-02,\n",
       "       -2.79905581e-02, -4.43599504e-02, -8.86204187e-04,  1.32028578e-01,\n",
       "        2.34234227e-01,  1.11307557e-01, -6.51255815e-02, -8.79013765e-02,\n",
       "       -4.64734902e-02,  1.62133011e-01, -2.02208486e-01,  2.42714925e-03,\n",
       "       -8.82815384e-02,  9.16898091e-02, -2.31835142e-02,  1.81708139e-01,\n",
       "       -1.07743377e-01, -9.39001266e-02, -9.74681793e-03,  7.49662640e-02,\n",
       "       -1.37466628e-01, -9.39428567e-02,  2.70417017e-03,  1.84810090e-02,\n",
       "       -1.01230352e-01, -1.23934176e-01,  3.50737319e-02,  1.10799673e-02,\n",
       "        1.21583577e-01,  1.08150058e-01, -1.83652675e-02, -1.44903605e-02,\n",
       "        3.32156423e-02, -6.39032764e-02,  9.42392305e-03,  9.14210952e-02,\n",
       "       -1.45026183e-01,  1.34399195e-01,  2.44326060e-01, -9.47699531e-02,\n",
       "       -2.85704728e-01, -5.87175335e-02, -1.08656523e-01,  1.95139904e-01,\n",
       "        7.32510815e-02,  4.68941304e-02,  4.37585762e-02,  3.52761367e-02,\n",
       "       -8.68965631e-03, -1.29432788e-01,  1.87520705e-01, -8.06883297e-02,\n",
       "        1.22517740e-01,  1.55016527e-01,  6.12765362e-02,  7.02009748e-02,\n",
       "       -2.09115459e-02, -1.02539958e-01,  4.91780054e-03, -2.47798900e-02,\n",
       "       -1.45231549e-02,  1.30096186e-02,  4.31529279e-02,  6.08307775e-02,\n",
       "        4.45277352e-03, -7.79083581e-03, -5.34945439e-02, -1.91478513e-01,\n",
       "       -5.12667182e-02, -2.26090866e-02, -1.48772880e-01,  1.04463602e-02,\n",
       "       -2.44682448e-01,  4.71545793e-02, -8.41292638e-02,  5.78976160e-02,\n",
       "       -1.36237966e-02, -2.04747059e-01, -9.14532898e-02,  5.77264871e-02,\n",
       "        1.71517300e-03,  9.36284371e-02, -1.57929049e-01, -4.53961275e-02,\n",
       "       -7.17528260e-02, -6.15459311e-02, -3.99309517e-03,  2.08112167e-02,\n",
       "       -1.15281580e-01,  1.00711386e-01, -1.70389370e-01, -3.63331653e-02,\n",
       "       -6.81335475e-02, -1.21508250e-01, -3.11975510e-02,  4.82074979e-02,\n",
       "        4.51824711e-02, -1.24912523e-01, -3.67694669e-02,  9.71600256e-02,\n",
       "       -6.40063188e-02, -1.15684623e-01,  2.59669924e-02,  8.52774308e-02,\n",
       "        1.29417098e-02,  2.16510379e-01, -1.11656811e-01, -5.30874563e-02,\n",
       "        7.75343743e-02, -1.77118910e-01,  1.39906888e-01,  1.33678505e-01,\n",
       "       -1.12355570e-01,  6.67139369e-02, -2.92273440e-02, -2.92128550e-02,\n",
       "        8.00049644e-03,  4.18525855e-02,  5.21405574e-02, -1.80521832e-02,\n",
       "       -1.36841444e-01, -8.73951301e-02, -1.35839210e-05,  9.31448967e-02,\n",
       "       -1.75999200e-01,  3.10332000e-02, -1.24421746e-01,  5.94231096e-02,\n",
       "        3.39313930e-02, -1.07247926e-01, -8.57984599e-02,  1.00147747e-01,\n",
       "        1.15302395e-01,  1.14248344e-01,  7.01068605e-02,  2.18760941e-01,\n",
       "        4.86504834e-03,  1.38731408e-02,  3.06880836e-01, -1.10915860e-01,\n",
       "       -8.71143699e-02, -1.62261274e-02,  2.46796826e-01, -1.55182514e-01,\n",
       "       -5.88217795e-02,  4.88877393e-02,  5.91227494e-02,  1.52333815e-01,\n",
       "       -1.07454783e-01, -3.41879185e-02,  5.36536716e-02,  6.05274718e-02,\n",
       "        1.42803901e-01,  2.43884184e-01, -1.23474574e-01, -1.52883347e-01,\n",
       "       -2.48482960e-01,  1.17109526e-01,  1.56830857e-02, -5.88883506e-02,\n",
       "        1.70240982e-01, -1.97128328e-02,  1.10162941e-01,  5.18759183e-02,\n",
       "        9.92978008e-02,  1.54756068e-01,  6.44839155e-02,  3.00092160e-02,\n",
       "        7.15545805e-02, -1.89173403e-01,  4.22003042e-02, -9.23476929e-02,\n",
       "        3.57546893e-02, -8.73036632e-02, -8.64048521e-02, -3.37866079e-01,\n",
       "       -5.16282748e-02,  1.14324802e-01,  2.93947980e-02, -4.87341836e-02,\n",
       "        2.48070806e-02,  1.05275404e-01,  6.62480278e-02, -1.79001147e-01,\n",
       "       -1.04653338e-01, -3.05378194e-02,  1.02787138e-01,  5.17580617e-02,\n",
       "       -7.56224617e-02, -1.35406012e-01, -7.20460978e-03,  2.86844506e-02,\n",
       "       -5.04498333e-02,  1.79482840e-02, -1.27773940e-01,  4.99207197e-02,\n",
       "       -1.75469140e-02,  1.90925825e-02,  4.97473402e-02,  1.85630121e-02,\n",
       "        2.55272023e-02,  8.37743789e-02, -1.10420185e-01, -1.31164885e-01,\n",
       "       -2.21492544e-01,  6.35711061e-02, -1.23291006e-01,  3.24303423e-02,\n",
       "       -5.36858423e-02,  3.15783493e-02,  1.85358197e-01, -5.27056121e-02,\n",
       "       -2.56326336e-02,  2.85014461e-02,  9.17922250e-02,  9.64822480e-03,\n",
       "        1.90479805e-01,  7.74054047e-02,  1.85632375e-03, -9.33614267e-02,\n",
       "        1.18854867e-02,  6.32315078e-02,  1.60725098e-01,  1.22230237e-02,\n",
       "        6.01528623e-02,  5.42691479e-02, -5.05716750e-02,  4.87326846e-02,\n",
       "       -1.12237202e-01, -8.57153767e-03, -1.36674322e-01, -1.65087328e-01,\n",
       "        1.07034269e-01, -1.70261884e-01, -5.92603705e-02, -1.71025303e-02,\n",
       "       -4.86926075e-02,  1.08406360e-01,  6.34013368e-02,  6.52895461e-02,\n",
       "       -6.08759790e-02, -3.61881291e-02,  1.83093090e-03, -3.51876356e-02,\n",
       "       -5.44183651e-02,  1.39269115e-01, -1.15591607e-02,  3.00084781e-02,\n",
       "       -1.14916338e-01, -2.01688683e-01,  5.90054044e-02, -8.24851702e-02,\n",
       "       -5.63494401e-02,  3.75269761e-02, -1.08885654e-01, -7.06644848e-02,\n",
       "       -2.56293181e-01,  1.92756250e-02, -6.42613373e-02,  2.42739221e-02,\n",
       "       -8.20400832e-02,  1.66867938e-03,  2.43012019e-02, -1.78692208e-02,\n",
       "        1.78683456e-01, -3.90298931e-02,  8.49727824e-02, -1.73190002e-01,\n",
       "       -1.28095204e-02,  6.94982617e-02, -1.09968138e-01,  8.52425093e-03,\n",
       "        1.33911725e-01, -2.77588238e-01,  3.42131247e-02, -6.94725809e-02,\n",
       "       -1.51863719e-01,  1.59051844e-01,  6.17620372e-02, -3.79814244e-02,\n",
       "       -1.07699171e-01, -1.19320319e-01, -7.30845216e-02, -1.63194538e-03,\n",
       "        8.67656605e-02,  8.37787829e-02, -4.71245440e-02, -1.61045488e-01,\n",
       "       -9.62547768e-02, -1.68585983e-01, -1.47106688e-03,  1.16461291e-02,\n",
       "        9.50772750e-02,  1.92469632e-01, -1.32808588e-03,  1.56860487e-01,\n",
       "        2.23383367e-01,  1.55780512e-02, -1.08580150e-01, -1.34818888e-01,\n",
       "       -1.20725515e-01,  7.41346588e-03,  8.72577726e-02, -7.54646228e-02,\n",
       "       -1.71105113e-01, -4.91217964e-04, -4.14250076e-02,  1.20728848e-02,\n",
       "       -2.73761580e-02,  7.14472617e-02,  5.80217158e-02, -5.40296374e-02,\n",
       "       -7.24141491e-02, -1.39624733e-01, -3.88234438e-02,  1.13997684e-01,\n",
       "        1.45446396e-01, -3.12312820e-02, -2.37958676e-01,  1.45503306e-01,\n",
       "       -3.18990190e-02,  6.25049373e-02,  7.73504185e-03, -3.25697749e-02,\n",
       "        1.39318526e-01, -4.52665187e-02, -7.35962219e-02, -1.19576054e-01,\n",
       "        3.65732526e-02, -7.52481405e-02,  8.41726370e-02,  7.34406737e-02,\n",
       "        2.08646740e-01,  9.98149990e-02,  1.10728523e-01,  1.25421397e-01,\n",
       "        7.75635839e-03, -5.07755462e-02,  1.30804823e-02, -7.01126225e-02,\n",
       "        1.06488534e-01,  1.04548546e-01,  1.13472153e-01,  3.60469877e-02,\n",
       "        9.97454015e-02, -2.56550072e-02,  3.02604957e-02, -4.85003151e-02,\n",
       "       -1.07775865e-01,  1.27790164e-01,  3.45552596e-02,  8.89311655e-02,\n",
       "       -1.18758546e-01,  3.14549269e-02,  5.36442424e-02, -6.50175359e-02,\n",
       "        9.02081430e-02, -1.33052158e-02,  2.55162798e-01, -6.81197165e-02,\n",
       "        6.23059629e-02,  4.88710220e-02,  2.18763821e-03,  2.05348300e-01,\n",
       "       -6.97370293e-02,  1.07938506e-01,  1.47734941e-01,  3.41043981e-02,\n",
       "        2.09951145e-01,  5.29733060e-02, -8.74358061e-02,  4.78709939e-02,\n",
       "        1.59372845e-01, -2.25749217e-01,  2.21501080e-02,  6.49262013e-02,\n",
       "        1.00272527e-01, -2.62083165e-03,  6.85799690e-02,  2.19296470e-01,\n",
       "        1.14536562e-01, -1.49108072e-02, -5.68331567e-03,  1.47349326e-01,\n",
       "        1.65510723e-01, -1.39413092e-01,  7.42023201e-02,  2.93757277e-02,\n",
       "        7.34071164e-02,  5.78566596e-03,  1.46201981e-03, -3.21290741e-02,\n",
       "        6.66081553e-02, -1.76037889e-01, -4.09542758e-02,  1.14382887e-01,\n",
       "        1.09137352e-01,  6.38744612e-02, -1.11989334e-01,  1.81808396e-01,\n",
       "       -1.06397364e-01,  7.51921000e-02,  6.97367959e-02, -8.02115571e-02,\n",
       "        1.23444245e-01, -1.07704277e-01,  4.26973746e-02,  9.42278394e-02,\n",
       "        1.60503707e-01,  1.88789652e-01, -1.40840016e-01, -7.94150001e-02,\n",
       "        9.70415290e-04,  2.41531863e-02, -2.99029536e-02, -1.82657809e-02,\n",
       "        9.98548442e-02, -1.52493769e-02,  9.20408849e-02, -2.97982349e-01,\n",
       "       -1.87675950e-01, -3.38017289e-02,  4.56471147e-03, -5.52003354e-02,\n",
       "        7.88992870e-02, -8.62358589e-02,  9.63725430e-02,  5.33544960e-02,\n",
       "       -1.74754341e-01, -1.28829345e-01,  4.44374503e-02, -6.07797792e-03,\n",
       "        3.53667390e-02,  3.05077350e-02,  9.80652172e-02, -5.31281210e-02,\n",
       "        3.70650432e-02,  3.24303582e-02, -1.02167015e-01,  1.84945839e-02,\n",
       "       -6.97663569e-02,  4.00203971e-03,  1.73174953e-02,  2.35608335e-01,\n",
       "        4.23162864e-02, -1.20664467e-01, -1.05605832e-02, -1.28496408e-01,\n",
       "        7.48878447e-02, -1.05141320e-01, -2.03096809e-02,  1.34705755e-01,\n",
       "       -1.90539298e-01, -5.21663277e-02,  1.06049671e-01, -6.40215837e-02,\n",
       "       -1.00628485e-01,  8.48389998e-02,  3.78682135e-02, -4.93568818e-02,\n",
       "       -4.03347033e-02, -1.65062756e-01, -5.31499294e-02,  1.20417981e-02,\n",
       "       -1.51811939e-01, -6.67887482e-02,  1.79080930e-01,  1.06548789e-03,\n",
       "        7.65365723e-02, -4.75116792e-02, -6.58676074e-02, -9.96704359e-02,\n",
       "       -1.67100212e-01,  1.28863387e-01, -1.58752291e-01, -1.96231500e-01,\n",
       "       -1.11585392e-02,  6.88749868e-03,  5.35897743e-03,  2.39374306e-01,\n",
       "        3.44408479e-02,  6.27180071e-02, -1.35208418e-01,  1.33464408e-02,\n",
       "       -5.26918777e-02,  3.51386832e-02, -2.35379103e-01,  1.13583895e-03,\n",
       "       -1.13442837e-01, -1.39248007e-02,  3.69861578e-02, -6.85397321e-02,\n",
       "        1.01787634e-01,  7.64017832e-02, -5.72654615e-02,  1.48635967e-01,\n",
       "       -3.35037333e-02, -3.56804111e-02,  4.43492637e-02,  7.09033146e-02,\n",
       "       -2.60906347e-01, -7.10399992e-02,  2.63698847e-02, -2.23521031e-02,\n",
       "        8.79819058e-02,  2.25235626e-02, -3.51210585e-02, -6.01137630e-02,\n",
       "        2.77251429e-01,  1.62442175e-01, -1.22937658e-02,  1.67592859e-01,\n",
       "        2.22565763e-02, -2.09341314e-01,  1.93103498e-01,  1.00887782e-01,\n",
       "        3.48340427e-02, -8.80365192e-02,  1.24828233e-01, -1.63787890e-01,\n",
       "       -7.44940685e-02, -3.04640126e-02, -1.43243489e-01, -5.71338932e-02,\n",
       "       -2.86478695e-02,  8.80944429e-02, -1.07149247e-01,  2.81355637e-02,\n",
       "       -9.01032337e-02, -1.92498121e-01, -1.71928812e-01,  1.21947274e-01,\n",
       "        1.06551150e-01, -2.43551033e-02,  1.89276639e-02,  1.05740546e-01,\n",
       "       -7.14025437e-02, -2.03732005e-02, -4.90891321e-03,  1.50587073e-01,\n",
       "       -1.51496503e-01,  4.78994503e-02,  1.13239853e-01,  7.84245383e-02,\n",
       "        5.21679931e-02,  8.00504539e-03, -8.13667509e-02, -1.45202808e-01,\n",
       "       -1.69225504e-01,  6.35339735e-02,  1.16043479e-01,  1.98826801e-02,\n",
       "        4.15259057e-03, -6.53504795e-02, -8.48262763e-04,  3.34095882e-02,\n",
       "        1.96138005e-02, -6.31582938e-02,  1.20600343e-01,  3.58870827e-02,\n",
       "       -2.93739082e-02,  8.43841163e-02,  1.07412090e-01,  1.82178105e-02,\n",
       "       -2.21450600e-01, -2.58552235e-02, -1.59318440e-01,  6.59102774e-02,\n",
       "       -6.23496289e-02,  1.50849635e-01, -4.64096708e-02,  8.59263737e-02,\n",
       "       -1.94191756e-02,  2.80807505e-01,  1.03144851e-01, -1.71499515e-01,\n",
       "       -9.72532192e-03, -3.91387050e-02,  1.28578199e-01, -8.30278529e-02,\n",
       "       -1.69812632e-01,  1.73507243e-02, -3.43944563e-02,  7.41640965e-03,\n",
       "        1.55500912e-02, -7.19167136e-03,  1.24567683e-01, -3.67833608e-02,\n",
       "       -1.79208630e-01, -4.31370514e-02,  2.81980264e-02, -7.91965410e-02,\n",
       "        1.76692693e-01, -1.39339698e-01, -8.99463734e-02, -1.42544232e-01,\n",
       "        1.43838541e-01,  2.41806704e-02, -1.68150666e-01, -3.15328942e-02,\n",
       "        1.17177124e-01, -3.96179945e-02, -2.53006460e-02, -1.84670985e-01,\n",
       "        8.24203982e-02, -1.92711073e-01, -7.10475140e-02, -4.41672787e-02,\n",
       "        4.73355230e-02,  2.44438827e-02, -1.01180208e-01,  1.11668994e-01,\n",
       "        1.15564235e-01, -1.74095598e-01, -5.26982896e-02, -3.99232746e-02,\n",
       "       -3.49059011e-02,  7.88339329e-02,  1.93690383e-01,  3.39118730e-02,\n",
       "       -8.08325084e-02,  7.27902741e-02,  1.09763928e-01,  3.53204703e-02,\n",
       "       -1.39751808e-01, -4.73310075e-02,  1.22979467e-01,  9.40162964e-02,\n",
       "        8.69324348e-02,  9.09526808e-03, -1.16421187e-01,  1.18267095e-01,\n",
       "       -7.79839389e-02,  2.18355540e-02,  1.89953844e-03,  2.06831426e-02,\n",
       "        9.86912726e-02, -3.11955995e-02,  8.08023718e-03, -6.42957940e-02,\n",
       "       -1.36090657e-02,  4.94570213e-02,  7.37256132e-02,  1.28991600e-01,\n",
       "        3.88049390e-02,  5.34098257e-02,  1.04534242e-01, -4.51902129e-03,\n",
       "       -1.81466879e-02, -1.39997426e-01,  7.66595922e-02, -1.31667304e-01,\n",
       "        1.99503357e-01,  2.03166076e-01, -5.65495008e-02, -3.67826707e-02,\n",
       "       -8.17232966e-02,  4.04612077e-02,  1.13236030e-01, -8.42146924e-02,\n",
       "       -1.53766844e-02, -4.69531169e-03, -8.10812465e-02, -7.88369832e-02,\n",
       "       -7.07603342e-02,  1.45271402e-01,  3.55235813e-02,  1.20871431e-01,\n",
       "       -2.59419632e-03, -1.31389459e-01,  6.63813401e-02,  1.91846309e-02,\n",
       "        1.35598819e-01,  1.53599680e-02, -1.18980205e-02, -1.15568546e-01,\n",
       "        2.66846614e-04,  5.11483500e-02, -6.94934316e-02, -1.99658001e-02,\n",
       "       -6.40134315e-03, -1.18461083e-01,  1.09338628e-01, -2.67019173e-01,\n",
       "       -3.51658585e-02,  9.76318543e-02, -1.10480007e-01,  9.51716188e-02,\n",
       "       -1.96201943e-01, -4.95629422e-02,  1.06458855e-02,  1.51520508e-01,\n",
       "        8.44600804e-02, -5.43391246e-02, -9.74634205e-02, -5.87831879e-02,\n",
       "        2.36465061e-01, -6.54726112e-02, -1.04557647e-01,  1.54706806e-01,\n",
       "       -3.65470284e-02, -4.94298413e-02, -4.62411813e-02,  1.00791064e-01,\n",
       "       -7.28075321e-02, -5.35412906e-02,  2.69087632e-02, -2.56609566e-01,\n",
       "        1.46472636e-01,  1.68498284e-01,  1.47183679e-02,  7.72594918e-02,\n",
       "        5.49158654e-04, -1.57838455e-02,  1.43421147e-01,  9.65044301e-03,\n",
       "        1.05241054e-01, -1.08460143e-01, -4.76159711e-02, -1.46739053e-01,\n",
       "       -1.25374301e-01, -1.60242891e-01,  4.05297938e-02, -7.95053430e-02,\n",
       "        9.46004511e-03,  4.00791051e-02, -1.44707450e-01,  6.38967485e-02,\n",
       "       -6.35018767e-02,  1.23538974e-01, -5.27419335e-02, -7.07036464e-02,\n",
       "        2.65805778e-02,  1.88363573e-01, -1.96931825e-02,  1.16935995e-01,\n",
       "       -2.36180079e-01, -1.70386728e-01, -1.23092712e-01, -1.03355050e-03,\n",
       "        5.42831452e-02, -2.59291444e-02,  4.73470671e-02, -8.92094003e-02,\n",
       "        6.82008162e-02, -1.31424350e-01,  5.36666084e-02,  3.47647879e-02,\n",
       "        1.58785131e-02,  6.90098452e-02,  1.48431742e-02, -7.43197555e-02,\n",
       "       -1.38227693e-01, -8.16138564e-02,  5.62325323e-02,  7.75989096e-02,\n",
       "        1.61878241e-02, -1.21247337e-01,  1.33777314e-01,  1.18377755e-01,\n",
       "       -1.21178674e-01, -1.51915541e-01,  1.23684323e-01,  5.47220659e-03,\n",
       "        4.64822631e-02, -1.41959766e-02,  1.72121205e-01,  6.75582228e-02,\n",
       "        3.62356161e-02, -8.24466540e-03,  2.21148359e-02, -1.34500320e-02,\n",
       "        8.10317591e-02, -1.96950074e-01,  5.48846618e-02,  7.62650840e-02,\n",
       "       -4.95078458e-02, -1.08033273e-01, -5.38467065e-02, -2.60007330e-02,\n",
       "       -3.69034116e-02, -9.85258169e-03,  2.05615107e-02,  1.23748522e-02,\n",
       "       -1.00373582e-01,  2.14588124e-01, -1.14252177e-01,  1.84895666e-02,\n",
       "        2.68466590e-02,  1.09006403e-01,  1.83602613e-01, -3.67675810e-02,\n",
       "        4.44903043e-02,  1.39105992e-01, -1.12619534e-01, -7.18952358e-02,\n",
       "       -9.27641944e-02, -1.32695687e-01,  1.74179065e-01,  9.37828646e-02,\n",
       "        1.27195888e-01, -1.15052756e-01, -1.14175313e-01,  6.73581377e-02,\n",
       "       -1.08908029e-01,  2.71970801e-02, -4.99096794e-02, -2.57315007e-01,\n",
       "       -1.47556812e-01, -7.57053670e-02,  1.85934129e-01,  2.21728426e-02,\n",
       "       -1.16998710e-02, -6.20994457e-02,  8.84133979e-02, -2.25476389e-02,\n",
       "       -6.99850701e-02, -2.19164496e-01, -8.09870602e-02, -2.97083903e-02,\n",
       "        2.91672623e-01,  3.43072446e-02, -1.12750008e-01,  1.52095244e-01,\n",
       "       -1.08261931e-02, -1.04570451e-01, -7.28853676e-02,  1.64173801e-01,\n",
       "        7.43046086e-02, -2.22477910e-02, -1.68017606e-01, -8.36308114e-02])"
      ]
     },
     "execution_count": 39,
     "metadata": {},
     "output_type": "execute_result"
    }
   ],
   "source": [
    "np.random.normal(0, 0.1, 1000)"
   ]
  },
  {
   "cell_type": "code",
   "execution_count": 41,
   "metadata": {},
   "outputs": [],
   "source": [
    "# The data is being centered around the first number, if you change it around you can see.\n",
    "x = np.random.normal(15, 7, 1000)"
   ]
  },
  {
   "cell_type": "code",
   "execution_count": 37,
   "metadata": {},
   "outputs": [
    {
     "data": {
      "text/plain": [
       "(array([ 88.,  97., 116., 111.,  96.,  87., 110.,  95., 101.,  99.]),\n",
       " array([7.91330335e-05, 9.99775306e-02, 1.99875928e-01, 2.99774326e-01,\n",
       "        3.99672723e-01, 4.99571121e-01, 5.99469519e-01, 6.99367916e-01,\n",
       "        7.99266314e-01, 8.99164711e-01, 9.99063109e-01]),\n",
       " <a list of 10 Patch objects>)"
      ]
     },
     "execution_count": 37,
     "metadata": {},
     "output_type": "execute_result"
    },
    {
     "data": {
      "image/png": "[encoded data removed]",
      "text/plain": [
       "<Figure size 432x288 with 1 Axes>"
      ]
     },
     "metadata": {
      "needs_background": "light"
     },
     "output_type": "display_data"
    }
   ],
   "source": [
    "# Shows the data on the x axis\n",
    "plt.hist(x)"
   ]
  },
  {
   "cell_type": "markdown",
   "metadata": {},
   "source": [
    "## Bibliography\n",
    "\n",
    "SciPy.org, 2018, Viewed on 2019/10/18, https://docs.scipy.org/doc/numpy-1.15.0/reference/routines.random.html\n",
    "\n",
    "APMonitor, Youtube, 2017, viewed on 2019/11/04, https://www.youtube.com/watch?v=Z2zUGmqIDto \n",
    "\n",
    "Stackoverflow, 2017, viewed on 2019/11/04, (https://stackoverflow.com/questions/15474159/shuffle-vs-permute-numpy)\n",
    "\n",
    "Py.Native, 2019, viewed on the 2019/11/05, https://pynative.com/python-random-shuffle/\n"
   ]
  }
 ],
 "metadata": {
  "kernelspec": {
   "display_name": "Python 3",
   "language": "python",
   "name": "python3"
  },
  "language_info": {
   "codemirror_mode": {
    "name": "ipython",
    "version": 3
   },
   "file_extension": ".py",
   "mimetype": "text/x-python",
   "name": "python",
   "nbconvert_exporter": "python",
   "pygments_lexer": "ipython3",
   "version": "3.7.1"
  }
 },
 "nbformat": 4,
 "nbformat_minor": 2
}
