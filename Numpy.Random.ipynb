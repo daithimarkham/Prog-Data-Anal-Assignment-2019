{
 "cells": [
  {
   "cell_type": "markdown",
   "metadata": {},
   "source": [
    "# Numpy.Random Package.\n",
    "![title](NumpyImage.jpg) Source(APMonitor.com)"
   ]
  },
  {
   "cell_type": "markdown",
   "metadata": {},
   "source": [
    "## Numpy.Random package.\n",
    "Creates random numbers and arrays. Whenever you want to generate an array of random numbers you need to use numpy.random, which has multiple functions. These functions generate the random n-dimensional array/arrays for various distributions, size, mean, width, colour on histograms and plots, etc, which we will be discussing later below.\n",
    "\n",
    "### How to the Numpy Ramdom module. \n",
    "- The random package has many functions to help generate numberous different types of numbers. We will see below how to use these functions. \n",
    "- You will need to import the numpy package below. (import numpy as np)\n",
    "\n"
   ]
  },
  {
   "cell_type": "markdown",
   "metadata": {},
   "source": [
    "## Simple Random Data."
   ]
  },
  {
   "cell_type": "markdown",
   "metadata": {},
   "source": [
    "There are many ways to generate random numbers. Numpy.random creates random values in a given shape, returns a sample/samples, from the standard normal distribution. It returns random integers from low to high. Below, we can look at some.\n",
    "\n",
    "#### Code below, adapted from SciPy.org."
   ]
  },
  {
   "cell_type": "code",
   "execution_count": 1,
   "metadata": {},
   "outputs": [],
   "source": [
    "# Import Numpy Package\n",
    "import numpy as np"
   ]
  },
  {
   "cell_type": "markdown",
   "metadata": {},
   "source": [
    "#### np.random.normal"
   ]
  },
  {
   "cell_type": "code",
   "execution_count": 23,
   "metadata": {},
   "outputs": [
    {
     "name": "stdout",
     "output_type": "stream",
     "text": [
      "Generating random number using random.normal()\n"
     ]
    },
    {
     "data": {
      "text/plain": [
       "-1.2823511010951616"
      ]
     },
     "execution_count": 23,
     "metadata": {},
     "output_type": "execute_result"
    }
   ],
   "source": [
    "# Generates A Random Number From The Normal Distribution.\n",
    "print(\"Generating random number using random.normal()\")\n",
    "np.random.normal()"
   ]
  },
  {
   "cell_type": "markdown",
   "metadata": {},
   "source": [
    "#### np.random.rand\n",
    "- Numpy creates arrays. Random numbers in this case between 0 and 1.\n",
    "- Contains arrays, floating numbers."
   ]
  },
  {
   "cell_type": "code",
   "execution_count": 3,
   "metadata": {},
   "outputs": [
    {
     "data": {
      "text/plain": [
       "array([[0.11735573, 0.73637243],\n",
       "       [0.84074561, 0.62077395],\n",
       "       [0.83556359, 0.39247499],\n",
       "       [0.29220736, 0.1553467 ]])"
      ]
     },
     "execution_count": 3,
     "metadata": {},
     "output_type": "execute_result"
    }
   ],
   "source": [
    "# Contains arrays, floating numbers.\n",
    "np.random.rand(4,2)"
   ]
  },
  {
   "cell_type": "markdown",
   "metadata": {},
   "source": [
    "- Get an array with 9 elements in it."
   ]
  },
  {
   "cell_type": "code",
   "execution_count": 18,
   "metadata": {},
   "outputs": [
    {
     "data": {
      "text/plain": [
       "array([0.50393464, 0.10685262, 0.0713768 , 0.64424208, 0.8432125 ,\n",
       "       0.69894939, 0.89745143, 0.23033739, 0.74097969])"
      ]
     },
     "execution_count": 18,
     "metadata": {},
     "output_type": "execute_result"
    }
   ],
   "source": [
    "# Displays 9 elements.\n",
    "np.random.rand(9)"
   ]
  },
  {
   "cell_type": "markdown",
   "metadata": {},
   "source": [
    "- Displays two arrays, four rows and thee columns."
   ]
  },
  {
   "cell_type": "code",
   "execution_count": 19,
   "metadata": {},
   "outputs": [
    {
     "data": {
      "text/plain": [
       "array([[[0.93182613, 0.16097928, 0.09889736],\n",
       "        [0.8927669 , 0.67549966, 0.37073962],\n",
       "        [0.43463501, 0.78785664, 0.97355706],\n",
       "        [0.40222362, 0.17125645, 0.7951966 ]],\n",
       "\n",
       "       [[0.73295541, 0.45599391, 0.15475971],\n",
       "        [0.3170867 , 0.13077634, 0.06966733],\n",
       "        [0.01887923, 0.01091038, 0.92447357],\n",
       "        [0.99913081, 0.50410643, 0.31431634]]])"
      ]
     },
     "execution_count": 19,
     "metadata": {},
     "output_type": "execute_result"
    }
   ],
   "source": [
    "# Generates random data, and ouputs in arrays, rows and columns.\n",
    "np.random.rand(2,4,3)"
   ]
  },
  {
   "cell_type": "markdown",
   "metadata": {},
   "source": [
    "To display the numbers on a histogram."
   ]
  },
  {
   "cell_type": "code",
   "execution_count": 6,
   "metadata": {},
   "outputs": [],
   "source": [
    "x = np.random.rand(1000)"
   ]
  },
  {
   "cell_type": "code",
   "execution_count": 7,
   "metadata": {},
   "outputs": [
    {
     "data": {
      "text/plain": [
       "<function matplotlib.pyplot.show(*args, **kw)>"
      ]
     },
     "execution_count": 7,
     "metadata": {},
     "output_type": "execute_result"
    },
    {
     "data": {
      "image/png": "[encoded data removed]",
      "text/plain": [
       "<Figure size 432x288 with 1 Axes>"
      ]
     },
     "metadata": {
      "needs_background": "light"
     },
     "output_type": "display_data"
    }
   ],
   "source": [
    "# Histogram shows the most typical values out of 1000 and displays in a bar chart.\n",
    "%matplotlib inline\n",
    "import matplotlib.pyplot as plt\n",
    "plt.hist(x)\n",
    "plt.show # this will display if the above command does not display. \n",
    "# If the above is not displaying type in %matplotlib inline"
   ]
  },
  {
   "cell_type": "markdown",
   "metadata": {},
   "source": [
    "#### Numpy.random.choice\n",
    "-  Generates a random sample from a given 1-D array\n"
   ]
  },
  {
   "cell_type": "code",
   "execution_count": 8,
   "metadata": {},
   "outputs": [
    {
     "data": {
      "text/plain": [
       "array([0, 3, 3])"
      ]
     },
     "execution_count": 8,
     "metadata": {},
     "output_type": "execute_result"
    }
   ],
   "source": [
    "# Generate a uniform random sample from np.arange(5) of size 3:\n",
    "np.random.choice(5, 3)"
   ]
  },
  {
   "cell_type": "markdown",
   "metadata": {},
   "source": [
    "#### Numpy.random.ranf\n",
    "-Return random floats in the half-open interval [0.0, 1.0)."
   ]
  },
  {
   "cell_type": "code",
   "execution_count": 9,
   "metadata": {
    "scrolled": true
   },
   "outputs": [
    {
     "data": {
      "text/plain": [
       "0.39978009273354154"
      ]
     },
     "execution_count": 9,
     "metadata": {},
     "output_type": "execute_result"
    }
   ],
   "source": [
    "# numpy.random.ranf\n",
    "np.random.random_sample()"
   ]
  },
  {
   "cell_type": "markdown",
   "metadata": {},
   "source": [
    "- Displays what type of an integer it is."
   ]
  },
  {
   "cell_type": "code",
   "execution_count": 10,
   "metadata": {},
   "outputs": [
    {
     "data": {
      "text/plain": [
       "float"
      ]
     },
     "execution_count": 10,
     "metadata": {},
     "output_type": "execute_result"
    }
   ],
   "source": [
    "# Type of number\n",
    "type(np.random.random_sample())"
   ]
  },
  {
   "cell_type": "markdown",
   "metadata": {},
   "source": [
    "- Displays five random numbers."
   ]
  },
  {
   "cell_type": "code",
   "execution_count": 11,
   "metadata": {},
   "outputs": [
    {
     "data": {
      "text/plain": [
       "array([0.42286446, 0.65137396, 0.79122747, 0.7660565 , 0.04451356])"
      ]
     },
     "execution_count": 11,
     "metadata": {},
     "output_type": "execute_result"
    }
   ],
   "source": [
    "# Number of random numbers.\n",
    "np.random.random_sample((5,))"
   ]
  },
  {
   "cell_type": "markdown",
   "metadata": {},
   "source": [
    "- Three-by-two array of random numbers from [-5, 0)"
   ]
  },
  {
   "cell_type": "code",
   "execution_count": 20,
   "metadata": {
    "scrolled": true
   },
   "outputs": [
    {
     "data": {
      "text/plain": [
       "array([[-2.37581678, -0.55255226],\n",
       "       [-1.33825193, -2.79314097],\n",
       "       [-3.99042962, -0.21839269]])"
      ]
     },
     "execution_count": 20,
     "metadata": {},
     "output_type": "execute_result"
    }
   ],
   "source": [
    "# Three rows, two columns, numbers between -5 and 0.\n",
    "5 * np.random.random_sample((3, 2)) - 5"
   ]
  },
  {
   "cell_type": "markdown",
   "metadata": {},
   "source": [
    "#### Numpy.random.bytes"
   ]
  },
  {
   "cell_type": "code",
   "execution_count": 13,
   "metadata": {},
   "outputs": [
    {
     "data": {
      "text/plain": [
       "b'\\x96\\x18x{\\x1f\\x057\\xc31\\xdc\\xf5I\\x14Z\\xfcV|\\xa0'"
      ]
     },
     "execution_count": 13,
     "metadata": {},
     "output_type": "execute_result"
    }
   ],
   "source": [
    "# Returns random bytes.\n",
    "np.random.bytes(18)"
   ]
  },
  {
   "cell_type": "markdown",
   "metadata": {},
   "source": [
    "## Permutations \n",
    "- Next we will look at permutations shuffle and permutation , which is randomly permute a sequence, or return a permuted range."
   ]
  },
  {
   "cell_type": "markdown",
   "metadata": {},
   "source": [
    "#### Numpy.random.shuffle(x)\n",
    "- Random.shuffle function used to shuffle the sequence in place, it changes the position of items in a list.\n",
    "- Modify a sequence in-place by shuffling its contents."
   ]
  },
  {
   "cell_type": "code",
   "execution_count": 14,
   "metadata": {},
   "outputs": [
    {
     "data": {
      "text/plain": [
       "array([1, 0, 5, 2, 8, 3, 7, 6, 9, 4])"
      ]
     },
     "execution_count": 14,
     "metadata": {},
     "output_type": "execute_result"
    }
   ],
   "source": [
    "# Randomly shuffles the list.\n",
    "arr = np.arange(10)\n",
    "np.random.shuffle(arr)\n",
    "arr"
   ]
  },
  {
   "cell_type": "markdown",
   "metadata": {},
   "source": [
    "- If you want to shuffle as per your need, then you can pass your custom random function in the place of random argument, which will dictate shuffle function, and how it randomizes the items of a list. (Py.Native, 2019)\n",
    "- Can do the same with strings.\n"
   ]
  },
  {
   "cell_type": "code",
   "execution_count": 27,
   "metadata": {
    "scrolled": true
   },
   "outputs": [
    {
     "name": "stdout",
     "output_type": "stream",
     "text": [
      "List :  [5, 32, 21, 22, 56, 36, 34, 56, 6, 23]\n",
      "After first shuffle  :  [21, 36, 6, 23, 5, 22, 34, 56, 56, 32]\n",
      "After second shuffle :  [36, 5, 21, 56, 56, 6, 34, 32, 22, 23]\n"
     ]
    }
   ],
   "source": [
    "number_list = [5, 32, 21, 22, 56, 36, 34, 56, 6, 23]\n",
    "print (\"List : \",  number_list)\n",
    "\n",
    "random.shuffle(number_list)\n",
    "print (\"After first shuffle  : \",  number_list)\n",
    "\n",
    "random.shuffle(number_list)\n",
    "print (\"After second shuffle : \",  number_list)"
   ]
  },
  {
   "cell_type": "markdown",
   "metadata": {},
   "source": [
    "- Shuffle string/strings"
   ]
  },
  {
   "cell_type": "code",
   "execution_count": 32,
   "metadata": {},
   "outputs": [
    {
     "name": "stdout",
     "output_type": "stream",
     "text": [
      "Original String list:  ['Let it rain', 'Chelsea Football Club', 'John is there', \"Don't do it\", 'He left to go shopping', 'The bus stop', 'Leave the ball']\n",
      "String List after the first shuffle:  ['Chelsea Football Club', 'Let it rain', 'John is there', 'Leave the ball', \"Don't do it\", 'He left to go shopping', 'The bus stop']\n",
      "String List after the second shuffle:  [\"Don't do it\", 'Let it rain', 'The bus stop', 'John is there', 'He left to go shopping', 'Leave the ball', 'Chelsea Football Club']\n"
     ]
    }
   ],
   "source": [
    "string_list = [\"Let it rain\", \"Chelsea Football Club\", \"John is there\", \"Don't do it\", \"He left to go shopping\", \"The bus stop\", \"Leave the ball\"]\n",
    "print (\"Original String list: \",  string_list)\n",
    "\n",
    "\n",
    "random.shuffle(string_list)\n",
    "print (\"String List after the first shuffle: \",  string_list)\n",
    "\n",
    "\n",
    "\n",
    "random.shuffle(string_list)\n",
    "print (\"String List after the second shuffle: \",  string_list)\n"
   ]
  },
  {
   "cell_type": "code",
   "execution_count": 29,
   "metadata": {},
   "outputs": [
    {
     "name": "stdout",
     "output_type": "stream",
     "text": [
      "Original String:  chocalate\n",
      "shuffled String is:  aehcctalo\n"
     ]
    }
   ],
   "source": [
    "# Randomly shuffles a string\n",
    "string_one = \"chocalate\"\n",
    "print (\"Original String: \", string_one)\n",
    "\n",
    "char_list = list(string_one)\n",
    "\n",
    "random.shuffle(char_list)\n",
    "\n",
    "string_one = ''.join(char_list)\n",
    "print (\"shuffled String is: \", string_one)"
   ]
  },
  {
   "cell_type": "markdown",
   "metadata": {},
   "source": [
    "#### Numpy.random.permutation(x) \n",
    "Randomly permute a sequence, or return a permuted range. If x is a multi-dimensional array, it is only shuffled along its first index. (Sci.py.org)\n",
    "\n",
    "- If you want to generate random permutations of x, then what is the difference between shuffle(x) and permutation(x)?\n",
    "- np.random.permutation has two differences from np.random.shuffle:\n",
    "\n",
    "- If passed an array, it will return a shuffled copy of the array; np.random.shuffle shuffles the array in place.\n",
    "- If passed an integer, it will return a shuffled range i.e. np.random.shuffle(np.arange(n))\n",
    "- If x is an integer, randomly permute np.arange(x). If x is an array, make a copy and shuffle the elements randomly.\n",
    "- np.random.permutation is useful when you need to shuffle ordered pairs, especially for classification:\n",
    "\n",
    "(https://stackoverflow.com/questions/15474159/shuffle-vs-permute-numpy)"
   ]
  },
  {
   "cell_type": "code",
   "execution_count": 33,
   "metadata": {},
   "outputs": [
    {
     "data": {
      "text/plain": [
       "array([9, 1, 7, 5, 3, 8, 0, 4, 2, 6])"
      ]
     },
     "execution_count": 33,
     "metadata": {},
     "output_type": "execute_result"
    }
   ],
   "source": [
    "# Displays all the numbers from 0 to the number you enter.\n",
    "np.random.permutation(10)"
   ]
  },
  {
   "cell_type": "code",
   "execution_count": 34,
   "metadata": {
    "scrolled": true
   },
   "outputs": [
    {
     "data": {
      "text/plain": [
       "array([ 4,  9, 12,  1, 15])"
      ]
     },
     "execution_count": 34,
     "metadata": {},
     "output_type": "execute_result"
    }
   ],
   "source": [
    "# Outputs thenumbers you entered, randomly.\n",
    "np.random.permutation([1, 4, 9, 12, 15])"
   ]
  },
  {
   "cell_type": "code",
   "execution_count": 36,
   "metadata": {
    "scrolled": true
   },
   "outputs": [
    {
     "data": {
      "text/plain": [
       "array([[0, 1, 2],\n",
       "       [6, 7, 8],\n",
       "       [3, 4, 5]])"
      ]
     },
     "execution_count": 36,
     "metadata": {},
     "output_type": "execute_result"
    }
   ],
   "source": [
    "# Displays nums between 0 and 9, numerically in three rows.\n",
    "arr = np.arange(9).reshape((3, 3))\n",
    "np.random.permutation(arr)"
   ]
  },
  {
   "cell_type": "markdown",
   "metadata": {},
   "source": [
    "## Distribution Functions"
   ]
  },
  {
   "cell_type": "markdown",
   "metadata": {},
   "source": [
    "## Bibliography\n",
    "\n",
    "SciPy.org, 2018, Viewed on 2019/10/18, https://docs.scipy.org/doc/numpy-1.15.0/reference/routines.random.html\n",
    "\n",
    "APMonitor, Youtube, 2017, viewed on 2019/11/04, https://www.youtube.com/watch?v=Z2zUGmqIDto \n",
    "\n",
    "Stackoverflow, 2017, viewed on 2019/11/04, (https://stackoverflow.com/questions/15474159/shuffle-vs-permute-numpy)\n",
    "\n",
    "Py.Native, 2019, viewed on the 2019/11/05, https://pynative.com/python-random-shuffle/\n"
   ]
  },
  {
   "cell_type": "code",
   "execution_count": null,
   "metadata": {},
   "outputs": [],
   "source": []
  }
 ],
 "metadata": {
  "kernelspec": {
   "display_name": "Python 3",
   "language": "python",
   "name": "python3"
  },
  "language_info": {
   "codemirror_mode": {
    "name": "ipython",
    "version": 3
   },
   "file_extension": ".py",
   "mimetype": "text/x-python",
   "name": "python",
   "nbconvert_exporter": "python",
   "pygments_lexer": "ipython3",
   "version": "3.7.1"
  }
 },
 "nbformat": 4,
 "nbformat_minor": 2
}
